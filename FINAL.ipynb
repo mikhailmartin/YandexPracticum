{
 "cells": [
  {
   "cell_type": "markdown",
   "id": "82ee9e1c",
   "metadata": {},
   "source": [
    "<div style=\"border:solid Chocolate 2px; padding: 40px\">\n",
    "\n",
    "<b>Михаил, привет!👋</b>\n",
    "\n",
    "Меня зовут Ольга Бессолицына, тимлид, я буду проверять эту (как наверное и все) части твоего проекта. \n",
    "\n",
    "Пожалуйста, не удаляй мои комментарии, они будут особенно полезны для нашей работы в случае повторной проверки проекта. \n",
    "\n",
    "Ты можешь найти мои комментарии, обозначенные <font color='green'>зеленым</font>, <font color='gold'>желтым</font> и <font color='red'>красным</font> цветами, например:\n",
    "\n",
    "<br/>\n",
    "\n",
    "<div class=\"alert alert-success\">\n",
    "<h2> Комментарий тимлида <a class=\"tocSkip\"> </h2>\n",
    "\n",
    "<b>Все отлично!👍:</b> В случае, если решение на отдельном шаге является полностью правильным.\n",
    "</div>\n",
    "\n",
    "<br/>\n",
    "\n",
    "<div class=\"alert alert-warning\">\n",
    "    <h2> Комментарий тимлида <a class=\"tocSkip\"> </h2>\n",
    "    \n",
    "<b>Некоторые замечания и рекомендации💡:</b> В случае, когда решение на отдельном шаге станет еще лучше, если внести небольшие коррективы.\n",
    "</div>\n",
    "\n",
    "\n",
    "<br/>\n",
    "<div class=\"alert alert-block alert-danger\">\n",
    "<h2> Комментарий тимлида <a class=\"tocSkip\"></h2>\n",
    "\n",
    "    \n",
    "<b>На доработку🤔:</b>\n",
    " В случае, когда решение на отдельном шаге требует существенной переработки и внесения правок. Напоминаю, что проект не может быть принят с первого раза, если ревью содержит комментарии, рекомендующие доработать шаги.\n",
    "</div>"
   ]
  },
  {
   "cell_type": "markdown",
   "id": "2190803d",
   "metadata": {},
   "source": [
    "# Финальный проект \"Телеком\"\n",
    "\n",
    "__Содержание__\n",
    "- [Описание проекта](#Описание-проекта)\n",
    "- [План](#План)\n",
    "- [Код](#Код)\n",
    "   - [Предварительная обработка](#Предварительная-обработка)\n",
    "   - [EDA](#EDA)\n",
    "   - [Моделирование](#Моделирование)\n",
    "   - [Тестирование](#Тестирование)\n",
    "- [Отчёт](#Отчёт)"
   ]
  },
  {
   "cell_type": "markdown",
   "id": "6ef90b53",
   "metadata": {},
   "source": [
    "## Описание проекта\n",
    "\n",
    "Оператор связи «Ниединогоразрыва.ком» хочет научиться прогнозировать отток клиентов. Если выяснится, что пользователь планирует уйти, ему будут предложены промокоды и специальные условия. Команда оператора собрала персональные данные о некоторых клиентах, информацию об их тарифах и договорах.\n",
    "\n",
    "__Описание услуг__  \n",
    "Оператор предоставляет два основных типа услуг:\n",
    "1. Стационарную телефонную связь. Возможно подключение телефонного аппарата к нескольким линиям одновременно.\n",
    "2. Интернет. Подключение может быть двух типов: через телефонную линию (DSL, от англ. _digital subscriber line_, «цифровая абонентская линия») или оптоволоконный кабель (_Fiber optic_).\n",
    "\n",
    "Также доступны такие услуги:\n",
    "- Интернет-безопасность: антивирус (`DeviceProtection`) и блокировка небезопасных сайтов (`OnlineSecurity`);\n",
    "- Выделенная линия технической поддержки (`TechSupport`);\n",
    "- Облачное хранилище файлов для резервного копирования данных (`OnlineBackup`);\n",
    "- Стриминговое телевидение (`StreamingTV`) и каталог фильмов (`StreamingMovies`).\n",
    "\n",
    "За услуги клиенты могут платить каждый месяц или заключить договор на 1–2 года. Доступны различные способы расчёта и возможность получения электронного чека.\n",
    "\n",
    "__Описание данных__  \n",
    "Данные состоят из файлов, полученных из разных источников:\n",
    "- `contract.csv` — информация о договоре;\n",
    "- `personal.csv` — персональные данные клиента;\n",
    "- `internet.csv` — информация об интернет-услугах;\n",
    "- `phone.csv` — информация об услугах телефонии.\n",
    "\n",
    "Во всех файлах столбец `customerID` содержит код клиента.\n",
    "\n",
    "Информация о договорах актуальна на 1 февраля 2020.\n",
    "\n",
    "__Описание полей в данных__\n",
    "- `BeginDate` – дата начала пользования услугами,\n",
    "- `EndDate` – дата окончания пользования услугами,\n",
    "- `Type` – тип договора: ежемесячный, годовой и т.д,\n",
    "- `PaperlessBilling` – факт выставления счёта на электронную почту,\n",
    "- `PaymentMethod` – способ оплаты,\n",
    "- `MonthlyCharges` – ежемесячные траты на услуги,\n",
    "- `TotalCharges` – всего потрачено денег на услуги,\n",
    "- `Dependents` – наличие иждивенцев,\n",
    "- `SeniorCitizen` – наличие пенсионного статуса по возрасту,\n",
    "- `Partner` – наличие супруга(и),\n",
    "- `MultipleLines` – наличие возможности ведения параллельных линий во время звонка."
   ]
  },
  {
   "cell_type": "markdown",
   "id": "54221f60",
   "metadata": {},
   "source": [
    "<div class=\"alert alert-success\">\n",
    "<h2> Комментарий тимлида <a class=\"tocSkip\"> </h2>\n",
    "\n",
    "<b>Все отлично!👍:</b>\n",
    " Молодец, что не забываешь про заголовок и описание, это важно, так и самому удобнее работать, когда они всегда на виду, так и другим будет проще понять, что происходит в твоей тетради :)\n",
    "</div>"
   ]
  },
  {
   "cell_type": "markdown",
   "id": "3e12e1a7",
   "metadata": {},
   "source": [
    "## План\n",
    "\n",
    "- Предварительная обработка данных\n",
    "- Исследовательский анализ данных\n",
    "- Моделирование\n",
    "- Тестирование\n",
    "- Формирование отчёта"
   ]
  },
  {
   "cell_type": "markdown",
   "id": "d0708390",
   "metadata": {},
   "source": [
    "<div class=\"alert alert-warning\">\n",
    "    <h2> Комментарий тимлида <a class=\"tocSkip\"> </h2>\n",
    "    \n",
    "<b>Некоторые замечания и рекомендации💡:</b> по плану - ок, но можно расписать подробнее, что входит в эти этапы?"
   ]
  },
  {
   "cell_type": "code",
   "execution_count": 1,
   "id": "5e2bf70d",
   "metadata": {},
   "outputs": [],
   "source": [
    "import os\n",
    "\n",
    "import matplotlib.pyplot as plt\n",
    "import pandas as pd"
   ]
  },
  {
   "cell_type": "code",
   "execution_count": 2,
   "id": "401ca122",
   "metadata": {},
   "outputs": [],
   "source": [
    "DATA_PATH = os.path.join('datasets', 'final_provider')\n",
    "\n",
    "RANDOM_STATE = 100423"
   ]
  },
  {
   "cell_type": "code",
   "execution_count": 3,
   "id": "277c84b9",
   "metadata": {},
   "outputs": [],
   "source": [
    "contract_df = pd.read_csv(os.path.join(DATA_PATH, 'contract.csv'))\n",
    "personal_df = pd.read_csv(os.path.join(DATA_PATH, 'personal.csv'))\n",
    "internet_df = pd.read_csv(os.path.join(DATA_PATH, 'internet.csv'))\n",
    "phone_df = pd.read_csv(os.path.join(DATA_PATH, 'phone.csv'))"
   ]
  },
  {
   "cell_type": "markdown",
   "id": "3119c2f3",
   "metadata": {},
   "source": [
    "<div class=\"alert alert-block alert-danger\">\n",
    "<h2> Комментарий тимлида <a class=\"tocSkip\"></h2>\n",
    "\n",
    "    \n",
    "<b>На доработку🤔:</b> ошибка в загрузке данных, не хватает слэша перед указанием директории"
   ]
  },
  {
   "cell_type": "markdown",
   "id": "e3b86c71",
   "metadata": {},
   "source": [
    "<div class=\"alert\" style=\"background-color: #ead7f7; color: #8737bf\">\n",
    "<font size=\"3\"><b>Комментарий студента</b></font>\n",
    "    \n",
    "эм ...\n",
    "    \n",
    "А почему он здесь должен быть? Я выполняю проект локально на своём ПК (кстати, как сказано в задании), я задаю путь относительный. Вы запускаете тетрадку скорее всего в облачке с UNIX-подобной системой, где путь указывается абсолютный.\n",
    "    \n",
    "В чём проблема то?\n",
    "</div>"
   ]
  },
  {
   "cell_type": "markdown",
   "id": "09052abf",
   "metadata": {},
   "source": [
    "__contract__"
   ]
  },
  {
   "cell_type": "code",
   "execution_count": 4,
   "id": "bd79ae1b",
   "metadata": {},
   "outputs": [
    {
     "data": {
      "text/html": [
       "<div>\n",
       "<style scoped>\n",
       "    .dataframe tbody tr th:only-of-type {\n",
       "        vertical-align: middle;\n",
       "    }\n",
       "\n",
       "    .dataframe tbody tr th {\n",
       "        vertical-align: top;\n",
       "    }\n",
       "\n",
       "    .dataframe thead th {\n",
       "        text-align: right;\n",
       "    }\n",
       "</style>\n",
       "<table border=\"1\" class=\"dataframe\">\n",
       "  <thead>\n",
       "    <tr style=\"text-align: right;\">\n",
       "      <th></th>\n",
       "      <th>customerID</th>\n",
       "      <th>BeginDate</th>\n",
       "      <th>EndDate</th>\n",
       "      <th>Type</th>\n",
       "      <th>PaperlessBilling</th>\n",
       "      <th>PaymentMethod</th>\n",
       "      <th>MonthlyCharges</th>\n",
       "      <th>TotalCharges</th>\n",
       "    </tr>\n",
       "  </thead>\n",
       "  <tbody>\n",
       "    <tr>\n",
       "      <th>0</th>\n",
       "      <td>7590-VHVEG</td>\n",
       "      <td>2020-01-01</td>\n",
       "      <td>No</td>\n",
       "      <td>Month-to-month</td>\n",
       "      <td>Yes</td>\n",
       "      <td>Electronic check</td>\n",
       "      <td>29.85</td>\n",
       "      <td>29.85</td>\n",
       "    </tr>\n",
       "    <tr>\n",
       "      <th>1</th>\n",
       "      <td>5575-GNVDE</td>\n",
       "      <td>2017-04-01</td>\n",
       "      <td>No</td>\n",
       "      <td>One year</td>\n",
       "      <td>No</td>\n",
       "      <td>Mailed check</td>\n",
       "      <td>56.95</td>\n",
       "      <td>1889.5</td>\n",
       "    </tr>\n",
       "    <tr>\n",
       "      <th>2</th>\n",
       "      <td>3668-QPYBK</td>\n",
       "      <td>2019-10-01</td>\n",
       "      <td>2019-12-01 00:00:00</td>\n",
       "      <td>Month-to-month</td>\n",
       "      <td>Yes</td>\n",
       "      <td>Mailed check</td>\n",
       "      <td>53.85</td>\n",
       "      <td>108.15</td>\n",
       "    </tr>\n",
       "    <tr>\n",
       "      <th>3</th>\n",
       "      <td>7795-CFOCW</td>\n",
       "      <td>2016-05-01</td>\n",
       "      <td>No</td>\n",
       "      <td>One year</td>\n",
       "      <td>No</td>\n",
       "      <td>Bank transfer (automatic)</td>\n",
       "      <td>42.30</td>\n",
       "      <td>1840.75</td>\n",
       "    </tr>\n",
       "    <tr>\n",
       "      <th>4</th>\n",
       "      <td>9237-HQITU</td>\n",
       "      <td>2019-09-01</td>\n",
       "      <td>2019-11-01 00:00:00</td>\n",
       "      <td>Month-to-month</td>\n",
       "      <td>Yes</td>\n",
       "      <td>Electronic check</td>\n",
       "      <td>70.70</td>\n",
       "      <td>151.65</td>\n",
       "    </tr>\n",
       "  </tbody>\n",
       "</table>\n",
       "</div>"
      ],
      "text/plain": [
       "   customerID   BeginDate              EndDate            Type  \\\n",
       "0  7590-VHVEG  2020-01-01                   No  Month-to-month   \n",
       "1  5575-GNVDE  2017-04-01                   No        One year   \n",
       "2  3668-QPYBK  2019-10-01  2019-12-01 00:00:00  Month-to-month   \n",
       "3  7795-CFOCW  2016-05-01                   No        One year   \n",
       "4  9237-HQITU  2019-09-01  2019-11-01 00:00:00  Month-to-month   \n",
       "\n",
       "  PaperlessBilling              PaymentMethod  MonthlyCharges TotalCharges  \n",
       "0              Yes           Electronic check           29.85        29.85  \n",
       "1               No               Mailed check           56.95       1889.5  \n",
       "2              Yes               Mailed check           53.85       108.15  \n",
       "3               No  Bank transfer (automatic)           42.30      1840.75  \n",
       "4              Yes           Electronic check           70.70       151.65  "
      ]
     },
     "execution_count": 4,
     "metadata": {},
     "output_type": "execute_result"
    }
   ],
   "source": [
    "contract_df.head()"
   ]
  },
  {
   "cell_type": "code",
   "execution_count": 5,
   "id": "fcee634a",
   "metadata": {},
   "outputs": [
    {
     "name": "stdout",
     "output_type": "stream",
     "text": [
      "<class 'pandas.core.frame.DataFrame'>\n",
      "RangeIndex: 7043 entries, 0 to 7042\n",
      "Data columns (total 8 columns):\n",
      " #   Column            Non-Null Count  Dtype  \n",
      "---  ------            --------------  -----  \n",
      " 0   customerID        7043 non-null   object \n",
      " 1   BeginDate         7043 non-null   object \n",
      " 2   EndDate           7043 non-null   object \n",
      " 3   Type              7043 non-null   object \n",
      " 4   PaperlessBilling  7043 non-null   object \n",
      " 5   PaymentMethod     7043 non-null   object \n",
      " 6   MonthlyCharges    7043 non-null   float64\n",
      " 7   TotalCharges      7043 non-null   object \n",
      "dtypes: float64(1), object(7)\n",
      "memory usage: 440.3+ KB\n"
     ]
    }
   ],
   "source": [
    "contract_df.info()"
   ]
  },
  {
   "cell_type": "code",
   "execution_count": 6,
   "id": "57784bde",
   "metadata": {},
   "outputs": [
    {
     "data": {
      "text/plain": [
       "7043"
      ]
     },
     "execution_count": 6,
     "metadata": {},
     "output_type": "execute_result"
    }
   ],
   "source": [
    "contract_df['customerID'].nunique()"
   ]
  },
  {
   "cell_type": "code",
   "execution_count": 7,
   "id": "0954b8f3",
   "metadata": {},
   "outputs": [
    {
     "data": {
      "text/plain": [
       "0   2020-01-01\n",
       "1   2017-04-01\n",
       "2   2019-10-01\n",
       "3   2016-05-01\n",
       "4   2019-09-01\n",
       "Name: BeginDate, dtype: datetime64[ns]"
      ]
     },
     "execution_count": 7,
     "metadata": {},
     "output_type": "execute_result"
    }
   ],
   "source": [
    "pd.to_datetime(contract_df['BeginDate']).head()  # отлично, переводится без проблем"
   ]
  },
  {
   "cell_type": "code",
   "execution_count": 8,
   "id": "18e4be40",
   "metadata": {},
   "outputs": [
    {
     "data": {
      "text/plain": [
       "2    2019-12-01\n",
       "4    2019-11-01\n",
       "5    2019-11-01\n",
       "8    2019-11-01\n",
       "13   2019-10-01\n",
       "Name: EndDate, dtype: datetime64[ns]"
      ]
     },
     "execution_count": 8,
     "metadata": {},
     "output_type": "execute_result"
    }
   ],
   "source": [
    "pd.to_datetime(contract_df.loc[contract_df['EndDate'] != 'No', 'EndDate']).head()  # отлично, переводится без проблем"
   ]
  },
  {
   "cell_type": "code",
   "execution_count": 9,
   "id": "153fb154",
   "metadata": {},
   "outputs": [
    {
     "data": {
      "text/plain": [
       "array(['Month-to-month', 'One year', 'Two year'], dtype=object)"
      ]
     },
     "execution_count": 9,
     "metadata": {},
     "output_type": "execute_result"
    }
   ],
   "source": [
    "contract_df['Type'].unique()"
   ]
  },
  {
   "cell_type": "code",
   "execution_count": 10,
   "id": "dea1c7bd",
   "metadata": {},
   "outputs": [
    {
     "data": {
      "text/plain": [
       "array(['Yes', 'No'], dtype=object)"
      ]
     },
     "execution_count": 10,
     "metadata": {},
     "output_type": "execute_result"
    }
   ],
   "source": [
    "contract_df['PaperlessBilling'].unique()"
   ]
  },
  {
   "cell_type": "code",
   "execution_count": 11,
   "id": "a18a6ec2",
   "metadata": {},
   "outputs": [
    {
     "data": {
      "text/plain": [
       "array(['Electronic check', 'Mailed check', 'Bank transfer (automatic)',\n",
       "       'Credit card (automatic)'], dtype=object)"
      ]
     },
     "execution_count": 11,
     "metadata": {},
     "output_type": "execute_result"
    }
   ],
   "source": [
    "contract_df['PaymentMethod'].unique()"
   ]
  },
  {
   "cell_type": "code",
   "execution_count": 12,
   "id": "4db08bb3",
   "metadata": {},
   "outputs": [
    {
     "data": {
      "image/png": "[encoded data removed]",
      "text/plain": [
       "<Figure size 1200x500 with 1 Axes>"
      ]
     },
     "metadata": {},
     "output_type": "display_data"
    }
   ],
   "source": [
    "fig, ax = plt.subplots(figsize=(12, 5))\n",
    "\n",
    "contract_df['MonthlyCharges'].hist(bins=20, ax=ax)\n",
    "ax.set_xlabel('MonthlyCharges')\n",
    "\n",
    "plt.show()"
   ]
  },
  {
   "cell_type": "code",
   "execution_count": 13,
   "id": "18ad0edc",
   "metadata": {},
   "outputs": [
    {
     "data": {
      "text/plain": [
       "0      29.85\n",
       "1    1889.50\n",
       "2     108.15\n",
       "3    1840.75\n",
       "4     151.65\n",
       "Name: TotalCharges, dtype: float64"
      ]
     },
     "execution_count": 13,
     "metadata": {},
     "output_type": "execute_result"
    }
   ],
   "source": [
    "contract_df.loc[contract_df['TotalCharges'] != ' ', 'TotalCharges'].astype('float').head()"
   ]
  },
  {
   "cell_type": "code",
   "execution_count": 14,
   "id": "e2b32f0a",
   "metadata": {},
   "outputs": [
    {
     "data": {
      "text/plain": [
       "488      \n",
       "753      \n",
       "936      \n",
       "1082     \n",
       "1340     \n",
       "3331     \n",
       "3826     \n",
       "4380     \n",
       "5218     \n",
       "6670     \n",
       "6754     \n",
       "Name: TotalCharges, dtype: object"
      ]
     },
     "execution_count": 14,
     "metadata": {},
     "output_type": "execute_result"
    }
   ],
   "source": [
    "contract_df.loc[contract_df['TotalCharges'] == ' ', 'TotalCharges']  # эти примеры можно и откинуть"
   ]
  },
  {
   "cell_type": "markdown",
   "id": "5ca3d6f5",
   "metadata": {},
   "source": [
    "__Вывод:__\n",
    "- Данные в табличке `contract` содержат 8 полей\n",
    "- Поле `customerID` содержит уникальные ID клиентов\n",
    "- Поля `BeginDate` и `EndDate` содержат даты. `EndDate` также может принимать значение `No`\n",
    "- Поля `Type`, `PaperlessBilling` и `PaymentMethod` являются категориальными. `PaymentMethod` даже бинарный\n",
    "- Поля `MonthlyCharges` и `TotalCharges` являются численными непрерывными. `TotalCharges` имеет несколько значений \"пробелов\", которые можно откинуть."
   ]
  },
  {
   "cell_type": "markdown",
   "id": "6835e0ed",
   "metadata": {},
   "source": [
    "<div class=\"alert alert-success\">\n",
    "<h2> Комментарий тимлида <a class=\"tocSkip\"> </h2>\n",
    "\n",
    "<b>Все отлично!👍:</b> согласна"
   ]
  },
  {
   "cell_type": "markdown",
   "id": "4010e0c3",
   "metadata": {},
   "source": [
    "__personal__"
   ]
  },
  {
   "cell_type": "code",
   "execution_count": 15,
   "id": "fb9b52bf",
   "metadata": {},
   "outputs": [
    {
     "data": {
      "text/html": [
       "<div>\n",
       "<style scoped>\n",
       "    .dataframe tbody tr th:only-of-type {\n",
       "        vertical-align: middle;\n",
       "    }\n",
       "\n",
       "    .dataframe tbody tr th {\n",
       "        vertical-align: top;\n",
       "    }\n",
       "\n",
       "    .dataframe thead th {\n",
       "        text-align: right;\n",
       "    }\n",
       "</style>\n",
       "<table border=\"1\" class=\"dataframe\">\n",
       "  <thead>\n",
       "    <tr style=\"text-align: right;\">\n",
       "      <th></th>\n",
       "      <th>customerID</th>\n",
       "      <th>gender</th>\n",
       "      <th>SeniorCitizen</th>\n",
       "      <th>Partner</th>\n",
       "      <th>Dependents</th>\n",
       "    </tr>\n",
       "  </thead>\n",
       "  <tbody>\n",
       "    <tr>\n",
       "      <th>0</th>\n",
       "      <td>7590-VHVEG</td>\n",
       "      <td>Female</td>\n",
       "      <td>0</td>\n",
       "      <td>Yes</td>\n",
       "      <td>No</td>\n",
       "    </tr>\n",
       "    <tr>\n",
       "      <th>1</th>\n",
       "      <td>5575-GNVDE</td>\n",
       "      <td>Male</td>\n",
       "      <td>0</td>\n",
       "      <td>No</td>\n",
       "      <td>No</td>\n",
       "    </tr>\n",
       "    <tr>\n",
       "      <th>2</th>\n",
       "      <td>3668-QPYBK</td>\n",
       "      <td>Male</td>\n",
       "      <td>0</td>\n",
       "      <td>No</td>\n",
       "      <td>No</td>\n",
       "    </tr>\n",
       "    <tr>\n",
       "      <th>3</th>\n",
       "      <td>7795-CFOCW</td>\n",
       "      <td>Male</td>\n",
       "      <td>0</td>\n",
       "      <td>No</td>\n",
       "      <td>No</td>\n",
       "    </tr>\n",
       "    <tr>\n",
       "      <th>4</th>\n",
       "      <td>9237-HQITU</td>\n",
       "      <td>Female</td>\n",
       "      <td>0</td>\n",
       "      <td>No</td>\n",
       "      <td>No</td>\n",
       "    </tr>\n",
       "  </tbody>\n",
       "</table>\n",
       "</div>"
      ],
      "text/plain": [
       "   customerID  gender  SeniorCitizen Partner Dependents\n",
       "0  7590-VHVEG  Female              0     Yes         No\n",
       "1  5575-GNVDE    Male              0      No         No\n",
       "2  3668-QPYBK    Male              0      No         No\n",
       "3  7795-CFOCW    Male              0      No         No\n",
       "4  9237-HQITU  Female              0      No         No"
      ]
     },
     "execution_count": 15,
     "metadata": {},
     "output_type": "execute_result"
    }
   ],
   "source": [
    "personal_df.head()"
   ]
  },
  {
   "cell_type": "code",
   "execution_count": 16,
   "id": "1378ed4a",
   "metadata": {},
   "outputs": [
    {
     "name": "stdout",
     "output_type": "stream",
     "text": [
      "<class 'pandas.core.frame.DataFrame'>\n",
      "RangeIndex: 7043 entries, 0 to 7042\n",
      "Data columns (total 5 columns):\n",
      " #   Column         Non-Null Count  Dtype \n",
      "---  ------         --------------  ----- \n",
      " 0   customerID     7043 non-null   object\n",
      " 1   gender         7043 non-null   object\n",
      " 2   SeniorCitizen  7043 non-null   int64 \n",
      " 3   Partner        7043 non-null   object\n",
      " 4   Dependents     7043 non-null   object\n",
      "dtypes: int64(1), object(4)\n",
      "memory usage: 275.2+ KB\n"
     ]
    }
   ],
   "source": [
    "personal_df.info()"
   ]
  },
  {
   "cell_type": "code",
   "execution_count": 17,
   "id": "e17d23cf",
   "metadata": {},
   "outputs": [
    {
     "data": {
      "text/plain": [
       "7043"
      ]
     },
     "execution_count": 17,
     "metadata": {},
     "output_type": "execute_result"
    }
   ],
   "source": [
    "personal_df['customerID'].nunique()"
   ]
  },
  {
   "cell_type": "code",
   "execution_count": 18,
   "id": "de36ef48",
   "metadata": {},
   "outputs": [
    {
     "data": {
      "text/plain": [
       "array(['Female', 'Male'], dtype=object)"
      ]
     },
     "execution_count": 18,
     "metadata": {},
     "output_type": "execute_result"
    }
   ],
   "source": [
    "personal_df['gender'].unique()"
   ]
  },
  {
   "cell_type": "code",
   "execution_count": 19,
   "id": "6f461d2f",
   "metadata": {},
   "outputs": [
    {
     "data": {
      "text/plain": [
       "array([0, 1], dtype=int64)"
      ]
     },
     "execution_count": 19,
     "metadata": {},
     "output_type": "execute_result"
    }
   ],
   "source": [
    "personal_df['SeniorCitizen'].unique()"
   ]
  },
  {
   "cell_type": "code",
   "execution_count": 20,
   "id": "efb33a18",
   "metadata": {},
   "outputs": [
    {
     "data": {
      "text/plain": [
       "array(['Yes', 'No'], dtype=object)"
      ]
     },
     "execution_count": 20,
     "metadata": {},
     "output_type": "execute_result"
    }
   ],
   "source": [
    "personal_df['Partner'].unique()"
   ]
  },
  {
   "cell_type": "code",
   "execution_count": 21,
   "id": "69a80e2e",
   "metadata": {},
   "outputs": [
    {
     "data": {
      "text/plain": [
       "array(['No', 'Yes'], dtype=object)"
      ]
     },
     "execution_count": 21,
     "metadata": {},
     "output_type": "execute_result"
    }
   ],
   "source": [
    "personal_df['Dependents'].unique()"
   ]
  },
  {
   "cell_type": "markdown",
   "id": "8e3bcebc",
   "metadata": {},
   "source": [
    "__Вывод:__\n",
    "- Данные в табличке `personal` содержат 4 поля\n",
    "- Поле `customerID` содержит уникальные ID клиентов\n",
    "- Остальные поля являются бинарными."
   ]
  },
  {
   "cell_type": "markdown",
   "id": "1a53a77d",
   "metadata": {},
   "source": [
    "__internet__"
   ]
  },
  {
   "cell_type": "code",
   "execution_count": 22,
   "id": "600c4996",
   "metadata": {},
   "outputs": [
    {
     "data": {
      "text/html": [
       "<div>\n",
       "<style scoped>\n",
       "    .dataframe tbody tr th:only-of-type {\n",
       "        vertical-align: middle;\n",
       "    }\n",
       "\n",
       "    .dataframe tbody tr th {\n",
       "        vertical-align: top;\n",
       "    }\n",
       "\n",
       "    .dataframe thead th {\n",
       "        text-align: right;\n",
       "    }\n",
       "</style>\n",
       "<table border=\"1\" class=\"dataframe\">\n",
       "  <thead>\n",
       "    <tr style=\"text-align: right;\">\n",
       "      <th></th>\n",
       "      <th>customerID</th>\n",
       "      <th>InternetService</th>\n",
       "      <th>OnlineSecurity</th>\n",
       "      <th>OnlineBackup</th>\n",
       "      <th>DeviceProtection</th>\n",
       "      <th>TechSupport</th>\n",
       "      <th>StreamingTV</th>\n",
       "      <th>StreamingMovies</th>\n",
       "    </tr>\n",
       "  </thead>\n",
       "  <tbody>\n",
       "    <tr>\n",
       "      <th>0</th>\n",
       "      <td>7590-VHVEG</td>\n",
       "      <td>DSL</td>\n",
       "      <td>No</td>\n",
       "      <td>Yes</td>\n",
       "      <td>No</td>\n",
       "      <td>No</td>\n",
       "      <td>No</td>\n",
       "      <td>No</td>\n",
       "    </tr>\n",
       "    <tr>\n",
       "      <th>1</th>\n",
       "      <td>5575-GNVDE</td>\n",
       "      <td>DSL</td>\n",
       "      <td>Yes</td>\n",
       "      <td>No</td>\n",
       "      <td>Yes</td>\n",
       "      <td>No</td>\n",
       "      <td>No</td>\n",
       "      <td>No</td>\n",
       "    </tr>\n",
       "    <tr>\n",
       "      <th>2</th>\n",
       "      <td>3668-QPYBK</td>\n",
       "      <td>DSL</td>\n",
       "      <td>Yes</td>\n",
       "      <td>Yes</td>\n",
       "      <td>No</td>\n",
       "      <td>No</td>\n",
       "      <td>No</td>\n",
       "      <td>No</td>\n",
       "    </tr>\n",
       "    <tr>\n",
       "      <th>3</th>\n",
       "      <td>7795-CFOCW</td>\n",
       "      <td>DSL</td>\n",
       "      <td>Yes</td>\n",
       "      <td>No</td>\n",
       "      <td>Yes</td>\n",
       "      <td>Yes</td>\n",
       "      <td>No</td>\n",
       "      <td>No</td>\n",
       "    </tr>\n",
       "    <tr>\n",
       "      <th>4</th>\n",
       "      <td>9237-HQITU</td>\n",
       "      <td>Fiber optic</td>\n",
       "      <td>No</td>\n",
       "      <td>No</td>\n",
       "      <td>No</td>\n",
       "      <td>No</td>\n",
       "      <td>No</td>\n",
       "      <td>No</td>\n",
       "    </tr>\n",
       "  </tbody>\n",
       "</table>\n",
       "</div>"
      ],
      "text/plain": [
       "   customerID InternetService OnlineSecurity OnlineBackup DeviceProtection  \\\n",
       "0  7590-VHVEG             DSL             No          Yes               No   \n",
       "1  5575-GNVDE             DSL            Yes           No              Yes   \n",
       "2  3668-QPYBK             DSL            Yes          Yes               No   \n",
       "3  7795-CFOCW             DSL            Yes           No              Yes   \n",
       "4  9237-HQITU     Fiber optic             No           No               No   \n",
       "\n",
       "  TechSupport StreamingTV StreamingMovies  \n",
       "0          No          No              No  \n",
       "1          No          No              No  \n",
       "2          No          No              No  \n",
       "3         Yes          No              No  \n",
       "4          No          No              No  "
      ]
     },
     "execution_count": 22,
     "metadata": {},
     "output_type": "execute_result"
    }
   ],
   "source": [
    "internet_df.head()"
   ]
  },
  {
   "cell_type": "code",
   "execution_count": 23,
   "id": "a2bfd103",
   "metadata": {},
   "outputs": [
    {
     "name": "stdout",
     "output_type": "stream",
     "text": [
      "<class 'pandas.core.frame.DataFrame'>\n",
      "RangeIndex: 5517 entries, 0 to 5516\n",
      "Data columns (total 8 columns):\n",
      " #   Column            Non-Null Count  Dtype \n",
      "---  ------            --------------  ----- \n",
      " 0   customerID        5517 non-null   object\n",
      " 1   InternetService   5517 non-null   object\n",
      " 2   OnlineSecurity    5517 non-null   object\n",
      " 3   OnlineBackup      5517 non-null   object\n",
      " 4   DeviceProtection  5517 non-null   object\n",
      " 5   TechSupport       5517 non-null   object\n",
      " 6   StreamingTV       5517 non-null   object\n",
      " 7   StreamingMovies   5517 non-null   object\n",
      "dtypes: object(8)\n",
      "memory usage: 344.9+ KB\n"
     ]
    }
   ],
   "source": [
    "internet_df.info()"
   ]
  },
  {
   "cell_type": "code",
   "execution_count": 24,
   "id": "4c042628",
   "metadata": {},
   "outputs": [
    {
     "data": {
      "text/plain": [
       "5517"
      ]
     },
     "execution_count": 24,
     "metadata": {},
     "output_type": "execute_result"
    }
   ],
   "source": [
    "internet_df['customerID'].nunique()"
   ]
  },
  {
   "cell_type": "code",
   "execution_count": 25,
   "id": "11a7661c",
   "metadata": {},
   "outputs": [
    {
     "data": {
      "text/plain": [
       "array(['DSL', 'Fiber optic'], dtype=object)"
      ]
     },
     "execution_count": 25,
     "metadata": {},
     "output_type": "execute_result"
    }
   ],
   "source": [
    "internet_df['InternetService'].unique()"
   ]
  },
  {
   "cell_type": "code",
   "execution_count": 26,
   "id": "44d2c782",
   "metadata": {},
   "outputs": [
    {
     "data": {
      "text/plain": [
       "array(['No', 'Yes'], dtype=object)"
      ]
     },
     "execution_count": 26,
     "metadata": {},
     "output_type": "execute_result"
    }
   ],
   "source": [
    "internet_df['OnlineSecurity'].unique()"
   ]
  },
  {
   "cell_type": "code",
   "execution_count": 27,
   "id": "610ff390",
   "metadata": {},
   "outputs": [
    {
     "data": {
      "text/plain": [
       "array(['Yes', 'No'], dtype=object)"
      ]
     },
     "execution_count": 27,
     "metadata": {},
     "output_type": "execute_result"
    }
   ],
   "source": [
    "internet_df['OnlineBackup'].unique()"
   ]
  },
  {
   "cell_type": "code",
   "execution_count": 28,
   "id": "c5bb8e06",
   "metadata": {},
   "outputs": [
    {
     "data": {
      "text/plain": [
       "array(['No', 'Yes'], dtype=object)"
      ]
     },
     "execution_count": 28,
     "metadata": {},
     "output_type": "execute_result"
    }
   ],
   "source": [
    "internet_df['DeviceProtection'].unique()"
   ]
  },
  {
   "cell_type": "code",
   "execution_count": 29,
   "id": "0584e5cd",
   "metadata": {},
   "outputs": [
    {
     "data": {
      "text/plain": [
       "array(['No', 'Yes'], dtype=object)"
      ]
     },
     "execution_count": 29,
     "metadata": {},
     "output_type": "execute_result"
    }
   ],
   "source": [
    "internet_df['TechSupport'].unique()"
   ]
  },
  {
   "cell_type": "code",
   "execution_count": 30,
   "id": "905e0a75",
   "metadata": {},
   "outputs": [
    {
     "data": {
      "text/plain": [
       "array(['No', 'Yes'], dtype=object)"
      ]
     },
     "execution_count": 30,
     "metadata": {},
     "output_type": "execute_result"
    }
   ],
   "source": [
    "internet_df['StreamingTV'].unique()"
   ]
  },
  {
   "cell_type": "code",
   "execution_count": 31,
   "id": "f26c916d",
   "metadata": {},
   "outputs": [
    {
     "data": {
      "text/plain": [
       "array(['No', 'Yes'], dtype=object)"
      ]
     },
     "execution_count": 31,
     "metadata": {},
     "output_type": "execute_result"
    }
   ],
   "source": [
    "internet_df['StreamingMovies'].unique()"
   ]
  },
  {
   "cell_type": "markdown",
   "id": "536dfc94",
   "metadata": {},
   "source": [
    "__Вывод:__\n",
    "- Данные в табличке `internet` содержат 8 полей\n",
    "- Поле `customerID` содержит уникальные ID клиентов\n",
    "- Остальные поля являются бинарными, кроме `InternetService`. Он имеет 3 значения"
   ]
  },
  {
   "cell_type": "markdown",
   "id": "1196034d",
   "metadata": {},
   "source": [
    "__phone__"
   ]
  },
  {
   "cell_type": "code",
   "execution_count": 32,
   "id": "58ade664",
   "metadata": {},
   "outputs": [
    {
     "data": {
      "text/html": [
       "<div>\n",
       "<style scoped>\n",
       "    .dataframe tbody tr th:only-of-type {\n",
       "        vertical-align: middle;\n",
       "    }\n",
       "\n",
       "    .dataframe tbody tr th {\n",
       "        vertical-align: top;\n",
       "    }\n",
       "\n",
       "    .dataframe thead th {\n",
       "        text-align: right;\n",
       "    }\n",
       "</style>\n",
       "<table border=\"1\" class=\"dataframe\">\n",
       "  <thead>\n",
       "    <tr style=\"text-align: right;\">\n",
       "      <th></th>\n",
       "      <th>customerID</th>\n",
       "      <th>MultipleLines</th>\n",
       "    </tr>\n",
       "  </thead>\n",
       "  <tbody>\n",
       "    <tr>\n",
       "      <th>0</th>\n",
       "      <td>5575-GNVDE</td>\n",
       "      <td>No</td>\n",
       "    </tr>\n",
       "    <tr>\n",
       "      <th>1</th>\n",
       "      <td>3668-QPYBK</td>\n",
       "      <td>No</td>\n",
       "    </tr>\n",
       "    <tr>\n",
       "      <th>2</th>\n",
       "      <td>9237-HQITU</td>\n",
       "      <td>No</td>\n",
       "    </tr>\n",
       "    <tr>\n",
       "      <th>3</th>\n",
       "      <td>9305-CDSKC</td>\n",
       "      <td>Yes</td>\n",
       "    </tr>\n",
       "    <tr>\n",
       "      <th>4</th>\n",
       "      <td>1452-KIOVK</td>\n",
       "      <td>Yes</td>\n",
       "    </tr>\n",
       "  </tbody>\n",
       "</table>\n",
       "</div>"
      ],
      "text/plain": [
       "   customerID MultipleLines\n",
       "0  5575-GNVDE            No\n",
       "1  3668-QPYBK            No\n",
       "2  9237-HQITU            No\n",
       "3  9305-CDSKC           Yes\n",
       "4  1452-KIOVK           Yes"
      ]
     },
     "execution_count": 32,
     "metadata": {},
     "output_type": "execute_result"
    }
   ],
   "source": [
    "phone_df.head()"
   ]
  },
  {
   "cell_type": "code",
   "execution_count": 33,
   "id": "d2387078",
   "metadata": {},
   "outputs": [
    {
     "name": "stdout",
     "output_type": "stream",
     "text": [
      "<class 'pandas.core.frame.DataFrame'>\n",
      "RangeIndex: 6361 entries, 0 to 6360\n",
      "Data columns (total 2 columns):\n",
      " #   Column         Non-Null Count  Dtype \n",
      "---  ------         --------------  ----- \n",
      " 0   customerID     6361 non-null   object\n",
      " 1   MultipleLines  6361 non-null   object\n",
      "dtypes: object(2)\n",
      "memory usage: 99.5+ KB\n"
     ]
    }
   ],
   "source": [
    "phone_df.info()"
   ]
  },
  {
   "cell_type": "code",
   "execution_count": 34,
   "id": "2fed0f27",
   "metadata": {},
   "outputs": [
    {
     "data": {
      "text/plain": [
       "6361"
      ]
     },
     "execution_count": 34,
     "metadata": {},
     "output_type": "execute_result"
    }
   ],
   "source": [
    "phone_df['customerID'].nunique()"
   ]
  },
  {
   "cell_type": "code",
   "execution_count": 35,
   "id": "51ea5d5d",
   "metadata": {},
   "outputs": [
    {
     "data": {
      "text/plain": [
       "array(['No', 'Yes'], dtype=object)"
      ]
     },
     "execution_count": 35,
     "metadata": {},
     "output_type": "execute_result"
    }
   ],
   "source": [
    "phone_df['MultipleLines'].unique()"
   ]
  },
  {
   "cell_type": "markdown",
   "id": "88090d2f",
   "metadata": {},
   "source": [
    "__Вывод:__\n",
    "- Данные в табличке `phone` содержат всего 2 поля\n",
    "- Поле `customerID` содержит уникальные ID клиентов\n",
    "- Второе поле `MultipleLines` бинарно"
   ]
  },
  {
   "cell_type": "markdown",
   "id": "43617ec1",
   "metadata": {},
   "source": [
    "<div class=\"alert alert-block alert-danger\">\n",
    "<h2> Комментарий тимлида <a class=\"tocSkip\"></h2>\n",
    "\n",
    "    \n",
    "<b>На доработку🤔:</b> очень на хватает вывода"
   ]
  },
  {
   "cell_type": "markdown",
   "id": "4f9cd391",
   "metadata": {},
   "source": [
    "<div class=\"alert\" style=\"background-color: #ead7f7; color: #8737bf\">\n",
    "<font size=\"3\"><b>Комментарий студента</b></font>\n",
    "    \n",
    "Добавил вывод\n",
    "</div>"
   ]
  },
  {
   "cell_type": "markdown",
   "id": "6fd1f7f6",
   "metadata": {},
   "source": [
    "### Вопросы:\n",
    "\n",
    "1. Странная гистограмма у `MonthlyCharges`: много малых значений. Это нормально?\n",
    "2. В отличие от остальных признаков `SeniorCitizen` закодирован [0, 1]. Верно понимаю, что 1 - пенсионер, 0 - нет?"
   ]
  },
  {
   "cell_type": "markdown",
   "id": "f10afe0b",
   "metadata": {},
   "source": [
    "<div class=\"alert alert-success\">\n",
    "<h2> Комментарий тимлида <a class=\"tocSkip\"> </h2>\n",
    "\n",
    "<b>Все отлично!👍:</b> \n",
    "    \n",
    "1) MonthlyCharges - это ежемесячные траты, малые значения - это скорее всего из-за того, что многие выбират самый дешевый тариф\n",
    "\n",
    "2) Верно: 1 - пенсионер, 0 - нет"
   ]
  },
  {
   "cell_type": "markdown",
   "id": "396a81b9",
   "metadata": {},
   "source": [
    "<div style=\"border:solid Chocolate 2px; padding: 40px\">\n",
    "\n",
    "<h2>✔️ Заключение тимлида: <a class=\"tocSkip\"> </h2> \n",
    "    \n",
    "<b>Михаил</b>, работа почти готова, но нужно еще немного дорабоать, мои комментарии ты увидишь выше.\n",
    "\n",
    "Жду твою работу! :)"
   ]
  },
  {
   "cell_type": "markdown",
   "id": "9f7c89a3",
   "metadata": {},
   "source": [
    "## Код"
   ]
  },
  {
   "cell_type": "markdown",
   "id": "a8e214fe",
   "metadata": {},
   "source": [
    "### Предварительная обработка"
   ]
  },
  {
   "cell_type": "code",
   "execution_count": null,
   "id": "45f9e89c",
   "metadata": {},
   "outputs": [],
   "source": []
  },
  {
   "cell_type": "markdown",
   "id": "ae2727ec",
   "metadata": {},
   "source": [
    "### EDA"
   ]
  },
  {
   "cell_type": "code",
   "execution_count": null,
   "id": "885bff34",
   "metadata": {},
   "outputs": [],
   "source": []
  },
  {
   "cell_type": "markdown",
   "id": "7f7fe91f",
   "metadata": {},
   "source": [
    "### Моделирование"
   ]
  },
  {
   "cell_type": "code",
   "execution_count": null,
   "id": "cbc71af6",
   "metadata": {},
   "outputs": [],
   "source": []
  },
  {
   "cell_type": "markdown",
   "id": "5cadd46d",
   "metadata": {},
   "source": [
    "### Тестирование"
   ]
  },
  {
   "cell_type": "code",
   "execution_count": null,
   "id": "d4b28864",
   "metadata": {},
   "outputs": [],
   "source": []
  },
  {
   "cell_type": "markdown",
   "id": "5a668759",
   "metadata": {},
   "source": [
    "## Отчёт"
   ]
  },
  {
   "cell_type": "code",
   "execution_count": null,
   "id": "7fd7b85c",
   "metadata": {},
   "outputs": [],
   "source": []
  }
 ],
 "metadata": {
  "ExecuteTimeLog": [
   {
    "duration": 351,
    "start_time": "2023-04-14T12:21:07.575Z"
   },
   {
    "duration": 3,
    "start_time": "2023-04-14T12:21:08.343Z"
   },
   {
    "duration": 98,
    "start_time": "2023-04-14T12:21:09.271Z"
   },
   {
    "duration": 4,
    "start_time": "2023-04-14T12:24:22.202Z"
   },
   {
    "duration": 356,
    "start_time": "2023-04-14T12:24:22.732Z"
   },
   {
    "duration": 17,
    "start_time": "2023-04-14T12:24:25.222Z"
   },
   {
    "duration": 3,
    "start_time": "2023-04-14T12:24:29.082Z"
   },
   {
    "duration": 45,
    "start_time": "2023-04-14T12:24:29.497Z"
   },
   {
    "duration": 136,
    "start_time": "2023-04-14T12:26:05.997Z"
   },
   {
    "duration": 53,
    "start_time": "2023-04-16T10:43:49.590Z"
   },
   {
    "duration": 422,
    "start_time": "2023-04-16T10:43:54.938Z"
   },
   {
    "duration": 3,
    "start_time": "2023-04-16T10:43:55.363Z"
   },
   {
    "duration": 127,
    "start_time": "2023-04-16T10:43:55.367Z"
   },
   {
    "duration": 0,
    "start_time": "2023-04-16T10:43:55.497Z"
   },
   {
    "duration": 0,
    "start_time": "2023-04-16T10:43:55.498Z"
   },
   {
    "duration": 0,
    "start_time": "2023-04-16T10:43:55.499Z"
   },
   {
    "duration": 0,
    "start_time": "2023-04-16T10:43:55.501Z"
   },
   {
    "duration": 0,
    "start_time": "2023-04-16T10:43:55.502Z"
   },
   {
    "duration": 0,
    "start_time": "2023-04-16T10:43:55.503Z"
   },
   {
    "duration": 0,
    "start_time": "2023-04-16T10:43:55.504Z"
   },
   {
    "duration": 1,
    "start_time": "2023-04-16T10:43:55.505Z"
   },
   {
    "duration": 0,
    "start_time": "2023-04-16T10:43:55.507Z"
   },
   {
    "duration": 0,
    "start_time": "2023-04-16T10:43:55.508Z"
   },
   {
    "duration": 0,
    "start_time": "2023-04-16T10:43:55.509Z"
   },
   {
    "duration": 0,
    "start_time": "2023-04-16T10:43:55.510Z"
   },
   {
    "duration": 0,
    "start_time": "2023-04-16T10:43:55.512Z"
   },
   {
    "duration": 0,
    "start_time": "2023-04-16T10:43:55.513Z"
   },
   {
    "duration": 0,
    "start_time": "2023-04-16T10:43:55.514Z"
   },
   {
    "duration": 0,
    "start_time": "2023-04-16T10:43:55.515Z"
   },
   {
    "duration": 0,
    "start_time": "2023-04-16T10:43:55.516Z"
   },
   {
    "duration": 0,
    "start_time": "2023-04-16T10:43:55.518Z"
   },
   {
    "duration": 0,
    "start_time": "2023-04-16T10:43:55.519Z"
   },
   {
    "duration": 0,
    "start_time": "2023-04-16T10:43:55.549Z"
   },
   {
    "duration": 0,
    "start_time": "2023-04-16T10:43:55.550Z"
   },
   {
    "duration": 0,
    "start_time": "2023-04-16T10:43:55.551Z"
   },
   {
    "duration": 0,
    "start_time": "2023-04-16T10:43:55.552Z"
   },
   {
    "duration": 0,
    "start_time": "2023-04-16T10:43:55.553Z"
   },
   {
    "duration": 0,
    "start_time": "2023-04-16T10:43:55.554Z"
   },
   {
    "duration": 0,
    "start_time": "2023-04-16T10:43:55.555Z"
   },
   {
    "duration": 0,
    "start_time": "2023-04-16T10:43:55.556Z"
   },
   {
    "duration": 0,
    "start_time": "2023-04-16T10:43:55.557Z"
   },
   {
    "duration": 0,
    "start_time": "2023-04-16T10:43:55.558Z"
   },
   {
    "duration": 0,
    "start_time": "2023-04-16T10:43:55.558Z"
   },
   {
    "duration": 0,
    "start_time": "2023-04-16T10:43:55.559Z"
   },
   {
    "duration": 0,
    "start_time": "2023-04-16T10:43:55.560Z"
   },
   {
    "duration": 454,
    "start_time": "2023-04-16T10:45:30.946Z"
   },
   {
    "duration": 3,
    "start_time": "2023-04-16T10:45:31.402Z"
   },
   {
    "duration": 479,
    "start_time": "2023-04-16T10:45:31.406Z"
   },
   {
    "duration": 17,
    "start_time": "2023-04-16T10:45:31.888Z"
   },
   {
    "duration": 14,
    "start_time": "2023-04-16T10:45:31.906Z"
   },
   {
    "duration": 27,
    "start_time": "2023-04-16T10:45:31.922Z"
   },
   {
    "duration": 12,
    "start_time": "2023-04-16T10:45:31.951Z"
   },
   {
    "duration": 19,
    "start_time": "2023-04-16T10:45:31.965Z"
   },
   {
    "duration": 13,
    "start_time": "2023-04-16T10:45:31.987Z"
   },
   {
    "duration": 18,
    "start_time": "2023-04-16T10:45:32.004Z"
   },
   {
    "duration": 8,
    "start_time": "2023-04-16T10:45:32.024Z"
   },
   {
    "duration": 84,
    "start_time": "2023-04-16T10:45:32.033Z"
   },
   {
    "duration": 0,
    "start_time": "2023-04-16T10:45:32.118Z"
   },
   {
    "duration": 0,
    "start_time": "2023-04-16T10:45:32.119Z"
   },
   {
    "duration": 0,
    "start_time": "2023-04-16T10:45:32.120Z"
   },
   {
    "duration": 0,
    "start_time": "2023-04-16T10:45:32.121Z"
   },
   {
    "duration": 0,
    "start_time": "2023-04-16T10:45:32.122Z"
   },
   {
    "duration": 0,
    "start_time": "2023-04-16T10:45:32.123Z"
   },
   {
    "duration": 0,
    "start_time": "2023-04-16T10:45:32.124Z"
   },
   {
    "duration": 0,
    "start_time": "2023-04-16T10:45:32.125Z"
   },
   {
    "duration": 0,
    "start_time": "2023-04-16T10:45:32.125Z"
   },
   {
    "duration": 0,
    "start_time": "2023-04-16T10:45:32.126Z"
   },
   {
    "duration": 0,
    "start_time": "2023-04-16T10:45:32.127Z"
   },
   {
    "duration": 0,
    "start_time": "2023-04-16T10:45:32.129Z"
   },
   {
    "duration": 0,
    "start_time": "2023-04-16T10:45:32.130Z"
   },
   {
    "duration": 0,
    "start_time": "2023-04-16T10:45:32.131Z"
   },
   {
    "duration": 0,
    "start_time": "2023-04-16T10:45:32.148Z"
   },
   {
    "duration": 0,
    "start_time": "2023-04-16T10:45:32.149Z"
   },
   {
    "duration": 0,
    "start_time": "2023-04-16T10:45:32.150Z"
   },
   {
    "duration": 0,
    "start_time": "2023-04-16T10:45:32.151Z"
   },
   {
    "duration": 0,
    "start_time": "2023-04-16T10:45:32.152Z"
   },
   {
    "duration": 0,
    "start_time": "2023-04-16T10:45:32.153Z"
   },
   {
    "duration": 0,
    "start_time": "2023-04-16T10:45:32.154Z"
   },
   {
    "duration": 0,
    "start_time": "2023-04-16T10:45:32.155Z"
   },
   {
    "duration": 0,
    "start_time": "2023-04-16T10:45:32.156Z"
   },
   {
    "duration": 807,
    "start_time": "2023-04-16T10:47:32.445Z"
   },
   {
    "duration": 4,
    "start_time": "2023-04-16T10:47:33.253Z"
   },
   {
    "duration": 122,
    "start_time": "2023-04-16T10:47:33.258Z"
   },
   {
    "duration": 16,
    "start_time": "2023-04-16T10:47:33.382Z"
   },
   {
    "duration": 12,
    "start_time": "2023-04-16T10:47:33.400Z"
   },
   {
    "duration": 9,
    "start_time": "2023-04-16T10:47:33.414Z"
   },
   {
    "duration": 7,
    "start_time": "2023-04-16T10:47:33.425Z"
   },
   {
    "duration": 15,
    "start_time": "2023-04-16T10:47:33.434Z"
   },
   {
    "duration": 8,
    "start_time": "2023-04-16T10:47:33.451Z"
   },
   {
    "duration": 4,
    "start_time": "2023-04-16T10:47:33.462Z"
   },
   {
    "duration": 5,
    "start_time": "2023-04-16T10:47:33.468Z"
   },
   {
    "duration": 178,
    "start_time": "2023-04-16T10:47:33.475Z"
   },
   {
    "duration": 8,
    "start_time": "2023-04-16T10:47:33.655Z"
   },
   {
    "duration": 19,
    "start_time": "2023-04-16T10:47:33.665Z"
   },
   {
    "duration": 26,
    "start_time": "2023-04-16T10:47:33.686Z"
   },
   {
    "duration": 29,
    "start_time": "2023-04-16T10:47:33.714Z"
   },
   {
    "duration": 11,
    "start_time": "2023-04-16T10:47:33.745Z"
   },
   {
    "duration": 11,
    "start_time": "2023-04-16T10:47:33.757Z"
   },
   {
    "duration": 7,
    "start_time": "2023-04-16T10:47:33.769Z"
   },
   {
    "duration": 8,
    "start_time": "2023-04-16T10:47:33.778Z"
   },
   {
    "duration": 7,
    "start_time": "2023-04-16T10:47:33.787Z"
   },
   {
    "duration": 17,
    "start_time": "2023-04-16T10:47:33.795Z"
   },
   {
    "duration": 16,
    "start_time": "2023-04-16T10:47:33.814Z"
   },
   {
    "duration": 17,
    "start_time": "2023-04-16T10:47:33.832Z"
   },
   {
    "duration": 5,
    "start_time": "2023-04-16T10:47:33.850Z"
   },
   {
    "duration": 7,
    "start_time": "2023-04-16T10:47:33.857Z"
   },
   {
    "duration": 10,
    "start_time": "2023-04-16T10:47:33.866Z"
   },
   {
    "duration": 6,
    "start_time": "2023-04-16T10:47:33.879Z"
   },
   {
    "duration": 10,
    "start_time": "2023-04-16T10:47:33.887Z"
   },
   {
    "duration": 8,
    "start_time": "2023-04-16T10:47:33.898Z"
   },
   {
    "duration": 6,
    "start_time": "2023-04-16T10:47:33.907Z"
   },
   {
    "duration": 8,
    "start_time": "2023-04-16T10:47:33.914Z"
   },
   {
    "duration": 33,
    "start_time": "2023-04-16T10:47:33.923Z"
   },
   {
    "duration": 7,
    "start_time": "2023-04-16T10:47:33.958Z"
   },
   {
    "duration": 5,
    "start_time": "2023-04-16T10:47:33.966Z"
   }
  ],
  "kernelspec": {
   "display_name": "Python 3 (ipykernel)",
   "language": "python",
   "name": "python3"
  },
  "language_info": {
   "codemirror_mode": {
    "name": "ipython",
    "version": 3
   },
   "file_extension": ".py",
   "mimetype": "text/x-python",
   "name": "python",
   "nbconvert_exporter": "python",
   "pygments_lexer": "ipython3",
   "version": "3.10.7"
  },
  "toc": {
   "base_numbering": 1,
   "nav_menu": {},
   "number_sections": true,
   "sideBar": true,
   "skip_h1_title": true,
   "title_cell": "Table of Contents",
   "title_sidebar": "Contents",
   "toc_cell": false,
   "toc_position": {},
   "toc_section_display": true,
   "toc_window_display": false
  }
 },
 "nbformat": 4,
 "nbformat_minor": 5
}
