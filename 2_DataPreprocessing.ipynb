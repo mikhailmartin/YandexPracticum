{
 "cells": [
  {
   "cell_type": "markdown",
   "id": "9d00d48a",
   "metadata": {},
   "source": [
    "<div class=\"alert alert-info\">\n",
    "<h2>V2 Комментарий ревьюера</h2>\n",
    "\n",
    "Cвои комментарии в этой итерации я буду отмечать таким образом.\n",
    "</div>"
   ]
  },
  {
   "cell_type": "markdown",
   "id": "27a56249",
   "metadata": {},
   "source": [
    "<div class=\"alert alert-info\">\n",
    "\n",
    "<b>Привет, Михаил!👋</b>\n",
    "\n",
    "Меня зовут Женя Лаврив, я буду проверять твой проект. У нас, в Яндекс практикуме, принято обращение на \"ты\"😏, но если тебе комфортнее обращаться на Вы, напиши об этом, пожалуйста. Я буду рад перейти на \"Вы\". \n",
    "\n",
    "Я здесь для того, чтобы помочь тебе с учёбой и будущим успешным поиском работы. Вместе мы сможем оптимизировать твой код и найти лучший подход к решению задач!\n",
    "Пожалуйста, не удаляй мои комментарии, они будут особенно полезны для нашей работы в случае повторной проверки проекта. \n",
    "\n",
    "Будет здорово, если ты будешь отвечать на мои комментарии своими, выделяя их цветами или так, как тебе понравится, но так, чтобы их можно было отличить от моих комментариев. Это нужно, чтобы не создавалась путаница😉\n",
    "\n",
    "Ты можешь найти мои комментарии, обозначенные <font color='green'>зеленым</font>, <font color='gold'>желтым</font> и <font color='red'>красным</font> цветами, например:\n",
    "\n",
    "<br/>\n",
    "\n",
    "<div class=\"alert alert-success\">\n",
    "<h2> Комментарий ревьюера <a class=\"tocSkip\"> </h2>\n",
    "\n",
    "<b>Все отлично!👍:</b> В случае, если решение на отдельном шаге является полностью правильным.\n",
    "</div>\n",
    "\n",
    "<br/>\n",
    "\n",
    "<div class=\"alert alert-warning\">\n",
    "    <h2> Комментарий ревьюера <a class=\"tocSkip\"> </h2>\n",
    "    \n",
    "<b>Некоторые замечания и рекомендации💡:</b> В случае, когда решение на отдельном шаге станет еще лучше, если внести небольшие коррективы.\n",
    "</div>\n",
    "\n",
    "\n",
    "<br/>\n",
    "<div class=\"alert alert-block alert-danger\">\n",
    "<h2> Комментарий ревьюера <a class=\"tocSkip\"></h2>\n",
    "\n",
    "    \n",
    "<b>На доработку🤔:</b>\n",
    " В случае, когда решение на отдельном шаге требует существенной переработки и внесения правок. Напоминаю, что проект не может быть принят с первого раза, если ревью содержит комментарии, рекомендующие доработать шаги.\n",
    "</div>\n",
    "    \n",
    "Если в решении будут какие-то неточности, в первый раз я только укажу на их наличие и дам тебе возможность самому найти и исправить их. В реальной работе твои более опытные товарищи будут поступать также, и я хочу подготовить тебя именно к работе аналитиком. Но если ты пока не справишься с такой задачей - при следующей проверке я дам более точную подсказку!🤓\n",
    "\n",
    "Мы все очень ценим время и усилия друг-друга, поэтому я постараюсь давать максимально эффективные комментарии и заботливо подойти к твоей работе.\n",
    "</div>"
   ]
  },
  {
   "cell_type": "markdown",
   "id": "88663a09",
   "metadata": {
    "deletable": false,
    "editable": false,
    "id": "c81daeeb"
   },
   "source": [
    "# Исследование надежности заемщиков\n"
   ]
  },
  {
   "cell_type": "markdown",
   "id": "8f328a38",
   "metadata": {
    "deletable": false,
    "editable": false,
    "id": "827c20bf"
   },
   "source": [
    "Во второй части проекта вы выполните шаги 3 и 4. Их вручную проверит ревьюер.\n",
    "Чтобы вам не пришлось писать код заново для шагов 1 и 2, мы добавили авторские решения в ячейки с кодом. \n",
    "\n"
   ]
  },
  {
   "cell_type": "markdown",
   "id": "38dd4e84",
   "metadata": {
    "deletable": false,
    "editable": false,
    "id": "744d7639"
   },
   "source": [
    "## Откройте таблицу и изучите общую информацию о данных"
   ]
  },
  {
   "cell_type": "markdown",
   "id": "9305d653",
   "metadata": {
    "deletable": false,
    "editable": false,
    "id": "e7a14c31"
   },
   "source": [
    "**Задание 1. Импортируйте библиотеку pandas. Считайте данные из csv-файла в датафрейм и сохраните в переменную `data`. Путь к файлу:**\n",
    "\n",
    "`/datasets/data.csv`"
   ]
  },
  {
   "cell_type": "code",
   "execution_count": 1,
   "id": "b4fe8f86",
   "metadata": {
    "deletable": false,
    "id": "7bcf75c9"
   },
   "outputs": [],
   "source": [
    "import pandas as pd\n",
    "\n",
    "try:\n",
    "    data = pd.read_csv('/datasets/data.csv')\n",
    "except:\n",
    "    data = pd.read_csv('https://code.s3.yandex.net/datasets/data.csv')"
   ]
  },
  {
   "cell_type": "markdown",
   "id": "c64dc470",
   "metadata": {
    "deletable": false,
    "editable": false,
    "id": "b8038fe3"
   },
   "source": [
    "**Задание 2. Выведите первые 20 строчек датафрейма `data` на экран.**"
   ]
  },
  {
   "cell_type": "code",
   "execution_count": 2,
   "id": "405ade52",
   "metadata": {
    "deletable": false,
    "id": "2a7cab99",
    "outputId": "1a8f3ef2-d323-4ec2-ddf7-89670b5944c4"
   },
   "outputs": [
    {
     "data": {
      "text/html": [
       "<div>\n",
       "<style scoped>\n",
       "    .dataframe tbody tr th:only-of-type {\n",
       "        vertical-align: middle;\n",
       "    }\n",
       "\n",
       "    .dataframe tbody tr th {\n",
       "        vertical-align: top;\n",
       "    }\n",
       "\n",
       "    .dataframe thead th {\n",
       "        text-align: right;\n",
       "    }\n",
       "</style>\n",
       "<table border=\"1\" class=\"dataframe\">\n",
       "  <thead>\n",
       "    <tr style=\"text-align: right;\">\n",
       "      <th></th>\n",
       "      <th>children</th>\n",
       "      <th>days_employed</th>\n",
       "      <th>dob_years</th>\n",
       "      <th>education</th>\n",
       "      <th>education_id</th>\n",
       "      <th>family_status</th>\n",
       "      <th>family_status_id</th>\n",
       "      <th>gender</th>\n",
       "      <th>income_type</th>\n",
       "      <th>debt</th>\n",
       "      <th>total_income</th>\n",
       "      <th>purpose</th>\n",
       "    </tr>\n",
       "  </thead>\n",
       "  <tbody>\n",
       "    <tr>\n",
       "      <th>0</th>\n",
       "      <td>1</td>\n",
       "      <td>-8437.673028</td>\n",
       "      <td>42</td>\n",
       "      <td>высшее</td>\n",
       "      <td>0</td>\n",
       "      <td>женат / замужем</td>\n",
       "      <td>0</td>\n",
       "      <td>F</td>\n",
       "      <td>сотрудник</td>\n",
       "      <td>0</td>\n",
       "      <td>253875.639453</td>\n",
       "      <td>покупка жилья</td>\n",
       "    </tr>\n",
       "    <tr>\n",
       "      <th>1</th>\n",
       "      <td>1</td>\n",
       "      <td>-4024.803754</td>\n",
       "      <td>36</td>\n",
       "      <td>среднее</td>\n",
       "      <td>1</td>\n",
       "      <td>женат / замужем</td>\n",
       "      <td>0</td>\n",
       "      <td>F</td>\n",
       "      <td>сотрудник</td>\n",
       "      <td>0</td>\n",
       "      <td>112080.014102</td>\n",
       "      <td>приобретение автомобиля</td>\n",
       "    </tr>\n",
       "    <tr>\n",
       "      <th>2</th>\n",
       "      <td>0</td>\n",
       "      <td>-5623.422610</td>\n",
       "      <td>33</td>\n",
       "      <td>Среднее</td>\n",
       "      <td>1</td>\n",
       "      <td>женат / замужем</td>\n",
       "      <td>0</td>\n",
       "      <td>M</td>\n",
       "      <td>сотрудник</td>\n",
       "      <td>0</td>\n",
       "      <td>145885.952297</td>\n",
       "      <td>покупка жилья</td>\n",
       "    </tr>\n",
       "    <tr>\n",
       "      <th>3</th>\n",
       "      <td>3</td>\n",
       "      <td>-4124.747207</td>\n",
       "      <td>32</td>\n",
       "      <td>среднее</td>\n",
       "      <td>1</td>\n",
       "      <td>женат / замужем</td>\n",
       "      <td>0</td>\n",
       "      <td>M</td>\n",
       "      <td>сотрудник</td>\n",
       "      <td>0</td>\n",
       "      <td>267628.550329</td>\n",
       "      <td>дополнительное образование</td>\n",
       "    </tr>\n",
       "    <tr>\n",
       "      <th>4</th>\n",
       "      <td>0</td>\n",
       "      <td>340266.072047</td>\n",
       "      <td>53</td>\n",
       "      <td>среднее</td>\n",
       "      <td>1</td>\n",
       "      <td>гражданский брак</td>\n",
       "      <td>1</td>\n",
       "      <td>F</td>\n",
       "      <td>пенсионер</td>\n",
       "      <td>0</td>\n",
       "      <td>158616.077870</td>\n",
       "      <td>сыграть свадьбу</td>\n",
       "    </tr>\n",
       "    <tr>\n",
       "      <th>5</th>\n",
       "      <td>0</td>\n",
       "      <td>-926.185831</td>\n",
       "      <td>27</td>\n",
       "      <td>высшее</td>\n",
       "      <td>0</td>\n",
       "      <td>гражданский брак</td>\n",
       "      <td>1</td>\n",
       "      <td>M</td>\n",
       "      <td>компаньон</td>\n",
       "      <td>0</td>\n",
       "      <td>255763.565419</td>\n",
       "      <td>покупка жилья</td>\n",
       "    </tr>\n",
       "    <tr>\n",
       "      <th>6</th>\n",
       "      <td>0</td>\n",
       "      <td>-2879.202052</td>\n",
       "      <td>43</td>\n",
       "      <td>высшее</td>\n",
       "      <td>0</td>\n",
       "      <td>женат / замужем</td>\n",
       "      <td>0</td>\n",
       "      <td>F</td>\n",
       "      <td>компаньон</td>\n",
       "      <td>0</td>\n",
       "      <td>240525.971920</td>\n",
       "      <td>операции с жильем</td>\n",
       "    </tr>\n",
       "    <tr>\n",
       "      <th>7</th>\n",
       "      <td>0</td>\n",
       "      <td>-152.779569</td>\n",
       "      <td>50</td>\n",
       "      <td>СРЕДНЕЕ</td>\n",
       "      <td>1</td>\n",
       "      <td>женат / замужем</td>\n",
       "      <td>0</td>\n",
       "      <td>M</td>\n",
       "      <td>сотрудник</td>\n",
       "      <td>0</td>\n",
       "      <td>135823.934197</td>\n",
       "      <td>образование</td>\n",
       "    </tr>\n",
       "    <tr>\n",
       "      <th>8</th>\n",
       "      <td>2</td>\n",
       "      <td>-6929.865299</td>\n",
       "      <td>35</td>\n",
       "      <td>ВЫСШЕЕ</td>\n",
       "      <td>0</td>\n",
       "      <td>гражданский брак</td>\n",
       "      <td>1</td>\n",
       "      <td>F</td>\n",
       "      <td>сотрудник</td>\n",
       "      <td>0</td>\n",
       "      <td>95856.832424</td>\n",
       "      <td>на проведение свадьбы</td>\n",
       "    </tr>\n",
       "    <tr>\n",
       "      <th>9</th>\n",
       "      <td>0</td>\n",
       "      <td>-2188.756445</td>\n",
       "      <td>41</td>\n",
       "      <td>среднее</td>\n",
       "      <td>1</td>\n",
       "      <td>женат / замужем</td>\n",
       "      <td>0</td>\n",
       "      <td>M</td>\n",
       "      <td>сотрудник</td>\n",
       "      <td>0</td>\n",
       "      <td>144425.938277</td>\n",
       "      <td>покупка жилья для семьи</td>\n",
       "    </tr>\n",
       "    <tr>\n",
       "      <th>10</th>\n",
       "      <td>2</td>\n",
       "      <td>-4171.483647</td>\n",
       "      <td>36</td>\n",
       "      <td>высшее</td>\n",
       "      <td>0</td>\n",
       "      <td>женат / замужем</td>\n",
       "      <td>0</td>\n",
       "      <td>M</td>\n",
       "      <td>компаньон</td>\n",
       "      <td>0</td>\n",
       "      <td>113943.491460</td>\n",
       "      <td>покупка недвижимости</td>\n",
       "    </tr>\n",
       "    <tr>\n",
       "      <th>11</th>\n",
       "      <td>0</td>\n",
       "      <td>-792.701887</td>\n",
       "      <td>40</td>\n",
       "      <td>среднее</td>\n",
       "      <td>1</td>\n",
       "      <td>женат / замужем</td>\n",
       "      <td>0</td>\n",
       "      <td>F</td>\n",
       "      <td>сотрудник</td>\n",
       "      <td>0</td>\n",
       "      <td>77069.234271</td>\n",
       "      <td>покупка коммерческой недвижимости</td>\n",
       "    </tr>\n",
       "    <tr>\n",
       "      <th>12</th>\n",
       "      <td>0</td>\n",
       "      <td>NaN</td>\n",
       "      <td>65</td>\n",
       "      <td>среднее</td>\n",
       "      <td>1</td>\n",
       "      <td>гражданский брак</td>\n",
       "      <td>1</td>\n",
       "      <td>M</td>\n",
       "      <td>пенсионер</td>\n",
       "      <td>0</td>\n",
       "      <td>NaN</td>\n",
       "      <td>сыграть свадьбу</td>\n",
       "    </tr>\n",
       "    <tr>\n",
       "      <th>13</th>\n",
       "      <td>0</td>\n",
       "      <td>-1846.641941</td>\n",
       "      <td>54</td>\n",
       "      <td>неоконченное высшее</td>\n",
       "      <td>2</td>\n",
       "      <td>женат / замужем</td>\n",
       "      <td>0</td>\n",
       "      <td>F</td>\n",
       "      <td>сотрудник</td>\n",
       "      <td>0</td>\n",
       "      <td>130458.228857</td>\n",
       "      <td>приобретение автомобиля</td>\n",
       "    </tr>\n",
       "    <tr>\n",
       "      <th>14</th>\n",
       "      <td>0</td>\n",
       "      <td>-1844.956182</td>\n",
       "      <td>56</td>\n",
       "      <td>высшее</td>\n",
       "      <td>0</td>\n",
       "      <td>гражданский брак</td>\n",
       "      <td>1</td>\n",
       "      <td>F</td>\n",
       "      <td>компаньон</td>\n",
       "      <td>1</td>\n",
       "      <td>165127.911772</td>\n",
       "      <td>покупка жилой недвижимости</td>\n",
       "    </tr>\n",
       "    <tr>\n",
       "      <th>15</th>\n",
       "      <td>1</td>\n",
       "      <td>-972.364419</td>\n",
       "      <td>26</td>\n",
       "      <td>среднее</td>\n",
       "      <td>1</td>\n",
       "      <td>женат / замужем</td>\n",
       "      <td>0</td>\n",
       "      <td>F</td>\n",
       "      <td>сотрудник</td>\n",
       "      <td>0</td>\n",
       "      <td>116820.904450</td>\n",
       "      <td>строительство собственной недвижимости</td>\n",
       "    </tr>\n",
       "    <tr>\n",
       "      <th>16</th>\n",
       "      <td>0</td>\n",
       "      <td>-1719.934226</td>\n",
       "      <td>35</td>\n",
       "      <td>среднее</td>\n",
       "      <td>1</td>\n",
       "      <td>женат / замужем</td>\n",
       "      <td>0</td>\n",
       "      <td>F</td>\n",
       "      <td>сотрудник</td>\n",
       "      <td>0</td>\n",
       "      <td>289202.704229</td>\n",
       "      <td>недвижимость</td>\n",
       "    </tr>\n",
       "    <tr>\n",
       "      <th>17</th>\n",
       "      <td>0</td>\n",
       "      <td>-2369.999720</td>\n",
       "      <td>33</td>\n",
       "      <td>высшее</td>\n",
       "      <td>0</td>\n",
       "      <td>гражданский брак</td>\n",
       "      <td>1</td>\n",
       "      <td>M</td>\n",
       "      <td>сотрудник</td>\n",
       "      <td>0</td>\n",
       "      <td>90410.586745</td>\n",
       "      <td>строительство недвижимости</td>\n",
       "    </tr>\n",
       "    <tr>\n",
       "      <th>18</th>\n",
       "      <td>0</td>\n",
       "      <td>400281.136913</td>\n",
       "      <td>53</td>\n",
       "      <td>среднее</td>\n",
       "      <td>1</td>\n",
       "      <td>вдовец / вдова</td>\n",
       "      <td>2</td>\n",
       "      <td>F</td>\n",
       "      <td>пенсионер</td>\n",
       "      <td>0</td>\n",
       "      <td>56823.777243</td>\n",
       "      <td>на покупку подержанного автомобиля</td>\n",
       "    </tr>\n",
       "    <tr>\n",
       "      <th>19</th>\n",
       "      <td>0</td>\n",
       "      <td>-10038.818549</td>\n",
       "      <td>48</td>\n",
       "      <td>СРЕДНЕЕ</td>\n",
       "      <td>1</td>\n",
       "      <td>в разводе</td>\n",
       "      <td>3</td>\n",
       "      <td>F</td>\n",
       "      <td>сотрудник</td>\n",
       "      <td>0</td>\n",
       "      <td>242831.107982</td>\n",
       "      <td>на покупку своего автомобиля</td>\n",
       "    </tr>\n",
       "  </tbody>\n",
       "</table>\n",
       "</div>"
      ],
      "text/plain": [
       "    children  days_employed  dob_years            education  education_id  \\\n",
       "0          1   -8437.673028         42               высшее             0   \n",
       "1          1   -4024.803754         36              среднее             1   \n",
       "2          0   -5623.422610         33              Среднее             1   \n",
       "3          3   -4124.747207         32              среднее             1   \n",
       "4          0  340266.072047         53              среднее             1   \n",
       "5          0    -926.185831         27               высшее             0   \n",
       "6          0   -2879.202052         43               высшее             0   \n",
       "7          0    -152.779569         50              СРЕДНЕЕ             1   \n",
       "8          2   -6929.865299         35               ВЫСШЕЕ             0   \n",
       "9          0   -2188.756445         41              среднее             1   \n",
       "10         2   -4171.483647         36               высшее             0   \n",
       "11         0    -792.701887         40              среднее             1   \n",
       "12         0            NaN         65              среднее             1   \n",
       "13         0   -1846.641941         54  неоконченное высшее             2   \n",
       "14         0   -1844.956182         56               высшее             0   \n",
       "15         1    -972.364419         26              среднее             1   \n",
       "16         0   -1719.934226         35              среднее             1   \n",
       "17         0   -2369.999720         33               высшее             0   \n",
       "18         0  400281.136913         53              среднее             1   \n",
       "19         0  -10038.818549         48              СРЕДНЕЕ             1   \n",
       "\n",
       "       family_status  family_status_id gender income_type  debt  \\\n",
       "0    женат / замужем                 0      F   сотрудник     0   \n",
       "1    женат / замужем                 0      F   сотрудник     0   \n",
       "2    женат / замужем                 0      M   сотрудник     0   \n",
       "3    женат / замужем                 0      M   сотрудник     0   \n",
       "4   гражданский брак                 1      F   пенсионер     0   \n",
       "5   гражданский брак                 1      M   компаньон     0   \n",
       "6    женат / замужем                 0      F   компаньон     0   \n",
       "7    женат / замужем                 0      M   сотрудник     0   \n",
       "8   гражданский брак                 1      F   сотрудник     0   \n",
       "9    женат / замужем                 0      M   сотрудник     0   \n",
       "10   женат / замужем                 0      M   компаньон     0   \n",
       "11   женат / замужем                 0      F   сотрудник     0   \n",
       "12  гражданский брак                 1      M   пенсионер     0   \n",
       "13   женат / замужем                 0      F   сотрудник     0   \n",
       "14  гражданский брак                 1      F   компаньон     1   \n",
       "15   женат / замужем                 0      F   сотрудник     0   \n",
       "16   женат / замужем                 0      F   сотрудник     0   \n",
       "17  гражданский брак                 1      M   сотрудник     0   \n",
       "18    вдовец / вдова                 2      F   пенсионер     0   \n",
       "19         в разводе                 3      F   сотрудник     0   \n",
       "\n",
       "     total_income                                 purpose  \n",
       "0   253875.639453                           покупка жилья  \n",
       "1   112080.014102                 приобретение автомобиля  \n",
       "2   145885.952297                           покупка жилья  \n",
       "3   267628.550329              дополнительное образование  \n",
       "4   158616.077870                         сыграть свадьбу  \n",
       "5   255763.565419                           покупка жилья  \n",
       "6   240525.971920                       операции с жильем  \n",
       "7   135823.934197                             образование  \n",
       "8    95856.832424                   на проведение свадьбы  \n",
       "9   144425.938277                 покупка жилья для семьи  \n",
       "10  113943.491460                    покупка недвижимости  \n",
       "11   77069.234271       покупка коммерческой недвижимости  \n",
       "12            NaN                         сыграть свадьбу  \n",
       "13  130458.228857                 приобретение автомобиля  \n",
       "14  165127.911772              покупка жилой недвижимости  \n",
       "15  116820.904450  строительство собственной недвижимости  \n",
       "16  289202.704229                            недвижимость  \n",
       "17   90410.586745              строительство недвижимости  \n",
       "18   56823.777243      на покупку подержанного автомобиля  \n",
       "19  242831.107982            на покупку своего автомобиля  "
      ]
     },
     "execution_count": 2,
     "metadata": {},
     "output_type": "execute_result"
    }
   ],
   "source": [
    "data.head(20)"
   ]
  },
  {
   "cell_type": "markdown",
   "id": "ad244d76",
   "metadata": {
    "deletable": false,
    "editable": false,
    "id": "1c12e233"
   },
   "source": [
    "**Задание 3. Выведите основную информацию о датафрейме с помощью метода `info()`.**"
   ]
  },
  {
   "cell_type": "code",
   "execution_count": 3,
   "id": "c0595914",
   "metadata": {
    "deletable": false,
    "id": "2b757bca",
    "outputId": "15376089-8dad-46c9-b520-c05248d43158"
   },
   "outputs": [
    {
     "name": "stdout",
     "output_type": "stream",
     "text": [
      "<class 'pandas.core.frame.DataFrame'>\n",
      "RangeIndex: 21525 entries, 0 to 21524\n",
      "Data columns (total 12 columns):\n",
      " #   Column            Non-Null Count  Dtype  \n",
      "---  ------            --------------  -----  \n",
      " 0   children          21525 non-null  int64  \n",
      " 1   days_employed     19351 non-null  float64\n",
      " 2   dob_years         21525 non-null  int64  \n",
      " 3   education         21525 non-null  object \n",
      " 4   education_id      21525 non-null  int64  \n",
      " 5   family_status     21525 non-null  object \n",
      " 6   family_status_id  21525 non-null  int64  \n",
      " 7   gender            21525 non-null  object \n",
      " 8   income_type       21525 non-null  object \n",
      " 9   debt              21525 non-null  int64  \n",
      " 10  total_income      19351 non-null  float64\n",
      " 11  purpose           21525 non-null  object \n",
      "dtypes: float64(2), int64(5), object(5)\n",
      "memory usage: 2.0+ MB\n"
     ]
    }
   ],
   "source": [
    "data.info()"
   ]
  },
  {
   "cell_type": "markdown",
   "id": "0b0d50c4",
   "metadata": {
    "deletable": false,
    "editable": false,
    "id": "333ec665"
   },
   "source": [
    "## Предобработка данных"
   ]
  },
  {
   "cell_type": "markdown",
   "id": "23a15306",
   "metadata": {
    "deletable": false,
    "editable": false,
    "id": "02d92d53"
   },
   "source": [
    "### Удаление пропусков"
   ]
  },
  {
   "cell_type": "markdown",
   "id": "375bd55d",
   "metadata": {
    "deletable": false,
    "editable": false,
    "id": "cd84967c"
   },
   "source": [
    "**Задание 4. Выведите количество пропущенных значений для каждого столбца. Используйте комбинацию двух методов.**"
   ]
  },
  {
   "cell_type": "code",
   "execution_count": 4,
   "id": "66ec5906",
   "metadata": {
    "deletable": false,
    "id": "7f9b2309",
    "outputId": "81f4d817-781c-465c-ed15-91ce4446810d"
   },
   "outputs": [
    {
     "data": {
      "text/plain": [
       "children               0\n",
       "days_employed       2174\n",
       "dob_years              0\n",
       "education              0\n",
       "education_id           0\n",
       "family_status          0\n",
       "family_status_id       0\n",
       "gender                 0\n",
       "income_type            0\n",
       "debt                   0\n",
       "total_income        2174\n",
       "purpose                0\n",
       "dtype: int64"
      ]
     },
     "execution_count": 4,
     "metadata": {},
     "output_type": "execute_result"
    }
   ],
   "source": [
    "data.isna().sum()"
   ]
  },
  {
   "cell_type": "code",
   "execution_count": 5,
   "id": "248f422f",
   "metadata": {},
   "outputs": [],
   "source": [
    "# для ответа на вопрос 3.5\n",
    "question_3_5 = (data['days_employed'].isna() & data['total_income'].isna()).sum()"
   ]
  },
  {
   "cell_type": "markdown",
   "id": "eb5608fb",
   "metadata": {
    "deletable": false,
    "editable": false,
    "id": "db86e27b"
   },
   "source": [
    "**Задание 5. В двух столбцах есть пропущенные значения. Один из них — `days_employed`. Пропуски в этом столбце вы обработаете на следующем этапе. Другой столбец с пропущенными значениями — `total_income` — хранит данные о доходах. На сумму дохода сильнее всего влияет тип занятости, поэтому заполнить пропуски в этом столбце нужно медианным значением по каждому типу из столбца `income_type`. Например, у человека с типом занятости `сотрудник` пропуск в столбце `total_income` должен быть заполнен медианным доходом среди всех записей с тем же типом.**"
   ]
  },
  {
   "cell_type": "code",
   "execution_count": 6,
   "id": "ee715b7b",
   "metadata": {
    "deletable": false,
    "id": "42006a93"
   },
   "outputs": [],
   "source": [
    "for t in data['income_type'].unique():\n",
    "    data.loc[(data['income_type'] == t) & (data['total_income'].isna()), 'total_income'] = \\\n",
    "    data.loc[(data['income_type'] == t), 'total_income'].median()"
   ]
  },
  {
   "cell_type": "markdown",
   "id": "8bc3400e",
   "metadata": {
    "deletable": false,
    "editable": false,
    "id": "89da5ece"
   },
   "source": [
    "### Обработка аномальных значений"
   ]
  },
  {
   "cell_type": "markdown",
   "id": "eb201b30",
   "metadata": {
    "deletable": false,
    "editable": false,
    "id": "57964554"
   },
   "source": [
    "**Задание 6. В данных могут встречаться артефакты (аномалии) — значения, которые не отражают действительность и появились по какой-то ошибке. таким артефактом будет отрицательное количество дней трудового стажа в столбце `days_employed`. Для реальных данных это нормально. Обработайте значения в этом столбце: замените все отрицательные значения положительными с помощью метода `abs()`.**"
   ]
  },
  {
   "cell_type": "code",
   "execution_count": 7,
   "id": "adad0546",
   "metadata": {
    "deletable": false,
    "id": "f6f055bf"
   },
   "outputs": [],
   "source": [
    "data['days_employed'] = data['days_employed'].abs()"
   ]
  },
  {
   "cell_type": "markdown",
   "id": "1b64010d",
   "metadata": {
    "deletable": false,
    "editable": false,
    "id": "6107dd2f"
   },
   "source": [
    "**Задание 7. Для каждого типа занятости выведите медианное значение трудового стажа `days_employed` в днях.**"
   ]
  },
  {
   "cell_type": "code",
   "execution_count": 8,
   "id": "881f4a26",
   "metadata": {
    "deletable": false,
    "id": "85a5faf6",
    "outputId": "801ef80e-522b-4668-f34e-565af7432bcf"
   },
   "outputs": [
    {
     "data": {
      "text/plain": [
       "income_type\n",
       "безработный        366413.652744\n",
       "в декрете            3296.759962\n",
       "госслужащий          2689.368353\n",
       "компаньон            1547.382223\n",
       "пенсионер          365213.306266\n",
       "предприниматель       520.848083\n",
       "сотрудник            1574.202821\n",
       "студент               578.751554\n",
       "Name: days_employed, dtype: float64"
      ]
     },
     "execution_count": 8,
     "metadata": {},
     "output_type": "execute_result"
    }
   ],
   "source": [
    "data.groupby('income_type')['days_employed'].agg('median')"
   ]
  },
  {
   "cell_type": "markdown",
   "id": "73d353ec",
   "metadata": {
    "deletable": false,
    "editable": false,
    "id": "38d1a030"
   },
   "source": [
    "У двух типов (безработные и пенсионеры) получатся аномально большие значения. Исправить такие значения сложно, поэтому оставьте их как есть. Тем более этот столбец не понадобится вам для исследования."
   ]
  },
  {
   "cell_type": "markdown",
   "id": "17d13e89",
   "metadata": {
    "deletable": false,
    "editable": false,
    "id": "d8a9f147"
   },
   "source": [
    "**Задание 8. Выведите перечень уникальных значений столбца `children`.**"
   ]
  },
  {
   "cell_type": "code",
   "execution_count": 9,
   "id": "37fa35c3",
   "metadata": {
    "deletable": false,
    "id": "ef5056eb",
    "outputId": "6975b15c-7f95-4697-d16d-a0c79b657b03"
   },
   "outputs": [
    {
     "data": {
      "text/plain": [
       "array([ 1,  0,  3,  2, -1,  4, 20,  5], dtype=int64)"
      ]
     },
     "execution_count": 9,
     "metadata": {},
     "output_type": "execute_result"
    }
   ],
   "source": [
    "data['children'].unique()"
   ]
  },
  {
   "cell_type": "markdown",
   "id": "709f964f",
   "metadata": {
    "deletable": false,
    "editable": false,
    "id": "40b9ebf2"
   },
   "source": [
    "**Задание 9. В столбце `children` есть два аномальных значения. Удалите строки, в которых встречаются такие аномальные значения из датафрейма `data`.**"
   ]
  },
  {
   "cell_type": "code",
   "execution_count": 10,
   "id": "2476da9d",
   "metadata": {
    "deletable": false,
    "id": "3ff9801d"
   },
   "outputs": [],
   "source": [
    "data = data[(data['children'] != -1) & (data['children'] != 20)]"
   ]
  },
  {
   "cell_type": "markdown",
   "id": "afcce97d",
   "metadata": {
    "deletable": false,
    "editable": false,
    "id": "bbc4d0ce"
   },
   "source": [
    "**Задание 10. Ещё раз выведите перечень уникальных значений столбца `children`, чтобы убедиться, что артефакты удалены.**"
   ]
  },
  {
   "cell_type": "code",
   "execution_count": 11,
   "id": "ba990e05",
   "metadata": {
    "deletable": false,
    "id": "ad4fa8b7",
    "outputId": "b2097101-d49d-44d9-901b-32a65c9463d1"
   },
   "outputs": [
    {
     "data": {
      "text/plain": [
       "array([1, 0, 3, 2, 4, 5], dtype=int64)"
      ]
     },
     "execution_count": 11,
     "metadata": {},
     "output_type": "execute_result"
    }
   ],
   "source": [
    "data['children'].unique()"
   ]
  },
  {
   "cell_type": "markdown",
   "id": "3f27e713",
   "metadata": {
    "deletable": false,
    "editable": false,
    "id": "75440b63"
   },
   "source": [
    "### Удаление пропусков (продолжение)"
   ]
  },
  {
   "cell_type": "markdown",
   "id": "3b29d581",
   "metadata": {
    "deletable": false,
    "editable": false,
    "id": "f4ea573f"
   },
   "source": [
    "**Задание 11. Заполните пропуски в столбце `days_employed` медианными значениями по каждого типа занятости `income_type`.**"
   ]
  },
  {
   "cell_type": "code",
   "execution_count": 12,
   "id": "533028c0",
   "metadata": {
    "deletable": false,
    "id": "af6b1a7e"
   },
   "outputs": [],
   "source": [
    "for t in data['income_type'].unique():\n",
    "    data.loc[(data['income_type'] == t) & (data['days_employed'].isna()), 'days_employed'] = \\\n",
    "    data.loc[(data['income_type'] == t), 'days_employed'].median()"
   ]
  },
  {
   "cell_type": "markdown",
   "id": "dd9a3ea8",
   "metadata": {
    "deletable": false,
    "editable": false,
    "id": "2753f40d"
   },
   "source": [
    "**Задание 12. Убедитесь, что все пропуски заполнены. Проверьте себя и ещё раз выведите количество пропущенных значений для каждого столбца с помощью двух методов.**"
   ]
  },
  {
   "cell_type": "code",
   "execution_count": 13,
   "id": "04205c2a",
   "metadata": {
    "deletable": false,
    "id": "55f78bc2",
    "outputId": "8da1e4e1-358e-4e87-98c9-f261bce0a7b2"
   },
   "outputs": [
    {
     "data": {
      "text/plain": [
       "children            0\n",
       "days_employed       0\n",
       "dob_years           0\n",
       "education           0\n",
       "education_id        0\n",
       "family_status       0\n",
       "family_status_id    0\n",
       "gender              0\n",
       "income_type         0\n",
       "debt                0\n",
       "total_income        0\n",
       "purpose             0\n",
       "dtype: int64"
      ]
     },
     "execution_count": 13,
     "metadata": {},
     "output_type": "execute_result"
    }
   ],
   "source": [
    "data.isna().sum()"
   ]
  },
  {
   "cell_type": "markdown",
   "id": "ff7e9302",
   "metadata": {
    "deletable": false,
    "editable": false,
    "id": "ddc81e43"
   },
   "source": [
    "### Изменение типов данных"
   ]
  },
  {
   "cell_type": "markdown",
   "id": "0969bf1d",
   "metadata": {
    "deletable": false,
    "editable": false,
    "id": "42d19d24"
   },
   "source": [
    "**Задание 13. Замените вещественный тип данных в столбце `total_income` на целочисленный с помощью метода `astype()`.**"
   ]
  },
  {
   "cell_type": "code",
   "execution_count": 14,
   "id": "3ada8a56",
   "metadata": {
    "deletable": false,
    "id": "920b65ad"
   },
   "outputs": [],
   "source": [
    "data['total_income'] = data['total_income'].astype(int)"
   ]
  },
  {
   "cell_type": "markdown",
   "id": "6baf6804",
   "metadata": {
    "deletable": false,
    "editable": false,
    "id": "80c420ba"
   },
   "source": [
    "### Обработка дубликатов"
   ]
  },
  {
   "cell_type": "markdown",
   "id": "5e67450f",
   "metadata": {
    "deletable": false,
    "editable": false
   },
   "source": [
    "**Задание 14. Обработайте неявные дубликаты в столбце `education`. В этом столбце есть одни и те же значения, но записанные по-разному: с использованием заглавных и строчных букв. Приведите их к нижнему регистру. Проверьте остальные столбцы.**"
   ]
  },
  {
   "cell_type": "code",
   "execution_count": 15,
   "id": "fdfb1f99",
   "metadata": {
    "deletable": false
   },
   "outputs": [],
   "source": [
    "data['education'] = data['education'].str.lower()"
   ]
  },
  {
   "cell_type": "markdown",
   "id": "c277bac4",
   "metadata": {
    "deletable": false,
    "editable": false,
    "id": "dc587695"
   },
   "source": [
    "**Задание 15. Выведите на экран количество строк-дубликатов в данных. Если такие строки присутствуют, удалите их.**"
   ]
  },
  {
   "cell_type": "code",
   "execution_count": 16,
   "id": "c16efa22",
   "metadata": {
    "deletable": false,
    "id": "3ee445e4",
    "outputId": "9684deba-1934-42d1-99e1-cda61740f822"
   },
   "outputs": [
    {
     "data": {
      "text/plain": [
       "71"
      ]
     },
     "execution_count": 16,
     "metadata": {},
     "output_type": "execute_result"
    }
   ],
   "source": [
    "data.duplicated().sum()"
   ]
  },
  {
   "cell_type": "code",
   "execution_count": 17,
   "id": "bb074b62",
   "metadata": {
    "deletable": false,
    "id": "8575fe05"
   },
   "outputs": [],
   "source": [
    "data = data.drop_duplicates()"
   ]
  },
  {
   "cell_type": "markdown",
   "id": "b26ae99c",
   "metadata": {
    "deletable": false,
    "editable": false,
    "id": "9904cf55"
   },
   "source": [
    "### Категоризация данных"
   ]
  },
  {
   "cell_type": "markdown",
   "id": "75680ead",
   "metadata": {
    "deletable": false,
    "editable": false,
    "id": "72fcc8a2"
   },
   "source": [
    "**Задание 16. На основании диапазонов, указанных ниже, создайте в датафрейме `data` столбец `total_income_category` с категориями:**\n",
    "\n",
    "- 0–30000 — `'E'`;\n",
    "- 30001–50000 — `'D'`;\n",
    "- 50001–200000 — `'C'`;\n",
    "- 200001–1000000 — `'B'`;\n",
    "- 1000001 и выше — `'A'`.\n",
    "\n",
    "\n",
    "**Например, кредитополучателю с доходом 25000 нужно назначить категорию `'E'`, а клиенту, получающему 235000, — `'B'`. Используйте собственную функцию с именем `categorize_income()` и метод `apply()`.**"
   ]
  },
  {
   "cell_type": "code",
   "execution_count": 18,
   "id": "951d3d85",
   "metadata": {
    "deletable": false,
    "id": "e1771346"
   },
   "outputs": [],
   "source": [
    "def categorize_income(income):\n",
    "    try:\n",
    "        if 0 <= income <= 30000:\n",
    "            return 'E'\n",
    "        elif 30001 <= income <= 50000:\n",
    "            return 'D'\n",
    "        elif 50001 <= income <= 200000:\n",
    "            return 'C'\n",
    "        elif 200001 <= income <= 1000000:\n",
    "            return 'B'\n",
    "        elif income >= 1000001:\n",
    "            return 'A'\n",
    "    except:\n",
    "        pass"
   ]
  },
  {
   "cell_type": "code",
   "execution_count": 19,
   "id": "15fa545f",
   "metadata": {
    "deletable": false,
    "id": "d5f3586d"
   },
   "outputs": [],
   "source": [
    "data['total_income_category'] = data['total_income'].apply(categorize_income)"
   ]
  },
  {
   "cell_type": "markdown",
   "id": "f330958e",
   "metadata": {
    "deletable": false,
    "editable": false,
    "id": "dde49b5c"
   },
   "source": [
    "**Задание 17. Выведите на экран перечень уникальных целей взятия кредита из столбца `purpose`.**"
   ]
  },
  {
   "cell_type": "code",
   "execution_count": 20,
   "id": "2be0f1aa",
   "metadata": {
    "deletable": false,
    "id": "f67ce9b3",
    "outputId": "673c12d9-7d7e-4ae0-9812-c622c89dd244"
   },
   "outputs": [
    {
     "data": {
      "text/plain": [
       "array(['покупка жилья', 'приобретение автомобиля',\n",
       "       'дополнительное образование', 'сыграть свадьбу',\n",
       "       'операции с жильем', 'образование', 'на проведение свадьбы',\n",
       "       'покупка жилья для семьи', 'покупка недвижимости',\n",
       "       'покупка коммерческой недвижимости', 'покупка жилой недвижимости',\n",
       "       'строительство собственной недвижимости', 'недвижимость',\n",
       "       'строительство недвижимости', 'на покупку подержанного автомобиля',\n",
       "       'на покупку своего автомобиля',\n",
       "       'операции с коммерческой недвижимостью',\n",
       "       'строительство жилой недвижимости', 'жилье',\n",
       "       'операции со своей недвижимостью', 'автомобили',\n",
       "       'заняться образованием', 'сделка с подержанным автомобилем',\n",
       "       'получение образования', 'автомобиль', 'свадьба',\n",
       "       'получение дополнительного образования', 'покупка своего жилья',\n",
       "       'операции с недвижимостью', 'получение высшего образования',\n",
       "       'свой автомобиль', 'сделка с автомобилем',\n",
       "       'профильное образование', 'высшее образование',\n",
       "       'покупка жилья для сдачи', 'на покупку автомобиля', 'ремонт жилью',\n",
       "       'заняться высшим образованием'], dtype=object)"
      ]
     },
     "execution_count": 20,
     "metadata": {},
     "output_type": "execute_result"
    }
   ],
   "source": [
    "data['purpose'].unique()"
   ]
  },
  {
   "cell_type": "markdown",
   "id": "1358f10b",
   "metadata": {
    "deletable": false,
    "editable": false,
    "id": "85d0aef0"
   },
   "source": [
    "**Задание 18. Создайте функцию, которая на основании данных из столбца `purpose` сформирует новый столбец `purpose_category`, в который войдут следующие категории:**\n",
    "\n",
    "- `'операции с автомобилем'`,\n",
    "- `'операции с недвижимостью'`,\n",
    "- `'проведение свадьбы'`,\n",
    "- `'получение образования'`.\n",
    "\n",
    "**Например, если в столбце `purpose` находится подстрока `'на покупку автомобиля'`, то в столбце `purpose_category` должна появиться строка `'операции с автомобилем'`.**\n",
    "\n",
    "**Используйте собственную функцию с именем `categorize_purpose()` и метод `apply()`. Изучите данные в столбце `purpose` и определите, какие подстроки помогут вам правильно определить категорию.**"
   ]
  },
  {
   "cell_type": "code",
   "execution_count": 21,
   "id": "485dd2b2",
   "metadata": {
    "deletable": false,
    "id": "e149fab4"
   },
   "outputs": [],
   "source": [
    "def categorize_purpose(row):\n",
    "    try:\n",
    "        if 'автом' in row:\n",
    "            return 'операции с автомобилем'\n",
    "        elif 'жил' in row or 'недвиж' in row:\n",
    "            return 'операции с недвижимостью'\n",
    "        elif 'свад' in row:\n",
    "            return 'проведение свадьбы'\n",
    "        elif 'образов' in row:\n",
    "            return 'получение образования'\n",
    "    except:\n",
    "        return 'нет категории'"
   ]
  },
  {
   "cell_type": "code",
   "execution_count": 22,
   "id": "81816202",
   "metadata": {
    "deletable": false,
    "id": "bf36e69b"
   },
   "outputs": [],
   "source": [
    "data['purpose_category'] = data['purpose'].apply(categorize_purpose)"
   ]
  },
  {
   "cell_type": "markdown",
   "id": "1c8a6289",
   "metadata": {
    "deletable": false,
    "editable": false,
    "id": "09b242bf"
   },
   "source": [
    "### Шаг 3. Исследуйте данные и ответьте на вопросы"
   ]
  },
  {
   "cell_type": "markdown",
   "id": "8680a19b",
   "metadata": {
    "deletable": false,
    "editable": false,
    "id": "c5d66278"
   },
   "source": [
    "#### 3.1 Есть ли зависимость между количеством детей и возвратом кредита в срок?"
   ]
  },
  {
   "cell_type": "code",
   "execution_count": 23,
   "id": "9ab8d77a",
   "metadata": {
    "deletable": false,
    "id": "2cacfc4a"
   },
   "outputs": [
    {
     "data": {
      "text/plain": [
       "children\n",
       "0    0.075438\n",
       "1    0.092346\n",
       "2    0.094542\n",
       "3    0.081818\n",
       "4    0.097561\n",
       "5    0.000000\n",
       "Name: debt, dtype: float64"
      ]
     },
     "execution_count": 23,
     "metadata": {},
     "output_type": "execute_result"
    }
   ],
   "source": [
    "data.groupby('children')['debt'].mean()"
   ]
  },
  {
   "cell_type": "code",
   "execution_count": 24,
   "id": "d1e6ca6d",
   "metadata": {},
   "outputs": [
    {
     "data": {
      "text/plain": [
       "0    14091\n",
       "1     4808\n",
       "2     2052\n",
       "3      330\n",
       "4       41\n",
       "5        9\n",
       "Name: children, dtype: int64"
      ]
     },
     "execution_count": 24,
     "metadata": {},
     "output_type": "execute_result"
    }
   ],
   "source": [
    "data['children'].value_counts()"
   ]
  },
  {
   "cell_type": "markdown",
   "id": "67e42716",
   "metadata": {
    "deletable": false,
    "id": "3a6b99ec"
   },
   "source": [
    "**Вывод:**  \n",
    "1. Группы с 4 и 5 детьми получились невероятно маленькими: не думаю, что статистика по ним вообще значима.\n",
    "2. Остаются группа без детей, с 1 и 2 детьми. Здесь можно сказать, что наличие детей увеличивается вероятность не выплатить кредит на 2-2.5 процентных пункта."
   ]
  },
  {
   "cell_type": "markdown",
   "id": "6fe6d735",
   "metadata": {},
   "source": [
    "<div class=\"alert alert-success\">\n",
    "<h2> Комментарий ревьюера <a class=\"tocSkip\"> </h2>\n",
    "\n",
    "<b>Все отлично!👍:</b> \n",
    "    \n",
    "Отличные расчёты и использование группировки таблицы на высоте! "
   ]
  },
  {
   "cell_type": "markdown",
   "id": "c30b46de",
   "metadata": {
    "deletable": false,
    "editable": false,
    "id": "97be82ca"
   },
   "source": [
    "#### 3.2 Есть ли зависимость между семейным положением и возвратом кредита в срок?"
   ]
  },
  {
   "cell_type": "code",
   "execution_count": 25,
   "id": "5270c524",
   "metadata": {
    "deletable": false,
    "id": "dc3f7ee8"
   },
   "outputs": [
    {
     "data": {
      "text/plain": [
       "family_status\n",
       "Не женат / не замужем    0.097639\n",
       "в разводе                0.070648\n",
       "вдовец / вдова           0.066246\n",
       "гражданский брак         0.093130\n",
       "женат / замужем          0.075606\n",
       "Name: debt, dtype: float64"
      ]
     },
     "execution_count": 25,
     "metadata": {},
     "output_type": "execute_result"
    }
   ],
   "source": [
    "data.groupby('family_status')['debt'].mean()"
   ]
  },
  {
   "cell_type": "code",
   "execution_count": 26,
   "id": "b7337e7c",
   "metadata": {},
   "outputs": [
    {
     "data": {
      "text/plain": [
       "женат / замужем          12261\n",
       "гражданский брак          4134\n",
       "Не женат / не замужем     2796\n",
       "в разводе                 1189\n",
       "вдовец / вдова             951\n",
       "Name: family_status, dtype: int64"
      ]
     },
     "execution_count": 26,
     "metadata": {},
     "output_type": "execute_result"
    }
   ],
   "source": [
    "data['family_status'].value_counts()"
   ]
  },
  {
   "cell_type": "markdown",
   "id": "e1ad0c47",
   "metadata": {
    "deletable": false,
    "id": "1cef7837"
   },
   "source": [
    "**Вывод:** \n",
    "Все группы (по-моему) достаточно большие, чтобы статистика по ним была значима.  \n",
    "1. Лучше всех платят люди, потерявшие половинку.\n",
    "2. Чуть хуже платят люди в разводе.\n",
    "3. На третьем и четвёртом месте распожились люди в браке, и не расписанные пары.\n",
    "4. Хуже ввсех платят одиночки."
   ]
  },
  {
   "cell_type": "markdown",
   "id": "f0664a86",
   "metadata": {},
   "source": [
    "<div class=\"alert alert-block alert-danger\">\n",
    "<h2> Комментарий ревьюера <a class=\"tocSkip\"></h2>\n",
    "\n",
    "    \n",
    "<b>На доработку🤔:</b>\n",
    "    \n",
    "\n",
    "Замечательная группировка, но вывод совсем общий. Добавь конкретики, пожалуйста. Кто платит долги лучше, а кто хуже?"
   ]
  },
  {
   "cell_type": "markdown",
   "id": "66adefc4",
   "metadata": {},
   "source": [
    "<div class=\"alert alert-success\">\n",
    "<h2>V2 Комментарий ревьюера <a class=\"tocSkip\"> </h2>\n",
    "\n",
    "<b>Все отлично!👍:</b> \n",
    "    \n",
    "Теперь всё супер! "
   ]
  },
  {
   "cell_type": "markdown",
   "id": "42d5589e",
   "metadata": {
    "deletable": false,
    "editable": false,
    "id": "1e8b2fca"
   },
   "source": [
    "#### 3.3 Есть ли зависимость между уровнем дохода и возвратом кредита в срок?"
   ]
  },
  {
   "cell_type": "code",
   "execution_count": 27,
   "id": "19461555",
   "metadata": {
    "deletable": false,
    "id": "cd7e3720"
   },
   "outputs": [
    {
     "data": {
      "text/plain": [
       "total_income_category\n",
       "A    0.080000\n",
       "B    0.070602\n",
       "C    0.084982\n",
       "D    0.060172\n",
       "E    0.090909\n",
       "Name: debt, dtype: float64"
      ]
     },
     "execution_count": 27,
     "metadata": {},
     "output_type": "execute_result"
    }
   ],
   "source": [
    "data.groupby('total_income_category')['debt'].mean()"
   ]
  },
  {
   "cell_type": "code",
   "execution_count": 28,
   "id": "e3b9b5f7",
   "metadata": {},
   "outputs": [
    {
     "data": {
      "text/plain": [
       "C    15921\n",
       "B     5014\n",
       "D      349\n",
       "A       25\n",
       "E       22\n",
       "Name: total_income_category, dtype: int64"
      ]
     },
     "execution_count": 28,
     "metadata": {},
     "output_type": "execute_result"
    }
   ],
   "source": [
    "data['total_income_category'].value_counts()"
   ]
  },
  {
   "cell_type": "markdown",
   "id": "1832882a",
   "metadata": {
    "deletable": false,
    "id": "e8593def"
   },
   "source": [
    "**Вывод:** \n",
    "1. Группы A, D, E очень малы.\n",
    "2. Разница между C и B заметна: целых 1.5 процентных пункта."
   ]
  },
  {
   "cell_type": "markdown",
   "id": "df1a66a1",
   "metadata": {},
   "source": [
    "<div class=\"alert alert-success\">\n",
    "<h2> Комментарий ревьюера <a class=\"tocSkip\"> </h2>\n",
    "\n",
    "<b>Все отлично!👍:</b> \n",
    "    \n",
    "Замечательно! Отличное наблюдение о категориях А, D и E!"
   ]
  },
  {
   "cell_type": "markdown",
   "id": "05e32578",
   "metadata": {
    "deletable": false,
    "editable": false,
    "id": "99ecbd1f"
   },
   "source": [
    "#### 3.4 Как разные цели кредита влияют на его возврат в срок?"
   ]
  },
  {
   "cell_type": "code",
   "execution_count": 29,
   "id": "c0d83fe0",
   "metadata": {
    "deletable": false,
    "id": "2b687290"
   },
   "outputs": [
    {
     "data": {
      "text/plain": [
       "purpose_category\n",
       "операции с автомобилем      0.093480\n",
       "операции с недвижимостью    0.072551\n",
       "получение образования       0.092528\n",
       "проведение свадьбы          0.079118\n",
       "Name: debt, dtype: float64"
      ]
     },
     "execution_count": 29,
     "metadata": {},
     "output_type": "execute_result"
    }
   ],
   "source": [
    "data.groupby('purpose_category')['debt'].mean()"
   ]
  },
  {
   "cell_type": "code",
   "execution_count": 30,
   "id": "b7192c1c",
   "metadata": {},
   "outputs": [
    {
     "data": {
      "text/plain": [
       "операции с недвижимостью    10751\n",
       "операции с автомобилем       4279\n",
       "получение образования        3988\n",
       "проведение свадьбы           2313\n",
       "Name: purpose_category, dtype: int64"
      ]
     },
     "execution_count": 30,
     "metadata": {},
     "output_type": "execute_result"
    }
   ],
   "source": [
    "data['purpose_category'].value_counts()"
   ]
  },
  {
   "cell_type": "markdown",
   "id": "cf205c0d",
   "metadata": {
    "deletable": false,
    "id": "b4bb2ce6"
   },
   "source": [
    "**Вывод:** \n",
    "1. Группы достаточно большие.\n",
    "2. Лучше всего обстоят дела у людей, взявших кридт на недвижимость. Удивительно, но люди, проводящие свадьбы тоже достаточно хорошо возврашают деньги. (Должно быть окупаются подарками). Хуже всего дела у людей, берущих кредит на автомобиль и образование."
   ]
  },
  {
   "cell_type": "markdown",
   "id": "e0190a0e",
   "metadata": {},
   "source": [
    "<div class=\"alert alert-success\">\n",
    "<h2> Комментарий ревьюера <a class=\"tocSkip\"> </h2>\n",
    "\n",
    "<b>Все отлично!👍:</b> \n",
    "    \n",
    "Отличный анализ!"
   ]
  },
  {
   "cell_type": "markdown",
   "id": "fdff8750",
   "metadata": {
    "deletable": false,
    "editable": false,
    "id": "09c3ac4c"
   },
   "source": [
    "#### 3.5 Приведите возможные причины появления пропусков в исходных данных."
   ]
  },
  {
   "cell_type": "markdown",
   "id": "823d3a86",
   "metadata": {
    "deletable": false,
    "id": "9da2ceda"
   },
   "source": [
    "*Ответ:* \n",
    "Пропуски наблюдаются в столбцах, фиксирующих дни трудового стажа и уровень дохода. Причём пропуски наблюдаются в строчках одновременно.\n",
    "Должно быть это безработные."
   ]
  },
  {
   "cell_type": "markdown",
   "id": "b0a450b7",
   "metadata": {},
   "source": [
    "<div class=\"alert alert-success\">\n",
    "<h2> Комментарий ревьюера <a class=\"tocSkip\"> </h2>\n",
    "\n",
    "<b>Все отлично!👍:</b> \n",
    "    \n",
    "А может кто-то не хочет указывать эти данные. Если проверить, у клиентов из категории сотрудник тоже бывают пропуски в этих столбцах. "
   ]
  },
  {
   "cell_type": "markdown",
   "id": "aca8f2ee",
   "metadata": {
    "deletable": false,
    "editable": false,
    "id": "7b0487d6"
   },
   "source": [
    "#### 3.6 Объясните, почему заполнить пропуски медианным значением — лучшее решение для количественных переменных."
   ]
  },
  {
   "cell_type": "markdown",
   "id": "5780c146",
   "metadata": {
    "deletable": false,
    "id": "7ecf2b8e"
   },
   "source": [
    "*Ответ:* Потому что могут быть значения, которые сильно выбиваются из \"среднего\" диапазона и при вычислении среднего арифметического сильно уводят его значение."
   ]
  },
  {
   "cell_type": "markdown",
   "id": "776d252f",
   "metadata": {},
   "source": [
    "<div class=\"alert alert-success\">\n",
    "<h2> Комментарий ревьюера <a class=\"tocSkip\"> </h2>\n",
    "\n",
    "<b>Все отлично!👍:</b> \n",
    "    \n",
    "Отличное объяснение!"
   ]
  },
  {
   "cell_type": "markdown",
   "id": "5b646e9f",
   "metadata": {
    "deletable": false,
    "editable": false,
    "id": "6db5255a"
   },
   "source": [
    "### Шаг 4: общий вывод."
   ]
  },
  {
   "cell_type": "markdown",
   "id": "4ce3d4dc",
   "metadata": {
    "deletable": false,
    "id": "bad65432"
   },
   "source": [
    "1. Заёмщики с детьми просрачивают возвращение кредита чаще на 2-2.5 процентных пункта.\n",
    "2. Семейное положение влияет на наличие долга.\n",
    "3. Уровень дохода влияет: люди из группы B на 1.5 процентных пункта возвращают деньги чаще, чем из группы C.\n",
    "4. Цели тоже влияют."
   ]
  },
  {
   "cell_type": "markdown",
   "id": "19a0b3c1",
   "metadata": {},
   "source": [
    "<div class=\"alert alert-success\">\n",
    "<h2> Комментарий ревьюера <a class=\"tocSkip\"> </h2>\n",
    "\n",
    "<b>Все отлично!👍:</b> \n",
    "    \n",
    "Исчерпывающий вывод! "
   ]
  },
  {
   "cell_type": "markdown",
   "id": "b0da3e00",
   "metadata": {},
   "source": [
    "<div class=\"alert alert-info\">\n",
    "\n",
    "**Общий вывод по проекту**\n",
    "\n",
    "Михаил, спасибо за твой проект! В него действительно вложено много сил и времени! Изучение аналитики данных всегда требует больших усилий, мы это очень ценим! С каждым новым выполненным проектом ты приближаешься всё ближе и ближе к окончанию курса и возможности трудоустройства в новом качестве. \n",
    "    \n",
    "**Отмечу отдельные положительные моменты проекта🙂**:\n",
    " \n",
    "* Использование функций из программы курса на высоте. Хорошая работа!\n",
    "* Здорово получается искать и подмечать зависимости между различными данными и закономерности в них!\n",
    "* Везде есть коментарии и промежуточные выводы.\n",
    "\n",
    "**Отличная работа! С удовольствием принимаю проект!**😉\n",
    "    \n",
    "![gif](https://media.giphy.com/media/l41Yh1olOKd1Tgbw4/giphy.gif)"
   ]
  },
  {
   "cell_type": "markdown",
   "id": "d39081ee",
   "metadata": {},
   "source": [
    "<div class=\"alert alert-info\">\n",
    "<h2>V2 Комментарий ревьюера <a class=\"tocSkip\"> </h2>\n",
    "\n",
    "Михаил, отличная работа! Успехов в учёбе! "
   ]
  }
 ],
 "metadata": {
  "ExecuteTimeLog": [
   {
    "duration": 472,
    "start_time": "2022-08-20T17:24:36.778Z"
   },
   {
    "duration": 22,
    "start_time": "2022-08-20T17:24:40.133Z"
   },
   {
    "duration": 17,
    "start_time": "2022-08-20T17:24:46.409Z"
   },
   {
    "duration": 11,
    "start_time": "2022-08-20T17:24:49.452Z"
   },
   {
    "duration": 33,
    "start_time": "2022-08-20T17:24:58.702Z"
   },
   {
    "duration": 4,
    "start_time": "2022-08-20T17:25:05.047Z"
   },
   {
    "duration": 8,
    "start_time": "2022-08-20T17:25:08.092Z"
   },
   {
    "duration": 4,
    "start_time": "2022-08-20T17:25:15.204Z"
   },
   {
    "duration": 7,
    "start_time": "2022-08-20T17:25:21.561Z"
   },
   {
    "duration": 4,
    "start_time": "2022-08-20T17:25:23.820Z"
   },
   {
    "duration": 31,
    "start_time": "2022-08-20T17:25:27.336Z"
   },
   {
    "duration": 10,
    "start_time": "2022-08-20T17:25:29.524Z"
   },
   {
    "duration": 4,
    "start_time": "2022-08-20T17:25:32.129Z"
   },
   {
    "duration": 10,
    "start_time": "2022-08-20T17:25:34.186Z"
   },
   {
    "duration": 29,
    "start_time": "2022-08-20T17:25:36.006Z"
   },
   {
    "duration": 18,
    "start_time": "2022-08-20T17:25:37.934Z"
   },
   {
    "duration": 3,
    "start_time": "2022-08-20T17:25:47.399Z"
   },
   {
    "duration": 9,
    "start_time": "2022-08-20T17:25:50.336Z"
   },
   {
    "duration": 6,
    "start_time": "2022-08-20T17:25:53.294Z"
   },
   {
    "duration": 3,
    "start_time": "2022-08-20T17:26:01.914Z"
   },
   {
    "duration": 9,
    "start_time": "2022-08-20T17:26:06.067Z"
   },
   {
    "duration": 6,
    "start_time": "2022-08-20T17:27:03.704Z"
   },
   {
    "duration": 18,
    "start_time": "2022-08-20T17:27:43.553Z"
   },
   {
    "duration": 7,
    "start_time": "2022-08-20T17:29:55.910Z"
   },
   {
    "duration": 6,
    "start_time": "2022-08-20T17:31:26.520Z"
   },
   {
    "duration": 7,
    "start_time": "2022-08-20T17:31:54.601Z"
   },
   {
    "duration": 6,
    "start_time": "2022-08-20T17:31:55.595Z"
   },
   {
    "duration": 3,
    "start_time": "2022-08-20T17:32:49.033Z"
   },
   {
    "duration": 2,
    "start_time": "2022-08-20T17:32:58.701Z"
   },
   {
    "duration": 7,
    "start_time": "2022-08-20T17:33:07.503Z"
   },
   {
    "duration": 3,
    "start_time": "2022-08-20T17:33:24.353Z"
   },
   {
    "duration": 3,
    "start_time": "2022-08-20T17:33:26.159Z"
   },
   {
    "duration": 10,
    "start_time": "2022-08-20T17:35:50.049Z"
   },
   {
    "duration": 2,
    "start_time": "2022-08-20T17:35:55.345Z"
   },
   {
    "duration": 67,
    "start_time": "2022-08-20T17:36:25.199Z"
   },
   {
    "duration": 362,
    "start_time": "2022-08-20T17:36:28.646Z"
   },
   {
    "duration": 4,
    "start_time": "2022-08-20T17:36:31.113Z"
   },
   {
    "duration": 115,
    "start_time": "2022-08-20T17:36:32.964Z"
   },
   {
    "duration": 455,
    "start_time": "2022-08-20T17:37:14.703Z"
   },
   {
    "duration": 21,
    "start_time": "2022-08-20T17:37:15.160Z"
   },
   {
    "duration": 14,
    "start_time": "2022-08-20T17:37:15.182Z"
   },
   {
    "duration": 9,
    "start_time": "2022-08-20T17:37:15.198Z"
   },
   {
    "duration": 35,
    "start_time": "2022-08-20T17:37:15.208Z"
   },
   {
    "duration": 4,
    "start_time": "2022-08-20T17:37:15.244Z"
   },
   {
    "duration": 10,
    "start_time": "2022-08-20T17:37:15.249Z"
   },
   {
    "duration": 4,
    "start_time": "2022-08-20T17:37:15.261Z"
   },
   {
    "duration": 7,
    "start_time": "2022-08-20T17:37:15.286Z"
   },
   {
    "duration": 4,
    "start_time": "2022-08-20T17:37:15.295Z"
   },
   {
    "duration": 34,
    "start_time": "2022-08-20T17:37:15.300Z"
   },
   {
    "duration": 8,
    "start_time": "2022-08-20T17:37:15.336Z"
   },
   {
    "duration": 7,
    "start_time": "2022-08-20T17:37:15.346Z"
   },
   {
    "duration": 12,
    "start_time": "2022-08-20T17:37:15.354Z"
   },
   {
    "duration": 17,
    "start_time": "2022-08-20T17:37:15.387Z"
   },
   {
    "duration": 14,
    "start_time": "2022-08-20T17:37:15.406Z"
   },
   {
    "duration": 3,
    "start_time": "2022-08-20T17:37:15.422Z"
   },
   {
    "duration": 14,
    "start_time": "2022-08-20T17:37:15.426Z"
   },
   {
    "duration": 5,
    "start_time": "2022-08-20T17:37:15.441Z"
   },
   {
    "duration": 3,
    "start_time": "2022-08-20T17:37:15.448Z"
   },
   {
    "duration": 34,
    "start_time": "2022-08-20T17:37:15.453Z"
   },
   {
    "duration": 199,
    "start_time": "2022-08-20T17:37:15.488Z"
   },
   {
    "duration": 6,
    "start_time": "2022-08-20T17:37:15.689Z"
   },
   {
    "duration": 4,
    "start_time": "2022-08-20T17:37:15.696Z"
   },
   {
    "duration": 6,
    "start_time": "2022-08-20T17:37:15.702Z"
   },
   {
    "duration": 5,
    "start_time": "2022-08-20T17:37:15.709Z"
   },
   {
    "duration": 6,
    "start_time": "2022-08-20T17:38:00.801Z"
   },
   {
    "duration": 9,
    "start_time": "2022-08-20T17:38:55.090Z"
   },
   {
    "duration": 6,
    "start_time": "2022-08-20T17:40:30.658Z"
   },
   {
    "duration": 479,
    "start_time": "2022-08-20T17:46:32.158Z"
   },
   {
    "duration": 20,
    "start_time": "2022-08-20T17:46:32.638Z"
   },
   {
    "duration": 15,
    "start_time": "2022-08-20T17:46:32.660Z"
   },
   {
    "duration": 14,
    "start_time": "2022-08-20T17:46:32.677Z"
   },
   {
    "duration": 38,
    "start_time": "2022-08-20T17:46:32.693Z"
   },
   {
    "duration": 4,
    "start_time": "2022-08-20T17:46:32.733Z"
   },
   {
    "duration": 24,
    "start_time": "2022-08-20T17:46:32.738Z"
   },
   {
    "duration": 23,
    "start_time": "2022-08-20T17:46:32.764Z"
   },
   {
    "duration": 19,
    "start_time": "2022-08-20T17:46:32.789Z"
   },
   {
    "duration": 20,
    "start_time": "2022-08-20T17:46:32.811Z"
   },
   {
    "duration": 37,
    "start_time": "2022-08-20T17:46:32.832Z"
   },
   {
    "duration": 9,
    "start_time": "2022-08-20T17:46:32.871Z"
   },
   {
    "duration": 9,
    "start_time": "2022-08-20T17:46:32.881Z"
   },
   {
    "duration": 41,
    "start_time": "2022-08-20T17:46:32.891Z"
   },
   {
    "duration": 28,
    "start_time": "2022-08-20T17:46:32.934Z"
   },
   {
    "duration": 15,
    "start_time": "2022-08-20T17:46:32.963Z"
   },
   {
    "duration": 6,
    "start_time": "2022-08-20T17:46:32.979Z"
   },
   {
    "duration": 21,
    "start_time": "2022-08-20T17:46:32.987Z"
   },
   {
    "duration": 17,
    "start_time": "2022-08-20T17:46:33.010Z"
   },
   {
    "duration": 39,
    "start_time": "2022-08-20T17:46:33.029Z"
   },
   {
    "duration": 18,
    "start_time": "2022-08-20T17:46:33.069Z"
   },
   {
    "duration": 16,
    "start_time": "2022-08-20T17:46:33.088Z"
   },
   {
    "duration": 33,
    "start_time": "2022-08-20T17:46:33.106Z"
   },
   {
    "duration": 19,
    "start_time": "2022-08-20T17:46:33.141Z"
   },
   {
    "duration": 8,
    "start_time": "2022-08-20T17:46:33.162Z"
   },
   {
    "duration": 5,
    "start_time": "2022-08-20T18:14:31.023Z"
   },
   {
    "duration": 5,
    "start_time": "2022-08-20T18:16:06.330Z"
   },
   {
    "duration": 8,
    "start_time": "2022-08-20T18:20:16.303Z"
   },
   {
    "duration": 7,
    "start_time": "2022-08-20T18:21:00.562Z"
   },
   {
    "duration": 6,
    "start_time": "2022-08-20T18:21:51.399Z"
   },
   {
    "duration": 7,
    "start_time": "2022-08-20T18:22:38.733Z"
   },
   {
    "duration": 78,
    "start_time": "2022-08-20T18:23:16.197Z"
   },
   {
    "duration": 10,
    "start_time": "2022-08-20T18:23:32.507Z"
   },
   {
    "duration": 9,
    "start_time": "2022-08-20T18:23:36.318Z"
   },
   {
    "duration": 7,
    "start_time": "2022-08-20T18:23:44.499Z"
   },
   {
    "duration": 211,
    "start_time": "2022-08-20T18:26:40.264Z"
   },
   {
    "duration": 199,
    "start_time": "2022-08-20T18:26:56.215Z"
   },
   {
    "duration": 179,
    "start_time": "2022-08-20T18:27:10.348Z"
   },
   {
    "duration": 168,
    "start_time": "2022-08-20T18:27:19.560Z"
   },
   {
    "duration": 5,
    "start_time": "2022-08-20T18:46:23.928Z"
   },
   {
    "duration": 5,
    "start_time": "2022-08-20T18:47:37.535Z"
   },
   {
    "duration": 423,
    "start_time": "2022-08-20T18:47:42.935Z"
   },
   {
    "duration": 20,
    "start_time": "2022-08-20T18:47:43.360Z"
   },
   {
    "duration": 14,
    "start_time": "2022-08-20T18:47:43.382Z"
   },
   {
    "duration": 9,
    "start_time": "2022-08-20T18:47:43.398Z"
   },
   {
    "duration": 34,
    "start_time": "2022-08-20T18:47:43.408Z"
   },
   {
    "duration": 4,
    "start_time": "2022-08-20T18:47:43.444Z"
   },
   {
    "duration": 10,
    "start_time": "2022-08-20T18:47:43.450Z"
   },
   {
    "duration": 26,
    "start_time": "2022-08-20T18:47:43.462Z"
   },
   {
    "duration": 11,
    "start_time": "2022-08-20T18:47:43.490Z"
   },
   {
    "duration": 4,
    "start_time": "2022-08-20T18:47:43.504Z"
   },
   {
    "duration": 7,
    "start_time": "2022-08-20T18:47:43.510Z"
   },
   {
    "duration": 37,
    "start_time": "2022-08-20T18:47:43.518Z"
   },
   {
    "duration": 10,
    "start_time": "2022-08-20T18:47:43.557Z"
   },
   {
    "duration": 4,
    "start_time": "2022-08-20T18:47:43.569Z"
   },
   {
    "duration": 22,
    "start_time": "2022-08-20T18:47:43.574Z"
   },
   {
    "duration": 25,
    "start_time": "2022-08-20T18:47:43.598Z"
   },
   {
    "duration": 18,
    "start_time": "2022-08-20T18:47:43.625Z"
   },
   {
    "duration": 4,
    "start_time": "2022-08-20T18:47:43.644Z"
   },
   {
    "duration": 13,
    "start_time": "2022-08-20T18:47:43.650Z"
   },
   {
    "duration": 6,
    "start_time": "2022-08-20T18:47:43.664Z"
   },
   {
    "duration": 4,
    "start_time": "2022-08-20T18:47:43.671Z"
   },
   {
    "duration": 13,
    "start_time": "2022-08-20T18:47:43.676Z"
   },
   {
    "duration": 8,
    "start_time": "2022-08-20T18:47:43.690Z"
   },
   {
    "duration": 5,
    "start_time": "2022-08-20T18:47:43.699Z"
   },
   {
    "duration": 9,
    "start_time": "2022-08-20T18:47:43.705Z"
   },
   {
    "duration": 6,
    "start_time": "2022-08-20T18:47:43.716Z"
   },
   {
    "duration": 10,
    "start_time": "2022-08-20T18:47:43.723Z"
   },
   {
    "duration": 6,
    "start_time": "2022-08-20T18:47:43.735Z"
   },
   {
    "duration": 9,
    "start_time": "2022-08-20T18:47:43.742Z"
   },
   {
    "duration": 6,
    "start_time": "2022-08-20T18:47:43.752Z"
   },
   {
    "duration": 429,
    "start_time": "2022-08-20T18:48:40.530Z"
   },
   {
    "duration": 21,
    "start_time": "2022-08-20T18:48:40.961Z"
   },
   {
    "duration": 16,
    "start_time": "2022-08-20T18:48:40.984Z"
   },
   {
    "duration": 15,
    "start_time": "2022-08-20T18:48:41.001Z"
   },
   {
    "duration": 39,
    "start_time": "2022-08-20T18:48:41.018Z"
   },
   {
    "duration": 3,
    "start_time": "2022-08-20T18:48:41.058Z"
   },
   {
    "duration": 22,
    "start_time": "2022-08-20T18:48:41.062Z"
   },
   {
    "duration": 5,
    "start_time": "2022-08-20T18:48:41.086Z"
   },
   {
    "duration": 10,
    "start_time": "2022-08-20T18:48:41.093Z"
   },
   {
    "duration": 22,
    "start_time": "2022-08-20T18:48:41.104Z"
   },
   {
    "duration": 16,
    "start_time": "2022-08-20T18:48:41.127Z"
   },
   {
    "duration": 38,
    "start_time": "2022-08-20T18:48:41.145Z"
   },
   {
    "duration": 8,
    "start_time": "2022-08-20T18:48:41.185Z"
   },
   {
    "duration": 13,
    "start_time": "2022-08-20T18:48:41.195Z"
   },
   {
    "duration": 24,
    "start_time": "2022-08-20T18:48:41.210Z"
   },
   {
    "duration": 25,
    "start_time": "2022-08-20T18:48:41.235Z"
   },
   {
    "duration": 15,
    "start_time": "2022-08-20T18:48:41.262Z"
   },
   {
    "duration": 3,
    "start_time": "2022-08-20T18:48:41.278Z"
   },
   {
    "duration": 10,
    "start_time": "2022-08-20T18:48:41.286Z"
   },
   {
    "duration": 15,
    "start_time": "2022-08-20T18:48:41.298Z"
   },
   {
    "duration": 13,
    "start_time": "2022-08-20T18:48:41.314Z"
   },
   {
    "duration": 23,
    "start_time": "2022-08-20T18:48:41.328Z"
   },
   {
    "duration": 26,
    "start_time": "2022-08-20T18:48:41.352Z"
   },
   {
    "duration": 8,
    "start_time": "2022-08-20T18:48:41.380Z"
   },
   {
    "duration": 14,
    "start_time": "2022-08-20T18:48:41.389Z"
   },
   {
    "duration": 20,
    "start_time": "2022-08-20T18:48:41.404Z"
   },
   {
    "duration": 14,
    "start_time": "2022-08-20T18:48:41.426Z"
   },
   {
    "duration": 19,
    "start_time": "2022-08-20T18:48:41.441Z"
   },
   {
    "duration": 13,
    "start_time": "2022-08-20T18:48:41.461Z"
   },
   {
    "duration": 14,
    "start_time": "2022-08-20T18:48:41.475Z"
   },
   {
    "duration": 5,
    "start_time": "2022-08-20T18:49:48.515Z"
   },
   {
    "duration": 529,
    "start_time": "2022-08-20T18:50:05.855Z"
   },
   {
    "duration": 27,
    "start_time": "2022-08-20T18:50:06.387Z"
   },
   {
    "duration": 39,
    "start_time": "2022-08-20T18:50:06.416Z"
   },
   {
    "duration": 13,
    "start_time": "2022-08-20T18:50:06.458Z"
   },
   {
    "duration": 54,
    "start_time": "2022-08-20T18:50:06.473Z"
   },
   {
    "duration": 3,
    "start_time": "2022-08-20T18:50:06.529Z"
   },
   {
    "duration": 21,
    "start_time": "2022-08-20T18:50:06.534Z"
   },
   {
    "duration": 26,
    "start_time": "2022-08-20T18:50:06.558Z"
   },
   {
    "duration": 26,
    "start_time": "2022-08-20T18:50:06.586Z"
   },
   {
    "duration": 13,
    "start_time": "2022-08-20T18:50:06.616Z"
   },
   {
    "duration": 35,
    "start_time": "2022-08-20T18:50:06.630Z"
   },
   {
    "duration": 55,
    "start_time": "2022-08-20T18:50:06.667Z"
   },
   {
    "duration": 12,
    "start_time": "2022-08-20T18:50:06.723Z"
   },
   {
    "duration": 30,
    "start_time": "2022-08-20T18:50:06.736Z"
   },
   {
    "duration": 37,
    "start_time": "2022-08-20T18:50:06.767Z"
   },
   {
    "duration": 38,
    "start_time": "2022-08-20T18:50:06.806Z"
   },
   {
    "duration": 25,
    "start_time": "2022-08-20T18:50:06.846Z"
   },
   {
    "duration": 8,
    "start_time": "2022-08-20T18:50:06.873Z"
   },
   {
    "duration": 28,
    "start_time": "2022-08-20T18:50:06.882Z"
   },
   {
    "duration": 31,
    "start_time": "2022-08-20T18:50:06.911Z"
   },
   {
    "duration": 21,
    "start_time": "2022-08-20T18:50:06.943Z"
   },
   {
    "duration": 32,
    "start_time": "2022-08-20T18:50:06.966Z"
   },
   {
    "duration": 37,
    "start_time": "2022-08-20T18:50:07.000Z"
   },
   {
    "duration": 24,
    "start_time": "2022-08-20T18:50:07.039Z"
   },
   {
    "duration": 38,
    "start_time": "2022-08-20T18:50:07.065Z"
   },
   {
    "duration": 21,
    "start_time": "2022-08-20T18:50:07.105Z"
   },
   {
    "duration": 25,
    "start_time": "2022-08-20T18:50:07.128Z"
   },
   {
    "duration": 40,
    "start_time": "2022-08-20T18:50:07.156Z"
   },
   {
    "duration": 32,
    "start_time": "2022-08-20T18:50:07.199Z"
   },
   {
    "duration": 30,
    "start_time": "2022-08-20T18:50:07.233Z"
   },
   {
    "duration": 444,
    "start_time": "2022-08-20T18:51:05.221Z"
   },
   {
    "duration": 23,
    "start_time": "2022-08-20T18:51:05.666Z"
   },
   {
    "duration": 18,
    "start_time": "2022-08-20T18:51:05.690Z"
   },
   {
    "duration": 10,
    "start_time": "2022-08-20T18:51:05.710Z"
   },
   {
    "duration": 5,
    "start_time": "2022-08-20T18:51:05.722Z"
   },
   {
    "duration": 34,
    "start_time": "2022-08-20T18:51:05.728Z"
   },
   {
    "duration": 3,
    "start_time": "2022-08-20T18:51:05.787Z"
   },
   {
    "duration": 13,
    "start_time": "2022-08-20T18:51:05.792Z"
   },
   {
    "duration": 4,
    "start_time": "2022-08-20T18:51:05.806Z"
   },
   {
    "duration": 8,
    "start_time": "2022-08-20T18:51:05.814Z"
   },
   {
    "duration": 6,
    "start_time": "2022-08-20T18:51:05.824Z"
   },
   {
    "duration": 41,
    "start_time": "2022-08-20T18:51:05.831Z"
   },
   {
    "duration": 9,
    "start_time": "2022-08-20T18:51:05.886Z"
   },
   {
    "duration": 5,
    "start_time": "2022-08-20T18:51:05.897Z"
   },
   {
    "duration": 18,
    "start_time": "2022-08-20T18:51:05.904Z"
   },
   {
    "duration": 22,
    "start_time": "2022-08-20T18:51:05.924Z"
   },
   {
    "duration": 17,
    "start_time": "2022-08-20T18:51:05.948Z"
   },
   {
    "duration": 21,
    "start_time": "2022-08-20T18:51:05.966Z"
   },
   {
    "duration": 10,
    "start_time": "2022-08-20T18:51:05.988Z"
   },
   {
    "duration": 46,
    "start_time": "2022-08-20T18:51:06.000Z"
   },
   {
    "duration": 4,
    "start_time": "2022-08-20T18:51:06.048Z"
   },
   {
    "duration": 12,
    "start_time": "2022-08-20T18:51:06.055Z"
   },
   {
    "duration": 6,
    "start_time": "2022-08-20T18:51:06.068Z"
   },
   {
    "duration": 6,
    "start_time": "2022-08-20T18:51:06.076Z"
   },
   {
    "duration": 9,
    "start_time": "2022-08-20T18:51:06.084Z"
   },
   {
    "duration": 8,
    "start_time": "2022-08-20T18:51:06.094Z"
   },
   {
    "duration": 11,
    "start_time": "2022-08-20T18:51:06.103Z"
   },
   {
    "duration": 7,
    "start_time": "2022-08-20T18:51:06.117Z"
   },
   {
    "duration": 15,
    "start_time": "2022-08-20T18:51:06.125Z"
   },
   {
    "duration": 6,
    "start_time": "2022-08-20T18:51:06.142Z"
   },
   {
    "duration": 4,
    "start_time": "2022-08-20T18:51:23.530Z"
   },
   {
    "duration": 6,
    "start_time": "2022-08-20T18:51:36.944Z"
   },
   {
    "duration": 493,
    "start_time": "2022-08-20T18:51:41.060Z"
   },
   {
    "duration": 20,
    "start_time": "2022-08-20T18:51:41.555Z"
   },
   {
    "duration": 14,
    "start_time": "2022-08-20T18:51:41.576Z"
   },
   {
    "duration": 9,
    "start_time": "2022-08-20T18:51:41.592Z"
   },
   {
    "duration": 7,
    "start_time": "2022-08-20T18:51:41.603Z"
   },
   {
    "duration": 33,
    "start_time": "2022-08-20T18:51:41.611Z"
   },
   {
    "duration": 3,
    "start_time": "2022-08-20T18:51:41.646Z"
   },
   {
    "duration": 13,
    "start_time": "2022-08-20T18:51:41.650Z"
   },
   {
    "duration": 24,
    "start_time": "2022-08-20T18:51:41.665Z"
   },
   {
    "duration": 9,
    "start_time": "2022-08-20T18:51:41.691Z"
   },
   {
    "duration": 4,
    "start_time": "2022-08-20T18:51:41.702Z"
   },
   {
    "duration": 38,
    "start_time": "2022-08-20T18:51:41.708Z"
   },
   {
    "duration": 11,
    "start_time": "2022-08-20T18:51:41.747Z"
   },
   {
    "duration": 29,
    "start_time": "2022-08-20T18:51:41.760Z"
   },
   {
    "duration": 16,
    "start_time": "2022-08-20T18:51:41.791Z"
   },
   {
    "duration": 26,
    "start_time": "2022-08-20T18:51:41.809Z"
   },
   {
    "duration": 25,
    "start_time": "2022-08-20T18:51:41.837Z"
   },
   {
    "duration": 26,
    "start_time": "2022-08-20T18:51:41.864Z"
   },
   {
    "duration": 15,
    "start_time": "2022-08-20T18:51:41.892Z"
   },
   {
    "duration": 7,
    "start_time": "2022-08-20T18:51:41.908Z"
   },
   {
    "duration": 7,
    "start_time": "2022-08-20T18:51:41.916Z"
   },
   {
    "duration": 10,
    "start_time": "2022-08-20T18:51:41.925Z"
   },
   {
    "duration": 8,
    "start_time": "2022-08-20T18:51:41.936Z"
   },
   {
    "duration": 6,
    "start_time": "2022-08-20T18:51:41.946Z"
   },
   {
    "duration": 36,
    "start_time": "2022-08-20T18:51:41.953Z"
   },
   {
    "duration": 7,
    "start_time": "2022-08-20T18:51:41.990Z"
   },
   {
    "duration": 9,
    "start_time": "2022-08-20T18:51:41.999Z"
   },
   {
    "duration": 7,
    "start_time": "2022-08-20T18:51:42.012Z"
   },
   {
    "duration": 10,
    "start_time": "2022-08-20T18:51:42.020Z"
   },
   {
    "duration": 7,
    "start_time": "2022-08-20T18:51:42.032Z"
   },
   {
    "duration": 47,
    "start_time": "2022-08-20T18:52:41.736Z"
   },
   {
    "duration": 6,
    "start_time": "2022-08-20T18:52:49.399Z"
   },
   {
    "duration": 435,
    "start_time": "2022-08-20T18:52:54.047Z"
   },
   {
    "duration": 21,
    "start_time": "2022-08-20T18:52:54.484Z"
   },
   {
    "duration": 14,
    "start_time": "2022-08-20T18:52:54.506Z"
   },
   {
    "duration": 9,
    "start_time": "2022-08-20T18:52:54.522Z"
   },
   {
    "duration": 6,
    "start_time": "2022-08-20T18:52:54.532Z"
   },
   {
    "duration": 52,
    "start_time": "2022-08-20T18:52:54.539Z"
   },
   {
    "duration": 3,
    "start_time": "2022-08-20T18:52:54.593Z"
   },
   {
    "duration": 10,
    "start_time": "2022-08-20T18:52:54.598Z"
   },
   {
    "duration": 4,
    "start_time": "2022-08-20T18:52:54.610Z"
   },
   {
    "duration": 14,
    "start_time": "2022-08-20T18:52:54.618Z"
   },
   {
    "duration": 4,
    "start_time": "2022-08-20T18:52:54.634Z"
   },
   {
    "duration": 53,
    "start_time": "2022-08-20T18:52:54.640Z"
   },
   {
    "duration": 11,
    "start_time": "2022-08-20T18:52:54.695Z"
   },
   {
    "duration": 4,
    "start_time": "2022-08-20T18:52:54.707Z"
   },
   {
    "duration": 13,
    "start_time": "2022-08-20T18:52:54.712Z"
   },
   {
    "duration": 18,
    "start_time": "2022-08-20T18:52:54.727Z"
   },
   {
    "duration": 41,
    "start_time": "2022-08-20T18:52:54.746Z"
   },
   {
    "duration": 3,
    "start_time": "2022-08-20T18:52:54.788Z"
   },
   {
    "duration": 12,
    "start_time": "2022-08-20T18:52:54.792Z"
   },
   {
    "duration": 5,
    "start_time": "2022-08-20T18:52:54.805Z"
   },
   {
    "duration": 4,
    "start_time": "2022-08-20T18:52:54.812Z"
   },
   {
    "duration": 11,
    "start_time": "2022-08-20T18:52:54.818Z"
   },
   {
    "duration": 8,
    "start_time": "2022-08-20T18:52:54.831Z"
   },
   {
    "duration": 4,
    "start_time": "2022-08-20T18:52:54.841Z"
   },
   {
    "duration": 10,
    "start_time": "2022-08-20T18:52:54.847Z"
   },
   {
    "duration": 32,
    "start_time": "2022-08-20T18:52:54.858Z"
   },
   {
    "duration": 10,
    "start_time": "2022-08-20T18:52:54.892Z"
   },
   {
    "duration": 6,
    "start_time": "2022-08-20T18:52:54.904Z"
   },
   {
    "duration": 19,
    "start_time": "2022-08-20T18:52:54.911Z"
   },
   {
    "duration": 7,
    "start_time": "2022-08-20T18:52:54.931Z"
   },
   {
    "duration": 453,
    "start_time": "2022-08-20T18:53:40.748Z"
   },
   {
    "duration": 20,
    "start_time": "2022-08-20T18:53:41.202Z"
   },
   {
    "duration": 15,
    "start_time": "2022-08-20T18:53:41.223Z"
   },
   {
    "duration": 9,
    "start_time": "2022-08-20T18:53:41.240Z"
   },
   {
    "duration": 4,
    "start_time": "2022-08-20T18:53:41.251Z"
   },
   {
    "duration": 59,
    "start_time": "2022-08-20T18:53:41.256Z"
   },
   {
    "duration": 3,
    "start_time": "2022-08-20T18:53:41.317Z"
   },
   {
    "duration": 10,
    "start_time": "2022-08-20T18:53:41.322Z"
   },
   {
    "duration": 9,
    "start_time": "2022-08-20T18:53:41.333Z"
   },
   {
    "duration": 12,
    "start_time": "2022-08-20T18:53:41.345Z"
   },
   {
    "duration": 6,
    "start_time": "2022-08-20T18:53:41.358Z"
   },
   {
    "duration": 46,
    "start_time": "2022-08-20T18:53:41.365Z"
   },
   {
    "duration": 10,
    "start_time": "2022-08-20T18:53:41.412Z"
   },
   {
    "duration": 6,
    "start_time": "2022-08-20T18:53:41.423Z"
   },
   {
    "duration": 14,
    "start_time": "2022-08-20T18:53:41.430Z"
   },
   {
    "duration": 19,
    "start_time": "2022-08-20T18:53:41.446Z"
   },
   {
    "duration": 34,
    "start_time": "2022-08-20T18:53:41.466Z"
   },
   {
    "duration": 3,
    "start_time": "2022-08-20T18:53:41.502Z"
   },
   {
    "duration": 12,
    "start_time": "2022-08-20T18:53:41.506Z"
   },
   {
    "duration": 8,
    "start_time": "2022-08-20T18:53:41.520Z"
   },
   {
    "duration": 3,
    "start_time": "2022-08-20T18:53:41.530Z"
   },
   {
    "duration": 10,
    "start_time": "2022-08-20T18:53:41.535Z"
   },
   {
    "duration": 8,
    "start_time": "2022-08-20T18:53:41.546Z"
   },
   {
    "duration": 31,
    "start_time": "2022-08-20T18:53:41.556Z"
   },
   {
    "duration": 8,
    "start_time": "2022-08-20T18:53:41.588Z"
   },
   {
    "duration": 7,
    "start_time": "2022-08-20T18:53:41.598Z"
   },
   {
    "duration": 8,
    "start_time": "2022-08-20T18:53:41.607Z"
   },
   {
    "duration": 5,
    "start_time": "2022-08-20T18:53:41.618Z"
   },
   {
    "duration": 10,
    "start_time": "2022-08-20T18:53:41.625Z"
   },
   {
    "duration": 6,
    "start_time": "2022-08-20T18:53:41.637Z"
   }
  ],
  "colab": {
   "name": "dpp_template_part2.ipynb",
   "provenance": []
  },
  "kernelspec": {
   "display_name": "Python 3 (ipykernel)",
   "language": "python",
   "name": "python3"
  },
  "language_info": {
   "codemirror_mode": {
    "name": "ipython",
    "version": 3
   },
   "file_extension": ".py",
   "mimetype": "text/x-python",
   "name": "python",
   "nbconvert_exporter": "python",
   "pygments_lexer": "ipython3",
   "version": "3.10.7"
  },
  "toc": {
   "base_numbering": 1,
   "nav_menu": {},
   "number_sections": true,
   "sideBar": true,
   "skip_h1_title": true,
   "title_cell": "Table of Contents",
   "title_sidebar": "Contents",
   "toc_cell": false,
   "toc_position": {},
   "toc_section_display": true,
   "toc_window_display": false
  }
 },
 "nbformat": 4,
 "nbformat_minor": 5
}
