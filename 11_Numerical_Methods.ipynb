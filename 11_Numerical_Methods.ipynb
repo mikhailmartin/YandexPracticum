{
 "cells": [
  {
   "cell_type": "markdown",
   "metadata": {},
   "source": [
    "<div style=\"border:solid green 2px; padding: 20px\">\n",
    "<b>Привет, Михаил!</b>\n",
    "\n",
    "Меня зовут Александр Пономаренко, и я буду проверять твой проект. Предлагаю общаться на «ты» :) Но если это не удобно - дай знать, и мы перейдем на \"вы\". \n",
    "\n",
    "Моя основная цель — не указать на совершенные тобою ошибки, а поделиться своим опытом и помочь тебе стать data science. Ты уже проделал большую работу над проектом, но давай сделаем его еще лучше. Ниже ты найдешь мои комментарии - **пожалуйста, не перемещай, не изменяй и не удаляй их**. Увидев у тебя ошибку, в первый раз я лишь укажу на ее наличие и дам тебе возможность самой найти и исправить ее. На реальной работе твой начальник будет поступать так же, а я пытаюсь подготовить тебя именно к работе аналитиком. Но если ты пока не справишься с такой задачей - при следующей проверке я дам более точную подсказку. Я буду использовать цветовую разметку:\n",
    "\n",
    "<div class=\"alert alert-danger\">\n",
    "<b>Комментарий ревьюера ❌:</b> Так выделены самые важные замечания. Без их отработки проект не будет принят. </div>\n",
    "\n",
    "<div class=\"alert alert-warning\">\n",
    "<b>Комментарий ревьюера ⚠️:</b> Так выделены небольшие замечания. Я надеюсь, что их ты тоже учтешь - твой проект от этого станет только лучше. Но настаивать на их отработке не буду.\n",
    "\n",
    "</div>\n",
    "\n",
    "<div class=\"alert alert-success\">\n",
    "<b>Комментарий ревьюера ✔️:</b> Так я выделяю все остальные комментарии.</div>\n",
    "\n",
    "Давай работать над проектом в диалоге: **если ты что-то меняешь в проекте или отвечаешь на мои комменатри — пиши об этом.** Мне будет легче отследить изменения, если ты выделишь свои комментарии:\n",
    "<div class=\"alert alert-info\"> <b>Комментарий студента:</b> Например, вот так.</div>\n",
    "\n",
    "Всё это поможет выполнить повторную проверку твоего проекта оперативнее. "
   ]
  },
  {
   "cell_type": "markdown",
   "metadata": {},
   "source": [
    "<div class=\"alert alert-info\">\n",
    "<b>Комментарий студента:</b> Привет, Александр!\n",
    "    \n",
    "- Должно быть ты хотел написать \"data scientist\".\n",
    "- Ну я уже работаю, и мой начальник так не делает)))\n",
    "- Аналитиком работать я не хочу, скорее ML-инженером.\n",
    "</div>"
   ]
  },
  {
   "cell_type": "markdown",
   "metadata": {},
   "source": [
    "# Определение стоимости автомобилей"
   ]
  },
  {
   "cell_type": "markdown",
   "metadata": {},
   "source": [
    "Сервис по продаже автомобилей с пробегом «Не бит, не крашен» разрабатывает приложение для привлечения новых клиентов. В нём можно быстро узнать рыночную стоимость своего автомобиля. В вашем распоряжении исторические данные: технические характеристики, комплектации и цены автомобилей. Вам нужно построить модель для определения стоимости. \n",
    "\n",
    "Заказчику важны:\n",
    "\n",
    "- качество предсказания;\n",
    "- скорость предсказания;\n",
    "- время обучения."
   ]
  },
  {
   "cell_type": "code",
   "execution_count": 1,
   "metadata": {},
   "outputs": [],
   "source": [
    "import catboost\n",
    "import lightgbm\n",
    "\n",
    "import numpy as np\n",
    "import pandas as pd\n",
    "\n",
    "from sklearn.metrics import mean_squared_error\n",
    "from sklearn.model_selection import GridSearchCV\n",
    "from sklearn.model_selection import ShuffleSplit\n",
    "from sklearn.model_selection import train_test_split"
   ]
  },
  {
   "cell_type": "code",
   "execution_count": 2,
   "metadata": {},
   "outputs": [],
   "source": [
    "RANDOM_STATE = 42"
   ]
  },
  {
   "cell_type": "markdown",
   "metadata": {},
   "source": [
    "## Подготовка данных"
   ]
  },
  {
   "cell_type": "code",
   "execution_count": 3,
   "metadata": {},
   "outputs": [
    {
     "data": {
      "text/html": [
       "<div>\n",
       "<style scoped>\n",
       "    .dataframe tbody tr th:only-of-type {\n",
       "        vertical-align: middle;\n",
       "    }\n",
       "\n",
       "    .dataframe tbody tr th {\n",
       "        vertical-align: top;\n",
       "    }\n",
       "\n",
       "    .dataframe thead th {\n",
       "        text-align: right;\n",
       "    }\n",
       "</style>\n",
       "<table border=\"1\" class=\"dataframe\">\n",
       "  <thead>\n",
       "    <tr style=\"text-align: right;\">\n",
       "      <th></th>\n",
       "      <th>price</th>\n",
       "      <th>vehicle_type</th>\n",
       "      <th>registration_year</th>\n",
       "      <th>gearbox</th>\n",
       "      <th>power</th>\n",
       "      <th>model</th>\n",
       "      <th>kilometer</th>\n",
       "      <th>registration_month</th>\n",
       "      <th>fuel_type</th>\n",
       "      <th>brand</th>\n",
       "      <th>repaired</th>\n",
       "      <th>last_seen</th>\n",
       "    </tr>\n",
       "  </thead>\n",
       "  <tbody>\n",
       "    <tr>\n",
       "      <th>0</th>\n",
       "      <td>480</td>\n",
       "      <td>miss</td>\n",
       "      <td>1993</td>\n",
       "      <td>manual</td>\n",
       "      <td>NaN</td>\n",
       "      <td>golf</td>\n",
       "      <td>150000</td>\n",
       "      <td>0</td>\n",
       "      <td>petrol</td>\n",
       "      <td>volkswagen</td>\n",
       "      <td>miss</td>\n",
       "      <td>2016-04-07 03:16:57</td>\n",
       "    </tr>\n",
       "    <tr>\n",
       "      <th>1</th>\n",
       "      <td>18300</td>\n",
       "      <td>coupe</td>\n",
       "      <td>2011</td>\n",
       "      <td>manual</td>\n",
       "      <td>190.0</td>\n",
       "      <td>miss</td>\n",
       "      <td>125000</td>\n",
       "      <td>5</td>\n",
       "      <td>gasoline</td>\n",
       "      <td>audi</td>\n",
       "      <td>yes</td>\n",
       "      <td>2016-04-07 01:46:50</td>\n",
       "    </tr>\n",
       "    <tr>\n",
       "      <th>2</th>\n",
       "      <td>9800</td>\n",
       "      <td>suv</td>\n",
       "      <td>2004</td>\n",
       "      <td>auto</td>\n",
       "      <td>163.0</td>\n",
       "      <td>grand</td>\n",
       "      <td>125000</td>\n",
       "      <td>8</td>\n",
       "      <td>gasoline</td>\n",
       "      <td>jeep</td>\n",
       "      <td>miss</td>\n",
       "      <td>2016-04-05 12:47:46</td>\n",
       "    </tr>\n",
       "    <tr>\n",
       "      <th>3</th>\n",
       "      <td>1500</td>\n",
       "      <td>small</td>\n",
       "      <td>2001</td>\n",
       "      <td>manual</td>\n",
       "      <td>75.0</td>\n",
       "      <td>golf</td>\n",
       "      <td>150000</td>\n",
       "      <td>6</td>\n",
       "      <td>petrol</td>\n",
       "      <td>volkswagen</td>\n",
       "      <td>no</td>\n",
       "      <td>2016-03-17 17:40:17</td>\n",
       "    </tr>\n",
       "    <tr>\n",
       "      <th>4</th>\n",
       "      <td>3600</td>\n",
       "      <td>small</td>\n",
       "      <td>2008</td>\n",
       "      <td>manual</td>\n",
       "      <td>69.0</td>\n",
       "      <td>fabia</td>\n",
       "      <td>90000</td>\n",
       "      <td>7</td>\n",
       "      <td>gasoline</td>\n",
       "      <td>skoda</td>\n",
       "      <td>no</td>\n",
       "      <td>2016-04-06 10:17:21</td>\n",
       "    </tr>\n",
       "  </tbody>\n",
       "</table>\n",
       "</div>"
      ],
      "text/plain": [
       "   price vehicle_type  registration_year gearbox  power  model  kilometer  \\\n",
       "0    480         miss               1993  manual    NaN   golf     150000   \n",
       "1  18300        coupe               2011  manual  190.0   miss     125000   \n",
       "2   9800          suv               2004    auto  163.0  grand     125000   \n",
       "3   1500        small               2001  manual   75.0   golf     150000   \n",
       "4   3600        small               2008  manual   69.0  fabia      90000   \n",
       "\n",
       "  registration_month fuel_type       brand repaired            last_seen  \n",
       "0                  0    petrol  volkswagen     miss  2016-04-07 03:16:57  \n",
       "1                  5  gasoline        audi      yes  2016-04-07 01:46:50  \n",
       "2                  8  gasoline        jeep     miss  2016-04-05 12:47:46  \n",
       "3                  6    petrol  volkswagen       no  2016-03-17 17:40:17  \n",
       "4                  7  gasoline       skoda       no  2016-04-06 10:17:21  "
      ]
     },
     "execution_count": 3,
     "metadata": {},
     "output_type": "execute_result"
    }
   ],
   "source": [
    "data = pd.read_csv(\n",
    "    'datasets/autos.csv',\n",
    "    usecols=[\n",
    "        # 'DateCrawled',  # неинформативный признак\n",
    "        'Price',\n",
    "        'VehicleType',\n",
    "        'RegistrationYear',\n",
    "        'Gearbox',\n",
    "        'Power',\n",
    "        'Model',\n",
    "        'Kilometer',\n",
    "        'RegistrationMonth',\n",
    "        'FuelType',\n",
    "        'Brand',\n",
    "        'Repaired',\n",
    "        # 'DateCreated',  # неинформативный признак\n",
    "        # 'NumberOfPictures',  # неинформативный признак (везде 0)\n",
    "        # 'PostalCode',  # неинформативный признак\n",
    "        'LastSeen',\n",
    "    ],\n",
    ")\n",
    "\n",
    "data = data.rename(columns={\n",
    "    'Price': 'price',\n",
    "    'VehicleType': 'vehicle_type',\n",
    "    'RegistrationYear': 'registration_year',\n",
    "    'Gearbox': 'gearbox',\n",
    "    'Power': 'power',\n",
    "    'Model': 'model',\n",
    "    'Kilometer': 'kilometer',\n",
    "    'RegistrationMonth': 'registration_month',\n",
    "    'FuelType': 'fuel_type',\n",
    "    'Brand': 'brand',\n",
    "    'Repaired': 'repaired',\n",
    "    'LastSeen': 'last_seen',\n",
    "})\n",
    "\n",
    "CAT_FEATURES = [\n",
    "    'vehicle_type',\n",
    "    'gearbox',\n",
    "    'model',\n",
    "    'registration_month',\n",
    "    'fuel_type',\n",
    "    'brand',\n",
    "    'repaired',\n",
    "]\n",
    "# заполняю пропуски у категориальных признаков\n",
    "data[CAT_FEATURES] = data[CAT_FEATURES].fillna('miss').astype('category')\n",
    "\n",
    "# аномальные значения меняю на пропуски\n",
    "data.loc[(data['power'] < 60) | (data['power'] > 250), 'power'] = np.NaN\n",
    "\n",
    "data.head()"
   ]
  },
  {
   "cell_type": "markdown",
   "metadata": {},
   "source": [
    "<div class=\"alert alert-success\">\n",
    "<b>Комментарий ревьюера ✔️:</b> Огонь, данные на месте:)</div>"
   ]
  },
  {
   "cell_type": "markdown",
   "metadata": {},
   "source": [
    "<div class=\"alert alert-danger\">\n",
    "<b>Комментарий ревьюера ❌:</b> \n",
    "    \n",
    "В RegistrationYear, не должно быть автомобилей, зарегистрированных после даты последней активности пользователя(LastSeen). Поэтому, пожалуйста, в LastSeen посмотри крайнюю дату\n",
    "</div>"
   ]
  },
  {
   "cell_type": "markdown",
   "metadata": {},
   "source": [
    "<div class=\"alert alert-info\">\n",
    "<b>Комментарий студента:</b> Отличное замечание!\n",
    "    \n",
    "Поступлю следующим образом: Если `RegistrationYear` больше года, что указан в дате `LastSeen`, то ставлю пропуск в `RegistrationYear`.\n",
    "</div>"
   ]
  },
  {
   "cell_type": "code",
   "execution_count": 4,
   "metadata": {},
   "outputs": [
    {
     "data": {
      "text/plain": [
       "array([2016], dtype=int64)"
      ]
     },
     "execution_count": 4,
     "metadata": {},
     "output_type": "execute_result"
    }
   ],
   "source": [
    "pd.to_datetime(data['last_seen']).dt.year.unique()"
   ]
  },
  {
   "cell_type": "code",
   "execution_count": 5,
   "metadata": {},
   "outputs": [],
   "source": [
    "def foo(x):\n",
    "    result = None\n",
    "    oldest_car = 1885\n",
    "    last_seen = 2016\n",
    "    \n",
    "    if oldest_car < x < last_seen:\n",
    "        result = x\n",
    "    else:\n",
    "        result = np.NaN\n",
    "        \n",
    "    return result"
   ]
  },
  {
   "cell_type": "code",
   "execution_count": 6,
   "metadata": {},
   "outputs": [],
   "source": [
    "data['registration_year'] = data['registration_year'].astype('float').apply(foo)"
   ]
  },
  {
   "cell_type": "code",
   "execution_count": 7,
   "metadata": {},
   "outputs": [],
   "source": [
    "data = data.drop(columns='last_seen')"
   ]
  },
  {
   "cell_type": "markdown",
   "metadata": {},
   "source": [
    "<div class=\"alert alert-success\">\n",
    "<b>Комментарий ревьюера ✔️:</b> Заполнил верно</div>"
   ]
  },
  {
   "cell_type": "code",
   "execution_count": 8,
   "metadata": {},
   "outputs": [
    {
     "name": "stdout",
     "output_type": "stream",
     "text": [
      "<class 'pandas.core.frame.DataFrame'>\n",
      "RangeIndex: 354369 entries, 0 to 354368\n",
      "Data columns (total 11 columns):\n",
      " #   Column              Non-Null Count   Dtype   \n",
      "---  ------              --------------   -----   \n",
      " 0   price               354369 non-null  int64   \n",
      " 1   vehicle_type        354369 non-null  category\n",
      " 2   registration_year   330174 non-null  float64 \n",
      " 3   gearbox             354369 non-null  category\n",
      " 4   power               283133 non-null  float64 \n",
      " 5   model               354369 non-null  category\n",
      " 6   kilometer           354369 non-null  int64   \n",
      " 7   registration_month  354369 non-null  category\n",
      " 8   fuel_type           354369 non-null  category\n",
      " 9   brand               354369 non-null  category\n",
      " 10  repaired            354369 non-null  category\n",
      "dtypes: category(7), float64(2), int64(2)\n",
      "memory usage: 13.5 MB\n"
     ]
    }
   ],
   "source": [
    "data.info()"
   ]
  },
  {
   "cell_type": "markdown",
   "metadata": {},
   "source": [
    "<div class=\"alert alert-danger\">\n",
    "<b>Комментарий ревьюера ❌:</b> \n",
    "    \n",
    "На аномалии следует проверить след столбцы:\n",
    "    \n",
    "+  Price\n",
    "+  registration_year\n",
    "+  registration_month\n",
    "</div>"
   ]
  },
  {
   "cell_type": "markdown",
   "metadata": {},
   "source": [
    "<div class=\"alert alert-info\">\n",
    "<b>Комментарий студента:</b> \n",
    "\n",
    "- В `price` удалил цены = 0\n",
    "- Аномалию с `registration_year` исправил с прошлой ошибкой.\n",
    "- Посмотрел значения у `registration_month`: оказалось 13 месяцев с индексами от 0 до 12)). Глянул на распределение значений на гистограмме. Решил удалить этот признак, так как не представляю, как здесь что-то можно исправить. Он и так не давал много надежд))\n",
    "</div>"
   ]
  },
  {
   "cell_type": "code",
   "execution_count": 9,
   "metadata": {},
   "outputs": [],
   "source": [
    "data = data.query('price > 0')"
   ]
  },
  {
   "cell_type": "markdown",
   "metadata": {},
   "source": [
    "---"
   ]
  },
  {
   "cell_type": "code",
   "execution_count": 10,
   "metadata": {},
   "outputs": [
    {
     "data": {
      "text/plain": [
       "[0, 1, 2, 3, 4, 5, 6, 7, 8, 9, 10, 11, 12]"
      ]
     },
     "execution_count": 10,
     "metadata": {},
     "output_type": "execute_result"
    }
   ],
   "source": [
    "sorted(data['registration_month'].unique())"
   ]
  },
  {
   "cell_type": "code",
   "execution_count": 11,
   "metadata": {},
   "outputs": [
    {
     "data": {
      "image/png": "[encoded data removed]",
      "text/plain": [
       "<Figure size 640x480 with 1 Axes>"
      ]
     },
     "metadata": {},
     "output_type": "display_data"
    }
   ],
   "source": [
    "ax = data['registration_month'].hist()"
   ]
  },
  {
   "cell_type": "code",
   "execution_count": 12,
   "metadata": {},
   "outputs": [],
   "source": [
    "data = data.drop(columns='registration_month')\n",
    "CAT_FEATURES.remove('registration_month')"
   ]
  },
  {
   "cell_type": "markdown",
   "metadata": {},
   "source": [
    "---"
   ]
  },
  {
   "cell_type": "code",
   "execution_count": 13,
   "metadata": {},
   "outputs": [],
   "source": [
    "X = data.drop(columns='price')\n",
    "y = data['price']"
   ]
  },
  {
   "cell_type": "code",
   "execution_count": 14,
   "metadata": {},
   "outputs": [],
   "source": [
    "X_train, X_test, y_train, y_test = train_test_split(X, y, random_state=RANDOM_STATE)"
   ]
  },
  {
   "cell_type": "markdown",
   "metadata": {},
   "source": [
    "## Обучение моделей"
   ]
  },
  {
   "cell_type": "markdown",
   "metadata": {},
   "source": [
    "<div class=\"alert alert-danger\">\n",
    "<b>Комментарий ревьюера ❌:</b> %%time считает время выполнения ячейки. А нам нужно время обучения и предсказания.\n",
    "    \n",
    "Давай переходить на кросс валидацию, так мы сможем использовать всего две выборки в этом есть большой плюс, так как больше данных уйдет на обучение\n",
    "\n",
    "\n",
    "+  https://machinelearningmastery.ru/5-reasons-why-you-should-use-cross-validation-in-your-data-science-project-8163311a1e79/\n",
    "    \n",
    "    \n",
    "Воспользуемся GridSearchCV для автоматического подбора параметров, он максимизирует нашу метрику и ускорит подбор параметров. Данный метод работает на кросс валидации, так что, идеально нам подходит:\n",
    "    \n",
    "+  https://towardsdatascience.com/gridsearchcv-for-beginners-db48a90114ee\n",
    "+  https://jeffspagnola.medium.com/the-basics-of-gridsearch-e9cc9da7578f\n",
    "\n",
    "    \n",
    "У GridSearchCV есть атрибут  ```cv_results_``` в котором хранится вся история подбора параметров;)\n",
    "\n",
    "+  https://scikit-learn.org/stable/modules/generated/sklearn.model_selection.GridSearchCV.html\n",
    "\n",
    "P.S В конце проекта так же и по нему оставил код    \n",
    "    \n",
    "</div>"
   ]
  },
  {
   "cell_type": "markdown",
   "metadata": {},
   "source": [
    "<div class=\"alert alert-info\">\n",
    "<b>Комментарий студента:</b>\n",
    "    \n",
    "- Про перекрёстную проверку: у нас датасет в 350к примеров, то есть приличного размера, а CV - это инструмент для тюнинга гиперпараметров в условиях малого количества данных. Почему здесь необходимо использовать CV, а нельзя обойтись обычной валидацией?\n",
    "\n",
    "- https://machinelearningmastery.ru/5-reasons-why-you-should-use-cross-validation-in-your-data-science-project-8163311a1e79/ Очень плохой машинный перевод. Мне кажется, не стоит скидывать подобную статью новичкам, она может только запутать неопытного читателя. __Особенно часть про stacking.__\n",
    "-\n",
    "</div>"
   ]
  },
  {
   "cell_type": "markdown",
   "metadata": {},
   "source": [
    "### CatBoost"
   ]
  },
  {
   "cell_type": "code",
   "execution_count": 15,
   "metadata": {},
   "outputs": [
    {
     "name": "stderr",
     "output_type": "stream",
     "text": [
      "E:\\Projects\\YandexPracticum\\venv\\lib\\site-packages\\sklearn\\model_selection\\_validation.py:378: FitFailedWarning: \n",
      "20 fits failed out of a total of 80.\n",
      "The score on these train-test partitions for these parameters will be set to nan.\n",
      "If these failures are not expected, you can try to debug them by setting error_score='raise'.\n",
      "\n",
      "Below are more details about the failures:\n",
      "--------------------------------------------------------------------------------\n",
      "20 fits failed with the following error:\n",
      "Traceback (most recent call last):\n",
      "  File \"E:\\Projects\\YandexPracticum\\venv\\lib\\site-packages\\sklearn\\model_selection\\_validation.py\", line 686, in _fit_and_score\n",
      "    estimator.fit(X_train, y_train, **fit_params)\n",
      "  File \"E:\\Projects\\YandexPracticum\\venv\\lib\\site-packages\\catboost\\core.py\", line 5730, in fit\n",
      "    return self._fit(X, y, cat_features, text_features, embedding_features, None, sample_weight, None, None, None, None, baseline,\n",
      "  File \"E:\\Projects\\YandexPracticum\\venv\\lib\\site-packages\\catboost\\core.py\", line 2339, in _fit\n",
      "    train_params = self._prepare_train_params(\n",
      "  File \"E:\\Projects\\YandexPracticum\\venv\\lib\\site-packages\\catboost\\core.py\", line 2266, in _prepare_train_params\n",
      "    _check_train_params(params)\n",
      "  File \"_catboost.pyx\", line 6080, in _catboost._check_train_params\n",
      "  File \"_catboost.pyx\", line 6099, in _catboost._check_train_params\n",
      "_catboost.CatBoostError: C:/Program Files (x86)/Go Agent/pipelines/BuildMaster/catboost.git/catboost/private/libs/options/boosting_options.cpp:79: Learning rate should be non-zero\n",
      "\n",
      "  warnings.warn(some_fits_failed_message, FitFailedWarning)\n",
      "E:\\Projects\\YandexPracticum\\venv\\lib\\site-packages\\sklearn\\model_selection\\_search.py:953: UserWarning: One or more of the test scores are non-finite: [             nan              nan              nan              nan\n",
      " -3.18744714e+121 -1.09402576e+131 -3.75597934e+140 -1.28981290e+150\n",
      " -3.11710628e+006 -3.09911282e+006 -3.08626169e+006 -3.07161032e+006\n",
      " -3.11527696e+006 -3.09920909e+006 -3.08495005e+006 -3.07189395e+006]\n",
      "  warnings.warn(\n"
     ]
    },
    {
     "data": {
      "text/html": [
       "<style>#sk-container-id-1 {color: black;background-color: white;}#sk-container-id-1 pre{padding: 0;}#sk-container-id-1 div.sk-toggleable {background-color: white;}#sk-container-id-1 label.sk-toggleable__label {cursor: pointer;display: block;width: 100%;margin-bottom: 0;padding: 0.3em;box-sizing: border-box;text-align: center;}#sk-container-id-1 label.sk-toggleable__label-arrow:before {content: \"▸\";float: left;margin-right: 0.25em;color: #696969;}#sk-container-id-1 label.sk-toggleable__label-arrow:hover:before {color: black;}#sk-container-id-1 div.sk-estimator:hover label.sk-toggleable__label-arrow:before {color: black;}#sk-container-id-1 div.sk-toggleable__content {max-height: 0;max-width: 0;overflow: hidden;text-align: left;background-color: #f0f8ff;}#sk-container-id-1 div.sk-toggleable__content pre {margin: 0.2em;color: black;border-radius: 0.25em;background-color: #f0f8ff;}#sk-container-id-1 input.sk-toggleable__control:checked~div.sk-toggleable__content {max-height: 200px;max-width: 100%;overflow: auto;}#sk-container-id-1 input.sk-toggleable__control:checked~label.sk-toggleable__label-arrow:before {content: \"▾\";}#sk-container-id-1 div.sk-estimator input.sk-toggleable__control:checked~label.sk-toggleable__label {background-color: #d4ebff;}#sk-container-id-1 div.sk-label input.sk-toggleable__control:checked~label.sk-toggleable__label {background-color: #d4ebff;}#sk-container-id-1 input.sk-hidden--visually {border: 0;clip: rect(1px 1px 1px 1px);clip: rect(1px, 1px, 1px, 1px);height: 1px;margin: -1px;overflow: hidden;padding: 0;position: absolute;width: 1px;}#sk-container-id-1 div.sk-estimator {font-family: monospace;background-color: #f0f8ff;border: 1px dotted black;border-radius: 0.25em;box-sizing: border-box;margin-bottom: 0.5em;}#sk-container-id-1 div.sk-estimator:hover {background-color: #d4ebff;}#sk-container-id-1 div.sk-parallel-item::after {content: \"\";width: 100%;border-bottom: 1px solid gray;flex-grow: 1;}#sk-container-id-1 div.sk-label:hover label.sk-toggleable__label {background-color: #d4ebff;}#sk-container-id-1 div.sk-serial::before {content: \"\";position: absolute;border-left: 1px solid gray;box-sizing: border-box;top: 0;bottom: 0;left: 50%;z-index: 0;}#sk-container-id-1 div.sk-serial {display: flex;flex-direction: column;align-items: center;background-color: white;padding-right: 0.2em;padding-left: 0.2em;position: relative;}#sk-container-id-1 div.sk-item {position: relative;z-index: 1;}#sk-container-id-1 div.sk-parallel {display: flex;align-items: stretch;justify-content: center;background-color: white;position: relative;}#sk-container-id-1 div.sk-item::before, #sk-container-id-1 div.sk-parallel-item::before {content: \"\";position: absolute;border-left: 1px solid gray;box-sizing: border-box;top: 0;bottom: 0;left: 50%;z-index: -1;}#sk-container-id-1 div.sk-parallel-item {display: flex;flex-direction: column;z-index: 1;position: relative;background-color: white;}#sk-container-id-1 div.sk-parallel-item:first-child::after {align-self: flex-end;width: 50%;}#sk-container-id-1 div.sk-parallel-item:last-child::after {align-self: flex-start;width: 50%;}#sk-container-id-1 div.sk-parallel-item:only-child::after {width: 0;}#sk-container-id-1 div.sk-dashed-wrapped {border: 1px dashed gray;margin: 0 0.4em 0.5em 0.4em;box-sizing: border-box;padding-bottom: 0.4em;background-color: white;}#sk-container-id-1 div.sk-label label {font-family: monospace;font-weight: bold;display: inline-block;line-height: 1.2em;}#sk-container-id-1 div.sk-label-container {text-align: center;}#sk-container-id-1 div.sk-container {/* jupyter's `normalize.less` sets `[hidden] { display: none; }` but bootstrap.min.css set `[hidden] { display: none !important; }` so we also need the `!important` here to be able to override the default hidden behavior on the sphinx rendered scikit-learn.org. See: https://github.com/scikit-learn/scikit-learn/issues/21755 */display: inline-block !important;position: relative;}#sk-container-id-1 div.sk-text-repr-fallback {display: none;}</style><div id=\"sk-container-id-1\" class=\"sk-top-container\"><div class=\"sk-text-repr-fallback\"><pre>GridSearchCV(cv=ShuffleSplit(n_splits=5, random_state=42, test_size=0.25, train_size=None),\n",
       "             estimator=&lt;catboost.core.CatBoostRegressor object at 0x000001F2B89A3580&gt;,\n",
       "             n_jobs=-1,\n",
       "             param_grid={&#x27;learning_rate&#x27;: [0, 4, 0.5, 0.6],\n",
       "                         &#x27;n_estimators&#x27;: [120, 130, 140, 150]},\n",
       "             scoring=&#x27;neg_mean_squared_error&#x27;)</pre><b>In a Jupyter environment, please rerun this cell to show the HTML representation or trust the notebook. <br />On GitHub, the HTML representation is unable to render, please try loading this page with nbviewer.org.</b></div><div class=\"sk-container\" hidden><div class=\"sk-item sk-dashed-wrapped\"><div class=\"sk-label-container\"><div class=\"sk-label sk-toggleable\"><input class=\"sk-toggleable__control sk-hidden--visually\" id=\"sk-estimator-id-1\" type=\"checkbox\" ><label for=\"sk-estimator-id-1\" class=\"sk-toggleable__label sk-toggleable__label-arrow\">GridSearchCV</label><div class=\"sk-toggleable__content\"><pre>GridSearchCV(cv=ShuffleSplit(n_splits=5, random_state=42, test_size=0.25, train_size=None),\n",
       "             estimator=&lt;catboost.core.CatBoostRegressor object at 0x000001F2B89A3580&gt;,\n",
       "             n_jobs=-1,\n",
       "             param_grid={&#x27;learning_rate&#x27;: [0, 4, 0.5, 0.6],\n",
       "                         &#x27;n_estimators&#x27;: [120, 130, 140, 150]},\n",
       "             scoring=&#x27;neg_mean_squared_error&#x27;)</pre></div></div></div><div class=\"sk-parallel\"><div class=\"sk-parallel-item\"><div class=\"sk-item\"><div class=\"sk-label-container\"><div class=\"sk-label sk-toggleable\"><input class=\"sk-toggleable__control sk-hidden--visually\" id=\"sk-estimator-id-2\" type=\"checkbox\" ><label for=\"sk-estimator-id-2\" class=\"sk-toggleable__label sk-toggleable__label-arrow\">estimator: CatBoostRegressor</label><div class=\"sk-toggleable__content\"><pre>&lt;catboost.core.CatBoostRegressor object at 0x000001F2B89A3580&gt;</pre></div></div></div><div class=\"sk-serial\"><div class=\"sk-item\"><div class=\"sk-estimator sk-toggleable\"><input class=\"sk-toggleable__control sk-hidden--visually\" id=\"sk-estimator-id-3\" type=\"checkbox\" ><label for=\"sk-estimator-id-3\" class=\"sk-toggleable__label sk-toggleable__label-arrow\">CatBoostRegressor</label><div class=\"sk-toggleable__content\"><pre>&lt;catboost.core.CatBoostRegressor object at 0x000001F2B89A3580&gt;</pre></div></div></div></div></div></div></div></div></div></div>"
      ],
      "text/plain": [
       "GridSearchCV(cv=ShuffleSplit(n_splits=5, random_state=42, test_size=0.25, train_size=None),\n",
       "             estimator=<catboost.core.CatBoostRegressor object at 0x000001F2B89A3580>,\n",
       "             n_jobs=-1,\n",
       "             param_grid={'learning_rate': [0, 4, 0.5, 0.6],\n",
       "                         'n_estimators': [120, 130, 140, 150]},\n",
       "             scoring='neg_mean_squared_error')"
      ]
     },
     "execution_count": 15,
     "metadata": {},
     "output_type": "execute_result"
    }
   ],
   "source": [
    "gs_catboost = GridSearchCV(\n",
    "    estimator=catboost.CatBoostRegressor(cat_features=CAT_FEATURES, verbose=0, random_state=RANDOM_STATE),\n",
    "    param_grid={\n",
    "        'learning_rate': [0,4, 0.5, 0.6],\n",
    "        'n_estimators': [120, 130, 140, 150],\n",
    "    },\n",
    "    scoring='neg_mean_squared_error',\n",
    "    n_jobs=-1,\n",
    "    cv=ShuffleSplit(n_splits=5, test_size=0.25, random_state=RANDOM_STATE),\n",
    ")\n",
    "gs_catboost.fit(X_train, y_train)"
   ]
  },
  {
   "cell_type": "code",
   "execution_count": 16,
   "metadata": {},
   "outputs": [
    {
     "name": "stdout",
     "output_type": "stream",
     "text": [
      "Лучшие гиперпараметры:\n",
      "learning_rate: 0.5\n",
      "n_estimators: 150\n"
     ]
    }
   ],
   "source": [
    "print('Лучшие гиперпараметры:')\n",
    "for param, value in gs_catboost.best_params_.items():\n",
    "    print(f'{param}: {value}')"
   ]
  },
  {
   "cell_type": "markdown",
   "metadata": {},
   "source": [
    "### LightGBM"
   ]
  },
  {
   "cell_type": "code",
   "execution_count": 17,
   "metadata": {},
   "outputs": [
    {
     "data": {
      "text/html": [
       "<style>#sk-container-id-2 {color: black;background-color: white;}#sk-container-id-2 pre{padding: 0;}#sk-container-id-2 div.sk-toggleable {background-color: white;}#sk-container-id-2 label.sk-toggleable__label {cursor: pointer;display: block;width: 100%;margin-bottom: 0;padding: 0.3em;box-sizing: border-box;text-align: center;}#sk-container-id-2 label.sk-toggleable__label-arrow:before {content: \"▸\";float: left;margin-right: 0.25em;color: #696969;}#sk-container-id-2 label.sk-toggleable__label-arrow:hover:before {color: black;}#sk-container-id-2 div.sk-estimator:hover label.sk-toggleable__label-arrow:before {color: black;}#sk-container-id-2 div.sk-toggleable__content {max-height: 0;max-width: 0;overflow: hidden;text-align: left;background-color: #f0f8ff;}#sk-container-id-2 div.sk-toggleable__content pre {margin: 0.2em;color: black;border-radius: 0.25em;background-color: #f0f8ff;}#sk-container-id-2 input.sk-toggleable__control:checked~div.sk-toggleable__content {max-height: 200px;max-width: 100%;overflow: auto;}#sk-container-id-2 input.sk-toggleable__control:checked~label.sk-toggleable__label-arrow:before {content: \"▾\";}#sk-container-id-2 div.sk-estimator input.sk-toggleable__control:checked~label.sk-toggleable__label {background-color: #d4ebff;}#sk-container-id-2 div.sk-label input.sk-toggleable__control:checked~label.sk-toggleable__label {background-color: #d4ebff;}#sk-container-id-2 input.sk-hidden--visually {border: 0;clip: rect(1px 1px 1px 1px);clip: rect(1px, 1px, 1px, 1px);height: 1px;margin: -1px;overflow: hidden;padding: 0;position: absolute;width: 1px;}#sk-container-id-2 div.sk-estimator {font-family: monospace;background-color: #f0f8ff;border: 1px dotted black;border-radius: 0.25em;box-sizing: border-box;margin-bottom: 0.5em;}#sk-container-id-2 div.sk-estimator:hover {background-color: #d4ebff;}#sk-container-id-2 div.sk-parallel-item::after {content: \"\";width: 100%;border-bottom: 1px solid gray;flex-grow: 1;}#sk-container-id-2 div.sk-label:hover label.sk-toggleable__label {background-color: #d4ebff;}#sk-container-id-2 div.sk-serial::before {content: \"\";position: absolute;border-left: 1px solid gray;box-sizing: border-box;top: 0;bottom: 0;left: 50%;z-index: 0;}#sk-container-id-2 div.sk-serial {display: flex;flex-direction: column;align-items: center;background-color: white;padding-right: 0.2em;padding-left: 0.2em;position: relative;}#sk-container-id-2 div.sk-item {position: relative;z-index: 1;}#sk-container-id-2 div.sk-parallel {display: flex;align-items: stretch;justify-content: center;background-color: white;position: relative;}#sk-container-id-2 div.sk-item::before, #sk-container-id-2 div.sk-parallel-item::before {content: \"\";position: absolute;border-left: 1px solid gray;box-sizing: border-box;top: 0;bottom: 0;left: 50%;z-index: -1;}#sk-container-id-2 div.sk-parallel-item {display: flex;flex-direction: column;z-index: 1;position: relative;background-color: white;}#sk-container-id-2 div.sk-parallel-item:first-child::after {align-self: flex-end;width: 50%;}#sk-container-id-2 div.sk-parallel-item:last-child::after {align-self: flex-start;width: 50%;}#sk-container-id-2 div.sk-parallel-item:only-child::after {width: 0;}#sk-container-id-2 div.sk-dashed-wrapped {border: 1px dashed gray;margin: 0 0.4em 0.5em 0.4em;box-sizing: border-box;padding-bottom: 0.4em;background-color: white;}#sk-container-id-2 div.sk-label label {font-family: monospace;font-weight: bold;display: inline-block;line-height: 1.2em;}#sk-container-id-2 div.sk-label-container {text-align: center;}#sk-container-id-2 div.sk-container {/* jupyter's `normalize.less` sets `[hidden] { display: none; }` but bootstrap.min.css set `[hidden] { display: none !important; }` so we also need the `!important` here to be able to override the default hidden behavior on the sphinx rendered scikit-learn.org. See: https://github.com/scikit-learn/scikit-learn/issues/21755 */display: inline-block !important;position: relative;}#sk-container-id-2 div.sk-text-repr-fallback {display: none;}</style><div id=\"sk-container-id-2\" class=\"sk-top-container\"><div class=\"sk-text-repr-fallback\"><pre>GridSearchCV(cv=ShuffleSplit(n_splits=5, random_state=42, test_size=0.25, train_size=None),\n",
       "             estimator=LGBMRegressor(random_state=42), n_jobs=-1,\n",
       "             param_grid={&#x27;learning_rate&#x27;: [0.4, 0.5, 0.6],\n",
       "                         &#x27;n_estimators&#x27;: [170, 180, 190, 200]},\n",
       "             scoring=&#x27;neg_mean_squared_error&#x27;)</pre><b>In a Jupyter environment, please rerun this cell to show the HTML representation or trust the notebook. <br />On GitHub, the HTML representation is unable to render, please try loading this page with nbviewer.org.</b></div><div class=\"sk-container\" hidden><div class=\"sk-item sk-dashed-wrapped\"><div class=\"sk-label-container\"><div class=\"sk-label sk-toggleable\"><input class=\"sk-toggleable__control sk-hidden--visually\" id=\"sk-estimator-id-4\" type=\"checkbox\" ><label for=\"sk-estimator-id-4\" class=\"sk-toggleable__label sk-toggleable__label-arrow\">GridSearchCV</label><div class=\"sk-toggleable__content\"><pre>GridSearchCV(cv=ShuffleSplit(n_splits=5, random_state=42, test_size=0.25, train_size=None),\n",
       "             estimator=LGBMRegressor(random_state=42), n_jobs=-1,\n",
       "             param_grid={&#x27;learning_rate&#x27;: [0.4, 0.5, 0.6],\n",
       "                         &#x27;n_estimators&#x27;: [170, 180, 190, 200]},\n",
       "             scoring=&#x27;neg_mean_squared_error&#x27;)</pre></div></div></div><div class=\"sk-parallel\"><div class=\"sk-parallel-item\"><div class=\"sk-item\"><div class=\"sk-label-container\"><div class=\"sk-label sk-toggleable\"><input class=\"sk-toggleable__control sk-hidden--visually\" id=\"sk-estimator-id-5\" type=\"checkbox\" ><label for=\"sk-estimator-id-5\" class=\"sk-toggleable__label sk-toggleable__label-arrow\">estimator: LGBMRegressor</label><div class=\"sk-toggleable__content\"><pre>LGBMRegressor(random_state=42)</pre></div></div></div><div class=\"sk-serial\"><div class=\"sk-item\"><div class=\"sk-estimator sk-toggleable\"><input class=\"sk-toggleable__control sk-hidden--visually\" id=\"sk-estimator-id-6\" type=\"checkbox\" ><label for=\"sk-estimator-id-6\" class=\"sk-toggleable__label sk-toggleable__label-arrow\">LGBMRegressor</label><div class=\"sk-toggleable__content\"><pre>LGBMRegressor(random_state=42)</pre></div></div></div></div></div></div></div></div></div></div>"
      ],
      "text/plain": [
       "GridSearchCV(cv=ShuffleSplit(n_splits=5, random_state=42, test_size=0.25, train_size=None),\n",
       "             estimator=LGBMRegressor(random_state=42), n_jobs=-1,\n",
       "             param_grid={'learning_rate': [0.4, 0.5, 0.6],\n",
       "                         'n_estimators': [170, 180, 190, 200]},\n",
       "             scoring='neg_mean_squared_error')"
      ]
     },
     "execution_count": 17,
     "metadata": {},
     "output_type": "execute_result"
    }
   ],
   "source": [
    "gs_lgbm = GridSearchCV(\n",
    "    estimator=lightgbm.LGBMRegressor(random_state=RANDOM_STATE),\n",
    "    param_grid={\n",
    "        'learning_rate': [0.4, 0.5, 0.6],\n",
    "        'n_estimators': [170, 180, 190, 200],\n",
    "    },\n",
    "    scoring='neg_mean_squared_error',\n",
    "    n_jobs=-1,\n",
    "    cv=ShuffleSplit(n_splits=5, test_size=0.25, random_state=RANDOM_STATE),\n",
    ")\n",
    "gs_lgbm.fit(X_train, y_train)"
   ]
  },
  {
   "cell_type": "code",
   "execution_count": 18,
   "metadata": {},
   "outputs": [
    {
     "name": "stdout",
     "output_type": "stream",
     "text": [
      "Лучшие гиперпараметры:\n",
      "learning_rate: 0.4\n",
      "n_estimators: 200\n"
     ]
    }
   ],
   "source": [
    "print('Лучшие гиперпараметры:')\n",
    "for param, value in gs_lgbm.best_params_.items():\n",
    "    print(f'{param}: {value}')"
   ]
  },
  {
   "cell_type": "markdown",
   "metadata": {},
   "source": [
    "### RandomForest"
   ]
  },
  {
   "cell_type": "code",
   "execution_count": 20,
   "metadata": {},
   "outputs": [
    {
     "data": {
      "text/html": [
       "<style>#sk-container-id-3 {color: black;background-color: white;}#sk-container-id-3 pre{padding: 0;}#sk-container-id-3 div.sk-toggleable {background-color: white;}#sk-container-id-3 label.sk-toggleable__label {cursor: pointer;display: block;width: 100%;margin-bottom: 0;padding: 0.3em;box-sizing: border-box;text-align: center;}#sk-container-id-3 label.sk-toggleable__label-arrow:before {content: \"▸\";float: left;margin-right: 0.25em;color: #696969;}#sk-container-id-3 label.sk-toggleable__label-arrow:hover:before {color: black;}#sk-container-id-3 div.sk-estimator:hover label.sk-toggleable__label-arrow:before {color: black;}#sk-container-id-3 div.sk-toggleable__content {max-height: 0;max-width: 0;overflow: hidden;text-align: left;background-color: #f0f8ff;}#sk-container-id-3 div.sk-toggleable__content pre {margin: 0.2em;color: black;border-radius: 0.25em;background-color: #f0f8ff;}#sk-container-id-3 input.sk-toggleable__control:checked~div.sk-toggleable__content {max-height: 200px;max-width: 100%;overflow: auto;}#sk-container-id-3 input.sk-toggleable__control:checked~label.sk-toggleable__label-arrow:before {content: \"▾\";}#sk-container-id-3 div.sk-estimator input.sk-toggleable__control:checked~label.sk-toggleable__label {background-color: #d4ebff;}#sk-container-id-3 div.sk-label input.sk-toggleable__control:checked~label.sk-toggleable__label {background-color: #d4ebff;}#sk-container-id-3 input.sk-hidden--visually {border: 0;clip: rect(1px 1px 1px 1px);clip: rect(1px, 1px, 1px, 1px);height: 1px;margin: -1px;overflow: hidden;padding: 0;position: absolute;width: 1px;}#sk-container-id-3 div.sk-estimator {font-family: monospace;background-color: #f0f8ff;border: 1px dotted black;border-radius: 0.25em;box-sizing: border-box;margin-bottom: 0.5em;}#sk-container-id-3 div.sk-estimator:hover {background-color: #d4ebff;}#sk-container-id-3 div.sk-parallel-item::after {content: \"\";width: 100%;border-bottom: 1px solid gray;flex-grow: 1;}#sk-container-id-3 div.sk-label:hover label.sk-toggleable__label {background-color: #d4ebff;}#sk-container-id-3 div.sk-serial::before {content: \"\";position: absolute;border-left: 1px solid gray;box-sizing: border-box;top: 0;bottom: 0;left: 50%;z-index: 0;}#sk-container-id-3 div.sk-serial {display: flex;flex-direction: column;align-items: center;background-color: white;padding-right: 0.2em;padding-left: 0.2em;position: relative;}#sk-container-id-3 div.sk-item {position: relative;z-index: 1;}#sk-container-id-3 div.sk-parallel {display: flex;align-items: stretch;justify-content: center;background-color: white;position: relative;}#sk-container-id-3 div.sk-item::before, #sk-container-id-3 div.sk-parallel-item::before {content: \"\";position: absolute;border-left: 1px solid gray;box-sizing: border-box;top: 0;bottom: 0;left: 50%;z-index: -1;}#sk-container-id-3 div.sk-parallel-item {display: flex;flex-direction: column;z-index: 1;position: relative;background-color: white;}#sk-container-id-3 div.sk-parallel-item:first-child::after {align-self: flex-end;width: 50%;}#sk-container-id-3 div.sk-parallel-item:last-child::after {align-self: flex-start;width: 50%;}#sk-container-id-3 div.sk-parallel-item:only-child::after {width: 0;}#sk-container-id-3 div.sk-dashed-wrapped {border: 1px dashed gray;margin: 0 0.4em 0.5em 0.4em;box-sizing: border-box;padding-bottom: 0.4em;background-color: white;}#sk-container-id-3 div.sk-label label {font-family: monospace;font-weight: bold;display: inline-block;line-height: 1.2em;}#sk-container-id-3 div.sk-label-container {text-align: center;}#sk-container-id-3 div.sk-container {/* jupyter's `normalize.less` sets `[hidden] { display: none; }` but bootstrap.min.css set `[hidden] { display: none !important; }` so we also need the `!important` here to be able to override the default hidden behavior on the sphinx rendered scikit-learn.org. See: https://github.com/scikit-learn/scikit-learn/issues/21755 */display: inline-block !important;position: relative;}#sk-container-id-3 div.sk-text-repr-fallback {display: none;}</style><div id=\"sk-container-id-3\" class=\"sk-top-container\"><div class=\"sk-text-repr-fallback\"><pre>GridSearchCV(cv=ShuffleSplit(n_splits=5, random_state=42, test_size=0.25, train_size=None),\n",
       "             estimator=LGBMRegressor(bagging_fraction=0.75, bagging_freq=2,\n",
       "                                     boosting_type=&#x27;rf&#x27;, random_state=42),\n",
       "             n_jobs=-1, param_grid={&#x27;max_depth&#x27;: [9], &#x27;n_estimators&#x27;: [115]},\n",
       "             scoring=&#x27;neg_mean_squared_error&#x27;)</pre><b>In a Jupyter environment, please rerun this cell to show the HTML representation or trust the notebook. <br />On GitHub, the HTML representation is unable to render, please try loading this page with nbviewer.org.</b></div><div class=\"sk-container\" hidden><div class=\"sk-item sk-dashed-wrapped\"><div class=\"sk-label-container\"><div class=\"sk-label sk-toggleable\"><input class=\"sk-toggleable__control sk-hidden--visually\" id=\"sk-estimator-id-7\" type=\"checkbox\" ><label for=\"sk-estimator-id-7\" class=\"sk-toggleable__label sk-toggleable__label-arrow\">GridSearchCV</label><div class=\"sk-toggleable__content\"><pre>GridSearchCV(cv=ShuffleSplit(n_splits=5, random_state=42, test_size=0.25, train_size=None),\n",
       "             estimator=LGBMRegressor(bagging_fraction=0.75, bagging_freq=2,\n",
       "                                     boosting_type=&#x27;rf&#x27;, random_state=42),\n",
       "             n_jobs=-1, param_grid={&#x27;max_depth&#x27;: [9], &#x27;n_estimators&#x27;: [115]},\n",
       "             scoring=&#x27;neg_mean_squared_error&#x27;)</pre></div></div></div><div class=\"sk-parallel\"><div class=\"sk-parallel-item\"><div class=\"sk-item\"><div class=\"sk-label-container\"><div class=\"sk-label sk-toggleable\"><input class=\"sk-toggleable__control sk-hidden--visually\" id=\"sk-estimator-id-8\" type=\"checkbox\" ><label for=\"sk-estimator-id-8\" class=\"sk-toggleable__label sk-toggleable__label-arrow\">estimator: LGBMRegressor</label><div class=\"sk-toggleable__content\"><pre>LGBMRegressor(bagging_fraction=0.75, bagging_freq=2, boosting_type=&#x27;rf&#x27;,\n",
       "              random_state=42)</pre></div></div></div><div class=\"sk-serial\"><div class=\"sk-item\"><div class=\"sk-estimator sk-toggleable\"><input class=\"sk-toggleable__control sk-hidden--visually\" id=\"sk-estimator-id-9\" type=\"checkbox\" ><label for=\"sk-estimator-id-9\" class=\"sk-toggleable__label sk-toggleable__label-arrow\">LGBMRegressor</label><div class=\"sk-toggleable__content\"><pre>LGBMRegressor(bagging_fraction=0.75, bagging_freq=2, boosting_type=&#x27;rf&#x27;,\n",
       "              random_state=42)</pre></div></div></div></div></div></div></div></div></div></div>"
      ],
      "text/plain": [
       "GridSearchCV(cv=ShuffleSplit(n_splits=5, random_state=42, test_size=0.25, train_size=None),\n",
       "             estimator=LGBMRegressor(bagging_fraction=0.75, bagging_freq=2,\n",
       "                                     boosting_type='rf', random_state=42),\n",
       "             n_jobs=-1, param_grid={'max_depth': [9], 'n_estimators': [115]},\n",
       "             scoring='neg_mean_squared_error')"
      ]
     },
     "execution_count": 20,
     "metadata": {},
     "output_type": "execute_result"
    }
   ],
   "source": [
    "gs_rf = GridSearchCV(\n",
    "    estimator=lightgbm.LGBMRegressor(\n",
    "        boosting_type='rf',\n",
    "        bagging_fraction=0.75,\n",
    "        random_state=RANDOM_STATE,\n",
    "        bagging_freq=2,\n",
    "    ),\n",
    "    param_grid={\n",
    "        'n_estimators': [115],  # np.linspace(10, 150, num=5, dtype='int'),\n",
    "        'max_depth': [9],  # [5, 6, 7, 8, 9, 10],\n",
    "    },\n",
    "    scoring='neg_mean_squared_error',\n",
    "    n_jobs=-1,\n",
    "    cv=ShuffleSplit(n_splits=5, test_size=0.25, random_state=RANDOM_STATE),\n",
    ")\n",
    "gs_rf.fit(X_train, y_train)"
   ]
  },
  {
   "cell_type": "code",
   "execution_count": 21,
   "metadata": {},
   "outputs": [
    {
     "name": "stdout",
     "output_type": "stream",
     "text": [
      "Лучшие гиперпараметры:\n",
      "max_depth: 9\n",
      "n_estimators: 115\n"
     ]
    }
   ],
   "source": [
    "print('Лучшие гиперпараметры:')\n",
    "for param, value in gs_rf.best_params_.items():\n",
    "    print(f'{param}: {value}')"
   ]
  },
  {
   "cell_type": "markdown",
   "metadata": {},
   "source": [
    "## Анализ моделей"
   ]
  },
  {
   "cell_type": "markdown",
   "metadata": {},
   "source": [
    "<div class=\"alert alert-danger\">\n",
    "<b>Комментарий ревьюера ❌:</b> перед тестированием необходимо оценить модели на кросс валидации, и найти лучшую модель опираясь на ряд показателей: fit time/predict/rmse. И после того как сравним модели уже проводить тестирование\n",
    "    \n",
    "\n",
    "</div>"
   ]
  },
  {
   "cell_type": "markdown",
   "metadata": {},
   "source": [
    "<div class=\"alert alert-success\">\n",
    "<b>Комментарий ревьюера ✔️:</b> \n",
    "    \n",
    "Для кросс валидации:\n",
    "    \n",
    "```python\n",
    "    cv_lr = cross_validate(<your code>)\n",
    "\n",
    "    fit_time = cv_lr['fit_time'].mean()\n",
    "    score_time = <your code>\n",
    "    test_score = <your code>\n",
    "\n",
    "    print('Время обучения: {},  время предсказания: {} и качество модели: {}'.format(fit_time, score_time, test_score))\n",
    "```\n",
    "    \n",
    "    \n",
    "Для GridSearchCV:\n",
    "    \n",
    "```python\n",
    "    results = dt_model.cv_results_\n",
    "    best_index = dt_model.best_index_\n",
    "\n",
    "    fit_time = <your code>\n",
    "    score_time = <your code>\n",
    "    RMSE = <your code>\n",
    "\n",
    "    print(f\"Fit time: {fit_time}, Predict time: {score_time}, Best RMSE: {RMSE}\")\n",
    "    \n",
    "```\n",
    "</div>\n",
    "\n",
    "\n"
   ]
  },
  {
   "cell_type": "code",
   "execution_count": 22,
   "metadata": {},
   "outputs": [],
   "source": [
    "def report(gscv):\n",
    "    fit_time = gscv.cv_results_['mean_fit_time'].mean()\n",
    "    score_time = gscv.cv_results_['mean_score_time'].mean()\n",
    "    RMSE = (-gscv.cv_results_['mean_test_score'].mean()) ** 0.5\n",
    "\n",
    "    print(f'Время обучения: {fit_time:.2f}, время предсказания: {score_time:.2f} и качество модели: {RMSE:.2f}\\n')"
   ]
  },
  {
   "cell_type": "code",
   "execution_count": 23,
   "metadata": {},
   "outputs": [
    {
     "name": "stdout",
     "output_type": "stream",
     "text": [
      "CatBoost\n",
      "Время обучения: 23.27, время предсказания: 0.07 и качество модели: nan\n",
      "\n",
      "LightGBM\n",
      "Время обучения: 2.91, время предсказания: 0.79 и качество модели: 1691.86\n",
      "\n",
      "RandomForest\n",
      "Время обучения: 4.76, время предсказания: 0.51 и качество модели: 2372.53\n",
      "\n"
     ]
    }
   ],
   "source": [
    "for name, gscv in zip(['CatBoost', 'LightGBM', 'RandomForest'], [gs_catboost, gs_lgbm, gs_rf]):\n",
    "    print(name)\n",
    "    report(gscv)"
   ]
  },
  {
   "cell_type": "code",
   "execution_count": 25,
   "metadata": {},
   "outputs": [
    {
     "data": {
      "text/plain": [
       "1653.8381140467395"
      ]
     },
     "execution_count": 25,
     "metadata": {},
     "output_type": "execute_result"
    }
   ],
   "source": [
    "lgbm_model = gs_lgbm.best_estimator_\n",
    "y_pred = lgbm_model.predict(X_test)\n",
    "\n",
    "RMSE = mean_squared_error(y_test, y_pred) ** 0.5\n",
    "RMSE"
   ]
  },
  {
   "cell_type": "markdown",
   "metadata": {},
   "source": [
    "## Чек-лист проверки"
   ]
  },
  {
   "cell_type": "markdown",
   "metadata": {},
   "source": [
    "Поставьте 'x' в выполненных пунктах. Далее нажмите Shift+Enter."
   ]
  },
  {
   "cell_type": "markdown",
   "metadata": {},
   "source": [
    "- [x]  Jupyter Notebook открыт\n",
    "- [ ]  Весь код выполняется без ошибок\n",
    "- [ ]  Ячейки с кодом расположены в порядке исполнения\n",
    "- [ ]  Выполнена загрузка и подготовка данных\n",
    "- [ ]  Выполнено обучение моделей\n",
    "- [ ]  Есть анализ скорости работы и качества моделей"
   ]
  },
  {
   "cell_type": "markdown",
   "metadata": {},
   "source": [
    "<font color='blue'><b>Итоговый комментарий ревьюера</b></font>\n",
    "<div class=\"alert alert-success\">\n",
    "<b>Комментарий ревьюера ✔️:</b>Михаил, получился хороший проект! \n",
    "    \n",
    "Если есть  если есть какие либо вопросы я с удовольствием на них отвечу:) <br> Исправь, пожалуйста, замечания и жду проект на следующую проверку:) </div>\n"
   ]
  }
 ],
 "metadata": {
  "ExecuteTimeLog": [
   {
    "duration": 407,
    "start_time": "2023-01-31T13:55:49.820Z"
   },
   {
    "duration": 1248,
    "start_time": "2023-01-31T13:56:10.329Z"
   },
   {
    "duration": 171,
    "start_time": "2023-01-31T13:56:19.993Z"
   },
   {
    "duration": 363,
    "start_time": "2023-01-31T14:00:47.266Z"
   },
   {
    "duration": 922,
    "start_time": "2023-01-31T14:00:47.631Z"
   },
   {
    "duration": 148,
    "start_time": "2023-01-31T14:00:48.555Z"
   },
   {
    "duration": 357,
    "start_time": "2023-01-31T14:02:55.448Z"
   },
   {
    "duration": 906,
    "start_time": "2023-01-31T14:02:55.807Z"
   },
   {
    "duration": 112,
    "start_time": "2023-01-31T14:02:56.715Z"
   },
   {
    "duration": 125,
    "start_time": "2023-01-31T14:02:56.829Z"
   },
   {
    "duration": 380,
    "start_time": "2023-01-31T14:04:52.252Z"
   },
   {
    "duration": 1275,
    "start_time": "2023-01-31T14:04:52.634Z"
   },
   {
    "duration": 120,
    "start_time": "2023-01-31T14:04:53.911Z"
   },
   {
    "duration": 21,
    "start_time": "2023-01-31T14:05:29.845Z"
   },
   {
    "duration": 372,
    "start_time": "2023-01-31T14:05:58.153Z"
   },
   {
    "duration": 1133,
    "start_time": "2023-01-31T14:05:58.527Z"
   },
   {
    "duration": 89,
    "start_time": "2023-01-31T14:05:59.662Z"
   },
   {
    "duration": 19,
    "start_time": "2023-01-31T14:05:59.753Z"
   },
   {
    "duration": 403,
    "start_time": "2023-01-31T14:06:51.960Z"
   },
   {
    "duration": 1223,
    "start_time": "2023-01-31T14:06:52.366Z"
   },
   {
    "duration": 91,
    "start_time": "2023-01-31T14:06:53.591Z"
   },
   {
    "duration": 32,
    "start_time": "2023-01-31T14:07:11.575Z"
   },
   {
    "duration": 407,
    "start_time": "2023-01-31T14:07:27.495Z"
   },
   {
    "duration": 1127,
    "start_time": "2023-01-31T14:07:27.904Z"
   },
   {
    "duration": 70,
    "start_time": "2023-01-31T14:07:29.033Z"
   },
   {
    "duration": 6,
    "start_time": "2023-01-31T14:07:29.105Z"
   },
   {
    "duration": 20,
    "start_time": "2023-01-31T14:07:42.151Z"
   },
   {
    "duration": 399,
    "start_time": "2023-01-31T14:08:31.182Z"
   },
   {
    "duration": 1095,
    "start_time": "2023-01-31T14:08:31.583Z"
   },
   {
    "duration": 45,
    "start_time": "2023-01-31T14:08:32.679Z"
   },
   {
    "duration": 6,
    "start_time": "2023-01-31T14:08:32.726Z"
   },
   {
    "duration": 368,
    "start_time": "2023-01-31T14:09:11.252Z"
   },
   {
    "duration": 1031,
    "start_time": "2023-01-31T14:09:11.622Z"
   },
   {
    "duration": 28,
    "start_time": "2023-01-31T14:09:12.655Z"
   },
   {
    "duration": 40,
    "start_time": "2023-01-31T14:09:12.699Z"
   },
   {
    "duration": 312,
    "start_time": "2023-01-31T14:13:26.877Z"
   },
   {
    "duration": 3,
    "start_time": "2023-01-31T14:13:59.422Z"
   },
   {
    "duration": 646,
    "start_time": "2023-01-31T14:18:14.132Z"
   },
   {
    "duration": 1129,
    "start_time": "2023-01-31T14:18:14.780Z"
   },
   {
    "duration": 19,
    "start_time": "2023-01-31T14:18:15.910Z"
   },
   {
    "duration": 23,
    "start_time": "2023-01-31T14:18:15.931Z"
   },
   {
    "duration": 3,
    "start_time": "2023-01-31T14:18:15.955Z"
   },
   {
    "duration": 1100,
    "start_time": "2023-01-31T14:20:35.608Z"
   },
   {
    "duration": 3,
    "start_time": "2023-01-31T14:20:36.710Z"
   },
   {
    "duration": 1058,
    "start_time": "2023-01-31T14:20:36.714Z"
   },
   {
    "duration": 33,
    "start_time": "2023-01-31T14:20:37.775Z"
   },
   {
    "duration": 27,
    "start_time": "2023-01-31T14:20:37.810Z"
   },
   {
    "duration": 6,
    "start_time": "2023-01-31T14:20:37.839Z"
   },
   {
    "duration": 80,
    "start_time": "2023-01-31T14:20:37.846Z"
   },
   {
    "duration": 3,
    "start_time": "2023-01-31T14:20:37.927Z"
   },
   {
    "duration": 148,
    "start_time": "2023-01-31T14:21:10.562Z"
   },
   {
    "duration": 1058,
    "start_time": "2023-01-31T14:23:02.727Z"
   },
   {
    "duration": 3,
    "start_time": "2023-01-31T14:23:03.787Z"
   },
   {
    "duration": 1187,
    "start_time": "2023-01-31T14:23:03.792Z"
   },
   {
    "duration": 28,
    "start_time": "2023-01-31T14:23:04.981Z"
   },
   {
    "duration": 28,
    "start_time": "2023-01-31T14:23:05.012Z"
   },
   {
    "duration": 6,
    "start_time": "2023-01-31T14:23:05.042Z"
   },
   {
    "duration": 85,
    "start_time": "2023-01-31T14:23:05.049Z"
   },
   {
    "duration": 10,
    "start_time": "2023-01-31T14:23:05.136Z"
   },
   {
    "duration": 39,
    "start_time": "2023-01-31T14:23:05.148Z"
   },
   {
    "duration": 61,
    "start_time": "2023-01-31T14:23:05.189Z"
   },
   {
    "duration": 1064,
    "start_time": "2023-01-31T14:23:44.845Z"
   },
   {
    "duration": 2,
    "start_time": "2023-01-31T14:23:45.911Z"
   },
   {
    "duration": 1102,
    "start_time": "2023-01-31T14:23:45.915Z"
   },
   {
    "duration": 19,
    "start_time": "2023-01-31T14:23:47.019Z"
   },
   {
    "duration": 22,
    "start_time": "2023-01-31T14:23:47.039Z"
   },
   {
    "duration": 7,
    "start_time": "2023-01-31T14:23:47.062Z"
   },
   {
    "duration": 73,
    "start_time": "2023-01-31T14:23:47.070Z"
   },
   {
    "duration": 7,
    "start_time": "2023-01-31T14:23:47.145Z"
   },
   {
    "duration": 6,
    "start_time": "2023-01-31T14:23:47.154Z"
   },
   {
    "duration": 145,
    "start_time": "2023-01-31T14:23:47.162Z"
   },
   {
    "duration": 25,
    "start_time": "2023-01-31T14:24:34.715Z"
   },
   {
    "duration": 35,
    "start_time": "2023-01-31T14:24:43.987Z"
   },
   {
    "duration": 1062,
    "start_time": "2023-01-31T14:25:34.351Z"
   },
   {
    "duration": 3,
    "start_time": "2023-01-31T14:25:35.414Z"
   },
   {
    "duration": 1112,
    "start_time": "2023-01-31T14:25:35.418Z"
   },
   {
    "duration": 16,
    "start_time": "2023-01-31T14:25:36.532Z"
   },
   {
    "duration": 29,
    "start_time": "2023-01-31T14:25:36.550Z"
   },
   {
    "duration": 25,
    "start_time": "2023-01-31T14:25:36.581Z"
   },
   {
    "duration": 49,
    "start_time": "2023-01-31T14:25:36.608Z"
   },
   {
    "duration": 7,
    "start_time": "2023-01-31T14:25:36.659Z"
   },
   {
    "duration": 4,
    "start_time": "2023-01-31T14:25:36.668Z"
   },
   {
    "duration": 6,
    "start_time": "2023-01-31T14:25:36.674Z"
   },
   {
    "duration": 124,
    "start_time": "2023-01-31T14:25:36.682Z"
   },
   {
    "duration": 3,
    "start_time": "2023-01-31T14:26:05.252Z"
   },
   {
    "duration": 1108,
    "start_time": "2023-01-31T14:27:12.906Z"
   },
   {
    "duration": 3,
    "start_time": "2023-01-31T14:27:14.017Z"
   },
   {
    "duration": 1142,
    "start_time": "2023-01-31T14:27:14.022Z"
   },
   {
    "duration": 17,
    "start_time": "2023-01-31T14:27:15.166Z"
   },
   {
    "duration": 31,
    "start_time": "2023-01-31T14:27:15.186Z"
   },
   {
    "duration": 25,
    "start_time": "2023-01-31T14:27:15.218Z"
   },
   {
    "duration": 73,
    "start_time": "2023-01-31T14:27:15.245Z"
   },
   {
    "duration": 8,
    "start_time": "2023-01-31T14:27:15.319Z"
   },
   {
    "duration": 25,
    "start_time": "2023-01-31T14:27:15.329Z"
   },
   {
    "duration": 21,
    "start_time": "2023-01-31T14:27:15.355Z"
   },
   {
    "duration": 1176,
    "start_time": "2023-01-31T14:27:15.377Z"
   },
   {
    "duration": 1083,
    "start_time": "2023-01-31T14:30:11.185Z"
   },
   {
    "duration": 2,
    "start_time": "2023-01-31T14:30:12.270Z"
   },
   {
    "duration": 1075,
    "start_time": "2023-01-31T14:30:12.274Z"
   },
   {
    "duration": 18,
    "start_time": "2023-01-31T14:30:13.351Z"
   },
   {
    "duration": 16,
    "start_time": "2023-01-31T14:30:13.370Z"
   },
   {
    "duration": 131,
    "start_time": "2023-01-31T14:30:13.387Z"
   },
   {
    "duration": 0,
    "start_time": "2023-01-31T14:30:13.527Z"
   },
   {
    "duration": 0,
    "start_time": "2023-01-31T14:30:13.529Z"
   },
   {
    "duration": 0,
    "start_time": "2023-01-31T14:30:13.530Z"
   },
   {
    "duration": 0,
    "start_time": "2023-01-31T14:30:13.531Z"
   },
   {
    "duration": 0,
    "start_time": "2023-01-31T14:30:13.532Z"
   },
   {
    "duration": 1069,
    "start_time": "2023-01-31T14:36:37.147Z"
   },
   {
    "duration": 3,
    "start_time": "2023-01-31T14:36:38.218Z"
   },
   {
    "duration": 601,
    "start_time": "2023-01-31T14:36:38.223Z"
   },
   {
    "duration": 96,
    "start_time": "2023-01-31T14:36:38.826Z"
   },
   {
    "duration": 4,
    "start_time": "2023-01-31T14:36:38.924Z"
   },
   {
    "duration": 7,
    "start_time": "2023-01-31T14:36:38.930Z"
   },
   {
    "duration": 32,
    "start_time": "2023-01-31T14:36:38.938Z"
   },
   {
    "duration": 98,
    "start_time": "2023-01-31T14:36:38.972Z"
   },
   {
    "duration": 3,
    "start_time": "2023-01-31T14:36:39.072Z"
   },
   {
    "duration": 2175,
    "start_time": "2023-01-31T14:36:39.077Z"
   },
   {
    "duration": 241,
    "start_time": "2023-01-31T14:39:40.413Z"
   },
   {
    "duration": 7,
    "start_time": "2023-01-31T14:41:22.377Z"
   },
   {
    "duration": 1095,
    "start_time": "2023-01-31T14:42:14.309Z"
   },
   {
    "duration": 2,
    "start_time": "2023-01-31T14:42:15.407Z"
   },
   {
    "duration": 698,
    "start_time": "2023-01-31T14:42:15.411Z"
   },
   {
    "duration": 113,
    "start_time": "2023-01-31T14:42:16.111Z"
   },
   {
    "duration": 112,
    "start_time": "2023-01-31T14:42:16.228Z"
   },
   {
    "duration": 0,
    "start_time": "2023-01-31T14:42:16.342Z"
   },
   {
    "duration": 0,
    "start_time": "2023-01-31T14:42:16.344Z"
   },
   {
    "duration": 0,
    "start_time": "2023-01-31T14:42:16.345Z"
   },
   {
    "duration": 0,
    "start_time": "2023-01-31T14:42:16.347Z"
   },
   {
    "duration": 1117,
    "start_time": "2023-01-31T14:43:12.140Z"
   },
   {
    "duration": 2,
    "start_time": "2023-01-31T14:43:13.259Z"
   },
   {
    "duration": 947,
    "start_time": "2023-01-31T14:43:13.262Z"
   },
   {
    "duration": 28,
    "start_time": "2023-01-31T14:43:14.214Z"
   },
   {
    "duration": 19,
    "start_time": "2023-01-31T14:43:14.244Z"
   },
   {
    "duration": 76,
    "start_time": "2023-01-31T14:43:14.266Z"
   },
   {
    "duration": 3,
    "start_time": "2023-01-31T14:43:14.345Z"
   },
   {
    "duration": 127,
    "start_time": "2023-01-31T14:43:14.350Z"
   },
   {
    "duration": 20067,
    "start_time": "2023-01-31T14:43:33.753Z"
   },
   {
    "duration": 8,
    "start_time": "2023-01-31T14:44:13.274Z"
   },
   {
    "duration": 636,
    "start_time": "2023-01-31T14:44:34.834Z"
   },
   {
    "duration": 20,
    "start_time": "2023-01-31T14:44:57.660Z"
   },
   {
    "duration": 380,
    "start_time": "2023-01-31T14:45:04.227Z"
   },
   {
    "duration": 348,
    "start_time": "2023-01-31T14:48:15.114Z"
   },
   {
    "duration": 355,
    "start_time": "2023-01-31T14:48:25.215Z"
   },
   {
    "duration": 339,
    "start_time": "2023-01-31T14:48:44.431Z"
   },
   {
    "duration": 12,
    "start_time": "2023-01-31T14:50:44.961Z"
   },
   {
    "duration": 130,
    "start_time": "2023-01-31T14:51:41.245Z"
   },
   {
    "duration": 12,
    "start_time": "2023-01-31T14:52:04.291Z"
   },
   {
    "duration": 10,
    "start_time": "2023-01-31T14:52:08.574Z"
   },
   {
    "duration": 7,
    "start_time": "2023-01-31T14:52:11.563Z"
   },
   {
    "duration": 20,
    "start_time": "2023-01-31T14:52:18.380Z"
   },
   {
    "duration": 2,
    "start_time": "2023-01-31T14:52:47.588Z"
   },
   {
    "duration": 1212,
    "start_time": "2023-01-31T14:52:53.146Z"
   },
   {
    "duration": 2,
    "start_time": "2023-01-31T14:52:54.361Z"
   },
   {
    "duration": 1060,
    "start_time": "2023-01-31T14:52:54.365Z"
   },
   {
    "duration": 31,
    "start_time": "2023-01-31T14:52:55.427Z"
   },
   {
    "duration": 30,
    "start_time": "2023-01-31T14:52:55.460Z"
   },
   {
    "duration": 56,
    "start_time": "2023-01-31T14:52:55.491Z"
   },
   {
    "duration": 94,
    "start_time": "2023-01-31T14:52:55.549Z"
   },
   {
    "duration": 2,
    "start_time": "2023-01-31T14:52:55.645Z"
   },
   {
    "duration": 1226,
    "start_time": "2023-01-31T14:52:55.649Z"
   },
   {
    "duration": 1192,
    "start_time": "2023-01-31T14:53:43.859Z"
   },
   {
    "duration": 3,
    "start_time": "2023-01-31T14:53:45.053Z"
   },
   {
    "duration": 991,
    "start_time": "2023-01-31T14:53:45.058Z"
   },
   {
    "duration": 2,
    "start_time": "2023-01-31T14:53:46.051Z"
   },
   {
    "duration": 84,
    "start_time": "2023-01-31T14:53:46.054Z"
   },
   {
    "duration": 16,
    "start_time": "2023-01-31T14:53:46.139Z"
   },
   {
    "duration": 62,
    "start_time": "2023-01-31T14:53:46.157Z"
   },
   {
    "duration": 3,
    "start_time": "2023-01-31T14:53:46.221Z"
   },
   {
    "duration": 5496,
    "start_time": "2023-01-31T14:53:46.226Z"
   },
   {
    "duration": 1156,
    "start_time": "2023-01-31T14:54:19.976Z"
   },
   {
    "duration": 3,
    "start_time": "2023-01-31T14:54:21.134Z"
   },
   {
    "duration": 1007,
    "start_time": "2023-01-31T14:54:21.138Z"
   },
   {
    "duration": 33,
    "start_time": "2023-01-31T14:54:22.147Z"
   },
   {
    "duration": 47,
    "start_time": "2023-01-31T14:54:22.182Z"
   },
   {
    "duration": 46,
    "start_time": "2023-01-31T14:54:22.231Z"
   },
   {
    "duration": 133,
    "start_time": "2023-01-31T14:54:22.279Z"
   },
   {
    "duration": 31,
    "start_time": "2023-01-31T14:54:22.415Z"
   },
   {
    "duration": 1440,
    "start_time": "2023-01-31T14:54:22.448Z"
   },
   {
    "duration": 1140,
    "start_time": "2023-01-31T14:55:16.670Z"
   },
   {
    "duration": 3,
    "start_time": "2023-01-31T14:55:17.813Z"
   },
   {
    "duration": 1006,
    "start_time": "2023-01-31T14:55:17.819Z"
   },
   {
    "duration": 24,
    "start_time": "2023-01-31T14:55:18.827Z"
   },
   {
    "duration": 60,
    "start_time": "2023-01-31T14:55:18.853Z"
   },
   {
    "duration": 13,
    "start_time": "2023-01-31T14:55:18.921Z"
   },
   {
    "duration": 68,
    "start_time": "2023-01-31T14:55:18.935Z"
   },
   {
    "duration": 19,
    "start_time": "2023-01-31T14:55:19.004Z"
   },
   {
    "duration": 1396,
    "start_time": "2023-01-31T14:55:19.025Z"
   },
   {
    "duration": 1135,
    "start_time": "2023-01-31T14:57:41.274Z"
   },
   {
    "duration": 4,
    "start_time": "2023-01-31T14:57:42.411Z"
   },
   {
    "duration": 1009,
    "start_time": "2023-01-31T14:57:42.418Z"
   },
   {
    "duration": 35,
    "start_time": "2023-01-31T14:57:43.430Z"
   },
   {
    "duration": 59,
    "start_time": "2023-01-31T14:57:43.467Z"
   },
   {
    "duration": 33,
    "start_time": "2023-01-31T14:57:43.529Z"
   },
   {
    "duration": 12,
    "start_time": "2023-01-31T14:57:43.564Z"
   },
   {
    "duration": 72,
    "start_time": "2023-01-31T14:57:43.578Z"
   },
   {
    "duration": 6,
    "start_time": "2023-01-31T14:57:43.652Z"
   },
   {
    "duration": 1339,
    "start_time": "2023-01-31T14:57:43.660Z"
   },
   {
    "duration": 1110,
    "start_time": "2023-01-31T14:58:19.121Z"
   },
   {
    "duration": 3,
    "start_time": "2023-01-31T14:58:20.234Z"
   },
   {
    "duration": 921,
    "start_time": "2023-01-31T14:58:20.238Z"
   },
   {
    "duration": 21,
    "start_time": "2023-01-31T14:58:21.161Z"
   },
   {
    "duration": 24,
    "start_time": "2023-01-31T14:58:21.183Z"
   },
   {
    "duration": 56,
    "start_time": "2023-01-31T14:58:21.209Z"
   },
   {
    "duration": 16,
    "start_time": "2023-01-31T14:58:21.267Z"
   },
   {
    "duration": 85,
    "start_time": "2023-01-31T14:58:21.285Z"
   },
   {
    "duration": 3,
    "start_time": "2023-01-31T14:58:21.372Z"
   },
   {
    "duration": 5703,
    "start_time": "2023-01-31T14:58:21.377Z"
   },
   {
    "duration": 1098,
    "start_time": "2023-01-31T14:58:42.018Z"
   },
   {
    "duration": 2,
    "start_time": "2023-01-31T14:58:43.120Z"
   },
   {
    "duration": 1019,
    "start_time": "2023-01-31T14:58:43.124Z"
   },
   {
    "duration": 26,
    "start_time": "2023-01-31T14:58:44.145Z"
   },
   {
    "duration": 24,
    "start_time": "2023-01-31T14:58:44.175Z"
   },
   {
    "duration": 97,
    "start_time": "2023-01-31T14:58:44.201Z"
   },
   {
    "duration": 4,
    "start_time": "2023-01-31T14:58:44.302Z"
   },
   {
    "duration": 27530,
    "start_time": "2023-01-31T14:58:44.308Z"
   },
   {
    "duration": 1196,
    "start_time": "2023-01-31T14:59:43.522Z"
   },
   {
    "duration": 3,
    "start_time": "2023-01-31T14:59:44.723Z"
   },
   {
    "duration": 978,
    "start_time": "2023-01-31T14:59:44.728Z"
   },
   {
    "duration": 29,
    "start_time": "2023-01-31T14:59:45.710Z"
   },
   {
    "duration": 5,
    "start_time": "2023-01-31T14:59:45.741Z"
   },
   {
    "duration": 75,
    "start_time": "2023-01-31T14:59:45.748Z"
   },
   {
    "duration": 3,
    "start_time": "2023-01-31T14:59:45.825Z"
   },
   {
    "duration": 14854,
    "start_time": "2023-01-31T14:59:45.829Z"
   },
   {
    "duration": 11,
    "start_time": "2023-01-31T15:02:17.951Z"
   },
   {
    "duration": 10,
    "start_time": "2023-01-31T15:02:23.219Z"
   },
   {
    "duration": 11,
    "start_time": "2023-01-31T15:02:31.072Z"
   },
   {
    "duration": 1215,
    "start_time": "2023-01-31T15:03:47.685Z"
   },
   {
    "duration": 5,
    "start_time": "2023-01-31T15:03:48.905Z"
   },
   {
    "duration": 994,
    "start_time": "2023-01-31T15:03:48.912Z"
   },
   {
    "duration": 24,
    "start_time": "2023-01-31T15:03:49.908Z"
   },
   {
    "duration": 6,
    "start_time": "2023-01-31T15:03:49.934Z"
   },
   {
    "duration": 64,
    "start_time": "2023-01-31T15:03:49.941Z"
   },
   {
    "duration": 9,
    "start_time": "2023-01-31T15:03:50.012Z"
   },
   {
    "duration": 109,
    "start_time": "2023-01-31T15:03:50.023Z"
   },
   {
    "duration": 1170,
    "start_time": "2023-01-31T15:04:03.549Z"
   },
   {
    "duration": 2,
    "start_time": "2023-01-31T15:04:04.721Z"
   },
   {
    "duration": 923,
    "start_time": "2023-01-31T15:04:04.725Z"
   },
   {
    "duration": 22,
    "start_time": "2023-01-31T15:04:05.650Z"
   },
   {
    "duration": 5,
    "start_time": "2023-01-31T15:04:05.674Z"
   },
   {
    "duration": 68,
    "start_time": "2023-01-31T15:04:05.681Z"
   },
   {
    "duration": 9,
    "start_time": "2023-01-31T15:04:05.751Z"
   },
   {
    "duration": 112,
    "start_time": "2023-01-31T15:04:05.762Z"
   },
   {
    "duration": 1156,
    "start_time": "2023-01-31T15:10:48.169Z"
   },
   {
    "duration": 3,
    "start_time": "2023-01-31T15:10:49.327Z"
   },
   {
    "duration": 942,
    "start_time": "2023-01-31T15:10:49.331Z"
   },
   {
    "duration": 37,
    "start_time": "2023-01-31T15:10:50.275Z"
   },
   {
    "duration": 10,
    "start_time": "2023-01-31T15:10:50.314Z"
   },
   {
    "duration": 77,
    "start_time": "2023-01-31T15:10:50.325Z"
   },
   {
    "duration": 3,
    "start_time": "2023-01-31T15:10:50.404Z"
   },
   {
    "duration": 4647,
    "start_time": "2023-01-31T15:10:50.409Z"
   },
   {
    "duration": 65,
    "start_time": "2023-01-31T15:16:09.121Z"
   },
   {
    "duration": 94,
    "start_time": "2023-01-31T15:31:14.973Z"
   },
   {
    "duration": 3,
    "start_time": "2023-01-31T15:31:19.026Z"
   },
   {
    "duration": 5,
    "start_time": "2023-01-31T15:31:23.162Z"
   },
   {
    "duration": 5,
    "start_time": "2023-01-31T15:31:26.954Z"
   },
   {
    "duration": 92,
    "start_time": "2023-01-31T15:32:42.301Z"
   },
   {
    "duration": 3,
    "start_time": "2023-01-31T15:33:41.629Z"
   },
   {
    "duration": 3,
    "start_time": "2023-01-31T15:33:45.981Z"
   },
   {
    "duration": 3,
    "start_time": "2023-01-31T15:33:59.315Z"
   },
   {
    "duration": 3620,
    "start_time": "2023-01-31T15:34:13.975Z"
   },
   {
    "duration": 3,
    "start_time": "2023-01-31T15:35:10.175Z"
   },
   {
    "duration": 3656,
    "start_time": "2023-01-31T15:35:11.342Z"
   },
   {
    "duration": 3,
    "start_time": "2023-01-31T15:36:08.600Z"
   },
   {
    "duration": 3380,
    "start_time": "2023-01-31T15:36:09.625Z"
   },
   {
    "duration": 426,
    "start_time": "2023-01-31T15:36:36.780Z"
   },
   {
    "duration": 5,
    "start_time": "2023-01-31T15:36:37.898Z"
   },
   {
    "duration": 85,
    "start_time": "2023-01-31T15:42:55.777Z"
   },
   {
    "duration": 17,
    "start_time": "2023-01-31T15:45:30.083Z"
   },
   {
    "duration": 2,
    "start_time": "2023-01-31T15:45:35.040Z"
   },
   {
    "duration": 9,
    "start_time": "2023-01-31T15:45:41.076Z"
   },
   {
    "duration": 3,
    "start_time": "2023-01-31T15:45:47.660Z"
   },
   {
    "duration": 9,
    "start_time": "2023-01-31T15:50:35.217Z"
   },
   {
    "duration": 4,
    "start_time": "2023-01-31T15:50:39.009Z"
   },
   {
    "duration": 3,
    "start_time": "2023-01-31T15:50:49.177Z"
   },
   {
    "duration": 23,
    "start_time": "2023-01-31T15:51:04.299Z"
   },
   {
    "duration": 3,
    "start_time": "2023-01-31T15:51:28.442Z"
   },
   {
    "duration": 1651,
    "start_time": "2023-01-31T15:51:30.106Z"
   },
   {
    "duration": 20,
    "start_time": "2023-01-31T15:52:13.652Z"
   },
   {
    "duration": 3,
    "start_time": "2023-01-31T15:56:36.673Z"
   },
   {
    "duration": 446,
    "start_time": "2023-01-31T15:56:45.649Z"
   },
   {
    "duration": 3,
    "start_time": "2023-01-31T15:57:04.177Z"
   },
   {
    "duration": 434,
    "start_time": "2023-01-31T15:57:04.962Z"
   },
   {
    "duration": 3,
    "start_time": "2023-01-31T15:57:25.426Z"
   },
   {
    "duration": 43,
    "start_time": "2023-01-31T15:57:26.249Z"
   },
   {
    "duration": 4,
    "start_time": "2023-01-31T15:58:32.028Z"
   },
   {
    "duration": 6171,
    "start_time": "2023-01-31T15:58:32.827Z"
   },
   {
    "duration": 6,
    "start_time": "2023-01-31T15:59:02.404Z"
   }
  ],
  "kernelspec": {
   "display_name": "Python 3 (ipykernel)",
   "language": "python",
   "name": "python3"
  },
  "language_info": {
   "codemirror_mode": {
    "name": "ipython",
    "version": 3
   },
   "file_extension": ".py",
   "mimetype": "text/x-python",
   "name": "python",
   "nbconvert_exporter": "python",
   "pygments_lexer": "ipython3",
   "version": "3.10.7"
  },
  "toc": {
   "base_numbering": 1,
   "nav_menu": {},
   "number_sections": true,
   "sideBar": true,
   "skip_h1_title": true,
   "title_cell": "Table of Contents",
   "title_sidebar": "Contents",
   "toc_cell": false,
   "toc_position": {},
   "toc_section_display": true,
   "toc_window_display": false
  }
 },
 "nbformat": 4,
 "nbformat_minor": 2
}
