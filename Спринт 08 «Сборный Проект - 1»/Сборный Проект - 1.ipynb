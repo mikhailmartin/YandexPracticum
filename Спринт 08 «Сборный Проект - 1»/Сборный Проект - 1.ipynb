{
 "cells": [
  {
   "cell_type": "markdown",
   "metadata": {},
   "source": [
    "# Спринт 8 «Сборный Проект - 1»"
   ]
  },
  {
   "cell_type": "markdown",
   "metadata": {},
   "source": [
    "## Навигация\n",
    "\n",
    "1. [Описание проекта](#Описание-проекта)\n",
    "1. [Описание данных](#Описание-данных)\n",
    "1. [Предобработка данных](#Предобработка-данных)\n",
    "1. [Исследовательский анализ данных](#Исследовательский-анализ-данных)\n",
    "1. [Портрет пользователя каждого региона](#Портрет-пользователя-каждого-региона)\n",
    "1. [Проверка гипотез](#Проверка-гипотез)\n",
    "1. [Общие выводы](#Общие-выводы)"
   ]
  },
  {
   "cell_type": "markdown",
   "metadata": {},
   "source": [
    "## Описание проекта\n",
    "\n",
    "[к навигации](#Навигация)\n",
    "\n",
    "Мы работаем в интернет-магазине «Стримчик», который продаёт по всему миру компьютерные игры. Из открытых источников доступны исторические данные о продажах игр, оценки пользователей и экспертов, жанры и платформы (например, Xbox или PlayStation). Нам нужно выявить определяющие успешность игры закономерности. Это позволит сделать ставку на потенциально популярный продукт и спланировать рекламные кампании.\n",
    "\n",
    "Перед нами данные до 2016 года. Представим, что сейчас декабрь 2016 г., и мы планируем кампанию на 2017-й. Нужно отработать принцип работы с данными. Неважно, прогнозируем ли мы продажи на 2017 год по данным 2016-го или же 2027-й — по данным 2026 года.\n",
    "\n",
    "В наборе данных попадается аббревиатура ESRB (Entertainment Software Rating Board) — это ассоциация, определяющая возрастной рейтинг компьютерных игр. ESRB оценивает игровой контент и присваивает ему подходящую возрастную категорию, например, «Для взрослых», «Для детей младшего возраста» или «Для подростков»."
   ]
  },
  {
   "cell_type": "markdown",
   "metadata": {},
   "source": [
    "## Описание данных\n",
    "\n",
    "[к навигации](#Навигация)\n",
    "\n",
    "- `Name` — название игры\n",
    "- `Platform` — платформа\n",
    "- `Year_of_Release` — год выпуска\n",
    "- `Genre` — жанр игры\n",
    "- `NA_sales` — продажи в Северной Америке (миллионы проданных копий)\n",
    "- `EU_sales` — продажи в Европе (миллионы проданных копий)\n",
    "- `JP_sales` — продажи в Японии (миллионы проданных копий)\n",
    "- `Other_sales` — продажи в других странах (миллионы проданных копий)\n",
    "- `Critic_Score` — оценка критиков (максимум 100)\n",
    "- `User_Score` — оценка пользователей (максимум 10)\n",
    "- `Rating` — рейтинг от организации ESRB (англ. Entertainment Software Rating Board). Эта ассоциация определяет рейтинг компьютерных игр и присваивает им подходящую возрастную категорию.\n",
    "\n",
    "Данные за 2016 год могут быть неполными."
   ]
  },
  {
   "cell_type": "code",
   "execution_count": 1,
   "metadata": {},
   "outputs": [],
   "source": [
    "import os\n",
    "\n",
    "import matplotlib.pyplot as plt\n",
    "import numpy as np\n",
    "import pandas as pd\n",
    "from scipy import stats as st\n",
    "import seaborn as sns\n",
    "sns.set_theme()"
   ]
  },
  {
   "cell_type": "code",
   "execution_count": 2,
   "metadata": {},
   "outputs": [
    {
     "data": {
      "text/html": [
       "<div>\n",
       "<style scoped>\n",
       "    .dataframe tbody tr th:only-of-type {\n",
       "        vertical-align: middle;\n",
       "    }\n",
       "\n",
       "    .dataframe tbody tr th {\n",
       "        vertical-align: top;\n",
       "    }\n",
       "\n",
       "    .dataframe thead th {\n",
       "        text-align: right;\n",
       "    }\n",
       "</style>\n",
       "<table border=\"1\" class=\"dataframe\">\n",
       "  <thead>\n",
       "    <tr style=\"text-align: right;\">\n",
       "      <th></th>\n",
       "      <th>Name</th>\n",
       "      <th>Platform</th>\n",
       "      <th>Year_of_Release</th>\n",
       "      <th>Genre</th>\n",
       "      <th>NA_sales</th>\n",
       "      <th>EU_sales</th>\n",
       "      <th>JP_sales</th>\n",
       "      <th>Other_sales</th>\n",
       "      <th>Critic_Score</th>\n",
       "      <th>User_Score</th>\n",
       "      <th>Rating</th>\n",
       "    </tr>\n",
       "  </thead>\n",
       "  <tbody>\n",
       "    <tr>\n",
       "      <th>0</th>\n",
       "      <td>Wii Sports</td>\n",
       "      <td>Wii</td>\n",
       "      <td>2006.0</td>\n",
       "      <td>Sports</td>\n",
       "      <td>41.36</td>\n",
       "      <td>28.96</td>\n",
       "      <td>3.77</td>\n",
       "      <td>8.45</td>\n",
       "      <td>76.0</td>\n",
       "      <td>8</td>\n",
       "      <td>E</td>\n",
       "    </tr>\n",
       "    <tr>\n",
       "      <th>1</th>\n",
       "      <td>Super Mario Bros.</td>\n",
       "      <td>NES</td>\n",
       "      <td>1985.0</td>\n",
       "      <td>Platform</td>\n",
       "      <td>29.08</td>\n",
       "      <td>3.58</td>\n",
       "      <td>6.81</td>\n",
       "      <td>0.77</td>\n",
       "      <td>NaN</td>\n",
       "      <td>NaN</td>\n",
       "      <td>NaN</td>\n",
       "    </tr>\n",
       "    <tr>\n",
       "      <th>2</th>\n",
       "      <td>Mario Kart Wii</td>\n",
       "      <td>Wii</td>\n",
       "      <td>2008.0</td>\n",
       "      <td>Racing</td>\n",
       "      <td>15.68</td>\n",
       "      <td>12.76</td>\n",
       "      <td>3.79</td>\n",
       "      <td>3.29</td>\n",
       "      <td>82.0</td>\n",
       "      <td>8.3</td>\n",
       "      <td>E</td>\n",
       "    </tr>\n",
       "    <tr>\n",
       "      <th>3</th>\n",
       "      <td>Wii Sports Resort</td>\n",
       "      <td>Wii</td>\n",
       "      <td>2009.0</td>\n",
       "      <td>Sports</td>\n",
       "      <td>15.61</td>\n",
       "      <td>10.93</td>\n",
       "      <td>3.28</td>\n",
       "      <td>2.95</td>\n",
       "      <td>80.0</td>\n",
       "      <td>8</td>\n",
       "      <td>E</td>\n",
       "    </tr>\n",
       "    <tr>\n",
       "      <th>4</th>\n",
       "      <td>Pokemon Red/Pokemon Blue</td>\n",
       "      <td>GB</td>\n",
       "      <td>1996.0</td>\n",
       "      <td>Role-Playing</td>\n",
       "      <td>11.27</td>\n",
       "      <td>8.89</td>\n",
       "      <td>10.22</td>\n",
       "      <td>1.00</td>\n",
       "      <td>NaN</td>\n",
       "      <td>NaN</td>\n",
       "      <td>NaN</td>\n",
       "    </tr>\n",
       "  </tbody>\n",
       "</table>\n",
       "</div>"
      ],
      "text/plain": [
       "                       Name Platform  Year_of_Release         Genre  NA_sales  \\\n",
       "0                Wii Sports      Wii           2006.0        Sports     41.36   \n",
       "1         Super Mario Bros.      NES           1985.0      Platform     29.08   \n",
       "2            Mario Kart Wii      Wii           2008.0        Racing     15.68   \n",
       "3         Wii Sports Resort      Wii           2009.0        Sports     15.61   \n",
       "4  Pokemon Red/Pokemon Blue       GB           1996.0  Role-Playing     11.27   \n",
       "\n",
       "   EU_sales  JP_sales  Other_sales  Critic_Score User_Score Rating  \n",
       "0     28.96      3.77         8.45          76.0          8      E  \n",
       "1      3.58      6.81         0.77           NaN        NaN    NaN  \n",
       "2     12.76      3.79         3.29          82.0        8.3      E  \n",
       "3     10.93      3.28         2.95          80.0          8      E  \n",
       "4      8.89     10.22         1.00           NaN        NaN    NaN  "
      ]
     },
     "execution_count": 2,
     "metadata": {},
     "output_type": "execute_result"
    }
   ],
   "source": [
    "data = pd.read_csv(os.path.join('..', 'datasets', 'games.csv'))\n",
    "data.head()"
   ]
  },
  {
   "cell_type": "code",
   "execution_count": 3,
   "metadata": {
    "scrolled": true
   },
   "outputs": [
    {
     "name": "stdout",
     "output_type": "stream",
     "text": [
      "<class 'pandas.core.frame.DataFrame'>\n",
      "RangeIndex: 16715 entries, 0 to 16714\n",
      "Data columns (total 11 columns):\n",
      " #   Column           Non-Null Count  Dtype  \n",
      "---  ------           --------------  -----  \n",
      " 0   Name             16713 non-null  object \n",
      " 1   Platform         16715 non-null  object \n",
      " 2   Year_of_Release  16446 non-null  float64\n",
      " 3   Genre            16713 non-null  object \n",
      " 4   NA_sales         16715 non-null  float64\n",
      " 5   EU_sales         16715 non-null  float64\n",
      " 6   JP_sales         16715 non-null  float64\n",
      " 7   Other_sales      16715 non-null  float64\n",
      " 8   Critic_Score     8137 non-null   float64\n",
      " 9   User_Score       10014 non-null  object \n",
      " 10  Rating           9949 non-null   object \n",
      "dtypes: float64(6), object(5)\n",
      "memory usage: 1.4+ MB\n"
     ]
    }
   ],
   "source": [
    "data.info()"
   ]
  },
  {
   "cell_type": "markdown",
   "metadata": {},
   "source": [
    "## Предобработка данных\n",
    "\n",
    "[к навигации](#Навигация)"
   ]
  },
  {
   "cell_type": "markdown",
   "metadata": {},
   "source": [
    "**Заменим названия столбцов**"
   ]
  },
  {
   "cell_type": "code",
   "execution_count": 4,
   "metadata": {
    "scrolled": true
   },
   "outputs": [
    {
     "name": "stdout",
     "output_type": "stream",
     "text": [
      "<class 'pandas.core.frame.DataFrame'>\n",
      "RangeIndex: 16715 entries, 0 to 16714\n",
      "Data columns (total 11 columns):\n",
      " #   Column           Non-Null Count  Dtype  \n",
      "---  ------           --------------  -----  \n",
      " 0   name             16713 non-null  object \n",
      " 1   platform         16715 non-null  object \n",
      " 2   year_of_release  16446 non-null  float64\n",
      " 3   genre            16713 non-null  object \n",
      " 4   na_sales         16715 non-null  float64\n",
      " 5   eu_sales         16715 non-null  float64\n",
      " 6   jp_sales         16715 non-null  float64\n",
      " 7   other_sales      16715 non-null  float64\n",
      " 8   critic_score     8137 non-null   float64\n",
      " 9   user_score       10014 non-null  object \n",
      " 10  rating           9949 non-null   object \n",
      "dtypes: float64(6), object(5)\n",
      "memory usage: 1.4+ MB\n"
     ]
    }
   ],
   "source": [
    "data.columns = data.columns.str.lower()\n",
    "data.info()"
   ]
  },
  {
   "cell_type": "markdown",
   "metadata": {},
   "source": [
    "**Преобразуем данные к нужным типам**"
   ]
  },
  {
   "cell_type": "code",
   "execution_count": 5,
   "metadata": {},
   "outputs": [],
   "source": [
    "# data['platform'] = data['platform'].astype('category')  # явные категории\n",
    "# data['genre'] = data['genre'].astype('category')  # явные категории\n",
    "# data['rating'] = data['rating'].astype('category')  # явные категории\n",
    "# data['year_of_release'] = pd.to_datetime(data['year_of_release'], format='%Y')\n",
    "data['year_of_release'] = data['year_of_release'].astype('Int64')"
   ]
  },
  {
   "cell_type": "code",
   "execution_count": 6,
   "metadata": {},
   "outputs": [
    {
     "name": "stdout",
     "output_type": "stream",
     "text": [
      "<class 'pandas.core.frame.DataFrame'>\n",
      "RangeIndex: 16715 entries, 0 to 16714\n",
      "Data columns (total 11 columns):\n",
      " #   Column           Non-Null Count  Dtype  \n",
      "---  ------           --------------  -----  \n",
      " 0   name             16713 non-null  object \n",
      " 1   platform         16715 non-null  object \n",
      " 2   year_of_release  16446 non-null  Int64  \n",
      " 3   genre            16713 non-null  object \n",
      " 4   na_sales         16715 non-null  float64\n",
      " 5   eu_sales         16715 non-null  float64\n",
      " 6   jp_sales         16715 non-null  float64\n",
      " 7   other_sales      16715 non-null  float64\n",
      " 8   critic_score     8137 non-null   float64\n",
      " 9   user_score       10014 non-null  object \n",
      " 10  rating           9949 non-null   object \n",
      "dtypes: Int64(1), float64(5), object(5)\n",
      "memory usage: 1.4+ MB\n"
     ]
    }
   ],
   "source": [
    "data.info()"
   ]
  },
  {
   "cell_type": "markdown",
   "metadata": {},
   "source": [
    "**Обработаем пропуски**"
   ]
  },
  {
   "cell_type": "code",
   "execution_count": 7,
   "metadata": {},
   "outputs": [
    {
     "data": {
      "image/png": "[encoded data removed]",
      "text/plain": [
       "<Figure size 1200x500 with 1 Axes>"
      ]
     },
     "metadata": {},
     "output_type": "display_data"
    }
   ],
   "source": [
    "fig, ax = plt.subplots(figsize=(12, 5))\n",
    "(\n",
    "    (data.isna().mean() * 100)\n",
    "    .to_frame()\n",
    "    .rename(columns={0: 'space'})\n",
    "    .query('space > 0')\n",
    "    .sort_values('space')\n",
    "    .plot(kind='barh', legend=False, ax=ax)\n",
    ")\n",
    "ax.set(title='Доля пропусков в признаках (что пропуски имеют)', xlabel='доля пропусков в %', ylabel='признак');"
   ]
  },
  {
   "cell_type": "markdown",
   "metadata": {},
   "source": [
    "- `critic_score`: Доля пропусков превышает 50%. Думаю, что заполнять средним или медианным в таком случае некорректно. Скорее всего для многих фильмов вообще нет оценки критиков.\n",
    "- `rating`: Доля пропусков превышает 40%. Думаю, что заполнять средним или медианным в таком случае некорректно. Скорее всего данный признак рассчитывается по пользовательским оценкам. В них такая же доля пропусков.\n",
    "- `user_score`: Доля пропусков превышает 40%. Думаю, что заполнять средним или медианным в таком случае некорректно. Быть может это новые фильмы или старые, для которых ещё нет пользовательских оценок.\n",
    "- `name`: Есть 2 пропуска, но здесь заполнять бессмысленно: имя игры уникально. Не представляю, откуда могли взяться пропуски.\n",
    "- `year_of_release`: Сложно представить, как можно заполнить. Если только не идти гуглить ...\n",
    "- `genre`: Есть 2 пропуска в столбце. Сложно заполнить без экспертной оценки. Как будто легче удалить эти строчки. Не представляю, откуда могли взяться пропуски."
   ]
  },
  {
   "cell_type": "code",
   "execution_count": 8,
   "metadata": {},
   "outputs": [],
   "source": [
    "data['rating'] = data['rating'].fillna('Unknown')"
   ]
  },
  {
   "cell_type": "markdown",
   "metadata": {},
   "source": [
    "`tbd` - To Be Decided. То есть пока без оценки. Мне кажется, что можно заменить на NaN."
   ]
  },
  {
   "cell_type": "code",
   "execution_count": 9,
   "metadata": {},
   "outputs": [],
   "source": [
    "is_tbd = data['user_score'] == 'tbd'\n",
    "data['is_tbd'] = is_tbd.astype('int')\n",
    "# data.loc[is_tbd, 'user_score'] = np.NaN\n",
    "data['user_score'] = data['user_score'].replace('tbd', np.NaN).astype('float')\n",
    "# data['user_score'] = data['user_score'].astype('float')"
   ]
  },
  {
   "cell_type": "markdown",
   "metadata": {},
   "source": [
    "**Посчитаем суммарные продажи во всех регионах и запишием их в отдельный столбец**"
   ]
  },
  {
   "cell_type": "code",
   "execution_count": 10,
   "metadata": {},
   "outputs": [],
   "source": [
    "data['total_sales'] = data[['na_sales', 'eu_sales', 'jp_sales', 'other_sales']].sum(axis=1)"
   ]
  },
  {
   "cell_type": "markdown",
   "metadata": {},
   "source": [
    "**Выводы:**\n",
    "- Было проведено нормирование названий столбцов: все они были приведены к snake_case.\n",
    "- Столбец `year_of_release` был приведён к формату `datetime`\n",
    "- Пропуски присутствуют в столбцах `critic_score`, `rating`, `user_score`, `name`, `year_of_release`, `genre`. Ни в одном столбце корректно пропуски обработать невозможно.  \n",
    "- В `genre` пропуски были заменены на `'Unknown'` для более комфортной обработки при визуализации."
   ]
  },
  {
   "cell_type": "markdown",
   "metadata": {},
   "source": [
    "## Исследовательский анализ данных\n",
    "\n",
    "[к навигации](#Навигация)"
   ]
  },
  {
   "cell_type": "markdown",
   "metadata": {},
   "source": [
    "**Посмотрим, сколько игр выпускалось в разные годы.**"
   ]
  },
  {
   "cell_type": "markdown",
   "metadata": {},
   "source": [
    "По графику можно определить, что до 1994 года игр почти не выпускалось."
   ]
  },
  {
   "cell_type": "code",
   "execution_count": 11,
   "metadata": {},
   "outputs": [
    {
     "data": {
      "image/png": "[encoded data removed]",
      "text/plain": [
       "<Figure size 1200x500 with 1 Axes>"
      ]
     },
     "metadata": {},
     "output_type": "display_data"
    }
   ],
   "source": [
    "fig, ax = plt.subplots(figsize=(12, 5))\n",
    "data.groupby('year_of_release')['name'].count().plot(kind='bar', ax=ax)\n",
    "ax.set(xlabel='год выпуска', ylabel='частота', title='Распределение количества выпущенных игр по годам');"
   ]
  },
  {
   "cell_type": "markdown",
   "metadata": {},
   "source": [
    "**Посмотрим как менялись продажи по платформам. Выберем платформы с наибольшими суммарными продажами и построим распределение по годам.**"
   ]
  },
  {
   "cell_type": "code",
   "execution_count": 12,
   "metadata": {},
   "outputs": [
    {
     "data": {
      "text/plain": [
       "platform\n",
       "PS2     1255.77\n",
       "X360     971.42\n",
       "PS3      939.65\n",
       "Wii      907.51\n",
       "DS       806.12\n",
       "Name: total_sales, dtype: float64"
      ]
     },
     "execution_count": 12,
     "metadata": {},
     "output_type": "execute_result"
    }
   ],
   "source": [
    "platform_sales = data.groupby('platform')['total_sales'].sum().sort_values(ascending=False)\n",
    "platform_sales[:5]"
   ]
  },
  {
   "cell_type": "code",
   "execution_count": 13,
   "metadata": {},
   "outputs": [
    {
     "data": {
      "image/png": "[encoded data removed]",
      "text/plain": [
       "<Figure size 1200x500 with 1 Axes>"
      ]
     },
     "metadata": {},
     "output_type": "display_data"
    }
   ],
   "source": [
    "fig, ax = plt.subplots(figsize=(12, 5))\n",
    "for platform in platform_sales.index[:5]:\n",
    "    (\n",
    "        data.query(f'platform == \"{platform}\"')\n",
    "        .groupby('year_of_release')['total_sales'].sum()\n",
    "        .plot(label=platform, legend=True, ax=ax)\n",
    "    )\n",
    "ax.set(title='Циклы жизни платформ', xlabel='год выпуска', ylabel='продано копий в миллионах');"
   ]
  },
  {
   "cell_type": "markdown",
   "metadata": {},
   "source": [
    "Цикл жизни платформы составляет лет 10."
   ]
  },
  {
   "cell_type": "code",
   "execution_count": 14,
   "metadata": {},
   "outputs": [],
   "source": [
    "sample = data.query('year_of_release > 2013')"
   ]
  },
  {
   "cell_type": "markdown",
   "metadata": {},
   "source": [
    "**Какие платформы лидируют по продажам, растут или падают? Выберем несколько потенциально прибыльных платформ.**"
   ]
  },
  {
   "cell_type": "code",
   "execution_count": 15,
   "metadata": {},
   "outputs": [
    {
     "data": {
      "image/png": "[encoded data removed]",
      "text/plain": [
       "<Figure size 1200x500 with 1 Axes>"
      ]
     },
     "metadata": {},
     "output_type": "display_data"
    }
   ],
   "source": [
    "# выбираем платформы с наибольшими продажами\n",
    "fig, ax = plt.subplots(figsize=(12, 5))\n",
    "sample.groupby('platform')['total_sales'].sum().sort_values().plot(kind='barh', ax=ax)\n",
    "ax.set(xlabel='всего продано копий в миллинах', ylabel='платформа');"
   ]
  },
  {
   "cell_type": "code",
   "execution_count": 16,
   "metadata": {},
   "outputs": [],
   "source": [
    "sample = sample[sample['platform'].isin(['PS4', 'PS3', 'XOne', '3DS', 'X360'])]"
   ]
  },
  {
   "cell_type": "code",
   "execution_count": 17,
   "metadata": {
    "scrolled": false
   },
   "outputs": [
    {
     "data": {
      "image/png": "[encoded data removed]",
      "text/plain": [
       "<Figure size 1200x500 with 1 Axes>"
      ]
     },
     "metadata": {},
     "output_type": "display_data"
    }
   ],
   "source": [
    "fig, ax = plt.subplots(figsize=(12, 5))\n",
    "sample.groupby(['platform', 'year_of_release'])['total_sales'].sum().unstack('platform').plot(ax=ax)\n",
    "ax.set(xlabel='год выпуска');"
   ]
  },
  {
   "cell_type": "markdown",
   "metadata": {},
   "source": [
    "**Построим `boxplot` по глобальным продажам игр в разбивке по платформам.**"
   ]
  },
  {
   "cell_type": "code",
   "execution_count": 18,
   "metadata": {},
   "outputs": [
    {
     "data": {
      "image/png": "[encoded data removed]",
      "text/plain": [
       "<Figure size 1200x500 with 1 Axes>"
      ]
     },
     "metadata": {},
     "output_type": "display_data"
    }
   ],
   "source": [
    "fig, ax = plt.subplots(figsize=(12, 5))\n",
    "sample.boxplot(by='platform', column='total_sales', ax=ax)\n",
    "ax.set(ylim=(0, 2));"
   ]
  },
  {
   "cell_type": "markdown",
   "metadata": {},
   "source": [
    "По графику видно, что самый \"широкий\" ящик и с самой большой верхнейй границей у PS4."
   ]
  },
  {
   "cell_type": "markdown",
   "metadata": {},
   "source": [
    "**Посмотрим, как влияют на продажи внутри одной популярной платформы отзывы пользователей и критиков. Построим диаграмму рассеяния и посчитаем корреляцию между отзывами и продажами.**"
   ]
  },
  {
   "cell_type": "code",
   "execution_count": 19,
   "metadata": {},
   "outputs": [
    {
     "data": {
      "image/png": "[encoded data removed]",
      "text/plain": [
       "<Figure size 1000x1000 with 9 Axes>"
      ]
     },
     "metadata": {},
     "output_type": "display_data"
    }
   ],
   "source": [
    "axes = pd.plotting.scatter_matrix(\n",
    "    sample.query('platform == \"PS4\"')[['total_sales', 'critic_score', 'user_score']], figsize=(10, 10))"
   ]
  },
  {
   "cell_type": "code",
   "execution_count": 20,
   "metadata": {},
   "outputs": [
    {
     "name": "stdout",
     "output_type": "stream",
     "text": [
      "0.40266141068104083\n",
      "-0.04013158947269735\n"
     ]
    }
   ],
   "source": [
    "print(sample.query('platform == \"PS4\"')['total_sales'].corr(sample['critic_score']))\n",
    "print(sample.query('platform == \"PS4\"')['total_sales'].corr(sample['user_score']))"
   ]
  },
  {
   "cell_type": "markdown",
   "metadata": {},
   "source": [
    "**Выводы:**\n",
    "Есть слабая корреляция между продажами и отзывами критиков.  \n",
    "Корреляции между отзывами пользователей и продажами почти нет."
   ]
  },
  {
   "cell_type": "markdown",
   "metadata": {},
   "source": [
    "**Соотнесём выводы с продажами игр на других платформах**"
   ]
  },
  {
   "cell_type": "code",
   "execution_count": 21,
   "metadata": {},
   "outputs": [
    {
     "name": "stdout",
     "output_type": "stream",
     "text": [
      "0.44657460493190704\n",
      "-0.16676141347662116\n"
     ]
    }
   ],
   "source": [
    "print(sample.query('platform == \"PS3\"')['total_sales'].corr(sample['critic_score']))\n",
    "print(sample.query('platform == \"PS3\"')['total_sales'].corr(sample['user_score']))"
   ]
  },
  {
   "cell_type": "code",
   "execution_count": 22,
   "metadata": {},
   "outputs": [
    {
     "name": "stdout",
     "output_type": "stream",
     "text": [
      "0.5257228356581521\n",
      "-0.138444570945665\n"
     ]
    }
   ],
   "source": [
    "print(sample.query('platform == \"X360\"')['total_sales'].corr(sample['critic_score']))\n",
    "print(sample.query('platform == \"X360\"')['total_sales'].corr(sample['user_score']))"
   ]
  },
  {
   "cell_type": "code",
   "execution_count": 23,
   "metadata": {},
   "outputs": [
    {
     "name": "stdout",
     "output_type": "stream",
     "text": [
      "0.42867694370333237\n",
      "-0.07038392806475809\n"
     ]
    }
   ],
   "source": [
    "print(sample.query('platform == \"XOne\"')['total_sales'].corr(sample['critic_score']))\n",
    "print(sample.query('platform == \"XOne\"')['total_sales'].corr(sample['user_score']))"
   ]
  },
  {
   "cell_type": "markdown",
   "metadata": {},
   "source": [
    "По остальным платформам результаты схожие"
   ]
  },
  {
   "cell_type": "markdown",
   "metadata": {},
   "source": [
    "**Посмотрим на общее распределение игр по жанрам.**"
   ]
  },
  {
   "cell_type": "code",
   "execution_count": 24,
   "metadata": {},
   "outputs": [
    {
     "data": {
      "image/png": "[encoded data removed]",
      "text/plain": [
       "<Figure size 1200x500 with 1 Axes>"
      ]
     },
     "metadata": {},
     "output_type": "display_data"
    }
   ],
   "source": [
    "fig, ax = plt.subplots(figsize=(12, 5))\n",
    "sample.groupby('genre')['name'].count().sort_values().plot(kind='barh', ax=ax)\n",
    "ax.set(title='Распределение игр по жанрам', xlabel='количество выпущенных игр', ylabel='жанр');"
   ]
  },
  {
   "cell_type": "code",
   "execution_count": 25,
   "metadata": {},
   "outputs": [
    {
     "data": {
      "image/png": "[encoded data removed]",
      "text/plain": [
       "<Figure size 1200x500 with 1 Axes>"
      ]
     },
     "metadata": {},
     "output_type": "display_data"
    }
   ],
   "source": [
    "fig, ax = plt.subplots(figsize=(12, 5))\n",
    "sample.groupby('genre')['total_sales'].sum().sort_values().plot(kind='barh', ax=ax)\n",
    "ax.set(title='Суммарная доходность жанров', ylabel='жанр');"
   ]
  },
  {
   "cell_type": "code",
   "execution_count": 26,
   "metadata": {},
   "outputs": [
    {
     "data": {
      "image/png": "[encoded data removed]",
      "text/plain": [
       "<Figure size 1200x500 with 1 Axes>"
      ]
     },
     "metadata": {},
     "output_type": "display_data"
    }
   ],
   "source": [
    "fig, ax = plt.subplots(figsize=(12, 5))\n",
    "sample.boxplot(by='genre', column='total_sales', ax=ax)\n",
    "ax.set(xlabel='жанр', ylim=(0, 10));"
   ]
  },
  {
   "cell_type": "code",
   "execution_count": 27,
   "metadata": {},
   "outputs": [
    {
     "data": {
      "image/png": "[encoded data removed]",
      "text/plain": [
       "<Figure size 1200x500 with 1 Axes>"
      ]
     },
     "metadata": {},
     "output_type": "display_data"
    }
   ],
   "source": [
    "fig, ax = plt.subplots(figsize=(12, 5))\n",
    "sample.groupby('genre')['total_sales'].median().sort_values().plot(kind='barh', ax=ax)\n",
    "ax.set(title='Медианная доходность жанров');"
   ]
  },
  {
   "cell_type": "markdown",
   "metadata": {},
   "source": [
    "О прибыльности жанров можно судить по графику выше: больше всего игр делается в жанре `action`, он жезарабатывает суммарно больше всего денег.\n",
    "\n",
    "Однако же медианные показатели прибыльности игр выше всего у жанра `shooter`."
   ]
  },
  {
   "cell_type": "markdown",
   "metadata": {},
   "source": [
    "## Портрет пользователя каждого региона\n",
    "\n",
    "[к навигации](#Навигация)\n",
    "\n",
    "Определим для пользователя каждого региона (NA, EU, JP):\n",
    "- Самые популярные платформы (топ-5).\n",
    "- Самые популярные жанры (топ-5).\n",
    "- Влияет ли рейтинг ESRB на продажи в отдельном регионе"
   ]
  },
  {
   "cell_type": "code",
   "execution_count": 28,
   "metadata": {},
   "outputs": [
    {
     "data": {
      "image/png": "[encoded data removed]",
      "text/plain": [
       "<Figure size 2000x500 with 3 Axes>"
      ]
     },
     "metadata": {},
     "output_type": "display_data"
    }
   ],
   "source": [
    "fig, axes = plt.subplots(1, 3, figsize=(20, 5))\n",
    "data.groupby('platform')['na_sales'].sum().sort_values()[-5:].plot(ax=axes[0], kind='barh')\n",
    "data.groupby('platform')['eu_sales'].sum().sort_values()[-5:].plot(ax=axes[1], kind='barh')\n",
    "data.groupby('platform')['jp_sales'].sum().sort_values()[-5:].plot(ax=axes[2], kind='barh')\n",
    "plt.show()"
   ]
  },
  {
   "cell_type": "code",
   "execution_count": 29,
   "metadata": {},
   "outputs": [
    {
     "data": {
      "image/png": "[encoded data removed]",
      "text/plain": [
       "<Figure size 2000x500 with 3 Axes>"
      ]
     },
     "metadata": {},
     "output_type": "display_data"
    }
   ],
   "source": [
    "fig, axes = plt.subplots(1, 3, figsize=(20, 5))\n",
    "data.groupby('genre')['na_sales'].sum().sort_values()[-5:].plot(ax=axes[0], kind='barh')\n",
    "data.groupby('genre')['eu_sales'].sum().sort_values()[-5:].plot(ax=axes[1], kind='barh')\n",
    "data.groupby('genre')['jp_sales'].sum().sort_values()[-5:].plot(ax=axes[2], kind='barh');"
   ]
  },
  {
   "cell_type": "code",
   "execution_count": 30,
   "metadata": {},
   "outputs": [
    {
     "data": {
      "image/png": "[encoded data removed]",
      "text/plain": [
       "<Figure size 2000x500 with 3 Axes>"
      ]
     },
     "metadata": {},
     "output_type": "display_data"
    }
   ],
   "source": [
    "fig, axes = plt.subplots(1, 3, figsize=(20, 5))\n",
    "data.groupby('rating')['na_sales'].sum().sort_values()[-5:].plot(ax=axes[0], kind='barh')\n",
    "data.groupby('rating')['eu_sales'].sum().sort_values()[-5:].plot(ax=axes[1], kind='barh')\n",
    "data.groupby('rating')['jp_sales'].sum().sort_values()[-5:].plot(ax=axes[2], kind='barh');"
   ]
  },
  {
   "cell_type": "markdown",
   "metadata": {},
   "source": [
    "**Выводы:**\n",
    "В Северной Америке и Европе рейтинги зарабатывают почти в одинаковом соотношении. Только M и T меняются местами.  \n",
    "А вот в Японии на первом месте с большим отрывом идут игры без рейтинга."
   ]
  },
  {
   "cell_type": "markdown",
   "metadata": {},
   "source": [
    "## Проверка гипотез\n",
    "\n",
    "[к навигации](#Навигация)"
   ]
  },
  {
   "cell_type": "markdown",
   "metadata": {},
   "source": [
    "**Средние пользовательские рейтинги платформ Xbox One и PC одинаковые**"
   ]
  },
  {
   "cell_type": "markdown",
   "metadata": {},
   "source": [
    "H_0: Средние `user_score` для XOne = Средние `user_score` для PC  \n",
    "H_1: Средние `user_score` для XOne ≠ Средние `user_score` для PC"
   ]
  },
  {
   "cell_type": "code",
   "execution_count": 31,
   "metadata": {},
   "outputs": [
    {
     "name": "stdout",
     "output_type": "stream",
     "text": [
      "4.935072360183574e-06\n",
      "Отвергаем нулевую гипотезу\n"
     ]
    }
   ],
   "source": [
    "sample = data[data['user_score'].notna()]\n",
    "\n",
    "alpha = .05\n",
    "\n",
    "results = st.ttest_ind(\n",
    "    sample[sample['platform'] == 'XOne']['user_score'],\n",
    "    sample[sample['platform'] == 'PC']['user_score'],\n",
    "    equal_var=False,\n",
    ")\n",
    "\n",
    "print(results.pvalue)\n",
    "if results.pvalue < alpha:\n",
    "    print('Отвергаем нулевую гипотезу')\n",
    "else:\n",
    "    print('Не отвергаем нулевую гипотезу')"
   ]
  },
  {
   "cell_type": "markdown",
   "metadata": {},
   "source": [
    "То есть рейтинги не одинаковы"
   ]
  },
  {
   "cell_type": "markdown",
   "metadata": {},
   "source": [
    "**Средние пользовательские рейтинги жанров Action (англ. «действие», экшен-игры) и Sports (англ. «спортивные соревнования») разные.**"
   ]
  },
  {
   "cell_type": "markdown",
   "metadata": {},
   "source": [
    "H_0: Средние `user_score` для Action = Средние `user_score` для Sports  \n",
    "H_1: Средние `user_score` для Action ≠ Средние `user_score` для Sports"
   ]
  },
  {
   "cell_type": "code",
   "execution_count": 32,
   "metadata": {},
   "outputs": [
    {
     "name": "stdout",
     "output_type": "stream",
     "text": [
      "0.11483818791498286\n",
      "Не отвергаем нулевую гипотезу\n"
     ]
    }
   ],
   "source": [
    "sample = data[data['user_score'].notna()]\n",
    "\n",
    "alpha = .05\n",
    "\n",
    "results = st.ttest_ind(\n",
    "    sample[sample['genre'] == 'Action']['user_score'],\n",
    "    sample[sample['genre'] == 'Sports']['user_score'],\n",
    "    equal_var=False,\n",
    ")\n",
    "\n",
    "print(results.pvalue)\n",
    "if results.pvalue < alpha:\n",
    "    print('Отвергаем нулевую гипотезу')\n",
    "else:\n",
    "    print('Не отвергаем нулевую гипотезу')"
   ]
  },
  {
   "cell_type": "markdown",
   "metadata": {},
   "source": [
    "То есть рейтинги одинаковые"
   ]
  },
  {
   "cell_type": "markdown",
   "metadata": {},
   "source": [
    "Нулевые гипотезы формировал на равенство. Применял критерий Стьюдента на равенство распределений."
   ]
  },
  {
   "cell_type": "markdown",
   "metadata": {},
   "source": [
    "## Общие выводы\n",
    "\n",
    "[к навигации](#Навигация)\n",
    "\n",
    "1. У платформ есть цикл жизни. Стоит продавать игры для приставок PS4, XOne, X360, PS3 и 3DS (приоритетность соответствует порядку). Они ещё живы)\n",
    "2. По медианной доходности больше всего зарабатывают игры в жанре \"Shooter\".\n",
    "3. В зависимости от региона разняться популярности приставки, жанры игр и рейтинги. Топ-5 популярных платформ в NA: X360, PS2, Wii, PS3, DS. Топ-5 популярных платформ в EU: PS2, PS3, X360, Wii, PS. Топ-5 популярных платформ в JP: DS, PS, PS2, SNES, 3DS. Топ-5 популярных жанров в NA: Action, Sports, Shooter, Platform, Misc. Топ-5 популярных платформ в EU: Action, Sports, Shooter, Racing, Misc. Топ-5 популярных платформ в JP: Role-Playing, Action, Sports, Platform, Misc.\n",
    "4. Есть основания утверждать, что средние пользовательские рейтинги платформ Xbox One и PC значимо различаются.\n",
    "5. А вот средние пользовательские рейтинги жанров Action и Sports значимо не различаются."
   ]
  }
 ],
 "metadata": {
  "ExecuteTimeLog": [
   {
    "duration": 389,
    "start_time": "2022-09-29T07:55:44.173Z"
   },
   {
    "duration": 219,
    "start_time": "2022-09-29T07:55:52.879Z"
   },
   {
    "duration": 79,
    "start_time": "2022-09-29T07:56:16.342Z"
   },
   {
    "duration": 4,
    "start_time": "2022-09-29T07:56:47.464Z"
   },
   {
    "duration": 4,
    "start_time": "2022-09-29T07:57:24.916Z"
   },
   {
    "duration": 14,
    "start_time": "2022-09-29T07:57:30.345Z"
   },
   {
    "duration": 347,
    "start_time": "2022-09-29T07:57:46.516Z"
   },
   {
    "duration": 13,
    "start_time": "2022-09-29T07:57:49.132Z"
   },
   {
    "duration": 62,
    "start_time": "2022-09-29T08:24:51.816Z"
   },
   {
    "duration": 345,
    "start_time": "2022-09-30T07:35:33.050Z"
   },
   {
    "duration": 101,
    "start_time": "2022-09-30T07:35:34.724Z"
   },
   {
    "duration": 13,
    "start_time": "2022-09-30T07:35:37.314Z"
   },
   {
    "duration": 66,
    "start_time": "2022-09-30T07:36:33.048Z"
   },
   {
    "duration": 12,
    "start_time": "2022-09-30T07:36:34.913Z"
   },
   {
    "duration": 12,
    "start_time": "2022-09-30T07:37:06.059Z"
   },
   {
    "duration": 4,
    "start_time": "2022-09-30T07:38:36.326Z"
   },
   {
    "duration": 8,
    "start_time": "2022-09-30T07:40:34.541Z"
   },
   {
    "duration": 6,
    "start_time": "2022-09-30T07:40:42.109Z"
   },
   {
    "duration": 5,
    "start_time": "2022-09-30T07:47:49.470Z"
   },
   {
    "duration": 5,
    "start_time": "2022-09-30T07:48:53.880Z"
   },
   {
    "duration": 13,
    "start_time": "2022-09-30T07:48:58.949Z"
   },
   {
    "duration": 4,
    "start_time": "2022-09-30T07:49:55.144Z"
   },
   {
    "duration": 5,
    "start_time": "2022-09-30T07:51:27.453Z"
   },
   {
    "duration": 13,
    "start_time": "2022-09-30T07:51:31.044Z"
   },
   {
    "duration": 5,
    "start_time": "2022-09-30T07:52:12.166Z"
   },
   {
    "duration": 5,
    "start_time": "2022-09-30T07:53:59.220Z"
   },
   {
    "duration": 343,
    "start_time": "2022-09-30T07:54:27.944Z"
   },
   {
    "duration": 67,
    "start_time": "2022-09-30T07:54:28.289Z"
   },
   {
    "duration": 13,
    "start_time": "2022-09-30T07:54:28.357Z"
   },
   {
    "duration": 13,
    "start_time": "2022-09-30T07:54:28.374Z"
   },
   {
    "duration": 8,
    "start_time": "2022-09-30T07:54:28.388Z"
   },
   {
    "duration": 13,
    "start_time": "2022-09-30T07:54:28.398Z"
   },
   {
    "duration": 5,
    "start_time": "2022-09-30T07:55:31.314Z"
   },
   {
    "duration": 57,
    "start_time": "2022-09-30T08:31:14.003Z"
   },
   {
    "duration": 512,
    "start_time": "2022-09-30T08:31:23.728Z"
   },
   {
    "duration": 115,
    "start_time": "2022-09-30T08:31:31.226Z"
   },
   {
    "duration": 6,
    "start_time": "2022-09-30T09:03:15.517Z"
   },
   {
    "duration": 5,
    "start_time": "2022-09-30T09:37:26.742Z"
   },
   {
    "duration": 5,
    "start_time": "2022-09-30T09:41:37.871Z"
   },
   {
    "duration": 6,
    "start_time": "2022-09-30T09:41:43.137Z"
   },
   {
    "duration": 18,
    "start_time": "2022-09-30T09:42:29.632Z"
   },
   {
    "duration": 63,
    "start_time": "2022-09-30T09:42:43.360Z"
   },
   {
    "duration": 365,
    "start_time": "2022-09-30T09:45:38.546Z"
   },
   {
    "duration": 69,
    "start_time": "2022-09-30T09:45:38.913Z"
   },
   {
    "duration": 13,
    "start_time": "2022-09-30T09:45:38.984Z"
   },
   {
    "duration": 12,
    "start_time": "2022-09-30T09:45:38.999Z"
   },
   {
    "duration": 8,
    "start_time": "2022-09-30T09:45:39.013Z"
   },
   {
    "duration": 445,
    "start_time": "2022-09-30T09:45:39.023Z"
   },
   {
    "duration": 7,
    "start_time": "2022-09-30T09:45:39.470Z"
   },
   {
    "duration": 122,
    "start_time": "2022-09-30T09:45:50.314Z"
   },
   {
    "duration": 8,
    "start_time": "2022-09-30T09:46:25.229Z"
   },
   {
    "duration": 117,
    "start_time": "2022-09-30T09:46:25.955Z"
   },
   {
    "duration": 398,
    "start_time": "2022-09-30T09:46:31.315Z"
   },
   {
    "duration": 65,
    "start_time": "2022-09-30T09:46:31.714Z"
   },
   {
    "duration": 14,
    "start_time": "2022-09-30T09:46:31.780Z"
   },
   {
    "duration": 13,
    "start_time": "2022-09-30T09:46:31.795Z"
   },
   {
    "duration": 9,
    "start_time": "2022-09-30T09:46:31.810Z"
   },
   {
    "duration": 361,
    "start_time": "2022-09-30T09:46:31.821Z"
   },
   {
    "duration": 6,
    "start_time": "2022-09-30T09:46:32.183Z"
   },
   {
    "duration": 171,
    "start_time": "2022-09-30T09:46:32.199Z"
   },
   {
    "duration": 27,
    "start_time": "2022-09-30T09:47:33.349Z"
   },
   {
    "duration": 5,
    "start_time": "2022-09-30T09:58:12.085Z"
   },
   {
    "duration": 19,
    "start_time": "2022-09-30T10:00:15.913Z"
   },
   {
    "duration": 9,
    "start_time": "2022-09-30T10:00:37.141Z"
   },
   {
    "duration": 141,
    "start_time": "2022-09-30T10:00:44.090Z"
   },
   {
    "duration": 285,
    "start_time": "2022-09-30T10:00:52.139Z"
   },
   {
    "duration": 84,
    "start_time": "2022-09-30T10:02:03.544Z"
   },
   {
    "duration": 434,
    "start_time": "2022-09-30T10:02:09.283Z"
   },
   {
    "duration": 67,
    "start_time": "2022-09-30T10:02:09.719Z"
   },
   {
    "duration": 13,
    "start_time": "2022-09-30T10:02:09.788Z"
   },
   {
    "duration": 13,
    "start_time": "2022-09-30T10:02:09.803Z"
   },
   {
    "duration": 72,
    "start_time": "2022-09-30T10:02:09.817Z"
   },
   {
    "duration": 0,
    "start_time": "2022-09-30T10:02:09.890Z"
   },
   {
    "duration": 0,
    "start_time": "2022-09-30T10:02:09.900Z"
   },
   {
    "duration": 0,
    "start_time": "2022-09-30T10:02:09.901Z"
   },
   {
    "duration": 0,
    "start_time": "2022-09-30T10:02:09.902Z"
   },
   {
    "duration": 10,
    "start_time": "2022-09-30T10:02:36.723Z"
   },
   {
    "duration": 426,
    "start_time": "2022-09-30T10:02:41.360Z"
   },
   {
    "duration": 64,
    "start_time": "2022-09-30T10:02:41.788Z"
   },
   {
    "duration": 14,
    "start_time": "2022-09-30T10:02:41.853Z"
   },
   {
    "duration": 15,
    "start_time": "2022-09-30T10:02:41.869Z"
   },
   {
    "duration": 19,
    "start_time": "2022-09-30T10:02:41.886Z"
   },
   {
    "duration": 342,
    "start_time": "2022-09-30T10:02:41.906Z"
   },
   {
    "duration": 5,
    "start_time": "2022-09-30T10:02:42.250Z"
   },
   {
    "duration": 10,
    "start_time": "2022-09-30T10:02:42.257Z"
   },
   {
    "duration": 376,
    "start_time": "2022-09-30T10:02:42.269Z"
   },
   {
    "duration": 20,
    "start_time": "2022-09-30T10:07:04.143Z"
   },
   {
    "duration": 368,
    "start_time": "2022-09-30T10:07:08.914Z"
   },
   {
    "duration": 72,
    "start_time": "2022-09-30T10:07:09.283Z"
   },
   {
    "duration": 21,
    "start_time": "2022-09-30T10:07:09.357Z"
   },
   {
    "duration": 20,
    "start_time": "2022-09-30T10:07:09.380Z"
   },
   {
    "duration": 16,
    "start_time": "2022-09-30T10:07:09.403Z"
   },
   {
    "duration": 501,
    "start_time": "2022-09-30T10:07:09.420Z"
   },
   {
    "duration": 7,
    "start_time": "2022-09-30T10:07:09.924Z"
   },
   {
    "duration": 10,
    "start_time": "2022-09-30T10:07:09.933Z"
   },
   {
    "duration": 315,
    "start_time": "2022-09-30T10:07:09.944Z"
   },
   {
    "duration": 387,
    "start_time": "2022-09-30T10:08:23.366Z"
   },
   {
    "duration": 67,
    "start_time": "2022-09-30T10:08:23.755Z"
   },
   {
    "duration": 15,
    "start_time": "2022-09-30T10:08:23.823Z"
   },
   {
    "duration": 15,
    "start_time": "2022-09-30T10:08:23.840Z"
   },
   {
    "duration": 15,
    "start_time": "2022-09-30T10:08:23.857Z"
   },
   {
    "duration": 385,
    "start_time": "2022-09-30T10:08:23.875Z"
   },
   {
    "duration": 11,
    "start_time": "2022-09-30T10:08:24.262Z"
   },
   {
    "duration": 16,
    "start_time": "2022-09-30T10:08:24.276Z"
   },
   {
    "duration": 403,
    "start_time": "2022-09-30T10:08:24.295Z"
   },
   {
    "duration": 6,
    "start_time": "2022-09-30T10:08:53.755Z"
   },
   {
    "duration": 358,
    "start_time": "2022-09-30T10:09:11.232Z"
   },
   {
    "duration": 75,
    "start_time": "2022-09-30T10:09:11.592Z"
   },
   {
    "duration": 16,
    "start_time": "2022-09-30T10:09:11.669Z"
   },
   {
    "duration": 12,
    "start_time": "2022-09-30T10:09:11.688Z"
   },
   {
    "duration": 13,
    "start_time": "2022-09-30T10:09:11.703Z"
   },
   {
    "duration": 376,
    "start_time": "2022-09-30T10:09:11.718Z"
   },
   {
    "duration": 8,
    "start_time": "2022-09-30T10:09:12.095Z"
   },
   {
    "duration": 9,
    "start_time": "2022-09-30T10:09:12.104Z"
   },
   {
    "duration": 306,
    "start_time": "2022-09-30T10:09:12.115Z"
   },
   {
    "duration": 17,
    "start_time": "2022-09-30T12:02:10.307Z"
   },
   {
    "duration": 7,
    "start_time": "2022-09-30T12:02:27.867Z"
   },
   {
    "duration": 7,
    "start_time": "2022-09-30T12:02:39.755Z"
   },
   {
    "duration": 8,
    "start_time": "2022-09-30T12:09:52.670Z"
   },
   {
    "duration": 81,
    "start_time": "2022-09-30T12:14:36.408Z"
   },
   {
    "duration": 28,
    "start_time": "2022-09-30T12:14:47.512Z"
   },
   {
    "duration": 9,
    "start_time": "2022-09-30T12:15:28.284Z"
   },
   {
    "duration": 15,
    "start_time": "2022-09-30T12:16:13.177Z"
   },
   {
    "duration": 10,
    "start_time": "2022-09-30T12:16:19.865Z"
   },
   {
    "duration": 17,
    "start_time": "2022-09-30T12:16:27.259Z"
   },
   {
    "duration": 143,
    "start_time": "2022-09-30T12:17:04.111Z"
   },
   {
    "duration": 67,
    "start_time": "2022-09-30T12:17:12.240Z"
   },
   {
    "duration": 16,
    "start_time": "2022-09-30T12:18:02.428Z"
   },
   {
    "duration": 8,
    "start_time": "2022-09-30T12:38:45.917Z"
   },
   {
    "duration": 7,
    "start_time": "2022-09-30T12:39:40.285Z"
   },
   {
    "duration": 5,
    "start_time": "2022-09-30T12:39:47.153Z"
   },
   {
    "duration": 6,
    "start_time": "2022-09-30T12:40:20.783Z"
   },
   {
    "duration": 5,
    "start_time": "2022-09-30T12:43:52.221Z"
   },
   {
    "duration": 4,
    "start_time": "2022-09-30T12:44:06.031Z"
   },
   {
    "duration": 146,
    "start_time": "2022-09-30T12:46:53.685Z"
   },
   {
    "duration": 3,
    "start_time": "2022-09-30T12:46:56.350Z"
   },
   {
    "duration": 86,
    "start_time": "2022-09-30T12:47:10.365Z"
   },
   {
    "duration": 102,
    "start_time": "2022-09-30T12:47:58.066Z"
   },
   {
    "duration": 107,
    "start_time": "2022-09-30T12:48:24.165Z"
   },
   {
    "duration": 105,
    "start_time": "2022-09-30T12:48:40.868Z"
   },
   {
    "duration": 117,
    "start_time": "2022-09-30T12:49:01.377Z"
   },
   {
    "duration": 118,
    "start_time": "2022-09-30T12:49:36.674Z"
   },
   {
    "duration": 223,
    "start_time": "2022-09-30T12:49:41.965Z"
   },
   {
    "duration": 425,
    "start_time": "2022-09-30T12:50:09.662Z"
   },
   {
    "duration": 224,
    "start_time": "2022-09-30T12:50:34.110Z"
   },
   {
    "duration": 448,
    "start_time": "2022-09-30T12:59:43.631Z"
   },
   {
    "duration": 7,
    "start_time": "2022-09-30T13:02:37.618Z"
   },
   {
    "duration": 8,
    "start_time": "2022-09-30T13:02:53.051Z"
   },
   {
    "duration": 9,
    "start_time": "2022-09-30T13:03:06.531Z"
   },
   {
    "duration": 593,
    "start_time": "2022-09-30T13:03:54.115Z"
   },
   {
    "duration": 368,
    "start_time": "2022-09-30T13:04:09.550Z"
   },
   {
    "duration": 4,
    "start_time": "2022-09-30T13:10:17.922Z"
   },
   {
    "duration": 317,
    "start_time": "2022-09-30T13:10:39.243Z"
   },
   {
    "duration": 413,
    "start_time": "2022-09-30T13:10:53.828Z"
   },
   {
    "duration": 110,
    "start_time": "2022-09-30T13:26:33.827Z"
   },
   {
    "duration": 339,
    "start_time": "2022-09-30T13:26:36.829Z"
   },
   {
    "duration": 264,
    "start_time": "2022-09-30T13:26:57.997Z"
   },
   {
    "duration": 265,
    "start_time": "2022-09-30T13:27:15.331Z"
   },
   {
    "duration": 436,
    "start_time": "2022-09-30T13:27:31.105Z"
   },
   {
    "duration": 305,
    "start_time": "2022-09-30T13:31:30.123Z"
   },
   {
    "duration": 334,
    "start_time": "2022-09-30T13:31:54.711Z"
   },
   {
    "duration": 259,
    "start_time": "2022-09-30T13:32:06.066Z"
   },
   {
    "duration": 260,
    "start_time": "2022-09-30T13:32:46.818Z"
   },
   {
    "duration": 240,
    "start_time": "2022-09-30T13:40:25.145Z"
   },
   {
    "duration": 1166,
    "start_time": "2022-09-30T13:40:41.451Z"
   },
   {
    "duration": 185,
    "start_time": "2022-09-30T13:41:49.468Z"
   },
   {
    "duration": 239,
    "start_time": "2022-09-30T13:42:06.808Z"
   },
   {
    "duration": 171,
    "start_time": "2022-09-30T13:42:16.796Z"
   },
   {
    "duration": 227,
    "start_time": "2022-09-30T13:42:54.657Z"
   },
   {
    "duration": 170,
    "start_time": "2022-09-30T13:43:07.196Z"
   },
   {
    "duration": 222,
    "start_time": "2022-09-30T13:43:15.016Z"
   },
   {
    "duration": 282,
    "start_time": "2022-09-30T13:52:30.882Z"
   },
   {
    "duration": 226,
    "start_time": "2022-09-30T13:52:49.207Z"
   },
   {
    "duration": 8,
    "start_time": "2022-09-30T13:53:49.452Z"
   },
   {
    "duration": 7,
    "start_time": "2022-09-30T13:55:34.226Z"
   },
   {
    "duration": 597,
    "start_time": "2022-09-30T13:58:18.501Z"
   },
   {
    "duration": 62,
    "start_time": "2022-09-30T13:58:19.100Z"
   },
   {
    "duration": 14,
    "start_time": "2022-09-30T13:58:19.163Z"
   },
   {
    "duration": 14,
    "start_time": "2022-09-30T13:58:19.179Z"
   },
   {
    "duration": 9,
    "start_time": "2022-09-30T13:58:19.195Z"
   },
   {
    "duration": 139,
    "start_time": "2022-09-30T13:58:19.206Z"
   },
   {
    "duration": 6,
    "start_time": "2022-09-30T13:58:19.347Z"
   },
   {
    "duration": 5,
    "start_time": "2022-09-30T13:58:19.355Z"
   },
   {
    "duration": 300,
    "start_time": "2022-09-30T13:58:19.362Z"
   },
   {
    "duration": 8,
    "start_time": "2022-09-30T13:58:19.664Z"
   },
   {
    "duration": 214,
    "start_time": "2022-09-30T13:58:19.673Z"
   },
   {
    "duration": 14,
    "start_time": "2022-09-30T13:58:19.888Z"
   },
   {
    "duration": 7,
    "start_time": "2022-09-30T14:02:21.348Z"
   },
   {
    "duration": 9,
    "start_time": "2022-09-30T14:09:32.398Z"
   },
   {
    "duration": 601,
    "start_time": "2022-09-30T14:10:48.199Z"
   },
   {
    "duration": 80,
    "start_time": "2022-09-30T14:10:48.803Z"
   },
   {
    "duration": 15,
    "start_time": "2022-09-30T14:10:48.886Z"
   },
   {
    "duration": 13,
    "start_time": "2022-09-30T14:10:48.903Z"
   },
   {
    "duration": 9,
    "start_time": "2022-09-30T14:10:48.918Z"
   },
   {
    "duration": 191,
    "start_time": "2022-09-30T14:10:48.929Z"
   },
   {
    "duration": 7,
    "start_time": "2022-09-30T14:10:49.122Z"
   },
   {
    "duration": 20,
    "start_time": "2022-09-30T14:10:49.131Z"
   },
   {
    "duration": 297,
    "start_time": "2022-09-30T14:10:49.153Z"
   },
   {
    "duration": 9,
    "start_time": "2022-09-30T14:10:49.453Z"
   },
   {
    "duration": 226,
    "start_time": "2022-09-30T14:10:49.464Z"
   },
   {
    "duration": 14,
    "start_time": "2022-09-30T14:10:49.692Z"
   },
   {
    "duration": 9,
    "start_time": "2022-09-30T14:10:49.708Z"
   },
   {
    "duration": 844,
    "start_time": "2022-09-30T14:12:00.291Z"
   },
   {
    "duration": 190,
    "start_time": "2022-09-30T14:12:15.995Z"
   },
   {
    "duration": 610,
    "start_time": "2022-09-30T14:12:22.104Z"
   },
   {
    "duration": 80,
    "start_time": "2022-09-30T14:12:22.716Z"
   },
   {
    "duration": 14,
    "start_time": "2022-09-30T14:12:22.798Z"
   },
   {
    "duration": 13,
    "start_time": "2022-09-30T14:12:22.814Z"
   },
   {
    "duration": 10,
    "start_time": "2022-09-30T14:12:22.829Z"
   },
   {
    "duration": 191,
    "start_time": "2022-09-30T14:12:22.841Z"
   },
   {
    "duration": 6,
    "start_time": "2022-09-30T14:12:23.033Z"
   },
   {
    "duration": 9,
    "start_time": "2022-09-30T14:12:23.040Z"
   },
   {
    "duration": 304,
    "start_time": "2022-09-30T14:12:23.051Z"
   },
   {
    "duration": 8,
    "start_time": "2022-09-30T14:12:23.358Z"
   },
   {
    "duration": 235,
    "start_time": "2022-09-30T14:12:23.367Z"
   },
   {
    "duration": 6,
    "start_time": "2022-09-30T14:12:23.604Z"
   },
   {
    "duration": 301,
    "start_time": "2022-09-30T14:12:23.611Z"
   },
   {
    "duration": 803,
    "start_time": "2022-09-30T14:12:35.241Z"
   },
   {
    "duration": 560,
    "start_time": "2022-09-30T14:13:47.830Z"
   },
   {
    "duration": 66,
    "start_time": "2022-09-30T14:13:48.391Z"
   },
   {
    "duration": 15,
    "start_time": "2022-09-30T14:13:48.459Z"
   },
   {
    "duration": 12,
    "start_time": "2022-09-30T14:13:48.476Z"
   },
   {
    "duration": 10,
    "start_time": "2022-09-30T14:13:48.490Z"
   },
   {
    "duration": 137,
    "start_time": "2022-09-30T14:13:48.501Z"
   },
   {
    "duration": 7,
    "start_time": "2022-09-30T14:13:48.639Z"
   },
   {
    "duration": 10,
    "start_time": "2022-09-30T14:13:48.647Z"
   },
   {
    "duration": 297,
    "start_time": "2022-09-30T14:13:48.659Z"
   },
   {
    "duration": 8,
    "start_time": "2022-09-30T14:13:48.958Z"
   },
   {
    "duration": 217,
    "start_time": "2022-09-30T14:13:48.968Z"
   },
   {
    "duration": 13,
    "start_time": "2022-09-30T14:13:49.187Z"
   },
   {
    "duration": 864,
    "start_time": "2022-09-30T14:13:49.201Z"
   },
   {
    "duration": 6,
    "start_time": "2022-09-30T14:14:14.107Z"
   },
   {
    "duration": 580,
    "start_time": "2022-09-30T14:14:18.184Z"
   },
   {
    "duration": 66,
    "start_time": "2022-09-30T14:14:18.766Z"
   },
   {
    "duration": 15,
    "start_time": "2022-09-30T14:14:18.834Z"
   },
   {
    "duration": 14,
    "start_time": "2022-09-30T14:14:18.852Z"
   },
   {
    "duration": 9,
    "start_time": "2022-09-30T14:14:18.867Z"
   },
   {
    "duration": 157,
    "start_time": "2022-09-30T14:14:18.877Z"
   },
   {
    "duration": 6,
    "start_time": "2022-09-30T14:14:19.035Z"
   },
   {
    "duration": 6,
    "start_time": "2022-09-30T14:14:19.043Z"
   },
   {
    "duration": 285,
    "start_time": "2022-09-30T14:14:19.050Z"
   },
   {
    "duration": 8,
    "start_time": "2022-09-30T14:14:19.337Z"
   },
   {
    "duration": 215,
    "start_time": "2022-09-30T14:14:19.347Z"
   },
   {
    "duration": 5,
    "start_time": "2022-09-30T14:14:19.564Z"
   },
   {
    "duration": 805,
    "start_time": "2022-09-30T14:14:19.571Z"
   },
   {
    "duration": 68,
    "start_time": "2022-09-30T14:15:15.842Z"
   },
   {
    "duration": 438,
    "start_time": "2022-09-30T14:15:25.066Z"
   },
   {
    "duration": 495,
    "start_time": "2022-09-30T14:17:09.705Z"
   },
   {
    "duration": 582,
    "start_time": "2022-09-30T14:17:15.516Z"
   },
   {
    "duration": 77,
    "start_time": "2022-09-30T14:17:16.100Z"
   },
   {
    "duration": 13,
    "start_time": "2022-09-30T14:17:16.179Z"
   },
   {
    "duration": 29,
    "start_time": "2022-09-30T14:17:16.193Z"
   },
   {
    "duration": 11,
    "start_time": "2022-09-30T14:17:16.225Z"
   },
   {
    "duration": 137,
    "start_time": "2022-09-30T14:17:16.238Z"
   },
   {
    "duration": 6,
    "start_time": "2022-09-30T14:17:16.376Z"
   },
   {
    "duration": 22,
    "start_time": "2022-09-30T14:17:16.384Z"
   },
   {
    "duration": 311,
    "start_time": "2022-09-30T14:17:16.407Z"
   },
   {
    "duration": 8,
    "start_time": "2022-09-30T14:17:16.719Z"
   },
   {
    "duration": 218,
    "start_time": "2022-09-30T14:17:16.728Z"
   },
   {
    "duration": 6,
    "start_time": "2022-09-30T14:17:16.948Z"
   },
   {
    "duration": 482,
    "start_time": "2022-09-30T14:17:16.955Z"
   },
   {
    "duration": 6,
    "start_time": "2022-09-30T14:23:40.862Z"
   },
   {
    "duration": 7,
    "start_time": "2022-09-30T14:23:54.246Z"
   },
   {
    "duration": 8,
    "start_time": "2022-09-30T14:24:02.990Z"
   },
   {
    "duration": 7,
    "start_time": "2022-09-30T14:24:08.041Z"
   },
   {
    "duration": 64,
    "start_time": "2022-09-30T14:24:17.700Z"
   },
   {
    "duration": 233,
    "start_time": "2022-09-30T14:24:25.510Z"
   },
   {
    "duration": 219,
    "start_time": "2022-09-30T14:24:32.143Z"
   },
   {
    "duration": 218,
    "start_time": "2022-09-30T14:24:39.504Z"
   },
   {
    "duration": 9,
    "start_time": "2022-09-30T14:55:01.701Z"
   },
   {
    "duration": 6,
    "start_time": "2022-09-30T14:55:10.079Z"
   },
   {
    "duration": 457,
    "start_time": "2022-09-30T14:55:11.379Z"
   },
   {
    "duration": 448,
    "start_time": "2022-09-30T14:55:25.577Z"
   },
   {
    "duration": 592,
    "start_time": "2022-09-30T14:55:31.111Z"
   },
   {
    "duration": 68,
    "start_time": "2022-09-30T14:55:31.705Z"
   },
   {
    "duration": 14,
    "start_time": "2022-09-30T14:55:31.774Z"
   },
   {
    "duration": 11,
    "start_time": "2022-09-30T14:55:31.790Z"
   },
   {
    "duration": 8,
    "start_time": "2022-09-30T14:55:31.803Z"
   },
   {
    "duration": 133,
    "start_time": "2022-09-30T14:55:31.813Z"
   },
   {
    "duration": 6,
    "start_time": "2022-09-30T14:55:31.948Z"
   },
   {
    "duration": 7,
    "start_time": "2022-09-30T14:55:31.956Z"
   },
   {
    "duration": 281,
    "start_time": "2022-09-30T14:55:31.964Z"
   },
   {
    "duration": 7,
    "start_time": "2022-09-30T14:55:32.248Z"
   },
   {
    "duration": 196,
    "start_time": "2022-09-30T14:55:32.257Z"
   },
   {
    "duration": 5,
    "start_time": "2022-09-30T14:55:32.455Z"
   },
   {
    "duration": 272,
    "start_time": "2022-09-30T14:55:32.461Z"
   },
   {
    "duration": 5,
    "start_time": "2022-09-30T14:55:32.735Z"
   },
   {
    "duration": 421,
    "start_time": "2022-09-30T14:55:32.741Z"
   },
   {
    "duration": 26,
    "start_time": "2022-09-30T14:56:20.104Z"
   },
   {
    "duration": 4,
    "start_time": "2022-09-30T14:56:37.820Z"
   },
   {
    "duration": 406,
    "start_time": "2022-09-30T14:56:39.777Z"
   },
   {
    "duration": 5,
    "start_time": "2022-09-30T15:00:17.738Z"
   },
   {
    "duration": 5,
    "start_time": "2022-09-30T15:00:28.093Z"
   },
   {
    "duration": 29,
    "start_time": "2022-09-30T15:00:46.219Z"
   },
   {
    "duration": 611,
    "start_time": "2022-09-30T15:00:50.479Z"
   },
   {
    "duration": 63,
    "start_time": "2022-09-30T15:00:51.092Z"
   },
   {
    "duration": 14,
    "start_time": "2022-09-30T15:00:51.157Z"
   },
   {
    "duration": 13,
    "start_time": "2022-09-30T15:00:51.173Z"
   },
   {
    "duration": 8,
    "start_time": "2022-09-30T15:00:51.188Z"
   },
   {
    "duration": 137,
    "start_time": "2022-09-30T15:00:51.198Z"
   },
   {
    "duration": 6,
    "start_time": "2022-09-30T15:00:51.337Z"
   },
   {
    "duration": 15,
    "start_time": "2022-09-30T15:00:51.344Z"
   },
   {
    "duration": 295,
    "start_time": "2022-09-30T15:00:51.360Z"
   },
   {
    "duration": 8,
    "start_time": "2022-09-30T15:00:51.657Z"
   },
   {
    "duration": 215,
    "start_time": "2022-09-30T15:00:51.666Z"
   },
   {
    "duration": 6,
    "start_time": "2022-09-30T15:00:51.883Z"
   },
   {
    "duration": 264,
    "start_time": "2022-09-30T15:00:51.899Z"
   },
   {
    "duration": 36,
    "start_time": "2022-09-30T15:00:52.165Z"
   },
   {
    "duration": 5,
    "start_time": "2022-09-30T15:00:52.203Z"
   },
   {
    "duration": 438,
    "start_time": "2022-09-30T15:00:52.209Z"
   },
   {
    "duration": 24,
    "start_time": "2022-09-30T15:01:15.927Z"
   },
   {
    "duration": 6,
    "start_time": "2022-09-30T15:02:35.122Z"
   },
   {
    "duration": 26,
    "start_time": "2022-09-30T15:02:37.592Z"
   },
   {
    "duration": 441,
    "start_time": "2022-09-30T15:02:42.142Z"
   },
   {
    "duration": 555,
    "start_time": "2022-09-30T15:03:34.629Z"
   },
   {
    "duration": 61,
    "start_time": "2022-09-30T15:03:35.186Z"
   },
   {
    "duration": 16,
    "start_time": "2022-09-30T15:03:35.248Z"
   },
   {
    "duration": 13,
    "start_time": "2022-09-30T15:03:35.266Z"
   },
   {
    "duration": 9,
    "start_time": "2022-09-30T15:03:35.281Z"
   },
   {
    "duration": 146,
    "start_time": "2022-09-30T15:03:35.291Z"
   },
   {
    "duration": 6,
    "start_time": "2022-09-30T15:03:35.440Z"
   },
   {
    "duration": 17,
    "start_time": "2022-09-30T15:03:35.448Z"
   },
   {
    "duration": 274,
    "start_time": "2022-09-30T15:03:35.467Z"
   },
   {
    "duration": 7,
    "start_time": "2022-09-30T15:03:35.743Z"
   },
   {
    "duration": 200,
    "start_time": "2022-09-30T15:03:35.752Z"
   },
   {
    "duration": 6,
    "start_time": "2022-09-30T15:03:35.954Z"
   },
   {
    "duration": 267,
    "start_time": "2022-09-30T15:03:35.961Z"
   },
   {
    "duration": 25,
    "start_time": "2022-09-30T15:03:36.229Z"
   },
   {
    "duration": 4,
    "start_time": "2022-09-30T15:03:36.255Z"
   },
   {
    "duration": 459,
    "start_time": "2022-09-30T15:03:36.261Z"
   },
   {
    "duration": 410,
    "start_time": "2022-09-30T15:04:15.839Z"
   },
   {
    "duration": 405,
    "start_time": "2022-09-30T15:04:39.496Z"
   },
   {
    "duration": 4,
    "start_time": "2022-09-30T15:04:52.565Z"
   },
   {
    "duration": 468,
    "start_time": "2022-09-30T15:04:54.499Z"
   },
   {
    "duration": 91,
    "start_time": "2022-09-30T15:06:10.373Z"
   },
   {
    "duration": 5445,
    "start_time": "2022-09-30T15:06:30.643Z"
   },
   {
    "duration": 613,
    "start_time": "2022-09-30T15:07:25.375Z"
   },
   {
    "duration": 62,
    "start_time": "2022-09-30T15:07:25.990Z"
   },
   {
    "duration": 14,
    "start_time": "2022-09-30T15:07:26.053Z"
   },
   {
    "duration": 14,
    "start_time": "2022-09-30T15:07:26.068Z"
   },
   {
    "duration": 6,
    "start_time": "2022-09-30T15:07:26.084Z"
   },
   {
    "duration": 129,
    "start_time": "2022-09-30T15:07:26.091Z"
   },
   {
    "duration": 5,
    "start_time": "2022-09-30T15:07:26.222Z"
   },
   {
    "duration": 20,
    "start_time": "2022-09-30T15:07:26.228Z"
   },
   {
    "duration": 263,
    "start_time": "2022-09-30T15:07:26.249Z"
   },
   {
    "duration": 7,
    "start_time": "2022-09-30T15:07:26.514Z"
   },
   {
    "duration": 214,
    "start_time": "2022-09-30T15:07:26.522Z"
   },
   {
    "duration": 5,
    "start_time": "2022-09-30T15:07:26.738Z"
   },
   {
    "duration": 187,
    "start_time": "2022-09-30T15:07:26.744Z"
   },
   {
    "duration": 5,
    "start_time": "2022-09-30T15:07:26.934Z"
   },
   {
    "duration": 175,
    "start_time": "2022-09-30T15:07:26.941Z"
   },
   {
    "duration": 552,
    "start_time": "2022-09-30T15:07:27.117Z"
   },
   {
    "duration": 543,
    "start_time": "2022-09-30T15:08:46.646Z"
   },
   {
    "duration": 63,
    "start_time": "2022-09-30T15:08:47.191Z"
   },
   {
    "duration": 14,
    "start_time": "2022-09-30T15:08:47.258Z"
   },
   {
    "duration": 12,
    "start_time": "2022-09-30T15:08:47.274Z"
   },
   {
    "duration": 13,
    "start_time": "2022-09-30T15:08:47.287Z"
   },
   {
    "duration": 141,
    "start_time": "2022-09-30T15:08:47.302Z"
   },
   {
    "duration": 7,
    "start_time": "2022-09-30T15:08:47.445Z"
   },
   {
    "duration": 15,
    "start_time": "2022-09-30T15:08:47.453Z"
   },
   {
    "duration": 279,
    "start_time": "2022-09-30T15:08:47.471Z"
   },
   {
    "duration": 8,
    "start_time": "2022-09-30T15:08:47.751Z"
   },
   {
    "duration": 209,
    "start_time": "2022-09-30T15:08:47.761Z"
   },
   {
    "duration": 6,
    "start_time": "2022-09-30T15:08:47.972Z"
   },
   {
    "duration": 169,
    "start_time": "2022-09-30T15:08:47.980Z"
   },
   {
    "duration": 5,
    "start_time": "2022-09-30T15:08:48.151Z"
   },
   {
    "duration": 182,
    "start_time": "2022-09-30T15:08:48.157Z"
   },
   {
    "duration": 577,
    "start_time": "2022-09-30T15:08:48.341Z"
   },
   {
    "duration": 90,
    "start_time": "2022-09-30T15:10:24.402Z"
   },
   {
    "duration": 270,
    "start_time": "2022-09-30T15:10:26.960Z"
   },
   {
    "duration": 147,
    "start_time": "2022-09-30T15:10:30.020Z"
   },
   {
    "duration": 36,
    "start_time": "2022-09-30T15:13:48.922Z"
   },
   {
    "duration": 13,
    "start_time": "2022-09-30T15:14:38.574Z"
   },
   {
    "duration": 145,
    "start_time": "2022-09-30T15:14:45.834Z"
   },
   {
    "duration": 71,
    "start_time": "2022-09-30T15:15:08.016Z"
   },
   {
    "duration": 13,
    "start_time": "2022-09-30T15:15:12.008Z"
   },
   {
    "duration": 311,
    "start_time": "2022-09-30T15:16:54.341Z"
   },
   {
    "duration": 274,
    "start_time": "2022-09-30T15:18:58.842Z"
   },
   {
    "duration": 4,
    "start_time": "2022-09-30T15:19:27.419Z"
   },
   {
    "duration": 14,
    "start_time": "2022-09-30T15:19:36.708Z"
   },
   {
    "duration": 593,
    "start_time": "2022-09-30T15:21:16.313Z"
   },
   {
    "duration": 61,
    "start_time": "2022-09-30T15:21:16.908Z"
   },
   {
    "duration": 14,
    "start_time": "2022-09-30T15:21:16.971Z"
   },
   {
    "duration": 12,
    "start_time": "2022-09-30T15:21:16.986Z"
   },
   {
    "duration": 2,
    "start_time": "2022-09-30T15:21:16.999Z"
   },
   {
    "duration": 125,
    "start_time": "2022-09-30T15:21:17.003Z"
   },
   {
    "duration": 6,
    "start_time": "2022-09-30T15:21:17.130Z"
   },
   {
    "duration": 6,
    "start_time": "2022-09-30T15:21:17.138Z"
   },
   {
    "duration": 263,
    "start_time": "2022-09-30T15:21:17.146Z"
   },
   {
    "duration": 8,
    "start_time": "2022-09-30T15:21:17.411Z"
   },
   {
    "duration": 209,
    "start_time": "2022-09-30T15:21:17.420Z"
   },
   {
    "duration": 6,
    "start_time": "2022-09-30T15:21:17.630Z"
   },
   {
    "duration": 176,
    "start_time": "2022-09-30T15:21:17.637Z"
   },
   {
    "duration": 4,
    "start_time": "2022-09-30T15:21:17.815Z"
   },
   {
    "duration": 181,
    "start_time": "2022-09-30T15:21:17.820Z"
   },
   {
    "duration": 142,
    "start_time": "2022-09-30T15:21:18.003Z"
   },
   {
    "duration": 13,
    "start_time": "2022-09-30T15:21:18.147Z"
   },
   {
    "duration": 411,
    "start_time": "2022-09-30T15:21:18.161Z"
   },
   {
    "duration": 3,
    "start_time": "2022-09-30T15:21:18.574Z"
   },
   {
    "duration": 23,
    "start_time": "2022-09-30T15:21:18.578Z"
   },
   {
    "duration": 5,
    "start_time": "2022-09-30T15:21:42.725Z"
   },
   {
    "duration": 424,
    "start_time": "2022-09-30T15:23:29.676Z"
   },
   {
    "duration": 8,
    "start_time": "2022-09-30T15:50:08.310Z"
   },
   {
    "duration": 102,
    "start_time": "2022-09-30T15:50:18.777Z"
   },
   {
    "duration": 136,
    "start_time": "2022-09-30T15:50:26.953Z"
   },
   {
    "duration": 201,
    "start_time": "2022-09-30T15:50:32.786Z"
   },
   {
    "duration": 131,
    "start_time": "2022-09-30T15:50:49.158Z"
   },
   {
    "duration": 136,
    "start_time": "2022-09-30T15:51:35.100Z"
   },
   {
    "duration": 548,
    "start_time": "2022-09-30T15:58:50.335Z"
   },
   {
    "duration": 64,
    "start_time": "2022-09-30T15:58:50.885Z"
   },
   {
    "duration": 15,
    "start_time": "2022-09-30T15:58:50.951Z"
   },
   {
    "duration": 14,
    "start_time": "2022-09-30T15:58:50.968Z"
   },
   {
    "duration": 3,
    "start_time": "2022-09-30T15:58:50.983Z"
   },
   {
    "duration": 142,
    "start_time": "2022-09-30T15:58:51.000Z"
   },
   {
    "duration": 7,
    "start_time": "2022-09-30T15:58:51.144Z"
   },
   {
    "duration": 6,
    "start_time": "2022-09-30T15:58:51.153Z"
   },
   {
    "duration": 284,
    "start_time": "2022-09-30T15:58:51.160Z"
   },
   {
    "duration": 8,
    "start_time": "2022-09-30T15:58:51.447Z"
   },
   {
    "duration": 205,
    "start_time": "2022-09-30T15:58:51.456Z"
   },
   {
    "duration": 5,
    "start_time": "2022-09-30T15:58:51.662Z"
   },
   {
    "duration": 188,
    "start_time": "2022-09-30T15:58:51.668Z"
   },
   {
    "duration": 4,
    "start_time": "2022-09-30T15:58:51.857Z"
   },
   {
    "duration": 201,
    "start_time": "2022-09-30T15:58:51.863Z"
   },
   {
    "duration": 154,
    "start_time": "2022-09-30T15:58:52.066Z"
   },
   {
    "duration": 437,
    "start_time": "2022-09-30T15:58:52.221Z"
   },
   {
    "duration": 5,
    "start_time": "2022-09-30T15:58:52.660Z"
   },
   {
    "duration": 164,
    "start_time": "2022-09-30T15:58:52.666Z"
   },
   {
    "duration": 162,
    "start_time": "2022-09-30T15:58:52.832Z"
   },
   {
    "duration": 10,
    "start_time": "2022-09-30T16:03:19.277Z"
   },
   {
    "duration": 9,
    "start_time": "2022-09-30T16:04:05.535Z"
   },
   {
    "duration": 9,
    "start_time": "2022-09-30T16:04:29.590Z"
   },
   {
    "duration": 11,
    "start_time": "2022-09-30T16:05:18.760Z"
   },
   {
    "duration": 141,
    "start_time": "2022-09-30T16:07:32.061Z"
   },
   {
    "duration": 142,
    "start_time": "2022-09-30T16:07:52.193Z"
   },
   {
    "duration": 586,
    "start_time": "2022-09-30T18:10:36.195Z"
   },
   {
    "duration": 64,
    "start_time": "2022-09-30T18:10:36.783Z"
   },
   {
    "duration": 15,
    "start_time": "2022-09-30T18:10:36.849Z"
   },
   {
    "duration": 17,
    "start_time": "2022-09-30T18:10:36.866Z"
   },
   {
    "duration": 3,
    "start_time": "2022-09-30T18:10:36.884Z"
   },
   {
    "duration": 149,
    "start_time": "2022-09-30T18:10:36.889Z"
   },
   {
    "duration": 8,
    "start_time": "2022-09-30T18:10:37.040Z"
   },
   {
    "duration": 7,
    "start_time": "2022-09-30T18:10:37.049Z"
   },
   {
    "duration": 274,
    "start_time": "2022-09-30T18:10:37.058Z"
   },
   {
    "duration": 7,
    "start_time": "2022-09-30T18:10:37.335Z"
   },
   {
    "duration": 224,
    "start_time": "2022-09-30T18:10:37.344Z"
   },
   {
    "duration": 10,
    "start_time": "2022-09-30T18:10:37.570Z"
   },
   {
    "duration": 185,
    "start_time": "2022-09-30T18:10:37.582Z"
   },
   {
    "duration": 4,
    "start_time": "2022-09-30T18:10:37.769Z"
   },
   {
    "duration": 203,
    "start_time": "2022-09-30T18:10:37.774Z"
   },
   {
    "duration": 153,
    "start_time": "2022-09-30T18:10:37.978Z"
   },
   {
    "duration": 418,
    "start_time": "2022-09-30T18:10:38.132Z"
   },
   {
    "duration": 9,
    "start_time": "2022-09-30T18:10:38.552Z"
   },
   {
    "duration": 33,
    "start_time": "2022-09-30T18:10:38.563Z"
   },
   {
    "duration": 16,
    "start_time": "2022-09-30T18:10:38.598Z"
   },
   {
    "duration": 17,
    "start_time": "2022-09-30T18:10:38.615Z"
   },
   {
    "duration": 132,
    "start_time": "2022-09-30T18:10:38.633Z"
   },
   {
    "duration": 142,
    "start_time": "2022-09-30T18:10:38.767Z"
   },
   {
    "duration": 7,
    "start_time": "2022-09-30T18:12:09.763Z"
   },
   {
    "duration": 7,
    "start_time": "2022-09-30T18:12:17.970Z"
   },
   {
    "duration": 246,
    "start_time": "2022-09-30T18:12:34.098Z"
   },
   {
    "duration": 222,
    "start_time": "2022-09-30T18:12:45.732Z"
   },
   {
    "duration": 314,
    "start_time": "2022-09-30T18:12:53.397Z"
   },
   {
    "duration": 237,
    "start_time": "2022-09-30T18:12:58.547Z"
   },
   {
    "duration": 275,
    "start_time": "2022-09-30T18:13:34.199Z"
   },
   {
    "duration": 240,
    "start_time": "2022-09-30T18:13:47.165Z"
   },
   {
    "duration": 141,
    "start_time": "2022-09-30T18:18:52.496Z"
   },
   {
    "duration": 141,
    "start_time": "2022-09-30T18:19:06.047Z"
   },
   {
    "duration": 152,
    "start_time": "2022-09-30T18:19:12.708Z"
   },
   {
    "duration": 134,
    "start_time": "2022-09-30T18:21:53.080Z"
   },
   {
    "duration": 191,
    "start_time": "2022-09-30T18:23:10.249Z"
   },
   {
    "duration": 128,
    "start_time": "2022-09-30T18:23:20.515Z"
   },
   {
    "duration": 416,
    "start_time": "2022-09-30T18:35:59.590Z"
   },
   {
    "duration": 5,
    "start_time": "2022-09-30T18:39:29.947Z"
   },
   {
    "duration": 24,
    "start_time": "2022-09-30T18:43:13.634Z"
   },
   {
    "duration": 25,
    "start_time": "2022-09-30T18:44:17.426Z"
   },
   {
    "duration": 8,
    "start_time": "2022-09-30T18:44:21.613Z"
   },
   {
    "duration": 32,
    "start_time": "2022-09-30T18:44:24.551Z"
   },
   {
    "duration": 105,
    "start_time": "2022-09-30T18:45:11.341Z"
   },
   {
    "duration": 9,
    "start_time": "2022-09-30T18:45:44.042Z"
   },
   {
    "duration": 9,
    "start_time": "2022-09-30T18:46:49.984Z"
   },
   {
    "duration": 5,
    "start_time": "2022-09-30T18:52:38.046Z"
   },
   {
    "duration": 5,
    "start_time": "2022-09-30T18:52:50.802Z"
   },
   {
    "duration": 9,
    "start_time": "2022-09-30T18:53:09.491Z"
   },
   {
    "duration": 1104,
    "start_time": "2022-10-01T14:14:42.036Z"
   },
   {
    "duration": 105,
    "start_time": "2022-10-01T14:14:43.142Z"
   },
   {
    "duration": 12,
    "start_time": "2022-10-01T14:14:43.249Z"
   },
   {
    "duration": 12,
    "start_time": "2022-10-01T14:14:43.263Z"
   },
   {
    "duration": 2,
    "start_time": "2022-10-01T14:14:43.277Z"
   },
   {
    "duration": 137,
    "start_time": "2022-10-01T14:14:43.280Z"
   },
   {
    "duration": 7,
    "start_time": "2022-10-01T14:14:43.419Z"
   },
   {
    "duration": 7,
    "start_time": "2022-10-01T14:14:43.428Z"
   },
   {
    "duration": 278,
    "start_time": "2022-10-01T14:14:43.436Z"
   },
   {
    "duration": 9,
    "start_time": "2022-10-01T14:14:43.716Z"
   },
   {
    "duration": 200,
    "start_time": "2022-10-01T14:14:43.727Z"
   },
   {
    "duration": 6,
    "start_time": "2022-10-01T14:14:43.929Z"
   },
   {
    "duration": 136,
    "start_time": "2022-10-01T14:14:43.936Z"
   },
   {
    "duration": 4,
    "start_time": "2022-10-01T14:14:44.075Z"
   },
   {
    "duration": 198,
    "start_time": "2022-10-01T14:14:44.081Z"
   },
   {
    "duration": 158,
    "start_time": "2022-10-01T14:14:44.281Z"
   },
   {
    "duration": 518,
    "start_time": "2022-10-01T14:14:44.442Z"
   },
   {
    "duration": 10,
    "start_time": "2022-10-01T14:14:44.962Z"
   },
   {
    "duration": 8,
    "start_time": "2022-10-01T14:14:44.973Z"
   },
   {
    "duration": 24,
    "start_time": "2022-10-01T14:14:44.982Z"
   },
   {
    "duration": 9,
    "start_time": "2022-10-01T14:14:45.007Z"
   },
   {
    "duration": 156,
    "start_time": "2022-10-01T14:14:45.018Z"
   },
   {
    "duration": 154,
    "start_time": "2022-10-01T14:14:45.176Z"
   },
   {
    "duration": 232,
    "start_time": "2022-10-01T14:14:45.332Z"
   },
   {
    "duration": 226,
    "start_time": "2022-10-01T14:14:45.566Z"
   },
   {
    "duration": 233,
    "start_time": "2022-10-01T14:14:45.794Z"
   },
   {
    "duration": 151,
    "start_time": "2022-10-01T14:14:46.029Z"
   },
   {
    "duration": 161,
    "start_time": "2022-10-01T14:14:46.182Z"
   },
   {
    "duration": 234,
    "start_time": "2022-10-01T14:14:46.344Z"
   },
   {
    "duration": 144,
    "start_time": "2022-10-01T14:14:46.579Z"
   },
   {
    "duration": 130,
    "start_time": "2022-10-01T14:14:46.725Z"
   },
   {
    "duration": 131,
    "start_time": "2022-10-01T14:14:46.856Z"
   },
   {
    "duration": 15,
    "start_time": "2022-10-01T14:14:46.988Z"
   },
   {
    "duration": 10,
    "start_time": "2022-10-01T14:14:47.004Z"
   },
   {
    "duration": 14,
    "start_time": "2022-10-01T14:35:34.578Z"
   },
   {
    "duration": 91,
    "start_time": "2022-10-01T14:35:58.615Z"
   },
   {
    "duration": 5,
    "start_time": "2022-10-01T14:36:04.309Z"
   },
   {
    "duration": 4,
    "start_time": "2022-10-01T14:36:33.585Z"
   },
   {
    "duration": 4,
    "start_time": "2022-10-01T14:45:06.447Z"
   },
   {
    "duration": 8,
    "start_time": "2022-10-01T14:45:18.661Z"
   },
   {
    "duration": 327,
    "start_time": "2022-10-01T14:54:38.405Z"
   },
   {
    "duration": 266,
    "start_time": "2022-10-01T14:54:55.908Z"
   },
   {
    "duration": 308,
    "start_time": "2022-10-01T15:02:19.768Z"
   },
   {
    "duration": 391,
    "start_time": "2022-10-01T15:02:26.122Z"
   },
   {
    "duration": 283,
    "start_time": "2022-10-01T15:02:31.928Z"
   },
   {
    "duration": 1079,
    "start_time": "2022-10-01T15:02:45.975Z"
   },
   {
    "duration": 68,
    "start_time": "2022-10-01T15:02:47.056Z"
   },
   {
    "duration": 14,
    "start_time": "2022-10-01T15:02:47.126Z"
   },
   {
    "duration": 12,
    "start_time": "2022-10-01T15:02:47.141Z"
   },
   {
    "duration": 2,
    "start_time": "2022-10-01T15:02:47.156Z"
   },
   {
    "duration": 156,
    "start_time": "2022-10-01T15:02:47.160Z"
   },
   {
    "duration": 9,
    "start_time": "2022-10-01T15:02:47.318Z"
   },
   {
    "duration": 12,
    "start_time": "2022-10-01T15:02:47.328Z"
   },
   {
    "duration": 288,
    "start_time": "2022-10-01T15:02:47.341Z"
   },
   {
    "duration": 9,
    "start_time": "2022-10-01T15:02:47.630Z"
   },
   {
    "duration": 219,
    "start_time": "2022-10-01T15:02:47.641Z"
   },
   {
    "duration": 5,
    "start_time": "2022-10-01T15:02:47.862Z"
   },
   {
    "duration": 161,
    "start_time": "2022-10-01T15:02:47.868Z"
   },
   {
    "duration": 5,
    "start_time": "2022-10-01T15:02:48.032Z"
   },
   {
    "duration": 194,
    "start_time": "2022-10-01T15:02:48.039Z"
   },
   {
    "duration": 146,
    "start_time": "2022-10-01T15:02:48.235Z"
   },
   {
    "duration": 482,
    "start_time": "2022-10-01T15:02:48.382Z"
   },
   {
    "duration": 10,
    "start_time": "2022-10-01T15:02:48.865Z"
   },
   {
    "duration": 12,
    "start_time": "2022-10-01T15:02:48.877Z"
   },
   {
    "duration": 16,
    "start_time": "2022-10-01T15:02:48.890Z"
   },
   {
    "duration": 9,
    "start_time": "2022-10-01T15:02:48.907Z"
   },
   {
    "duration": 149,
    "start_time": "2022-10-01T15:02:48.917Z"
   },
   {
    "duration": 154,
    "start_time": "2022-10-01T15:02:49.068Z"
   },
   {
    "duration": 231,
    "start_time": "2022-10-01T15:02:49.224Z"
   },
   {
    "duration": 241,
    "start_time": "2022-10-01T15:02:49.456Z"
   },
   {
    "duration": 223,
    "start_time": "2022-10-01T15:02:49.698Z"
   },
   {
    "duration": 154,
    "start_time": "2022-10-01T15:02:49.923Z"
   },
   {
    "duration": 161,
    "start_time": "2022-10-01T15:02:50.080Z"
   },
   {
    "duration": 251,
    "start_time": "2022-10-01T15:02:50.243Z"
   },
   {
    "duration": 125,
    "start_time": "2022-10-01T15:02:50.496Z"
   },
   {
    "duration": 133,
    "start_time": "2022-10-01T15:02:50.623Z"
   },
   {
    "duration": 138,
    "start_time": "2022-10-01T15:02:50.757Z"
   },
   {
    "duration": 9,
    "start_time": "2022-10-01T15:02:50.900Z"
   },
   {
    "duration": 10,
    "start_time": "2022-10-01T15:02:50.910Z"
   },
   {
    "duration": 272,
    "start_time": "2022-10-01T15:03:22.996Z"
   },
   {
    "duration": 1021,
    "start_time": "2022-10-01T15:03:29.431Z"
   },
   {
    "duration": 64,
    "start_time": "2022-10-01T15:03:30.454Z"
   },
   {
    "duration": 15,
    "start_time": "2022-10-01T15:03:30.520Z"
   },
   {
    "duration": 25,
    "start_time": "2022-10-01T15:03:30.537Z"
   },
   {
    "duration": 28,
    "start_time": "2022-10-01T15:03:30.564Z"
   },
   {
    "duration": 166,
    "start_time": "2022-10-01T15:03:30.593Z"
   },
   {
    "duration": 8,
    "start_time": "2022-10-01T15:03:30.761Z"
   },
   {
    "duration": 24,
    "start_time": "2022-10-01T15:03:30.771Z"
   },
   {
    "duration": 297,
    "start_time": "2022-10-01T15:03:30.797Z"
   },
   {
    "duration": 9,
    "start_time": "2022-10-01T15:03:31.100Z"
   },
   {
    "duration": 212,
    "start_time": "2022-10-01T15:03:31.111Z"
   },
   {
    "duration": 7,
    "start_time": "2022-10-01T15:03:31.325Z"
   },
   {
    "duration": 149,
    "start_time": "2022-10-01T15:03:31.333Z"
   },
   {
    "duration": 4,
    "start_time": "2022-10-01T15:03:31.483Z"
   },
   {
    "duration": 179,
    "start_time": "2022-10-01T15:03:31.500Z"
   },
   {
    "duration": 180,
    "start_time": "2022-10-01T15:03:31.680Z"
   },
   {
    "duration": 561,
    "start_time": "2022-10-01T15:03:31.861Z"
   },
   {
    "duration": 10,
    "start_time": "2022-10-01T15:03:32.424Z"
   },
   {
    "duration": 10,
    "start_time": "2022-10-01T15:03:32.435Z"
   },
   {
    "duration": 8,
    "start_time": "2022-10-01T15:03:32.447Z"
   },
   {
    "duration": 9,
    "start_time": "2022-10-01T15:03:32.457Z"
   },
   {
    "duration": 161,
    "start_time": "2022-10-01T15:03:32.467Z"
   },
   {
    "duration": 149,
    "start_time": "2022-10-01T15:03:32.630Z"
   },
   {
    "duration": 235,
    "start_time": "2022-10-01T15:03:32.780Z"
   },
   {
    "duration": 239,
    "start_time": "2022-10-01T15:03:33.017Z"
   },
   {
    "duration": 232,
    "start_time": "2022-10-01T15:03:33.258Z"
   },
   {
    "duration": 152,
    "start_time": "2022-10-01T15:03:33.491Z"
   },
   {
    "duration": 163,
    "start_time": "2022-10-01T15:03:33.646Z"
   },
   {
    "duration": 234,
    "start_time": "2022-10-01T15:03:33.811Z"
   },
   {
    "duration": 140,
    "start_time": "2022-10-01T15:03:34.047Z"
   },
   {
    "duration": 143,
    "start_time": "2022-10-01T15:03:34.188Z"
   },
   {
    "duration": 168,
    "start_time": "2022-10-01T15:03:34.332Z"
   },
   {
    "duration": 11,
    "start_time": "2022-10-01T15:03:34.502Z"
   },
   {
    "duration": 11,
    "start_time": "2022-10-01T15:03:34.515Z"
   },
   {
    "duration": 73,
    "start_time": "2022-10-01T18:37:17.441Z"
   },
   {
    "duration": 1217,
    "start_time": "2022-10-01T18:39:07.859Z"
   },
   {
    "duration": 106,
    "start_time": "2022-10-01T18:39:09.078Z"
   },
   {
    "duration": 13,
    "start_time": "2022-10-01T18:39:09.189Z"
   },
   {
    "duration": 12,
    "start_time": "2022-10-01T18:39:09.203Z"
   },
   {
    "duration": 3,
    "start_time": "2022-10-01T18:39:09.216Z"
   },
   {
    "duration": 148,
    "start_time": "2022-10-01T18:39:09.220Z"
   },
   {
    "duration": 7,
    "start_time": "2022-10-01T18:39:09.370Z"
   },
   {
    "duration": 16,
    "start_time": "2022-10-01T18:39:09.378Z"
   },
   {
    "duration": 4,
    "start_time": "2022-10-01T18:39:09.396Z"
   },
   {
    "duration": 294,
    "start_time": "2022-10-01T18:39:09.402Z"
   },
   {
    "duration": 8,
    "start_time": "2022-10-01T18:39:09.698Z"
   },
   {
    "duration": 210,
    "start_time": "2022-10-01T18:39:09.707Z"
   },
   {
    "duration": 5,
    "start_time": "2022-10-01T18:39:09.919Z"
   },
   {
    "duration": 134,
    "start_time": "2022-10-01T18:39:09.925Z"
   },
   {
    "duration": 4,
    "start_time": "2022-10-01T18:39:10.061Z"
   },
   {
    "duration": 191,
    "start_time": "2022-10-01T18:39:10.067Z"
   },
   {
    "duration": 149,
    "start_time": "2022-10-01T18:39:10.260Z"
   },
   {
    "duration": 475,
    "start_time": "2022-10-01T18:39:10.411Z"
   },
   {
    "duration": 10,
    "start_time": "2022-10-01T18:39:10.887Z"
   },
   {
    "duration": 8,
    "start_time": "2022-10-01T18:39:10.899Z"
   },
   {
    "duration": 33,
    "start_time": "2022-10-01T18:39:10.908Z"
   },
   {
    "duration": 9,
    "start_time": "2022-10-01T18:39:10.942Z"
   },
   {
    "duration": 147,
    "start_time": "2022-10-01T18:39:10.953Z"
   },
   {
    "duration": 170,
    "start_time": "2022-10-01T18:39:11.102Z"
   },
   {
    "duration": 232,
    "start_time": "2022-10-01T18:39:11.274Z"
   },
   {
    "duration": 265,
    "start_time": "2022-10-01T18:39:11.508Z"
   },
   {
    "duration": 226,
    "start_time": "2022-10-01T18:39:11.775Z"
   },
   {
    "duration": 145,
    "start_time": "2022-10-01T18:39:12.003Z"
   },
   {
    "duration": 143,
    "start_time": "2022-10-01T18:39:12.150Z"
   },
   {
    "duration": 232,
    "start_time": "2022-10-01T18:39:12.295Z"
   },
   {
    "duration": 129,
    "start_time": "2022-10-01T18:39:12.529Z"
   },
   {
    "duration": 126,
    "start_time": "2022-10-01T18:39:12.660Z"
   },
   {
    "duration": 126,
    "start_time": "2022-10-01T18:39:12.788Z"
   },
   {
    "duration": 9,
    "start_time": "2022-10-01T18:39:12.915Z"
   },
   {
    "duration": 19,
    "start_time": "2022-10-01T18:39:12.926Z"
   },
   {
    "duration": 15,
    "start_time": "2022-10-01T19:01:03.528Z"
   },
   {
    "duration": 1009,
    "start_time": "2022-10-01T19:01:07.692Z"
   },
   {
    "duration": 65,
    "start_time": "2022-10-01T19:01:08.703Z"
   },
   {
    "duration": 14,
    "start_time": "2022-10-01T19:01:08.770Z"
   },
   {
    "duration": 12,
    "start_time": "2022-10-01T19:01:08.786Z"
   },
   {
    "duration": 4,
    "start_time": "2022-10-01T19:01:08.800Z"
   },
   {
    "duration": 40,
    "start_time": "2022-10-01T19:01:08.805Z"
   },
   {
    "duration": 144,
    "start_time": "2022-10-01T19:01:08.846Z"
   },
   {
    "duration": 8,
    "start_time": "2022-10-01T19:01:08.991Z"
   },
   {
    "duration": 8,
    "start_time": "2022-10-01T19:01:09.001Z"
   },
   {
    "duration": 355,
    "start_time": "2022-10-01T19:01:09.011Z"
   },
   {
    "duration": 8,
    "start_time": "2022-10-01T19:01:09.368Z"
   },
   {
    "duration": 223,
    "start_time": "2022-10-01T19:01:09.378Z"
   },
   {
    "duration": 7,
    "start_time": "2022-10-01T19:01:09.602Z"
   },
   {
    "duration": 266,
    "start_time": "2022-10-01T19:01:09.610Z"
   },
   {
    "duration": 0,
    "start_time": "2022-10-01T19:01:09.878Z"
   },
   {
    "duration": 0,
    "start_time": "2022-10-01T19:01:09.879Z"
   },
   {
    "duration": 0,
    "start_time": "2022-10-01T19:01:09.880Z"
   },
   {
    "duration": 0,
    "start_time": "2022-10-01T19:01:09.881Z"
   },
   {
    "duration": 0,
    "start_time": "2022-10-01T19:01:09.882Z"
   },
   {
    "duration": 0,
    "start_time": "2022-10-01T19:01:09.884Z"
   },
   {
    "duration": 0,
    "start_time": "2022-10-01T19:01:09.885Z"
   },
   {
    "duration": 0,
    "start_time": "2022-10-01T19:01:09.887Z"
   },
   {
    "duration": 0,
    "start_time": "2022-10-01T19:01:09.889Z"
   },
   {
    "duration": 0,
    "start_time": "2022-10-01T19:01:09.890Z"
   },
   {
    "duration": 0,
    "start_time": "2022-10-01T19:01:09.891Z"
   },
   {
    "duration": 0,
    "start_time": "2022-10-01T19:01:09.892Z"
   },
   {
    "duration": 0,
    "start_time": "2022-10-01T19:01:09.894Z"
   },
   {
    "duration": 0,
    "start_time": "2022-10-01T19:01:09.895Z"
   },
   {
    "duration": 0,
    "start_time": "2022-10-01T19:01:09.896Z"
   },
   {
    "duration": 0,
    "start_time": "2022-10-01T19:01:09.897Z"
   },
   {
    "duration": 0,
    "start_time": "2022-10-01T19:01:09.898Z"
   },
   {
    "duration": 0,
    "start_time": "2022-10-01T19:01:09.899Z"
   },
   {
    "duration": 0,
    "start_time": "2022-10-01T19:01:09.901Z"
   },
   {
    "duration": 0,
    "start_time": "2022-10-01T19:01:09.939Z"
   },
   {
    "duration": 0,
    "start_time": "2022-10-01T19:01:09.940Z"
   },
   {
    "duration": 1069,
    "start_time": "2022-10-01T19:03:37.231Z"
   },
   {
    "duration": 74,
    "start_time": "2022-10-01T19:03:38.301Z"
   },
   {
    "duration": 13,
    "start_time": "2022-10-01T19:03:38.377Z"
   },
   {
    "duration": 12,
    "start_time": "2022-10-01T19:03:38.392Z"
   },
   {
    "duration": 4,
    "start_time": "2022-10-01T19:03:38.405Z"
   },
   {
    "duration": 154,
    "start_time": "2022-10-01T19:03:38.411Z"
   },
   {
    "duration": 5,
    "start_time": "2022-10-01T19:03:38.566Z"
   },
   {
    "duration": 9,
    "start_time": "2022-10-01T19:03:38.572Z"
   },
   {
    "duration": 18,
    "start_time": "2022-10-01T19:03:38.582Z"
   },
   {
    "duration": 21,
    "start_time": "2022-10-01T19:03:38.603Z"
   },
   {
    "duration": 335,
    "start_time": "2022-10-01T19:03:38.626Z"
   },
   {
    "duration": 9,
    "start_time": "2022-10-01T19:03:38.963Z"
   },
   {
    "duration": 195,
    "start_time": "2022-10-01T19:03:38.974Z"
   },
   {
    "duration": 5,
    "start_time": "2022-10-01T19:03:39.171Z"
   },
   {
    "duration": 194,
    "start_time": "2022-10-01T19:03:39.178Z"
   },
   {
    "duration": 0,
    "start_time": "2022-10-01T19:03:39.373Z"
   },
   {
    "duration": 0,
    "start_time": "2022-10-01T19:03:39.375Z"
   },
   {
    "duration": 0,
    "start_time": "2022-10-01T19:03:39.375Z"
   },
   {
    "duration": 0,
    "start_time": "2022-10-01T19:03:39.376Z"
   },
   {
    "duration": 0,
    "start_time": "2022-10-01T19:03:39.377Z"
   },
   {
    "duration": 0,
    "start_time": "2022-10-01T19:03:39.378Z"
   },
   {
    "duration": 0,
    "start_time": "2022-10-01T19:03:39.378Z"
   },
   {
    "duration": 0,
    "start_time": "2022-10-01T19:03:39.379Z"
   },
   {
    "duration": 0,
    "start_time": "2022-10-01T19:03:39.380Z"
   },
   {
    "duration": 0,
    "start_time": "2022-10-01T19:03:39.381Z"
   },
   {
    "duration": 0,
    "start_time": "2022-10-01T19:03:39.382Z"
   },
   {
    "duration": 0,
    "start_time": "2022-10-01T19:03:39.383Z"
   },
   {
    "duration": 0,
    "start_time": "2022-10-01T19:03:39.383Z"
   },
   {
    "duration": 0,
    "start_time": "2022-10-01T19:03:39.384Z"
   },
   {
    "duration": 0,
    "start_time": "2022-10-01T19:03:39.385Z"
   },
   {
    "duration": 0,
    "start_time": "2022-10-01T19:03:39.386Z"
   },
   {
    "duration": 0,
    "start_time": "2022-10-01T19:03:39.387Z"
   },
   {
    "duration": 0,
    "start_time": "2022-10-01T19:03:39.388Z"
   },
   {
    "duration": 0,
    "start_time": "2022-10-01T19:03:39.389Z"
   },
   {
    "duration": 0,
    "start_time": "2022-10-01T19:03:39.390Z"
   },
   {
    "duration": 0,
    "start_time": "2022-10-01T19:03:39.391Z"
   },
   {
    "duration": 1026,
    "start_time": "2022-10-01T19:04:57.585Z"
   },
   {
    "duration": 71,
    "start_time": "2022-10-01T19:04:58.614Z"
   },
   {
    "duration": 14,
    "start_time": "2022-10-01T19:04:58.687Z"
   },
   {
    "duration": 23,
    "start_time": "2022-10-01T19:04:58.703Z"
   },
   {
    "duration": 14,
    "start_time": "2022-10-01T19:04:58.728Z"
   },
   {
    "duration": 152,
    "start_time": "2022-10-01T19:04:58.744Z"
   },
   {
    "duration": 4,
    "start_time": "2022-10-01T19:04:58.898Z"
   },
   {
    "duration": 11,
    "start_time": "2022-10-01T19:04:58.904Z"
   },
   {
    "duration": 9,
    "start_time": "2022-10-01T19:04:58.917Z"
   },
   {
    "duration": 313,
    "start_time": "2022-10-01T19:04:58.928Z"
   },
   {
    "duration": 9,
    "start_time": "2022-10-01T19:04:59.243Z"
   },
   {
    "duration": 274,
    "start_time": "2022-10-01T19:04:59.254Z"
   },
   {
    "duration": 10,
    "start_time": "2022-10-01T19:04:59.529Z"
   },
   {
    "duration": 137,
    "start_time": "2022-10-01T19:04:59.541Z"
   },
   {
    "duration": 4,
    "start_time": "2022-10-01T19:04:59.680Z"
   },
   {
    "duration": 181,
    "start_time": "2022-10-01T19:04:59.685Z"
   },
   {
    "duration": 163,
    "start_time": "2022-10-01T19:04:59.867Z"
   },
   {
    "duration": 514,
    "start_time": "2022-10-01T19:05:00.037Z"
   },
   {
    "duration": 9,
    "start_time": "2022-10-01T19:05:00.553Z"
   },
   {
    "duration": 21,
    "start_time": "2022-10-01T19:05:00.563Z"
   },
   {
    "duration": 18,
    "start_time": "2022-10-01T19:05:00.586Z"
   },
   {
    "duration": 22,
    "start_time": "2022-10-01T19:05:00.605Z"
   },
   {
    "duration": 167,
    "start_time": "2022-10-01T19:05:00.628Z"
   },
   {
    "duration": 159,
    "start_time": "2022-10-01T19:05:00.797Z"
   },
   {
    "duration": 250,
    "start_time": "2022-10-01T19:05:00.958Z"
   },
   {
    "duration": 247,
    "start_time": "2022-10-01T19:05:01.210Z"
   },
   {
    "duration": 258,
    "start_time": "2022-10-01T19:05:01.459Z"
   },
   {
    "duration": 154,
    "start_time": "2022-10-01T19:05:01.721Z"
   },
   {
    "duration": 235,
    "start_time": "2022-10-01T19:05:01.878Z"
   },
   {
    "duration": 155,
    "start_time": "2022-10-01T19:05:02.115Z"
   },
   {
    "duration": 139,
    "start_time": "2022-10-01T19:05:02.272Z"
   },
   {
    "duration": 133,
    "start_time": "2022-10-01T19:05:02.413Z"
   },
   {
    "duration": 139,
    "start_time": "2022-10-01T19:05:02.547Z"
   },
   {
    "duration": 9,
    "start_time": "2022-10-01T19:05:02.688Z"
   },
   {
    "duration": 43,
    "start_time": "2022-10-01T19:05:02.698Z"
   },
   {
    "duration": 1045,
    "start_time": "2022-10-01T19:19:03.255Z"
   },
   {
    "duration": 72,
    "start_time": "2022-10-01T19:19:04.301Z"
   },
   {
    "duration": 15,
    "start_time": "2022-10-01T19:19:04.375Z"
   },
   {
    "duration": 15,
    "start_time": "2022-10-01T19:19:04.392Z"
   },
   {
    "duration": 7,
    "start_time": "2022-10-01T19:19:04.409Z"
   },
   {
    "duration": 164,
    "start_time": "2022-10-01T19:19:04.418Z"
   },
   {
    "duration": 5,
    "start_time": "2022-10-01T19:19:04.584Z"
   },
   {
    "duration": 11,
    "start_time": "2022-10-01T19:19:04.590Z"
   },
   {
    "duration": 12,
    "start_time": "2022-10-01T19:19:04.602Z"
   },
   {
    "duration": 375,
    "start_time": "2022-10-01T19:19:04.617Z"
   },
   {
    "duration": 8,
    "start_time": "2022-10-01T19:19:04.993Z"
   },
   {
    "duration": 264,
    "start_time": "2022-10-01T19:19:05.002Z"
   },
   {
    "duration": 6,
    "start_time": "2022-10-01T19:19:05.268Z"
   },
   {
    "duration": 139,
    "start_time": "2022-10-01T19:19:05.275Z"
   },
   {
    "duration": 4,
    "start_time": "2022-10-01T19:19:05.415Z"
   },
   {
    "duration": 177,
    "start_time": "2022-10-01T19:19:05.421Z"
   },
   {
    "duration": 148,
    "start_time": "2022-10-01T19:19:05.599Z"
   },
   {
    "duration": 480,
    "start_time": "2022-10-01T19:19:05.748Z"
   },
   {
    "duration": 16,
    "start_time": "2022-10-01T19:19:06.230Z"
   },
   {
    "duration": 31,
    "start_time": "2022-10-01T19:19:06.247Z"
   },
   {
    "duration": 13,
    "start_time": "2022-10-01T19:19:06.279Z"
   },
   {
    "duration": 21,
    "start_time": "2022-10-01T19:19:06.293Z"
   },
   {
    "duration": 156,
    "start_time": "2022-10-01T19:19:06.315Z"
   },
   {
    "duration": 154,
    "start_time": "2022-10-01T19:19:06.472Z"
   },
   {
    "duration": 245,
    "start_time": "2022-10-01T19:19:06.628Z"
   },
   {
    "duration": 229,
    "start_time": "2022-10-01T19:19:06.875Z"
   },
   {
    "duration": 303,
    "start_time": "2022-10-01T19:19:07.106Z"
   },
   {
    "duration": 152,
    "start_time": "2022-10-01T19:19:07.411Z"
   },
   {
    "duration": 227,
    "start_time": "2022-10-01T19:19:07.565Z"
   },
   {
    "duration": 164,
    "start_time": "2022-10-01T19:19:07.793Z"
   },
   {
    "duration": 129,
    "start_time": "2022-10-01T19:19:07.959Z"
   },
   {
    "duration": 131,
    "start_time": "2022-10-01T19:19:08.090Z"
   },
   {
    "duration": 145,
    "start_time": "2022-10-01T19:19:08.223Z"
   },
   {
    "duration": 9,
    "start_time": "2022-10-01T19:19:08.370Z"
   },
   {
    "duration": 22,
    "start_time": "2022-10-01T19:19:08.381Z"
   },
   {
    "duration": 1071,
    "start_time": "2022-10-01T19:22:38.512Z"
   },
   {
    "duration": 65,
    "start_time": "2022-10-01T19:22:39.584Z"
   },
   {
    "duration": 13,
    "start_time": "2022-10-01T19:22:39.650Z"
   },
   {
    "duration": 20,
    "start_time": "2022-10-01T19:22:39.665Z"
   },
   {
    "duration": 27,
    "start_time": "2022-10-01T19:22:39.687Z"
   },
   {
    "duration": 132,
    "start_time": "2022-10-01T19:22:39.716Z"
   },
   {
    "duration": 5,
    "start_time": "2022-10-01T19:22:39.850Z"
   },
   {
    "duration": 43,
    "start_time": "2022-10-01T19:22:39.856Z"
   },
   {
    "duration": 10,
    "start_time": "2022-10-01T19:22:39.901Z"
   },
   {
    "duration": 381,
    "start_time": "2022-10-01T19:22:39.914Z"
   },
   {
    "duration": 7,
    "start_time": "2022-10-01T19:22:40.297Z"
   },
   {
    "duration": 288,
    "start_time": "2022-10-01T19:22:40.306Z"
   },
   {
    "duration": 6,
    "start_time": "2022-10-01T19:22:40.595Z"
   },
   {
    "duration": 158,
    "start_time": "2022-10-01T19:22:40.602Z"
   },
   {
    "duration": 5,
    "start_time": "2022-10-01T19:22:40.762Z"
   },
   {
    "duration": 170,
    "start_time": "2022-10-01T19:22:40.768Z"
   },
   {
    "duration": 157,
    "start_time": "2022-10-01T19:22:40.940Z"
   },
   {
    "duration": 489,
    "start_time": "2022-10-01T19:22:41.099Z"
   },
   {
    "duration": 11,
    "start_time": "2022-10-01T19:22:41.590Z"
   },
   {
    "duration": 28,
    "start_time": "2022-10-01T19:22:41.602Z"
   },
   {
    "duration": 21,
    "start_time": "2022-10-01T19:22:41.632Z"
   },
   {
    "duration": 22,
    "start_time": "2022-10-01T19:22:41.655Z"
   },
   {
    "duration": 152,
    "start_time": "2022-10-01T19:22:41.678Z"
   },
   {
    "duration": 153,
    "start_time": "2022-10-01T19:22:41.832Z"
   },
   {
    "duration": 231,
    "start_time": "2022-10-01T19:22:41.986Z"
   },
   {
    "duration": 239,
    "start_time": "2022-10-01T19:22:42.219Z"
   },
   {
    "duration": 231,
    "start_time": "2022-10-01T19:22:42.460Z"
   },
   {
    "duration": 142,
    "start_time": "2022-10-01T19:22:42.694Z"
   },
   {
    "duration": 222,
    "start_time": "2022-10-01T19:22:42.837Z"
   },
   {
    "duration": 154,
    "start_time": "2022-10-01T19:22:43.061Z"
   },
   {
    "duration": 128,
    "start_time": "2022-10-01T19:22:43.217Z"
   },
   {
    "duration": 135,
    "start_time": "2022-10-01T19:22:43.346Z"
   },
   {
    "duration": 140,
    "start_time": "2022-10-01T19:22:43.482Z"
   },
   {
    "duration": 18,
    "start_time": "2022-10-01T19:22:43.623Z"
   },
   {
    "duration": 8,
    "start_time": "2022-10-01T19:22:43.642Z"
   },
   {
    "duration": 380,
    "start_time": "2022-10-01T19:23:23.842Z"
   },
   {
    "duration": 1028,
    "start_time": "2022-10-01T19:23:29.862Z"
   },
   {
    "duration": 64,
    "start_time": "2022-10-01T19:23:30.892Z"
   },
   {
    "duration": 15,
    "start_time": "2022-10-01T19:23:30.958Z"
   },
   {
    "duration": 24,
    "start_time": "2022-10-01T19:23:30.976Z"
   },
   {
    "duration": 9,
    "start_time": "2022-10-01T19:23:31.002Z"
   },
   {
    "duration": 148,
    "start_time": "2022-10-01T19:23:31.013Z"
   },
   {
    "duration": 5,
    "start_time": "2022-10-01T19:23:31.164Z"
   },
   {
    "duration": 33,
    "start_time": "2022-10-01T19:23:31.170Z"
   },
   {
    "duration": 19,
    "start_time": "2022-10-01T19:23:31.204Z"
   },
   {
    "duration": 364,
    "start_time": "2022-10-01T19:23:31.225Z"
   },
   {
    "duration": 8,
    "start_time": "2022-10-01T19:23:31.590Z"
   },
   {
    "duration": 258,
    "start_time": "2022-10-01T19:23:31.599Z"
   },
   {
    "duration": 6,
    "start_time": "2022-10-01T19:23:31.858Z"
   },
   {
    "duration": 137,
    "start_time": "2022-10-01T19:23:31.865Z"
   },
   {
    "duration": 5,
    "start_time": "2022-10-01T19:23:32.004Z"
   },
   {
    "duration": 172,
    "start_time": "2022-10-01T19:23:32.011Z"
   },
   {
    "duration": 162,
    "start_time": "2022-10-01T19:23:32.185Z"
   },
   {
    "duration": 490,
    "start_time": "2022-10-01T19:23:32.348Z"
   },
   {
    "duration": 11,
    "start_time": "2022-10-01T19:23:32.839Z"
   },
   {
    "duration": 16,
    "start_time": "2022-10-01T19:23:32.852Z"
   },
   {
    "duration": 9,
    "start_time": "2022-10-01T19:23:32.870Z"
   },
   {
    "duration": 15,
    "start_time": "2022-10-01T19:23:32.881Z"
   },
   {
    "duration": 163,
    "start_time": "2022-10-01T19:23:32.898Z"
   },
   {
    "duration": 148,
    "start_time": "2022-10-01T19:23:33.063Z"
   },
   {
    "duration": 226,
    "start_time": "2022-10-01T19:23:33.213Z"
   },
   {
    "duration": 229,
    "start_time": "2022-10-01T19:23:33.441Z"
   },
   {
    "duration": 234,
    "start_time": "2022-10-01T19:23:33.671Z"
   },
   {
    "duration": 141,
    "start_time": "2022-10-01T19:23:33.908Z"
   },
   {
    "duration": 225,
    "start_time": "2022-10-01T19:23:34.050Z"
   },
   {
    "duration": 163,
    "start_time": "2022-10-01T19:23:34.277Z"
   },
   {
    "duration": 125,
    "start_time": "2022-10-01T19:23:34.441Z"
   },
   {
    "duration": 138,
    "start_time": "2022-10-01T19:23:34.567Z"
   },
   {
    "duration": 134,
    "start_time": "2022-10-01T19:23:34.707Z"
   },
   {
    "duration": 9,
    "start_time": "2022-10-01T19:23:34.843Z"
   },
   {
    "duration": 31,
    "start_time": "2022-10-01T19:23:34.853Z"
   },
   {
    "duration": 1036,
    "start_time": "2022-10-01T19:25:24.237Z"
   },
   {
    "duration": 62,
    "start_time": "2022-10-01T19:25:25.275Z"
   },
   {
    "duration": 14,
    "start_time": "2022-10-01T19:25:25.338Z"
   },
   {
    "duration": 12,
    "start_time": "2022-10-01T19:25:25.353Z"
   },
   {
    "duration": 4,
    "start_time": "2022-10-01T19:25:25.367Z"
   },
   {
    "duration": 159,
    "start_time": "2022-10-01T19:25:25.372Z"
   },
   {
    "duration": 9,
    "start_time": "2022-10-01T19:25:25.533Z"
   },
   {
    "duration": 17,
    "start_time": "2022-10-01T19:25:25.544Z"
   },
   {
    "duration": 12,
    "start_time": "2022-10-01T19:25:25.563Z"
   },
   {
    "duration": 371,
    "start_time": "2022-10-01T19:25:25.578Z"
   },
   {
    "duration": 8,
    "start_time": "2022-10-01T19:25:25.950Z"
   },
   {
    "duration": 332,
    "start_time": "2022-10-01T19:25:25.959Z"
   },
   {
    "duration": 5,
    "start_time": "2022-10-01T19:25:26.293Z"
   },
   {
    "duration": 121,
    "start_time": "2022-10-01T19:25:26.300Z"
   },
   {
    "duration": 4,
    "start_time": "2022-10-01T19:25:26.422Z"
   },
   {
    "duration": 163,
    "start_time": "2022-10-01T19:25:26.428Z"
   },
   {
    "duration": 105,
    "start_time": "2022-10-01T19:25:26.593Z"
   },
   {
    "duration": 0,
    "start_time": "2022-10-01T19:25:26.700Z"
   },
   {
    "duration": 0,
    "start_time": "2022-10-01T19:25:26.701Z"
   },
   {
    "duration": 0,
    "start_time": "2022-10-01T19:25:26.702Z"
   },
   {
    "duration": 0,
    "start_time": "2022-10-01T19:25:26.703Z"
   },
   {
    "duration": 0,
    "start_time": "2022-10-01T19:25:26.704Z"
   },
   {
    "duration": 0,
    "start_time": "2022-10-01T19:25:26.705Z"
   },
   {
    "duration": 0,
    "start_time": "2022-10-01T19:25:26.706Z"
   },
   {
    "duration": 0,
    "start_time": "2022-10-01T19:25:26.707Z"
   },
   {
    "duration": 0,
    "start_time": "2022-10-01T19:25:26.708Z"
   },
   {
    "duration": 0,
    "start_time": "2022-10-01T19:25:26.709Z"
   },
   {
    "duration": 0,
    "start_time": "2022-10-01T19:25:26.710Z"
   },
   {
    "duration": 0,
    "start_time": "2022-10-01T19:25:26.711Z"
   },
   {
    "duration": 0,
    "start_time": "2022-10-01T19:25:26.712Z"
   },
   {
    "duration": 0,
    "start_time": "2022-10-01T19:25:26.713Z"
   },
   {
    "duration": 0,
    "start_time": "2022-10-01T19:25:26.738Z"
   },
   {
    "duration": 0,
    "start_time": "2022-10-01T19:25:26.739Z"
   },
   {
    "duration": 0,
    "start_time": "2022-10-01T19:25:26.740Z"
   },
   {
    "duration": 0,
    "start_time": "2022-10-01T19:25:26.741Z"
   },
   {
    "duration": 1074,
    "start_time": "2022-10-01T19:25:47.907Z"
   },
   {
    "duration": 63,
    "start_time": "2022-10-01T19:25:48.983Z"
   },
   {
    "duration": 13,
    "start_time": "2022-10-01T19:25:49.047Z"
   },
   {
    "duration": 11,
    "start_time": "2022-10-01T19:25:49.062Z"
   },
   {
    "duration": 5,
    "start_time": "2022-10-01T19:25:49.074Z"
   },
   {
    "duration": 145,
    "start_time": "2022-10-01T19:25:49.080Z"
   },
   {
    "duration": 4,
    "start_time": "2022-10-01T19:25:49.227Z"
   },
   {
    "duration": 9,
    "start_time": "2022-10-01T19:25:49.237Z"
   },
   {
    "duration": 5,
    "start_time": "2022-10-01T19:25:49.248Z"
   },
   {
    "duration": 388,
    "start_time": "2022-10-01T19:25:49.255Z"
   },
   {
    "duration": 8,
    "start_time": "2022-10-01T19:25:49.644Z"
   },
   {
    "duration": 366,
    "start_time": "2022-10-01T19:25:49.653Z"
   },
   {
    "duration": 6,
    "start_time": "2022-10-01T19:25:50.021Z"
   },
   {
    "duration": 176,
    "start_time": "2022-10-01T19:25:50.028Z"
   },
   {
    "duration": 4,
    "start_time": "2022-10-01T19:25:50.206Z"
   },
   {
    "duration": 228,
    "start_time": "2022-10-01T19:25:50.211Z"
   },
   {
    "duration": 104,
    "start_time": "2022-10-01T19:25:50.440Z"
   },
   {
    "duration": 0,
    "start_time": "2022-10-01T19:25:50.546Z"
   },
   {
    "duration": 0,
    "start_time": "2022-10-01T19:25:50.547Z"
   },
   {
    "duration": 0,
    "start_time": "2022-10-01T19:25:50.548Z"
   },
   {
    "duration": 0,
    "start_time": "2022-10-01T19:25:50.549Z"
   },
   {
    "duration": 0,
    "start_time": "2022-10-01T19:25:50.550Z"
   },
   {
    "duration": 0,
    "start_time": "2022-10-01T19:25:50.551Z"
   },
   {
    "duration": 0,
    "start_time": "2022-10-01T19:25:50.551Z"
   },
   {
    "duration": 0,
    "start_time": "2022-10-01T19:25:50.552Z"
   },
   {
    "duration": 0,
    "start_time": "2022-10-01T19:25:50.553Z"
   },
   {
    "duration": 0,
    "start_time": "2022-10-01T19:25:50.554Z"
   },
   {
    "duration": 0,
    "start_time": "2022-10-01T19:25:50.555Z"
   },
   {
    "duration": 0,
    "start_time": "2022-10-01T19:25:50.556Z"
   },
   {
    "duration": 0,
    "start_time": "2022-10-01T19:25:50.557Z"
   },
   {
    "duration": 0,
    "start_time": "2022-10-01T19:25:50.558Z"
   },
   {
    "duration": 0,
    "start_time": "2022-10-01T19:25:50.559Z"
   },
   {
    "duration": 0,
    "start_time": "2022-10-01T19:25:50.560Z"
   },
   {
    "duration": 0,
    "start_time": "2022-10-01T19:25:50.561Z"
   },
   {
    "duration": 0,
    "start_time": "2022-10-01T19:25:50.562Z"
   },
   {
    "duration": 177,
    "start_time": "2022-10-01T19:26:12.980Z"
   },
   {
    "duration": 1223,
    "start_time": "2022-10-01T19:26:30.656Z"
   },
   {
    "duration": 98,
    "start_time": "2022-10-01T19:26:31.881Z"
   },
   {
    "duration": 66,
    "start_time": "2022-10-01T19:26:31.980Z"
   },
   {
    "duration": 15,
    "start_time": "2022-10-01T19:26:32.048Z"
   },
   {
    "duration": 5,
    "start_time": "2022-10-01T19:26:32.065Z"
   },
   {
    "duration": 296,
    "start_time": "2022-10-01T19:26:32.071Z"
   },
   {
    "duration": 5,
    "start_time": "2022-10-01T19:26:32.368Z"
   },
   {
    "duration": 10,
    "start_time": "2022-10-01T19:26:32.374Z"
   },
   {
    "duration": 58,
    "start_time": "2022-10-01T19:26:32.386Z"
   },
   {
    "duration": 716,
    "start_time": "2022-10-01T19:26:32.446Z"
   },
   {
    "duration": 9,
    "start_time": "2022-10-01T19:26:33.163Z"
   },
   {
    "duration": 397,
    "start_time": "2022-10-01T19:26:33.174Z"
   },
   {
    "duration": 7,
    "start_time": "2022-10-01T19:26:33.573Z"
   },
   {
    "duration": 137,
    "start_time": "2022-10-01T19:26:33.581Z"
   },
   {
    "duration": 5,
    "start_time": "2022-10-01T19:26:33.719Z"
   },
   {
    "duration": 191,
    "start_time": "2022-10-01T19:26:33.725Z"
   },
   {
    "duration": 107,
    "start_time": "2022-10-01T19:26:33.918Z"
   },
   {
    "duration": 0,
    "start_time": "2022-10-01T19:26:34.026Z"
   },
   {
    "duration": 0,
    "start_time": "2022-10-01T19:26:34.028Z"
   },
   {
    "duration": 0,
    "start_time": "2022-10-01T19:26:34.028Z"
   },
   {
    "duration": 0,
    "start_time": "2022-10-01T19:26:34.038Z"
   },
   {
    "duration": 0,
    "start_time": "2022-10-01T19:26:34.039Z"
   },
   {
    "duration": 0,
    "start_time": "2022-10-01T19:26:34.040Z"
   },
   {
    "duration": 0,
    "start_time": "2022-10-01T19:26:34.041Z"
   },
   {
    "duration": 0,
    "start_time": "2022-10-01T19:26:34.041Z"
   },
   {
    "duration": 0,
    "start_time": "2022-10-01T19:26:34.042Z"
   },
   {
    "duration": 0,
    "start_time": "2022-10-01T19:26:34.043Z"
   },
   {
    "duration": 0,
    "start_time": "2022-10-01T19:26:34.044Z"
   },
   {
    "duration": 0,
    "start_time": "2022-10-01T19:26:34.045Z"
   },
   {
    "duration": 0,
    "start_time": "2022-10-01T19:26:34.046Z"
   },
   {
    "duration": 0,
    "start_time": "2022-10-01T19:26:34.047Z"
   },
   {
    "duration": 0,
    "start_time": "2022-10-01T19:26:34.048Z"
   },
   {
    "duration": 0,
    "start_time": "2022-10-01T19:26:34.048Z"
   },
   {
    "duration": 0,
    "start_time": "2022-10-01T19:26:34.049Z"
   },
   {
    "duration": 1,
    "start_time": "2022-10-01T19:26:34.050Z"
   },
   {
    "duration": 974,
    "start_time": "2022-10-01T19:26:49.893Z"
   },
   {
    "duration": 65,
    "start_time": "2022-10-01T19:26:50.869Z"
   },
   {
    "duration": 13,
    "start_time": "2022-10-01T19:26:50.936Z"
   },
   {
    "duration": 13,
    "start_time": "2022-10-01T19:26:50.950Z"
   },
   {
    "duration": 6,
    "start_time": "2022-10-01T19:26:50.964Z"
   },
   {
    "duration": 146,
    "start_time": "2022-10-01T19:26:50.971Z"
   },
   {
    "duration": 4,
    "start_time": "2022-10-01T19:26:51.118Z"
   },
   {
    "duration": 18,
    "start_time": "2022-10-01T19:26:51.124Z"
   },
   {
    "duration": 5,
    "start_time": "2022-10-01T19:26:51.143Z"
   },
   {
    "duration": 367,
    "start_time": "2022-10-01T19:26:51.151Z"
   },
   {
    "duration": 8,
    "start_time": "2022-10-01T19:26:51.520Z"
   },
   {
    "duration": 386,
    "start_time": "2022-10-01T19:26:51.529Z"
   },
   {
    "duration": 7,
    "start_time": "2022-10-01T19:26:51.917Z"
   },
   {
    "duration": 160,
    "start_time": "2022-10-01T19:26:51.926Z"
   },
   {
    "duration": 4,
    "start_time": "2022-10-01T19:26:52.088Z"
   },
   {
    "duration": 197,
    "start_time": "2022-10-01T19:26:52.094Z"
   },
   {
    "duration": 118,
    "start_time": "2022-10-01T19:26:52.293Z"
   },
   {
    "duration": 0,
    "start_time": "2022-10-01T19:26:52.413Z"
   },
   {
    "duration": 0,
    "start_time": "2022-10-01T19:26:52.415Z"
   },
   {
    "duration": 0,
    "start_time": "2022-10-01T19:26:52.416Z"
   },
   {
    "duration": 0,
    "start_time": "2022-10-01T19:26:52.417Z"
   },
   {
    "duration": 0,
    "start_time": "2022-10-01T19:26:52.418Z"
   },
   {
    "duration": 0,
    "start_time": "2022-10-01T19:26:52.418Z"
   },
   {
    "duration": 0,
    "start_time": "2022-10-01T19:26:52.420Z"
   },
   {
    "duration": 0,
    "start_time": "2022-10-01T19:26:52.421Z"
   },
   {
    "duration": 0,
    "start_time": "2022-10-01T19:26:52.422Z"
   },
   {
    "duration": 0,
    "start_time": "2022-10-01T19:26:52.439Z"
   },
   {
    "duration": 0,
    "start_time": "2022-10-01T19:26:52.440Z"
   },
   {
    "duration": 0,
    "start_time": "2022-10-01T19:26:52.441Z"
   },
   {
    "duration": 0,
    "start_time": "2022-10-01T19:26:52.442Z"
   },
   {
    "duration": 0,
    "start_time": "2022-10-01T19:26:52.444Z"
   },
   {
    "duration": 0,
    "start_time": "2022-10-01T19:26:52.444Z"
   },
   {
    "duration": 0,
    "start_time": "2022-10-01T19:26:52.446Z"
   },
   {
    "duration": 0,
    "start_time": "2022-10-01T19:26:52.447Z"
   },
   {
    "duration": 0,
    "start_time": "2022-10-01T19:26:52.448Z"
   },
   {
    "duration": 164,
    "start_time": "2022-10-01T19:27:17.473Z"
   },
   {
    "duration": 208,
    "start_time": "2022-10-01T19:27:27.751Z"
   },
   {
    "duration": 265,
    "start_time": "2022-10-01T19:27:38.847Z"
   },
   {
    "duration": 1135,
    "start_time": "2022-10-01T19:28:27.726Z"
   },
   {
    "duration": 74,
    "start_time": "2022-10-01T19:28:28.863Z"
   },
   {
    "duration": 14,
    "start_time": "2022-10-01T19:28:28.939Z"
   },
   {
    "duration": 14,
    "start_time": "2022-10-01T19:28:28.955Z"
   },
   {
    "duration": 5,
    "start_time": "2022-10-01T19:28:28.971Z"
   },
   {
    "duration": 175,
    "start_time": "2022-10-01T19:28:28.978Z"
   },
   {
    "duration": 5,
    "start_time": "2022-10-01T19:28:29.154Z"
   },
   {
    "duration": 11,
    "start_time": "2022-10-01T19:28:29.161Z"
   },
   {
    "duration": 9,
    "start_time": "2022-10-01T19:28:29.173Z"
   },
   {
    "duration": 436,
    "start_time": "2022-10-01T19:28:29.184Z"
   },
   {
    "duration": 17,
    "start_time": "2022-10-01T19:28:29.622Z"
   },
   {
    "duration": 399,
    "start_time": "2022-10-01T19:28:29.641Z"
   },
   {
    "duration": 8,
    "start_time": "2022-10-01T19:28:30.041Z"
   },
   {
    "duration": 170,
    "start_time": "2022-10-01T19:28:30.051Z"
   },
   {
    "duration": 5,
    "start_time": "2022-10-01T19:28:30.223Z"
   },
   {
    "duration": 196,
    "start_time": "2022-10-01T19:28:30.238Z"
   },
   {
    "duration": 252,
    "start_time": "2022-10-01T19:28:30.438Z"
   },
   {
    "duration": 546,
    "start_time": "2022-10-01T19:28:30.692Z"
   },
   {
    "duration": 10,
    "start_time": "2022-10-01T19:28:31.240Z"
   },
   {
    "duration": 14,
    "start_time": "2022-10-01T19:28:31.252Z"
   },
   {
    "duration": 24,
    "start_time": "2022-10-01T19:28:31.267Z"
   },
   {
    "duration": 20,
    "start_time": "2022-10-01T19:28:31.293Z"
   },
   {
    "duration": 186,
    "start_time": "2022-10-01T19:28:31.315Z"
   },
   {
    "duration": 180,
    "start_time": "2022-10-01T19:28:31.503Z"
   },
   {
    "duration": 568,
    "start_time": "2022-10-01T19:28:31.684Z"
   },
   {
    "duration": 513,
    "start_time": "2022-10-01T19:28:32.255Z"
   },
   {
    "duration": 495,
    "start_time": "2022-10-01T19:28:32.770Z"
   },
   {
    "duration": 205,
    "start_time": "2022-10-01T19:28:33.269Z"
   },
   {
    "duration": 233,
    "start_time": "2022-10-01T19:28:33.476Z"
   },
   {
    "duration": 163,
    "start_time": "2022-10-01T19:28:33.711Z"
   },
   {
    "duration": 134,
    "start_time": "2022-10-01T19:28:33.875Z"
   },
   {
    "duration": 131,
    "start_time": "2022-10-01T19:28:34.010Z"
   },
   {
    "duration": 138,
    "start_time": "2022-10-01T19:28:34.143Z"
   },
   {
    "duration": 10,
    "start_time": "2022-10-01T19:28:34.282Z"
   },
   {
    "duration": 10,
    "start_time": "2022-10-01T19:28:34.293Z"
   },
   {
    "duration": 481,
    "start_time": "2022-10-01T19:29:10.878Z"
   },
   {
    "duration": 710,
    "start_time": "2022-10-01T19:29:19.053Z"
   },
   {
    "duration": 155,
    "start_time": "2022-10-01T19:29:35.327Z"
   },
   {
    "duration": 167,
    "start_time": "2022-10-01T19:29:40.539Z"
   },
   {
    "duration": 153,
    "start_time": "2022-10-01T19:36:04.592Z"
   },
   {
    "duration": 991,
    "start_time": "2022-10-01T19:37:45.492Z"
   },
   {
    "duration": 64,
    "start_time": "2022-10-01T19:37:46.485Z"
   },
   {
    "duration": 14,
    "start_time": "2022-10-01T19:37:46.550Z"
   },
   {
    "duration": 13,
    "start_time": "2022-10-01T19:37:46.566Z"
   },
   {
    "duration": 5,
    "start_time": "2022-10-01T19:37:46.581Z"
   },
   {
    "duration": 163,
    "start_time": "2022-10-01T19:37:46.588Z"
   },
   {
    "duration": 5,
    "start_time": "2022-10-01T19:37:46.753Z"
   },
   {
    "duration": 12,
    "start_time": "2022-10-01T19:37:46.760Z"
   },
   {
    "duration": 11,
    "start_time": "2022-10-01T19:37:46.774Z"
   },
   {
    "duration": 420,
    "start_time": "2022-10-01T19:37:46.787Z"
   },
   {
    "duration": 11,
    "start_time": "2022-10-01T19:37:47.209Z"
   },
   {
    "duration": 432,
    "start_time": "2022-10-01T19:37:47.223Z"
   },
   {
    "duration": 6,
    "start_time": "2022-10-01T19:37:47.657Z"
   },
   {
    "duration": 284,
    "start_time": "2022-10-01T19:37:47.664Z"
   },
   {
    "duration": 4,
    "start_time": "2022-10-01T19:37:47.950Z"
   },
   {
    "duration": 323,
    "start_time": "2022-10-01T19:37:47.956Z"
   },
   {
    "duration": 603,
    "start_time": "2022-10-01T19:37:48.281Z"
   },
   {
    "duration": 980,
    "start_time": "2022-10-01T19:37:48.886Z"
   },
   {
    "duration": 14,
    "start_time": "2022-10-01T19:37:49.867Z"
   },
   {
    "duration": 9,
    "start_time": "2022-10-01T19:37:49.883Z"
   },
   {
    "duration": 15,
    "start_time": "2022-10-01T19:37:49.894Z"
   },
   {
    "duration": 34,
    "start_time": "2022-10-01T19:37:49.911Z"
   },
   {
    "duration": 175,
    "start_time": "2022-10-01T19:37:49.947Z"
   },
   {
    "duration": 50,
    "start_time": "2022-10-01T19:37:50.124Z"
   },
   {
    "duration": 0,
    "start_time": "2022-10-01T19:37:50.176Z"
   },
   {
    "duration": 0,
    "start_time": "2022-10-01T19:37:50.177Z"
   },
   {
    "duration": 0,
    "start_time": "2022-10-01T19:37:50.178Z"
   },
   {
    "duration": 0,
    "start_time": "2022-10-01T19:37:50.180Z"
   },
   {
    "duration": 0,
    "start_time": "2022-10-01T19:37:50.181Z"
   },
   {
    "duration": 0,
    "start_time": "2022-10-01T19:37:50.183Z"
   },
   {
    "duration": 0,
    "start_time": "2022-10-01T19:37:50.184Z"
   },
   {
    "duration": 1,
    "start_time": "2022-10-01T19:37:50.185Z"
   },
   {
    "duration": 0,
    "start_time": "2022-10-01T19:37:50.187Z"
   },
   {
    "duration": 0,
    "start_time": "2022-10-01T19:37:50.189Z"
   },
   {
    "duration": 0,
    "start_time": "2022-10-01T19:37:50.191Z"
   },
   {
    "duration": 0,
    "start_time": "2022-10-01T19:37:50.192Z"
   },
   {
    "duration": 987,
    "start_time": "2022-10-01T19:38:01.676Z"
   },
   {
    "duration": 64,
    "start_time": "2022-10-01T19:38:02.665Z"
   },
   {
    "duration": 14,
    "start_time": "2022-10-01T19:38:02.731Z"
   },
   {
    "duration": 13,
    "start_time": "2022-10-01T19:38:02.747Z"
   },
   {
    "duration": 6,
    "start_time": "2022-10-01T19:38:02.762Z"
   },
   {
    "duration": 171,
    "start_time": "2022-10-01T19:38:02.769Z"
   },
   {
    "duration": 5,
    "start_time": "2022-10-01T19:38:02.942Z"
   },
   {
    "duration": 12,
    "start_time": "2022-10-01T19:38:02.948Z"
   },
   {
    "duration": 6,
    "start_time": "2022-10-01T19:38:02.962Z"
   },
   {
    "duration": 393,
    "start_time": "2022-10-01T19:38:02.971Z"
   },
   {
    "duration": 9,
    "start_time": "2022-10-01T19:38:03.366Z"
   },
   {
    "duration": 342,
    "start_time": "2022-10-01T19:38:03.377Z"
   },
   {
    "duration": 6,
    "start_time": "2022-10-01T19:38:03.721Z"
   },
   {
    "duration": 138,
    "start_time": "2022-10-01T19:38:03.728Z"
   },
   {
    "duration": 4,
    "start_time": "2022-10-01T19:38:03.867Z"
   },
   {
    "duration": 175,
    "start_time": "2022-10-01T19:38:03.873Z"
   },
   {
    "duration": 216,
    "start_time": "2022-10-01T19:38:04.049Z"
   },
   {
    "duration": 708,
    "start_time": "2022-10-01T19:38:04.267Z"
   },
   {
    "duration": 11,
    "start_time": "2022-10-01T19:38:04.977Z"
   },
   {
    "duration": 26,
    "start_time": "2022-10-01T19:38:04.989Z"
   },
   {
    "duration": 15,
    "start_time": "2022-10-01T19:38:05.017Z"
   },
   {
    "duration": 32,
    "start_time": "2022-10-01T19:38:05.033Z"
   },
   {
    "duration": 173,
    "start_time": "2022-10-01T19:38:05.067Z"
   },
   {
    "duration": 172,
    "start_time": "2022-10-01T19:38:05.242Z"
   },
   {
    "duration": 183,
    "start_time": "2022-10-01T19:38:05.416Z"
   },
   {
    "duration": 234,
    "start_time": "2022-10-01T19:38:05.600Z"
   },
   {
    "duration": 238,
    "start_time": "2022-10-01T19:38:05.839Z"
   },
   {
    "duration": 237,
    "start_time": "2022-10-01T19:38:06.080Z"
   },
   {
    "duration": 226,
    "start_time": "2022-10-01T19:38:06.320Z"
   },
   {
    "duration": 154,
    "start_time": "2022-10-01T19:38:06.548Z"
   },
   {
    "duration": 157,
    "start_time": "2022-10-01T19:38:06.704Z"
   },
   {
    "duration": 129,
    "start_time": "2022-10-01T19:38:06.863Z"
   },
   {
    "duration": 135,
    "start_time": "2022-10-01T19:38:06.994Z"
   },
   {
    "duration": 178,
    "start_time": "2022-10-01T19:38:07.131Z"
   },
   {
    "duration": 13,
    "start_time": "2022-10-01T19:38:07.311Z"
   },
   {
    "duration": 21,
    "start_time": "2022-10-01T19:38:07.327Z"
   },
   {
    "duration": 1021,
    "start_time": "2022-10-01T19:42:43.057Z"
   },
   {
    "duration": 64,
    "start_time": "2022-10-01T19:42:44.080Z"
   },
   {
    "duration": 13,
    "start_time": "2022-10-01T19:42:44.145Z"
   },
   {
    "duration": 14,
    "start_time": "2022-10-01T19:42:44.160Z"
   },
   {
    "duration": 5,
    "start_time": "2022-10-01T19:42:44.175Z"
   },
   {
    "duration": 157,
    "start_time": "2022-10-01T19:42:44.181Z"
   },
   {
    "duration": 5,
    "start_time": "2022-10-01T19:42:44.341Z"
   },
   {
    "duration": 17,
    "start_time": "2022-10-01T19:42:44.347Z"
   },
   {
    "duration": 10,
    "start_time": "2022-10-01T19:42:44.365Z"
   },
   {
    "duration": 764,
    "start_time": "2022-10-01T19:42:44.377Z"
   },
   {
    "duration": 7,
    "start_time": "2022-10-01T19:42:45.143Z"
   },
   {
    "duration": 736,
    "start_time": "2022-10-01T19:42:45.152Z"
   },
   {
    "duration": 7,
    "start_time": "2022-10-01T19:42:45.890Z"
   },
   {
    "duration": 182,
    "start_time": "2022-10-01T19:42:45.899Z"
   },
   {
    "duration": 4,
    "start_time": "2022-10-01T19:42:46.083Z"
   },
   {
    "duration": 171,
    "start_time": "2022-10-01T19:42:46.088Z"
   },
   {
    "duration": 222,
    "start_time": "2022-10-01T19:42:46.261Z"
   },
   {
    "duration": 728,
    "start_time": "2022-10-01T19:42:46.485Z"
   },
   {
    "duration": 24,
    "start_time": "2022-10-01T19:42:47.215Z"
   },
   {
    "duration": 13,
    "start_time": "2022-10-01T19:42:47.241Z"
   },
   {
    "duration": 17,
    "start_time": "2022-10-01T19:42:47.256Z"
   },
   {
    "duration": 19,
    "start_time": "2022-10-01T19:42:47.275Z"
   },
   {
    "duration": 192,
    "start_time": "2022-10-01T19:42:47.296Z"
   },
   {
    "duration": 167,
    "start_time": "2022-10-01T19:42:47.489Z"
   },
   {
    "duration": 292,
    "start_time": "2022-10-01T19:42:47.657Z"
   },
   {
    "duration": 232,
    "start_time": "2022-10-01T19:42:47.951Z"
   },
   {
    "duration": 247,
    "start_time": "2022-10-01T19:42:48.185Z"
   },
   {
    "duration": 348,
    "start_time": "2022-10-01T19:42:48.438Z"
   },
   {
    "duration": 154,
    "start_time": "2022-10-01T19:42:48.788Z"
   },
   {
    "duration": 151,
    "start_time": "2022-10-01T19:42:48.944Z"
   },
   {
    "duration": 158,
    "start_time": "2022-10-01T19:42:49.097Z"
   },
   {
    "duration": 129,
    "start_time": "2022-10-01T19:42:49.256Z"
   },
   {
    "duration": 128,
    "start_time": "2022-10-01T19:42:49.387Z"
   },
   {
    "duration": 155,
    "start_time": "2022-10-01T19:42:49.517Z"
   },
   {
    "duration": 10,
    "start_time": "2022-10-01T19:42:49.673Z"
   },
   {
    "duration": 9,
    "start_time": "2022-10-01T19:42:49.685Z"
   },
   {
    "duration": 1095,
    "start_time": "2022-10-01T19:43:55.584Z"
   },
   {
    "duration": 112,
    "start_time": "2022-10-01T19:43:56.681Z"
   },
   {
    "duration": 55,
    "start_time": "2022-10-01T19:43:56.794Z"
   },
   {
    "duration": 12,
    "start_time": "2022-10-01T19:43:56.851Z"
   },
   {
    "duration": 5,
    "start_time": "2022-10-01T19:43:56.865Z"
   },
   {
    "duration": 294,
    "start_time": "2022-10-01T19:43:56.871Z"
   },
   {
    "duration": 6,
    "start_time": "2022-10-01T19:43:57.167Z"
   },
   {
    "duration": 70,
    "start_time": "2022-10-01T19:43:57.176Z"
   },
   {
    "duration": 43,
    "start_time": "2022-10-01T19:43:57.249Z"
   },
   {
    "duration": 843,
    "start_time": "2022-10-01T19:43:57.296Z"
   },
   {
    "duration": 9,
    "start_time": "2022-10-01T19:43:58.140Z"
   },
   {
    "duration": 407,
    "start_time": "2022-10-01T19:43:58.150Z"
   },
   {
    "duration": 6,
    "start_time": "2022-10-01T19:43:58.559Z"
   },
   {
    "duration": 159,
    "start_time": "2022-10-01T19:43:58.567Z"
   },
   {
    "duration": 10,
    "start_time": "2022-10-01T19:43:58.728Z"
   },
   {
    "duration": 200,
    "start_time": "2022-10-01T19:43:58.740Z"
   },
   {
    "duration": 226,
    "start_time": "2022-10-01T19:43:58.942Z"
   },
   {
    "duration": 719,
    "start_time": "2022-10-01T19:43:59.171Z"
   },
   {
    "duration": 11,
    "start_time": "2022-10-01T19:43:59.892Z"
   },
   {
    "duration": 10,
    "start_time": "2022-10-01T19:43:59.905Z"
   },
   {
    "duration": 29,
    "start_time": "2022-10-01T19:43:59.917Z"
   },
   {
    "duration": 15,
    "start_time": "2022-10-01T19:43:59.948Z"
   },
   {
    "duration": 174,
    "start_time": "2022-10-01T19:43:59.964Z"
   },
   {
    "duration": 172,
    "start_time": "2022-10-01T19:44:00.140Z"
   },
   {
    "duration": 297,
    "start_time": "2022-10-01T19:44:00.315Z"
   },
   {
    "duration": 240,
    "start_time": "2022-10-01T19:44:00.613Z"
   },
   {
    "duration": 236,
    "start_time": "2022-10-01T19:44:00.855Z"
   },
   {
    "duration": 325,
    "start_time": "2022-10-01T19:44:01.095Z"
   },
   {
    "duration": 156,
    "start_time": "2022-10-01T19:44:01.422Z"
   },
   {
    "duration": 160,
    "start_time": "2022-10-01T19:44:01.580Z"
   },
   {
    "duration": 160,
    "start_time": "2022-10-01T19:44:01.741Z"
   },
   {
    "duration": 128,
    "start_time": "2022-10-01T19:44:01.903Z"
   },
   {
    "duration": 122,
    "start_time": "2022-10-01T19:44:02.038Z"
   },
   {
    "duration": 138,
    "start_time": "2022-10-01T19:44:02.162Z"
   },
   {
    "duration": 10,
    "start_time": "2022-10-01T19:44:02.302Z"
   },
   {
    "duration": 25,
    "start_time": "2022-10-01T19:44:02.314Z"
   },
   {
    "duration": 1534,
    "start_time": "2022-10-01T19:44:38.153Z"
   },
   {
    "duration": 110,
    "start_time": "2022-10-01T19:44:39.739Z"
   },
   {
    "duration": 15,
    "start_time": "2022-10-01T19:44:39.850Z"
   },
   {
    "duration": 13,
    "start_time": "2022-10-01T19:44:39.867Z"
   },
   {
    "duration": 60,
    "start_time": "2022-10-01T19:44:39.881Z"
   },
   {
    "duration": 301,
    "start_time": "2022-10-01T19:44:39.943Z"
   },
   {
    "duration": 4,
    "start_time": "2022-10-01T19:44:40.245Z"
   },
   {
    "duration": 11,
    "start_time": "2022-10-01T19:44:40.251Z"
   },
   {
    "duration": 11,
    "start_time": "2022-10-01T19:44:40.263Z"
   },
   {
    "duration": 550,
    "start_time": "2022-10-01T19:44:40.277Z"
   },
   {
    "duration": 15,
    "start_time": "2022-10-01T19:44:40.829Z"
   },
   {
    "duration": 377,
    "start_time": "2022-10-01T19:44:40.846Z"
   },
   {
    "duration": 6,
    "start_time": "2022-10-01T19:44:41.225Z"
   },
   {
    "duration": 137,
    "start_time": "2022-10-01T19:44:41.233Z"
   },
   {
    "duration": 4,
    "start_time": "2022-10-01T19:44:41.371Z"
   },
   {
    "duration": 172,
    "start_time": "2022-10-01T19:44:41.377Z"
   },
   {
    "duration": 238,
    "start_time": "2022-10-01T19:44:41.550Z"
   },
   {
    "duration": 721,
    "start_time": "2022-10-01T19:44:41.790Z"
   },
   {
    "duration": 12,
    "start_time": "2022-10-01T19:44:42.513Z"
   },
   {
    "duration": 10,
    "start_time": "2022-10-01T19:44:42.538Z"
   },
   {
    "duration": 12,
    "start_time": "2022-10-01T19:44:42.549Z"
   },
   {
    "duration": 11,
    "start_time": "2022-10-01T19:44:42.563Z"
   },
   {
    "duration": 203,
    "start_time": "2022-10-01T19:44:42.576Z"
   },
   {
    "duration": 167,
    "start_time": "2022-10-01T19:44:42.780Z"
   },
   {
    "duration": 291,
    "start_time": "2022-10-01T19:44:42.949Z"
   },
   {
    "duration": 196,
    "start_time": "2022-10-01T19:44:43.242Z"
   },
   {
    "duration": 239,
    "start_time": "2022-10-01T19:44:43.440Z"
   },
   {
    "duration": 247,
    "start_time": "2022-10-01T19:44:43.683Z"
   },
   {
    "duration": 310,
    "start_time": "2022-10-01T19:44:43.931Z"
   },
   {
    "duration": 170,
    "start_time": "2022-10-01T19:44:44.242Z"
   },
   {
    "duration": 145,
    "start_time": "2022-10-01T19:44:44.413Z"
   },
   {
    "duration": 153,
    "start_time": "2022-10-01T19:44:44.560Z"
   },
   {
    "duration": 135,
    "start_time": "2022-10-01T19:44:44.715Z"
   },
   {
    "duration": 129,
    "start_time": "2022-10-01T19:44:44.852Z"
   },
   {
    "duration": 134,
    "start_time": "2022-10-01T19:44:44.983Z"
   },
   {
    "duration": 8,
    "start_time": "2022-10-01T19:44:45.119Z"
   },
   {
    "duration": 11,
    "start_time": "2022-10-01T19:44:45.139Z"
   },
   {
    "duration": 1020,
    "start_time": "2022-10-01T19:47:55.064Z"
   },
   {
    "duration": 77,
    "start_time": "2022-10-01T19:47:56.087Z"
   },
   {
    "duration": 15,
    "start_time": "2022-10-01T19:47:56.166Z"
   },
   {
    "duration": 13,
    "start_time": "2022-10-01T19:47:56.183Z"
   },
   {
    "duration": 5,
    "start_time": "2022-10-01T19:47:56.197Z"
   },
   {
    "duration": 156,
    "start_time": "2022-10-01T19:47:56.204Z"
   },
   {
    "duration": 6,
    "start_time": "2022-10-01T19:47:56.361Z"
   },
   {
    "duration": 11,
    "start_time": "2022-10-01T19:47:56.368Z"
   },
   {
    "duration": 8,
    "start_time": "2022-10-01T19:47:56.381Z"
   },
   {
    "duration": 384,
    "start_time": "2022-10-01T19:47:56.392Z"
   },
   {
    "duration": 10,
    "start_time": "2022-10-01T19:47:56.777Z"
   },
   {
    "duration": 783,
    "start_time": "2022-10-01T19:47:56.789Z"
   },
   {
    "duration": 8,
    "start_time": "2022-10-01T19:47:57.574Z"
   },
   {
    "duration": 296,
    "start_time": "2022-10-01T19:47:57.584Z"
   },
   {
    "duration": 4,
    "start_time": "2022-10-01T19:47:57.882Z"
   },
   {
    "duration": 323,
    "start_time": "2022-10-01T19:47:57.938Z"
   },
   {
    "duration": 443,
    "start_time": "2022-10-01T19:47:58.263Z"
   },
   {
    "duration": 762,
    "start_time": "2022-10-01T19:47:58.707Z"
   },
   {
    "duration": 11,
    "start_time": "2022-10-01T19:47:59.471Z"
   },
   {
    "duration": 11,
    "start_time": "2022-10-01T19:47:59.484Z"
   },
   {
    "duration": 12,
    "start_time": "2022-10-01T19:47:59.497Z"
   },
   {
    "duration": 37,
    "start_time": "2022-10-01T19:47:59.510Z"
   },
   {
    "duration": 181,
    "start_time": "2022-10-01T19:47:59.549Z"
   },
   {
    "duration": 191,
    "start_time": "2022-10-01T19:47:59.732Z"
   },
   {
    "duration": 291,
    "start_time": "2022-10-01T19:47:59.924Z"
   },
   {
    "duration": 184,
    "start_time": "2022-10-01T19:48:00.217Z"
   },
   {
    "duration": 249,
    "start_time": "2022-10-01T19:48:00.404Z"
   },
   {
    "duration": 267,
    "start_time": "2022-10-01T19:48:00.657Z"
   },
   {
    "duration": 332,
    "start_time": "2022-10-01T19:48:00.925Z"
   },
   {
    "duration": 162,
    "start_time": "2022-10-01T19:48:01.259Z"
   },
   {
    "duration": 173,
    "start_time": "2022-10-01T19:48:01.422Z"
   },
   {
    "duration": 172,
    "start_time": "2022-10-01T19:48:01.596Z"
   },
   {
    "duration": 138,
    "start_time": "2022-10-01T19:48:01.769Z"
   },
   {
    "duration": 146,
    "start_time": "2022-10-01T19:48:01.909Z"
   },
   {
    "duration": 143,
    "start_time": "2022-10-01T19:48:02.057Z"
   },
   {
    "duration": 9,
    "start_time": "2022-10-01T19:48:02.202Z"
   },
   {
    "duration": 11,
    "start_time": "2022-10-01T19:48:02.213Z"
   },
   {
    "duration": 343,
    "start_time": "2022-10-01T19:56:33.234Z"
   },
   {
    "duration": 1057,
    "start_time": "2022-10-01T19:56:38.636Z"
   },
   {
    "duration": 62,
    "start_time": "2022-10-01T19:56:39.695Z"
   },
   {
    "duration": 13,
    "start_time": "2022-10-01T19:56:39.759Z"
   },
   {
    "duration": 38,
    "start_time": "2022-10-01T19:56:39.773Z"
   },
   {
    "duration": 8,
    "start_time": "2022-10-01T19:56:39.813Z"
   },
   {
    "duration": 143,
    "start_time": "2022-10-01T19:56:39.822Z"
   },
   {
    "duration": 5,
    "start_time": "2022-10-01T19:56:39.966Z"
   },
   {
    "duration": 25,
    "start_time": "2022-10-01T19:56:39.972Z"
   },
   {
    "duration": 38,
    "start_time": "2022-10-01T19:56:39.998Z"
   },
   {
    "duration": 372,
    "start_time": "2022-10-01T19:56:40.038Z"
   },
   {
    "duration": 7,
    "start_time": "2022-10-01T19:56:40.412Z"
   },
   {
    "duration": 352,
    "start_time": "2022-10-01T19:56:40.420Z"
   },
   {
    "duration": 6,
    "start_time": "2022-10-01T19:56:40.773Z"
   },
   {
    "duration": 138,
    "start_time": "2022-10-01T19:56:40.781Z"
   },
   {
    "duration": 4,
    "start_time": "2022-10-01T19:56:40.920Z"
   },
   {
    "duration": 170,
    "start_time": "2022-10-01T19:56:40.925Z"
   },
   {
    "duration": 220,
    "start_time": "2022-10-01T19:56:41.097Z"
   },
   {
    "duration": 1228,
    "start_time": "2022-10-01T19:56:41.318Z"
   },
   {
    "duration": 12,
    "start_time": "2022-10-01T19:56:42.548Z"
   },
   {
    "duration": 16,
    "start_time": "2022-10-01T19:56:42.562Z"
   },
   {
    "duration": 66,
    "start_time": "2022-10-01T19:56:42.580Z"
   },
   {
    "duration": 32,
    "start_time": "2022-10-01T19:56:42.648Z"
   },
   {
    "duration": 400,
    "start_time": "2022-10-01T19:56:42.682Z"
   },
   {
    "duration": 220,
    "start_time": "2022-10-01T19:56:43.084Z"
   },
   {
    "duration": 289,
    "start_time": "2022-10-01T19:56:43.306Z"
   },
   {
    "duration": 168,
    "start_time": "2022-10-01T19:56:43.597Z"
   },
   {
    "duration": 357,
    "start_time": "2022-10-01T19:56:43.767Z"
   },
   {
    "duration": 248,
    "start_time": "2022-10-01T19:56:44.126Z"
   },
   {
    "duration": 318,
    "start_time": "2022-10-01T19:56:44.375Z"
   },
   {
    "duration": 153,
    "start_time": "2022-10-01T19:56:44.695Z"
   },
   {
    "duration": 160,
    "start_time": "2022-10-01T19:56:44.850Z"
   },
   {
    "duration": 167,
    "start_time": "2022-10-01T19:56:45.011Z"
   },
   {
    "duration": 139,
    "start_time": "2022-10-01T19:56:45.179Z"
   },
   {
    "duration": 139,
    "start_time": "2022-10-01T19:56:45.319Z"
   },
   {
    "duration": 133,
    "start_time": "2022-10-01T19:56:45.460Z"
   },
   {
    "duration": 9,
    "start_time": "2022-10-01T19:56:45.595Z"
   },
   {
    "duration": 19,
    "start_time": "2022-10-01T19:56:45.605Z"
   },
   {
    "duration": 4,
    "start_time": "2022-10-01T19:56:51.614Z"
   },
   {
    "duration": 345,
    "start_time": "2022-10-01T19:57:23.275Z"
   },
   {
    "duration": 781,
    "start_time": "2022-10-01T19:57:51.858Z"
   },
   {
    "duration": 644,
    "start_time": "2022-10-01T19:57:58.362Z"
   },
   {
    "duration": 816,
    "start_time": "2022-10-01T19:58:23.971Z"
   },
   {
    "duration": 757,
    "start_time": "2022-10-01T19:58:38.653Z"
   },
   {
    "duration": 865,
    "start_time": "2022-10-01T19:58:48.745Z"
   },
   {
    "duration": 856,
    "start_time": "2022-10-01T19:58:58.777Z"
   },
   {
    "duration": 412,
    "start_time": "2022-10-01T19:59:41.435Z"
   },
   {
    "duration": 1043,
    "start_time": "2022-10-01T19:59:57.761Z"
   },
   {
    "duration": 65,
    "start_time": "2022-10-01T19:59:58.806Z"
   },
   {
    "duration": 13,
    "start_time": "2022-10-01T19:59:58.872Z"
   },
   {
    "duration": 13,
    "start_time": "2022-10-01T19:59:58.887Z"
   },
   {
    "duration": 5,
    "start_time": "2022-10-01T19:59:58.901Z"
   },
   {
    "duration": 154,
    "start_time": "2022-10-01T19:59:58.908Z"
   },
   {
    "duration": 5,
    "start_time": "2022-10-01T19:59:59.064Z"
   },
   {
    "duration": 11,
    "start_time": "2022-10-01T19:59:59.070Z"
   },
   {
    "duration": 6,
    "start_time": "2022-10-01T19:59:59.083Z"
   },
   {
    "duration": 367,
    "start_time": "2022-10-01T19:59:59.091Z"
   },
   {
    "duration": 8,
    "start_time": "2022-10-01T19:59:59.459Z"
   },
   {
    "duration": 331,
    "start_time": "2022-10-01T19:59:59.468Z"
   },
   {
    "duration": 6,
    "start_time": "2022-10-01T19:59:59.801Z"
   },
   {
    "duration": 139,
    "start_time": "2022-10-01T19:59:59.808Z"
   },
   {
    "duration": 4,
    "start_time": "2022-10-01T19:59:59.948Z"
   },
   {
    "duration": 178,
    "start_time": "2022-10-01T19:59:59.953Z"
   },
   {
    "duration": 211,
    "start_time": "2022-10-01T20:00:00.133Z"
   },
   {
    "duration": 699,
    "start_time": "2022-10-01T20:00:00.345Z"
   },
   {
    "duration": 10,
    "start_time": "2022-10-01T20:00:01.045Z"
   },
   {
    "duration": 34,
    "start_time": "2022-10-01T20:00:01.057Z"
   },
   {
    "duration": 24,
    "start_time": "2022-10-01T20:00:01.093Z"
   },
   {
    "duration": 51,
    "start_time": "2022-10-01T20:00:01.119Z"
   },
   {
    "duration": 175,
    "start_time": "2022-10-01T20:00:01.172Z"
   },
   {
    "duration": 162,
    "start_time": "2022-10-01T20:00:01.349Z"
   },
   {
    "duration": 285,
    "start_time": "2022-10-01T20:00:01.512Z"
   },
   {
    "duration": 170,
    "start_time": "2022-10-01T20:00:01.799Z"
   },
   {
    "duration": 928,
    "start_time": "2022-10-01T20:00:01.970Z"
   },
   {
    "duration": 506,
    "start_time": "2022-10-01T20:00:02.901Z"
   },
   {
    "duration": 149,
    "start_time": "2022-10-01T20:00:03.409Z"
   },
   {
    "duration": 147,
    "start_time": "2022-10-01T20:00:03.560Z"
   },
   {
    "duration": 170,
    "start_time": "2022-10-01T20:00:03.709Z"
   },
   {
    "duration": 9,
    "start_time": "2022-10-01T20:00:03.881Z"
   },
   {
    "duration": 11,
    "start_time": "2022-10-01T20:00:03.892Z"
   },
   {
    "duration": 1055,
    "start_time": "2022-10-01T20:00:42.232Z"
   },
   {
    "duration": 64,
    "start_time": "2022-10-01T20:00:43.289Z"
   },
   {
    "duration": 13,
    "start_time": "2022-10-01T20:00:43.355Z"
   },
   {
    "duration": 12,
    "start_time": "2022-10-01T20:00:43.370Z"
   },
   {
    "duration": 4,
    "start_time": "2022-10-01T20:00:43.384Z"
   },
   {
    "duration": 151,
    "start_time": "2022-10-01T20:00:43.390Z"
   },
   {
    "duration": 4,
    "start_time": "2022-10-01T20:00:43.543Z"
   },
   {
    "duration": 12,
    "start_time": "2022-10-01T20:00:43.549Z"
   },
   {
    "duration": 7,
    "start_time": "2022-10-01T20:00:43.562Z"
   },
   {
    "duration": 378,
    "start_time": "2022-10-01T20:00:43.572Z"
   },
   {
    "duration": 9,
    "start_time": "2022-10-01T20:00:43.952Z"
   },
   {
    "duration": 373,
    "start_time": "2022-10-01T20:00:43.963Z"
   },
   {
    "duration": 7,
    "start_time": "2022-10-01T20:00:44.337Z"
   },
   {
    "duration": 147,
    "start_time": "2022-10-01T20:00:44.345Z"
   },
   {
    "duration": 5,
    "start_time": "2022-10-01T20:00:44.493Z"
   },
   {
    "duration": 167,
    "start_time": "2022-10-01T20:00:44.499Z"
   },
   {
    "duration": 219,
    "start_time": "2022-10-01T20:00:44.668Z"
   },
   {
    "duration": 696,
    "start_time": "2022-10-01T20:00:44.889Z"
   },
   {
    "duration": 9,
    "start_time": "2022-10-01T20:00:45.587Z"
   },
   {
    "duration": 9,
    "start_time": "2022-10-01T20:00:45.598Z"
   },
   {
    "duration": 32,
    "start_time": "2022-10-01T20:00:45.608Z"
   },
   {
    "duration": 8,
    "start_time": "2022-10-01T20:00:45.642Z"
   },
   {
    "duration": 173,
    "start_time": "2022-10-01T20:00:45.652Z"
   },
   {
    "duration": 177,
    "start_time": "2022-10-01T20:00:45.827Z"
   },
   {
    "duration": 312,
    "start_time": "2022-10-01T20:00:46.006Z"
   },
   {
    "duration": 179,
    "start_time": "2022-10-01T20:00:46.319Z"
   },
   {
    "duration": 975,
    "start_time": "2022-10-01T20:00:46.500Z"
   },
   {
    "duration": 1009,
    "start_time": "2022-10-01T20:00:47.478Z"
   },
   {
    "duration": 672,
    "start_time": "2022-10-01T20:00:48.488Z"
   },
   {
    "duration": 10,
    "start_time": "2022-10-01T20:00:49.161Z"
   },
   {
    "duration": 11,
    "start_time": "2022-10-01T20:00:49.173Z"
   },
   {
    "duration": 694,
    "start_time": "2022-10-01T20:05:18.597Z"
   },
   {
    "duration": 817,
    "start_time": "2022-10-01T20:05:34.946Z"
   },
   {
    "duration": 800,
    "start_time": "2022-10-01T20:05:41.924Z"
   },
   {
    "duration": 1017,
    "start_time": "2022-10-01T20:06:14.474Z"
   },
   {
    "duration": 65,
    "start_time": "2022-10-01T20:06:15.493Z"
   },
   {
    "duration": 14,
    "start_time": "2022-10-01T20:06:15.560Z"
   },
   {
    "duration": 14,
    "start_time": "2022-10-01T20:06:15.577Z"
   },
   {
    "duration": 5,
    "start_time": "2022-10-01T20:06:15.593Z"
   },
   {
    "duration": 156,
    "start_time": "2022-10-01T20:06:15.600Z"
   },
   {
    "duration": 5,
    "start_time": "2022-10-01T20:06:15.758Z"
   },
   {
    "duration": 12,
    "start_time": "2022-10-01T20:06:15.765Z"
   },
   {
    "duration": 7,
    "start_time": "2022-10-01T20:06:15.779Z"
   },
   {
    "duration": 385,
    "start_time": "2022-10-01T20:06:15.789Z"
   },
   {
    "duration": 8,
    "start_time": "2022-10-01T20:06:16.175Z"
   },
   {
    "duration": 454,
    "start_time": "2022-10-01T20:06:16.185Z"
   },
   {
    "duration": 7,
    "start_time": "2022-10-01T20:06:16.641Z"
   },
   {
    "duration": 296,
    "start_time": "2022-10-01T20:06:16.650Z"
   },
   {
    "duration": 4,
    "start_time": "2022-10-01T20:06:16.947Z"
   },
   {
    "duration": 390,
    "start_time": "2022-10-01T20:06:16.952Z"
   },
   {
    "duration": 442,
    "start_time": "2022-10-01T20:06:17.345Z"
   },
   {
    "duration": 916,
    "start_time": "2022-10-01T20:06:17.838Z"
   },
   {
    "duration": 12,
    "start_time": "2022-10-01T20:06:18.756Z"
   },
   {
    "duration": 11,
    "start_time": "2022-10-01T20:06:18.770Z"
   },
   {
    "duration": 13,
    "start_time": "2022-10-01T20:06:18.783Z"
   },
   {
    "duration": 11,
    "start_time": "2022-10-01T20:06:18.797Z"
   },
   {
    "duration": 171,
    "start_time": "2022-10-01T20:06:18.838Z"
   },
   {
    "duration": 164,
    "start_time": "2022-10-01T20:06:19.011Z"
   },
   {
    "duration": 288,
    "start_time": "2022-10-01T20:06:19.177Z"
   },
   {
    "duration": 181,
    "start_time": "2022-10-01T20:06:19.467Z"
   },
   {
    "duration": 873,
    "start_time": "2022-10-01T20:06:19.650Z"
   },
   {
    "duration": 387,
    "start_time": "2022-10-01T20:06:20.526Z"
   },
   {
    "duration": 409,
    "start_time": "2022-10-01T20:06:20.915Z"
   },
   {
    "duration": 357,
    "start_time": "2022-10-01T20:06:21.327Z"
   },
   {
    "duration": 9,
    "start_time": "2022-10-01T20:06:21.685Z"
   },
   {
    "duration": 10,
    "start_time": "2022-10-01T20:06:21.695Z"
   },
   {
    "duration": 1029,
    "start_time": "2022-10-01T20:07:33.156Z"
   },
   {
    "duration": 64,
    "start_time": "2022-10-01T20:07:34.187Z"
   },
   {
    "duration": 14,
    "start_time": "2022-10-01T20:07:34.253Z"
   },
   {
    "duration": 13,
    "start_time": "2022-10-01T20:07:34.269Z"
   },
   {
    "duration": 7,
    "start_time": "2022-10-01T20:07:34.283Z"
   },
   {
    "duration": 153,
    "start_time": "2022-10-01T20:07:34.291Z"
   },
   {
    "duration": 5,
    "start_time": "2022-10-01T20:07:34.446Z"
   },
   {
    "duration": 13,
    "start_time": "2022-10-01T20:07:34.452Z"
   },
   {
    "duration": 11,
    "start_time": "2022-10-01T20:07:34.467Z"
   },
   {
    "duration": 365,
    "start_time": "2022-10-01T20:07:34.481Z"
   },
   {
    "duration": 8,
    "start_time": "2022-10-01T20:07:34.848Z"
   },
   {
    "duration": 366,
    "start_time": "2022-10-01T20:07:34.857Z"
   },
   {
    "duration": 6,
    "start_time": "2022-10-01T20:07:35.225Z"
   },
   {
    "duration": 136,
    "start_time": "2022-10-01T20:07:35.233Z"
   },
   {
    "duration": 4,
    "start_time": "2022-10-01T20:07:35.371Z"
   },
   {
    "duration": 177,
    "start_time": "2022-10-01T20:07:35.377Z"
   },
   {
    "duration": 222,
    "start_time": "2022-10-01T20:07:35.556Z"
   },
   {
    "duration": 1062,
    "start_time": "2022-10-01T20:07:35.780Z"
   },
   {
    "duration": 10,
    "start_time": "2022-10-01T20:07:36.843Z"
   },
   {
    "duration": 9,
    "start_time": "2022-10-01T20:07:36.855Z"
   },
   {
    "duration": 9,
    "start_time": "2022-10-01T20:07:36.866Z"
   },
   {
    "duration": 63,
    "start_time": "2022-10-01T20:07:36.876Z"
   },
   {
    "duration": 404,
    "start_time": "2022-10-01T20:07:36.940Z"
   },
   {
    "duration": 321,
    "start_time": "2022-10-01T20:07:37.346Z"
   },
   {
    "duration": 557,
    "start_time": "2022-10-01T20:07:37.669Z"
   },
   {
    "duration": 188,
    "start_time": "2022-10-01T20:07:38.227Z"
   },
   {
    "duration": 907,
    "start_time": "2022-10-01T20:07:38.417Z"
   },
   {
    "duration": 375,
    "start_time": "2022-10-01T20:07:39.327Z"
   },
   {
    "duration": 411,
    "start_time": "2022-10-01T20:07:39.703Z"
   },
   {
    "duration": 310,
    "start_time": "2022-10-01T20:07:40.116Z"
   },
   {
    "duration": 366,
    "start_time": "2022-10-01T20:07:40.427Z"
   },
   {
    "duration": 312,
    "start_time": "2022-10-01T20:07:40.795Z"
   },
   {
    "duration": 10,
    "start_time": "2022-10-01T20:07:41.109Z"
   },
   {
    "duration": 24,
    "start_time": "2022-10-01T20:07:41.121Z"
   },
   {
    "duration": 1072,
    "start_time": "2022-10-01T20:08:36.243Z"
   },
   {
    "duration": 75,
    "start_time": "2022-10-01T20:08:37.318Z"
   },
   {
    "duration": 12,
    "start_time": "2022-10-01T20:08:37.395Z"
   },
   {
    "duration": 13,
    "start_time": "2022-10-01T20:08:37.409Z"
   },
   {
    "duration": 5,
    "start_time": "2022-10-01T20:08:37.424Z"
   },
   {
    "duration": 138,
    "start_time": "2022-10-01T20:08:37.438Z"
   },
   {
    "duration": 4,
    "start_time": "2022-10-01T20:08:37.578Z"
   },
   {
    "duration": 11,
    "start_time": "2022-10-01T20:08:37.584Z"
   },
   {
    "duration": 7,
    "start_time": "2022-10-01T20:08:37.597Z"
   },
   {
    "duration": 383,
    "start_time": "2022-10-01T20:08:37.607Z"
   },
   {
    "duration": 9,
    "start_time": "2022-10-01T20:08:37.992Z"
   },
   {
    "duration": 353,
    "start_time": "2022-10-01T20:08:38.003Z"
   },
   {
    "duration": 6,
    "start_time": "2022-10-01T20:08:38.358Z"
   },
   {
    "duration": 166,
    "start_time": "2022-10-01T20:08:38.366Z"
   },
   {
    "duration": 7,
    "start_time": "2022-10-01T20:08:38.533Z"
   },
   {
    "duration": 197,
    "start_time": "2022-10-01T20:08:38.541Z"
   },
   {
    "duration": 309,
    "start_time": "2022-10-01T20:08:38.740Z"
   },
   {
    "duration": 1449,
    "start_time": "2022-10-01T20:08:39.051Z"
   },
   {
    "duration": 12,
    "start_time": "2022-10-01T20:08:40.502Z"
   },
   {
    "duration": 33,
    "start_time": "2022-10-01T20:08:40.515Z"
   },
   {
    "duration": 9,
    "start_time": "2022-10-01T20:08:40.549Z"
   },
   {
    "duration": 10,
    "start_time": "2022-10-01T20:08:40.560Z"
   },
   {
    "duration": 191,
    "start_time": "2022-10-01T20:08:40.572Z"
   },
   {
    "duration": 184,
    "start_time": "2022-10-01T20:08:40.765Z"
   },
   {
    "duration": 293,
    "start_time": "2022-10-01T20:08:40.950Z"
   },
   {
    "duration": 169,
    "start_time": "2022-10-01T20:08:41.244Z"
   },
   {
    "duration": 873,
    "start_time": "2022-10-01T20:08:41.415Z"
   },
   {
    "duration": 375,
    "start_time": "2022-10-01T20:08:42.292Z"
   },
   {
    "duration": 400,
    "start_time": "2022-10-01T20:08:42.668Z"
   },
   {
    "duration": 271,
    "start_time": "2022-10-01T20:08:43.069Z"
   },
   {
    "duration": 349,
    "start_time": "2022-10-01T20:08:43.341Z"
   },
   {
    "duration": 268,
    "start_time": "2022-10-01T20:08:43.692Z"
   },
   {
    "duration": 9,
    "start_time": "2022-10-01T20:08:43.962Z"
   },
   {
    "duration": 9,
    "start_time": "2022-10-01T20:08:43.972Z"
   },
   {
    "duration": 1255,
    "start_time": "2022-10-02T11:45:20.400Z"
   },
   {
    "duration": 107,
    "start_time": "2022-10-02T11:45:21.657Z"
   },
   {
    "duration": 13,
    "start_time": "2022-10-02T11:45:21.766Z"
   },
   {
    "duration": 13,
    "start_time": "2022-10-02T11:45:21.781Z"
   },
   {
    "duration": 3,
    "start_time": "2022-10-02T11:45:21.795Z"
   },
   {
    "duration": 135,
    "start_time": "2022-10-02T11:45:21.799Z"
   },
   {
    "duration": 4,
    "start_time": "2022-10-02T11:45:21.936Z"
   },
   {
    "duration": 10,
    "start_time": "2022-10-02T11:45:21.942Z"
   },
   {
    "duration": 5,
    "start_time": "2022-10-02T11:45:21.954Z"
   },
   {
    "duration": 362,
    "start_time": "2022-10-02T11:45:21.962Z"
   },
   {
    "duration": 9,
    "start_time": "2022-10-02T11:45:22.326Z"
   },
   {
    "duration": 372,
    "start_time": "2022-10-02T11:45:22.337Z"
   },
   {
    "duration": 4,
    "start_time": "2022-10-02T11:45:22.711Z"
   },
   {
    "duration": 152,
    "start_time": "2022-10-02T11:45:22.717Z"
   },
   {
    "duration": 4,
    "start_time": "2022-10-02T11:45:22.871Z"
   },
   {
    "duration": 205,
    "start_time": "2022-10-02T11:45:22.877Z"
   },
   {
    "duration": 240,
    "start_time": "2022-10-02T11:45:23.084Z"
   },
   {
    "duration": 725,
    "start_time": "2022-10-02T11:45:23.325Z"
   },
   {
    "duration": 10,
    "start_time": "2022-10-02T11:45:24.051Z"
   },
   {
    "duration": 29,
    "start_time": "2022-10-02T11:45:24.062Z"
   },
   {
    "duration": 29,
    "start_time": "2022-10-02T11:45:24.093Z"
   },
   {
    "duration": 48,
    "start_time": "2022-10-02T11:45:24.123Z"
   },
   {
    "duration": 191,
    "start_time": "2022-10-02T11:45:24.173Z"
   },
   {
    "duration": 168,
    "start_time": "2022-10-02T11:45:24.366Z"
   },
   {
    "duration": 294,
    "start_time": "2022-10-02T11:45:24.535Z"
   },
   {
    "duration": 180,
    "start_time": "2022-10-02T11:45:24.830Z"
   },
   {
    "duration": 863,
    "start_time": "2022-10-02T11:45:25.012Z"
   },
   {
    "duration": 441,
    "start_time": "2022-10-02T11:45:25.878Z"
   },
   {
    "duration": 819,
    "start_time": "2022-10-02T11:45:26.321Z"
   },
   {
    "duration": 575,
    "start_time": "2022-10-02T11:45:27.141Z"
   },
   {
    "duration": 442,
    "start_time": "2022-10-02T11:45:27.717Z"
   },
   {
    "duration": 263,
    "start_time": "2022-10-02T11:45:28.160Z"
   },
   {
    "duration": 10,
    "start_time": "2022-10-02T11:45:28.424Z"
   },
   {
    "duration": 10,
    "start_time": "2022-10-02T11:45:28.435Z"
   },
   {
    "duration": 1023,
    "start_time": "2022-10-02T11:52:50.044Z"
   },
   {
    "duration": 70,
    "start_time": "2022-10-02T11:52:51.069Z"
   },
   {
    "duration": 13,
    "start_time": "2022-10-02T11:52:51.140Z"
   },
   {
    "duration": 53,
    "start_time": "2022-10-02T11:52:51.155Z"
   },
   {
    "duration": 140,
    "start_time": "2022-10-02T11:52:51.210Z"
   },
   {
    "duration": 0,
    "start_time": "2022-10-02T11:52:51.353Z"
   },
   {
    "duration": 0,
    "start_time": "2022-10-02T11:52:51.355Z"
   },
   {
    "duration": 0,
    "start_time": "2022-10-02T11:52:51.357Z"
   },
   {
    "duration": 0,
    "start_time": "2022-10-02T11:52:51.358Z"
   },
   {
    "duration": 0,
    "start_time": "2022-10-02T11:52:51.358Z"
   },
   {
    "duration": 0,
    "start_time": "2022-10-02T11:52:51.359Z"
   },
   {
    "duration": 0,
    "start_time": "2022-10-02T11:52:51.360Z"
   },
   {
    "duration": 0,
    "start_time": "2022-10-02T11:52:51.361Z"
   },
   {
    "duration": 0,
    "start_time": "2022-10-02T11:52:51.362Z"
   },
   {
    "duration": 0,
    "start_time": "2022-10-02T11:52:51.363Z"
   },
   {
    "duration": 0,
    "start_time": "2022-10-02T11:52:51.364Z"
   },
   {
    "duration": 0,
    "start_time": "2022-10-02T11:52:51.365Z"
   },
   {
    "duration": 0,
    "start_time": "2022-10-02T11:52:51.366Z"
   },
   {
    "duration": 0,
    "start_time": "2022-10-02T11:52:51.367Z"
   },
   {
    "duration": 0,
    "start_time": "2022-10-02T11:52:51.368Z"
   },
   {
    "duration": 0,
    "start_time": "2022-10-02T11:52:51.369Z"
   },
   {
    "duration": 0,
    "start_time": "2022-10-02T11:52:51.370Z"
   },
   {
    "duration": 0,
    "start_time": "2022-10-02T11:52:51.370Z"
   },
   {
    "duration": 0,
    "start_time": "2022-10-02T11:52:51.371Z"
   },
   {
    "duration": 0,
    "start_time": "2022-10-02T11:52:51.372Z"
   },
   {
    "duration": 0,
    "start_time": "2022-10-02T11:52:51.373Z"
   },
   {
    "duration": 0,
    "start_time": "2022-10-02T11:52:51.374Z"
   },
   {
    "duration": 0,
    "start_time": "2022-10-02T11:52:51.375Z"
   },
   {
    "duration": 0,
    "start_time": "2022-10-02T11:52:51.408Z"
   },
   {
    "duration": 0,
    "start_time": "2022-10-02T11:52:51.410Z"
   },
   {
    "duration": 0,
    "start_time": "2022-10-02T11:52:51.411Z"
   },
   {
    "duration": 0,
    "start_time": "2022-10-02T11:52:51.412Z"
   },
   {
    "duration": 1,
    "start_time": "2022-10-02T11:52:51.412Z"
   },
   {
    "duration": 0,
    "start_time": "2022-10-02T11:52:51.413Z"
   },
   {
    "duration": 0,
    "start_time": "2022-10-02T11:52:51.414Z"
   },
   {
    "duration": 1052,
    "start_time": "2022-10-02T11:53:16.996Z"
   },
   {
    "duration": 65,
    "start_time": "2022-10-02T11:53:18.049Z"
   },
   {
    "duration": 12,
    "start_time": "2022-10-02T11:53:18.116Z"
   },
   {
    "duration": 13,
    "start_time": "2022-10-02T11:53:18.130Z"
   },
   {
    "duration": 122,
    "start_time": "2022-10-02T11:53:18.145Z"
   },
   {
    "duration": 0,
    "start_time": "2022-10-02T11:53:18.269Z"
   },
   {
    "duration": 0,
    "start_time": "2022-10-02T11:53:18.272Z"
   },
   {
    "duration": 0,
    "start_time": "2022-10-02T11:53:18.273Z"
   },
   {
    "duration": 1,
    "start_time": "2022-10-02T11:53:18.273Z"
   },
   {
    "duration": 0,
    "start_time": "2022-10-02T11:53:18.274Z"
   },
   {
    "duration": 0,
    "start_time": "2022-10-02T11:53:18.275Z"
   },
   {
    "duration": 0,
    "start_time": "2022-10-02T11:53:18.276Z"
   },
   {
    "duration": 0,
    "start_time": "2022-10-02T11:53:18.277Z"
   },
   {
    "duration": 0,
    "start_time": "2022-10-02T11:53:18.278Z"
   },
   {
    "duration": 0,
    "start_time": "2022-10-02T11:53:18.278Z"
   },
   {
    "duration": 0,
    "start_time": "2022-10-02T11:53:18.279Z"
   },
   {
    "duration": 0,
    "start_time": "2022-10-02T11:53:18.280Z"
   },
   {
    "duration": 0,
    "start_time": "2022-10-02T11:53:18.281Z"
   },
   {
    "duration": 1,
    "start_time": "2022-10-02T11:53:18.281Z"
   },
   {
    "duration": 0,
    "start_time": "2022-10-02T11:53:18.282Z"
   },
   {
    "duration": 0,
    "start_time": "2022-10-02T11:53:18.283Z"
   },
   {
    "duration": 0,
    "start_time": "2022-10-02T11:53:18.309Z"
   },
   {
    "duration": 0,
    "start_time": "2022-10-02T11:53:18.310Z"
   },
   {
    "duration": 0,
    "start_time": "2022-10-02T11:53:18.311Z"
   },
   {
    "duration": 0,
    "start_time": "2022-10-02T11:53:18.311Z"
   },
   {
    "duration": 0,
    "start_time": "2022-10-02T11:53:18.312Z"
   },
   {
    "duration": 0,
    "start_time": "2022-10-02T11:53:18.313Z"
   },
   {
    "duration": 0,
    "start_time": "2022-10-02T11:53:18.314Z"
   },
   {
    "duration": 0,
    "start_time": "2022-10-02T11:53:18.315Z"
   },
   {
    "duration": 0,
    "start_time": "2022-10-02T11:53:18.316Z"
   },
   {
    "duration": 0,
    "start_time": "2022-10-02T11:53:18.317Z"
   },
   {
    "duration": 0,
    "start_time": "2022-10-02T11:53:18.318Z"
   },
   {
    "duration": 0,
    "start_time": "2022-10-02T11:53:18.318Z"
   },
   {
    "duration": 0,
    "start_time": "2022-10-02T11:53:18.319Z"
   },
   {
    "duration": 0,
    "start_time": "2022-10-02T11:53:18.320Z"
   },
   {
    "duration": 1014,
    "start_time": "2022-10-02T11:54:17.142Z"
   },
   {
    "duration": 73,
    "start_time": "2022-10-02T11:54:18.158Z"
   },
   {
    "duration": 13,
    "start_time": "2022-10-02T11:54:18.232Z"
   },
   {
    "duration": 13,
    "start_time": "2022-10-02T11:54:18.247Z"
   },
   {
    "duration": 4,
    "start_time": "2022-10-02T11:54:18.262Z"
   },
   {
    "duration": 16,
    "start_time": "2022-10-02T11:54:18.268Z"
   },
   {
    "duration": 153,
    "start_time": "2022-10-02T11:54:18.286Z"
   },
   {
    "duration": 4,
    "start_time": "2022-10-02T11:54:18.440Z"
   },
   {
    "duration": 10,
    "start_time": "2022-10-02T11:54:18.446Z"
   },
   {
    "duration": 5,
    "start_time": "2022-10-02T11:54:18.459Z"
   },
   {
    "duration": 334,
    "start_time": "2022-10-02T11:54:18.466Z"
   },
   {
    "duration": 13,
    "start_time": "2022-10-02T11:54:18.801Z"
   },
   {
    "duration": 314,
    "start_time": "2022-10-02T11:54:18.815Z"
   },
   {
    "duration": 6,
    "start_time": "2022-10-02T11:54:19.130Z"
   },
   {
    "duration": 149,
    "start_time": "2022-10-02T11:54:19.137Z"
   },
   {
    "duration": 5,
    "start_time": "2022-10-02T11:54:19.287Z"
   },
   {
    "duration": 208,
    "start_time": "2022-10-02T11:54:19.293Z"
   },
   {
    "duration": 249,
    "start_time": "2022-10-02T11:54:19.503Z"
   },
   {
    "duration": 760,
    "start_time": "2022-10-02T11:54:19.753Z"
   },
   {
    "duration": 12,
    "start_time": "2022-10-02T11:54:20.515Z"
   },
   {
    "duration": 11,
    "start_time": "2022-10-02T11:54:20.529Z"
   },
   {
    "duration": 12,
    "start_time": "2022-10-02T11:54:20.542Z"
   },
   {
    "duration": 11,
    "start_time": "2022-10-02T11:54:20.556Z"
   },
   {
    "duration": 209,
    "start_time": "2022-10-02T11:54:20.568Z"
   },
   {
    "duration": 187,
    "start_time": "2022-10-02T11:54:20.779Z"
   },
   {
    "duration": 298,
    "start_time": "2022-10-02T11:54:20.968Z"
   },
   {
    "duration": 175,
    "start_time": "2022-10-02T11:54:21.268Z"
   },
   {
    "duration": 1379,
    "start_time": "2022-10-02T11:54:21.446Z"
   },
   {
    "duration": 723,
    "start_time": "2022-10-02T11:54:22.827Z"
   },
   {
    "duration": 488,
    "start_time": "2022-10-02T11:54:23.551Z"
   },
   {
    "duration": 283,
    "start_time": "2022-10-02T11:54:24.041Z"
   },
   {
    "duration": 373,
    "start_time": "2022-10-02T11:54:24.325Z"
   },
   {
    "duration": 287,
    "start_time": "2022-10-02T11:54:24.700Z"
   },
   {
    "duration": 9,
    "start_time": "2022-10-02T11:54:24.989Z"
   },
   {
    "duration": 9,
    "start_time": "2022-10-02T11:54:25.008Z"
   }
  ],
  "kernelspec": {
   "display_name": "Python 3 (ipykernel)",
   "language": "python",
   "name": "python3"
  },
  "language_info": {
   "codemirror_mode": {
    "name": "ipython",
    "version": 3
   },
   "file_extension": ".py",
   "mimetype": "text/x-python",
   "name": "python",
   "nbconvert_exporter": "python",
   "pygments_lexer": "ipython3",
   "version": "3.10.7"
  },
  "toc": {
   "base_numbering": 1,
   "nav_menu": {},
   "number_sections": true,
   "sideBar": true,
   "skip_h1_title": true,
   "title_cell": "Table of Contents",
   "title_sidebar": "Contents",
   "toc_cell": false,
   "toc_position": {
    "height": "calc(100% - 180px)",
    "left": "10px",
    "top": "150px",
    "width": "370.188px"
   },
   "toc_section_display": true,
   "toc_window_display": true
  }
 },
 "nbformat": 4,
 "nbformat_minor": 2
}
