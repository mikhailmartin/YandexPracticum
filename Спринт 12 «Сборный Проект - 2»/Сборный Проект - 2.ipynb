{
 "cells": [
  {
   "cell_type": "markdown",
   "metadata": {},
   "source": [
    "# Спринт 12 «Сборный Проект - 2»"
   ]
  },
  {
   "cell_type": "markdown",
   "metadata": {},
   "source": [
    "# Проект «Восстановление золота из руды»"
   ]
  },
  {
   "cell_type": "markdown",
   "metadata": {},
   "source": [
    "## Навигация\n",
    "\n",
    "1. [Описание проекта](#Описание-проекта)\n",
    "1. [Технологический процесс](#Технологический-процесс)\n",
    "1. [Описание данных](#Описание-данных)\n",
    "1. [Наименование признаков](#Наименование-признаков)\n",
    "1. [Предобработка данных](#Предобработка-данных)\n",
    "  - [Открываем файлы и изучаем их](#Открываем-файлы-и-изучаем-их)\n",
    "  - [Проверяем, что эфективность обогащения рассчитана правильно](#Проверяем,-что-эфективность-обогащения-рассчитана-правильно)\n",
    "  - [Проанализируем признаки, недоступные в тестовой выборке](#Проанализируем-признаки,-недоступные-в-тестовой-выборке)\n",
    "  - [Проведём предобработку данных](#Проведём-предобработку-данных)\n",
    "1. [Анализ данных](#Анализ-данных)\n",
    "   - [Посмотрим, как меняется концентрация металлов на различных этапах очистки](#Посмотрим,-как-меняется-концентрация-металлов-на-различных-этапах-очистки)\n",
    "   - [Сравним распределения размеров гранул сырья на обучающей и тестовой выборках](#Сравним-распределения-размеров-гранул-сырья-на-обучающей-и-тестовой-выборках)\n",
    "   - [Исследуем суммарную концентрацию всех веществ на разных стадиях](#Исследуем-суммарную-концентрацию-всех-веществ-на-разных-стадиях)\n",
    "1. [Модель](#Модель)\n",
    "   - [Напишем функцию для вычисления итоговой sMAPE](#Напишем-функцию-для-вычисления-итоговой-sMAPE)\n",
    "   - [Обучим разные модели и оценим их качество кросс-валидацией. Выберем лучшую модль и проверим её на тестовой выборке](#Обучим-разные-модели-и-оценим-их-качество-кросс-валидацией.-Выберем-лучшую-модль-и-проверим-её-на-тестовой-выборке)\n",
    "1. [Общие выводы](#Общие-выводы)"
   ]
  },
  {
   "cell_type": "markdown",
   "metadata": {},
   "source": [
    "## Описание проекта\n",
    "\n",
    "[к навигации](#Навигация)\n",
    "\n",
    "Необходимо подготоить прототип модели машинного обучения для [«Цифры»](https://www.zyfra.com/ru/). Компания разрабатывает решения для эффективной работы промышленных предприятий.\n",
    "\n",
    "Модель должна предсказать коэффициент восстановления золота из золотосодержащей руды. Будем использовать данные с параметрами добычи и очистки. \n",
    "\n",
    "Модель поможет оптимизировать производство, чтобы не запускать предприятие с убыточными характеристиками."
   ]
  },
  {
   "cell_type": "markdown",
   "metadata": {},
   "source": [
    "## Технологический процесс\n",
    "\n",
    "[к навигации](#Навигация)\n",
    "\n",
    "Когда добытая руда проходит первичную обработку, получается дроблёная смесь. Её отправляют на флотацию (обогащение) и двухэтапную очистку.\n",
    "\n",
    "![](viruchka_1576238830.jpg)\n",
    "\n",
    "Опишем каждую стадию: \n",
    "1. Флотация\n",
    "\n",
    "Во флотационную установку подаётся смесь золотосодержащей руды. После обогащения получается черновой концентрат и «отвальные хвосты», то есть остатки продукта с низкой концентрацией ценных металлов.\n",
    "\n",
    "На стабильность этого процесса влияет непостоянное и неоптимальное физико-химическое состояние флотационной пульпы (смеси твёрдых частиц и жидкости).\n",
    "\n",
    "2. Очистка\n",
    "\n",
    "Черновой концентрат проходит две очистки. На выходе получается финальный концентрат и новые отвальные хвосты."
   ]
  },
  {
   "cell_type": "markdown",
   "metadata": {},
   "source": [
    "## Описание данных\n",
    "\n",
    "[к навигации](#Навигация)\n",
    "\n",
    "**Технологический процесс**\n",
    "- `Rougher feed` — исходное сырье\n",
    "- `Rougher additions` (или `reagent additions`) — флотационные реагенты: Xanthate, Sulphate, Depressant\n",
    "- `Xanthate` — ксантогенат (промотер, или активатор флотации);\n",
    "- `Sulphate` — сульфат (на данном производстве сульфид натрия);\n",
    "- `Depressant` — депрессант (силикат натрия).\n",
    "- `Rougher process` (англ. «грубый процесс») — флотация\n",
    "- `Rougher tails` — отвальные хвосты\n",
    "- `Float banks` — флотационная установка\n",
    "- `Cleaner process` — очистка\n",
    "- `Rougher Au` — черновой концентрат золота\n",
    "- `Final Au` — финальный концентрат золота\n",
    "\n",
    "**Параметры этапов**\n",
    "- `air amount` — объём воздуха\n",
    "- `fluid levels` — уровень жидкости\n",
    "- `feed size` — размер гранул сырья\n",
    "- `feed rate` — скорость подачи"
   ]
  },
  {
   "cell_type": "markdown",
   "metadata": {},
   "source": [
    "## Наименование признаков\n",
    "\n",
    "[к навигации](#Навигация)\n",
    "\n",
    "Наименование признаков должно быть такое:  \n",
    "`[этап].[тип_параметра].[название_параметра]`\n",
    "\n",
    "Пример: `rougher.input.feed_ag`\n",
    "\n",
    "Возможные значения для блока `[этап]`:\n",
    "- `rougher` — флотация\n",
    "- `primary_cleaner` — первичная очистка\n",
    "- `secondary_cleaner` — вторичная очистка\n",
    "- `final` — финальные характеристики\n",
    "\n",
    "Возможные значения для блока `[тип_параметра]`:\n",
    "- `input` — параметры сырья\n",
    "- `output` — параметры продукта\n",
    "- `state` — параметры, характеризующие текущее состояние этапа\n",
    "- `calculation` — расчётные характеристики"
   ]
  },
  {
   "cell_type": "code",
   "execution_count": 1,
   "metadata": {},
   "outputs": [],
   "source": [
    "import os\n",
    "\n",
    "import matplotlib.pyplot as plt\n",
    "%matplotlib inline\n",
    "import numpy as np\n",
    "import pandas as pd\n",
    "pd.set_option('display.max_columns', None)\n",
    "import seaborn as sns\n",
    "sns.set_theme()\n",
    "from sklearn.ensemble import RandomForestRegressor\n",
    "from sklearn.impute import KNNImputer\n",
    "from sklearn.metrics import make_scorer\n",
    "from sklearn.metrics import mean_absolute_error\n",
    "from sklearn.model_selection import GridSearchCV\n",
    "from sklearn.model_selection import ShuffleSplit\n",
    "from sklearn.tree import DecisionTreeRegressor"
   ]
  },
  {
   "cell_type": "code",
   "execution_count": 2,
   "metadata": {},
   "outputs": [],
   "source": [
    "RANDOM_STATE = 42"
   ]
  },
  {
   "cell_type": "markdown",
   "metadata": {},
   "source": [
    "## Предобработка данных\n",
    "\n",
    "[к навигации](#Навигация)"
   ]
  },
  {
   "cell_type": "markdown",
   "metadata": {},
   "source": [
    "### Открываем файлы и изучаем их\n",
    "\n",
    "[к навигации](#Навигация)"
   ]
  },
  {
   "cell_type": "code",
   "execution_count": 3,
   "metadata": {},
   "outputs": [
    {
     "data": {
      "text/html": [
       "<div>\n",
       "<style scoped>\n",
       "    .dataframe tbody tr th:only-of-type {\n",
       "        vertical-align: middle;\n",
       "    }\n",
       "\n",
       "    .dataframe tbody tr th {\n",
       "        vertical-align: top;\n",
       "    }\n",
       "\n",
       "    .dataframe thead th {\n",
       "        text-align: right;\n",
       "    }\n",
       "</style>\n",
       "<table border=\"1\" class=\"dataframe\">\n",
       "  <thead>\n",
       "    <tr style=\"text-align: right;\">\n",
       "      <th></th>\n",
       "      <th>final.output.concentrate_ag</th>\n",
       "      <th>final.output.concentrate_pb</th>\n",
       "      <th>final.output.concentrate_sol</th>\n",
       "      <th>final.output.concentrate_au</th>\n",
       "      <th>final.output.recovery</th>\n",
       "      <th>final.output.tail_ag</th>\n",
       "      <th>final.output.tail_pb</th>\n",
       "      <th>final.output.tail_sol</th>\n",
       "      <th>final.output.tail_au</th>\n",
       "      <th>primary_cleaner.input.sulfate</th>\n",
       "      <th>primary_cleaner.input.depressant</th>\n",
       "      <th>primary_cleaner.input.feed_size</th>\n",
       "      <th>primary_cleaner.input.xanthate</th>\n",
       "      <th>primary_cleaner.output.concentrate_ag</th>\n",
       "      <th>primary_cleaner.output.concentrate_pb</th>\n",
       "      <th>primary_cleaner.output.concentrate_sol</th>\n",
       "      <th>primary_cleaner.output.concentrate_au</th>\n",
       "      <th>primary_cleaner.output.tail_ag</th>\n",
       "      <th>primary_cleaner.output.tail_pb</th>\n",
       "      <th>primary_cleaner.output.tail_sol</th>\n",
       "      <th>primary_cleaner.output.tail_au</th>\n",
       "      <th>primary_cleaner.state.floatbank8_a_air</th>\n",
       "      <th>primary_cleaner.state.floatbank8_a_level</th>\n",
       "      <th>primary_cleaner.state.floatbank8_b_air</th>\n",
       "      <th>primary_cleaner.state.floatbank8_b_level</th>\n",
       "      <th>primary_cleaner.state.floatbank8_c_air</th>\n",
       "      <th>primary_cleaner.state.floatbank8_c_level</th>\n",
       "      <th>primary_cleaner.state.floatbank8_d_air</th>\n",
       "      <th>primary_cleaner.state.floatbank8_d_level</th>\n",
       "      <th>rougher.calculation.sulfate_to_au_concentrate</th>\n",
       "      <th>rougher.calculation.floatbank10_sulfate_to_au_feed</th>\n",
       "      <th>rougher.calculation.floatbank11_sulfate_to_au_feed</th>\n",
       "      <th>rougher.calculation.au_pb_ratio</th>\n",
       "      <th>rougher.input.feed_ag</th>\n",
       "      <th>rougher.input.feed_pb</th>\n",
       "      <th>rougher.input.feed_rate</th>\n",
       "      <th>rougher.input.feed_size</th>\n",
       "      <th>rougher.input.feed_sol</th>\n",
       "      <th>rougher.input.feed_au</th>\n",
       "      <th>rougher.input.floatbank10_sulfate</th>\n",
       "      <th>rougher.input.floatbank10_xanthate</th>\n",
       "      <th>rougher.input.floatbank11_sulfate</th>\n",
       "      <th>rougher.input.floatbank11_xanthate</th>\n",
       "      <th>rougher.output.concentrate_ag</th>\n",
       "      <th>rougher.output.concentrate_pb</th>\n",
       "      <th>rougher.output.concentrate_sol</th>\n",
       "      <th>rougher.output.concentrate_au</th>\n",
       "      <th>rougher.output.recovery</th>\n",
       "      <th>rougher.output.tail_ag</th>\n",
       "      <th>rougher.output.tail_pb</th>\n",
       "      <th>rougher.output.tail_sol</th>\n",
       "      <th>rougher.output.tail_au</th>\n",
       "      <th>rougher.state.floatbank10_a_air</th>\n",
       "      <th>rougher.state.floatbank10_a_level</th>\n",
       "      <th>rougher.state.floatbank10_b_air</th>\n",
       "      <th>rougher.state.floatbank10_b_level</th>\n",
       "      <th>rougher.state.floatbank10_c_air</th>\n",
       "      <th>rougher.state.floatbank10_c_level</th>\n",
       "      <th>rougher.state.floatbank10_d_air</th>\n",
       "      <th>rougher.state.floatbank10_d_level</th>\n",
       "      <th>rougher.state.floatbank10_e_air</th>\n",
       "      <th>rougher.state.floatbank10_e_level</th>\n",
       "      <th>rougher.state.floatbank10_f_air</th>\n",
       "      <th>rougher.state.floatbank10_f_level</th>\n",
       "      <th>secondary_cleaner.output.tail_ag</th>\n",
       "      <th>secondary_cleaner.output.tail_pb</th>\n",
       "      <th>secondary_cleaner.output.tail_sol</th>\n",
       "      <th>secondary_cleaner.output.tail_au</th>\n",
       "      <th>secondary_cleaner.state.floatbank2_a_air</th>\n",
       "      <th>secondary_cleaner.state.floatbank2_a_level</th>\n",
       "      <th>secondary_cleaner.state.floatbank2_b_air</th>\n",
       "      <th>secondary_cleaner.state.floatbank2_b_level</th>\n",
       "      <th>secondary_cleaner.state.floatbank3_a_air</th>\n",
       "      <th>secondary_cleaner.state.floatbank3_a_level</th>\n",
       "      <th>secondary_cleaner.state.floatbank3_b_air</th>\n",
       "      <th>secondary_cleaner.state.floatbank3_b_level</th>\n",
       "      <th>secondary_cleaner.state.floatbank4_a_air</th>\n",
       "      <th>secondary_cleaner.state.floatbank4_a_level</th>\n",
       "      <th>secondary_cleaner.state.floatbank4_b_air</th>\n",
       "      <th>secondary_cleaner.state.floatbank4_b_level</th>\n",
       "      <th>secondary_cleaner.state.floatbank5_a_air</th>\n",
       "      <th>secondary_cleaner.state.floatbank5_a_level</th>\n",
       "      <th>secondary_cleaner.state.floatbank5_b_air</th>\n",
       "      <th>secondary_cleaner.state.floatbank5_b_level</th>\n",
       "      <th>secondary_cleaner.state.floatbank6_a_air</th>\n",
       "      <th>secondary_cleaner.state.floatbank6_a_level</th>\n",
       "    </tr>\n",
       "    <tr>\n",
       "      <th>date</th>\n",
       "      <th></th>\n",
       "      <th></th>\n",
       "      <th></th>\n",
       "      <th></th>\n",
       "      <th></th>\n",
       "      <th></th>\n",
       "      <th></th>\n",
       "      <th></th>\n",
       "      <th></th>\n",
       "      <th></th>\n",
       "      <th></th>\n",
       "      <th></th>\n",
       "      <th></th>\n",
       "      <th></th>\n",
       "      <th></th>\n",
       "      <th></th>\n",
       "      <th></th>\n",
       "      <th></th>\n",
       "      <th></th>\n",
       "      <th></th>\n",
       "      <th></th>\n",
       "      <th></th>\n",
       "      <th></th>\n",
       "      <th></th>\n",
       "      <th></th>\n",
       "      <th></th>\n",
       "      <th></th>\n",
       "      <th></th>\n",
       "      <th></th>\n",
       "      <th></th>\n",
       "      <th></th>\n",
       "      <th></th>\n",
       "      <th></th>\n",
       "      <th></th>\n",
       "      <th></th>\n",
       "      <th></th>\n",
       "      <th></th>\n",
       "      <th></th>\n",
       "      <th></th>\n",
       "      <th></th>\n",
       "      <th></th>\n",
       "      <th></th>\n",
       "      <th></th>\n",
       "      <th></th>\n",
       "      <th></th>\n",
       "      <th></th>\n",
       "      <th></th>\n",
       "      <th></th>\n",
       "      <th></th>\n",
       "      <th></th>\n",
       "      <th></th>\n",
       "      <th></th>\n",
       "      <th></th>\n",
       "      <th></th>\n",
       "      <th></th>\n",
       "      <th></th>\n",
       "      <th></th>\n",
       "      <th></th>\n",
       "      <th></th>\n",
       "      <th></th>\n",
       "      <th></th>\n",
       "      <th></th>\n",
       "      <th></th>\n",
       "      <th></th>\n",
       "      <th></th>\n",
       "      <th></th>\n",
       "      <th></th>\n",
       "      <th></th>\n",
       "      <th></th>\n",
       "      <th></th>\n",
       "      <th></th>\n",
       "      <th></th>\n",
       "      <th></th>\n",
       "      <th></th>\n",
       "      <th></th>\n",
       "      <th></th>\n",
       "      <th></th>\n",
       "      <th></th>\n",
       "      <th></th>\n",
       "      <th></th>\n",
       "      <th></th>\n",
       "      <th></th>\n",
       "      <th></th>\n",
       "      <th></th>\n",
       "      <th></th>\n",
       "      <th></th>\n",
       "    </tr>\n",
       "  </thead>\n",
       "  <tbody>\n",
       "    <tr>\n",
       "      <th>2016-01-15 00:00:00</th>\n",
       "      <td>6.055403</td>\n",
       "      <td>9.889648</td>\n",
       "      <td>5.507324</td>\n",
       "      <td>42.192020</td>\n",
       "      <td>70.541216</td>\n",
       "      <td>10.411962</td>\n",
       "      <td>0.895447</td>\n",
       "      <td>16.904297</td>\n",
       "      <td>2.143149</td>\n",
       "      <td>127.092003</td>\n",
       "      <td>10.128295</td>\n",
       "      <td>7.25</td>\n",
       "      <td>0.988759</td>\n",
       "      <td>8.547551</td>\n",
       "      <td>10.389648</td>\n",
       "      <td>19.529297</td>\n",
       "      <td>34.174427</td>\n",
       "      <td>14.936526</td>\n",
       "      <td>2.534912</td>\n",
       "      <td>7.476074</td>\n",
       "      <td>2.106679</td>\n",
       "      <td>1549.775757</td>\n",
       "      <td>-498.912140</td>\n",
       "      <td>1551.434204</td>\n",
       "      <td>-516.403442</td>\n",
       "      <td>1549.873901</td>\n",
       "      <td>-498.666595</td>\n",
       "      <td>1554.367432</td>\n",
       "      <td>-493.428131</td>\n",
       "      <td>41885.707031</td>\n",
       "      <td>3481.779053</td>\n",
       "      <td>3520.337158</td>\n",
       "      <td>2.838687</td>\n",
       "      <td>6.100378</td>\n",
       "      <td>2.284912</td>\n",
       "      <td>523.546326</td>\n",
       "      <td>55.486599</td>\n",
       "      <td>36.808594</td>\n",
       "      <td>6.486150</td>\n",
       "      <td>11.986616</td>\n",
       "      <td>6.007990</td>\n",
       "      <td>11.836743</td>\n",
       "      <td>6.005818</td>\n",
       "      <td>11.500771</td>\n",
       "      <td>7.101074</td>\n",
       "      <td>28.029297</td>\n",
       "      <td>19.793808</td>\n",
       "      <td>87.107763</td>\n",
       "      <td>5.008018</td>\n",
       "      <td>0.508728</td>\n",
       "      <td>19.154297</td>\n",
       "      <td>1.170244</td>\n",
       "      <td>999.706909</td>\n",
       "      <td>-404.066986</td>\n",
       "      <td>1603.011353</td>\n",
       "      <td>-434.715027</td>\n",
       "      <td>1602.375000</td>\n",
       "      <td>-442.204468</td>\n",
       "      <td>1598.937256</td>\n",
       "      <td>-451.294128</td>\n",
       "      <td>1404.472046</td>\n",
       "      <td>-455.462982</td>\n",
       "      <td>1416.354980</td>\n",
       "      <td>-451.939636</td>\n",
       "      <td>14.500184</td>\n",
       "      <td>4.694824</td>\n",
       "      <td>8.764648</td>\n",
       "      <td>2.606185</td>\n",
       "      <td>25.853109</td>\n",
       "      <td>-498.526489</td>\n",
       "      <td>23.893660</td>\n",
       "      <td>-501.406281</td>\n",
       "      <td>23.961798</td>\n",
       "      <td>-495.262817</td>\n",
       "      <td>21.940409</td>\n",
       "      <td>-499.340973</td>\n",
       "      <td>14.016835</td>\n",
       "      <td>-502.488007</td>\n",
       "      <td>12.099931</td>\n",
       "      <td>-504.715942</td>\n",
       "      <td>9.925633</td>\n",
       "      <td>-498.310211</td>\n",
       "      <td>8.079666</td>\n",
       "      <td>-500.470978</td>\n",
       "      <td>14.151341</td>\n",
       "      <td>-605.841980</td>\n",
       "    </tr>\n",
       "    <tr>\n",
       "      <th>2016-01-15 01:00:00</th>\n",
       "      <td>6.029369</td>\n",
       "      <td>9.968944</td>\n",
       "      <td>5.257781</td>\n",
       "      <td>42.701629</td>\n",
       "      <td>69.266198</td>\n",
       "      <td>10.462676</td>\n",
       "      <td>0.927452</td>\n",
       "      <td>16.634514</td>\n",
       "      <td>2.224930</td>\n",
       "      <td>125.629232</td>\n",
       "      <td>10.296251</td>\n",
       "      <td>7.25</td>\n",
       "      <td>1.002663</td>\n",
       "      <td>8.558743</td>\n",
       "      <td>10.497069</td>\n",
       "      <td>19.369147</td>\n",
       "      <td>34.118526</td>\n",
       "      <td>16.250511</td>\n",
       "      <td>3.049646</td>\n",
       "      <td>6.733907</td>\n",
       "      <td>2.353017</td>\n",
       "      <td>1576.166671</td>\n",
       "      <td>-500.904965</td>\n",
       "      <td>1575.950626</td>\n",
       "      <td>-499.865889</td>\n",
       "      <td>1575.994189</td>\n",
       "      <td>-499.315107</td>\n",
       "      <td>1574.479259</td>\n",
       "      <td>-498.931665</td>\n",
       "      <td>42050.861809</td>\n",
       "      <td>3498.370979</td>\n",
       "      <td>3489.981857</td>\n",
       "      <td>2.858998</td>\n",
       "      <td>6.161113</td>\n",
       "      <td>2.266033</td>\n",
       "      <td>525.290581</td>\n",
       "      <td>57.278666</td>\n",
       "      <td>35.753385</td>\n",
       "      <td>6.478583</td>\n",
       "      <td>11.971193</td>\n",
       "      <td>6.005766</td>\n",
       "      <td>11.996163</td>\n",
       "      <td>6.012594</td>\n",
       "      <td>11.615865</td>\n",
       "      <td>7.278807</td>\n",
       "      <td>28.067063</td>\n",
       "      <td>20.050975</td>\n",
       "      <td>86.843261</td>\n",
       "      <td>4.955378</td>\n",
       "      <td>0.536689</td>\n",
       "      <td>18.965234</td>\n",
       "      <td>1.184827</td>\n",
       "      <td>1000.286398</td>\n",
       "      <td>-400.065196</td>\n",
       "      <td>1600.754587</td>\n",
       "      <td>-449.953435</td>\n",
       "      <td>1600.479580</td>\n",
       "      <td>-449.830646</td>\n",
       "      <td>1600.527589</td>\n",
       "      <td>-449.953649</td>\n",
       "      <td>1399.227084</td>\n",
       "      <td>-450.869848</td>\n",
       "      <td>1399.719514</td>\n",
       "      <td>-450.119001</td>\n",
       "      <td>14.265474</td>\n",
       "      <td>4.592547</td>\n",
       "      <td>9.001494</td>\n",
       "      <td>2.488248</td>\n",
       "      <td>25.880539</td>\n",
       "      <td>-499.989656</td>\n",
       "      <td>23.889530</td>\n",
       "      <td>-500.372428</td>\n",
       "      <td>23.970550</td>\n",
       "      <td>-500.085473</td>\n",
       "      <td>22.085714</td>\n",
       "      <td>-499.446897</td>\n",
       "      <td>13.992281</td>\n",
       "      <td>-505.503262</td>\n",
       "      <td>11.950531</td>\n",
       "      <td>-501.331529</td>\n",
       "      <td>10.039245</td>\n",
       "      <td>-500.169983</td>\n",
       "      <td>7.984757</td>\n",
       "      <td>-500.582168</td>\n",
       "      <td>13.998353</td>\n",
       "      <td>-599.787184</td>\n",
       "    </tr>\n",
       "    <tr>\n",
       "      <th>2016-01-15 02:00:00</th>\n",
       "      <td>6.055926</td>\n",
       "      <td>10.213995</td>\n",
       "      <td>5.383759</td>\n",
       "      <td>42.657501</td>\n",
       "      <td>68.116445</td>\n",
       "      <td>10.507046</td>\n",
       "      <td>0.953716</td>\n",
       "      <td>16.208849</td>\n",
       "      <td>2.257889</td>\n",
       "      <td>123.819808</td>\n",
       "      <td>11.316280</td>\n",
       "      <td>7.25</td>\n",
       "      <td>0.991265</td>\n",
       "      <td>8.603505</td>\n",
       "      <td>10.354494</td>\n",
       "      <td>19.167579</td>\n",
       "      <td>33.969464</td>\n",
       "      <td>16.491823</td>\n",
       "      <td>3.124664</td>\n",
       "      <td>6.471768</td>\n",
       "      <td>2.416800</td>\n",
       "      <td>1601.556163</td>\n",
       "      <td>-499.997791</td>\n",
       "      <td>1600.386685</td>\n",
       "      <td>-500.607762</td>\n",
       "      <td>1602.003542</td>\n",
       "      <td>-500.870069</td>\n",
       "      <td>1599.541515</td>\n",
       "      <td>-499.827444</td>\n",
       "      <td>42018.101184</td>\n",
       "      <td>3495.348910</td>\n",
       "      <td>3502.359819</td>\n",
       "      <td>2.945989</td>\n",
       "      <td>6.116455</td>\n",
       "      <td>2.159622</td>\n",
       "      <td>530.026610</td>\n",
       "      <td>57.510649</td>\n",
       "      <td>35.971630</td>\n",
       "      <td>6.362222</td>\n",
       "      <td>11.920603</td>\n",
       "      <td>6.197377</td>\n",
       "      <td>11.920305</td>\n",
       "      <td>6.204633</td>\n",
       "      <td>11.695753</td>\n",
       "      <td>7.216833</td>\n",
       "      <td>27.454037</td>\n",
       "      <td>19.737170</td>\n",
       "      <td>86.842308</td>\n",
       "      <td>4.843460</td>\n",
       "      <td>0.546416</td>\n",
       "      <td>18.808533</td>\n",
       "      <td>1.162562</td>\n",
       "      <td>999.719565</td>\n",
       "      <td>-400.074028</td>\n",
       "      <td>1599.337330</td>\n",
       "      <td>-450.008530</td>\n",
       "      <td>1599.672797</td>\n",
       "      <td>-449.954491</td>\n",
       "      <td>1599.849325</td>\n",
       "      <td>-449.954185</td>\n",
       "      <td>1399.180945</td>\n",
       "      <td>-449.937588</td>\n",
       "      <td>1400.316682</td>\n",
       "      <td>-450.527147</td>\n",
       "      <td>14.115662</td>\n",
       "      <td>4.624775</td>\n",
       "      <td>8.842896</td>\n",
       "      <td>2.458187</td>\n",
       "      <td>26.005245</td>\n",
       "      <td>-499.929616</td>\n",
       "      <td>23.886657</td>\n",
       "      <td>-499.951928</td>\n",
       "      <td>23.913535</td>\n",
       "      <td>-499.442343</td>\n",
       "      <td>23.957717</td>\n",
       "      <td>-499.901982</td>\n",
       "      <td>14.015015</td>\n",
       "      <td>-502.520901</td>\n",
       "      <td>11.912783</td>\n",
       "      <td>-501.133383</td>\n",
       "      <td>10.070913</td>\n",
       "      <td>-500.129135</td>\n",
       "      <td>8.013877</td>\n",
       "      <td>-500.517572</td>\n",
       "      <td>14.028663</td>\n",
       "      <td>-601.427363</td>\n",
       "    </tr>\n",
       "    <tr>\n",
       "      <th>2016-01-15 03:00:00</th>\n",
       "      <td>6.047977</td>\n",
       "      <td>9.977019</td>\n",
       "      <td>4.858634</td>\n",
       "      <td>42.689819</td>\n",
       "      <td>68.347543</td>\n",
       "      <td>10.422762</td>\n",
       "      <td>0.883763</td>\n",
       "      <td>16.532835</td>\n",
       "      <td>2.146849</td>\n",
       "      <td>122.270188</td>\n",
       "      <td>11.322140</td>\n",
       "      <td>7.25</td>\n",
       "      <td>0.996739</td>\n",
       "      <td>7.221879</td>\n",
       "      <td>8.496563</td>\n",
       "      <td>15.978538</td>\n",
       "      <td>28.260743</td>\n",
       "      <td>16.024359</td>\n",
       "      <td>2.960362</td>\n",
       "      <td>6.843791</td>\n",
       "      <td>2.262051</td>\n",
       "      <td>1599.968720</td>\n",
       "      <td>-500.951778</td>\n",
       "      <td>1600.659236</td>\n",
       "      <td>-499.677094</td>\n",
       "      <td>1600.304144</td>\n",
       "      <td>-500.727997</td>\n",
       "      <td>1600.449520</td>\n",
       "      <td>-500.052575</td>\n",
       "      <td>42029.447991</td>\n",
       "      <td>3498.578313</td>\n",
       "      <td>3499.162912</td>\n",
       "      <td>3.002340</td>\n",
       "      <td>6.043309</td>\n",
       "      <td>2.037807</td>\n",
       "      <td>542.590390</td>\n",
       "      <td>57.792734</td>\n",
       "      <td>36.862241</td>\n",
       "      <td>6.118189</td>\n",
       "      <td>11.630094</td>\n",
       "      <td>6.203177</td>\n",
       "      <td>11.692450</td>\n",
       "      <td>6.196578</td>\n",
       "      <td>11.915047</td>\n",
       "      <td>7.175616</td>\n",
       "      <td>27.341277</td>\n",
       "      <td>19.320810</td>\n",
       "      <td>87.226430</td>\n",
       "      <td>4.655288</td>\n",
       "      <td>0.542525</td>\n",
       "      <td>19.330200</td>\n",
       "      <td>1.079755</td>\n",
       "      <td>999.814770</td>\n",
       "      <td>-400.200179</td>\n",
       "      <td>1600.059442</td>\n",
       "      <td>-450.619948</td>\n",
       "      <td>1600.012842</td>\n",
       "      <td>-449.910497</td>\n",
       "      <td>1597.725177</td>\n",
       "      <td>-450.130127</td>\n",
       "      <td>1400.943157</td>\n",
       "      <td>-450.030142</td>\n",
       "      <td>1400.234743</td>\n",
       "      <td>-449.790835</td>\n",
       "      <td>13.732071</td>\n",
       "      <td>4.482453</td>\n",
       "      <td>9.122857</td>\n",
       "      <td>2.322062</td>\n",
       "      <td>25.942508</td>\n",
       "      <td>-499.176749</td>\n",
       "      <td>23.955516</td>\n",
       "      <td>-499.848796</td>\n",
       "      <td>23.966838</td>\n",
       "      <td>-500.008812</td>\n",
       "      <td>23.954443</td>\n",
       "      <td>-499.944710</td>\n",
       "      <td>14.036510</td>\n",
       "      <td>-500.857308</td>\n",
       "      <td>11.999550</td>\n",
       "      <td>-501.193686</td>\n",
       "      <td>9.970366</td>\n",
       "      <td>-499.201640</td>\n",
       "      <td>7.977324</td>\n",
       "      <td>-500.255908</td>\n",
       "      <td>14.005551</td>\n",
       "      <td>-599.996129</td>\n",
       "    </tr>\n",
       "    <tr>\n",
       "      <th>2016-01-15 04:00:00</th>\n",
       "      <td>6.148599</td>\n",
       "      <td>10.142511</td>\n",
       "      <td>4.939416</td>\n",
       "      <td>42.774141</td>\n",
       "      <td>66.927016</td>\n",
       "      <td>10.360302</td>\n",
       "      <td>0.792826</td>\n",
       "      <td>16.525686</td>\n",
       "      <td>2.055292</td>\n",
       "      <td>117.988169</td>\n",
       "      <td>11.913613</td>\n",
       "      <td>7.25</td>\n",
       "      <td>1.009869</td>\n",
       "      <td>9.089428</td>\n",
       "      <td>9.986786</td>\n",
       "      <td>19.199864</td>\n",
       "      <td>33.044932</td>\n",
       "      <td>16.480185</td>\n",
       "      <td>3.112100</td>\n",
       "      <td>6.550154</td>\n",
       "      <td>2.277073</td>\n",
       "      <td>1601.339707</td>\n",
       "      <td>-498.975456</td>\n",
       "      <td>1601.437854</td>\n",
       "      <td>-500.323246</td>\n",
       "      <td>1599.581894</td>\n",
       "      <td>-500.888152</td>\n",
       "      <td>1602.649541</td>\n",
       "      <td>-500.593010</td>\n",
       "      <td>42125.354245</td>\n",
       "      <td>3494.800771</td>\n",
       "      <td>3506.679315</td>\n",
       "      <td>3.169615</td>\n",
       "      <td>6.060915</td>\n",
       "      <td>1.786875</td>\n",
       "      <td>540.531893</td>\n",
       "      <td>56.047189</td>\n",
       "      <td>34.347666</td>\n",
       "      <td>5.663707</td>\n",
       "      <td>10.957755</td>\n",
       "      <td>6.198826</td>\n",
       "      <td>10.960521</td>\n",
       "      <td>6.194897</td>\n",
       "      <td>12.411054</td>\n",
       "      <td>7.240205</td>\n",
       "      <td>27.041023</td>\n",
       "      <td>19.216101</td>\n",
       "      <td>86.688794</td>\n",
       "      <td>4.552800</td>\n",
       "      <td>0.515438</td>\n",
       "      <td>19.267422</td>\n",
       "      <td>1.012642</td>\n",
       "      <td>999.678690</td>\n",
       "      <td>-399.752729</td>\n",
       "      <td>1600.208824</td>\n",
       "      <td>-449.599614</td>\n",
       "      <td>1600.357732</td>\n",
       "      <td>-450.034364</td>\n",
       "      <td>1599.759049</td>\n",
       "      <td>-449.909799</td>\n",
       "      <td>1401.560902</td>\n",
       "      <td>-448.877187</td>\n",
       "      <td>1401.160227</td>\n",
       "      <td>-450.407128</td>\n",
       "      <td>14.079996</td>\n",
       "      <td>4.470737</td>\n",
       "      <td>8.871028</td>\n",
       "      <td>2.330448</td>\n",
       "      <td>26.024787</td>\n",
       "      <td>-500.279091</td>\n",
       "      <td>23.955345</td>\n",
       "      <td>-500.593614</td>\n",
       "      <td>23.985703</td>\n",
       "      <td>-500.083811</td>\n",
       "      <td>23.958945</td>\n",
       "      <td>-499.990309</td>\n",
       "      <td>14.027298</td>\n",
       "      <td>-499.838632</td>\n",
       "      <td>11.953070</td>\n",
       "      <td>-501.053894</td>\n",
       "      <td>9.925709</td>\n",
       "      <td>-501.686727</td>\n",
       "      <td>7.894242</td>\n",
       "      <td>-500.356035</td>\n",
       "      <td>13.996647</td>\n",
       "      <td>-601.496691</td>\n",
       "    </tr>\n",
       "  </tbody>\n",
       "</table>\n",
       "</div>"
      ],
      "text/plain": [
       "                     final.output.concentrate_ag  final.output.concentrate_pb  \\\n",
       "date                                                                            \n",
       "2016-01-15 00:00:00                     6.055403                     9.889648   \n",
       "2016-01-15 01:00:00                     6.029369                     9.968944   \n",
       "2016-01-15 02:00:00                     6.055926                    10.213995   \n",
       "2016-01-15 03:00:00                     6.047977                     9.977019   \n",
       "2016-01-15 04:00:00                     6.148599                    10.142511   \n",
       "\n",
       "                     final.output.concentrate_sol  \\\n",
       "date                                                \n",
       "2016-01-15 00:00:00                      5.507324   \n",
       "2016-01-15 01:00:00                      5.257781   \n",
       "2016-01-15 02:00:00                      5.383759   \n",
       "2016-01-15 03:00:00                      4.858634   \n",
       "2016-01-15 04:00:00                      4.939416   \n",
       "\n",
       "                     final.output.concentrate_au  final.output.recovery  \\\n",
       "date                                                                      \n",
       "2016-01-15 00:00:00                    42.192020              70.541216   \n",
       "2016-01-15 01:00:00                    42.701629              69.266198   \n",
       "2016-01-15 02:00:00                    42.657501              68.116445   \n",
       "2016-01-15 03:00:00                    42.689819              68.347543   \n",
       "2016-01-15 04:00:00                    42.774141              66.927016   \n",
       "\n",
       "                     final.output.tail_ag  final.output.tail_pb  \\\n",
       "date                                                              \n",
       "2016-01-15 00:00:00             10.411962              0.895447   \n",
       "2016-01-15 01:00:00             10.462676              0.927452   \n",
       "2016-01-15 02:00:00             10.507046              0.953716   \n",
       "2016-01-15 03:00:00             10.422762              0.883763   \n",
       "2016-01-15 04:00:00             10.360302              0.792826   \n",
       "\n",
       "                     final.output.tail_sol  final.output.tail_au  \\\n",
       "date                                                               \n",
       "2016-01-15 00:00:00              16.904297              2.143149   \n",
       "2016-01-15 01:00:00              16.634514              2.224930   \n",
       "2016-01-15 02:00:00              16.208849              2.257889   \n",
       "2016-01-15 03:00:00              16.532835              2.146849   \n",
       "2016-01-15 04:00:00              16.525686              2.055292   \n",
       "\n",
       "                     primary_cleaner.input.sulfate  \\\n",
       "date                                                 \n",
       "2016-01-15 00:00:00                     127.092003   \n",
       "2016-01-15 01:00:00                     125.629232   \n",
       "2016-01-15 02:00:00                     123.819808   \n",
       "2016-01-15 03:00:00                     122.270188   \n",
       "2016-01-15 04:00:00                     117.988169   \n",
       "\n",
       "                     primary_cleaner.input.depressant  \\\n",
       "date                                                    \n",
       "2016-01-15 00:00:00                         10.128295   \n",
       "2016-01-15 01:00:00                         10.296251   \n",
       "2016-01-15 02:00:00                         11.316280   \n",
       "2016-01-15 03:00:00                         11.322140   \n",
       "2016-01-15 04:00:00                         11.913613   \n",
       "\n",
       "                     primary_cleaner.input.feed_size  \\\n",
       "date                                                   \n",
       "2016-01-15 00:00:00                             7.25   \n",
       "2016-01-15 01:00:00                             7.25   \n",
       "2016-01-15 02:00:00                             7.25   \n",
       "2016-01-15 03:00:00                             7.25   \n",
       "2016-01-15 04:00:00                             7.25   \n",
       "\n",
       "                     primary_cleaner.input.xanthate  \\\n",
       "date                                                  \n",
       "2016-01-15 00:00:00                        0.988759   \n",
       "2016-01-15 01:00:00                        1.002663   \n",
       "2016-01-15 02:00:00                        0.991265   \n",
       "2016-01-15 03:00:00                        0.996739   \n",
       "2016-01-15 04:00:00                        1.009869   \n",
       "\n",
       "                     primary_cleaner.output.concentrate_ag  \\\n",
       "date                                                         \n",
       "2016-01-15 00:00:00                               8.547551   \n",
       "2016-01-15 01:00:00                               8.558743   \n",
       "2016-01-15 02:00:00                               8.603505   \n",
       "2016-01-15 03:00:00                               7.221879   \n",
       "2016-01-15 04:00:00                               9.089428   \n",
       "\n",
       "                     primary_cleaner.output.concentrate_pb  \\\n",
       "date                                                         \n",
       "2016-01-15 00:00:00                              10.389648   \n",
       "2016-01-15 01:00:00                              10.497069   \n",
       "2016-01-15 02:00:00                              10.354494   \n",
       "2016-01-15 03:00:00                               8.496563   \n",
       "2016-01-15 04:00:00                               9.986786   \n",
       "\n",
       "                     primary_cleaner.output.concentrate_sol  \\\n",
       "date                                                          \n",
       "2016-01-15 00:00:00                               19.529297   \n",
       "2016-01-15 01:00:00                               19.369147   \n",
       "2016-01-15 02:00:00                               19.167579   \n",
       "2016-01-15 03:00:00                               15.978538   \n",
       "2016-01-15 04:00:00                               19.199864   \n",
       "\n",
       "                     primary_cleaner.output.concentrate_au  \\\n",
       "date                                                         \n",
       "2016-01-15 00:00:00                              34.174427   \n",
       "2016-01-15 01:00:00                              34.118526   \n",
       "2016-01-15 02:00:00                              33.969464   \n",
       "2016-01-15 03:00:00                              28.260743   \n",
       "2016-01-15 04:00:00                              33.044932   \n",
       "\n",
       "                     primary_cleaner.output.tail_ag  \\\n",
       "date                                                  \n",
       "2016-01-15 00:00:00                       14.936526   \n",
       "2016-01-15 01:00:00                       16.250511   \n",
       "2016-01-15 02:00:00                       16.491823   \n",
       "2016-01-15 03:00:00                       16.024359   \n",
       "2016-01-15 04:00:00                       16.480185   \n",
       "\n",
       "                     primary_cleaner.output.tail_pb  \\\n",
       "date                                                  \n",
       "2016-01-15 00:00:00                        2.534912   \n",
       "2016-01-15 01:00:00                        3.049646   \n",
       "2016-01-15 02:00:00                        3.124664   \n",
       "2016-01-15 03:00:00                        2.960362   \n",
       "2016-01-15 04:00:00                        3.112100   \n",
       "\n",
       "                     primary_cleaner.output.tail_sol  \\\n",
       "date                                                   \n",
       "2016-01-15 00:00:00                         7.476074   \n",
       "2016-01-15 01:00:00                         6.733907   \n",
       "2016-01-15 02:00:00                         6.471768   \n",
       "2016-01-15 03:00:00                         6.843791   \n",
       "2016-01-15 04:00:00                         6.550154   \n",
       "\n",
       "                     primary_cleaner.output.tail_au  \\\n",
       "date                                                  \n",
       "2016-01-15 00:00:00                        2.106679   \n",
       "2016-01-15 01:00:00                        2.353017   \n",
       "2016-01-15 02:00:00                        2.416800   \n",
       "2016-01-15 03:00:00                        2.262051   \n",
       "2016-01-15 04:00:00                        2.277073   \n",
       "\n",
       "                     primary_cleaner.state.floatbank8_a_air  \\\n",
       "date                                                          \n",
       "2016-01-15 00:00:00                             1549.775757   \n",
       "2016-01-15 01:00:00                             1576.166671   \n",
       "2016-01-15 02:00:00                             1601.556163   \n",
       "2016-01-15 03:00:00                             1599.968720   \n",
       "2016-01-15 04:00:00                             1601.339707   \n",
       "\n",
       "                     primary_cleaner.state.floatbank8_a_level  \\\n",
       "date                                                            \n",
       "2016-01-15 00:00:00                               -498.912140   \n",
       "2016-01-15 01:00:00                               -500.904965   \n",
       "2016-01-15 02:00:00                               -499.997791   \n",
       "2016-01-15 03:00:00                               -500.951778   \n",
       "2016-01-15 04:00:00                               -498.975456   \n",
       "\n",
       "                     primary_cleaner.state.floatbank8_b_air  \\\n",
       "date                                                          \n",
       "2016-01-15 00:00:00                             1551.434204   \n",
       "2016-01-15 01:00:00                             1575.950626   \n",
       "2016-01-15 02:00:00                             1600.386685   \n",
       "2016-01-15 03:00:00                             1600.659236   \n",
       "2016-01-15 04:00:00                             1601.437854   \n",
       "\n",
       "                     primary_cleaner.state.floatbank8_b_level  \\\n",
       "date                                                            \n",
       "2016-01-15 00:00:00                               -516.403442   \n",
       "2016-01-15 01:00:00                               -499.865889   \n",
       "2016-01-15 02:00:00                               -500.607762   \n",
       "2016-01-15 03:00:00                               -499.677094   \n",
       "2016-01-15 04:00:00                               -500.323246   \n",
       "\n",
       "                     primary_cleaner.state.floatbank8_c_air  \\\n",
       "date                                                          \n",
       "2016-01-15 00:00:00                             1549.873901   \n",
       "2016-01-15 01:00:00                             1575.994189   \n",
       "2016-01-15 02:00:00                             1602.003542   \n",
       "2016-01-15 03:00:00                             1600.304144   \n",
       "2016-01-15 04:00:00                             1599.581894   \n",
       "\n",
       "                     primary_cleaner.state.floatbank8_c_level  \\\n",
       "date                                                            \n",
       "2016-01-15 00:00:00                               -498.666595   \n",
       "2016-01-15 01:00:00                               -499.315107   \n",
       "2016-01-15 02:00:00                               -500.870069   \n",
       "2016-01-15 03:00:00                               -500.727997   \n",
       "2016-01-15 04:00:00                               -500.888152   \n",
       "\n",
       "                     primary_cleaner.state.floatbank8_d_air  \\\n",
       "date                                                          \n",
       "2016-01-15 00:00:00                             1554.367432   \n",
       "2016-01-15 01:00:00                             1574.479259   \n",
       "2016-01-15 02:00:00                             1599.541515   \n",
       "2016-01-15 03:00:00                             1600.449520   \n",
       "2016-01-15 04:00:00                             1602.649541   \n",
       "\n",
       "                     primary_cleaner.state.floatbank8_d_level  \\\n",
       "date                                                            \n",
       "2016-01-15 00:00:00                               -493.428131   \n",
       "2016-01-15 01:00:00                               -498.931665   \n",
       "2016-01-15 02:00:00                               -499.827444   \n",
       "2016-01-15 03:00:00                               -500.052575   \n",
       "2016-01-15 04:00:00                               -500.593010   \n",
       "\n",
       "                     rougher.calculation.sulfate_to_au_concentrate  \\\n",
       "date                                                                 \n",
       "2016-01-15 00:00:00                                   41885.707031   \n",
       "2016-01-15 01:00:00                                   42050.861809   \n",
       "2016-01-15 02:00:00                                   42018.101184   \n",
       "2016-01-15 03:00:00                                   42029.447991   \n",
       "2016-01-15 04:00:00                                   42125.354245   \n",
       "\n",
       "                     rougher.calculation.floatbank10_sulfate_to_au_feed  \\\n",
       "date                                                                      \n",
       "2016-01-15 00:00:00                                        3481.779053    \n",
       "2016-01-15 01:00:00                                        3498.370979    \n",
       "2016-01-15 02:00:00                                        3495.348910    \n",
       "2016-01-15 03:00:00                                        3498.578313    \n",
       "2016-01-15 04:00:00                                        3494.800771    \n",
       "\n",
       "                     rougher.calculation.floatbank11_sulfate_to_au_feed  \\\n",
       "date                                                                      \n",
       "2016-01-15 00:00:00                                        3520.337158    \n",
       "2016-01-15 01:00:00                                        3489.981857    \n",
       "2016-01-15 02:00:00                                        3502.359819    \n",
       "2016-01-15 03:00:00                                        3499.162912    \n",
       "2016-01-15 04:00:00                                        3506.679315    \n",
       "\n",
       "                     rougher.calculation.au_pb_ratio  rougher.input.feed_ag  \\\n",
       "date                                                                          \n",
       "2016-01-15 00:00:00                         2.838687               6.100378   \n",
       "2016-01-15 01:00:00                         2.858998               6.161113   \n",
       "2016-01-15 02:00:00                         2.945989               6.116455   \n",
       "2016-01-15 03:00:00                         3.002340               6.043309   \n",
       "2016-01-15 04:00:00                         3.169615               6.060915   \n",
       "\n",
       "                     rougher.input.feed_pb  rougher.input.feed_rate  \\\n",
       "date                                                                  \n",
       "2016-01-15 00:00:00               2.284912               523.546326   \n",
       "2016-01-15 01:00:00               2.266033               525.290581   \n",
       "2016-01-15 02:00:00               2.159622               530.026610   \n",
       "2016-01-15 03:00:00               2.037807               542.590390   \n",
       "2016-01-15 04:00:00               1.786875               540.531893   \n",
       "\n",
       "                     rougher.input.feed_size  rougher.input.feed_sol  \\\n",
       "date                                                                   \n",
       "2016-01-15 00:00:00                55.486599               36.808594   \n",
       "2016-01-15 01:00:00                57.278666               35.753385   \n",
       "2016-01-15 02:00:00                57.510649               35.971630   \n",
       "2016-01-15 03:00:00                57.792734               36.862241   \n",
       "2016-01-15 04:00:00                56.047189               34.347666   \n",
       "\n",
       "                     rougher.input.feed_au  rougher.input.floatbank10_sulfate  \\\n",
       "date                                                                            \n",
       "2016-01-15 00:00:00               6.486150                          11.986616   \n",
       "2016-01-15 01:00:00               6.478583                          11.971193   \n",
       "2016-01-15 02:00:00               6.362222                          11.920603   \n",
       "2016-01-15 03:00:00               6.118189                          11.630094   \n",
       "2016-01-15 04:00:00               5.663707                          10.957755   \n",
       "\n",
       "                     rougher.input.floatbank10_xanthate  \\\n",
       "date                                                      \n",
       "2016-01-15 00:00:00                            6.007990   \n",
       "2016-01-15 01:00:00                            6.005766   \n",
       "2016-01-15 02:00:00                            6.197377   \n",
       "2016-01-15 03:00:00                            6.203177   \n",
       "2016-01-15 04:00:00                            6.198826   \n",
       "\n",
       "                     rougher.input.floatbank11_sulfate  \\\n",
       "date                                                     \n",
       "2016-01-15 00:00:00                          11.836743   \n",
       "2016-01-15 01:00:00                          11.996163   \n",
       "2016-01-15 02:00:00                          11.920305   \n",
       "2016-01-15 03:00:00                          11.692450   \n",
       "2016-01-15 04:00:00                          10.960521   \n",
       "\n",
       "                     rougher.input.floatbank11_xanthate  \\\n",
       "date                                                      \n",
       "2016-01-15 00:00:00                            6.005818   \n",
       "2016-01-15 01:00:00                            6.012594   \n",
       "2016-01-15 02:00:00                            6.204633   \n",
       "2016-01-15 03:00:00                            6.196578   \n",
       "2016-01-15 04:00:00                            6.194897   \n",
       "\n",
       "                     rougher.output.concentrate_ag  \\\n",
       "date                                                 \n",
       "2016-01-15 00:00:00                      11.500771   \n",
       "2016-01-15 01:00:00                      11.615865   \n",
       "2016-01-15 02:00:00                      11.695753   \n",
       "2016-01-15 03:00:00                      11.915047   \n",
       "2016-01-15 04:00:00                      12.411054   \n",
       "\n",
       "                     rougher.output.concentrate_pb  \\\n",
       "date                                                 \n",
       "2016-01-15 00:00:00                       7.101074   \n",
       "2016-01-15 01:00:00                       7.278807   \n",
       "2016-01-15 02:00:00                       7.216833   \n",
       "2016-01-15 03:00:00                       7.175616   \n",
       "2016-01-15 04:00:00                       7.240205   \n",
       "\n",
       "                     rougher.output.concentrate_sol  \\\n",
       "date                                                  \n",
       "2016-01-15 00:00:00                       28.029297   \n",
       "2016-01-15 01:00:00                       28.067063   \n",
       "2016-01-15 02:00:00                       27.454037   \n",
       "2016-01-15 03:00:00                       27.341277   \n",
       "2016-01-15 04:00:00                       27.041023   \n",
       "\n",
       "                     rougher.output.concentrate_au  rougher.output.recovery  \\\n",
       "date                                                                          \n",
       "2016-01-15 00:00:00                      19.793808                87.107763   \n",
       "2016-01-15 01:00:00                      20.050975                86.843261   \n",
       "2016-01-15 02:00:00                      19.737170                86.842308   \n",
       "2016-01-15 03:00:00                      19.320810                87.226430   \n",
       "2016-01-15 04:00:00                      19.216101                86.688794   \n",
       "\n",
       "                     rougher.output.tail_ag  rougher.output.tail_pb  \\\n",
       "date                                                                  \n",
       "2016-01-15 00:00:00                5.008018                0.508728   \n",
       "2016-01-15 01:00:00                4.955378                0.536689   \n",
       "2016-01-15 02:00:00                4.843460                0.546416   \n",
       "2016-01-15 03:00:00                4.655288                0.542525   \n",
       "2016-01-15 04:00:00                4.552800                0.515438   \n",
       "\n",
       "                     rougher.output.tail_sol  rougher.output.tail_au  \\\n",
       "date                                                                   \n",
       "2016-01-15 00:00:00                19.154297                1.170244   \n",
       "2016-01-15 01:00:00                18.965234                1.184827   \n",
       "2016-01-15 02:00:00                18.808533                1.162562   \n",
       "2016-01-15 03:00:00                19.330200                1.079755   \n",
       "2016-01-15 04:00:00                19.267422                1.012642   \n",
       "\n",
       "                     rougher.state.floatbank10_a_air  \\\n",
       "date                                                   \n",
       "2016-01-15 00:00:00                       999.706909   \n",
       "2016-01-15 01:00:00                      1000.286398   \n",
       "2016-01-15 02:00:00                       999.719565   \n",
       "2016-01-15 03:00:00                       999.814770   \n",
       "2016-01-15 04:00:00                       999.678690   \n",
       "\n",
       "                     rougher.state.floatbank10_a_level  \\\n",
       "date                                                     \n",
       "2016-01-15 00:00:00                        -404.066986   \n",
       "2016-01-15 01:00:00                        -400.065196   \n",
       "2016-01-15 02:00:00                        -400.074028   \n",
       "2016-01-15 03:00:00                        -400.200179   \n",
       "2016-01-15 04:00:00                        -399.752729   \n",
       "\n",
       "                     rougher.state.floatbank10_b_air  \\\n",
       "date                                                   \n",
       "2016-01-15 00:00:00                      1603.011353   \n",
       "2016-01-15 01:00:00                      1600.754587   \n",
       "2016-01-15 02:00:00                      1599.337330   \n",
       "2016-01-15 03:00:00                      1600.059442   \n",
       "2016-01-15 04:00:00                      1600.208824   \n",
       "\n",
       "                     rougher.state.floatbank10_b_level  \\\n",
       "date                                                     \n",
       "2016-01-15 00:00:00                        -434.715027   \n",
       "2016-01-15 01:00:00                        -449.953435   \n",
       "2016-01-15 02:00:00                        -450.008530   \n",
       "2016-01-15 03:00:00                        -450.619948   \n",
       "2016-01-15 04:00:00                        -449.599614   \n",
       "\n",
       "                     rougher.state.floatbank10_c_air  \\\n",
       "date                                                   \n",
       "2016-01-15 00:00:00                      1602.375000   \n",
       "2016-01-15 01:00:00                      1600.479580   \n",
       "2016-01-15 02:00:00                      1599.672797   \n",
       "2016-01-15 03:00:00                      1600.012842   \n",
       "2016-01-15 04:00:00                      1600.357732   \n",
       "\n",
       "                     rougher.state.floatbank10_c_level  \\\n",
       "date                                                     \n",
       "2016-01-15 00:00:00                        -442.204468   \n",
       "2016-01-15 01:00:00                        -449.830646   \n",
       "2016-01-15 02:00:00                        -449.954491   \n",
       "2016-01-15 03:00:00                        -449.910497   \n",
       "2016-01-15 04:00:00                        -450.034364   \n",
       "\n",
       "                     rougher.state.floatbank10_d_air  \\\n",
       "date                                                   \n",
       "2016-01-15 00:00:00                      1598.937256   \n",
       "2016-01-15 01:00:00                      1600.527589   \n",
       "2016-01-15 02:00:00                      1599.849325   \n",
       "2016-01-15 03:00:00                      1597.725177   \n",
       "2016-01-15 04:00:00                      1599.759049   \n",
       "\n",
       "                     rougher.state.floatbank10_d_level  \\\n",
       "date                                                     \n",
       "2016-01-15 00:00:00                        -451.294128   \n",
       "2016-01-15 01:00:00                        -449.953649   \n",
       "2016-01-15 02:00:00                        -449.954185   \n",
       "2016-01-15 03:00:00                        -450.130127   \n",
       "2016-01-15 04:00:00                        -449.909799   \n",
       "\n",
       "                     rougher.state.floatbank10_e_air  \\\n",
       "date                                                   \n",
       "2016-01-15 00:00:00                      1404.472046   \n",
       "2016-01-15 01:00:00                      1399.227084   \n",
       "2016-01-15 02:00:00                      1399.180945   \n",
       "2016-01-15 03:00:00                      1400.943157   \n",
       "2016-01-15 04:00:00                      1401.560902   \n",
       "\n",
       "                     rougher.state.floatbank10_e_level  \\\n",
       "date                                                     \n",
       "2016-01-15 00:00:00                        -455.462982   \n",
       "2016-01-15 01:00:00                        -450.869848   \n",
       "2016-01-15 02:00:00                        -449.937588   \n",
       "2016-01-15 03:00:00                        -450.030142   \n",
       "2016-01-15 04:00:00                        -448.877187   \n",
       "\n",
       "                     rougher.state.floatbank10_f_air  \\\n",
       "date                                                   \n",
       "2016-01-15 00:00:00                      1416.354980   \n",
       "2016-01-15 01:00:00                      1399.719514   \n",
       "2016-01-15 02:00:00                      1400.316682   \n",
       "2016-01-15 03:00:00                      1400.234743   \n",
       "2016-01-15 04:00:00                      1401.160227   \n",
       "\n",
       "                     rougher.state.floatbank10_f_level  \\\n",
       "date                                                     \n",
       "2016-01-15 00:00:00                        -451.939636   \n",
       "2016-01-15 01:00:00                        -450.119001   \n",
       "2016-01-15 02:00:00                        -450.527147   \n",
       "2016-01-15 03:00:00                        -449.790835   \n",
       "2016-01-15 04:00:00                        -450.407128   \n",
       "\n",
       "                     secondary_cleaner.output.tail_ag  \\\n",
       "date                                                    \n",
       "2016-01-15 00:00:00                         14.500184   \n",
       "2016-01-15 01:00:00                         14.265474   \n",
       "2016-01-15 02:00:00                         14.115662   \n",
       "2016-01-15 03:00:00                         13.732071   \n",
       "2016-01-15 04:00:00                         14.079996   \n",
       "\n",
       "                     secondary_cleaner.output.tail_pb  \\\n",
       "date                                                    \n",
       "2016-01-15 00:00:00                          4.694824   \n",
       "2016-01-15 01:00:00                          4.592547   \n",
       "2016-01-15 02:00:00                          4.624775   \n",
       "2016-01-15 03:00:00                          4.482453   \n",
       "2016-01-15 04:00:00                          4.470737   \n",
       "\n",
       "                     secondary_cleaner.output.tail_sol  \\\n",
       "date                                                     \n",
       "2016-01-15 00:00:00                           8.764648   \n",
       "2016-01-15 01:00:00                           9.001494   \n",
       "2016-01-15 02:00:00                           8.842896   \n",
       "2016-01-15 03:00:00                           9.122857   \n",
       "2016-01-15 04:00:00                           8.871028   \n",
       "\n",
       "                     secondary_cleaner.output.tail_au  \\\n",
       "date                                                    \n",
       "2016-01-15 00:00:00                          2.606185   \n",
       "2016-01-15 01:00:00                          2.488248   \n",
       "2016-01-15 02:00:00                          2.458187   \n",
       "2016-01-15 03:00:00                          2.322062   \n",
       "2016-01-15 04:00:00                          2.330448   \n",
       "\n",
       "                     secondary_cleaner.state.floatbank2_a_air  \\\n",
       "date                                                            \n",
       "2016-01-15 00:00:00                                 25.853109   \n",
       "2016-01-15 01:00:00                                 25.880539   \n",
       "2016-01-15 02:00:00                                 26.005245   \n",
       "2016-01-15 03:00:00                                 25.942508   \n",
       "2016-01-15 04:00:00                                 26.024787   \n",
       "\n",
       "                     secondary_cleaner.state.floatbank2_a_level  \\\n",
       "date                                                              \n",
       "2016-01-15 00:00:00                                 -498.526489   \n",
       "2016-01-15 01:00:00                                 -499.989656   \n",
       "2016-01-15 02:00:00                                 -499.929616   \n",
       "2016-01-15 03:00:00                                 -499.176749   \n",
       "2016-01-15 04:00:00                                 -500.279091   \n",
       "\n",
       "                     secondary_cleaner.state.floatbank2_b_air  \\\n",
       "date                                                            \n",
       "2016-01-15 00:00:00                                 23.893660   \n",
       "2016-01-15 01:00:00                                 23.889530   \n",
       "2016-01-15 02:00:00                                 23.886657   \n",
       "2016-01-15 03:00:00                                 23.955516   \n",
       "2016-01-15 04:00:00                                 23.955345   \n",
       "\n",
       "                     secondary_cleaner.state.floatbank2_b_level  \\\n",
       "date                                                              \n",
       "2016-01-15 00:00:00                                 -501.406281   \n",
       "2016-01-15 01:00:00                                 -500.372428   \n",
       "2016-01-15 02:00:00                                 -499.951928   \n",
       "2016-01-15 03:00:00                                 -499.848796   \n",
       "2016-01-15 04:00:00                                 -500.593614   \n",
       "\n",
       "                     secondary_cleaner.state.floatbank3_a_air  \\\n",
       "date                                                            \n",
       "2016-01-15 00:00:00                                 23.961798   \n",
       "2016-01-15 01:00:00                                 23.970550   \n",
       "2016-01-15 02:00:00                                 23.913535   \n",
       "2016-01-15 03:00:00                                 23.966838   \n",
       "2016-01-15 04:00:00                                 23.985703   \n",
       "\n",
       "                     secondary_cleaner.state.floatbank3_a_level  \\\n",
       "date                                                              \n",
       "2016-01-15 00:00:00                                 -495.262817   \n",
       "2016-01-15 01:00:00                                 -500.085473   \n",
       "2016-01-15 02:00:00                                 -499.442343   \n",
       "2016-01-15 03:00:00                                 -500.008812   \n",
       "2016-01-15 04:00:00                                 -500.083811   \n",
       "\n",
       "                     secondary_cleaner.state.floatbank3_b_air  \\\n",
       "date                                                            \n",
       "2016-01-15 00:00:00                                 21.940409   \n",
       "2016-01-15 01:00:00                                 22.085714   \n",
       "2016-01-15 02:00:00                                 23.957717   \n",
       "2016-01-15 03:00:00                                 23.954443   \n",
       "2016-01-15 04:00:00                                 23.958945   \n",
       "\n",
       "                     secondary_cleaner.state.floatbank3_b_level  \\\n",
       "date                                                              \n",
       "2016-01-15 00:00:00                                 -499.340973   \n",
       "2016-01-15 01:00:00                                 -499.446897   \n",
       "2016-01-15 02:00:00                                 -499.901982   \n",
       "2016-01-15 03:00:00                                 -499.944710   \n",
       "2016-01-15 04:00:00                                 -499.990309   \n",
       "\n",
       "                     secondary_cleaner.state.floatbank4_a_air  \\\n",
       "date                                                            \n",
       "2016-01-15 00:00:00                                 14.016835   \n",
       "2016-01-15 01:00:00                                 13.992281   \n",
       "2016-01-15 02:00:00                                 14.015015   \n",
       "2016-01-15 03:00:00                                 14.036510   \n",
       "2016-01-15 04:00:00                                 14.027298   \n",
       "\n",
       "                     secondary_cleaner.state.floatbank4_a_level  \\\n",
       "date                                                              \n",
       "2016-01-15 00:00:00                                 -502.488007   \n",
       "2016-01-15 01:00:00                                 -505.503262   \n",
       "2016-01-15 02:00:00                                 -502.520901   \n",
       "2016-01-15 03:00:00                                 -500.857308   \n",
       "2016-01-15 04:00:00                                 -499.838632   \n",
       "\n",
       "                     secondary_cleaner.state.floatbank4_b_air  \\\n",
       "date                                                            \n",
       "2016-01-15 00:00:00                                 12.099931   \n",
       "2016-01-15 01:00:00                                 11.950531   \n",
       "2016-01-15 02:00:00                                 11.912783   \n",
       "2016-01-15 03:00:00                                 11.999550   \n",
       "2016-01-15 04:00:00                                 11.953070   \n",
       "\n",
       "                     secondary_cleaner.state.floatbank4_b_level  \\\n",
       "date                                                              \n",
       "2016-01-15 00:00:00                                 -504.715942   \n",
       "2016-01-15 01:00:00                                 -501.331529   \n",
       "2016-01-15 02:00:00                                 -501.133383   \n",
       "2016-01-15 03:00:00                                 -501.193686   \n",
       "2016-01-15 04:00:00                                 -501.053894   \n",
       "\n",
       "                     secondary_cleaner.state.floatbank5_a_air  \\\n",
       "date                                                            \n",
       "2016-01-15 00:00:00                                  9.925633   \n",
       "2016-01-15 01:00:00                                 10.039245   \n",
       "2016-01-15 02:00:00                                 10.070913   \n",
       "2016-01-15 03:00:00                                  9.970366   \n",
       "2016-01-15 04:00:00                                  9.925709   \n",
       "\n",
       "                     secondary_cleaner.state.floatbank5_a_level  \\\n",
       "date                                                              \n",
       "2016-01-15 00:00:00                                 -498.310211   \n",
       "2016-01-15 01:00:00                                 -500.169983   \n",
       "2016-01-15 02:00:00                                 -500.129135   \n",
       "2016-01-15 03:00:00                                 -499.201640   \n",
       "2016-01-15 04:00:00                                 -501.686727   \n",
       "\n",
       "                     secondary_cleaner.state.floatbank5_b_air  \\\n",
       "date                                                            \n",
       "2016-01-15 00:00:00                                  8.079666   \n",
       "2016-01-15 01:00:00                                  7.984757   \n",
       "2016-01-15 02:00:00                                  8.013877   \n",
       "2016-01-15 03:00:00                                  7.977324   \n",
       "2016-01-15 04:00:00                                  7.894242   \n",
       "\n",
       "                     secondary_cleaner.state.floatbank5_b_level  \\\n",
       "date                                                              \n",
       "2016-01-15 00:00:00                                 -500.470978   \n",
       "2016-01-15 01:00:00                                 -500.582168   \n",
       "2016-01-15 02:00:00                                 -500.517572   \n",
       "2016-01-15 03:00:00                                 -500.255908   \n",
       "2016-01-15 04:00:00                                 -500.356035   \n",
       "\n",
       "                     secondary_cleaner.state.floatbank6_a_air  \\\n",
       "date                                                            \n",
       "2016-01-15 00:00:00                                 14.151341   \n",
       "2016-01-15 01:00:00                                 13.998353   \n",
       "2016-01-15 02:00:00                                 14.028663   \n",
       "2016-01-15 03:00:00                                 14.005551   \n",
       "2016-01-15 04:00:00                                 13.996647   \n",
       "\n",
       "                     secondary_cleaner.state.floatbank6_a_level  \n",
       "date                                                             \n",
       "2016-01-15 00:00:00                                 -605.841980  \n",
       "2016-01-15 01:00:00                                 -599.787184  \n",
       "2016-01-15 02:00:00                                 -601.427363  \n",
       "2016-01-15 03:00:00                                 -599.996129  \n",
       "2016-01-15 04:00:00                                 -601.496691  "
      ]
     },
     "execution_count": 3,
     "metadata": {},
     "output_type": "execute_result"
    }
   ],
   "source": [
    "train_data = pd.read_csv(os.path.join('..', 'datasets', 'gold_recovery_train_new.csv'), index_col='date')\n",
    "train_data.head()"
   ]
  },
  {
   "cell_type": "code",
   "execution_count": 4,
   "metadata": {},
   "outputs": [
    {
     "name": "stdout",
     "output_type": "stream",
     "text": [
      "<class 'pandas.core.frame.DataFrame'>\n",
      "Index: 14149 entries, 2016-01-15 00:00:00 to 2018-08-18 10:59:59\n",
      "Data columns (total 86 columns):\n",
      " #   Column                                              Non-Null Count  Dtype  \n",
      "---  ------                                              --------------  -----  \n",
      " 0   final.output.concentrate_ag                         14148 non-null  float64\n",
      " 1   final.output.concentrate_pb                         14148 non-null  float64\n",
      " 2   final.output.concentrate_sol                        13938 non-null  float64\n",
      " 3   final.output.concentrate_au                         14149 non-null  float64\n",
      " 4   final.output.recovery                               14149 non-null  float64\n",
      " 5   final.output.tail_ag                                14149 non-null  float64\n",
      " 6   final.output.tail_pb                                14049 non-null  float64\n",
      " 7   final.output.tail_sol                               14144 non-null  float64\n",
      " 8   final.output.tail_au                                14149 non-null  float64\n",
      " 9   primary_cleaner.input.sulfate                       14129 non-null  float64\n",
      " 10  primary_cleaner.input.depressant                    14117 non-null  float64\n",
      " 11  primary_cleaner.input.feed_size                     14149 non-null  float64\n",
      " 12  primary_cleaner.input.xanthate                      14049 non-null  float64\n",
      " 13  primary_cleaner.output.concentrate_ag               14149 non-null  float64\n",
      " 14  primary_cleaner.output.concentrate_pb               14063 non-null  float64\n",
      " 15  primary_cleaner.output.concentrate_sol              13863 non-null  float64\n",
      " 16  primary_cleaner.output.concentrate_au               14149 non-null  float64\n",
      " 17  primary_cleaner.output.tail_ag                      14148 non-null  float64\n",
      " 18  primary_cleaner.output.tail_pb                      14134 non-null  float64\n",
      " 19  primary_cleaner.output.tail_sol                     14103 non-null  float64\n",
      " 20  primary_cleaner.output.tail_au                      14149 non-null  float64\n",
      " 21  primary_cleaner.state.floatbank8_a_air              14145 non-null  float64\n",
      " 22  primary_cleaner.state.floatbank8_a_level            14148 non-null  float64\n",
      " 23  primary_cleaner.state.floatbank8_b_air              14145 non-null  float64\n",
      " 24  primary_cleaner.state.floatbank8_b_level            14148 non-null  float64\n",
      " 25  primary_cleaner.state.floatbank8_c_air              14147 non-null  float64\n",
      " 26  primary_cleaner.state.floatbank8_c_level            14148 non-null  float64\n",
      " 27  primary_cleaner.state.floatbank8_d_air              14146 non-null  float64\n",
      " 28  primary_cleaner.state.floatbank8_d_level            14148 non-null  float64\n",
      " 29  rougher.calculation.sulfate_to_au_concentrate       14148 non-null  float64\n",
      " 30  rougher.calculation.floatbank10_sulfate_to_au_feed  14148 non-null  float64\n",
      " 31  rougher.calculation.floatbank11_sulfate_to_au_feed  14148 non-null  float64\n",
      " 32  rougher.calculation.au_pb_ratio                     14149 non-null  float64\n",
      " 33  rougher.input.feed_ag                               14149 non-null  float64\n",
      " 34  rougher.input.feed_pb                               14049 non-null  float64\n",
      " 35  rougher.input.feed_rate                             14141 non-null  float64\n",
      " 36  rougher.input.feed_size                             14005 non-null  float64\n",
      " 37  rougher.input.feed_sol                              14071 non-null  float64\n",
      " 38  rougher.input.feed_au                               14149 non-null  float64\n",
      " 39  rougher.input.floatbank10_sulfate                   14120 non-null  float64\n",
      " 40  rougher.input.floatbank10_xanthate                  14141 non-null  float64\n",
      " 41  rougher.input.floatbank11_sulfate                   14113 non-null  float64\n",
      " 42  rougher.input.floatbank11_xanthate                  13721 non-null  float64\n",
      " 43  rougher.output.concentrate_ag                       14149 non-null  float64\n",
      " 44  rougher.output.concentrate_pb                       14149 non-null  float64\n",
      " 45  rougher.output.concentrate_sol                      14127 non-null  float64\n",
      " 46  rougher.output.concentrate_au                       14149 non-null  float64\n",
      " 47  rougher.output.recovery                             14149 non-null  float64\n",
      " 48  rougher.output.tail_ag                              14148 non-null  float64\n",
      " 49  rougher.output.tail_pb                              14149 non-null  float64\n",
      " 50  rougher.output.tail_sol                             14149 non-null  float64\n",
      " 51  rougher.output.tail_au                              14149 non-null  float64\n",
      " 52  rougher.state.floatbank10_a_air                     14148 non-null  float64\n",
      " 53  rougher.state.floatbank10_a_level                   14148 non-null  float64\n",
      " 54  rougher.state.floatbank10_b_air                     14148 non-null  float64\n",
      " 55  rougher.state.floatbank10_b_level                   14148 non-null  float64\n",
      " 56  rougher.state.floatbank10_c_air                     14148 non-null  float64\n",
      " 57  rougher.state.floatbank10_c_level                   14148 non-null  float64\n",
      " 58  rougher.state.floatbank10_d_air                     14149 non-null  float64\n",
      " 59  rougher.state.floatbank10_d_level                   14149 non-null  float64\n",
      " 60  rougher.state.floatbank10_e_air                     13713 non-null  float64\n",
      " 61  rougher.state.floatbank10_e_level                   14149 non-null  float64\n",
      " 62  rougher.state.floatbank10_f_air                     14149 non-null  float64\n",
      " 63  rougher.state.floatbank10_f_level                   14149 non-null  float64\n",
      " 64  secondary_cleaner.output.tail_ag                    14147 non-null  float64\n",
      " 65  secondary_cleaner.output.tail_pb                    14139 non-null  float64\n",
      " 66  secondary_cleaner.output.tail_sol                   12544 non-null  float64\n",
      " 67  secondary_cleaner.output.tail_au                    14149 non-null  float64\n",
      " 68  secondary_cleaner.state.floatbank2_a_air            13932 non-null  float64\n",
      " 69  secondary_cleaner.state.floatbank2_a_level          14148 non-null  float64\n",
      " 70  secondary_cleaner.state.floatbank2_b_air            14128 non-null  float64\n",
      " 71  secondary_cleaner.state.floatbank2_b_level          14148 non-null  float64\n",
      " 72  secondary_cleaner.state.floatbank3_a_air            14145 non-null  float64\n",
      " 73  secondary_cleaner.state.floatbank3_a_level          14148 non-null  float64\n",
      " 74  secondary_cleaner.state.floatbank3_b_air            14148 non-null  float64\n",
      " 75  secondary_cleaner.state.floatbank3_b_level          14148 non-null  float64\n",
      " 76  secondary_cleaner.state.floatbank4_a_air            14143 non-null  float64\n",
      " 77  secondary_cleaner.state.floatbank4_a_level          14148 non-null  float64\n",
      " 78  secondary_cleaner.state.floatbank4_b_air            14148 non-null  float64\n",
      " 79  secondary_cleaner.state.floatbank4_b_level          14148 non-null  float64\n",
      " 80  secondary_cleaner.state.floatbank5_a_air            14148 non-null  float64\n",
      " 81  secondary_cleaner.state.floatbank5_a_level          14148 non-null  float64\n",
      " 82  secondary_cleaner.state.floatbank5_b_air            14148 non-null  float64\n",
      " 83  secondary_cleaner.state.floatbank5_b_level          14148 non-null  float64\n",
      " 84  secondary_cleaner.state.floatbank6_a_air            14147 non-null  float64\n",
      " 85  secondary_cleaner.state.floatbank6_a_level          14148 non-null  float64\n",
      "dtypes: float64(86)\n",
      "memory usage: 9.4+ MB\n"
     ]
    }
   ],
   "source": [
    "train_data.info()"
   ]
  },
  {
   "cell_type": "code",
   "execution_count": 5,
   "metadata": {},
   "outputs": [
    {
     "data": {
      "text/html": [
       "<div>\n",
       "<style scoped>\n",
       "    .dataframe tbody tr th:only-of-type {\n",
       "        vertical-align: middle;\n",
       "    }\n",
       "\n",
       "    .dataframe tbody tr th {\n",
       "        vertical-align: top;\n",
       "    }\n",
       "\n",
       "    .dataframe thead th {\n",
       "        text-align: right;\n",
       "    }\n",
       "</style>\n",
       "<table border=\"1\" class=\"dataframe\">\n",
       "  <thead>\n",
       "    <tr style=\"text-align: right;\">\n",
       "      <th></th>\n",
       "      <th>primary_cleaner.input.sulfate</th>\n",
       "      <th>primary_cleaner.input.depressant</th>\n",
       "      <th>primary_cleaner.input.feed_size</th>\n",
       "      <th>primary_cleaner.input.xanthate</th>\n",
       "      <th>primary_cleaner.state.floatbank8_a_air</th>\n",
       "      <th>primary_cleaner.state.floatbank8_a_level</th>\n",
       "      <th>primary_cleaner.state.floatbank8_b_air</th>\n",
       "      <th>primary_cleaner.state.floatbank8_b_level</th>\n",
       "      <th>primary_cleaner.state.floatbank8_c_air</th>\n",
       "      <th>primary_cleaner.state.floatbank8_c_level</th>\n",
       "      <th>primary_cleaner.state.floatbank8_d_air</th>\n",
       "      <th>primary_cleaner.state.floatbank8_d_level</th>\n",
       "      <th>rougher.input.feed_ag</th>\n",
       "      <th>rougher.input.feed_pb</th>\n",
       "      <th>rougher.input.feed_rate</th>\n",
       "      <th>rougher.input.feed_size</th>\n",
       "      <th>rougher.input.feed_sol</th>\n",
       "      <th>rougher.input.feed_au</th>\n",
       "      <th>rougher.input.floatbank10_sulfate</th>\n",
       "      <th>rougher.input.floatbank10_xanthate</th>\n",
       "      <th>rougher.input.floatbank11_sulfate</th>\n",
       "      <th>rougher.input.floatbank11_xanthate</th>\n",
       "      <th>rougher.state.floatbank10_a_air</th>\n",
       "      <th>rougher.state.floatbank10_a_level</th>\n",
       "      <th>rougher.state.floatbank10_b_air</th>\n",
       "      <th>rougher.state.floatbank10_b_level</th>\n",
       "      <th>rougher.state.floatbank10_c_air</th>\n",
       "      <th>rougher.state.floatbank10_c_level</th>\n",
       "      <th>rougher.state.floatbank10_d_air</th>\n",
       "      <th>rougher.state.floatbank10_d_level</th>\n",
       "      <th>rougher.state.floatbank10_e_air</th>\n",
       "      <th>rougher.state.floatbank10_e_level</th>\n",
       "      <th>rougher.state.floatbank10_f_air</th>\n",
       "      <th>rougher.state.floatbank10_f_level</th>\n",
       "      <th>secondary_cleaner.state.floatbank2_a_air</th>\n",
       "      <th>secondary_cleaner.state.floatbank2_a_level</th>\n",
       "      <th>secondary_cleaner.state.floatbank2_b_air</th>\n",
       "      <th>secondary_cleaner.state.floatbank2_b_level</th>\n",
       "      <th>secondary_cleaner.state.floatbank3_a_air</th>\n",
       "      <th>secondary_cleaner.state.floatbank3_a_level</th>\n",
       "      <th>secondary_cleaner.state.floatbank3_b_air</th>\n",
       "      <th>secondary_cleaner.state.floatbank3_b_level</th>\n",
       "      <th>secondary_cleaner.state.floatbank4_a_air</th>\n",
       "      <th>secondary_cleaner.state.floatbank4_a_level</th>\n",
       "      <th>secondary_cleaner.state.floatbank4_b_air</th>\n",
       "      <th>secondary_cleaner.state.floatbank4_b_level</th>\n",
       "      <th>secondary_cleaner.state.floatbank5_a_air</th>\n",
       "      <th>secondary_cleaner.state.floatbank5_a_level</th>\n",
       "      <th>secondary_cleaner.state.floatbank5_b_air</th>\n",
       "      <th>secondary_cleaner.state.floatbank5_b_level</th>\n",
       "      <th>secondary_cleaner.state.floatbank6_a_air</th>\n",
       "      <th>secondary_cleaner.state.floatbank6_a_level</th>\n",
       "    </tr>\n",
       "    <tr>\n",
       "      <th>date</th>\n",
       "      <th></th>\n",
       "      <th></th>\n",
       "      <th></th>\n",
       "      <th></th>\n",
       "      <th></th>\n",
       "      <th></th>\n",
       "      <th></th>\n",
       "      <th></th>\n",
       "      <th></th>\n",
       "      <th></th>\n",
       "      <th></th>\n",
       "      <th></th>\n",
       "      <th></th>\n",
       "      <th></th>\n",
       "      <th></th>\n",
       "      <th></th>\n",
       "      <th></th>\n",
       "      <th></th>\n",
       "      <th></th>\n",
       "      <th></th>\n",
       "      <th></th>\n",
       "      <th></th>\n",
       "      <th></th>\n",
       "      <th></th>\n",
       "      <th></th>\n",
       "      <th></th>\n",
       "      <th></th>\n",
       "      <th></th>\n",
       "      <th></th>\n",
       "      <th></th>\n",
       "      <th></th>\n",
       "      <th></th>\n",
       "      <th></th>\n",
       "      <th></th>\n",
       "      <th></th>\n",
       "      <th></th>\n",
       "      <th></th>\n",
       "      <th></th>\n",
       "      <th></th>\n",
       "      <th></th>\n",
       "      <th></th>\n",
       "      <th></th>\n",
       "      <th></th>\n",
       "      <th></th>\n",
       "      <th></th>\n",
       "      <th></th>\n",
       "      <th></th>\n",
       "      <th></th>\n",
       "      <th></th>\n",
       "      <th></th>\n",
       "      <th></th>\n",
       "      <th></th>\n",
       "    </tr>\n",
       "  </thead>\n",
       "  <tbody>\n",
       "    <tr>\n",
       "      <th>2016-09-01 00:59:59</th>\n",
       "      <td>210.800909</td>\n",
       "      <td>14.993118</td>\n",
       "      <td>8.080000</td>\n",
       "      <td>1.005021</td>\n",
       "      <td>1398.981301</td>\n",
       "      <td>-500.225577</td>\n",
       "      <td>1399.144926</td>\n",
       "      <td>-499.919735</td>\n",
       "      <td>1400.102998</td>\n",
       "      <td>-500.704369</td>\n",
       "      <td>1399.001695</td>\n",
       "      <td>-499.485144</td>\n",
       "      <td>13.128569</td>\n",
       "      <td>5.636710</td>\n",
       "      <td>489.793655</td>\n",
       "      <td>62.710452</td>\n",
       "      <td>42.022440</td>\n",
       "      <td>12.084103</td>\n",
       "      <td>16.922877</td>\n",
       "      <td>6.153479</td>\n",
       "      <td>16.867518</td>\n",
       "      <td>6.150709</td>\n",
       "      <td>1001.849317</td>\n",
       "      <td>-350.301265</td>\n",
       "      <td>1249.738612</td>\n",
       "      <td>-399.107531</td>\n",
       "      <td>1249.750520</td>\n",
       "      <td>-399.396730</td>\n",
       "      <td>1198.287855</td>\n",
       "      <td>-399.488594</td>\n",
       "      <td>999.472250</td>\n",
       "      <td>-399.530962</td>\n",
       "      <td>949.566189</td>\n",
       "      <td>-398.180807</td>\n",
       "      <td>24.938200</td>\n",
       "      <td>-500.490963</td>\n",
       "      <td>14.947607</td>\n",
       "      <td>-500.013837</td>\n",
       "      <td>20.018166</td>\n",
       "      <td>-450.395995</td>\n",
       "      <td>13.987058</td>\n",
       "      <td>-449.831513</td>\n",
       "      <td>12.023554</td>\n",
       "      <td>-497.795834</td>\n",
       "      <td>8.016656</td>\n",
       "      <td>-501.289139</td>\n",
       "      <td>7.946562</td>\n",
       "      <td>-432.317850</td>\n",
       "      <td>4.872511</td>\n",
       "      <td>-500.037437</td>\n",
       "      <td>26.705889</td>\n",
       "      <td>-499.709414</td>\n",
       "    </tr>\n",
       "    <tr>\n",
       "      <th>2016-09-01 01:59:59</th>\n",
       "      <td>215.392455</td>\n",
       "      <td>14.987471</td>\n",
       "      <td>8.080000</td>\n",
       "      <td>0.990469</td>\n",
       "      <td>1398.777912</td>\n",
       "      <td>-500.057435</td>\n",
       "      <td>1398.055362</td>\n",
       "      <td>-499.778182</td>\n",
       "      <td>1396.151033</td>\n",
       "      <td>-499.240168</td>\n",
       "      <td>1399.508091</td>\n",
       "      <td>-500.416324</td>\n",
       "      <td>13.036280</td>\n",
       "      <td>5.526065</td>\n",
       "      <td>490.104534</td>\n",
       "      <td>61.961163</td>\n",
       "      <td>41.187903</td>\n",
       "      <td>11.918977</td>\n",
       "      <td>17.002532</td>\n",
       "      <td>5.999043</td>\n",
       "      <td>16.996063</td>\n",
       "      <td>6.002315</td>\n",
       "      <td>998.690785</td>\n",
       "      <td>-350.425704</td>\n",
       "      <td>1248.395457</td>\n",
       "      <td>-399.946025</td>\n",
       "      <td>1249.514451</td>\n",
       "      <td>-399.630810</td>\n",
       "      <td>1200.506459</td>\n",
       "      <td>-399.942434</td>\n",
       "      <td>1000.002114</td>\n",
       "      <td>-399.491528</td>\n",
       "      <td>950.200009</td>\n",
       "      <td>-405.787514</td>\n",
       "      <td>24.923466</td>\n",
       "      <td>-499.813963</td>\n",
       "      <td>14.930873</td>\n",
       "      <td>-500.764452</td>\n",
       "      <td>19.988503</td>\n",
       "      <td>-450.114024</td>\n",
       "      <td>14.092981</td>\n",
       "      <td>-450.059163</td>\n",
       "      <td>12.058140</td>\n",
       "      <td>-498.695773</td>\n",
       "      <td>8.130979</td>\n",
       "      <td>-499.634209</td>\n",
       "      <td>7.958270</td>\n",
       "      <td>-525.839648</td>\n",
       "      <td>4.878850</td>\n",
       "      <td>-500.162375</td>\n",
       "      <td>25.019940</td>\n",
       "      <td>-499.819438</td>\n",
       "    </tr>\n",
       "    <tr>\n",
       "      <th>2016-09-01 02:59:59</th>\n",
       "      <td>215.259946</td>\n",
       "      <td>12.884934</td>\n",
       "      <td>7.786667</td>\n",
       "      <td>0.996043</td>\n",
       "      <td>1398.493666</td>\n",
       "      <td>-500.868360</td>\n",
       "      <td>1398.860436</td>\n",
       "      <td>-499.764529</td>\n",
       "      <td>1398.075709</td>\n",
       "      <td>-502.151509</td>\n",
       "      <td>1399.497088</td>\n",
       "      <td>-499.715479</td>\n",
       "      <td>13.138412</td>\n",
       "      <td>5.426561</td>\n",
       "      <td>489.617969</td>\n",
       "      <td>66.903807</td>\n",
       "      <td>42.546294</td>\n",
       "      <td>12.091332</td>\n",
       "      <td>16.992520</td>\n",
       "      <td>5.850632</td>\n",
       "      <td>16.982096</td>\n",
       "      <td>5.853594</td>\n",
       "      <td>998.516720</td>\n",
       "      <td>-349.783538</td>\n",
       "      <td>1247.440748</td>\n",
       "      <td>-400.264330</td>\n",
       "      <td>1248.207204</td>\n",
       "      <td>-401.074405</td>\n",
       "      <td>1199.770026</td>\n",
       "      <td>-400.790582</td>\n",
       "      <td>999.925519</td>\n",
       "      <td>-399.236999</td>\n",
       "      <td>950.320481</td>\n",
       "      <td>-400.864340</td>\n",
       "      <td>24.908732</td>\n",
       "      <td>-500.304035</td>\n",
       "      <td>14.996511</td>\n",
       "      <td>-500.993821</td>\n",
       "      <td>20.039689</td>\n",
       "      <td>-450.263164</td>\n",
       "      <td>14.077881</td>\n",
       "      <td>-449.660997</td>\n",
       "      <td>11.962366</td>\n",
       "      <td>-498.767484</td>\n",
       "      <td>8.096893</td>\n",
       "      <td>-500.827423</td>\n",
       "      <td>8.071056</td>\n",
       "      <td>-500.801673</td>\n",
       "      <td>4.905125</td>\n",
       "      <td>-499.828510</td>\n",
       "      <td>24.994862</td>\n",
       "      <td>-500.622559</td>\n",
       "    </tr>\n",
       "    <tr>\n",
       "      <th>2016-09-01 03:59:59</th>\n",
       "      <td>215.336236</td>\n",
       "      <td>12.006805</td>\n",
       "      <td>7.640000</td>\n",
       "      <td>0.863514</td>\n",
       "      <td>1399.618111</td>\n",
       "      <td>-498.863574</td>\n",
       "      <td>1397.440120</td>\n",
       "      <td>-499.211024</td>\n",
       "      <td>1400.129303</td>\n",
       "      <td>-498.355873</td>\n",
       "      <td>1401.065165</td>\n",
       "      <td>-501.038738</td>\n",
       "      <td>12.400507</td>\n",
       "      <td>5.114758</td>\n",
       "      <td>476.618130</td>\n",
       "      <td>59.865919</td>\n",
       "      <td>41.060195</td>\n",
       "      <td>12.181597</td>\n",
       "      <td>16.532144</td>\n",
       "      <td>5.801935</td>\n",
       "      <td>16.515277</td>\n",
       "      <td>5.803657</td>\n",
       "      <td>1000.276604</td>\n",
       "      <td>-350.172597</td>\n",
       "      <td>1251.322675</td>\n",
       "      <td>-398.655289</td>\n",
       "      <td>1250.493702</td>\n",
       "      <td>-399.746728</td>\n",
       "      <td>1199.398691</td>\n",
       "      <td>-397.503052</td>\n",
       "      <td>1001.930679</td>\n",
       "      <td>-400.437573</td>\n",
       "      <td>950.735324</td>\n",
       "      <td>-399.802986</td>\n",
       "      <td>24.893998</td>\n",
       "      <td>-499.382374</td>\n",
       "      <td>14.916674</td>\n",
       "      <td>-499.862299</td>\n",
       "      <td>20.031100</td>\n",
       "      <td>-449.372570</td>\n",
       "      <td>14.013968</td>\n",
       "      <td>-449.526900</td>\n",
       "      <td>12.033091</td>\n",
       "      <td>-498.350935</td>\n",
       "      <td>8.074946</td>\n",
       "      <td>-499.474407</td>\n",
       "      <td>7.897085</td>\n",
       "      <td>-500.868509</td>\n",
       "      <td>4.931400</td>\n",
       "      <td>-499.963623</td>\n",
       "      <td>24.948919</td>\n",
       "      <td>-498.709987</td>\n",
       "    </tr>\n",
       "    <tr>\n",
       "      <th>2016-09-01 04:59:59</th>\n",
       "      <td>199.099327</td>\n",
       "      <td>10.682530</td>\n",
       "      <td>7.530000</td>\n",
       "      <td>0.805575</td>\n",
       "      <td>1401.268123</td>\n",
       "      <td>-500.808305</td>\n",
       "      <td>1398.128818</td>\n",
       "      <td>-499.504543</td>\n",
       "      <td>1402.172226</td>\n",
       "      <td>-500.810606</td>\n",
       "      <td>1399.480508</td>\n",
       "      <td>-499.374053</td>\n",
       "      <td>11.327427</td>\n",
       "      <td>4.767383</td>\n",
       "      <td>488.248117</td>\n",
       "      <td>63.315324</td>\n",
       "      <td>41.269161</td>\n",
       "      <td>11.290425</td>\n",
       "      <td>13.607257</td>\n",
       "      <td>5.738081</td>\n",
       "      <td>13.650053</td>\n",
       "      <td>5.739634</td>\n",
       "      <td>996.541302</td>\n",
       "      <td>-350.562517</td>\n",
       "      <td>1304.658848</td>\n",
       "      <td>-399.511519</td>\n",
       "      <td>1306.455515</td>\n",
       "      <td>-399.050685</td>\n",
       "      <td>1248.699349</td>\n",
       "      <td>-400.876894</td>\n",
       "      <td>1058.839106</td>\n",
       "      <td>-398.988239</td>\n",
       "      <td>949.645313</td>\n",
       "      <td>-399.277632</td>\n",
       "      <td>24.886905</td>\n",
       "      <td>-499.357375</td>\n",
       "      <td>14.979233</td>\n",
       "      <td>-500.186804</td>\n",
       "      <td>19.962364</td>\n",
       "      <td>-450.638828</td>\n",
       "      <td>14.009245</td>\n",
       "      <td>-450.022259</td>\n",
       "      <td>12.025367</td>\n",
       "      <td>-500.786497</td>\n",
       "      <td>8.054678</td>\n",
       "      <td>-500.397500</td>\n",
       "      <td>8.107890</td>\n",
       "      <td>-509.526725</td>\n",
       "      <td>4.957674</td>\n",
       "      <td>-500.360026</td>\n",
       "      <td>25.003331</td>\n",
       "      <td>-500.856333</td>\n",
       "    </tr>\n",
       "  </tbody>\n",
       "</table>\n",
       "</div>"
      ],
      "text/plain": [
       "                     primary_cleaner.input.sulfate  \\\n",
       "date                                                 \n",
       "2016-09-01 00:59:59                     210.800909   \n",
       "2016-09-01 01:59:59                     215.392455   \n",
       "2016-09-01 02:59:59                     215.259946   \n",
       "2016-09-01 03:59:59                     215.336236   \n",
       "2016-09-01 04:59:59                     199.099327   \n",
       "\n",
       "                     primary_cleaner.input.depressant  \\\n",
       "date                                                    \n",
       "2016-09-01 00:59:59                         14.993118   \n",
       "2016-09-01 01:59:59                         14.987471   \n",
       "2016-09-01 02:59:59                         12.884934   \n",
       "2016-09-01 03:59:59                         12.006805   \n",
       "2016-09-01 04:59:59                         10.682530   \n",
       "\n",
       "                     primary_cleaner.input.feed_size  \\\n",
       "date                                                   \n",
       "2016-09-01 00:59:59                         8.080000   \n",
       "2016-09-01 01:59:59                         8.080000   \n",
       "2016-09-01 02:59:59                         7.786667   \n",
       "2016-09-01 03:59:59                         7.640000   \n",
       "2016-09-01 04:59:59                         7.530000   \n",
       "\n",
       "                     primary_cleaner.input.xanthate  \\\n",
       "date                                                  \n",
       "2016-09-01 00:59:59                        1.005021   \n",
       "2016-09-01 01:59:59                        0.990469   \n",
       "2016-09-01 02:59:59                        0.996043   \n",
       "2016-09-01 03:59:59                        0.863514   \n",
       "2016-09-01 04:59:59                        0.805575   \n",
       "\n",
       "                     primary_cleaner.state.floatbank8_a_air  \\\n",
       "date                                                          \n",
       "2016-09-01 00:59:59                             1398.981301   \n",
       "2016-09-01 01:59:59                             1398.777912   \n",
       "2016-09-01 02:59:59                             1398.493666   \n",
       "2016-09-01 03:59:59                             1399.618111   \n",
       "2016-09-01 04:59:59                             1401.268123   \n",
       "\n",
       "                     primary_cleaner.state.floatbank8_a_level  \\\n",
       "date                                                            \n",
       "2016-09-01 00:59:59                               -500.225577   \n",
       "2016-09-01 01:59:59                               -500.057435   \n",
       "2016-09-01 02:59:59                               -500.868360   \n",
       "2016-09-01 03:59:59                               -498.863574   \n",
       "2016-09-01 04:59:59                               -500.808305   \n",
       "\n",
       "                     primary_cleaner.state.floatbank8_b_air  \\\n",
       "date                                                          \n",
       "2016-09-01 00:59:59                             1399.144926   \n",
       "2016-09-01 01:59:59                             1398.055362   \n",
       "2016-09-01 02:59:59                             1398.860436   \n",
       "2016-09-01 03:59:59                             1397.440120   \n",
       "2016-09-01 04:59:59                             1398.128818   \n",
       "\n",
       "                     primary_cleaner.state.floatbank8_b_level  \\\n",
       "date                                                            \n",
       "2016-09-01 00:59:59                               -499.919735   \n",
       "2016-09-01 01:59:59                               -499.778182   \n",
       "2016-09-01 02:59:59                               -499.764529   \n",
       "2016-09-01 03:59:59                               -499.211024   \n",
       "2016-09-01 04:59:59                               -499.504543   \n",
       "\n",
       "                     primary_cleaner.state.floatbank8_c_air  \\\n",
       "date                                                          \n",
       "2016-09-01 00:59:59                             1400.102998   \n",
       "2016-09-01 01:59:59                             1396.151033   \n",
       "2016-09-01 02:59:59                             1398.075709   \n",
       "2016-09-01 03:59:59                             1400.129303   \n",
       "2016-09-01 04:59:59                             1402.172226   \n",
       "\n",
       "                     primary_cleaner.state.floatbank8_c_level  \\\n",
       "date                                                            \n",
       "2016-09-01 00:59:59                               -500.704369   \n",
       "2016-09-01 01:59:59                               -499.240168   \n",
       "2016-09-01 02:59:59                               -502.151509   \n",
       "2016-09-01 03:59:59                               -498.355873   \n",
       "2016-09-01 04:59:59                               -500.810606   \n",
       "\n",
       "                     primary_cleaner.state.floatbank8_d_air  \\\n",
       "date                                                          \n",
       "2016-09-01 00:59:59                             1399.001695   \n",
       "2016-09-01 01:59:59                             1399.508091   \n",
       "2016-09-01 02:59:59                             1399.497088   \n",
       "2016-09-01 03:59:59                             1401.065165   \n",
       "2016-09-01 04:59:59                             1399.480508   \n",
       "\n",
       "                     primary_cleaner.state.floatbank8_d_level  \\\n",
       "date                                                            \n",
       "2016-09-01 00:59:59                               -499.485144   \n",
       "2016-09-01 01:59:59                               -500.416324   \n",
       "2016-09-01 02:59:59                               -499.715479   \n",
       "2016-09-01 03:59:59                               -501.038738   \n",
       "2016-09-01 04:59:59                               -499.374053   \n",
       "\n",
       "                     rougher.input.feed_ag  rougher.input.feed_pb  \\\n",
       "date                                                                \n",
       "2016-09-01 00:59:59              13.128569               5.636710   \n",
       "2016-09-01 01:59:59              13.036280               5.526065   \n",
       "2016-09-01 02:59:59              13.138412               5.426561   \n",
       "2016-09-01 03:59:59              12.400507               5.114758   \n",
       "2016-09-01 04:59:59              11.327427               4.767383   \n",
       "\n",
       "                     rougher.input.feed_rate  rougher.input.feed_size  \\\n",
       "date                                                                    \n",
       "2016-09-01 00:59:59               489.793655                62.710452   \n",
       "2016-09-01 01:59:59               490.104534                61.961163   \n",
       "2016-09-01 02:59:59               489.617969                66.903807   \n",
       "2016-09-01 03:59:59               476.618130                59.865919   \n",
       "2016-09-01 04:59:59               488.248117                63.315324   \n",
       "\n",
       "                     rougher.input.feed_sol  rougher.input.feed_au  \\\n",
       "date                                                                 \n",
       "2016-09-01 00:59:59               42.022440              12.084103   \n",
       "2016-09-01 01:59:59               41.187903              11.918977   \n",
       "2016-09-01 02:59:59               42.546294              12.091332   \n",
       "2016-09-01 03:59:59               41.060195              12.181597   \n",
       "2016-09-01 04:59:59               41.269161              11.290425   \n",
       "\n",
       "                     rougher.input.floatbank10_sulfate  \\\n",
       "date                                                     \n",
       "2016-09-01 00:59:59                          16.922877   \n",
       "2016-09-01 01:59:59                          17.002532   \n",
       "2016-09-01 02:59:59                          16.992520   \n",
       "2016-09-01 03:59:59                          16.532144   \n",
       "2016-09-01 04:59:59                          13.607257   \n",
       "\n",
       "                     rougher.input.floatbank10_xanthate  \\\n",
       "date                                                      \n",
       "2016-09-01 00:59:59                            6.153479   \n",
       "2016-09-01 01:59:59                            5.999043   \n",
       "2016-09-01 02:59:59                            5.850632   \n",
       "2016-09-01 03:59:59                            5.801935   \n",
       "2016-09-01 04:59:59                            5.738081   \n",
       "\n",
       "                     rougher.input.floatbank11_sulfate  \\\n",
       "date                                                     \n",
       "2016-09-01 00:59:59                          16.867518   \n",
       "2016-09-01 01:59:59                          16.996063   \n",
       "2016-09-01 02:59:59                          16.982096   \n",
       "2016-09-01 03:59:59                          16.515277   \n",
       "2016-09-01 04:59:59                          13.650053   \n",
       "\n",
       "                     rougher.input.floatbank11_xanthate  \\\n",
       "date                                                      \n",
       "2016-09-01 00:59:59                            6.150709   \n",
       "2016-09-01 01:59:59                            6.002315   \n",
       "2016-09-01 02:59:59                            5.853594   \n",
       "2016-09-01 03:59:59                            5.803657   \n",
       "2016-09-01 04:59:59                            5.739634   \n",
       "\n",
       "                     rougher.state.floatbank10_a_air  \\\n",
       "date                                                   \n",
       "2016-09-01 00:59:59                      1001.849317   \n",
       "2016-09-01 01:59:59                       998.690785   \n",
       "2016-09-01 02:59:59                       998.516720   \n",
       "2016-09-01 03:59:59                      1000.276604   \n",
       "2016-09-01 04:59:59                       996.541302   \n",
       "\n",
       "                     rougher.state.floatbank10_a_level  \\\n",
       "date                                                     \n",
       "2016-09-01 00:59:59                        -350.301265   \n",
       "2016-09-01 01:59:59                        -350.425704   \n",
       "2016-09-01 02:59:59                        -349.783538   \n",
       "2016-09-01 03:59:59                        -350.172597   \n",
       "2016-09-01 04:59:59                        -350.562517   \n",
       "\n",
       "                     rougher.state.floatbank10_b_air  \\\n",
       "date                                                   \n",
       "2016-09-01 00:59:59                      1249.738612   \n",
       "2016-09-01 01:59:59                      1248.395457   \n",
       "2016-09-01 02:59:59                      1247.440748   \n",
       "2016-09-01 03:59:59                      1251.322675   \n",
       "2016-09-01 04:59:59                      1304.658848   \n",
       "\n",
       "                     rougher.state.floatbank10_b_level  \\\n",
       "date                                                     \n",
       "2016-09-01 00:59:59                        -399.107531   \n",
       "2016-09-01 01:59:59                        -399.946025   \n",
       "2016-09-01 02:59:59                        -400.264330   \n",
       "2016-09-01 03:59:59                        -398.655289   \n",
       "2016-09-01 04:59:59                        -399.511519   \n",
       "\n",
       "                     rougher.state.floatbank10_c_air  \\\n",
       "date                                                   \n",
       "2016-09-01 00:59:59                      1249.750520   \n",
       "2016-09-01 01:59:59                      1249.514451   \n",
       "2016-09-01 02:59:59                      1248.207204   \n",
       "2016-09-01 03:59:59                      1250.493702   \n",
       "2016-09-01 04:59:59                      1306.455515   \n",
       "\n",
       "                     rougher.state.floatbank10_c_level  \\\n",
       "date                                                     \n",
       "2016-09-01 00:59:59                        -399.396730   \n",
       "2016-09-01 01:59:59                        -399.630810   \n",
       "2016-09-01 02:59:59                        -401.074405   \n",
       "2016-09-01 03:59:59                        -399.746728   \n",
       "2016-09-01 04:59:59                        -399.050685   \n",
       "\n",
       "                     rougher.state.floatbank10_d_air  \\\n",
       "date                                                   \n",
       "2016-09-01 00:59:59                      1198.287855   \n",
       "2016-09-01 01:59:59                      1200.506459   \n",
       "2016-09-01 02:59:59                      1199.770026   \n",
       "2016-09-01 03:59:59                      1199.398691   \n",
       "2016-09-01 04:59:59                      1248.699349   \n",
       "\n",
       "                     rougher.state.floatbank10_d_level  \\\n",
       "date                                                     \n",
       "2016-09-01 00:59:59                        -399.488594   \n",
       "2016-09-01 01:59:59                        -399.942434   \n",
       "2016-09-01 02:59:59                        -400.790582   \n",
       "2016-09-01 03:59:59                        -397.503052   \n",
       "2016-09-01 04:59:59                        -400.876894   \n",
       "\n",
       "                     rougher.state.floatbank10_e_air  \\\n",
       "date                                                   \n",
       "2016-09-01 00:59:59                       999.472250   \n",
       "2016-09-01 01:59:59                      1000.002114   \n",
       "2016-09-01 02:59:59                       999.925519   \n",
       "2016-09-01 03:59:59                      1001.930679   \n",
       "2016-09-01 04:59:59                      1058.839106   \n",
       "\n",
       "                     rougher.state.floatbank10_e_level  \\\n",
       "date                                                     \n",
       "2016-09-01 00:59:59                        -399.530962   \n",
       "2016-09-01 01:59:59                        -399.491528   \n",
       "2016-09-01 02:59:59                        -399.236999   \n",
       "2016-09-01 03:59:59                        -400.437573   \n",
       "2016-09-01 04:59:59                        -398.988239   \n",
       "\n",
       "                     rougher.state.floatbank10_f_air  \\\n",
       "date                                                   \n",
       "2016-09-01 00:59:59                       949.566189   \n",
       "2016-09-01 01:59:59                       950.200009   \n",
       "2016-09-01 02:59:59                       950.320481   \n",
       "2016-09-01 03:59:59                       950.735324   \n",
       "2016-09-01 04:59:59                       949.645313   \n",
       "\n",
       "                     rougher.state.floatbank10_f_level  \\\n",
       "date                                                     \n",
       "2016-09-01 00:59:59                        -398.180807   \n",
       "2016-09-01 01:59:59                        -405.787514   \n",
       "2016-09-01 02:59:59                        -400.864340   \n",
       "2016-09-01 03:59:59                        -399.802986   \n",
       "2016-09-01 04:59:59                        -399.277632   \n",
       "\n",
       "                     secondary_cleaner.state.floatbank2_a_air  \\\n",
       "date                                                            \n",
       "2016-09-01 00:59:59                                 24.938200   \n",
       "2016-09-01 01:59:59                                 24.923466   \n",
       "2016-09-01 02:59:59                                 24.908732   \n",
       "2016-09-01 03:59:59                                 24.893998   \n",
       "2016-09-01 04:59:59                                 24.886905   \n",
       "\n",
       "                     secondary_cleaner.state.floatbank2_a_level  \\\n",
       "date                                                              \n",
       "2016-09-01 00:59:59                                 -500.490963   \n",
       "2016-09-01 01:59:59                                 -499.813963   \n",
       "2016-09-01 02:59:59                                 -500.304035   \n",
       "2016-09-01 03:59:59                                 -499.382374   \n",
       "2016-09-01 04:59:59                                 -499.357375   \n",
       "\n",
       "                     secondary_cleaner.state.floatbank2_b_air  \\\n",
       "date                                                            \n",
       "2016-09-01 00:59:59                                 14.947607   \n",
       "2016-09-01 01:59:59                                 14.930873   \n",
       "2016-09-01 02:59:59                                 14.996511   \n",
       "2016-09-01 03:59:59                                 14.916674   \n",
       "2016-09-01 04:59:59                                 14.979233   \n",
       "\n",
       "                     secondary_cleaner.state.floatbank2_b_level  \\\n",
       "date                                                              \n",
       "2016-09-01 00:59:59                                 -500.013837   \n",
       "2016-09-01 01:59:59                                 -500.764452   \n",
       "2016-09-01 02:59:59                                 -500.993821   \n",
       "2016-09-01 03:59:59                                 -499.862299   \n",
       "2016-09-01 04:59:59                                 -500.186804   \n",
       "\n",
       "                     secondary_cleaner.state.floatbank3_a_air  \\\n",
       "date                                                            \n",
       "2016-09-01 00:59:59                                 20.018166   \n",
       "2016-09-01 01:59:59                                 19.988503   \n",
       "2016-09-01 02:59:59                                 20.039689   \n",
       "2016-09-01 03:59:59                                 20.031100   \n",
       "2016-09-01 04:59:59                                 19.962364   \n",
       "\n",
       "                     secondary_cleaner.state.floatbank3_a_level  \\\n",
       "date                                                              \n",
       "2016-09-01 00:59:59                                 -450.395995   \n",
       "2016-09-01 01:59:59                                 -450.114024   \n",
       "2016-09-01 02:59:59                                 -450.263164   \n",
       "2016-09-01 03:59:59                                 -449.372570   \n",
       "2016-09-01 04:59:59                                 -450.638828   \n",
       "\n",
       "                     secondary_cleaner.state.floatbank3_b_air  \\\n",
       "date                                                            \n",
       "2016-09-01 00:59:59                                 13.987058   \n",
       "2016-09-01 01:59:59                                 14.092981   \n",
       "2016-09-01 02:59:59                                 14.077881   \n",
       "2016-09-01 03:59:59                                 14.013968   \n",
       "2016-09-01 04:59:59                                 14.009245   \n",
       "\n",
       "                     secondary_cleaner.state.floatbank3_b_level  \\\n",
       "date                                                              \n",
       "2016-09-01 00:59:59                                 -449.831513   \n",
       "2016-09-01 01:59:59                                 -450.059163   \n",
       "2016-09-01 02:59:59                                 -449.660997   \n",
       "2016-09-01 03:59:59                                 -449.526900   \n",
       "2016-09-01 04:59:59                                 -450.022259   \n",
       "\n",
       "                     secondary_cleaner.state.floatbank4_a_air  \\\n",
       "date                                                            \n",
       "2016-09-01 00:59:59                                 12.023554   \n",
       "2016-09-01 01:59:59                                 12.058140   \n",
       "2016-09-01 02:59:59                                 11.962366   \n",
       "2016-09-01 03:59:59                                 12.033091   \n",
       "2016-09-01 04:59:59                                 12.025367   \n",
       "\n",
       "                     secondary_cleaner.state.floatbank4_a_level  \\\n",
       "date                                                              \n",
       "2016-09-01 00:59:59                                 -497.795834   \n",
       "2016-09-01 01:59:59                                 -498.695773   \n",
       "2016-09-01 02:59:59                                 -498.767484   \n",
       "2016-09-01 03:59:59                                 -498.350935   \n",
       "2016-09-01 04:59:59                                 -500.786497   \n",
       "\n",
       "                     secondary_cleaner.state.floatbank4_b_air  \\\n",
       "date                                                            \n",
       "2016-09-01 00:59:59                                  8.016656   \n",
       "2016-09-01 01:59:59                                  8.130979   \n",
       "2016-09-01 02:59:59                                  8.096893   \n",
       "2016-09-01 03:59:59                                  8.074946   \n",
       "2016-09-01 04:59:59                                  8.054678   \n",
       "\n",
       "                     secondary_cleaner.state.floatbank4_b_level  \\\n",
       "date                                                              \n",
       "2016-09-01 00:59:59                                 -501.289139   \n",
       "2016-09-01 01:59:59                                 -499.634209   \n",
       "2016-09-01 02:59:59                                 -500.827423   \n",
       "2016-09-01 03:59:59                                 -499.474407   \n",
       "2016-09-01 04:59:59                                 -500.397500   \n",
       "\n",
       "                     secondary_cleaner.state.floatbank5_a_air  \\\n",
       "date                                                            \n",
       "2016-09-01 00:59:59                                  7.946562   \n",
       "2016-09-01 01:59:59                                  7.958270   \n",
       "2016-09-01 02:59:59                                  8.071056   \n",
       "2016-09-01 03:59:59                                  7.897085   \n",
       "2016-09-01 04:59:59                                  8.107890   \n",
       "\n",
       "                     secondary_cleaner.state.floatbank5_a_level  \\\n",
       "date                                                              \n",
       "2016-09-01 00:59:59                                 -432.317850   \n",
       "2016-09-01 01:59:59                                 -525.839648   \n",
       "2016-09-01 02:59:59                                 -500.801673   \n",
       "2016-09-01 03:59:59                                 -500.868509   \n",
       "2016-09-01 04:59:59                                 -509.526725   \n",
       "\n",
       "                     secondary_cleaner.state.floatbank5_b_air  \\\n",
       "date                                                            \n",
       "2016-09-01 00:59:59                                  4.872511   \n",
       "2016-09-01 01:59:59                                  4.878850   \n",
       "2016-09-01 02:59:59                                  4.905125   \n",
       "2016-09-01 03:59:59                                  4.931400   \n",
       "2016-09-01 04:59:59                                  4.957674   \n",
       "\n",
       "                     secondary_cleaner.state.floatbank5_b_level  \\\n",
       "date                                                              \n",
       "2016-09-01 00:59:59                                 -500.037437   \n",
       "2016-09-01 01:59:59                                 -500.162375   \n",
       "2016-09-01 02:59:59                                 -499.828510   \n",
       "2016-09-01 03:59:59                                 -499.963623   \n",
       "2016-09-01 04:59:59                                 -500.360026   \n",
       "\n",
       "                     secondary_cleaner.state.floatbank6_a_air  \\\n",
       "date                                                            \n",
       "2016-09-01 00:59:59                                 26.705889   \n",
       "2016-09-01 01:59:59                                 25.019940   \n",
       "2016-09-01 02:59:59                                 24.994862   \n",
       "2016-09-01 03:59:59                                 24.948919   \n",
       "2016-09-01 04:59:59                                 25.003331   \n",
       "\n",
       "                     secondary_cleaner.state.floatbank6_a_level  \n",
       "date                                                             \n",
       "2016-09-01 00:59:59                                 -499.709414  \n",
       "2016-09-01 01:59:59                                 -499.819438  \n",
       "2016-09-01 02:59:59                                 -500.622559  \n",
       "2016-09-01 03:59:59                                 -498.709987  \n",
       "2016-09-01 04:59:59                                 -500.856333  "
      ]
     },
     "execution_count": 5,
     "metadata": {},
     "output_type": "execute_result"
    }
   ],
   "source": [
    "test_data = pd.read_csv(os.path.join('..', 'datasets', 'gold_recovery_test_new.csv'), index_col='date')\n",
    "test_data.head()"
   ]
  },
  {
   "cell_type": "code",
   "execution_count": 6,
   "metadata": {},
   "outputs": [
    {
     "name": "stdout",
     "output_type": "stream",
     "text": [
      "<class 'pandas.core.frame.DataFrame'>\n",
      "Index: 5290 entries, 2016-09-01 00:59:59 to 2017-12-31 23:59:59\n",
      "Data columns (total 52 columns):\n",
      " #   Column                                      Non-Null Count  Dtype  \n",
      "---  ------                                      --------------  -----  \n",
      " 0   primary_cleaner.input.sulfate               5286 non-null   float64\n",
      " 1   primary_cleaner.input.depressant            5285 non-null   float64\n",
      " 2   primary_cleaner.input.feed_size             5290 non-null   float64\n",
      " 3   primary_cleaner.input.xanthate              5286 non-null   float64\n",
      " 4   primary_cleaner.state.floatbank8_a_air      5290 non-null   float64\n",
      " 5   primary_cleaner.state.floatbank8_a_level    5290 non-null   float64\n",
      " 6   primary_cleaner.state.floatbank8_b_air      5290 non-null   float64\n",
      " 7   primary_cleaner.state.floatbank8_b_level    5290 non-null   float64\n",
      " 8   primary_cleaner.state.floatbank8_c_air      5290 non-null   float64\n",
      " 9   primary_cleaner.state.floatbank8_c_level    5290 non-null   float64\n",
      " 10  primary_cleaner.state.floatbank8_d_air      5290 non-null   float64\n",
      " 11  primary_cleaner.state.floatbank8_d_level    5290 non-null   float64\n",
      " 12  rougher.input.feed_ag                       5290 non-null   float64\n",
      " 13  rougher.input.feed_pb                       5290 non-null   float64\n",
      " 14  rougher.input.feed_rate                     5287 non-null   float64\n",
      " 15  rougher.input.feed_size                     5289 non-null   float64\n",
      " 16  rougher.input.feed_sol                      5269 non-null   float64\n",
      " 17  rougher.input.feed_au                       5290 non-null   float64\n",
      " 18  rougher.input.floatbank10_sulfate           5285 non-null   float64\n",
      " 19  rougher.input.floatbank10_xanthate          5290 non-null   float64\n",
      " 20  rougher.input.floatbank11_sulfate           5282 non-null   float64\n",
      " 21  rougher.input.floatbank11_xanthate          5265 non-null   float64\n",
      " 22  rougher.state.floatbank10_a_air             5290 non-null   float64\n",
      " 23  rougher.state.floatbank10_a_level           5290 non-null   float64\n",
      " 24  rougher.state.floatbank10_b_air             5290 non-null   float64\n",
      " 25  rougher.state.floatbank10_b_level           5290 non-null   float64\n",
      " 26  rougher.state.floatbank10_c_air             5290 non-null   float64\n",
      " 27  rougher.state.floatbank10_c_level           5290 non-null   float64\n",
      " 28  rougher.state.floatbank10_d_air             5290 non-null   float64\n",
      " 29  rougher.state.floatbank10_d_level           5290 non-null   float64\n",
      " 30  rougher.state.floatbank10_e_air             5290 non-null   float64\n",
      " 31  rougher.state.floatbank10_e_level           5290 non-null   float64\n",
      " 32  rougher.state.floatbank10_f_air             5290 non-null   float64\n",
      " 33  rougher.state.floatbank10_f_level           5290 non-null   float64\n",
      " 34  secondary_cleaner.state.floatbank2_a_air    5287 non-null   float64\n",
      " 35  secondary_cleaner.state.floatbank2_a_level  5290 non-null   float64\n",
      " 36  secondary_cleaner.state.floatbank2_b_air    5288 non-null   float64\n",
      " 37  secondary_cleaner.state.floatbank2_b_level  5290 non-null   float64\n",
      " 38  secondary_cleaner.state.floatbank3_a_air    5281 non-null   float64\n",
      " 39  secondary_cleaner.state.floatbank3_a_level  5290 non-null   float64\n",
      " 40  secondary_cleaner.state.floatbank3_b_air    5290 non-null   float64\n",
      " 41  secondary_cleaner.state.floatbank3_b_level  5290 non-null   float64\n",
      " 42  secondary_cleaner.state.floatbank4_a_air    5290 non-null   float64\n",
      " 43  secondary_cleaner.state.floatbank4_a_level  5290 non-null   float64\n",
      " 44  secondary_cleaner.state.floatbank4_b_air    5290 non-null   float64\n",
      " 45  secondary_cleaner.state.floatbank4_b_level  5290 non-null   float64\n",
      " 46  secondary_cleaner.state.floatbank5_a_air    5290 non-null   float64\n",
      " 47  secondary_cleaner.state.floatbank5_a_level  5290 non-null   float64\n",
      " 48  secondary_cleaner.state.floatbank5_b_air    5290 non-null   float64\n",
      " 49  secondary_cleaner.state.floatbank5_b_level  5290 non-null   float64\n",
      " 50  secondary_cleaner.state.floatbank6_a_air    5290 non-null   float64\n",
      " 51  secondary_cleaner.state.floatbank6_a_level  5290 non-null   float64\n",
      "dtypes: float64(52)\n",
      "memory usage: 2.1+ MB\n"
     ]
    }
   ],
   "source": [
    "test_data.info()"
   ]
  },
  {
   "cell_type": "code",
   "execution_count": 7,
   "metadata": {},
   "outputs": [
    {
     "data": {
      "text/html": [
       "<div>\n",
       "<style scoped>\n",
       "    .dataframe tbody tr th:only-of-type {\n",
       "        vertical-align: middle;\n",
       "    }\n",
       "\n",
       "    .dataframe tbody tr th {\n",
       "        vertical-align: top;\n",
       "    }\n",
       "\n",
       "    .dataframe thead th {\n",
       "        text-align: right;\n",
       "    }\n",
       "</style>\n",
       "<table border=\"1\" class=\"dataframe\">\n",
       "  <thead>\n",
       "    <tr style=\"text-align: right;\">\n",
       "      <th></th>\n",
       "      <th>final.output.concentrate_ag</th>\n",
       "      <th>final.output.concentrate_pb</th>\n",
       "      <th>final.output.concentrate_sol</th>\n",
       "      <th>final.output.concentrate_au</th>\n",
       "      <th>final.output.recovery</th>\n",
       "      <th>final.output.tail_ag</th>\n",
       "      <th>final.output.tail_pb</th>\n",
       "      <th>final.output.tail_sol</th>\n",
       "      <th>final.output.tail_au</th>\n",
       "      <th>primary_cleaner.input.sulfate</th>\n",
       "      <th>primary_cleaner.input.depressant</th>\n",
       "      <th>primary_cleaner.input.feed_size</th>\n",
       "      <th>primary_cleaner.input.xanthate</th>\n",
       "      <th>primary_cleaner.output.concentrate_ag</th>\n",
       "      <th>primary_cleaner.output.concentrate_pb</th>\n",
       "      <th>primary_cleaner.output.concentrate_sol</th>\n",
       "      <th>primary_cleaner.output.concentrate_au</th>\n",
       "      <th>primary_cleaner.output.tail_ag</th>\n",
       "      <th>primary_cleaner.output.tail_pb</th>\n",
       "      <th>primary_cleaner.output.tail_sol</th>\n",
       "      <th>primary_cleaner.output.tail_au</th>\n",
       "      <th>primary_cleaner.state.floatbank8_a_air</th>\n",
       "      <th>primary_cleaner.state.floatbank8_a_level</th>\n",
       "      <th>primary_cleaner.state.floatbank8_b_air</th>\n",
       "      <th>primary_cleaner.state.floatbank8_b_level</th>\n",
       "      <th>primary_cleaner.state.floatbank8_c_air</th>\n",
       "      <th>primary_cleaner.state.floatbank8_c_level</th>\n",
       "      <th>primary_cleaner.state.floatbank8_d_air</th>\n",
       "      <th>primary_cleaner.state.floatbank8_d_level</th>\n",
       "      <th>rougher.calculation.sulfate_to_au_concentrate</th>\n",
       "      <th>rougher.calculation.floatbank10_sulfate_to_au_feed</th>\n",
       "      <th>rougher.calculation.floatbank11_sulfate_to_au_feed</th>\n",
       "      <th>rougher.calculation.au_pb_ratio</th>\n",
       "      <th>rougher.input.feed_ag</th>\n",
       "      <th>rougher.input.feed_pb</th>\n",
       "      <th>rougher.input.feed_rate</th>\n",
       "      <th>rougher.input.feed_size</th>\n",
       "      <th>rougher.input.feed_sol</th>\n",
       "      <th>rougher.input.feed_au</th>\n",
       "      <th>rougher.input.floatbank10_sulfate</th>\n",
       "      <th>rougher.input.floatbank10_xanthate</th>\n",
       "      <th>rougher.input.floatbank11_sulfate</th>\n",
       "      <th>rougher.input.floatbank11_xanthate</th>\n",
       "      <th>rougher.output.concentrate_ag</th>\n",
       "      <th>rougher.output.concentrate_pb</th>\n",
       "      <th>rougher.output.concentrate_sol</th>\n",
       "      <th>rougher.output.concentrate_au</th>\n",
       "      <th>rougher.output.recovery</th>\n",
       "      <th>rougher.output.tail_ag</th>\n",
       "      <th>rougher.output.tail_pb</th>\n",
       "      <th>rougher.output.tail_sol</th>\n",
       "      <th>rougher.output.tail_au</th>\n",
       "      <th>rougher.state.floatbank10_a_air</th>\n",
       "      <th>rougher.state.floatbank10_a_level</th>\n",
       "      <th>rougher.state.floatbank10_b_air</th>\n",
       "      <th>rougher.state.floatbank10_b_level</th>\n",
       "      <th>rougher.state.floatbank10_c_air</th>\n",
       "      <th>rougher.state.floatbank10_c_level</th>\n",
       "      <th>rougher.state.floatbank10_d_air</th>\n",
       "      <th>rougher.state.floatbank10_d_level</th>\n",
       "      <th>rougher.state.floatbank10_e_air</th>\n",
       "      <th>rougher.state.floatbank10_e_level</th>\n",
       "      <th>rougher.state.floatbank10_f_air</th>\n",
       "      <th>rougher.state.floatbank10_f_level</th>\n",
       "      <th>secondary_cleaner.output.tail_ag</th>\n",
       "      <th>secondary_cleaner.output.tail_pb</th>\n",
       "      <th>secondary_cleaner.output.tail_sol</th>\n",
       "      <th>secondary_cleaner.output.tail_au</th>\n",
       "      <th>secondary_cleaner.state.floatbank2_a_air</th>\n",
       "      <th>secondary_cleaner.state.floatbank2_a_level</th>\n",
       "      <th>secondary_cleaner.state.floatbank2_b_air</th>\n",
       "      <th>secondary_cleaner.state.floatbank2_b_level</th>\n",
       "      <th>secondary_cleaner.state.floatbank3_a_air</th>\n",
       "      <th>secondary_cleaner.state.floatbank3_a_level</th>\n",
       "      <th>secondary_cleaner.state.floatbank3_b_air</th>\n",
       "      <th>secondary_cleaner.state.floatbank3_b_level</th>\n",
       "      <th>secondary_cleaner.state.floatbank4_a_air</th>\n",
       "      <th>secondary_cleaner.state.floatbank4_a_level</th>\n",
       "      <th>secondary_cleaner.state.floatbank4_b_air</th>\n",
       "      <th>secondary_cleaner.state.floatbank4_b_level</th>\n",
       "      <th>secondary_cleaner.state.floatbank5_a_air</th>\n",
       "      <th>secondary_cleaner.state.floatbank5_a_level</th>\n",
       "      <th>secondary_cleaner.state.floatbank5_b_air</th>\n",
       "      <th>secondary_cleaner.state.floatbank5_b_level</th>\n",
       "      <th>secondary_cleaner.state.floatbank6_a_air</th>\n",
       "      <th>secondary_cleaner.state.floatbank6_a_level</th>\n",
       "    </tr>\n",
       "    <tr>\n",
       "      <th>date</th>\n",
       "      <th></th>\n",
       "      <th></th>\n",
       "      <th></th>\n",
       "      <th></th>\n",
       "      <th></th>\n",
       "      <th></th>\n",
       "      <th></th>\n",
       "      <th></th>\n",
       "      <th></th>\n",
       "      <th></th>\n",
       "      <th></th>\n",
       "      <th></th>\n",
       "      <th></th>\n",
       "      <th></th>\n",
       "      <th></th>\n",
       "      <th></th>\n",
       "      <th></th>\n",
       "      <th></th>\n",
       "      <th></th>\n",
       "      <th></th>\n",
       "      <th></th>\n",
       "      <th></th>\n",
       "      <th></th>\n",
       "      <th></th>\n",
       "      <th></th>\n",
       "      <th></th>\n",
       "      <th></th>\n",
       "      <th></th>\n",
       "      <th></th>\n",
       "      <th></th>\n",
       "      <th></th>\n",
       "      <th></th>\n",
       "      <th></th>\n",
       "      <th></th>\n",
       "      <th></th>\n",
       "      <th></th>\n",
       "      <th></th>\n",
       "      <th></th>\n",
       "      <th></th>\n",
       "      <th></th>\n",
       "      <th></th>\n",
       "      <th></th>\n",
       "      <th></th>\n",
       "      <th></th>\n",
       "      <th></th>\n",
       "      <th></th>\n",
       "      <th></th>\n",
       "      <th></th>\n",
       "      <th></th>\n",
       "      <th></th>\n",
       "      <th></th>\n",
       "      <th></th>\n",
       "      <th></th>\n",
       "      <th></th>\n",
       "      <th></th>\n",
       "      <th></th>\n",
       "      <th></th>\n",
       "      <th></th>\n",
       "      <th></th>\n",
       "      <th></th>\n",
       "      <th></th>\n",
       "      <th></th>\n",
       "      <th></th>\n",
       "      <th></th>\n",
       "      <th></th>\n",
       "      <th></th>\n",
       "      <th></th>\n",
       "      <th></th>\n",
       "      <th></th>\n",
       "      <th></th>\n",
       "      <th></th>\n",
       "      <th></th>\n",
       "      <th></th>\n",
       "      <th></th>\n",
       "      <th></th>\n",
       "      <th></th>\n",
       "      <th></th>\n",
       "      <th></th>\n",
       "      <th></th>\n",
       "      <th></th>\n",
       "      <th></th>\n",
       "      <th></th>\n",
       "      <th></th>\n",
       "      <th></th>\n",
       "      <th></th>\n",
       "      <th></th>\n",
       "    </tr>\n",
       "  </thead>\n",
       "  <tbody>\n",
       "    <tr>\n",
       "      <th>2016-01-15 00:00:00</th>\n",
       "      <td>6.055403</td>\n",
       "      <td>9.889648</td>\n",
       "      <td>5.507324</td>\n",
       "      <td>42.192020</td>\n",
       "      <td>70.541216</td>\n",
       "      <td>10.411962</td>\n",
       "      <td>0.895447</td>\n",
       "      <td>16.904297</td>\n",
       "      <td>2.143149</td>\n",
       "      <td>127.092003</td>\n",
       "      <td>10.128295</td>\n",
       "      <td>7.25</td>\n",
       "      <td>0.988759</td>\n",
       "      <td>8.547551</td>\n",
       "      <td>10.389648</td>\n",
       "      <td>19.529297</td>\n",
       "      <td>34.174427</td>\n",
       "      <td>14.936526</td>\n",
       "      <td>2.534912</td>\n",
       "      <td>7.476074</td>\n",
       "      <td>2.106679</td>\n",
       "      <td>1549.775757</td>\n",
       "      <td>-498.912140</td>\n",
       "      <td>1551.434204</td>\n",
       "      <td>-516.403442</td>\n",
       "      <td>1549.873901</td>\n",
       "      <td>-498.666595</td>\n",
       "      <td>1554.367432</td>\n",
       "      <td>-493.428131</td>\n",
       "      <td>41885.707031</td>\n",
       "      <td>3481.779053</td>\n",
       "      <td>3520.337158</td>\n",
       "      <td>2.838687</td>\n",
       "      <td>6.100378</td>\n",
       "      <td>2.284912</td>\n",
       "      <td>523.546326</td>\n",
       "      <td>55.486599</td>\n",
       "      <td>36.808594</td>\n",
       "      <td>6.486150</td>\n",
       "      <td>11.986616</td>\n",
       "      <td>6.007990</td>\n",
       "      <td>11.836743</td>\n",
       "      <td>6.005818</td>\n",
       "      <td>11.500771</td>\n",
       "      <td>7.101074</td>\n",
       "      <td>28.029297</td>\n",
       "      <td>19.793808</td>\n",
       "      <td>87.107763</td>\n",
       "      <td>5.008018</td>\n",
       "      <td>0.508728</td>\n",
       "      <td>19.154297</td>\n",
       "      <td>1.170244</td>\n",
       "      <td>999.706909</td>\n",
       "      <td>-404.066986</td>\n",
       "      <td>1603.011353</td>\n",
       "      <td>-434.715027</td>\n",
       "      <td>1602.375000</td>\n",
       "      <td>-442.204468</td>\n",
       "      <td>1598.937256</td>\n",
       "      <td>-451.294128</td>\n",
       "      <td>1404.472046</td>\n",
       "      <td>-455.462982</td>\n",
       "      <td>1416.354980</td>\n",
       "      <td>-451.939636</td>\n",
       "      <td>14.500184</td>\n",
       "      <td>4.694824</td>\n",
       "      <td>8.764648</td>\n",
       "      <td>2.606185</td>\n",
       "      <td>25.853109</td>\n",
       "      <td>-498.526489</td>\n",
       "      <td>23.893660</td>\n",
       "      <td>-501.406281</td>\n",
       "      <td>23.961798</td>\n",
       "      <td>-495.262817</td>\n",
       "      <td>21.940409</td>\n",
       "      <td>-499.340973</td>\n",
       "      <td>14.016835</td>\n",
       "      <td>-502.488007</td>\n",
       "      <td>12.099931</td>\n",
       "      <td>-504.715942</td>\n",
       "      <td>9.925633</td>\n",
       "      <td>-498.310211</td>\n",
       "      <td>8.079666</td>\n",
       "      <td>-500.470978</td>\n",
       "      <td>14.151341</td>\n",
       "      <td>-605.841980</td>\n",
       "    </tr>\n",
       "    <tr>\n",
       "      <th>2016-01-15 01:00:00</th>\n",
       "      <td>6.029369</td>\n",
       "      <td>9.968944</td>\n",
       "      <td>5.257781</td>\n",
       "      <td>42.701629</td>\n",
       "      <td>69.266198</td>\n",
       "      <td>10.462676</td>\n",
       "      <td>0.927452</td>\n",
       "      <td>16.634514</td>\n",
       "      <td>2.224930</td>\n",
       "      <td>125.629232</td>\n",
       "      <td>10.296251</td>\n",
       "      <td>7.25</td>\n",
       "      <td>1.002663</td>\n",
       "      <td>8.558743</td>\n",
       "      <td>10.497069</td>\n",
       "      <td>19.369147</td>\n",
       "      <td>34.118526</td>\n",
       "      <td>16.250511</td>\n",
       "      <td>3.049646</td>\n",
       "      <td>6.733907</td>\n",
       "      <td>2.353017</td>\n",
       "      <td>1576.166671</td>\n",
       "      <td>-500.904965</td>\n",
       "      <td>1575.950626</td>\n",
       "      <td>-499.865889</td>\n",
       "      <td>1575.994189</td>\n",
       "      <td>-499.315107</td>\n",
       "      <td>1574.479259</td>\n",
       "      <td>-498.931665</td>\n",
       "      <td>42050.861809</td>\n",
       "      <td>3498.370979</td>\n",
       "      <td>3489.981857</td>\n",
       "      <td>2.858998</td>\n",
       "      <td>6.161113</td>\n",
       "      <td>2.266033</td>\n",
       "      <td>525.290581</td>\n",
       "      <td>57.278666</td>\n",
       "      <td>35.753385</td>\n",
       "      <td>6.478583</td>\n",
       "      <td>11.971193</td>\n",
       "      <td>6.005766</td>\n",
       "      <td>11.996163</td>\n",
       "      <td>6.012594</td>\n",
       "      <td>11.615865</td>\n",
       "      <td>7.278807</td>\n",
       "      <td>28.067063</td>\n",
       "      <td>20.050975</td>\n",
       "      <td>86.843261</td>\n",
       "      <td>4.955378</td>\n",
       "      <td>0.536689</td>\n",
       "      <td>18.965234</td>\n",
       "      <td>1.184827</td>\n",
       "      <td>1000.286398</td>\n",
       "      <td>-400.065196</td>\n",
       "      <td>1600.754587</td>\n",
       "      <td>-449.953435</td>\n",
       "      <td>1600.479580</td>\n",
       "      <td>-449.830646</td>\n",
       "      <td>1600.527589</td>\n",
       "      <td>-449.953649</td>\n",
       "      <td>1399.227084</td>\n",
       "      <td>-450.869848</td>\n",
       "      <td>1399.719514</td>\n",
       "      <td>-450.119001</td>\n",
       "      <td>14.265474</td>\n",
       "      <td>4.592547</td>\n",
       "      <td>9.001494</td>\n",
       "      <td>2.488248</td>\n",
       "      <td>25.880539</td>\n",
       "      <td>-499.989656</td>\n",
       "      <td>23.889530</td>\n",
       "      <td>-500.372428</td>\n",
       "      <td>23.970550</td>\n",
       "      <td>-500.085473</td>\n",
       "      <td>22.085714</td>\n",
       "      <td>-499.446897</td>\n",
       "      <td>13.992281</td>\n",
       "      <td>-505.503262</td>\n",
       "      <td>11.950531</td>\n",
       "      <td>-501.331529</td>\n",
       "      <td>10.039245</td>\n",
       "      <td>-500.169983</td>\n",
       "      <td>7.984757</td>\n",
       "      <td>-500.582168</td>\n",
       "      <td>13.998353</td>\n",
       "      <td>-599.787184</td>\n",
       "    </tr>\n",
       "    <tr>\n",
       "      <th>2016-01-15 02:00:00</th>\n",
       "      <td>6.055926</td>\n",
       "      <td>10.213995</td>\n",
       "      <td>5.383759</td>\n",
       "      <td>42.657501</td>\n",
       "      <td>68.116445</td>\n",
       "      <td>10.507046</td>\n",
       "      <td>0.953716</td>\n",
       "      <td>16.208849</td>\n",
       "      <td>2.257889</td>\n",
       "      <td>123.819808</td>\n",
       "      <td>11.316280</td>\n",
       "      <td>7.25</td>\n",
       "      <td>0.991265</td>\n",
       "      <td>8.603505</td>\n",
       "      <td>10.354494</td>\n",
       "      <td>19.167579</td>\n",
       "      <td>33.969464</td>\n",
       "      <td>16.491823</td>\n",
       "      <td>3.124664</td>\n",
       "      <td>6.471768</td>\n",
       "      <td>2.416800</td>\n",
       "      <td>1601.556163</td>\n",
       "      <td>-499.997791</td>\n",
       "      <td>1600.386685</td>\n",
       "      <td>-500.607762</td>\n",
       "      <td>1602.003542</td>\n",
       "      <td>-500.870069</td>\n",
       "      <td>1599.541515</td>\n",
       "      <td>-499.827444</td>\n",
       "      <td>42018.101184</td>\n",
       "      <td>3495.348910</td>\n",
       "      <td>3502.359819</td>\n",
       "      <td>2.945989</td>\n",
       "      <td>6.116455</td>\n",
       "      <td>2.159622</td>\n",
       "      <td>530.026610</td>\n",
       "      <td>57.510649</td>\n",
       "      <td>35.971630</td>\n",
       "      <td>6.362222</td>\n",
       "      <td>11.920603</td>\n",
       "      <td>6.197377</td>\n",
       "      <td>11.920305</td>\n",
       "      <td>6.204633</td>\n",
       "      <td>11.695753</td>\n",
       "      <td>7.216833</td>\n",
       "      <td>27.454037</td>\n",
       "      <td>19.737170</td>\n",
       "      <td>86.842308</td>\n",
       "      <td>4.843460</td>\n",
       "      <td>0.546416</td>\n",
       "      <td>18.808533</td>\n",
       "      <td>1.162562</td>\n",
       "      <td>999.719565</td>\n",
       "      <td>-400.074028</td>\n",
       "      <td>1599.337330</td>\n",
       "      <td>-450.008530</td>\n",
       "      <td>1599.672797</td>\n",
       "      <td>-449.954491</td>\n",
       "      <td>1599.849325</td>\n",
       "      <td>-449.954185</td>\n",
       "      <td>1399.180945</td>\n",
       "      <td>-449.937588</td>\n",
       "      <td>1400.316682</td>\n",
       "      <td>-450.527147</td>\n",
       "      <td>14.115662</td>\n",
       "      <td>4.624775</td>\n",
       "      <td>8.842896</td>\n",
       "      <td>2.458187</td>\n",
       "      <td>26.005245</td>\n",
       "      <td>-499.929616</td>\n",
       "      <td>23.886657</td>\n",
       "      <td>-499.951928</td>\n",
       "      <td>23.913535</td>\n",
       "      <td>-499.442343</td>\n",
       "      <td>23.957717</td>\n",
       "      <td>-499.901982</td>\n",
       "      <td>14.015015</td>\n",
       "      <td>-502.520901</td>\n",
       "      <td>11.912783</td>\n",
       "      <td>-501.133383</td>\n",
       "      <td>10.070913</td>\n",
       "      <td>-500.129135</td>\n",
       "      <td>8.013877</td>\n",
       "      <td>-500.517572</td>\n",
       "      <td>14.028663</td>\n",
       "      <td>-601.427363</td>\n",
       "    </tr>\n",
       "    <tr>\n",
       "      <th>2016-01-15 03:00:00</th>\n",
       "      <td>6.047977</td>\n",
       "      <td>9.977019</td>\n",
       "      <td>4.858634</td>\n",
       "      <td>42.689819</td>\n",
       "      <td>68.347543</td>\n",
       "      <td>10.422762</td>\n",
       "      <td>0.883763</td>\n",
       "      <td>16.532835</td>\n",
       "      <td>2.146849</td>\n",
       "      <td>122.270188</td>\n",
       "      <td>11.322140</td>\n",
       "      <td>7.25</td>\n",
       "      <td>0.996739</td>\n",
       "      <td>7.221879</td>\n",
       "      <td>8.496563</td>\n",
       "      <td>15.978538</td>\n",
       "      <td>28.260743</td>\n",
       "      <td>16.024359</td>\n",
       "      <td>2.960362</td>\n",
       "      <td>6.843791</td>\n",
       "      <td>2.262051</td>\n",
       "      <td>1599.968720</td>\n",
       "      <td>-500.951778</td>\n",
       "      <td>1600.659236</td>\n",
       "      <td>-499.677094</td>\n",
       "      <td>1600.304144</td>\n",
       "      <td>-500.727997</td>\n",
       "      <td>1600.449520</td>\n",
       "      <td>-500.052575</td>\n",
       "      <td>42029.447991</td>\n",
       "      <td>3498.578313</td>\n",
       "      <td>3499.162912</td>\n",
       "      <td>3.002340</td>\n",
       "      <td>6.043309</td>\n",
       "      <td>2.037807</td>\n",
       "      <td>542.590390</td>\n",
       "      <td>57.792734</td>\n",
       "      <td>36.862241</td>\n",
       "      <td>6.118189</td>\n",
       "      <td>11.630094</td>\n",
       "      <td>6.203177</td>\n",
       "      <td>11.692450</td>\n",
       "      <td>6.196578</td>\n",
       "      <td>11.915047</td>\n",
       "      <td>7.175616</td>\n",
       "      <td>27.341277</td>\n",
       "      <td>19.320810</td>\n",
       "      <td>87.226430</td>\n",
       "      <td>4.655288</td>\n",
       "      <td>0.542525</td>\n",
       "      <td>19.330200</td>\n",
       "      <td>1.079755</td>\n",
       "      <td>999.814770</td>\n",
       "      <td>-400.200179</td>\n",
       "      <td>1600.059442</td>\n",
       "      <td>-450.619948</td>\n",
       "      <td>1600.012842</td>\n",
       "      <td>-449.910497</td>\n",
       "      <td>1597.725177</td>\n",
       "      <td>-450.130127</td>\n",
       "      <td>1400.943157</td>\n",
       "      <td>-450.030142</td>\n",
       "      <td>1400.234743</td>\n",
       "      <td>-449.790835</td>\n",
       "      <td>13.732071</td>\n",
       "      <td>4.482453</td>\n",
       "      <td>9.122857</td>\n",
       "      <td>2.322062</td>\n",
       "      <td>25.942508</td>\n",
       "      <td>-499.176749</td>\n",
       "      <td>23.955516</td>\n",
       "      <td>-499.848796</td>\n",
       "      <td>23.966838</td>\n",
       "      <td>-500.008812</td>\n",
       "      <td>23.954443</td>\n",
       "      <td>-499.944710</td>\n",
       "      <td>14.036510</td>\n",
       "      <td>-500.857308</td>\n",
       "      <td>11.999550</td>\n",
       "      <td>-501.193686</td>\n",
       "      <td>9.970366</td>\n",
       "      <td>-499.201640</td>\n",
       "      <td>7.977324</td>\n",
       "      <td>-500.255908</td>\n",
       "      <td>14.005551</td>\n",
       "      <td>-599.996129</td>\n",
       "    </tr>\n",
       "    <tr>\n",
       "      <th>2016-01-15 04:00:00</th>\n",
       "      <td>6.148599</td>\n",
       "      <td>10.142511</td>\n",
       "      <td>4.939416</td>\n",
       "      <td>42.774141</td>\n",
       "      <td>66.927016</td>\n",
       "      <td>10.360302</td>\n",
       "      <td>0.792826</td>\n",
       "      <td>16.525686</td>\n",
       "      <td>2.055292</td>\n",
       "      <td>117.988169</td>\n",
       "      <td>11.913613</td>\n",
       "      <td>7.25</td>\n",
       "      <td>1.009869</td>\n",
       "      <td>9.089428</td>\n",
       "      <td>9.986786</td>\n",
       "      <td>19.199864</td>\n",
       "      <td>33.044932</td>\n",
       "      <td>16.480185</td>\n",
       "      <td>3.112100</td>\n",
       "      <td>6.550154</td>\n",
       "      <td>2.277073</td>\n",
       "      <td>1601.339707</td>\n",
       "      <td>-498.975456</td>\n",
       "      <td>1601.437854</td>\n",
       "      <td>-500.323246</td>\n",
       "      <td>1599.581894</td>\n",
       "      <td>-500.888152</td>\n",
       "      <td>1602.649541</td>\n",
       "      <td>-500.593010</td>\n",
       "      <td>42125.354245</td>\n",
       "      <td>3494.800771</td>\n",
       "      <td>3506.679315</td>\n",
       "      <td>3.169615</td>\n",
       "      <td>6.060915</td>\n",
       "      <td>1.786875</td>\n",
       "      <td>540.531893</td>\n",
       "      <td>56.047189</td>\n",
       "      <td>34.347666</td>\n",
       "      <td>5.663707</td>\n",
       "      <td>10.957755</td>\n",
       "      <td>6.198826</td>\n",
       "      <td>10.960521</td>\n",
       "      <td>6.194897</td>\n",
       "      <td>12.411054</td>\n",
       "      <td>7.240205</td>\n",
       "      <td>27.041023</td>\n",
       "      <td>19.216101</td>\n",
       "      <td>86.688794</td>\n",
       "      <td>4.552800</td>\n",
       "      <td>0.515438</td>\n",
       "      <td>19.267422</td>\n",
       "      <td>1.012642</td>\n",
       "      <td>999.678690</td>\n",
       "      <td>-399.752729</td>\n",
       "      <td>1600.208824</td>\n",
       "      <td>-449.599614</td>\n",
       "      <td>1600.357732</td>\n",
       "      <td>-450.034364</td>\n",
       "      <td>1599.759049</td>\n",
       "      <td>-449.909799</td>\n",
       "      <td>1401.560902</td>\n",
       "      <td>-448.877187</td>\n",
       "      <td>1401.160227</td>\n",
       "      <td>-450.407128</td>\n",
       "      <td>14.079996</td>\n",
       "      <td>4.470737</td>\n",
       "      <td>8.871028</td>\n",
       "      <td>2.330448</td>\n",
       "      <td>26.024787</td>\n",
       "      <td>-500.279091</td>\n",
       "      <td>23.955345</td>\n",
       "      <td>-500.593614</td>\n",
       "      <td>23.985703</td>\n",
       "      <td>-500.083811</td>\n",
       "      <td>23.958945</td>\n",
       "      <td>-499.990309</td>\n",
       "      <td>14.027298</td>\n",
       "      <td>-499.838632</td>\n",
       "      <td>11.953070</td>\n",
       "      <td>-501.053894</td>\n",
       "      <td>9.925709</td>\n",
       "      <td>-501.686727</td>\n",
       "      <td>7.894242</td>\n",
       "      <td>-500.356035</td>\n",
       "      <td>13.996647</td>\n",
       "      <td>-601.496691</td>\n",
       "    </tr>\n",
       "  </tbody>\n",
       "</table>\n",
       "</div>"
      ],
      "text/plain": [
       "                     final.output.concentrate_ag  final.output.concentrate_pb  \\\n",
       "date                                                                            \n",
       "2016-01-15 00:00:00                     6.055403                     9.889648   \n",
       "2016-01-15 01:00:00                     6.029369                     9.968944   \n",
       "2016-01-15 02:00:00                     6.055926                    10.213995   \n",
       "2016-01-15 03:00:00                     6.047977                     9.977019   \n",
       "2016-01-15 04:00:00                     6.148599                    10.142511   \n",
       "\n",
       "                     final.output.concentrate_sol  \\\n",
       "date                                                \n",
       "2016-01-15 00:00:00                      5.507324   \n",
       "2016-01-15 01:00:00                      5.257781   \n",
       "2016-01-15 02:00:00                      5.383759   \n",
       "2016-01-15 03:00:00                      4.858634   \n",
       "2016-01-15 04:00:00                      4.939416   \n",
       "\n",
       "                     final.output.concentrate_au  final.output.recovery  \\\n",
       "date                                                                      \n",
       "2016-01-15 00:00:00                    42.192020              70.541216   \n",
       "2016-01-15 01:00:00                    42.701629              69.266198   \n",
       "2016-01-15 02:00:00                    42.657501              68.116445   \n",
       "2016-01-15 03:00:00                    42.689819              68.347543   \n",
       "2016-01-15 04:00:00                    42.774141              66.927016   \n",
       "\n",
       "                     final.output.tail_ag  final.output.tail_pb  \\\n",
       "date                                                              \n",
       "2016-01-15 00:00:00             10.411962              0.895447   \n",
       "2016-01-15 01:00:00             10.462676              0.927452   \n",
       "2016-01-15 02:00:00             10.507046              0.953716   \n",
       "2016-01-15 03:00:00             10.422762              0.883763   \n",
       "2016-01-15 04:00:00             10.360302              0.792826   \n",
       "\n",
       "                     final.output.tail_sol  final.output.tail_au  \\\n",
       "date                                                               \n",
       "2016-01-15 00:00:00              16.904297              2.143149   \n",
       "2016-01-15 01:00:00              16.634514              2.224930   \n",
       "2016-01-15 02:00:00              16.208849              2.257889   \n",
       "2016-01-15 03:00:00              16.532835              2.146849   \n",
       "2016-01-15 04:00:00              16.525686              2.055292   \n",
       "\n",
       "                     primary_cleaner.input.sulfate  \\\n",
       "date                                                 \n",
       "2016-01-15 00:00:00                     127.092003   \n",
       "2016-01-15 01:00:00                     125.629232   \n",
       "2016-01-15 02:00:00                     123.819808   \n",
       "2016-01-15 03:00:00                     122.270188   \n",
       "2016-01-15 04:00:00                     117.988169   \n",
       "\n",
       "                     primary_cleaner.input.depressant  \\\n",
       "date                                                    \n",
       "2016-01-15 00:00:00                         10.128295   \n",
       "2016-01-15 01:00:00                         10.296251   \n",
       "2016-01-15 02:00:00                         11.316280   \n",
       "2016-01-15 03:00:00                         11.322140   \n",
       "2016-01-15 04:00:00                         11.913613   \n",
       "\n",
       "                     primary_cleaner.input.feed_size  \\\n",
       "date                                                   \n",
       "2016-01-15 00:00:00                             7.25   \n",
       "2016-01-15 01:00:00                             7.25   \n",
       "2016-01-15 02:00:00                             7.25   \n",
       "2016-01-15 03:00:00                             7.25   \n",
       "2016-01-15 04:00:00                             7.25   \n",
       "\n",
       "                     primary_cleaner.input.xanthate  \\\n",
       "date                                                  \n",
       "2016-01-15 00:00:00                        0.988759   \n",
       "2016-01-15 01:00:00                        1.002663   \n",
       "2016-01-15 02:00:00                        0.991265   \n",
       "2016-01-15 03:00:00                        0.996739   \n",
       "2016-01-15 04:00:00                        1.009869   \n",
       "\n",
       "                     primary_cleaner.output.concentrate_ag  \\\n",
       "date                                                         \n",
       "2016-01-15 00:00:00                               8.547551   \n",
       "2016-01-15 01:00:00                               8.558743   \n",
       "2016-01-15 02:00:00                               8.603505   \n",
       "2016-01-15 03:00:00                               7.221879   \n",
       "2016-01-15 04:00:00                               9.089428   \n",
       "\n",
       "                     primary_cleaner.output.concentrate_pb  \\\n",
       "date                                                         \n",
       "2016-01-15 00:00:00                              10.389648   \n",
       "2016-01-15 01:00:00                              10.497069   \n",
       "2016-01-15 02:00:00                              10.354494   \n",
       "2016-01-15 03:00:00                               8.496563   \n",
       "2016-01-15 04:00:00                               9.986786   \n",
       "\n",
       "                     primary_cleaner.output.concentrate_sol  \\\n",
       "date                                                          \n",
       "2016-01-15 00:00:00                               19.529297   \n",
       "2016-01-15 01:00:00                               19.369147   \n",
       "2016-01-15 02:00:00                               19.167579   \n",
       "2016-01-15 03:00:00                               15.978538   \n",
       "2016-01-15 04:00:00                               19.199864   \n",
       "\n",
       "                     primary_cleaner.output.concentrate_au  \\\n",
       "date                                                         \n",
       "2016-01-15 00:00:00                              34.174427   \n",
       "2016-01-15 01:00:00                              34.118526   \n",
       "2016-01-15 02:00:00                              33.969464   \n",
       "2016-01-15 03:00:00                              28.260743   \n",
       "2016-01-15 04:00:00                              33.044932   \n",
       "\n",
       "                     primary_cleaner.output.tail_ag  \\\n",
       "date                                                  \n",
       "2016-01-15 00:00:00                       14.936526   \n",
       "2016-01-15 01:00:00                       16.250511   \n",
       "2016-01-15 02:00:00                       16.491823   \n",
       "2016-01-15 03:00:00                       16.024359   \n",
       "2016-01-15 04:00:00                       16.480185   \n",
       "\n",
       "                     primary_cleaner.output.tail_pb  \\\n",
       "date                                                  \n",
       "2016-01-15 00:00:00                        2.534912   \n",
       "2016-01-15 01:00:00                        3.049646   \n",
       "2016-01-15 02:00:00                        3.124664   \n",
       "2016-01-15 03:00:00                        2.960362   \n",
       "2016-01-15 04:00:00                        3.112100   \n",
       "\n",
       "                     primary_cleaner.output.tail_sol  \\\n",
       "date                                                   \n",
       "2016-01-15 00:00:00                         7.476074   \n",
       "2016-01-15 01:00:00                         6.733907   \n",
       "2016-01-15 02:00:00                         6.471768   \n",
       "2016-01-15 03:00:00                         6.843791   \n",
       "2016-01-15 04:00:00                         6.550154   \n",
       "\n",
       "                     primary_cleaner.output.tail_au  \\\n",
       "date                                                  \n",
       "2016-01-15 00:00:00                        2.106679   \n",
       "2016-01-15 01:00:00                        2.353017   \n",
       "2016-01-15 02:00:00                        2.416800   \n",
       "2016-01-15 03:00:00                        2.262051   \n",
       "2016-01-15 04:00:00                        2.277073   \n",
       "\n",
       "                     primary_cleaner.state.floatbank8_a_air  \\\n",
       "date                                                          \n",
       "2016-01-15 00:00:00                             1549.775757   \n",
       "2016-01-15 01:00:00                             1576.166671   \n",
       "2016-01-15 02:00:00                             1601.556163   \n",
       "2016-01-15 03:00:00                             1599.968720   \n",
       "2016-01-15 04:00:00                             1601.339707   \n",
       "\n",
       "                     primary_cleaner.state.floatbank8_a_level  \\\n",
       "date                                                            \n",
       "2016-01-15 00:00:00                               -498.912140   \n",
       "2016-01-15 01:00:00                               -500.904965   \n",
       "2016-01-15 02:00:00                               -499.997791   \n",
       "2016-01-15 03:00:00                               -500.951778   \n",
       "2016-01-15 04:00:00                               -498.975456   \n",
       "\n",
       "                     primary_cleaner.state.floatbank8_b_air  \\\n",
       "date                                                          \n",
       "2016-01-15 00:00:00                             1551.434204   \n",
       "2016-01-15 01:00:00                             1575.950626   \n",
       "2016-01-15 02:00:00                             1600.386685   \n",
       "2016-01-15 03:00:00                             1600.659236   \n",
       "2016-01-15 04:00:00                             1601.437854   \n",
       "\n",
       "                     primary_cleaner.state.floatbank8_b_level  \\\n",
       "date                                                            \n",
       "2016-01-15 00:00:00                               -516.403442   \n",
       "2016-01-15 01:00:00                               -499.865889   \n",
       "2016-01-15 02:00:00                               -500.607762   \n",
       "2016-01-15 03:00:00                               -499.677094   \n",
       "2016-01-15 04:00:00                               -500.323246   \n",
       "\n",
       "                     primary_cleaner.state.floatbank8_c_air  \\\n",
       "date                                                          \n",
       "2016-01-15 00:00:00                             1549.873901   \n",
       "2016-01-15 01:00:00                             1575.994189   \n",
       "2016-01-15 02:00:00                             1602.003542   \n",
       "2016-01-15 03:00:00                             1600.304144   \n",
       "2016-01-15 04:00:00                             1599.581894   \n",
       "\n",
       "                     primary_cleaner.state.floatbank8_c_level  \\\n",
       "date                                                            \n",
       "2016-01-15 00:00:00                               -498.666595   \n",
       "2016-01-15 01:00:00                               -499.315107   \n",
       "2016-01-15 02:00:00                               -500.870069   \n",
       "2016-01-15 03:00:00                               -500.727997   \n",
       "2016-01-15 04:00:00                               -500.888152   \n",
       "\n",
       "                     primary_cleaner.state.floatbank8_d_air  \\\n",
       "date                                                          \n",
       "2016-01-15 00:00:00                             1554.367432   \n",
       "2016-01-15 01:00:00                             1574.479259   \n",
       "2016-01-15 02:00:00                             1599.541515   \n",
       "2016-01-15 03:00:00                             1600.449520   \n",
       "2016-01-15 04:00:00                             1602.649541   \n",
       "\n",
       "                     primary_cleaner.state.floatbank8_d_level  \\\n",
       "date                                                            \n",
       "2016-01-15 00:00:00                               -493.428131   \n",
       "2016-01-15 01:00:00                               -498.931665   \n",
       "2016-01-15 02:00:00                               -499.827444   \n",
       "2016-01-15 03:00:00                               -500.052575   \n",
       "2016-01-15 04:00:00                               -500.593010   \n",
       "\n",
       "                     rougher.calculation.sulfate_to_au_concentrate  \\\n",
       "date                                                                 \n",
       "2016-01-15 00:00:00                                   41885.707031   \n",
       "2016-01-15 01:00:00                                   42050.861809   \n",
       "2016-01-15 02:00:00                                   42018.101184   \n",
       "2016-01-15 03:00:00                                   42029.447991   \n",
       "2016-01-15 04:00:00                                   42125.354245   \n",
       "\n",
       "                     rougher.calculation.floatbank10_sulfate_to_au_feed  \\\n",
       "date                                                                      \n",
       "2016-01-15 00:00:00                                        3481.779053    \n",
       "2016-01-15 01:00:00                                        3498.370979    \n",
       "2016-01-15 02:00:00                                        3495.348910    \n",
       "2016-01-15 03:00:00                                        3498.578313    \n",
       "2016-01-15 04:00:00                                        3494.800771    \n",
       "\n",
       "                     rougher.calculation.floatbank11_sulfate_to_au_feed  \\\n",
       "date                                                                      \n",
       "2016-01-15 00:00:00                                        3520.337158    \n",
       "2016-01-15 01:00:00                                        3489.981857    \n",
       "2016-01-15 02:00:00                                        3502.359819    \n",
       "2016-01-15 03:00:00                                        3499.162912    \n",
       "2016-01-15 04:00:00                                        3506.679315    \n",
       "\n",
       "                     rougher.calculation.au_pb_ratio  rougher.input.feed_ag  \\\n",
       "date                                                                          \n",
       "2016-01-15 00:00:00                         2.838687               6.100378   \n",
       "2016-01-15 01:00:00                         2.858998               6.161113   \n",
       "2016-01-15 02:00:00                         2.945989               6.116455   \n",
       "2016-01-15 03:00:00                         3.002340               6.043309   \n",
       "2016-01-15 04:00:00                         3.169615               6.060915   \n",
       "\n",
       "                     rougher.input.feed_pb  rougher.input.feed_rate  \\\n",
       "date                                                                  \n",
       "2016-01-15 00:00:00               2.284912               523.546326   \n",
       "2016-01-15 01:00:00               2.266033               525.290581   \n",
       "2016-01-15 02:00:00               2.159622               530.026610   \n",
       "2016-01-15 03:00:00               2.037807               542.590390   \n",
       "2016-01-15 04:00:00               1.786875               540.531893   \n",
       "\n",
       "                     rougher.input.feed_size  rougher.input.feed_sol  \\\n",
       "date                                                                   \n",
       "2016-01-15 00:00:00                55.486599               36.808594   \n",
       "2016-01-15 01:00:00                57.278666               35.753385   \n",
       "2016-01-15 02:00:00                57.510649               35.971630   \n",
       "2016-01-15 03:00:00                57.792734               36.862241   \n",
       "2016-01-15 04:00:00                56.047189               34.347666   \n",
       "\n",
       "                     rougher.input.feed_au  rougher.input.floatbank10_sulfate  \\\n",
       "date                                                                            \n",
       "2016-01-15 00:00:00               6.486150                          11.986616   \n",
       "2016-01-15 01:00:00               6.478583                          11.971193   \n",
       "2016-01-15 02:00:00               6.362222                          11.920603   \n",
       "2016-01-15 03:00:00               6.118189                          11.630094   \n",
       "2016-01-15 04:00:00               5.663707                          10.957755   \n",
       "\n",
       "                     rougher.input.floatbank10_xanthate  \\\n",
       "date                                                      \n",
       "2016-01-15 00:00:00                            6.007990   \n",
       "2016-01-15 01:00:00                            6.005766   \n",
       "2016-01-15 02:00:00                            6.197377   \n",
       "2016-01-15 03:00:00                            6.203177   \n",
       "2016-01-15 04:00:00                            6.198826   \n",
       "\n",
       "                     rougher.input.floatbank11_sulfate  \\\n",
       "date                                                     \n",
       "2016-01-15 00:00:00                          11.836743   \n",
       "2016-01-15 01:00:00                          11.996163   \n",
       "2016-01-15 02:00:00                          11.920305   \n",
       "2016-01-15 03:00:00                          11.692450   \n",
       "2016-01-15 04:00:00                          10.960521   \n",
       "\n",
       "                     rougher.input.floatbank11_xanthate  \\\n",
       "date                                                      \n",
       "2016-01-15 00:00:00                            6.005818   \n",
       "2016-01-15 01:00:00                            6.012594   \n",
       "2016-01-15 02:00:00                            6.204633   \n",
       "2016-01-15 03:00:00                            6.196578   \n",
       "2016-01-15 04:00:00                            6.194897   \n",
       "\n",
       "                     rougher.output.concentrate_ag  \\\n",
       "date                                                 \n",
       "2016-01-15 00:00:00                      11.500771   \n",
       "2016-01-15 01:00:00                      11.615865   \n",
       "2016-01-15 02:00:00                      11.695753   \n",
       "2016-01-15 03:00:00                      11.915047   \n",
       "2016-01-15 04:00:00                      12.411054   \n",
       "\n",
       "                     rougher.output.concentrate_pb  \\\n",
       "date                                                 \n",
       "2016-01-15 00:00:00                       7.101074   \n",
       "2016-01-15 01:00:00                       7.278807   \n",
       "2016-01-15 02:00:00                       7.216833   \n",
       "2016-01-15 03:00:00                       7.175616   \n",
       "2016-01-15 04:00:00                       7.240205   \n",
       "\n",
       "                     rougher.output.concentrate_sol  \\\n",
       "date                                                  \n",
       "2016-01-15 00:00:00                       28.029297   \n",
       "2016-01-15 01:00:00                       28.067063   \n",
       "2016-01-15 02:00:00                       27.454037   \n",
       "2016-01-15 03:00:00                       27.341277   \n",
       "2016-01-15 04:00:00                       27.041023   \n",
       "\n",
       "                     rougher.output.concentrate_au  rougher.output.recovery  \\\n",
       "date                                                                          \n",
       "2016-01-15 00:00:00                      19.793808                87.107763   \n",
       "2016-01-15 01:00:00                      20.050975                86.843261   \n",
       "2016-01-15 02:00:00                      19.737170                86.842308   \n",
       "2016-01-15 03:00:00                      19.320810                87.226430   \n",
       "2016-01-15 04:00:00                      19.216101                86.688794   \n",
       "\n",
       "                     rougher.output.tail_ag  rougher.output.tail_pb  \\\n",
       "date                                                                  \n",
       "2016-01-15 00:00:00                5.008018                0.508728   \n",
       "2016-01-15 01:00:00                4.955378                0.536689   \n",
       "2016-01-15 02:00:00                4.843460                0.546416   \n",
       "2016-01-15 03:00:00                4.655288                0.542525   \n",
       "2016-01-15 04:00:00                4.552800                0.515438   \n",
       "\n",
       "                     rougher.output.tail_sol  rougher.output.tail_au  \\\n",
       "date                                                                   \n",
       "2016-01-15 00:00:00                19.154297                1.170244   \n",
       "2016-01-15 01:00:00                18.965234                1.184827   \n",
       "2016-01-15 02:00:00                18.808533                1.162562   \n",
       "2016-01-15 03:00:00                19.330200                1.079755   \n",
       "2016-01-15 04:00:00                19.267422                1.012642   \n",
       "\n",
       "                     rougher.state.floatbank10_a_air  \\\n",
       "date                                                   \n",
       "2016-01-15 00:00:00                       999.706909   \n",
       "2016-01-15 01:00:00                      1000.286398   \n",
       "2016-01-15 02:00:00                       999.719565   \n",
       "2016-01-15 03:00:00                       999.814770   \n",
       "2016-01-15 04:00:00                       999.678690   \n",
       "\n",
       "                     rougher.state.floatbank10_a_level  \\\n",
       "date                                                     \n",
       "2016-01-15 00:00:00                        -404.066986   \n",
       "2016-01-15 01:00:00                        -400.065196   \n",
       "2016-01-15 02:00:00                        -400.074028   \n",
       "2016-01-15 03:00:00                        -400.200179   \n",
       "2016-01-15 04:00:00                        -399.752729   \n",
       "\n",
       "                     rougher.state.floatbank10_b_air  \\\n",
       "date                                                   \n",
       "2016-01-15 00:00:00                      1603.011353   \n",
       "2016-01-15 01:00:00                      1600.754587   \n",
       "2016-01-15 02:00:00                      1599.337330   \n",
       "2016-01-15 03:00:00                      1600.059442   \n",
       "2016-01-15 04:00:00                      1600.208824   \n",
       "\n",
       "                     rougher.state.floatbank10_b_level  \\\n",
       "date                                                     \n",
       "2016-01-15 00:00:00                        -434.715027   \n",
       "2016-01-15 01:00:00                        -449.953435   \n",
       "2016-01-15 02:00:00                        -450.008530   \n",
       "2016-01-15 03:00:00                        -450.619948   \n",
       "2016-01-15 04:00:00                        -449.599614   \n",
       "\n",
       "                     rougher.state.floatbank10_c_air  \\\n",
       "date                                                   \n",
       "2016-01-15 00:00:00                      1602.375000   \n",
       "2016-01-15 01:00:00                      1600.479580   \n",
       "2016-01-15 02:00:00                      1599.672797   \n",
       "2016-01-15 03:00:00                      1600.012842   \n",
       "2016-01-15 04:00:00                      1600.357732   \n",
       "\n",
       "                     rougher.state.floatbank10_c_level  \\\n",
       "date                                                     \n",
       "2016-01-15 00:00:00                        -442.204468   \n",
       "2016-01-15 01:00:00                        -449.830646   \n",
       "2016-01-15 02:00:00                        -449.954491   \n",
       "2016-01-15 03:00:00                        -449.910497   \n",
       "2016-01-15 04:00:00                        -450.034364   \n",
       "\n",
       "                     rougher.state.floatbank10_d_air  \\\n",
       "date                                                   \n",
       "2016-01-15 00:00:00                      1598.937256   \n",
       "2016-01-15 01:00:00                      1600.527589   \n",
       "2016-01-15 02:00:00                      1599.849325   \n",
       "2016-01-15 03:00:00                      1597.725177   \n",
       "2016-01-15 04:00:00                      1599.759049   \n",
       "\n",
       "                     rougher.state.floatbank10_d_level  \\\n",
       "date                                                     \n",
       "2016-01-15 00:00:00                        -451.294128   \n",
       "2016-01-15 01:00:00                        -449.953649   \n",
       "2016-01-15 02:00:00                        -449.954185   \n",
       "2016-01-15 03:00:00                        -450.130127   \n",
       "2016-01-15 04:00:00                        -449.909799   \n",
       "\n",
       "                     rougher.state.floatbank10_e_air  \\\n",
       "date                                                   \n",
       "2016-01-15 00:00:00                      1404.472046   \n",
       "2016-01-15 01:00:00                      1399.227084   \n",
       "2016-01-15 02:00:00                      1399.180945   \n",
       "2016-01-15 03:00:00                      1400.943157   \n",
       "2016-01-15 04:00:00                      1401.560902   \n",
       "\n",
       "                     rougher.state.floatbank10_e_level  \\\n",
       "date                                                     \n",
       "2016-01-15 00:00:00                        -455.462982   \n",
       "2016-01-15 01:00:00                        -450.869848   \n",
       "2016-01-15 02:00:00                        -449.937588   \n",
       "2016-01-15 03:00:00                        -450.030142   \n",
       "2016-01-15 04:00:00                        -448.877187   \n",
       "\n",
       "                     rougher.state.floatbank10_f_air  \\\n",
       "date                                                   \n",
       "2016-01-15 00:00:00                      1416.354980   \n",
       "2016-01-15 01:00:00                      1399.719514   \n",
       "2016-01-15 02:00:00                      1400.316682   \n",
       "2016-01-15 03:00:00                      1400.234743   \n",
       "2016-01-15 04:00:00                      1401.160227   \n",
       "\n",
       "                     rougher.state.floatbank10_f_level  \\\n",
       "date                                                     \n",
       "2016-01-15 00:00:00                        -451.939636   \n",
       "2016-01-15 01:00:00                        -450.119001   \n",
       "2016-01-15 02:00:00                        -450.527147   \n",
       "2016-01-15 03:00:00                        -449.790835   \n",
       "2016-01-15 04:00:00                        -450.407128   \n",
       "\n",
       "                     secondary_cleaner.output.tail_ag  \\\n",
       "date                                                    \n",
       "2016-01-15 00:00:00                         14.500184   \n",
       "2016-01-15 01:00:00                         14.265474   \n",
       "2016-01-15 02:00:00                         14.115662   \n",
       "2016-01-15 03:00:00                         13.732071   \n",
       "2016-01-15 04:00:00                         14.079996   \n",
       "\n",
       "                     secondary_cleaner.output.tail_pb  \\\n",
       "date                                                    \n",
       "2016-01-15 00:00:00                          4.694824   \n",
       "2016-01-15 01:00:00                          4.592547   \n",
       "2016-01-15 02:00:00                          4.624775   \n",
       "2016-01-15 03:00:00                          4.482453   \n",
       "2016-01-15 04:00:00                          4.470737   \n",
       "\n",
       "                     secondary_cleaner.output.tail_sol  \\\n",
       "date                                                     \n",
       "2016-01-15 00:00:00                           8.764648   \n",
       "2016-01-15 01:00:00                           9.001494   \n",
       "2016-01-15 02:00:00                           8.842896   \n",
       "2016-01-15 03:00:00                           9.122857   \n",
       "2016-01-15 04:00:00                           8.871028   \n",
       "\n",
       "                     secondary_cleaner.output.tail_au  \\\n",
       "date                                                    \n",
       "2016-01-15 00:00:00                          2.606185   \n",
       "2016-01-15 01:00:00                          2.488248   \n",
       "2016-01-15 02:00:00                          2.458187   \n",
       "2016-01-15 03:00:00                          2.322062   \n",
       "2016-01-15 04:00:00                          2.330448   \n",
       "\n",
       "                     secondary_cleaner.state.floatbank2_a_air  \\\n",
       "date                                                            \n",
       "2016-01-15 00:00:00                                 25.853109   \n",
       "2016-01-15 01:00:00                                 25.880539   \n",
       "2016-01-15 02:00:00                                 26.005245   \n",
       "2016-01-15 03:00:00                                 25.942508   \n",
       "2016-01-15 04:00:00                                 26.024787   \n",
       "\n",
       "                     secondary_cleaner.state.floatbank2_a_level  \\\n",
       "date                                                              \n",
       "2016-01-15 00:00:00                                 -498.526489   \n",
       "2016-01-15 01:00:00                                 -499.989656   \n",
       "2016-01-15 02:00:00                                 -499.929616   \n",
       "2016-01-15 03:00:00                                 -499.176749   \n",
       "2016-01-15 04:00:00                                 -500.279091   \n",
       "\n",
       "                     secondary_cleaner.state.floatbank2_b_air  \\\n",
       "date                                                            \n",
       "2016-01-15 00:00:00                                 23.893660   \n",
       "2016-01-15 01:00:00                                 23.889530   \n",
       "2016-01-15 02:00:00                                 23.886657   \n",
       "2016-01-15 03:00:00                                 23.955516   \n",
       "2016-01-15 04:00:00                                 23.955345   \n",
       "\n",
       "                     secondary_cleaner.state.floatbank2_b_level  \\\n",
       "date                                                              \n",
       "2016-01-15 00:00:00                                 -501.406281   \n",
       "2016-01-15 01:00:00                                 -500.372428   \n",
       "2016-01-15 02:00:00                                 -499.951928   \n",
       "2016-01-15 03:00:00                                 -499.848796   \n",
       "2016-01-15 04:00:00                                 -500.593614   \n",
       "\n",
       "                     secondary_cleaner.state.floatbank3_a_air  \\\n",
       "date                                                            \n",
       "2016-01-15 00:00:00                                 23.961798   \n",
       "2016-01-15 01:00:00                                 23.970550   \n",
       "2016-01-15 02:00:00                                 23.913535   \n",
       "2016-01-15 03:00:00                                 23.966838   \n",
       "2016-01-15 04:00:00                                 23.985703   \n",
       "\n",
       "                     secondary_cleaner.state.floatbank3_a_level  \\\n",
       "date                                                              \n",
       "2016-01-15 00:00:00                                 -495.262817   \n",
       "2016-01-15 01:00:00                                 -500.085473   \n",
       "2016-01-15 02:00:00                                 -499.442343   \n",
       "2016-01-15 03:00:00                                 -500.008812   \n",
       "2016-01-15 04:00:00                                 -500.083811   \n",
       "\n",
       "                     secondary_cleaner.state.floatbank3_b_air  \\\n",
       "date                                                            \n",
       "2016-01-15 00:00:00                                 21.940409   \n",
       "2016-01-15 01:00:00                                 22.085714   \n",
       "2016-01-15 02:00:00                                 23.957717   \n",
       "2016-01-15 03:00:00                                 23.954443   \n",
       "2016-01-15 04:00:00                                 23.958945   \n",
       "\n",
       "                     secondary_cleaner.state.floatbank3_b_level  \\\n",
       "date                                                              \n",
       "2016-01-15 00:00:00                                 -499.340973   \n",
       "2016-01-15 01:00:00                                 -499.446897   \n",
       "2016-01-15 02:00:00                                 -499.901982   \n",
       "2016-01-15 03:00:00                                 -499.944710   \n",
       "2016-01-15 04:00:00                                 -499.990309   \n",
       "\n",
       "                     secondary_cleaner.state.floatbank4_a_air  \\\n",
       "date                                                            \n",
       "2016-01-15 00:00:00                                 14.016835   \n",
       "2016-01-15 01:00:00                                 13.992281   \n",
       "2016-01-15 02:00:00                                 14.015015   \n",
       "2016-01-15 03:00:00                                 14.036510   \n",
       "2016-01-15 04:00:00                                 14.027298   \n",
       "\n",
       "                     secondary_cleaner.state.floatbank4_a_level  \\\n",
       "date                                                              \n",
       "2016-01-15 00:00:00                                 -502.488007   \n",
       "2016-01-15 01:00:00                                 -505.503262   \n",
       "2016-01-15 02:00:00                                 -502.520901   \n",
       "2016-01-15 03:00:00                                 -500.857308   \n",
       "2016-01-15 04:00:00                                 -499.838632   \n",
       "\n",
       "                     secondary_cleaner.state.floatbank4_b_air  \\\n",
       "date                                                            \n",
       "2016-01-15 00:00:00                                 12.099931   \n",
       "2016-01-15 01:00:00                                 11.950531   \n",
       "2016-01-15 02:00:00                                 11.912783   \n",
       "2016-01-15 03:00:00                                 11.999550   \n",
       "2016-01-15 04:00:00                                 11.953070   \n",
       "\n",
       "                     secondary_cleaner.state.floatbank4_b_level  \\\n",
       "date                                                              \n",
       "2016-01-15 00:00:00                                 -504.715942   \n",
       "2016-01-15 01:00:00                                 -501.331529   \n",
       "2016-01-15 02:00:00                                 -501.133383   \n",
       "2016-01-15 03:00:00                                 -501.193686   \n",
       "2016-01-15 04:00:00                                 -501.053894   \n",
       "\n",
       "                     secondary_cleaner.state.floatbank5_a_air  \\\n",
       "date                                                            \n",
       "2016-01-15 00:00:00                                  9.925633   \n",
       "2016-01-15 01:00:00                                 10.039245   \n",
       "2016-01-15 02:00:00                                 10.070913   \n",
       "2016-01-15 03:00:00                                  9.970366   \n",
       "2016-01-15 04:00:00                                  9.925709   \n",
       "\n",
       "                     secondary_cleaner.state.floatbank5_a_level  \\\n",
       "date                                                              \n",
       "2016-01-15 00:00:00                                 -498.310211   \n",
       "2016-01-15 01:00:00                                 -500.169983   \n",
       "2016-01-15 02:00:00                                 -500.129135   \n",
       "2016-01-15 03:00:00                                 -499.201640   \n",
       "2016-01-15 04:00:00                                 -501.686727   \n",
       "\n",
       "                     secondary_cleaner.state.floatbank5_b_air  \\\n",
       "date                                                            \n",
       "2016-01-15 00:00:00                                  8.079666   \n",
       "2016-01-15 01:00:00                                  7.984757   \n",
       "2016-01-15 02:00:00                                  8.013877   \n",
       "2016-01-15 03:00:00                                  7.977324   \n",
       "2016-01-15 04:00:00                                  7.894242   \n",
       "\n",
       "                     secondary_cleaner.state.floatbank5_b_level  \\\n",
       "date                                                              \n",
       "2016-01-15 00:00:00                                 -500.470978   \n",
       "2016-01-15 01:00:00                                 -500.582168   \n",
       "2016-01-15 02:00:00                                 -500.517572   \n",
       "2016-01-15 03:00:00                                 -500.255908   \n",
       "2016-01-15 04:00:00                                 -500.356035   \n",
       "\n",
       "                     secondary_cleaner.state.floatbank6_a_air  \\\n",
       "date                                                            \n",
       "2016-01-15 00:00:00                                 14.151341   \n",
       "2016-01-15 01:00:00                                 13.998353   \n",
       "2016-01-15 02:00:00                                 14.028663   \n",
       "2016-01-15 03:00:00                                 14.005551   \n",
       "2016-01-15 04:00:00                                 13.996647   \n",
       "\n",
       "                     secondary_cleaner.state.floatbank6_a_level  \n",
       "date                                                             \n",
       "2016-01-15 00:00:00                                 -605.841980  \n",
       "2016-01-15 01:00:00                                 -599.787184  \n",
       "2016-01-15 02:00:00                                 -601.427363  \n",
       "2016-01-15 03:00:00                                 -599.996129  \n",
       "2016-01-15 04:00:00                                 -601.496691  "
      ]
     },
     "execution_count": 7,
     "metadata": {},
     "output_type": "execute_result"
    }
   ],
   "source": [
    "full_data = pd.read_csv(os.path.join('..', 'datasets', 'gold_recovery_full_new.csv'), index_col='date')\n",
    "full_data.head()"
   ]
  },
  {
   "cell_type": "code",
   "execution_count": 8,
   "metadata": {},
   "outputs": [
    {
     "name": "stdout",
     "output_type": "stream",
     "text": [
      "<class 'pandas.core.frame.DataFrame'>\n",
      "Index: 19439 entries, 2016-01-15 00:00:00 to 2018-08-18 10:59:59\n",
      "Data columns (total 86 columns):\n",
      " #   Column                                              Non-Null Count  Dtype  \n",
      "---  ------                                              --------------  -----  \n",
      " 0   final.output.concentrate_ag                         19438 non-null  float64\n",
      " 1   final.output.concentrate_pb                         19438 non-null  float64\n",
      " 2   final.output.concentrate_sol                        19228 non-null  float64\n",
      " 3   final.output.concentrate_au                         19439 non-null  float64\n",
      " 4   final.output.recovery                               19439 non-null  float64\n",
      " 5   final.output.tail_ag                                19438 non-null  float64\n",
      " 6   final.output.tail_pb                                19338 non-null  float64\n",
      " 7   final.output.tail_sol                               19433 non-null  float64\n",
      " 8   final.output.tail_au                                19439 non-null  float64\n",
      " 9   primary_cleaner.input.sulfate                       19415 non-null  float64\n",
      " 10  primary_cleaner.input.depressant                    19402 non-null  float64\n",
      " 11  primary_cleaner.input.feed_size                     19439 non-null  float64\n",
      " 12  primary_cleaner.input.xanthate                      19335 non-null  float64\n",
      " 13  primary_cleaner.output.concentrate_ag               19439 non-null  float64\n",
      " 14  primary_cleaner.output.concentrate_pb               19323 non-null  float64\n",
      " 15  primary_cleaner.output.concentrate_sol              19069 non-null  float64\n",
      " 16  primary_cleaner.output.concentrate_au               19439 non-null  float64\n",
      " 17  primary_cleaner.output.tail_ag                      19435 non-null  float64\n",
      " 18  primary_cleaner.output.tail_pb                      19418 non-null  float64\n",
      " 19  primary_cleaner.output.tail_sol                     19377 non-null  float64\n",
      " 20  primary_cleaner.output.tail_au                      19439 non-null  float64\n",
      " 21  primary_cleaner.state.floatbank8_a_air              19435 non-null  float64\n",
      " 22  primary_cleaner.state.floatbank8_a_level            19438 non-null  float64\n",
      " 23  primary_cleaner.state.floatbank8_b_air              19435 non-null  float64\n",
      " 24  primary_cleaner.state.floatbank8_b_level            19438 non-null  float64\n",
      " 25  primary_cleaner.state.floatbank8_c_air              19437 non-null  float64\n",
      " 26  primary_cleaner.state.floatbank8_c_level            19438 non-null  float64\n",
      " 27  primary_cleaner.state.floatbank8_d_air              19436 non-null  float64\n",
      " 28  primary_cleaner.state.floatbank8_d_level            19438 non-null  float64\n",
      " 29  rougher.calculation.sulfate_to_au_concentrate       19437 non-null  float64\n",
      " 30  rougher.calculation.floatbank10_sulfate_to_au_feed  19437 non-null  float64\n",
      " 31  rougher.calculation.floatbank11_sulfate_to_au_feed  19437 non-null  float64\n",
      " 32  rougher.calculation.au_pb_ratio                     19439 non-null  float64\n",
      " 33  rougher.input.feed_ag                               19439 non-null  float64\n",
      " 34  rougher.input.feed_pb                               19339 non-null  float64\n",
      " 35  rougher.input.feed_rate                             19428 non-null  float64\n",
      " 36  rougher.input.feed_size                             19294 non-null  float64\n",
      " 37  rougher.input.feed_sol                              19340 non-null  float64\n",
      " 38  rougher.input.feed_au                               19439 non-null  float64\n",
      " 39  rougher.input.floatbank10_sulfate                   19405 non-null  float64\n",
      " 40  rougher.input.floatbank10_xanthate                  19431 non-null  float64\n",
      " 41  rougher.input.floatbank11_sulfate                   19395 non-null  float64\n",
      " 42  rougher.input.floatbank11_xanthate                  18986 non-null  float64\n",
      " 43  rougher.output.concentrate_ag                       19439 non-null  float64\n",
      " 44  rougher.output.concentrate_pb                       19439 non-null  float64\n",
      " 45  rougher.output.concentrate_sol                      19416 non-null  float64\n",
      " 46  rougher.output.concentrate_au                       19439 non-null  float64\n",
      " 47  rougher.output.recovery                             19439 non-null  float64\n",
      " 48  rougher.output.tail_ag                              19438 non-null  float64\n",
      " 49  rougher.output.tail_pb                              19439 non-null  float64\n",
      " 50  rougher.output.tail_sol                             19439 non-null  float64\n",
      " 51  rougher.output.tail_au                              19439 non-null  float64\n",
      " 52  rougher.state.floatbank10_a_air                     19438 non-null  float64\n",
      " 53  rougher.state.floatbank10_a_level                   19438 non-null  float64\n",
      " 54  rougher.state.floatbank10_b_air                     19438 non-null  float64\n",
      " 55  rougher.state.floatbank10_b_level                   19438 non-null  float64\n",
      " 56  rougher.state.floatbank10_c_air                     19438 non-null  float64\n",
      " 57  rougher.state.floatbank10_c_level                   19438 non-null  float64\n",
      " 58  rougher.state.floatbank10_d_air                     19439 non-null  float64\n",
      " 59  rougher.state.floatbank10_d_level                   19439 non-null  float64\n",
      " 60  rougher.state.floatbank10_e_air                     19003 non-null  float64\n",
      " 61  rougher.state.floatbank10_e_level                   19439 non-null  float64\n",
      " 62  rougher.state.floatbank10_f_air                     19439 non-null  float64\n",
      " 63  rougher.state.floatbank10_f_level                   19439 non-null  float64\n",
      " 64  secondary_cleaner.output.tail_ag                    19437 non-null  float64\n",
      " 65  secondary_cleaner.output.tail_pb                    19427 non-null  float64\n",
      " 66  secondary_cleaner.output.tail_sol                   17691 non-null  float64\n",
      " 67  secondary_cleaner.output.tail_au                    19439 non-null  float64\n",
      " 68  secondary_cleaner.state.floatbank2_a_air            19219 non-null  float64\n",
      " 69  secondary_cleaner.state.floatbank2_a_level          19438 non-null  float64\n",
      " 70  secondary_cleaner.state.floatbank2_b_air            19416 non-null  float64\n",
      " 71  secondary_cleaner.state.floatbank2_b_level          19438 non-null  float64\n",
      " 72  secondary_cleaner.state.floatbank3_a_air            19426 non-null  float64\n",
      " 73  secondary_cleaner.state.floatbank3_a_level          19438 non-null  float64\n",
      " 74  secondary_cleaner.state.floatbank3_b_air            19438 non-null  float64\n",
      " 75  secondary_cleaner.state.floatbank3_b_level          19438 non-null  float64\n",
      " 76  secondary_cleaner.state.floatbank4_a_air            19433 non-null  float64\n",
      " 77  secondary_cleaner.state.floatbank4_a_level          19438 non-null  float64\n",
      " 78  secondary_cleaner.state.floatbank4_b_air            19438 non-null  float64\n",
      " 79  secondary_cleaner.state.floatbank4_b_level          19438 non-null  float64\n",
      " 80  secondary_cleaner.state.floatbank5_a_air            19438 non-null  float64\n",
      " 81  secondary_cleaner.state.floatbank5_a_level          19438 non-null  float64\n",
      " 82  secondary_cleaner.state.floatbank5_b_air            19438 non-null  float64\n",
      " 83  secondary_cleaner.state.floatbank5_b_level          19438 non-null  float64\n",
      " 84  secondary_cleaner.state.floatbank6_a_air            19437 non-null  float64\n",
      " 85  secondary_cleaner.state.floatbank6_a_level          19438 non-null  float64\n",
      "dtypes: float64(86)\n",
      "memory usage: 12.9+ MB\n"
     ]
    }
   ],
   "source": [
    "full_data.info()"
   ]
  },
  {
   "cell_type": "markdown",
   "metadata": {},
   "source": [
    "### Проверяем, что эфективность обогащения рассчитана правильно\n",
    "\n",
    "[к навигации](#Навигация)"
   ]
  },
  {
   "cell_type": "code",
   "execution_count": 9,
   "metadata": {},
   "outputs": [],
   "source": [
    "def get_recovery(row, c_col, f_col, t_col):\n",
    "    c = row[c_col]  # доля золота в концентрате после флортации/очистки\n",
    "    f = row[f_col]  # доля золота в сырье/концентрате до флотации/очистки\n",
    "    t = row[t_col]  # доля золота в отвальных хвостах после флортации/очистки\n",
    "\n",
    "    recovery = ((c * (f - t)) / (f * (c - t))) * 100\n",
    "\n",
    "    return recovery\n",
    "\n",
    "\n",
    "def get_rougher_recovery(row):\n",
    "    return get_recovery(\n",
    "        row,\n",
    "        c_col='rougher.output.concentrate_au',\n",
    "        f_col='rougher.input.feed_au',\n",
    "        t_col='rougher.output.tail_au',\n",
    "    )\n",
    "\n",
    "\n",
    "def get_final_recovery(row):\n",
    "    return get_recovery(\n",
    "        row,\n",
    "        c_col='final.output.concentrate_au',\n",
    "        f_col='rougher.output.concentrate_au',\n",
    "        t_col='final.output.tail_au',\n",
    "    )"
   ]
  },
  {
   "cell_type": "code",
   "execution_count": 10,
   "metadata": {},
   "outputs": [
    {
     "name": "stdout",
     "output_type": "stream",
     "text": [
      "MAE: 9.73512347450521e-15\n"
     ]
    }
   ],
   "source": [
    "my_rougher_recovery = train_data.apply(get_rougher_recovery, axis=1)\n",
    "print('MAE:', mean_absolute_error(my_rougher_recovery, train_data['rougher.output.recovery']))"
   ]
  },
  {
   "cell_type": "code",
   "execution_count": 11,
   "metadata": {},
   "outputs": [
    {
     "data": {
      "text/plain": [
       "count    14149.000000\n",
       "mean        82.704502\n",
       "std         14.479156\n",
       "min         -0.000000\n",
       "25%         79.993067\n",
       "50%         85.299462\n",
       "75%         90.165021\n",
       "max        100.000000\n",
       "dtype: float64"
      ]
     },
     "execution_count": 11,
     "metadata": {},
     "output_type": "execute_result"
    }
   ],
   "source": [
    "# для оценки значений\n",
    "my_rougher_recovery = pd.Series(my_rougher_recovery)\n",
    "my_rougher_recovery.describe()"
   ]
  },
  {
   "cell_type": "markdown",
   "metadata": {},
   "source": [
    "__Вывод__: MAE имеет невероятно малое значение, значит `recovery` рассчитано верно."
   ]
  },
  {
   "cell_type": "markdown",
   "metadata": {},
   "source": [
    "### Проанализируем признаки, недоступные в тестовой выборке\n",
    "\n",
    "[к навигации](#Навигация)"
   ]
  },
  {
   "cell_type": "code",
   "execution_count": 12,
   "metadata": {},
   "outputs": [
    {
     "data": {
      "text/plain": [
       "{'final.output.concentrate_ag',\n",
       " 'final.output.concentrate_au',\n",
       " 'final.output.concentrate_pb',\n",
       " 'final.output.concentrate_sol',\n",
       " 'final.output.recovery',\n",
       " 'final.output.tail_ag',\n",
       " 'final.output.tail_au',\n",
       " 'final.output.tail_pb',\n",
       " 'final.output.tail_sol',\n",
       " 'primary_cleaner.output.concentrate_ag',\n",
       " 'primary_cleaner.output.concentrate_au',\n",
       " 'primary_cleaner.output.concentrate_pb',\n",
       " 'primary_cleaner.output.concentrate_sol',\n",
       " 'primary_cleaner.output.tail_ag',\n",
       " 'primary_cleaner.output.tail_au',\n",
       " 'primary_cleaner.output.tail_pb',\n",
       " 'primary_cleaner.output.tail_sol',\n",
       " 'rougher.calculation.au_pb_ratio',\n",
       " 'rougher.calculation.floatbank10_sulfate_to_au_feed',\n",
       " 'rougher.calculation.floatbank11_sulfate_to_au_feed',\n",
       " 'rougher.calculation.sulfate_to_au_concentrate',\n",
       " 'rougher.output.concentrate_ag',\n",
       " 'rougher.output.concentrate_au',\n",
       " 'rougher.output.concentrate_pb',\n",
       " 'rougher.output.concentrate_sol',\n",
       " 'rougher.output.recovery',\n",
       " 'rougher.output.tail_ag',\n",
       " 'rougher.output.tail_au',\n",
       " 'rougher.output.tail_pb',\n",
       " 'rougher.output.tail_sol',\n",
       " 'secondary_cleaner.output.tail_ag',\n",
       " 'secondary_cleaner.output.tail_au',\n",
       " 'secondary_cleaner.output.tail_pb',\n",
       " 'secondary_cleaner.output.tail_sol'}"
      ]
     },
     "execution_count": 12,
     "metadata": {},
     "output_type": "execute_result"
    }
   ],
   "source": [
    "train_columns = set(train_data.columns)\n",
    "test_columns = set(test_data.columns)\n",
    "full_columns = set(full_data.columns)\n",
    "\n",
    "train_columns - test_columns"
   ]
  },
  {
   "cell_type": "markdown",
   "metadata": {},
   "source": [
    "- в основном отсутствуют данные по результатам этапов обработки руды\n",
    "- ещё отсутствуют расчитанные значения"
   ]
  },
  {
   "cell_type": "markdown",
   "metadata": {},
   "source": [
    "### Проведём предобработку данных\n",
    "\n",
    "[к навигации](#Навигация)"
   ]
  },
  {
   "cell_type": "code",
   "execution_count": 13,
   "metadata": {},
   "outputs": [
    {
     "name": "stdout",
     "output_type": "stream",
     "text": [
      "Хм ...\n"
     ]
    }
   ],
   "source": [
    "if len(train_columns & test_columns) == 0:\n",
    "    print('Отлично, пересечений по индексам нет.')\n",
    "else:\n",
    "    print('Хм ...')"
   ]
  },
  {
   "cell_type": "code",
   "execution_count": 14,
   "metadata": {},
   "outputs": [
    {
     "name": "stdout",
     "output_type": "stream",
     "text": [
      "В full присутствуют все train\n"
     ]
    }
   ],
   "source": [
    "if len(full_columns & train_columns) == len(train_columns):\n",
    "    print('В full присутствуют все train')\n",
    "else:\n",
    "    print('Хм ...')"
   ]
  },
  {
   "cell_type": "code",
   "execution_count": 15,
   "metadata": {},
   "outputs": [
    {
     "name": "stdout",
     "output_type": "stream",
     "text": [
      "В full присутствуют все test\n"
     ]
    }
   ],
   "source": [
    "if len(full_columns & test_columns) == len(test_columns):\n",
    "    print('В full присутствуют все test')\n",
    "else:\n",
    "    print('Хм ...')"
   ]
  },
  {
   "cell_type": "code",
   "execution_count": 16,
   "metadata": {},
   "outputs": [],
   "source": [
    "rougher_features = [\n",
    "    'rougher.input.feed_ag',\n",
    "    'rougher.input.feed_pb',\n",
    "    'rougher.input.feed_rate',\n",
    "    'rougher.input.feed_size',\n",
    "    'rougher.input.feed_sol',\n",
    "    'rougher.input.feed_au',\n",
    "    'rougher.input.floatbank10_sulfate',\n",
    "    'rougher.input.floatbank10_xanthate',\n",
    "    'rougher.input.floatbank11_sulfate',\n",
    "    'rougher.input.floatbank11_xanthate',\n",
    "]\n",
    "# другие признаки брать нельзя: произойдёт data leak\n",
    "X_train_rougher = full_data.loc[train_data.index, rougher_features]\n",
    "y_train_rougher = full_data.loc[train_data.index, 'rougher.output.recovery']\n",
    "\n",
    "X_test_rougher = full_data.loc[test_data.index, rougher_features]\n",
    "y_test_rougher = full_data.loc[test_data.index, 'rougher.output.recovery']"
   ]
  },
  {
   "cell_type": "code",
   "execution_count": 17,
   "metadata": {},
   "outputs": [],
   "source": [
    "final_features = [\n",
    "    'primary_cleaner.output.concentrate_ag',\n",
    "    'primary_cleaner.output.concentrate_pb',\n",
    "    'primary_cleaner.output.concentrate_sol',\n",
    "    'primary_cleaner.output.concentrate_au',\n",
    "    'secondary_cleaner.state.floatbank2_a_air',\n",
    "    'secondary_cleaner.state.floatbank2_a_level',\n",
    "    'secondary_cleaner.state.floatbank2_b_air',\n",
    "    'secondary_cleaner.state.floatbank2_b_level',\n",
    "    'secondary_cleaner.state.floatbank3_a_air',\n",
    "    'secondary_cleaner.state.floatbank3_a_level',\n",
    "    'secondary_cleaner.state.floatbank3_b_air',\n",
    "    'secondary_cleaner.state.floatbank3_b_level',\n",
    "    'secondary_cleaner.state.floatbank4_a_air',\n",
    "    'secondary_cleaner.state.floatbank4_a_level',\n",
    "    'secondary_cleaner.state.floatbank4_b_air',\n",
    "    'secondary_cleaner.state.floatbank4_b_level',\n",
    "    'secondary_cleaner.state.floatbank5_a_air',\n",
    "    'secondary_cleaner.state.floatbank5_a_level',\n",
    "    'secondary_cleaner.state.floatbank5_b_air',\n",
    "    'secondary_cleaner.state.floatbank5_b_level',\n",
    "    'secondary_cleaner.state.floatbank6_a_air',\n",
    "    'secondary_cleaner.state.floatbank6_a_level',\n",
    "]\n",
    "X_train_final = full_data.loc[train_data.index, final_features]\n",
    "y_train_final = full_data.loc[train_data.index, 'final.output.recovery']\n",
    "\n",
    "X_test_final = full_data.loc[test_data.index, final_features]\n",
    "y_test_final = full_data.loc[test_data.index, 'final.output.recovery']"
   ]
  },
  {
   "cell_type": "code",
   "execution_count": 18,
   "metadata": {},
   "outputs": [],
   "source": [
    "X_train_rougher = X_train_rougher.fillna(method='ffill')\n",
    "X_test_rougher = X_test_rougher.fillna(method='ffill')\n",
    "\n",
    "X_train_final = X_train_final.fillna(method='ffill')\n",
    "X_test_final = X_test_final.fillna(method='ffill')"
   ]
  },
  {
   "cell_type": "markdown",
   "metadata": {},
   "source": [
    "## Анализ данных\n",
    "\n",
    "[к навигации](#Навигация)"
   ]
  },
  {
   "cell_type": "markdown",
   "metadata": {},
   "source": [
    "### Посмотрим, как меняется концентрация металлов на различных этапах очистки\n",
    "\n",
    "[к навигации](#Навигация)"
   ]
  },
  {
   "cell_type": "code",
   "execution_count": 19,
   "metadata": {},
   "outputs": [],
   "source": [
    "analysis_columns = [\n",
    "    # сырье\n",
    "    'rougher.input.feed_au',\n",
    "    'rougher.input.feed_ag',\n",
    "    'rougher.input.feed_pb',\n",
    "    # после флорации\n",
    "    'rougher.output.concentrate_au',\n",
    "    'rougher.output.concentrate_ag',\n",
    "    'rougher.output.concentrate_pb',\n",
    "    # после первого этапа очистки\n",
    "    'primary_cleaner.output.concentrate_au',\n",
    "    'primary_cleaner.output.concentrate_ag',\n",
    "    'primary_cleaner.output.concentrate_pb',\n",
    "    # после второго этапа очистки\n",
    "    'final.output.concentrate_au',\n",
    "    'final.output.concentrate_ag',\n",
    "    'final.output.concentrate_pb',\n",
    "    # размер гранул сырья\n",
    "    'rougher.input.feed_size',\n",
    "]\n",
    "train_analysis = full_data.loc[train_data.index, analysis_columns]\n",
    "test_analysis = full_data.loc[test_data.index, analysis_columns]"
   ]
  },
  {
   "cell_type": "code",
   "execution_count": 20,
   "metadata": {},
   "outputs": [
    {
     "data": {
      "image/png": "[encoded data removed]",
      "text/plain": [
       "<Figure size 1700x1500 with 6 Axes>"
      ]
     },
     "metadata": {},
     "output_type": "display_data"
    }
   ],
   "source": [
    "fig, axes = plt.subplots(3, 2, figsize=(17, 15))\n",
    "\n",
    "for i, metal in enumerate(['au', 'ag', 'pb']):\n",
    "    sns.kdeplot(data=train_analysis, x=f'rougher.input.feed_{metal}', ax=axes[i, 0], label='feed')\n",
    "    sns.kdeplot(data=train_analysis, x=f'rougher.output.concentrate_{metal}', ax=axes[i, 0], label='rougher')\n",
    "    sns.kdeplot(data=train_analysis, x=f'primary_cleaner.output.concentrate_{metal}', ax=axes[i, 0], label='primary_cleaner')\n",
    "    sns.kdeplot(data=train_analysis, x=f'final.output.concentrate_{metal}', ax=axes[i, 0], label='final')\n",
    "    axes[i, 0].set_xlabel(f'concentrate_{metal}')\n",
    "    axes[i, 0].legend()\n",
    "\n",
    "    sns.kdeplot(data=test_analysis, x=f'rougher.input.feed_{metal}', ax=axes[i, 1], label='feed')\n",
    "    sns.kdeplot(data=test_analysis, x=f'rougher.output.concentrate_{metal}', ax=axes[i, 1], label='rougher')\n",
    "    sns.kdeplot(data=test_analysis, x=f'primary_cleaner.output.concentrate_{metal}', ax=axes[i, 1], label='primary_cleaner')\n",
    "    sns.kdeplot(data=test_analysis, x=f'final.output.concentrate_{metal}', ax=axes[i, 1], label='final')\n",
    "    axes[i, 1].set_xlabel(f'concentrate_{metal}')\n",
    "    axes[i, 1].legend()\n",
    "\n",
    "plt.show()"
   ]
  },
  {
   "cell_type": "markdown",
   "metadata": {},
   "source": [
    "__Выводы__:\n",
    "- Концентрация Au на каждом этапе растёт. train и test схожи\n",
    "- Концентрация Ag меняется неравномерно. train и test схожи\n",
    "- На train концентраци Pb растёт с каждым этапом. На последнем шаге уменьшается дисперсия, носохраняется среднее. На test концентраци Pb меняется неравномерно. Можно заметить разницу в дисперсиях между train и test на всех шагах кроме сырья."
   ]
  },
  {
   "cell_type": "markdown",
   "metadata": {},
   "source": [
    "### Сравним распределения размеров гранул сырья на обучающей и тестовой выборках\n",
    "\n",
    "[к навигации](#Навигация)"
   ]
  },
  {
   "cell_type": "code",
   "execution_count": 21,
   "metadata": {},
   "outputs": [
    {
     "data": {
      "image/png": "[encoded data removed]",
      "text/plain": [
       "<Figure size 1700x700 with 1 Axes>"
      ]
     },
     "metadata": {},
     "output_type": "display_data"
    }
   ],
   "source": [
    "fig, ax = plt.subplots(figsize=(17, 7))\n",
    "\n",
    "sns.kdeplot(data=train_analysis, x='rougher.input.feed_size', ax=ax)\n",
    "sns.kdeplot(data=test_analysis, x='rougher.input.feed_size', ax=ax)\n",
    "\n",
    "plt.show()"
   ]
  },
  {
   "cell_type": "markdown",
   "metadata": {},
   "source": [
    "__Вывод__: распределения весьма схожи."
   ]
  },
  {
   "cell_type": "markdown",
   "metadata": {},
   "source": [
    "### Исследуем суммарную концентрацию всех веществ на разных стадиях\n",
    "\n",
    "[к навигации](#Навигация)"
   ]
  },
  {
   "cell_type": "code",
   "execution_count": 22,
   "metadata": {},
   "outputs": [],
   "source": [
    "full_data['feed_concentrate'] = full_data[[\n",
    "    'rougher.input.feed_ag',\n",
    "    'rougher.input.feed_au',\n",
    "    'rougher.input.feed_pb',\n",
    "]].sum(axis=1)\n",
    "\n",
    "full_data['rougher_concentrate'] = full_data[[\n",
    "    'rougher.output.concentrate_ag',\n",
    "    'rougher.output.concentrate_au',\n",
    "    'rougher.output.concentrate_pb',\n",
    "]].sum(axis=1)\n",
    "\n",
    "full_data['final_concentrate'] = full_data[[\n",
    "    'final.output.concentrate_ag',\n",
    "    'final.output.concentrate_au',\n",
    "    'final.output.concentrate_pb',\n",
    "]].sum(axis=1)"
   ]
  },
  {
   "cell_type": "code",
   "execution_count": 23,
   "metadata": {},
   "outputs": [
    {
     "data": {
      "image/png": "[encoded data removed]",
      "text/plain": [
       "<Figure size 1700x1700 with 3 Axes>"
      ]
     },
     "metadata": {},
     "output_type": "display_data"
    }
   ],
   "source": [
    "fig, axes = plt.subplots(3, 1, figsize=(17, 17))\n",
    "\n",
    "full_data['feed_concentrate'].hist(bins=50, ax=axes[0])\n",
    "axes[0].set_title('Суммарная концентрация металлов в сырье')\n",
    "full_data['rougher_concentrate'].hist(bins=50, ax=axes[1])\n",
    "axes[1].set_title('Суммарная концентрация металлов после флорации')\n",
    "full_data['final_concentrate'].hist(bins=50, ax=axes[2])\n",
    "axes[2].set_title('Суммарная концентрация металлов после второго этапа очистки')\n",
    "\n",
    "plt.show()"
   ]
  },
  {
   "cell_type": "code",
   "execution_count": 24,
   "metadata": {},
   "outputs": [],
   "source": [
    "drop_index = full_data[\n",
    "    (full_data['feed_concentrate'] == 0) | (full_data['rougher_concentrate'] == 0) | (full_data['final_concentrate'] == 0)\n",
    "].index"
   ]
  },
  {
   "cell_type": "code",
   "execution_count": 25,
   "metadata": {},
   "outputs": [],
   "source": [
    "index_train = list(set(X_train_rougher.index) - set(drop_index))\n",
    "index_test = list(set(X_test_rougher.index) - set(drop_index))"
   ]
  },
  {
   "cell_type": "code",
   "execution_count": 26,
   "metadata": {},
   "outputs": [],
   "source": [
    "X_train_rougher = X_train_rougher.loc[index_train]\n",
    "y_train_rougher = y_train_rougher.loc[index_train]\n",
    "X_train_final = X_train_final.loc[index_train]\n",
    "y_train_final = y_train_final.loc[index_train]\n",
    "\n",
    "X_test_rougher = X_test_rougher.loc[index_test]\n",
    "y_test_rougher = y_test_rougher.loc[index_test]\n",
    "X_test_final = X_test_final.loc[index_test]\n",
    "y_test_final = y_test_final.loc[index_test]"
   ]
  },
  {
   "cell_type": "markdown",
   "metadata": {},
   "source": [
    "## Модель\n",
    "\n",
    "[к навигации](#Навигация)"
   ]
  },
  {
   "cell_type": "markdown",
   "metadata": {},
   "source": [
    "### Напишем функцию для вычисления итоговой sMAPE\n",
    "\n",
    "[к навигации](#Навигация)"
   ]
  },
  {
   "cell_type": "code",
   "execution_count": 27,
   "metadata": {},
   "outputs": [],
   "source": [
    "def sMAPE(y_true, y_pred):\n",
    "    y_true = np.array(y_true)\n",
    "    y_pred = np.array(y_pred)\n",
    "    \n",
    "    numerator = np.abs(y_true - y_pred)\n",
    "    denominator = (np.abs(y_true) + np.abs(y_pred) + 1e-15) / 2\n",
    "    \n",
    "    result = np.mean(numerator / denominator) * 100\n",
    "    \n",
    "    return result\n",
    "\n",
    "\n",
    "def final_sMAPE(y_true_rougher, y_pred_rougher, y_true_final, y_pred_final):\n",
    "    return 0.25 * sMAPE(y_true_rougher, y_pred_rougher) + 0.75 * sMAPE(y_true_final, y_pred_final)\n",
    "\n",
    "\n",
    "smape_score = make_scorer(sMAPE, greater_is_better=False)"
   ]
  },
  {
   "cell_type": "markdown",
   "metadata": {},
   "source": [
    "### Обучим разные модели и оценим их качество кросс-валидацией. Выберем лучшую модль и проверим её на тестовой выборке\n",
    "\n",
    "[к навигации](#Навигация)"
   ]
  },
  {
   "cell_type": "code",
   "execution_count": 28,
   "metadata": {},
   "outputs": [
    {
     "name": "stdout",
     "output_type": "stream",
     "text": [
      "CPU times: total: 781 ms\n",
      "Wall time: 5.09 s\n"
     ]
    },
    {
     "data": {
      "text/html": [
       "<style>#sk-container-id-1 {color: black;background-color: white;}#sk-container-id-1 pre{padding: 0;}#sk-container-id-1 div.sk-toggleable {background-color: white;}#sk-container-id-1 label.sk-toggleable__label {cursor: pointer;display: block;width: 100%;margin-bottom: 0;padding: 0.3em;box-sizing: border-box;text-align: center;}#sk-container-id-1 label.sk-toggleable__label-arrow:before {content: \"▸\";float: left;margin-right: 0.25em;color: #696969;}#sk-container-id-1 label.sk-toggleable__label-arrow:hover:before {color: black;}#sk-container-id-1 div.sk-estimator:hover label.sk-toggleable__label-arrow:before {color: black;}#sk-container-id-1 div.sk-toggleable__content {max-height: 0;max-width: 0;overflow: hidden;text-align: left;background-color: #f0f8ff;}#sk-container-id-1 div.sk-toggleable__content pre {margin: 0.2em;color: black;border-radius: 0.25em;background-color: #f0f8ff;}#sk-container-id-1 input.sk-toggleable__control:checked~div.sk-toggleable__content {max-height: 200px;max-width: 100%;overflow: auto;}#sk-container-id-1 input.sk-toggleable__control:checked~label.sk-toggleable__label-arrow:before {content: \"▾\";}#sk-container-id-1 div.sk-estimator input.sk-toggleable__control:checked~label.sk-toggleable__label {background-color: #d4ebff;}#sk-container-id-1 div.sk-label input.sk-toggleable__control:checked~label.sk-toggleable__label {background-color: #d4ebff;}#sk-container-id-1 input.sk-hidden--visually {border: 0;clip: rect(1px 1px 1px 1px);clip: rect(1px, 1px, 1px, 1px);height: 1px;margin: -1px;overflow: hidden;padding: 0;position: absolute;width: 1px;}#sk-container-id-1 div.sk-estimator {font-family: monospace;background-color: #f0f8ff;border: 1px dotted black;border-radius: 0.25em;box-sizing: border-box;margin-bottom: 0.5em;}#sk-container-id-1 div.sk-estimator:hover {background-color: #d4ebff;}#sk-container-id-1 div.sk-parallel-item::after {content: \"\";width: 100%;border-bottom: 1px solid gray;flex-grow: 1;}#sk-container-id-1 div.sk-label:hover label.sk-toggleable__label {background-color: #d4ebff;}#sk-container-id-1 div.sk-serial::before {content: \"\";position: absolute;border-left: 1px solid gray;box-sizing: border-box;top: 0;bottom: 0;left: 50%;z-index: 0;}#sk-container-id-1 div.sk-serial {display: flex;flex-direction: column;align-items: center;background-color: white;padding-right: 0.2em;padding-left: 0.2em;position: relative;}#sk-container-id-1 div.sk-item {position: relative;z-index: 1;}#sk-container-id-1 div.sk-parallel {display: flex;align-items: stretch;justify-content: center;background-color: white;position: relative;}#sk-container-id-1 div.sk-item::before, #sk-container-id-1 div.sk-parallel-item::before {content: \"\";position: absolute;border-left: 1px solid gray;box-sizing: border-box;top: 0;bottom: 0;left: 50%;z-index: -1;}#sk-container-id-1 div.sk-parallel-item {display: flex;flex-direction: column;z-index: 1;position: relative;background-color: white;}#sk-container-id-1 div.sk-parallel-item:first-child::after {align-self: flex-end;width: 50%;}#sk-container-id-1 div.sk-parallel-item:last-child::after {align-self: flex-start;width: 50%;}#sk-container-id-1 div.sk-parallel-item:only-child::after {width: 0;}#sk-container-id-1 div.sk-dashed-wrapped {border: 1px dashed gray;margin: 0 0.4em 0.5em 0.4em;box-sizing: border-box;padding-bottom: 0.4em;background-color: white;}#sk-container-id-1 div.sk-label label {font-family: monospace;font-weight: bold;display: inline-block;line-height: 1.2em;}#sk-container-id-1 div.sk-label-container {text-align: center;}#sk-container-id-1 div.sk-container {/* jupyter's `normalize.less` sets `[hidden] { display: none; }` but bootstrap.min.css set `[hidden] { display: none !important; }` so we also need the `!important` here to be able to override the default hidden behavior on the sphinx rendered scikit-learn.org. See: https://github.com/scikit-learn/scikit-learn/issues/21755 */display: inline-block !important;position: relative;}#sk-container-id-1 div.sk-text-repr-fallback {display: none;}</style><div id=\"sk-container-id-1\" class=\"sk-top-container\"><div class=\"sk-text-repr-fallback\"><pre>GridSearchCV(cv=ShuffleSplit(n_splits=5, random_state=42, test_size=0.25, train_size=None),\n",
       "             estimator=DecisionTreeRegressor(random_state=42), n_jobs=-1,\n",
       "             param_grid={&#x27;max_depth&#x27;: [1, 3, 5, 7, 9, 11, 13, 15]},\n",
       "             scoring=make_scorer(sMAPE, greater_is_better=False))</pre><b>In a Jupyter environment, please rerun this cell to show the HTML representation or trust the notebook. <br />On GitHub, the HTML representation is unable to render, please try loading this page with nbviewer.org.</b></div><div class=\"sk-container\" hidden><div class=\"sk-item sk-dashed-wrapped\"><div class=\"sk-label-container\"><div class=\"sk-label sk-toggleable\"><input class=\"sk-toggleable__control sk-hidden--visually\" id=\"sk-estimator-id-1\" type=\"checkbox\" ><label for=\"sk-estimator-id-1\" class=\"sk-toggleable__label sk-toggleable__label-arrow\">GridSearchCV</label><div class=\"sk-toggleable__content\"><pre>GridSearchCV(cv=ShuffleSplit(n_splits=5, random_state=42, test_size=0.25, train_size=None),\n",
       "             estimator=DecisionTreeRegressor(random_state=42), n_jobs=-1,\n",
       "             param_grid={&#x27;max_depth&#x27;: [1, 3, 5, 7, 9, 11, 13, 15]},\n",
       "             scoring=make_scorer(sMAPE, greater_is_better=False))</pre></div></div></div><div class=\"sk-parallel\"><div class=\"sk-parallel-item\"><div class=\"sk-item\"><div class=\"sk-label-container\"><div class=\"sk-label sk-toggleable\"><input class=\"sk-toggleable__control sk-hidden--visually\" id=\"sk-estimator-id-2\" type=\"checkbox\" ><label for=\"sk-estimator-id-2\" class=\"sk-toggleable__label sk-toggleable__label-arrow\">estimator: DecisionTreeRegressor</label><div class=\"sk-toggleable__content\"><pre>DecisionTreeRegressor(random_state=42)</pre></div></div></div><div class=\"sk-serial\"><div class=\"sk-item\"><div class=\"sk-estimator sk-toggleable\"><input class=\"sk-toggleable__control sk-hidden--visually\" id=\"sk-estimator-id-3\" type=\"checkbox\" ><label for=\"sk-estimator-id-3\" class=\"sk-toggleable__label sk-toggleable__label-arrow\">DecisionTreeRegressor</label><div class=\"sk-toggleable__content\"><pre>DecisionTreeRegressor(random_state=42)</pre></div></div></div></div></div></div></div></div></div></div>"
      ],
      "text/plain": [
       "GridSearchCV(cv=ShuffleSplit(n_splits=5, random_state=42, test_size=0.25, train_size=None),\n",
       "             estimator=DecisionTreeRegressor(random_state=42), n_jobs=-1,\n",
       "             param_grid={'max_depth': [1, 3, 5, 7, 9, 11, 13, 15]},\n",
       "             scoring=make_scorer(sMAPE, greater_is_better=False))"
      ]
     },
     "execution_count": 28,
     "metadata": {},
     "output_type": "execute_result"
    }
   ],
   "source": [
    "%%time\n",
    "# DecisionTreeRegressor\n",
    "grid_search_r = GridSearchCV(\n",
    "    DecisionTreeRegressor(random_state=RANDOM_STATE),\n",
    "    param_grid={'max_depth': list(range(1, 16, 2))},\n",
    "    scoring=smape_score,\n",
    "    n_jobs=-1,\n",
    "    cv=ShuffleSplit(\n",
    "        n_splits=5,\n",
    "        test_size=0.25,\n",
    "        random_state=RANDOM_STATE,\n",
    "    ),\n",
    ")\n",
    "grid_search_r.fit(X_train_rougher, y_train_rougher)"
   ]
  },
  {
   "cell_type": "code",
   "execution_count": 29,
   "metadata": {},
   "outputs": [
    {
     "name": "stdout",
     "output_type": "stream",
     "text": [
      "Лучший гиперпараметр {'max_depth': 15}\n",
      "Лучший score -4.271856434622891\n"
     ]
    }
   ],
   "source": [
    "print(f'Лучший гиперпараметр {grid_search_r.best_params_}\\n'\n",
    "      f'Лучший score {grid_search_r.best_score_}')"
   ]
  },
  {
   "cell_type": "code",
   "execution_count": 30,
   "metadata": {},
   "outputs": [
    {
     "name": "stdout",
     "output_type": "stream",
     "text": [
      "CPU times: total: 10.1 s\n",
      "Wall time: 1min 10s\n"
     ]
    },
    {
     "data": {
      "text/html": [
       "<style>#sk-container-id-2 {color: black;background-color: white;}#sk-container-id-2 pre{padding: 0;}#sk-container-id-2 div.sk-toggleable {background-color: white;}#sk-container-id-2 label.sk-toggleable__label {cursor: pointer;display: block;width: 100%;margin-bottom: 0;padding: 0.3em;box-sizing: border-box;text-align: center;}#sk-container-id-2 label.sk-toggleable__label-arrow:before {content: \"▸\";float: left;margin-right: 0.25em;color: #696969;}#sk-container-id-2 label.sk-toggleable__label-arrow:hover:before {color: black;}#sk-container-id-2 div.sk-estimator:hover label.sk-toggleable__label-arrow:before {color: black;}#sk-container-id-2 div.sk-toggleable__content {max-height: 0;max-width: 0;overflow: hidden;text-align: left;background-color: #f0f8ff;}#sk-container-id-2 div.sk-toggleable__content pre {margin: 0.2em;color: black;border-radius: 0.25em;background-color: #f0f8ff;}#sk-container-id-2 input.sk-toggleable__control:checked~div.sk-toggleable__content {max-height: 200px;max-width: 100%;overflow: auto;}#sk-container-id-2 input.sk-toggleable__control:checked~label.sk-toggleable__label-arrow:before {content: \"▾\";}#sk-container-id-2 div.sk-estimator input.sk-toggleable__control:checked~label.sk-toggleable__label {background-color: #d4ebff;}#sk-container-id-2 div.sk-label input.sk-toggleable__control:checked~label.sk-toggleable__label {background-color: #d4ebff;}#sk-container-id-2 input.sk-hidden--visually {border: 0;clip: rect(1px 1px 1px 1px);clip: rect(1px, 1px, 1px, 1px);height: 1px;margin: -1px;overflow: hidden;padding: 0;position: absolute;width: 1px;}#sk-container-id-2 div.sk-estimator {font-family: monospace;background-color: #f0f8ff;border: 1px dotted black;border-radius: 0.25em;box-sizing: border-box;margin-bottom: 0.5em;}#sk-container-id-2 div.sk-estimator:hover {background-color: #d4ebff;}#sk-container-id-2 div.sk-parallel-item::after {content: \"\";width: 100%;border-bottom: 1px solid gray;flex-grow: 1;}#sk-container-id-2 div.sk-label:hover label.sk-toggleable__label {background-color: #d4ebff;}#sk-container-id-2 div.sk-serial::before {content: \"\";position: absolute;border-left: 1px solid gray;box-sizing: border-box;top: 0;bottom: 0;left: 50%;z-index: 0;}#sk-container-id-2 div.sk-serial {display: flex;flex-direction: column;align-items: center;background-color: white;padding-right: 0.2em;padding-left: 0.2em;position: relative;}#sk-container-id-2 div.sk-item {position: relative;z-index: 1;}#sk-container-id-2 div.sk-parallel {display: flex;align-items: stretch;justify-content: center;background-color: white;position: relative;}#sk-container-id-2 div.sk-item::before, #sk-container-id-2 div.sk-parallel-item::before {content: \"\";position: absolute;border-left: 1px solid gray;box-sizing: border-box;top: 0;bottom: 0;left: 50%;z-index: -1;}#sk-container-id-2 div.sk-parallel-item {display: flex;flex-direction: column;z-index: 1;position: relative;background-color: white;}#sk-container-id-2 div.sk-parallel-item:first-child::after {align-self: flex-end;width: 50%;}#sk-container-id-2 div.sk-parallel-item:last-child::after {align-self: flex-start;width: 50%;}#sk-container-id-2 div.sk-parallel-item:only-child::after {width: 0;}#sk-container-id-2 div.sk-dashed-wrapped {border: 1px dashed gray;margin: 0 0.4em 0.5em 0.4em;box-sizing: border-box;padding-bottom: 0.4em;background-color: white;}#sk-container-id-2 div.sk-label label {font-family: monospace;font-weight: bold;display: inline-block;line-height: 1.2em;}#sk-container-id-2 div.sk-label-container {text-align: center;}#sk-container-id-2 div.sk-container {/* jupyter's `normalize.less` sets `[hidden] { display: none; }` but bootstrap.min.css set `[hidden] { display: none !important; }` so we also need the `!important` here to be able to override the default hidden behavior on the sphinx rendered scikit-learn.org. See: https://github.com/scikit-learn/scikit-learn/issues/21755 */display: inline-block !important;position: relative;}#sk-container-id-2 div.sk-text-repr-fallback {display: none;}</style><div id=\"sk-container-id-2\" class=\"sk-top-container\"><div class=\"sk-text-repr-fallback\"><pre>GridSearchCV(cv=ShuffleSplit(n_splits=5, random_state=42, test_size=0.25, train_size=None),\n",
       "             estimator=RandomForestRegressor(random_state=42), n_jobs=-1,\n",
       "             param_grid={&#x27;max_depth&#x27;: [1, 3, 5, 7, 9, 11, 13, 15]},\n",
       "             scoring=make_scorer(sMAPE, greater_is_better=False))</pre><b>In a Jupyter environment, please rerun this cell to show the HTML representation or trust the notebook. <br />On GitHub, the HTML representation is unable to render, please try loading this page with nbviewer.org.</b></div><div class=\"sk-container\" hidden><div class=\"sk-item sk-dashed-wrapped\"><div class=\"sk-label-container\"><div class=\"sk-label sk-toggleable\"><input class=\"sk-toggleable__control sk-hidden--visually\" id=\"sk-estimator-id-4\" type=\"checkbox\" ><label for=\"sk-estimator-id-4\" class=\"sk-toggleable__label sk-toggleable__label-arrow\">GridSearchCV</label><div class=\"sk-toggleable__content\"><pre>GridSearchCV(cv=ShuffleSplit(n_splits=5, random_state=42, test_size=0.25, train_size=None),\n",
       "             estimator=RandomForestRegressor(random_state=42), n_jobs=-1,\n",
       "             param_grid={&#x27;max_depth&#x27;: [1, 3, 5, 7, 9, 11, 13, 15]},\n",
       "             scoring=make_scorer(sMAPE, greater_is_better=False))</pre></div></div></div><div class=\"sk-parallel\"><div class=\"sk-parallel-item\"><div class=\"sk-item\"><div class=\"sk-label-container\"><div class=\"sk-label sk-toggleable\"><input class=\"sk-toggleable__control sk-hidden--visually\" id=\"sk-estimator-id-5\" type=\"checkbox\" ><label for=\"sk-estimator-id-5\" class=\"sk-toggleable__label sk-toggleable__label-arrow\">estimator: RandomForestRegressor</label><div class=\"sk-toggleable__content\"><pre>RandomForestRegressor(random_state=42)</pre></div></div></div><div class=\"sk-serial\"><div class=\"sk-item\"><div class=\"sk-estimator sk-toggleable\"><input class=\"sk-toggleable__control sk-hidden--visually\" id=\"sk-estimator-id-6\" type=\"checkbox\" ><label for=\"sk-estimator-id-6\" class=\"sk-toggleable__label sk-toggleable__label-arrow\">RandomForestRegressor</label><div class=\"sk-toggleable__content\"><pre>RandomForestRegressor(random_state=42)</pre></div></div></div></div></div></div></div></div></div></div>"
      ],
      "text/plain": [
       "GridSearchCV(cv=ShuffleSplit(n_splits=5, random_state=42, test_size=0.25, train_size=None),\n",
       "             estimator=RandomForestRegressor(random_state=42), n_jobs=-1,\n",
       "             param_grid={'max_depth': [1, 3, 5, 7, 9, 11, 13, 15]},\n",
       "             scoring=make_scorer(sMAPE, greater_is_better=False))"
      ]
     },
     "execution_count": 30,
     "metadata": {},
     "output_type": "execute_result"
    }
   ],
   "source": [
    "%%time\n",
    "# RandomForestRegressor\n",
    "grid_search_r = GridSearchCV(\n",
    "    RandomForestRegressor(random_state=RANDOM_STATE),\n",
    "    param_grid={'max_depth': list(range(1, 16, 2))},\n",
    "    scoring=smape_score,\n",
    "    n_jobs=-1,\n",
    "    cv=ShuffleSplit(\n",
    "        n_splits=5,\n",
    "        test_size=0.25,\n",
    "        random_state=RANDOM_STATE,\n",
    "    ),\n",
    ")\n",
    "grid_search_r.fit(X_train_rougher, y_train_rougher)"
   ]
  },
  {
   "cell_type": "code",
   "execution_count": 31,
   "metadata": {},
   "outputs": [
    {
     "name": "stdout",
     "output_type": "stream",
     "text": [
      "Лучший гиперпараметр {'max_depth': 15}\n",
      "Лучший score -3.385898976177559\n"
     ]
    }
   ],
   "source": [
    "print(f'Лучший гиперпараметр {grid_search_r.best_params_}\\n'\n",
    "      f'Лучший score {grid_search_r.best_score_}')"
   ]
  },
  {
   "cell_type": "code",
   "execution_count": 32,
   "metadata": {},
   "outputs": [],
   "source": [
    "model_rougher = grid_search_r.best_estimator_"
   ]
  },
  {
   "cell_type": "markdown",
   "metadata": {},
   "source": [
    "---"
   ]
  },
  {
   "cell_type": "code",
   "execution_count": 33,
   "metadata": {},
   "outputs": [
    {
     "name": "stdout",
     "output_type": "stream",
     "text": [
      "CPU times: total: 422 ms\n",
      "Wall time: 2.64 s\n"
     ]
    },
    {
     "data": {
      "text/html": [
       "<style>#sk-container-id-3 {color: black;background-color: white;}#sk-container-id-3 pre{padding: 0;}#sk-container-id-3 div.sk-toggleable {background-color: white;}#sk-container-id-3 label.sk-toggleable__label {cursor: pointer;display: block;width: 100%;margin-bottom: 0;padding: 0.3em;box-sizing: border-box;text-align: center;}#sk-container-id-3 label.sk-toggleable__label-arrow:before {content: \"▸\";float: left;margin-right: 0.25em;color: #696969;}#sk-container-id-3 label.sk-toggleable__label-arrow:hover:before {color: black;}#sk-container-id-3 div.sk-estimator:hover label.sk-toggleable__label-arrow:before {color: black;}#sk-container-id-3 div.sk-toggleable__content {max-height: 0;max-width: 0;overflow: hidden;text-align: left;background-color: #f0f8ff;}#sk-container-id-3 div.sk-toggleable__content pre {margin: 0.2em;color: black;border-radius: 0.25em;background-color: #f0f8ff;}#sk-container-id-3 input.sk-toggleable__control:checked~div.sk-toggleable__content {max-height: 200px;max-width: 100%;overflow: auto;}#sk-container-id-3 input.sk-toggleable__control:checked~label.sk-toggleable__label-arrow:before {content: \"▾\";}#sk-container-id-3 div.sk-estimator input.sk-toggleable__control:checked~label.sk-toggleable__label {background-color: #d4ebff;}#sk-container-id-3 div.sk-label input.sk-toggleable__control:checked~label.sk-toggleable__label {background-color: #d4ebff;}#sk-container-id-3 input.sk-hidden--visually {border: 0;clip: rect(1px 1px 1px 1px);clip: rect(1px, 1px, 1px, 1px);height: 1px;margin: -1px;overflow: hidden;padding: 0;position: absolute;width: 1px;}#sk-container-id-3 div.sk-estimator {font-family: monospace;background-color: #f0f8ff;border: 1px dotted black;border-radius: 0.25em;box-sizing: border-box;margin-bottom: 0.5em;}#sk-container-id-3 div.sk-estimator:hover {background-color: #d4ebff;}#sk-container-id-3 div.sk-parallel-item::after {content: \"\";width: 100%;border-bottom: 1px solid gray;flex-grow: 1;}#sk-container-id-3 div.sk-label:hover label.sk-toggleable__label {background-color: #d4ebff;}#sk-container-id-3 div.sk-serial::before {content: \"\";position: absolute;border-left: 1px solid gray;box-sizing: border-box;top: 0;bottom: 0;left: 50%;z-index: 0;}#sk-container-id-3 div.sk-serial {display: flex;flex-direction: column;align-items: center;background-color: white;padding-right: 0.2em;padding-left: 0.2em;position: relative;}#sk-container-id-3 div.sk-item {position: relative;z-index: 1;}#sk-container-id-3 div.sk-parallel {display: flex;align-items: stretch;justify-content: center;background-color: white;position: relative;}#sk-container-id-3 div.sk-item::before, #sk-container-id-3 div.sk-parallel-item::before {content: \"\";position: absolute;border-left: 1px solid gray;box-sizing: border-box;top: 0;bottom: 0;left: 50%;z-index: -1;}#sk-container-id-3 div.sk-parallel-item {display: flex;flex-direction: column;z-index: 1;position: relative;background-color: white;}#sk-container-id-3 div.sk-parallel-item:first-child::after {align-self: flex-end;width: 50%;}#sk-container-id-3 div.sk-parallel-item:last-child::after {align-self: flex-start;width: 50%;}#sk-container-id-3 div.sk-parallel-item:only-child::after {width: 0;}#sk-container-id-3 div.sk-dashed-wrapped {border: 1px dashed gray;margin: 0 0.4em 0.5em 0.4em;box-sizing: border-box;padding-bottom: 0.4em;background-color: white;}#sk-container-id-3 div.sk-label label {font-family: monospace;font-weight: bold;display: inline-block;line-height: 1.2em;}#sk-container-id-3 div.sk-label-container {text-align: center;}#sk-container-id-3 div.sk-container {/* jupyter's `normalize.less` sets `[hidden] { display: none; }` but bootstrap.min.css set `[hidden] { display: none !important; }` so we also need the `!important` here to be able to override the default hidden behavior on the sphinx rendered scikit-learn.org. See: https://github.com/scikit-learn/scikit-learn/issues/21755 */display: inline-block !important;position: relative;}#sk-container-id-3 div.sk-text-repr-fallback {display: none;}</style><div id=\"sk-container-id-3\" class=\"sk-top-container\"><div class=\"sk-text-repr-fallback\"><pre>GridSearchCV(cv=ShuffleSplit(n_splits=5, random_state=42, test_size=0.25, train_size=None),\n",
       "             estimator=DecisionTreeRegressor(random_state=42), n_jobs=-1,\n",
       "             param_grid={&#x27;max_depth&#x27;: [1, 3, 5, 7, 9, 11, 13, 15]},\n",
       "             scoring=make_scorer(sMAPE, greater_is_better=False))</pre><b>In a Jupyter environment, please rerun this cell to show the HTML representation or trust the notebook. <br />On GitHub, the HTML representation is unable to render, please try loading this page with nbviewer.org.</b></div><div class=\"sk-container\" hidden><div class=\"sk-item sk-dashed-wrapped\"><div class=\"sk-label-container\"><div class=\"sk-label sk-toggleable\"><input class=\"sk-toggleable__control sk-hidden--visually\" id=\"sk-estimator-id-7\" type=\"checkbox\" ><label for=\"sk-estimator-id-7\" class=\"sk-toggleable__label sk-toggleable__label-arrow\">GridSearchCV</label><div class=\"sk-toggleable__content\"><pre>GridSearchCV(cv=ShuffleSplit(n_splits=5, random_state=42, test_size=0.25, train_size=None),\n",
       "             estimator=DecisionTreeRegressor(random_state=42), n_jobs=-1,\n",
       "             param_grid={&#x27;max_depth&#x27;: [1, 3, 5, 7, 9, 11, 13, 15]},\n",
       "             scoring=make_scorer(sMAPE, greater_is_better=False))</pre></div></div></div><div class=\"sk-parallel\"><div class=\"sk-parallel-item\"><div class=\"sk-item\"><div class=\"sk-label-container\"><div class=\"sk-label sk-toggleable\"><input class=\"sk-toggleable__control sk-hidden--visually\" id=\"sk-estimator-id-8\" type=\"checkbox\" ><label for=\"sk-estimator-id-8\" class=\"sk-toggleable__label sk-toggleable__label-arrow\">estimator: DecisionTreeRegressor</label><div class=\"sk-toggleable__content\"><pre>DecisionTreeRegressor(random_state=42)</pre></div></div></div><div class=\"sk-serial\"><div class=\"sk-item\"><div class=\"sk-estimator sk-toggleable\"><input class=\"sk-toggleable__control sk-hidden--visually\" id=\"sk-estimator-id-9\" type=\"checkbox\" ><label for=\"sk-estimator-id-9\" class=\"sk-toggleable__label sk-toggleable__label-arrow\">DecisionTreeRegressor</label><div class=\"sk-toggleable__content\"><pre>DecisionTreeRegressor(random_state=42)</pre></div></div></div></div></div></div></div></div></div></div>"
      ],
      "text/plain": [
       "GridSearchCV(cv=ShuffleSplit(n_splits=5, random_state=42, test_size=0.25, train_size=None),\n",
       "             estimator=DecisionTreeRegressor(random_state=42), n_jobs=-1,\n",
       "             param_grid={'max_depth': [1, 3, 5, 7, 9, 11, 13, 15]},\n",
       "             scoring=make_scorer(sMAPE, greater_is_better=False))"
      ]
     },
     "execution_count": 33,
     "metadata": {},
     "output_type": "execute_result"
    }
   ],
   "source": [
    "%%time\n",
    "# DecisionTreeRegressor\n",
    "grid_search_f = GridSearchCV(\n",
    "    DecisionTreeRegressor(random_state=RANDOM_STATE),\n",
    "    param_grid={'max_depth': list(range(1, 16, 2))},\n",
    "    scoring=smape_score,\n",
    "    n_jobs=-1,\n",
    "    cv=ShuffleSplit(\n",
    "        n_splits=5,\n",
    "        test_size=0.25,\n",
    "        random_state=RANDOM_STATE,\n",
    "    ),\n",
    ")\n",
    "grid_search_f.fit(X_train_final, y_train_final)"
   ]
  },
  {
   "cell_type": "code",
   "execution_count": 34,
   "metadata": {},
   "outputs": [
    {
     "name": "stdout",
     "output_type": "stream",
     "text": [
      "Лучший гиперпараметр {'max_depth': 7}\n",
      "Лучший score -8.479199842686473\n"
     ]
    }
   ],
   "source": [
    "print(f'Лучший гиперпараметр {grid_search_f.best_params_}\\n'\n",
    "      f'Лучший score {grid_search_f.best_score_}')"
   ]
  },
  {
   "cell_type": "code",
   "execution_count": 35,
   "metadata": {},
   "outputs": [
    {
     "name": "stdout",
     "output_type": "stream",
     "text": [
      "CPU times: total: 22 s\n",
      "Wall time: 2min 7s\n"
     ]
    },
    {
     "data": {
      "text/html": [
       "<style>#sk-container-id-4 {color: black;background-color: white;}#sk-container-id-4 pre{padding: 0;}#sk-container-id-4 div.sk-toggleable {background-color: white;}#sk-container-id-4 label.sk-toggleable__label {cursor: pointer;display: block;width: 100%;margin-bottom: 0;padding: 0.3em;box-sizing: border-box;text-align: center;}#sk-container-id-4 label.sk-toggleable__label-arrow:before {content: \"▸\";float: left;margin-right: 0.25em;color: #696969;}#sk-container-id-4 label.sk-toggleable__label-arrow:hover:before {color: black;}#sk-container-id-4 div.sk-estimator:hover label.sk-toggleable__label-arrow:before {color: black;}#sk-container-id-4 div.sk-toggleable__content {max-height: 0;max-width: 0;overflow: hidden;text-align: left;background-color: #f0f8ff;}#sk-container-id-4 div.sk-toggleable__content pre {margin: 0.2em;color: black;border-radius: 0.25em;background-color: #f0f8ff;}#sk-container-id-4 input.sk-toggleable__control:checked~div.sk-toggleable__content {max-height: 200px;max-width: 100%;overflow: auto;}#sk-container-id-4 input.sk-toggleable__control:checked~label.sk-toggleable__label-arrow:before {content: \"▾\";}#sk-container-id-4 div.sk-estimator input.sk-toggleable__control:checked~label.sk-toggleable__label {background-color: #d4ebff;}#sk-container-id-4 div.sk-label input.sk-toggleable__control:checked~label.sk-toggleable__label {background-color: #d4ebff;}#sk-container-id-4 input.sk-hidden--visually {border: 0;clip: rect(1px 1px 1px 1px);clip: rect(1px, 1px, 1px, 1px);height: 1px;margin: -1px;overflow: hidden;padding: 0;position: absolute;width: 1px;}#sk-container-id-4 div.sk-estimator {font-family: monospace;background-color: #f0f8ff;border: 1px dotted black;border-radius: 0.25em;box-sizing: border-box;margin-bottom: 0.5em;}#sk-container-id-4 div.sk-estimator:hover {background-color: #d4ebff;}#sk-container-id-4 div.sk-parallel-item::after {content: \"\";width: 100%;border-bottom: 1px solid gray;flex-grow: 1;}#sk-container-id-4 div.sk-label:hover label.sk-toggleable__label {background-color: #d4ebff;}#sk-container-id-4 div.sk-serial::before {content: \"\";position: absolute;border-left: 1px solid gray;box-sizing: border-box;top: 0;bottom: 0;left: 50%;z-index: 0;}#sk-container-id-4 div.sk-serial {display: flex;flex-direction: column;align-items: center;background-color: white;padding-right: 0.2em;padding-left: 0.2em;position: relative;}#sk-container-id-4 div.sk-item {position: relative;z-index: 1;}#sk-container-id-4 div.sk-parallel {display: flex;align-items: stretch;justify-content: center;background-color: white;position: relative;}#sk-container-id-4 div.sk-item::before, #sk-container-id-4 div.sk-parallel-item::before {content: \"\";position: absolute;border-left: 1px solid gray;box-sizing: border-box;top: 0;bottom: 0;left: 50%;z-index: -1;}#sk-container-id-4 div.sk-parallel-item {display: flex;flex-direction: column;z-index: 1;position: relative;background-color: white;}#sk-container-id-4 div.sk-parallel-item:first-child::after {align-self: flex-end;width: 50%;}#sk-container-id-4 div.sk-parallel-item:last-child::after {align-self: flex-start;width: 50%;}#sk-container-id-4 div.sk-parallel-item:only-child::after {width: 0;}#sk-container-id-4 div.sk-dashed-wrapped {border: 1px dashed gray;margin: 0 0.4em 0.5em 0.4em;box-sizing: border-box;padding-bottom: 0.4em;background-color: white;}#sk-container-id-4 div.sk-label label {font-family: monospace;font-weight: bold;display: inline-block;line-height: 1.2em;}#sk-container-id-4 div.sk-label-container {text-align: center;}#sk-container-id-4 div.sk-container {/* jupyter's `normalize.less` sets `[hidden] { display: none; }` but bootstrap.min.css set `[hidden] { display: none !important; }` so we also need the `!important` here to be able to override the default hidden behavior on the sphinx rendered scikit-learn.org. See: https://github.com/scikit-learn/scikit-learn/issues/21755 */display: inline-block !important;position: relative;}#sk-container-id-4 div.sk-text-repr-fallback {display: none;}</style><div id=\"sk-container-id-4\" class=\"sk-top-container\"><div class=\"sk-text-repr-fallback\"><pre>GridSearchCV(cv=ShuffleSplit(n_splits=5, random_state=42, test_size=0.25, train_size=None),\n",
       "             estimator=RandomForestRegressor(random_state=42), n_jobs=-1,\n",
       "             param_grid={&#x27;max_depth&#x27;: [1, 3, 5, 7, 9, 11, 13, 15]},\n",
       "             scoring=make_scorer(sMAPE, greater_is_better=False))</pre><b>In a Jupyter environment, please rerun this cell to show the HTML representation or trust the notebook. <br />On GitHub, the HTML representation is unable to render, please try loading this page with nbviewer.org.</b></div><div class=\"sk-container\" hidden><div class=\"sk-item sk-dashed-wrapped\"><div class=\"sk-label-container\"><div class=\"sk-label sk-toggleable\"><input class=\"sk-toggleable__control sk-hidden--visually\" id=\"sk-estimator-id-10\" type=\"checkbox\" ><label for=\"sk-estimator-id-10\" class=\"sk-toggleable__label sk-toggleable__label-arrow\">GridSearchCV</label><div class=\"sk-toggleable__content\"><pre>GridSearchCV(cv=ShuffleSplit(n_splits=5, random_state=42, test_size=0.25, train_size=None),\n",
       "             estimator=RandomForestRegressor(random_state=42), n_jobs=-1,\n",
       "             param_grid={&#x27;max_depth&#x27;: [1, 3, 5, 7, 9, 11, 13, 15]},\n",
       "             scoring=make_scorer(sMAPE, greater_is_better=False))</pre></div></div></div><div class=\"sk-parallel\"><div class=\"sk-parallel-item\"><div class=\"sk-item\"><div class=\"sk-label-container\"><div class=\"sk-label sk-toggleable\"><input class=\"sk-toggleable__control sk-hidden--visually\" id=\"sk-estimator-id-11\" type=\"checkbox\" ><label for=\"sk-estimator-id-11\" class=\"sk-toggleable__label sk-toggleable__label-arrow\">estimator: RandomForestRegressor</label><div class=\"sk-toggleable__content\"><pre>RandomForestRegressor(random_state=42)</pre></div></div></div><div class=\"sk-serial\"><div class=\"sk-item\"><div class=\"sk-estimator sk-toggleable\"><input class=\"sk-toggleable__control sk-hidden--visually\" id=\"sk-estimator-id-12\" type=\"checkbox\" ><label for=\"sk-estimator-id-12\" class=\"sk-toggleable__label sk-toggleable__label-arrow\">RandomForestRegressor</label><div class=\"sk-toggleable__content\"><pre>RandomForestRegressor(random_state=42)</pre></div></div></div></div></div></div></div></div></div></div>"
      ],
      "text/plain": [
       "GridSearchCV(cv=ShuffleSplit(n_splits=5, random_state=42, test_size=0.25, train_size=None),\n",
       "             estimator=RandomForestRegressor(random_state=42), n_jobs=-1,\n",
       "             param_grid={'max_depth': [1, 3, 5, 7, 9, 11, 13, 15]},\n",
       "             scoring=make_scorer(sMAPE, greater_is_better=False))"
      ]
     },
     "execution_count": 35,
     "metadata": {},
     "output_type": "execute_result"
    }
   ],
   "source": [
    "%%time\n",
    "# RandomForestRegressor\n",
    "grid_search_f = GridSearchCV(\n",
    "    RandomForestRegressor(random_state=RANDOM_STATE),\n",
    "    param_grid={'max_depth': list(range(1, 16, 2))},\n",
    "    scoring=smape_score,\n",
    "    n_jobs=-1,\n",
    "    cv=ShuffleSplit(\n",
    "        n_splits=5,\n",
    "        test_size=0.25,\n",
    "        random_state=RANDOM_STATE,\n",
    "    ),\n",
    ")\n",
    "grid_search_f.fit(X_train_final, y_train_final)"
   ]
  },
  {
   "cell_type": "code",
   "execution_count": 36,
   "metadata": {},
   "outputs": [
    {
     "name": "stdout",
     "output_type": "stream",
     "text": [
      "Лучший гиперпараметр {'max_depth': 15}\n",
      "Лучший score -6.8778061010190115\n"
     ]
    }
   ],
   "source": [
    "print(f'Лучший гиперпараметр {grid_search_f.best_params_}\\n'\n",
    "      f'Лучший score {grid_search_f.best_score_}')"
   ]
  },
  {
   "cell_type": "code",
   "execution_count": 37,
   "metadata": {},
   "outputs": [],
   "source": [
    "model_final = grid_search_f.best_estimator_"
   ]
  },
  {
   "cell_type": "code",
   "execution_count": 38,
   "metadata": {},
   "outputs": [
    {
     "data": {
      "text/plain": [
       "3.775709239793528"
      ]
     },
     "execution_count": 38,
     "metadata": {},
     "output_type": "execute_result"
    }
   ],
   "source": [
    "y_pred_rougher = model_rougher.predict(X_train_rougher)\n",
    "y_pred_final = model_final.predict(X_train_final)\n",
    "final_sMAPE(y_train_rougher, y_pred_rougher, y_train_final, y_pred_final)"
   ]
  },
  {
   "cell_type": "code",
   "execution_count": 39,
   "metadata": {},
   "outputs": [
    {
     "data": {
      "text/plain": [
       "9.254515627745619"
      ]
     },
     "execution_count": 39,
     "metadata": {},
     "output_type": "execute_result"
    }
   ],
   "source": [
    "y_pred_rougher = model_rougher.predict(X_test_rougher)\n",
    "y_pred_final = model_final.predict(X_test_final)\n",
    "final_sMAPE(y_test_rougher, y_pred_rougher, y_test_final, y_pred_final)"
   ]
  },
  {
   "cell_type": "markdown",
   "metadata": {},
   "source": [
    "## Общие выводы\n",
    "\n",
    "[к навигации](#Навигация)\n",
    "\n",
    "В результате выполнения проекта мы получили две модели, которые предсказывают коэффициент восстановления золота из золотосодержащей руды после этапа флотации и финальной очистки.\n",
    "- Для этого мы проверили, правильно ли вычисляется коэффициент в размеченных данных.\n",
    "- Предобработали данные, верно выбрав признаки для обучения моделей и заполнив пропуски.\n",
    "- Исследовали как меняются концентрации металлов на разных этапах очистки.\n",
    "- Проверили нет ли сдвига в целевом признаке между train и test.\n",
    "- Выбрали лучшие модели с использованием кросс-валидации. И наконец оценили модель на тестовой выборке."
   ]
  }
 ],
 "metadata": {
  "ExecuteTimeLog": [
   {
    "duration": 407,
    "start_time": "2022-11-24T12:46:27.316Z"
   },
   {
    "duration": 105,
    "start_time": "2022-11-24T12:50:08.037Z"
   },
   {
    "duration": 1133,
    "start_time": "2022-11-24T12:50:30.630Z"
   },
   {
    "duration": 284,
    "start_time": "2022-11-24T12:50:38.734Z"
   },
   {
    "duration": 2,
    "start_time": "2022-11-24T12:51:08.094Z"
   },
   {
    "duration": 327,
    "start_time": "2022-11-24T12:51:09.991Z"
   },
   {
    "duration": 324,
    "start_time": "2022-11-24T12:52:52.075Z"
   },
   {
    "duration": 946,
    "start_time": "2022-11-24T12:53:32.628Z"
   },
   {
    "duration": 724,
    "start_time": "2022-11-24T12:53:37.947Z"
   },
   {
    "duration": 361,
    "start_time": "2022-11-24T12:56:11.966Z"
   },
   {
    "duration": 288,
    "start_time": "2022-11-24T12:56:13.516Z"
   },
   {
    "duration": 76,
    "start_time": "2022-11-24T12:56:14.516Z"
   },
   {
    "duration": 401,
    "start_time": "2022-11-24T15:10:53.756Z"
   },
   {
    "duration": 292,
    "start_time": "2022-11-24T15:10:54.160Z"
   },
   {
    "duration": 75,
    "start_time": "2022-11-24T15:10:54.454Z"
   },
   {
    "duration": 356,
    "start_time": "2022-11-24T15:10:54.530Z"
   },
   {
    "duration": 661,
    "start_time": "2022-11-24T15:12:42.647Z"
   },
   {
    "duration": 384,
    "start_time": "2022-11-24T15:12:48.547Z"
   },
   {
    "duration": 717,
    "start_time": "2022-11-24T15:12:48.933Z"
   },
   {
    "duration": 66,
    "start_time": "2022-11-24T15:29:52.794Z"
   },
   {
    "duration": 5,
    "start_time": "2022-11-24T15:40:25.886Z"
   },
   {
    "duration": 25,
    "start_time": "2022-11-24T15:40:27.053Z"
   },
   {
    "duration": 101,
    "start_time": "2022-11-24T15:40:37.799Z"
   },
   {
    "duration": 4,
    "start_time": "2022-11-24T15:40:49.390Z"
   },
   {
    "duration": 239,
    "start_time": "2022-11-24T15:40:50.335Z"
   },
   {
    "duration": 769,
    "start_time": "2022-11-24T15:41:20.023Z"
   },
   {
    "duration": 15,
    "start_time": "2022-11-24T15:42:06.440Z"
   },
   {
    "duration": 5,
    "start_time": "2022-11-24T15:44:10.851Z"
   },
   {
    "duration": 5,
    "start_time": "2022-11-24T15:44:14.315Z"
   },
   {
    "duration": 11,
    "start_time": "2022-11-24T15:44:59.611Z"
   },
   {
    "duration": 1146,
    "start_time": "2022-11-24T15:46:08.747Z"
   },
   {
    "duration": 742,
    "start_time": "2022-11-24T15:46:09.895Z"
   },
   {
    "duration": 4,
    "start_time": "2022-11-24T15:46:10.638Z"
   },
   {
    "duration": 250,
    "start_time": "2022-11-24T15:46:10.644Z"
   },
   {
    "duration": 6,
    "start_time": "2022-11-24T15:46:10.896Z"
   },
   {
    "duration": 26,
    "start_time": "2022-11-24T15:46:10.904Z"
   },
   {
    "duration": 46,
    "start_time": "2022-11-24T22:42:48.465Z"
   },
   {
    "duration": 1021,
    "start_time": "2022-11-24T22:42:52.605Z"
   },
   {
    "duration": 3013,
    "start_time": "2022-11-24T22:42:53.628Z"
   },
   {
    "duration": 4,
    "start_time": "2022-11-24T22:42:56.643Z"
   },
   {
    "duration": 231,
    "start_time": "2022-11-24T22:42:56.649Z"
   },
   {
    "duration": 6,
    "start_time": "2022-11-24T22:42:56.881Z"
   },
   {
    "duration": 15,
    "start_time": "2022-11-24T22:42:56.896Z"
   },
   {
    "duration": 4,
    "start_time": "2022-11-24T22:42:56.913Z"
   },
   {
    "duration": 4,
    "start_time": "2022-11-24T22:44:22.279Z"
   },
   {
    "duration": 88,
    "start_time": "2022-11-24T22:45:40.929Z"
   },
   {
    "duration": 13379,
    "start_time": "2022-11-24T22:46:45.665Z"
   },
   {
    "duration": 1036,
    "start_time": "2022-11-24T22:46:59.046Z"
   },
   {
    "duration": 2172,
    "start_time": "2022-11-24T22:47:49.131Z"
   },
   {
    "duration": 1892,
    "start_time": "2022-11-24T22:47:51.306Z"
   },
   {
    "duration": 2148,
    "start_time": "2022-11-24T22:51:40.255Z"
   },
   {
    "duration": 1917,
    "start_time": "2022-11-24T22:51:42.406Z"
   },
   {
    "duration": 2226,
    "start_time": "2022-11-24T22:58:53.638Z"
   },
   {
    "duration": 2803,
    "start_time": "2022-11-24T22:58:55.866Z"
   },
   {
    "duration": 1017,
    "start_time": "2022-11-24T23:11:47.024Z"
   },
   {
    "duration": 818,
    "start_time": "2022-11-24T23:11:48.043Z"
   },
   {
    "duration": 380,
    "start_time": "2022-11-24T23:11:48.864Z"
   },
   {
    "duration": 1735,
    "start_time": "2022-11-24T23:11:49.246Z"
   },
   {
    "duration": 3,
    "start_time": "2022-11-24T23:11:50.983Z"
   },
   {
    "duration": 242,
    "start_time": "2022-11-24T23:11:50.987Z"
   },
   {
    "duration": 7,
    "start_time": "2022-11-24T23:11:51.230Z"
   },
   {
    "duration": 16,
    "start_time": "2022-11-24T23:11:51.238Z"
   },
   {
    "duration": 5,
    "start_time": "2022-11-24T23:11:51.257Z"
   },
   {
    "duration": 340,
    "start_time": "2022-11-24T23:15:21.490Z"
   },
   {
    "duration": 18,
    "start_time": "2022-11-24T23:15:28.818Z"
   },
   {
    "duration": 267,
    "start_time": "2022-11-24T23:15:36.330Z"
   },
   {
    "duration": 117,
    "start_time": "2022-11-24T23:16:06.875Z"
   },
   {
    "duration": 13,
    "start_time": "2022-11-24T23:16:16.550Z"
   },
   {
    "duration": 145,
    "start_time": "2022-11-24T23:16:25.491Z"
   },
   {
    "duration": 415,
    "start_time": "2022-11-24T23:16:56.806Z"
   },
   {
    "duration": 19,
    "start_time": "2022-11-24T23:17:01.069Z"
   },
   {
    "duration": 282,
    "start_time": "2022-11-24T23:17:10.660Z"
   },
   {
    "duration": 49,
    "start_time": "2022-11-25T10:43:11.091Z"
   },
   {
    "duration": 1007,
    "start_time": "2022-11-25T10:43:18.010Z"
   },
   {
    "duration": 1411,
    "start_time": "2022-11-25T10:43:19.019Z"
   },
   {
    "duration": 19,
    "start_time": "2022-11-25T10:43:20.432Z"
   },
   {
    "duration": 273,
    "start_time": "2022-11-25T10:43:20.453Z"
   },
   {
    "duration": 192,
    "start_time": "2022-11-25T10:43:20.727Z"
   },
   {
    "duration": 14,
    "start_time": "2022-11-25T10:43:20.920Z"
   },
   {
    "duration": 160,
    "start_time": "2022-11-25T10:43:20.936Z"
   },
   {
    "duration": 627,
    "start_time": "2022-11-25T10:43:21.098Z"
   },
   {
    "duration": 18,
    "start_time": "2022-11-25T10:43:21.727Z"
   },
   {
    "duration": 295,
    "start_time": "2022-11-25T10:43:21.748Z"
   },
   {
    "duration": 4,
    "start_time": "2022-11-25T10:43:22.045Z"
   },
   {
    "duration": 251,
    "start_time": "2022-11-25T10:43:22.052Z"
   },
   {
    "duration": 5,
    "start_time": "2022-11-25T10:43:22.305Z"
   },
   {
    "duration": 11,
    "start_time": "2022-11-25T10:43:22.312Z"
   },
   {
    "duration": 5,
    "start_time": "2022-11-25T10:43:22.325Z"
   },
   {
    "duration": 67,
    "start_time": "2022-11-25T10:43:22.332Z"
   },
   {
    "duration": 1153,
    "start_time": "2022-11-25T10:50:01.820Z"
   },
   {
    "duration": 302,
    "start_time": "2022-11-25T10:50:02.975Z"
   },
   {
    "duration": 18,
    "start_time": "2022-11-25T10:50:03.278Z"
   },
   {
    "duration": 266,
    "start_time": "2022-11-25T10:50:03.298Z"
   },
   {
    "duration": 107,
    "start_time": "2022-11-25T10:50:03.566Z"
   },
   {
    "duration": 12,
    "start_time": "2022-11-25T10:50:03.674Z"
   },
   {
    "duration": 146,
    "start_time": "2022-11-25T10:50:03.688Z"
   },
   {
    "duration": 353,
    "start_time": "2022-11-25T10:50:03.836Z"
   },
   {
    "duration": 18,
    "start_time": "2022-11-25T10:50:04.190Z"
   },
   {
    "duration": 316,
    "start_time": "2022-11-25T10:50:04.212Z"
   },
   {
    "duration": 3,
    "start_time": "2022-11-25T10:50:04.529Z"
   },
   {
    "duration": 237,
    "start_time": "2022-11-25T10:50:04.534Z"
   },
   {
    "duration": 4,
    "start_time": "2022-11-25T10:50:04.773Z"
   },
   {
    "duration": 10,
    "start_time": "2022-11-25T10:50:04.779Z"
   },
   {
    "duration": 4,
    "start_time": "2022-11-25T10:50:04.790Z"
   },
   {
    "duration": 107,
    "start_time": "2022-11-25T10:58:32.344Z"
   },
   {
    "duration": 7,
    "start_time": "2022-11-25T10:58:34.648Z"
   },
   {
    "duration": 14,
    "start_time": "2022-11-25T10:58:35.392Z"
   },
   {
    "duration": 35,
    "start_time": "2022-11-25T11:01:16.531Z"
   },
   {
    "duration": 34,
    "start_time": "2022-11-25T11:01:55.868Z"
   },
   {
    "duration": 47,
    "start_time": "2022-11-25T11:02:07.963Z"
   },
   {
    "duration": 9,
    "start_time": "2022-11-25T11:02:29.813Z"
   },
   {
    "duration": 18991,
    "start_time": "2022-11-25T11:02:31.100Z"
   },
   {
    "duration": 15702,
    "start_time": "2022-11-25T11:03:27.503Z"
   },
   {
    "duration": 0,
    "start_time": "2022-11-25T11:03:43.207Z"
   },
   {
    "duration": 1099,
    "start_time": "2022-11-25T11:03:46.028Z"
   },
   {
    "duration": 309,
    "start_time": "2022-11-25T11:03:47.130Z"
   },
   {
    "duration": 23,
    "start_time": "2022-11-25T11:03:47.441Z"
   },
   {
    "duration": 276,
    "start_time": "2022-11-25T11:03:47.467Z"
   },
   {
    "duration": 111,
    "start_time": "2022-11-25T11:03:47.744Z"
   },
   {
    "duration": 13,
    "start_time": "2022-11-25T11:03:47.858Z"
   },
   {
    "duration": 154,
    "start_time": "2022-11-25T11:03:47.873Z"
   },
   {
    "duration": 350,
    "start_time": "2022-11-25T11:03:48.029Z"
   },
   {
    "duration": 18,
    "start_time": "2022-11-25T11:03:48.381Z"
   },
   {
    "duration": 292,
    "start_time": "2022-11-25T11:03:48.402Z"
   },
   {
    "duration": 3,
    "start_time": "2022-11-25T11:03:48.696Z"
   },
   {
    "duration": 220,
    "start_time": "2022-11-25T11:03:48.700Z"
   },
   {
    "duration": 5,
    "start_time": "2022-11-25T11:03:48.921Z"
   },
   {
    "duration": 11,
    "start_time": "2022-11-25T11:03:48.927Z"
   },
   {
    "duration": 15,
    "start_time": "2022-11-25T11:03:48.940Z"
   },
   {
    "duration": 17,
    "start_time": "2022-11-25T11:03:48.957Z"
   },
   {
    "duration": 37,
    "start_time": "2022-11-25T11:03:48.976Z"
   },
   {
    "duration": 18556,
    "start_time": "2022-11-25T11:03:49.014Z"
   },
   {
    "duration": 5,
    "start_time": "2022-11-25T11:04:07.571Z"
   },
   {
    "duration": 74,
    "start_time": "2022-11-25T11:05:04.771Z"
   },
   {
    "duration": 2,
    "start_time": "2022-11-25T11:05:13.128Z"
   },
   {
    "duration": 3,
    "start_time": "2022-11-25T11:07:07.137Z"
   },
   {
    "duration": 267745,
    "start_time": "2022-11-25T11:07:49.362Z"
   },
   {
    "duration": 3,
    "start_time": "2022-11-25T11:14:33.490Z"
   },
   {
    "duration": 1021,
    "start_time": "2022-11-25T11:15:19.188Z"
   },
   {
    "duration": 304,
    "start_time": "2022-11-25T11:15:20.211Z"
   },
   {
    "duration": 18,
    "start_time": "2022-11-25T11:15:20.517Z"
   },
   {
    "duration": 259,
    "start_time": "2022-11-25T11:15:20.537Z"
   },
   {
    "duration": 101,
    "start_time": "2022-11-25T11:15:20.798Z"
   },
   {
    "duration": 12,
    "start_time": "2022-11-25T11:15:20.900Z"
   },
   {
    "duration": 151,
    "start_time": "2022-11-25T11:15:20.914Z"
   },
   {
    "duration": 346,
    "start_time": "2022-11-25T11:15:21.066Z"
   },
   {
    "duration": 18,
    "start_time": "2022-11-25T11:15:21.414Z"
   },
   {
    "duration": 278,
    "start_time": "2022-11-25T11:15:21.435Z"
   },
   {
    "duration": 3,
    "start_time": "2022-11-25T11:15:21.714Z"
   },
   {
    "duration": 244,
    "start_time": "2022-11-25T11:15:21.719Z"
   },
   {
    "duration": 4,
    "start_time": "2022-11-25T11:15:21.965Z"
   },
   {
    "duration": 16,
    "start_time": "2022-11-25T11:15:21.970Z"
   },
   {
    "duration": 37,
    "start_time": "2022-11-25T11:15:21.988Z"
   },
   {
    "duration": 37,
    "start_time": "2022-11-25T11:15:22.027Z"
   },
   {
    "duration": 63,
    "start_time": "2022-11-25T11:15:22.065Z"
   },
   {
    "duration": 15712,
    "start_time": "2022-11-25T11:15:22.129Z"
   },
   {
    "duration": 9,
    "start_time": "2022-11-25T11:15:37.843Z"
   },
   {
    "duration": 72,
    "start_time": "2022-11-25T11:15:37.854Z"
   },
   {
    "duration": 3,
    "start_time": "2022-11-25T11:15:37.928Z"
   },
   {
    "duration": 6,
    "start_time": "2022-11-25T11:15:37.932Z"
   },
   {
    "duration": 1080,
    "start_time": "2022-11-25T11:17:54.520Z"
   },
   {
    "duration": 320,
    "start_time": "2022-11-25T11:17:55.601Z"
   },
   {
    "duration": 17,
    "start_time": "2022-11-25T11:17:55.923Z"
   },
   {
    "duration": 259,
    "start_time": "2022-11-25T11:17:55.952Z"
   },
   {
    "duration": 122,
    "start_time": "2022-11-25T11:17:56.212Z"
   },
   {
    "duration": 18,
    "start_time": "2022-11-25T11:17:56.335Z"
   },
   {
    "duration": 161,
    "start_time": "2022-11-25T11:17:56.355Z"
   },
   {
    "duration": 363,
    "start_time": "2022-11-25T11:17:56.517Z"
   },
   {
    "duration": 18,
    "start_time": "2022-11-25T11:17:56.882Z"
   },
   {
    "duration": 296,
    "start_time": "2022-11-25T11:17:56.902Z"
   },
   {
    "duration": 3,
    "start_time": "2022-11-25T11:17:57.200Z"
   },
   {
    "duration": 228,
    "start_time": "2022-11-25T11:17:57.204Z"
   },
   {
    "duration": 4,
    "start_time": "2022-11-25T11:17:57.433Z"
   },
   {
    "duration": 18,
    "start_time": "2022-11-25T11:17:57.438Z"
   },
   {
    "duration": 4,
    "start_time": "2022-11-25T11:17:57.457Z"
   },
   {
    "duration": 13,
    "start_time": "2022-11-25T11:17:57.462Z"
   },
   {
    "duration": 50,
    "start_time": "2022-11-25T11:17:57.476Z"
   },
   {
    "duration": 13080,
    "start_time": "2022-11-25T11:17:57.527Z"
   },
   {
    "duration": 3,
    "start_time": "2022-11-25T11:18:10.609Z"
   },
   {
    "duration": 76,
    "start_time": "2022-11-25T11:18:10.613Z"
   },
   {
    "duration": 3,
    "start_time": "2022-11-25T11:18:10.690Z"
   },
   {
    "duration": 7,
    "start_time": "2022-11-25T11:18:10.694Z"
   },
   {
    "duration": 266872,
    "start_time": "2022-11-25T11:18:10.702Z"
   },
   {
    "duration": 1056,
    "start_time": "2022-11-25T11:38:45.268Z"
   },
   {
    "duration": 326,
    "start_time": "2022-11-25T11:38:46.326Z"
   },
   {
    "duration": 17,
    "start_time": "2022-11-25T11:38:46.664Z"
   },
   {
    "duration": 263,
    "start_time": "2022-11-25T11:38:46.683Z"
   },
   {
    "duration": 119,
    "start_time": "2022-11-25T11:38:46.948Z"
   },
   {
    "duration": 12,
    "start_time": "2022-11-25T11:38:47.069Z"
   },
   {
    "duration": 150,
    "start_time": "2022-11-25T11:38:47.083Z"
   },
   {
    "duration": 305,
    "start_time": "2022-11-25T11:38:47.235Z"
   },
   {
    "duration": 4,
    "start_time": "2022-11-25T11:38:47.541Z"
   },
   {
    "duration": 253,
    "start_time": "2022-11-25T11:38:47.551Z"
   },
   {
    "duration": 4,
    "start_time": "2022-11-25T11:38:47.806Z"
   },
   {
    "duration": 30,
    "start_time": "2022-11-25T11:38:47.812Z"
   },
   {
    "duration": 46,
    "start_time": "2022-11-25T11:38:47.844Z"
   },
   {
    "duration": 31,
    "start_time": "2022-11-25T11:38:47.892Z"
   },
   {
    "duration": 53,
    "start_time": "2022-11-25T11:38:47.925Z"
   },
   {
    "duration": 16925,
    "start_time": "2022-11-25T11:38:47.980Z"
   },
   {
    "duration": 3,
    "start_time": "2022-11-25T11:39:04.907Z"
   },
   {
    "duration": 16,
    "start_time": "2022-11-25T11:39:04.912Z"
   },
   {
    "duration": 2,
    "start_time": "2022-11-25T11:39:04.930Z"
   },
   {
    "duration": 8,
    "start_time": "2022-11-25T11:39:04.933Z"
   },
   {
    "duration": 286693,
    "start_time": "2022-11-25T11:39:04.943Z"
   },
   {
    "duration": 986,
    "start_time": "2022-11-25T12:00:35.012Z"
   },
   {
    "duration": 314,
    "start_time": "2022-11-25T12:00:36.000Z"
   },
   {
    "duration": 17,
    "start_time": "2022-11-25T12:00:36.315Z"
   },
   {
    "duration": 269,
    "start_time": "2022-11-25T12:00:36.334Z"
   },
   {
    "duration": 105,
    "start_time": "2022-11-25T12:00:36.604Z"
   },
   {
    "duration": 14,
    "start_time": "2022-11-25T12:00:36.710Z"
   },
   {
    "duration": 149,
    "start_time": "2022-11-25T12:00:36.725Z"
   },
   {
    "duration": 293,
    "start_time": "2022-11-25T12:00:36.876Z"
   },
   {
    "duration": 5,
    "start_time": "2022-11-25T12:00:37.171Z"
   },
   {
    "duration": 212,
    "start_time": "2022-11-25T12:00:37.179Z"
   },
   {
    "duration": 94,
    "start_time": "2022-11-25T12:00:37.393Z"
   },
   {
    "duration": 0,
    "start_time": "2022-11-25T12:00:37.489Z"
   },
   {
    "duration": 0,
    "start_time": "2022-11-25T12:00:37.490Z"
   },
   {
    "duration": 0,
    "start_time": "2022-11-25T12:00:37.492Z"
   },
   {
    "duration": 0,
    "start_time": "2022-11-25T12:00:37.493Z"
   },
   {
    "duration": 0,
    "start_time": "2022-11-25T12:00:37.495Z"
   },
   {
    "duration": 0,
    "start_time": "2022-11-25T12:00:37.496Z"
   },
   {
    "duration": 0,
    "start_time": "2022-11-25T12:00:37.498Z"
   },
   {
    "duration": 0,
    "start_time": "2022-11-25T12:00:37.499Z"
   },
   {
    "duration": 0,
    "start_time": "2022-11-25T12:00:37.500Z"
   },
   {
    "duration": 1127,
    "start_time": "2022-11-25T12:00:51.819Z"
   },
   {
    "duration": 325,
    "start_time": "2022-11-25T12:00:52.949Z"
   },
   {
    "duration": 17,
    "start_time": "2022-11-25T12:00:53.276Z"
   },
   {
    "duration": 271,
    "start_time": "2022-11-25T12:00:53.295Z"
   },
   {
    "duration": 109,
    "start_time": "2022-11-25T12:00:53.567Z"
   },
   {
    "duration": 11,
    "start_time": "2022-11-25T12:00:53.678Z"
   },
   {
    "duration": 160,
    "start_time": "2022-11-25T12:00:53.691Z"
   },
   {
    "duration": 313,
    "start_time": "2022-11-25T12:00:53.853Z"
   },
   {
    "duration": 4,
    "start_time": "2022-11-25T12:00:54.168Z"
   },
   {
    "duration": 242,
    "start_time": "2022-11-25T12:00:54.175Z"
   },
   {
    "duration": 95,
    "start_time": "2022-11-25T12:00:54.419Z"
   },
   {
    "duration": 0,
    "start_time": "2022-11-25T12:00:54.515Z"
   },
   {
    "duration": 0,
    "start_time": "2022-11-25T12:00:54.516Z"
   },
   {
    "duration": 0,
    "start_time": "2022-11-25T12:00:54.517Z"
   },
   {
    "duration": 0,
    "start_time": "2022-11-25T12:00:54.518Z"
   },
   {
    "duration": 0,
    "start_time": "2022-11-25T12:00:54.519Z"
   },
   {
    "duration": 0,
    "start_time": "2022-11-25T12:00:54.521Z"
   },
   {
    "duration": 0,
    "start_time": "2022-11-25T12:00:54.521Z"
   },
   {
    "duration": 0,
    "start_time": "2022-11-25T12:00:54.523Z"
   },
   {
    "duration": 0,
    "start_time": "2022-11-25T12:00:54.524Z"
   },
   {
    "duration": 1001,
    "start_time": "2022-11-25T12:01:14.814Z"
   },
   {
    "duration": 326,
    "start_time": "2022-11-25T12:01:15.817Z"
   },
   {
    "duration": 17,
    "start_time": "2022-11-25T12:01:16.145Z"
   },
   {
    "duration": 277,
    "start_time": "2022-11-25T12:01:16.163Z"
   },
   {
    "duration": 105,
    "start_time": "2022-11-25T12:01:16.442Z"
   },
   {
    "duration": 11,
    "start_time": "2022-11-25T12:01:16.549Z"
   },
   {
    "duration": 150,
    "start_time": "2022-11-25T12:01:16.561Z"
   },
   {
    "duration": 309,
    "start_time": "2022-11-25T12:01:16.713Z"
   },
   {
    "duration": 5,
    "start_time": "2022-11-25T12:01:17.023Z"
   },
   {
    "duration": 223,
    "start_time": "2022-11-25T12:01:17.030Z"
   },
   {
    "duration": 9,
    "start_time": "2022-11-25T12:01:17.254Z"
   },
   {
    "duration": 5,
    "start_time": "2022-11-25T12:01:17.265Z"
   },
   {
    "duration": 13,
    "start_time": "2022-11-25T12:01:17.271Z"
   },
   {
    "duration": 40,
    "start_time": "2022-11-25T12:01:17.286Z"
   },
   {
    "duration": 14467,
    "start_time": "2022-11-25T12:01:17.328Z"
   },
   {
    "duration": 4,
    "start_time": "2022-11-25T12:01:31.797Z"
   },
   {
    "duration": 17,
    "start_time": "2022-11-25T12:01:31.803Z"
   },
   {
    "duration": 2,
    "start_time": "2022-11-25T12:01:31.822Z"
   },
   {
    "duration": 5,
    "start_time": "2022-11-25T12:01:31.826Z"
   },
   {
    "duration": 269306,
    "start_time": "2022-11-25T12:01:31.832Z"
   },
   {
    "duration": 444,
    "start_time": "2022-11-25T12:47:11.460Z"
   },
   {
    "duration": 145,
    "start_time": "2022-11-25T12:47:18.632Z"
   },
   {
    "duration": 19,
    "start_time": "2022-11-25T12:47:27.429Z"
   },
   {
    "duration": 446,
    "start_time": "2022-11-25T12:47:43.934Z"
   },
   {
    "duration": 358,
    "start_time": "2022-11-25T12:48:53.779Z"
   },
   {
    "duration": 1096,
    "start_time": "2022-11-25T12:49:05.385Z"
   },
   {
    "duration": 369,
    "start_time": "2022-11-25T12:49:06.486Z"
   },
   {
    "duration": 25,
    "start_time": "2022-11-25T12:49:06.856Z"
   },
   {
    "duration": 319,
    "start_time": "2022-11-25T12:49:06.884Z"
   },
   {
    "duration": 119,
    "start_time": "2022-11-25T12:49:07.204Z"
   },
   {
    "duration": 12,
    "start_time": "2022-11-25T12:49:07.324Z"
   },
   {
    "duration": 199,
    "start_time": "2022-11-25T12:49:07.338Z"
   },
   {
    "duration": 461,
    "start_time": "2022-11-25T12:49:07.539Z"
   },
   {
    "duration": 17,
    "start_time": "2022-11-25T12:49:08.002Z"
   },
   {
    "duration": 323,
    "start_time": "2022-11-25T12:49:08.021Z"
   },
   {
    "duration": 13,
    "start_time": "2022-11-25T12:49:08.346Z"
   },
   {
    "duration": 238,
    "start_time": "2022-11-25T12:49:08.361Z"
   },
   {
    "duration": 9,
    "start_time": "2022-11-25T12:49:08.601Z"
   },
   {
    "duration": 13,
    "start_time": "2022-11-25T12:49:08.611Z"
   },
   {
    "duration": 63,
    "start_time": "2022-11-25T12:49:08.625Z"
   },
   {
    "duration": 105,
    "start_time": "2022-11-25T12:49:08.690Z"
   },
   {
    "duration": 0,
    "start_time": "2022-11-25T12:49:08.797Z"
   },
   {
    "duration": 0,
    "start_time": "2022-11-25T12:49:08.799Z"
   },
   {
    "duration": 0,
    "start_time": "2022-11-25T12:49:08.800Z"
   },
   {
    "duration": 0,
    "start_time": "2022-11-25T12:49:08.802Z"
   },
   {
    "duration": 0,
    "start_time": "2022-11-25T12:49:08.803Z"
   },
   {
    "duration": 1044,
    "start_time": "2022-11-25T13:03:11.725Z"
   },
   {
    "duration": 357,
    "start_time": "2022-11-25T13:03:12.774Z"
   },
   {
    "duration": 15,
    "start_time": "2022-11-25T13:03:13.132Z"
   },
   {
    "duration": 273,
    "start_time": "2022-11-25T13:03:13.156Z"
   },
   {
    "duration": 115,
    "start_time": "2022-11-25T13:03:13.431Z"
   },
   {
    "duration": 32,
    "start_time": "2022-11-25T13:03:13.547Z"
   },
   {
    "duration": 146,
    "start_time": "2022-11-25T13:03:13.580Z"
   },
   {
    "duration": 376,
    "start_time": "2022-11-25T13:03:13.728Z"
   },
   {
    "duration": 15,
    "start_time": "2022-11-25T13:03:14.106Z"
   },
   {
    "duration": 322,
    "start_time": "2022-11-25T13:03:14.124Z"
   },
   {
    "duration": 19,
    "start_time": "2022-11-25T13:03:14.448Z"
   },
   {
    "duration": 222,
    "start_time": "2022-11-25T13:03:14.468Z"
   },
   {
    "duration": 8,
    "start_time": "2022-11-25T13:03:14.692Z"
   },
   {
    "duration": 5,
    "start_time": "2022-11-25T13:03:14.701Z"
   },
   {
    "duration": 61,
    "start_time": "2022-11-25T13:03:14.707Z"
   },
   {
    "duration": 116,
    "start_time": "2022-11-25T13:03:14.771Z"
   },
   {
    "duration": 0,
    "start_time": "2022-11-25T13:03:14.888Z"
   },
   {
    "duration": 0,
    "start_time": "2022-11-25T13:03:14.890Z"
   },
   {
    "duration": 0,
    "start_time": "2022-11-25T13:03:14.891Z"
   },
   {
    "duration": 0,
    "start_time": "2022-11-25T13:03:14.893Z"
   },
   {
    "duration": 0,
    "start_time": "2022-11-25T13:03:14.894Z"
   },
   {
    "duration": 297,
    "start_time": "2022-11-25T13:46:00.063Z"
   },
   {
    "duration": 4,
    "start_time": "2022-11-25T13:47:06.382Z"
   },
   {
    "duration": 13,
    "start_time": "2022-11-25T13:47:17.390Z"
   },
   {
    "duration": 25,
    "start_time": "2022-11-25T13:47:36.383Z"
   },
   {
    "duration": 6,
    "start_time": "2022-11-25T13:48:21.815Z"
   },
   {
    "duration": 6,
    "start_time": "2022-11-25T13:48:36.758Z"
   },
   {
    "duration": 24,
    "start_time": "2022-11-25T14:01:32.647Z"
   },
   {
    "duration": 16,
    "start_time": "2022-11-25T14:02:38.952Z"
   },
   {
    "duration": 9,
    "start_time": "2022-11-25T14:03:03.609Z"
   },
   {
    "duration": 10,
    "start_time": "2022-11-25T14:04:43.314Z"
   },
   {
    "duration": 9,
    "start_time": "2022-11-25T14:05:07.388Z"
   },
   {
    "duration": 18,
    "start_time": "2022-11-25T14:06:58.970Z"
   },
   {
    "duration": 4,
    "start_time": "2022-11-25T14:09:24.759Z"
   },
   {
    "duration": 4,
    "start_time": "2022-11-25T14:09:29.695Z"
   },
   {
    "duration": 11,
    "start_time": "2022-11-25T14:09:42.087Z"
   },
   {
    "duration": 87,
    "start_time": "2022-11-25T14:09:53.056Z"
   },
   {
    "duration": 1027,
    "start_time": "2022-11-25T14:11:56.380Z"
   },
   {
    "duration": 668,
    "start_time": "2022-11-25T14:11:57.411Z"
   },
   {
    "duration": 4,
    "start_time": "2022-11-25T14:11:58.081Z"
   },
   {
    "duration": 174,
    "start_time": "2022-11-25T14:11:58.087Z"
   },
   {
    "duration": 15,
    "start_time": "2022-11-25T14:11:58.263Z"
   },
   {
    "duration": 4,
    "start_time": "2022-11-25T14:11:58.279Z"
   },
   {
    "duration": 9,
    "start_time": "2022-11-25T14:11:58.284Z"
   },
   {
    "duration": 11,
    "start_time": "2022-11-25T14:11:58.294Z"
   },
   {
    "duration": 8,
    "start_time": "2022-11-25T14:11:58.307Z"
   },
   {
    "duration": 46,
    "start_time": "2022-11-25T14:11:58.318Z"
   },
   {
    "duration": 92,
    "start_time": "2022-11-25T14:11:58.366Z"
   },
   {
    "duration": 37,
    "start_time": "2022-11-25T14:11:58.461Z"
   },
   {
    "duration": 104,
    "start_time": "2022-11-25T14:11:58.500Z"
   },
   {
    "duration": 0,
    "start_time": "2022-11-25T14:11:58.605Z"
   },
   {
    "duration": 0,
    "start_time": "2022-11-25T14:11:58.607Z"
   },
   {
    "duration": 0,
    "start_time": "2022-11-25T14:11:58.608Z"
   },
   {
    "duration": 0,
    "start_time": "2022-11-25T14:11:58.609Z"
   },
   {
    "duration": 0,
    "start_time": "2022-11-25T14:11:58.610Z"
   },
   {
    "duration": 99,
    "start_time": "2022-11-25T14:16:08.826Z"
   },
   {
    "duration": 994,
    "start_time": "2022-11-25T14:18:25.396Z"
   },
   {
    "duration": 689,
    "start_time": "2022-11-25T14:18:26.392Z"
   },
   {
    "duration": 4,
    "start_time": "2022-11-25T14:18:27.082Z"
   },
   {
    "duration": 166,
    "start_time": "2022-11-25T14:18:27.088Z"
   },
   {
    "duration": 12,
    "start_time": "2022-11-25T14:18:27.256Z"
   },
   {
    "duration": 4,
    "start_time": "2022-11-25T14:18:27.269Z"
   },
   {
    "duration": 14,
    "start_time": "2022-11-25T14:18:27.275Z"
   },
   {
    "duration": 15,
    "start_time": "2022-11-25T14:18:27.290Z"
   },
   {
    "duration": 11,
    "start_time": "2022-11-25T14:18:27.307Z"
   },
   {
    "duration": 21,
    "start_time": "2022-11-25T14:18:27.320Z"
   },
   {
    "duration": 124,
    "start_time": "2022-11-25T14:18:27.343Z"
   },
   {
    "duration": 0,
    "start_time": "2022-11-25T14:18:27.468Z"
   },
   {
    "duration": 0,
    "start_time": "2022-11-25T14:18:27.470Z"
   },
   {
    "duration": 0,
    "start_time": "2022-11-25T14:18:27.471Z"
   },
   {
    "duration": 0,
    "start_time": "2022-11-25T14:18:27.472Z"
   },
   {
    "duration": 0,
    "start_time": "2022-11-25T14:18:27.473Z"
   },
   {
    "duration": 0,
    "start_time": "2022-11-25T14:18:27.474Z"
   },
   {
    "duration": 0,
    "start_time": "2022-11-25T14:18:27.475Z"
   },
   {
    "duration": 1002,
    "start_time": "2022-11-25T14:19:04.019Z"
   },
   {
    "duration": 661,
    "start_time": "2022-11-25T14:19:05.023Z"
   },
   {
    "duration": 5,
    "start_time": "2022-11-25T14:19:05.685Z"
   },
   {
    "duration": 166,
    "start_time": "2022-11-25T14:19:05.692Z"
   },
   {
    "duration": 14,
    "start_time": "2022-11-25T14:19:05.860Z"
   },
   {
    "duration": 4,
    "start_time": "2022-11-25T14:19:05.876Z"
   },
   {
    "duration": 11,
    "start_time": "2022-11-25T14:19:05.882Z"
   },
   {
    "duration": 15,
    "start_time": "2022-11-25T14:19:05.894Z"
   },
   {
    "duration": 12,
    "start_time": "2022-11-25T14:19:05.911Z"
   },
   {
    "duration": 39,
    "start_time": "2022-11-25T14:19:05.926Z"
   },
   {
    "duration": 13,
    "start_time": "2022-11-25T14:19:05.967Z"
   },
   {
    "duration": 36,
    "start_time": "2022-11-25T14:19:05.982Z"
   },
   {
    "duration": 109,
    "start_time": "2022-11-25T14:19:06.019Z"
   },
   {
    "duration": 0,
    "start_time": "2022-11-25T14:19:06.130Z"
   },
   {
    "duration": 0,
    "start_time": "2022-11-25T14:19:06.131Z"
   },
   {
    "duration": 0,
    "start_time": "2022-11-25T14:19:06.132Z"
   },
   {
    "duration": 0,
    "start_time": "2022-11-25T14:19:06.134Z"
   },
   {
    "duration": 0,
    "start_time": "2022-11-25T14:19:06.135Z"
   },
   {
    "duration": 94,
    "start_time": "2022-11-25T14:19:22.824Z"
   },
   {
    "duration": 5,
    "start_time": "2022-11-25T14:19:27.533Z"
   },
   {
    "duration": 19,
    "start_time": "2022-11-25T14:19:38.068Z"
   },
   {
    "duration": 3,
    "start_time": "2022-11-25T14:20:06.442Z"
   },
   {
    "duration": 1068,
    "start_time": "2022-11-25T14:21:47.725Z"
   },
   {
    "duration": 682,
    "start_time": "2022-11-25T14:21:48.795Z"
   },
   {
    "duration": 4,
    "start_time": "2022-11-25T14:21:49.478Z"
   },
   {
    "duration": 163,
    "start_time": "2022-11-25T14:21:49.484Z"
   },
   {
    "duration": 13,
    "start_time": "2022-11-25T14:21:49.652Z"
   },
   {
    "duration": 7,
    "start_time": "2022-11-25T14:21:49.667Z"
   },
   {
    "duration": 10,
    "start_time": "2022-11-25T14:21:49.676Z"
   },
   {
    "duration": 13,
    "start_time": "2022-11-25T14:21:49.687Z"
   },
   {
    "duration": 9,
    "start_time": "2022-11-25T14:21:49.701Z"
   },
   {
    "duration": 26,
    "start_time": "2022-11-25T14:21:49.713Z"
   },
   {
    "duration": 13,
    "start_time": "2022-11-25T14:21:49.753Z"
   },
   {
    "duration": 3,
    "start_time": "2022-11-25T14:21:49.768Z"
   },
   {
    "duration": 16,
    "start_time": "2022-11-25T14:21:49.773Z"
   },
   {
    "duration": 33,
    "start_time": "2022-11-25T14:21:49.791Z"
   },
   {
    "duration": 109,
    "start_time": "2022-11-25T14:21:49.826Z"
   },
   {
    "duration": 0,
    "start_time": "2022-11-25T14:21:49.937Z"
   },
   {
    "duration": 0,
    "start_time": "2022-11-25T14:21:49.938Z"
   },
   {
    "duration": 0,
    "start_time": "2022-11-25T14:21:49.939Z"
   },
   {
    "duration": 0,
    "start_time": "2022-11-25T14:21:49.952Z"
   },
   {
    "duration": 0,
    "start_time": "2022-11-25T14:21:49.953Z"
   },
   {
    "duration": 1067,
    "start_time": "2022-11-25T14:22:15.228Z"
   },
   {
    "duration": 637,
    "start_time": "2022-11-25T14:22:16.297Z"
   },
   {
    "duration": 4,
    "start_time": "2022-11-25T14:22:16.936Z"
   },
   {
    "duration": 178,
    "start_time": "2022-11-25T14:22:16.943Z"
   },
   {
    "duration": 14,
    "start_time": "2022-11-25T14:22:17.122Z"
   },
   {
    "duration": 16,
    "start_time": "2022-11-25T14:22:17.138Z"
   },
   {
    "duration": 6,
    "start_time": "2022-11-25T14:22:17.155Z"
   },
   {
    "duration": 15,
    "start_time": "2022-11-25T14:22:17.163Z"
   },
   {
    "duration": 10,
    "start_time": "2022-11-25T14:22:17.179Z"
   },
   {
    "duration": 20,
    "start_time": "2022-11-25T14:22:17.192Z"
   },
   {
    "duration": 19,
    "start_time": "2022-11-25T14:22:17.214Z"
   },
   {
    "duration": 19,
    "start_time": "2022-11-25T14:22:17.234Z"
   },
   {
    "duration": 14,
    "start_time": "2022-11-25T14:22:17.255Z"
   },
   {
    "duration": 36,
    "start_time": "2022-11-25T14:22:17.270Z"
   },
   {
    "duration": 115,
    "start_time": "2022-11-25T14:22:17.308Z"
   },
   {
    "duration": 0,
    "start_time": "2022-11-25T14:22:17.424Z"
   },
   {
    "duration": 0,
    "start_time": "2022-11-25T14:22:17.426Z"
   },
   {
    "duration": 1,
    "start_time": "2022-11-25T14:22:17.426Z"
   },
   {
    "duration": 0,
    "start_time": "2022-11-25T14:22:17.428Z"
   },
   {
    "duration": 0,
    "start_time": "2022-11-25T14:22:17.428Z"
   },
   {
    "duration": 982,
    "start_time": "2022-11-25T14:23:30.412Z"
   },
   {
    "duration": 686,
    "start_time": "2022-11-25T14:23:31.396Z"
   },
   {
    "duration": 4,
    "start_time": "2022-11-25T14:23:32.084Z"
   },
   {
    "duration": 170,
    "start_time": "2022-11-25T14:23:32.091Z"
   },
   {
    "duration": 13,
    "start_time": "2022-11-25T14:23:32.263Z"
   },
   {
    "duration": 4,
    "start_time": "2022-11-25T14:23:32.278Z"
   },
   {
    "duration": 5,
    "start_time": "2022-11-25T14:23:32.284Z"
   },
   {
    "duration": 5,
    "start_time": "2022-11-25T14:23:32.290Z"
   },
   {
    "duration": 6,
    "start_time": "2022-11-25T14:23:32.297Z"
   },
   {
    "duration": 16,
    "start_time": "2022-11-25T14:23:32.305Z"
   },
   {
    "duration": 40,
    "start_time": "2022-11-25T14:23:32.323Z"
   },
   {
    "duration": 4,
    "start_time": "2022-11-25T14:23:32.364Z"
   },
   {
    "duration": 16,
    "start_time": "2022-11-25T14:23:32.370Z"
   },
   {
    "duration": 38,
    "start_time": "2022-11-25T14:23:32.387Z"
   },
   {
    "duration": 141,
    "start_time": "2022-11-25T14:23:32.427Z"
   },
   {
    "duration": 0,
    "start_time": "2022-11-25T14:23:32.570Z"
   },
   {
    "duration": 0,
    "start_time": "2022-11-25T14:23:32.573Z"
   },
   {
    "duration": 1,
    "start_time": "2022-11-25T14:23:32.573Z"
   },
   {
    "duration": 0,
    "start_time": "2022-11-25T14:23:32.575Z"
   },
   {
    "duration": 0,
    "start_time": "2022-11-25T14:23:32.577Z"
   },
   {
    "duration": 1058,
    "start_time": "2022-11-25T14:24:09.026Z"
   },
   {
    "duration": 674,
    "start_time": "2022-11-25T14:24:10.086Z"
   },
   {
    "duration": 5,
    "start_time": "2022-11-25T14:24:10.762Z"
   },
   {
    "duration": 215,
    "start_time": "2022-11-25T14:24:10.769Z"
   },
   {
    "duration": 14,
    "start_time": "2022-11-25T14:24:10.985Z"
   },
   {
    "duration": 54,
    "start_time": "2022-11-25T14:24:11.000Z"
   },
   {
    "duration": 39,
    "start_time": "2022-11-25T14:24:11.055Z"
   },
   {
    "duration": 36,
    "start_time": "2022-11-25T14:24:11.096Z"
   },
   {
    "duration": 44,
    "start_time": "2022-11-25T14:24:11.133Z"
   },
   {
    "duration": 70,
    "start_time": "2022-11-25T14:24:11.181Z"
   },
   {
    "duration": 148,
    "start_time": "2022-11-25T14:24:11.253Z"
   },
   {
    "duration": 0,
    "start_time": "2022-11-25T14:24:11.403Z"
   },
   {
    "duration": 0,
    "start_time": "2022-11-25T14:24:11.404Z"
   },
   {
    "duration": 0,
    "start_time": "2022-11-25T14:24:11.405Z"
   },
   {
    "duration": 0,
    "start_time": "2022-11-25T14:24:11.406Z"
   },
   {
    "duration": 0,
    "start_time": "2022-11-25T14:24:11.407Z"
   },
   {
    "duration": 0,
    "start_time": "2022-11-25T14:24:11.408Z"
   },
   {
    "duration": 0,
    "start_time": "2022-11-25T14:24:11.409Z"
   },
   {
    "duration": 0,
    "start_time": "2022-11-25T14:24:11.410Z"
   },
   {
    "duration": 0,
    "start_time": "2022-11-25T14:24:11.411Z"
   },
   {
    "duration": 4,
    "start_time": "2022-11-25T14:24:24.472Z"
   },
   {
    "duration": 4,
    "start_time": "2022-11-25T14:25:54.560Z"
   },
   {
    "duration": 1028,
    "start_time": "2022-11-25T14:26:07.570Z"
   },
   {
    "duration": 655,
    "start_time": "2022-11-25T14:26:08.600Z"
   },
   {
    "duration": 5,
    "start_time": "2022-11-25T14:26:09.257Z"
   },
   {
    "duration": 165,
    "start_time": "2022-11-25T14:26:09.265Z"
   },
   {
    "duration": 22,
    "start_time": "2022-11-25T14:26:09.431Z"
   },
   {
    "duration": 5,
    "start_time": "2022-11-25T14:26:09.454Z"
   },
   {
    "duration": 7,
    "start_time": "2022-11-25T14:26:09.461Z"
   },
   {
    "duration": 6,
    "start_time": "2022-11-25T14:26:09.469Z"
   },
   {
    "duration": 6,
    "start_time": "2022-11-25T14:26:09.476Z"
   },
   {
    "duration": 19,
    "start_time": "2022-11-25T14:26:09.485Z"
   },
   {
    "duration": 121,
    "start_time": "2022-11-25T14:26:09.506Z"
   },
   {
    "duration": 0,
    "start_time": "2022-11-25T14:26:09.628Z"
   },
   {
    "duration": 0,
    "start_time": "2022-11-25T14:26:09.629Z"
   },
   {
    "duration": 0,
    "start_time": "2022-11-25T14:26:09.630Z"
   },
   {
    "duration": 0,
    "start_time": "2022-11-25T14:26:09.631Z"
   },
   {
    "duration": 0,
    "start_time": "2022-11-25T14:26:09.632Z"
   },
   {
    "duration": 0,
    "start_time": "2022-11-25T14:26:09.633Z"
   },
   {
    "duration": 0,
    "start_time": "2022-11-25T14:26:09.634Z"
   },
   {
    "duration": 0,
    "start_time": "2022-11-25T14:26:09.635Z"
   },
   {
    "duration": 0,
    "start_time": "2022-11-25T14:26:09.636Z"
   },
   {
    "duration": 0,
    "start_time": "2022-11-25T14:26:09.637Z"
   },
   {
    "duration": 21,
    "start_time": "2022-11-25T14:26:17.049Z"
   },
   {
    "duration": 4,
    "start_time": "2022-11-25T14:26:28.986Z"
   },
   {
    "duration": 4,
    "start_time": "2022-11-25T14:28:11.308Z"
   },
   {
    "duration": 1061,
    "start_time": "2022-11-25T14:28:45.770Z"
   },
   {
    "duration": 714,
    "start_time": "2022-11-25T14:28:46.833Z"
   },
   {
    "duration": 5,
    "start_time": "2022-11-25T14:28:47.549Z"
   },
   {
    "duration": 211,
    "start_time": "2022-11-25T14:28:47.556Z"
   },
   {
    "duration": 13,
    "start_time": "2022-11-25T14:28:47.768Z"
   },
   {
    "duration": 8,
    "start_time": "2022-11-25T14:28:47.783Z"
   },
   {
    "duration": 26,
    "start_time": "2022-11-25T14:28:47.793Z"
   },
   {
    "duration": 16,
    "start_time": "2022-11-25T14:28:47.821Z"
   },
   {
    "duration": 24,
    "start_time": "2022-11-25T14:28:47.839Z"
   },
   {
    "duration": 30,
    "start_time": "2022-11-25T14:28:47.866Z"
   },
   {
    "duration": 111,
    "start_time": "2022-11-25T14:28:47.898Z"
   },
   {
    "duration": 0,
    "start_time": "2022-11-25T14:28:48.011Z"
   },
   {
    "duration": 0,
    "start_time": "2022-11-25T14:28:48.012Z"
   },
   {
    "duration": 0,
    "start_time": "2022-11-25T14:28:48.013Z"
   },
   {
    "duration": 0,
    "start_time": "2022-11-25T14:28:48.014Z"
   },
   {
    "duration": 0,
    "start_time": "2022-11-25T14:28:48.015Z"
   },
   {
    "duration": 0,
    "start_time": "2022-11-25T14:28:48.016Z"
   },
   {
    "duration": 0,
    "start_time": "2022-11-25T14:28:48.017Z"
   },
   {
    "duration": 0,
    "start_time": "2022-11-25T14:28:48.018Z"
   },
   {
    "duration": 0,
    "start_time": "2022-11-25T14:28:48.019Z"
   },
   {
    "duration": 0,
    "start_time": "2022-11-25T14:28:48.020Z"
   },
   {
    "duration": 21,
    "start_time": "2022-11-25T14:28:54.236Z"
   },
   {
    "duration": 5,
    "start_time": "2022-11-25T14:30:08.118Z"
   },
   {
    "duration": 4,
    "start_time": "2022-11-25T14:32:17.064Z"
   },
   {
    "duration": 4,
    "start_time": "2022-11-25T14:32:25.624Z"
   },
   {
    "duration": 4,
    "start_time": "2022-11-25T14:32:35.593Z"
   },
   {
    "duration": 5,
    "start_time": "2022-11-25T14:32:45.408Z"
   },
   {
    "duration": 272,
    "start_time": "2022-11-25T14:33:19.641Z"
   },
   {
    "duration": 4,
    "start_time": "2022-11-25T14:33:47.529Z"
   },
   {
    "duration": 1059,
    "start_time": "2022-11-25T14:33:58.043Z"
   },
   {
    "duration": 277,
    "start_time": "2022-11-25T14:33:59.104Z"
   },
   {
    "duration": 75,
    "start_time": "2022-11-25T14:33:59.382Z"
   },
   {
    "duration": 322,
    "start_time": "2022-11-25T14:33:59.459Z"
   },
   {
    "duration": 4,
    "start_time": "2022-11-25T14:33:59.783Z"
   },
   {
    "duration": 192,
    "start_time": "2022-11-25T14:33:59.788Z"
   },
   {
    "duration": 12,
    "start_time": "2022-11-25T14:33:59.981Z"
   },
   {
    "duration": 14,
    "start_time": "2022-11-25T14:33:59.995Z"
   },
   {
    "duration": 18,
    "start_time": "2022-11-25T14:34:00.011Z"
   },
   {
    "duration": 25,
    "start_time": "2022-11-25T14:34:00.031Z"
   },
   {
    "duration": 22,
    "start_time": "2022-11-25T14:34:00.058Z"
   },
   {
    "duration": 24,
    "start_time": "2022-11-25T14:34:00.081Z"
   },
   {
    "duration": 24,
    "start_time": "2022-11-25T14:34:00.107Z"
   },
   {
    "duration": 25,
    "start_time": "2022-11-25T14:34:00.132Z"
   },
   {
    "duration": 19,
    "start_time": "2022-11-25T14:34:00.159Z"
   },
   {
    "duration": 32,
    "start_time": "2022-11-25T14:34:00.180Z"
   },
   {
    "duration": 57,
    "start_time": "2022-11-25T14:34:00.214Z"
   },
   {
    "duration": 94,
    "start_time": "2022-11-25T14:34:00.273Z"
   },
   {
    "duration": 0,
    "start_time": "2022-11-25T14:34:00.369Z"
   },
   {
    "duration": 0,
    "start_time": "2022-11-25T14:34:00.370Z"
   },
   {
    "duration": 0,
    "start_time": "2022-11-25T14:34:00.371Z"
   },
   {
    "duration": 0,
    "start_time": "2022-11-25T14:34:00.372Z"
   },
   {
    "duration": 0,
    "start_time": "2022-11-25T14:34:00.373Z"
   },
   {
    "duration": 53,
    "start_time": "2022-11-25T17:36:50.080Z"
   },
   {
    "duration": 1020,
    "start_time": "2022-11-25T17:36:56.183Z"
   },
   {
    "duration": 1227,
    "start_time": "2022-11-25T17:36:57.205Z"
   },
   {
    "duration": 157,
    "start_time": "2022-11-25T17:36:58.435Z"
   },
   {
    "duration": 535,
    "start_time": "2022-11-25T17:36:58.594Z"
   },
   {
    "duration": 4,
    "start_time": "2022-11-25T17:36:59.130Z"
   },
   {
    "duration": 169,
    "start_time": "2022-11-25T17:36:59.136Z"
   },
   {
    "duration": 24,
    "start_time": "2022-11-25T17:36:59.306Z"
   },
   {
    "duration": 9,
    "start_time": "2022-11-25T17:36:59.332Z"
   },
   {
    "duration": 7,
    "start_time": "2022-11-25T17:36:59.342Z"
   },
   {
    "duration": 8,
    "start_time": "2022-11-25T17:36:59.351Z"
   },
   {
    "duration": 8,
    "start_time": "2022-11-25T17:36:59.360Z"
   },
   {
    "duration": 109,
    "start_time": "2022-11-25T17:36:59.370Z"
   },
   {
    "duration": 0,
    "start_time": "2022-11-25T17:36:59.480Z"
   },
   {
    "duration": 0,
    "start_time": "2022-11-25T17:36:59.481Z"
   },
   {
    "duration": 0,
    "start_time": "2022-11-25T17:36:59.482Z"
   },
   {
    "duration": 0,
    "start_time": "2022-11-25T17:36:59.483Z"
   },
   {
    "duration": 0,
    "start_time": "2022-11-25T17:36:59.484Z"
   },
   {
    "duration": 0,
    "start_time": "2022-11-25T17:36:59.485Z"
   },
   {
    "duration": 0,
    "start_time": "2022-11-25T17:36:59.486Z"
   },
   {
    "duration": 0,
    "start_time": "2022-11-25T17:36:59.487Z"
   },
   {
    "duration": 0,
    "start_time": "2022-11-25T17:36:59.488Z"
   },
   {
    "duration": 0,
    "start_time": "2022-11-25T17:36:59.489Z"
   },
   {
    "duration": 0,
    "start_time": "2022-11-25T17:36:59.490Z"
   },
   {
    "duration": 17,
    "start_time": "2022-11-25T17:37:44.981Z"
   },
   {
    "duration": 1076,
    "start_time": "2022-11-25T17:37:49.657Z"
   },
   {
    "duration": 286,
    "start_time": "2022-11-25T17:37:50.735Z"
   },
   {
    "duration": 75,
    "start_time": "2022-11-25T17:37:51.022Z"
   },
   {
    "duration": 360,
    "start_time": "2022-11-25T17:37:51.099Z"
   },
   {
    "duration": 4,
    "start_time": "2022-11-25T17:37:51.461Z"
   },
   {
    "duration": 173,
    "start_time": "2022-11-25T17:37:51.467Z"
   },
   {
    "duration": 12,
    "start_time": "2022-11-25T17:37:51.642Z"
   },
   {
    "duration": 4,
    "start_time": "2022-11-25T17:37:51.656Z"
   },
   {
    "duration": 8,
    "start_time": "2022-11-25T17:37:51.661Z"
   },
   {
    "duration": 4,
    "start_time": "2022-11-25T17:37:51.672Z"
   },
   {
    "duration": 4,
    "start_time": "2022-11-25T17:37:51.677Z"
   },
   {
    "duration": 35,
    "start_time": "2022-11-25T17:37:51.683Z"
   },
   {
    "duration": 15,
    "start_time": "2022-11-25T17:37:51.720Z"
   },
   {
    "duration": 7,
    "start_time": "2022-11-25T17:37:51.737Z"
   },
   {
    "duration": 6,
    "start_time": "2022-11-25T17:37:51.745Z"
   },
   {
    "duration": 4,
    "start_time": "2022-11-25T17:37:51.752Z"
   },
   {
    "duration": 36,
    "start_time": "2022-11-25T17:37:51.758Z"
   },
   {
    "duration": 102,
    "start_time": "2022-11-25T17:37:51.796Z"
   },
   {
    "duration": 0,
    "start_time": "2022-11-25T17:37:51.900Z"
   },
   {
    "duration": 0,
    "start_time": "2022-11-25T17:37:51.901Z"
   },
   {
    "duration": 0,
    "start_time": "2022-11-25T17:37:51.902Z"
   },
   {
    "duration": 0,
    "start_time": "2022-11-25T17:37:51.903Z"
   },
   {
    "duration": 0,
    "start_time": "2022-11-25T17:37:51.904Z"
   },
   {
    "duration": 18,
    "start_time": "2022-11-25T17:38:47.418Z"
   },
   {
    "duration": 9,
    "start_time": "2022-11-25T17:38:53.501Z"
   },
   {
    "duration": 14,
    "start_time": "2022-11-25T17:38:56.142Z"
   },
   {
    "duration": 15,
    "start_time": "2022-11-25T17:38:57.685Z"
   },
   {
    "duration": 974,
    "start_time": "2022-11-25T18:09:51.360Z"
   },
   {
    "duration": 272,
    "start_time": "2022-11-25T18:09:52.336Z"
   },
   {
    "duration": 70,
    "start_time": "2022-11-25T18:09:52.609Z"
   },
   {
    "duration": 312,
    "start_time": "2022-11-25T18:09:52.680Z"
   },
   {
    "duration": 4,
    "start_time": "2022-11-25T18:09:52.993Z"
   },
   {
    "duration": 163,
    "start_time": "2022-11-25T18:09:52.999Z"
   },
   {
    "duration": 12,
    "start_time": "2022-11-25T18:09:53.164Z"
   },
   {
    "duration": 4,
    "start_time": "2022-11-25T18:09:53.178Z"
   },
   {
    "duration": 5,
    "start_time": "2022-11-25T18:09:53.184Z"
   },
   {
    "duration": 3,
    "start_time": "2022-11-25T18:09:53.213Z"
   },
   {
    "duration": 6,
    "start_time": "2022-11-25T18:09:53.218Z"
   },
   {
    "duration": 16,
    "start_time": "2022-11-25T18:09:53.226Z"
   },
   {
    "duration": 13,
    "start_time": "2022-11-25T18:09:53.244Z"
   },
   {
    "duration": 4,
    "start_time": "2022-11-25T18:09:53.259Z"
   },
   {
    "duration": 5,
    "start_time": "2022-11-25T18:09:53.265Z"
   },
   {
    "duration": 4,
    "start_time": "2022-11-25T18:09:53.272Z"
   },
   {
    "duration": 36,
    "start_time": "2022-11-25T18:09:53.277Z"
   },
   {
    "duration": 47,
    "start_time": "2022-11-25T18:09:53.314Z"
   },
   {
    "duration": 99,
    "start_time": "2022-11-25T18:09:53.362Z"
   },
   {
    "duration": 0,
    "start_time": "2022-11-25T18:09:53.463Z"
   },
   {
    "duration": 0,
    "start_time": "2022-11-25T18:09:53.464Z"
   },
   {
    "duration": 0,
    "start_time": "2022-11-25T18:09:53.464Z"
   },
   {
    "duration": 0,
    "start_time": "2022-11-25T18:09:53.466Z"
   },
   {
    "duration": 0,
    "start_time": "2022-11-25T18:09:53.467Z"
   },
   {
    "duration": 998,
    "start_time": "2022-11-25T20:45:51.564Z"
   },
   {
    "duration": 272,
    "start_time": "2022-11-25T20:45:52.564Z"
   },
   {
    "duration": 72,
    "start_time": "2022-11-25T20:45:52.838Z"
   },
   {
    "duration": 331,
    "start_time": "2022-11-25T20:45:52.913Z"
   },
   {
    "duration": 4,
    "start_time": "2022-11-25T20:45:53.246Z"
   },
   {
    "duration": 169,
    "start_time": "2022-11-25T20:45:53.252Z"
   },
   {
    "duration": 18,
    "start_time": "2022-11-25T20:45:53.423Z"
   },
   {
    "duration": 5,
    "start_time": "2022-11-25T20:45:53.443Z"
   },
   {
    "duration": 5,
    "start_time": "2022-11-25T20:45:53.450Z"
   },
   {
    "duration": 7,
    "start_time": "2022-11-25T20:45:53.458Z"
   },
   {
    "duration": 6,
    "start_time": "2022-11-25T20:45:53.467Z"
   },
   {
    "duration": 57,
    "start_time": "2022-11-25T20:45:53.475Z"
   },
   {
    "duration": 115,
    "start_time": "2022-11-25T20:45:53.534Z"
   },
   {
    "duration": 0,
    "start_time": "2022-11-25T20:45:53.651Z"
   },
   {
    "duration": 0,
    "start_time": "2022-11-25T20:45:53.653Z"
   },
   {
    "duration": 0,
    "start_time": "2022-11-25T20:45:53.655Z"
   },
   {
    "duration": 0,
    "start_time": "2022-11-25T20:45:53.656Z"
   },
   {
    "duration": 0,
    "start_time": "2022-11-25T20:45:53.658Z"
   },
   {
    "duration": 0,
    "start_time": "2022-11-25T20:45:53.659Z"
   },
   {
    "duration": 0,
    "start_time": "2022-11-25T20:45:53.661Z"
   },
   {
    "duration": 1035,
    "start_time": "2022-11-25T20:47:59.462Z"
   },
   {
    "duration": 317,
    "start_time": "2022-11-25T20:48:00.499Z"
   },
   {
    "duration": 98,
    "start_time": "2022-11-25T20:48:00.817Z"
   },
   {
    "duration": 338,
    "start_time": "2022-11-25T20:48:00.917Z"
   },
   {
    "duration": 5,
    "start_time": "2022-11-25T20:48:01.257Z"
   },
   {
    "duration": 211,
    "start_time": "2022-11-25T20:48:01.264Z"
   },
   {
    "duration": 13,
    "start_time": "2022-11-25T20:48:01.477Z"
   },
   {
    "duration": 5,
    "start_time": "2022-11-25T20:48:01.492Z"
   },
   {
    "duration": 4,
    "start_time": "2022-11-25T20:48:01.512Z"
   },
   {
    "duration": 6,
    "start_time": "2022-11-25T20:48:01.518Z"
   },
   {
    "duration": 6,
    "start_time": "2022-11-25T20:48:01.525Z"
   },
   {
    "duration": 33,
    "start_time": "2022-11-25T20:48:01.533Z"
   },
   {
    "duration": 26,
    "start_time": "2022-11-25T20:48:01.568Z"
   },
   {
    "duration": 48,
    "start_time": "2022-11-25T20:48:01.596Z"
   },
   {
    "duration": 96,
    "start_time": "2022-11-25T20:48:01.645Z"
   },
   {
    "duration": 0,
    "start_time": "2022-11-25T20:48:01.743Z"
   },
   {
    "duration": 0,
    "start_time": "2022-11-25T20:48:01.744Z"
   },
   {
    "duration": 0,
    "start_time": "2022-11-25T20:48:01.745Z"
   },
   {
    "duration": 0,
    "start_time": "2022-11-25T20:48:01.746Z"
   },
   {
    "duration": 0,
    "start_time": "2022-11-25T20:48:01.748Z"
   },
   {
    "duration": 13,
    "start_time": "2022-11-25T20:50:32.358Z"
   },
   {
    "duration": 12,
    "start_time": "2022-11-25T20:54:00.886Z"
   },
   {
    "duration": 13,
    "start_time": "2022-11-25T20:54:08.901Z"
   },
   {
    "duration": 15,
    "start_time": "2022-11-25T20:54:32.470Z"
   },
   {
    "duration": 15,
    "start_time": "2022-11-25T20:54:42.990Z"
   },
   {
    "duration": 1058,
    "start_time": "2022-11-25T20:55:43.393Z"
   },
   {
    "duration": 312,
    "start_time": "2022-11-25T20:55:44.453Z"
   },
   {
    "duration": 111,
    "start_time": "2022-11-25T20:55:44.767Z"
   },
   {
    "duration": 400,
    "start_time": "2022-11-25T20:55:44.881Z"
   },
   {
    "duration": 5,
    "start_time": "2022-11-25T20:55:45.282Z"
   },
   {
    "duration": 172,
    "start_time": "2022-11-25T20:55:45.288Z"
   },
   {
    "duration": 13,
    "start_time": "2022-11-25T20:55:45.461Z"
   },
   {
    "duration": 4,
    "start_time": "2022-11-25T20:55:45.476Z"
   },
   {
    "duration": 7,
    "start_time": "2022-11-25T20:55:45.482Z"
   },
   {
    "duration": 24,
    "start_time": "2022-11-25T20:55:45.491Z"
   },
   {
    "duration": 7,
    "start_time": "2022-11-25T20:55:45.516Z"
   },
   {
    "duration": 19,
    "start_time": "2022-11-25T20:55:45.525Z"
   },
   {
    "duration": 18,
    "start_time": "2022-11-25T20:55:45.546Z"
   },
   {
    "duration": 10,
    "start_time": "2022-11-25T20:55:45.566Z"
   },
   {
    "duration": 42,
    "start_time": "2022-11-25T20:55:45.578Z"
   },
   {
    "duration": 16,
    "start_time": "2022-11-25T20:55:45.622Z"
   },
   {
    "duration": 10,
    "start_time": "2022-11-25T20:55:45.640Z"
   },
   {
    "duration": 41,
    "start_time": "2022-11-25T20:55:45.652Z"
   },
   {
    "duration": 24,
    "start_time": "2022-11-25T20:55:45.694Z"
   },
   {
    "duration": 5,
    "start_time": "2022-11-25T20:55:45.720Z"
   },
   {
    "duration": 17,
    "start_time": "2022-11-25T20:55:45.726Z"
   },
   {
    "duration": 2,
    "start_time": "2022-11-25T20:55:45.745Z"
   },
   {
    "duration": 5,
    "start_time": "2022-11-25T20:55:45.749Z"
   },
   {
    "duration": 127,
    "start_time": "2022-11-25T20:55:45.756Z"
   },
   {
    "duration": 1032,
    "start_time": "2022-11-25T20:58:19.365Z"
   },
   {
    "duration": 302,
    "start_time": "2022-11-25T20:58:20.399Z"
   },
   {
    "duration": 71,
    "start_time": "2022-11-25T20:58:20.706Z"
   },
   {
    "duration": 326,
    "start_time": "2022-11-25T20:58:20.780Z"
   },
   {
    "duration": 4,
    "start_time": "2022-11-25T20:58:21.108Z"
   },
   {
    "duration": 168,
    "start_time": "2022-11-25T20:58:21.114Z"
   },
   {
    "duration": 13,
    "start_time": "2022-11-25T20:58:21.284Z"
   },
   {
    "duration": 15,
    "start_time": "2022-11-25T20:58:21.298Z"
   },
   {
    "duration": 4,
    "start_time": "2022-11-25T20:58:21.315Z"
   },
   {
    "duration": 4,
    "start_time": "2022-11-25T20:58:21.322Z"
   },
   {
    "duration": 7,
    "start_time": "2022-11-25T20:58:21.327Z"
   },
   {
    "duration": 18,
    "start_time": "2022-11-25T20:58:21.336Z"
   },
   {
    "duration": 18,
    "start_time": "2022-11-25T20:58:21.356Z"
   },
   {
    "duration": 44,
    "start_time": "2022-11-25T20:58:21.376Z"
   },
   {
    "duration": 11,
    "start_time": "2022-11-25T20:58:21.422Z"
   },
   {
    "duration": 11,
    "start_time": "2022-11-25T20:58:21.435Z"
   },
   {
    "duration": 10,
    "start_time": "2022-11-25T20:58:21.448Z"
   },
   {
    "duration": 1400,
    "start_time": "2022-11-25T20:58:21.459Z"
   },
   {
    "duration": 4,
    "start_time": "2022-11-25T20:58:22.861Z"
   },
   {
    "duration": 5,
    "start_time": "2022-11-25T20:58:22.867Z"
   },
   {
    "duration": 16,
    "start_time": "2022-11-25T20:58:22.873Z"
   },
   {
    "duration": 2,
    "start_time": "2022-11-25T20:58:22.891Z"
   },
   {
    "duration": 21,
    "start_time": "2022-11-25T20:58:22.894Z"
   },
   {
    "duration": 101,
    "start_time": "2022-11-25T20:58:22.916Z"
   },
   {
    "duration": 1062,
    "start_time": "2022-11-25T21:00:27.976Z"
   },
   {
    "duration": 274,
    "start_time": "2022-11-25T21:00:29.040Z"
   },
   {
    "duration": 75,
    "start_time": "2022-11-25T21:00:29.315Z"
   },
   {
    "duration": 323,
    "start_time": "2022-11-25T21:00:29.392Z"
   },
   {
    "duration": 4,
    "start_time": "2022-11-25T21:00:29.716Z"
   },
   {
    "duration": 163,
    "start_time": "2022-11-25T21:00:29.721Z"
   },
   {
    "duration": 11,
    "start_time": "2022-11-25T21:00:29.886Z"
   },
   {
    "duration": 3,
    "start_time": "2022-11-25T21:00:29.899Z"
   },
   {
    "duration": 3,
    "start_time": "2022-11-25T21:00:29.913Z"
   },
   {
    "duration": 5,
    "start_time": "2022-11-25T21:00:29.918Z"
   },
   {
    "duration": 4,
    "start_time": "2022-11-25T21:00:29.925Z"
   },
   {
    "duration": 21,
    "start_time": "2022-11-25T21:00:29.931Z"
   },
   {
    "duration": 16,
    "start_time": "2022-11-25T21:00:29.954Z"
   },
   {
    "duration": 12,
    "start_time": "2022-11-25T21:00:29.972Z"
   },
   {
    "duration": 33,
    "start_time": "2022-11-25T21:00:29.986Z"
   },
   {
    "duration": 10,
    "start_time": "2022-11-25T21:00:30.020Z"
   },
   {
    "duration": 9,
    "start_time": "2022-11-25T21:00:30.031Z"
   },
   {
    "duration": 2926,
    "start_time": "2022-11-25T21:00:30.042Z"
   },
   {
    "duration": 3,
    "start_time": "2022-11-25T21:00:32.970Z"
   },
   {
    "duration": 23,
    "start_time": "2022-11-25T21:00:32.975Z"
   },
   {
    "duration": 14,
    "start_time": "2022-11-25T21:00:32.999Z"
   },
   {
    "duration": 7,
    "start_time": "2022-11-25T21:00:33.014Z"
   },
   {
    "duration": 99,
    "start_time": "2022-11-25T21:00:33.022Z"
   },
   {
    "duration": 2,
    "start_time": "2022-11-25T21:04:44.419Z"
   },
   {
    "duration": 1033,
    "start_time": "2022-11-25T21:05:37.716Z"
   },
   {
    "duration": 281,
    "start_time": "2022-11-25T21:05:38.750Z"
   },
   {
    "duration": 72,
    "start_time": "2022-11-25T21:05:39.033Z"
   },
   {
    "duration": 321,
    "start_time": "2022-11-25T21:05:39.106Z"
   },
   {
    "duration": 4,
    "start_time": "2022-11-25T21:05:39.428Z"
   },
   {
    "duration": 172,
    "start_time": "2022-11-25T21:05:39.434Z"
   },
   {
    "duration": 13,
    "start_time": "2022-11-25T21:05:39.613Z"
   },
   {
    "duration": 5,
    "start_time": "2022-11-25T21:05:39.628Z"
   },
   {
    "duration": 4,
    "start_time": "2022-11-25T21:05:39.635Z"
   },
   {
    "duration": 6,
    "start_time": "2022-11-25T21:05:39.641Z"
   },
   {
    "duration": 7,
    "start_time": "2022-11-25T21:05:39.649Z"
   },
   {
    "duration": 55,
    "start_time": "2022-11-25T21:05:39.658Z"
   },
   {
    "duration": 25,
    "start_time": "2022-11-25T21:05:39.715Z"
   },
   {
    "duration": 11,
    "start_time": "2022-11-25T21:05:39.743Z"
   },
   {
    "duration": 12,
    "start_time": "2022-11-25T21:05:39.756Z"
   },
   {
    "duration": 13,
    "start_time": "2022-11-25T21:05:39.769Z"
   },
   {
    "duration": 12,
    "start_time": "2022-11-25T21:05:39.813Z"
   },
   {
    "duration": 3143,
    "start_time": "2022-11-25T21:05:39.827Z"
   },
   {
    "duration": 4,
    "start_time": "2022-11-25T21:05:42.972Z"
   },
   {
    "duration": 19,
    "start_time": "2022-11-25T21:05:42.978Z"
   },
   {
    "duration": 15,
    "start_time": "2022-11-25T21:05:42.998Z"
   },
   {
    "duration": 12322,
    "start_time": "2022-11-25T21:05:43.014Z"
   },
   {
    "duration": 1031,
    "start_time": "2022-11-25T21:08:23.778Z"
   },
   {
    "duration": 294,
    "start_time": "2022-11-25T21:08:24.811Z"
   },
   {
    "duration": 70,
    "start_time": "2022-11-25T21:08:25.106Z"
   },
   {
    "duration": 337,
    "start_time": "2022-11-25T21:08:25.178Z"
   },
   {
    "duration": 4,
    "start_time": "2022-11-25T21:08:25.516Z"
   },
   {
    "duration": 168,
    "start_time": "2022-11-25T21:08:25.522Z"
   },
   {
    "duration": 21,
    "start_time": "2022-11-25T21:08:25.692Z"
   },
   {
    "duration": 4,
    "start_time": "2022-11-25T21:08:25.714Z"
   },
   {
    "duration": 6,
    "start_time": "2022-11-25T21:08:25.720Z"
   },
   {
    "duration": 5,
    "start_time": "2022-11-25T21:08:25.728Z"
   },
   {
    "duration": 5,
    "start_time": "2022-11-25T21:08:25.735Z"
   },
   {
    "duration": 17,
    "start_time": "2022-11-25T21:08:25.742Z"
   },
   {
    "duration": 16,
    "start_time": "2022-11-25T21:08:25.760Z"
   },
   {
    "duration": 35,
    "start_time": "2022-11-25T21:08:25.778Z"
   },
   {
    "duration": 10,
    "start_time": "2022-11-25T21:08:25.814Z"
   },
   {
    "duration": 10,
    "start_time": "2022-11-25T21:08:25.826Z"
   },
   {
    "duration": 11,
    "start_time": "2022-11-25T21:08:25.837Z"
   },
   {
    "duration": 3130,
    "start_time": "2022-11-25T21:08:25.849Z"
   },
   {
    "duration": 5,
    "start_time": "2022-11-25T21:08:28.980Z"
   },
   {
    "duration": 28,
    "start_time": "2022-11-25T21:08:28.987Z"
   },
   {
    "duration": 39010,
    "start_time": "2022-11-25T21:08:29.017Z"
   },
   {
    "duration": 15,
    "start_time": "2022-11-25T21:10:10.848Z"
   },
   {
    "duration": 1097,
    "start_time": "2022-11-25T21:12:14.050Z"
   },
   {
    "duration": 283,
    "start_time": "2022-11-25T21:12:15.149Z"
   },
   {
    "duration": 78,
    "start_time": "2022-11-25T21:12:15.434Z"
   },
   {
    "duration": 333,
    "start_time": "2022-11-25T21:12:15.515Z"
   },
   {
    "duration": 4,
    "start_time": "2022-11-25T21:12:15.850Z"
   },
   {
    "duration": 166,
    "start_time": "2022-11-25T21:12:15.855Z"
   },
   {
    "duration": 14,
    "start_time": "2022-11-25T21:12:16.022Z"
   },
   {
    "duration": 5,
    "start_time": "2022-11-25T21:12:16.038Z"
   },
   {
    "duration": 3,
    "start_time": "2022-11-25T21:12:16.045Z"
   },
   {
    "duration": 3,
    "start_time": "2022-11-25T21:12:16.052Z"
   },
   {
    "duration": 5,
    "start_time": "2022-11-25T21:12:16.057Z"
   },
   {
    "duration": 57,
    "start_time": "2022-11-25T21:12:16.063Z"
   },
   {
    "duration": 17,
    "start_time": "2022-11-25T21:12:16.122Z"
   },
   {
    "duration": 9,
    "start_time": "2022-11-25T21:12:16.140Z"
   },
   {
    "duration": 8,
    "start_time": "2022-11-25T21:12:16.151Z"
   },
   {
    "duration": 8,
    "start_time": "2022-11-25T21:12:16.161Z"
   },
   {
    "duration": 9,
    "start_time": "2022-11-25T21:12:16.171Z"
   },
   {
    "duration": 3048,
    "start_time": "2022-11-25T21:12:16.213Z"
   },
   {
    "duration": 4,
    "start_time": "2022-11-25T21:12:19.262Z"
   },
   {
    "duration": 39259,
    "start_time": "2022-11-25T21:12:19.268Z"
   },
   {
    "duration": 10,
    "start_time": "2022-11-25T21:12:58.529Z"
   },
   {
    "duration": 1085,
    "start_time": "2022-11-25T21:19:17.502Z"
   },
   {
    "duration": 3,
    "start_time": "2022-11-25T21:19:18.589Z"
   },
   {
    "duration": 286,
    "start_time": "2022-11-25T21:19:18.593Z"
   },
   {
    "duration": 80,
    "start_time": "2022-11-25T21:19:18.882Z"
   },
   {
    "duration": 362,
    "start_time": "2022-11-25T21:19:18.964Z"
   },
   {
    "duration": 6,
    "start_time": "2022-11-25T21:19:19.328Z"
   },
   {
    "duration": 180,
    "start_time": "2022-11-25T21:19:19.336Z"
   },
   {
    "duration": 15,
    "start_time": "2022-11-25T21:19:19.517Z"
   },
   {
    "duration": 5,
    "start_time": "2022-11-25T21:19:19.534Z"
   },
   {
    "duration": 8,
    "start_time": "2022-11-25T21:19:19.543Z"
   },
   {
    "duration": 6,
    "start_time": "2022-11-25T21:19:19.553Z"
   },
   {
    "duration": 9,
    "start_time": "2022-11-25T21:19:19.560Z"
   },
   {
    "duration": 42,
    "start_time": "2022-11-25T21:19:19.571Z"
   },
   {
    "duration": 21,
    "start_time": "2022-11-25T21:19:19.615Z"
   },
   {
    "duration": 10,
    "start_time": "2022-11-25T21:19:19.639Z"
   },
   {
    "duration": 16,
    "start_time": "2022-11-25T21:19:19.650Z"
   },
   {
    "duration": 13,
    "start_time": "2022-11-25T21:19:19.667Z"
   },
   {
    "duration": 10,
    "start_time": "2022-11-25T21:19:19.682Z"
   },
   {
    "duration": 3258,
    "start_time": "2022-11-25T21:19:19.714Z"
   },
   {
    "duration": 3,
    "start_time": "2022-11-25T21:19:22.974Z"
   },
   {
    "duration": 8,
    "start_time": "2022-11-25T21:19:22.979Z"
   },
   {
    "duration": 1086,
    "start_time": "2022-11-25T21:20:56.690Z"
   },
   {
    "duration": 3,
    "start_time": "2022-11-25T21:20:57.778Z"
   },
   {
    "duration": 277,
    "start_time": "2022-11-25T21:20:57.786Z"
   },
   {
    "duration": 69,
    "start_time": "2022-11-25T21:20:58.065Z"
   },
   {
    "duration": 324,
    "start_time": "2022-11-25T21:20:58.136Z"
   },
   {
    "duration": 5,
    "start_time": "2022-11-25T21:20:58.461Z"
   },
   {
    "duration": 170,
    "start_time": "2022-11-25T21:20:58.467Z"
   },
   {
    "duration": 13,
    "start_time": "2022-11-25T21:20:58.640Z"
   },
   {
    "duration": 6,
    "start_time": "2022-11-25T21:20:58.656Z"
   },
   {
    "duration": 7,
    "start_time": "2022-11-25T21:20:58.664Z"
   },
   {
    "duration": 5,
    "start_time": "2022-11-25T21:20:58.673Z"
   },
   {
    "duration": 10,
    "start_time": "2022-11-25T21:20:58.680Z"
   },
   {
    "duration": 47,
    "start_time": "2022-11-25T21:20:58.691Z"
   },
   {
    "duration": 26,
    "start_time": "2022-11-25T21:20:58.740Z"
   },
   {
    "duration": 10,
    "start_time": "2022-11-25T21:20:58.767Z"
   },
   {
    "duration": 35,
    "start_time": "2022-11-25T21:20:58.779Z"
   },
   {
    "duration": 11,
    "start_time": "2022-11-25T21:20:58.815Z"
   },
   {
    "duration": 15,
    "start_time": "2022-11-25T21:20:58.827Z"
   },
   {
    "duration": 2818,
    "start_time": "2022-11-25T21:20:58.844Z"
   },
   {
    "duration": 4,
    "start_time": "2022-11-25T21:21:01.663Z"
   },
   {
    "duration": 8,
    "start_time": "2022-11-25T21:21:01.669Z"
   },
   {
    "duration": 166063,
    "start_time": "2022-11-25T21:21:01.679Z"
   },
   {
    "duration": 1058,
    "start_time": "2022-11-25T21:26:07.229Z"
   },
   {
    "duration": 2,
    "start_time": "2022-11-25T21:26:08.289Z"
   },
   {
    "duration": 284,
    "start_time": "2022-11-25T21:26:08.292Z"
   },
   {
    "duration": 75,
    "start_time": "2022-11-25T21:26:08.578Z"
   },
   {
    "duration": 324,
    "start_time": "2022-11-25T21:26:08.654Z"
   },
   {
    "duration": 4,
    "start_time": "2022-11-25T21:26:08.980Z"
   },
   {
    "duration": 176,
    "start_time": "2022-11-25T21:26:08.986Z"
   },
   {
    "duration": 13,
    "start_time": "2022-11-25T21:26:09.164Z"
   },
   {
    "duration": 17,
    "start_time": "2022-11-25T21:26:09.178Z"
   },
   {
    "duration": 31,
    "start_time": "2022-11-25T21:26:09.198Z"
   },
   {
    "duration": 27,
    "start_time": "2022-11-25T21:26:09.230Z"
   },
   {
    "duration": 23,
    "start_time": "2022-11-25T21:26:09.258Z"
   },
   {
    "duration": 44,
    "start_time": "2022-11-25T21:26:09.282Z"
   },
   {
    "duration": 38,
    "start_time": "2022-11-25T21:26:09.327Z"
   },
   {
    "duration": 35,
    "start_time": "2022-11-25T21:26:09.367Z"
   },
   {
    "duration": 22,
    "start_time": "2022-11-25T21:26:09.404Z"
   },
   {
    "duration": 16,
    "start_time": "2022-11-25T21:26:09.427Z"
   },
   {
    "duration": 28,
    "start_time": "2022-11-25T21:26:09.444Z"
   },
   {
    "duration": 2885,
    "start_time": "2022-11-25T21:26:09.474Z"
   },
   {
    "duration": 4,
    "start_time": "2022-11-25T21:26:12.360Z"
   },
   {
    "duration": 32,
    "start_time": "2022-11-25T21:26:12.366Z"
   },
   {
    "duration": 165082,
    "start_time": "2022-11-25T21:26:12.400Z"
   },
   {
    "duration": 335666,
    "start_time": "2022-11-25T21:28:57.484Z"
   },
   {
    "duration": 31,
    "start_time": "2022-11-25T21:34:33.152Z"
   },
   {
    "duration": 9,
    "start_time": "2022-11-25T21:34:33.184Z"
   },
   {
    "duration": 1103,
    "start_time": "2022-11-25T21:42:30.623Z"
   },
   {
    "duration": 2,
    "start_time": "2022-11-25T21:42:31.729Z"
   },
   {
    "duration": 286,
    "start_time": "2022-11-25T21:42:31.733Z"
   },
   {
    "duration": 71,
    "start_time": "2022-11-25T21:42:32.021Z"
   },
   {
    "duration": 318,
    "start_time": "2022-11-25T21:42:32.094Z"
   },
   {
    "duration": 4,
    "start_time": "2022-11-25T21:42:32.414Z"
   },
   {
    "duration": 173,
    "start_time": "2022-11-25T21:42:32.421Z"
   },
   {
    "duration": 18,
    "start_time": "2022-11-25T21:42:32.596Z"
   },
   {
    "duration": 5,
    "start_time": "2022-11-25T21:42:32.615Z"
   },
   {
    "duration": 3,
    "start_time": "2022-11-25T21:42:32.624Z"
   },
   {
    "duration": 5,
    "start_time": "2022-11-25T21:42:32.628Z"
   },
   {
    "duration": 5,
    "start_time": "2022-11-25T21:42:32.634Z"
   },
   {
    "duration": 21,
    "start_time": "2022-11-25T21:42:32.640Z"
   },
   {
    "duration": 17,
    "start_time": "2022-11-25T21:42:32.662Z"
   },
   {
    "duration": 11,
    "start_time": "2022-11-25T21:42:32.713Z"
   },
   {
    "duration": 9,
    "start_time": "2022-11-25T21:42:32.725Z"
   },
   {
    "duration": 11,
    "start_time": "2022-11-25T21:42:32.735Z"
   },
   {
    "duration": 10,
    "start_time": "2022-11-25T21:42:32.747Z"
   },
   {
    "duration": 2905,
    "start_time": "2022-11-25T21:42:32.758Z"
   },
   {
    "duration": 4,
    "start_time": "2022-11-25T21:42:35.665Z"
   },
   {
    "duration": 173,
    "start_time": "2022-11-25T21:42:35.670Z"
   },
   {
    "duration": 84,
    "start_time": "2022-11-25T21:42:35.845Z"
   },
   {
    "duration": 9,
    "start_time": "2022-11-25T21:42:35.930Z"
   },
   {
    "duration": 0,
    "start_time": "2022-11-25T21:42:35.940Z"
   },
   {
    "duration": 1015,
    "start_time": "2022-11-25T21:43:41.368Z"
   },
   {
    "duration": 2,
    "start_time": "2022-11-25T21:43:42.384Z"
   },
   {
    "duration": 274,
    "start_time": "2022-11-25T21:43:42.388Z"
   },
   {
    "duration": 82,
    "start_time": "2022-11-25T21:43:42.664Z"
   },
   {
    "duration": 319,
    "start_time": "2022-11-25T21:43:42.747Z"
   },
   {
    "duration": 4,
    "start_time": "2022-11-25T21:43:43.068Z"
   },
   {
    "duration": 172,
    "start_time": "2022-11-25T21:43:43.073Z"
   },
   {
    "duration": 11,
    "start_time": "2022-11-25T21:43:43.247Z"
   },
   {
    "duration": 16,
    "start_time": "2022-11-25T21:43:43.259Z"
   },
   {
    "duration": 4,
    "start_time": "2022-11-25T21:43:43.278Z"
   },
   {
    "duration": 5,
    "start_time": "2022-11-25T21:43:43.283Z"
   },
   {
    "duration": 6,
    "start_time": "2022-11-25T21:43:43.289Z"
   },
   {
    "duration": 28,
    "start_time": "2022-11-25T21:43:43.296Z"
   },
   {
    "duration": 20,
    "start_time": "2022-11-25T21:43:43.326Z"
   },
   {
    "duration": 21,
    "start_time": "2022-11-25T21:43:43.347Z"
   },
   {
    "duration": 10,
    "start_time": "2022-11-25T21:43:43.370Z"
   },
   {
    "duration": 9,
    "start_time": "2022-11-25T21:43:43.381Z"
   },
   {
    "duration": 26,
    "start_time": "2022-11-25T21:43:43.392Z"
   },
   {
    "duration": 2938,
    "start_time": "2022-11-25T21:43:43.420Z"
   },
   {
    "duration": 4,
    "start_time": "2022-11-25T21:43:46.359Z"
   },
   {
    "duration": 178,
    "start_time": "2022-11-25T21:43:46.364Z"
   },
   {
    "duration": 94,
    "start_time": "2022-11-25T21:43:46.543Z"
   },
   {
    "duration": 8,
    "start_time": "2022-11-25T21:43:46.638Z"
   },
   {
    "duration": 0,
    "start_time": "2022-11-25T21:43:46.648Z"
   },
   {
    "duration": 107,
    "start_time": "2022-11-25T21:43:58.480Z"
   },
   {
    "duration": 1042,
    "start_time": "2022-11-25T21:45:05.727Z"
   },
   {
    "duration": 2,
    "start_time": "2022-11-25T21:45:06.771Z"
   },
   {
    "duration": 285,
    "start_time": "2022-11-25T21:45:06.775Z"
   },
   {
    "duration": 69,
    "start_time": "2022-11-25T21:45:07.066Z"
   },
   {
    "duration": 327,
    "start_time": "2022-11-25T21:45:07.137Z"
   },
   {
    "duration": 5,
    "start_time": "2022-11-25T21:45:07.465Z"
   },
   {
    "duration": 168,
    "start_time": "2022-11-25T21:45:07.471Z"
   },
   {
    "duration": 12,
    "start_time": "2022-11-25T21:45:07.640Z"
   },
   {
    "duration": 4,
    "start_time": "2022-11-25T21:45:07.654Z"
   },
   {
    "duration": 6,
    "start_time": "2022-11-25T21:45:07.660Z"
   },
   {
    "duration": 7,
    "start_time": "2022-11-25T21:45:07.667Z"
   },
   {
    "duration": 5,
    "start_time": "2022-11-25T21:45:07.676Z"
   },
   {
    "duration": 49,
    "start_time": "2022-11-25T21:45:07.683Z"
   },
   {
    "duration": 19,
    "start_time": "2022-11-25T21:45:07.734Z"
   },
   {
    "duration": 16,
    "start_time": "2022-11-25T21:45:07.754Z"
   },
   {
    "duration": 11,
    "start_time": "2022-11-25T21:45:07.772Z"
   },
   {
    "duration": 29,
    "start_time": "2022-11-25T21:45:07.784Z"
   },
   {
    "duration": 10,
    "start_time": "2022-11-25T21:45:07.814Z"
   },
   {
    "duration": 3031,
    "start_time": "2022-11-25T21:45:07.826Z"
   },
   {
    "duration": 4,
    "start_time": "2022-11-25T21:45:10.859Z"
   },
   {
    "duration": 17868,
    "start_time": "2022-11-25T21:45:10.864Z"
   },
   {
    "duration": 1155,
    "start_time": "2022-11-25T21:45:52.112Z"
   },
   {
    "duration": 3,
    "start_time": "2022-11-25T21:45:53.269Z"
   },
   {
    "duration": 305,
    "start_time": "2022-11-25T21:45:53.273Z"
   },
   {
    "duration": 74,
    "start_time": "2022-11-25T21:45:53.581Z"
   },
   {
    "duration": 324,
    "start_time": "2022-11-25T21:45:53.656Z"
   },
   {
    "duration": 4,
    "start_time": "2022-11-25T21:45:53.982Z"
   },
   {
    "duration": 166,
    "start_time": "2022-11-25T21:45:53.987Z"
   },
   {
    "duration": 12,
    "start_time": "2022-11-25T21:45:54.154Z"
   },
   {
    "duration": 4,
    "start_time": "2022-11-25T21:45:54.168Z"
   },
   {
    "duration": 4,
    "start_time": "2022-11-25T21:45:54.174Z"
   },
   {
    "duration": 5,
    "start_time": "2022-11-25T21:45:54.180Z"
   },
   {
    "duration": 27,
    "start_time": "2022-11-25T21:45:54.186Z"
   },
   {
    "duration": 18,
    "start_time": "2022-11-25T21:45:54.215Z"
   },
   {
    "duration": 16,
    "start_time": "2022-11-25T21:45:54.234Z"
   },
   {
    "duration": 11,
    "start_time": "2022-11-25T21:45:54.252Z"
   },
   {
    "duration": 9,
    "start_time": "2022-11-25T21:45:54.265Z"
   },
   {
    "duration": 12,
    "start_time": "2022-11-25T21:45:54.275Z"
   },
   {
    "duration": 11,
    "start_time": "2022-11-25T21:45:54.312Z"
   },
   {
    "duration": 2936,
    "start_time": "2022-11-25T21:45:54.325Z"
   },
   {
    "duration": 4,
    "start_time": "2022-11-25T21:45:57.262Z"
   },
   {
    "duration": 367795,
    "start_time": "2022-11-25T21:45:57.267Z"
   },
   {
    "duration": 763497,
    "start_time": "2022-11-25T21:52:05.064Z"
   },
   {
    "duration": 24,
    "start_time": "2022-11-25T22:04:48.562Z"
   },
   {
    "duration": 14,
    "start_time": "2022-11-25T22:04:48.588Z"
   },
   {
    "duration": 1105,
    "start_time": "2022-11-25T22:13:50.279Z"
   },
   {
    "duration": 3,
    "start_time": "2022-11-25T22:13:51.385Z"
   },
   {
    "duration": 279,
    "start_time": "2022-11-25T22:13:51.389Z"
   },
   {
    "duration": 71,
    "start_time": "2022-11-25T22:13:51.671Z"
   },
   {
    "duration": 318,
    "start_time": "2022-11-25T22:13:51.744Z"
   },
   {
    "duration": 4,
    "start_time": "2022-11-25T22:13:52.063Z"
   },
   {
    "duration": 174,
    "start_time": "2022-11-25T22:13:52.069Z"
   },
   {
    "duration": 12,
    "start_time": "2022-11-25T22:13:52.245Z"
   },
   {
    "duration": 25,
    "start_time": "2022-11-25T22:13:52.258Z"
   },
   {
    "duration": 16,
    "start_time": "2022-11-25T22:13:52.285Z"
   },
   {
    "duration": 33,
    "start_time": "2022-11-25T22:13:52.302Z"
   },
   {
    "duration": 29,
    "start_time": "2022-11-25T22:13:52.337Z"
   },
   {
    "duration": 24,
    "start_time": "2022-11-25T22:13:52.368Z"
   },
   {
    "duration": 39,
    "start_time": "2022-11-25T22:13:52.394Z"
   },
   {
    "duration": 41,
    "start_time": "2022-11-25T22:13:52.434Z"
   },
   {
    "duration": 25,
    "start_time": "2022-11-25T22:13:52.477Z"
   },
   {
    "duration": 21,
    "start_time": "2022-11-25T22:13:52.503Z"
   },
   {
    "duration": 29,
    "start_time": "2022-11-25T22:13:52.526Z"
   },
   {
    "duration": 2803,
    "start_time": "2022-11-25T22:13:52.556Z"
   },
   {
    "duration": 3,
    "start_time": "2022-11-25T22:13:55.361Z"
   },
   {
    "duration": 848,
    "start_time": "2022-11-25T22:13:55.365Z"
   },
   {
    "duration": 46398,
    "start_time": "2022-11-25T22:13:56.215Z"
   },
   {
    "duration": 3,
    "start_time": "2022-11-25T22:14:42.614Z"
   },
   {
    "duration": 1042,
    "start_time": "2022-11-25T22:15:15.130Z"
   },
   {
    "duration": 2,
    "start_time": "2022-11-25T22:15:16.173Z"
   },
   {
    "duration": 289,
    "start_time": "2022-11-25T22:15:16.177Z"
   },
   {
    "duration": 75,
    "start_time": "2022-11-25T22:15:16.468Z"
   },
   {
    "duration": 324,
    "start_time": "2022-11-25T22:15:16.545Z"
   },
   {
    "duration": 5,
    "start_time": "2022-11-25T22:15:16.870Z"
   },
   {
    "duration": 167,
    "start_time": "2022-11-25T22:15:16.876Z"
   },
   {
    "duration": 11,
    "start_time": "2022-11-25T22:15:17.045Z"
   },
   {
    "duration": 9,
    "start_time": "2022-11-25T22:15:17.057Z"
   },
   {
    "duration": 7,
    "start_time": "2022-11-25T22:15:17.068Z"
   },
   {
    "duration": 6,
    "start_time": "2022-11-25T22:15:17.076Z"
   },
   {
    "duration": 7,
    "start_time": "2022-11-25T22:15:17.083Z"
   },
   {
    "duration": 30,
    "start_time": "2022-11-25T22:15:17.091Z"
   },
   {
    "duration": 17,
    "start_time": "2022-11-25T22:15:17.123Z"
   },
   {
    "duration": 10,
    "start_time": "2022-11-25T22:15:17.141Z"
   },
   {
    "duration": 8,
    "start_time": "2022-11-25T22:15:17.153Z"
   },
   {
    "duration": 9,
    "start_time": "2022-11-25T22:15:17.162Z"
   },
   {
    "duration": 9,
    "start_time": "2022-11-25T22:15:17.172Z"
   },
   {
    "duration": 2671,
    "start_time": "2022-11-25T22:15:17.183Z"
   },
   {
    "duration": 4,
    "start_time": "2022-11-25T22:15:19.856Z"
   },
   {
    "duration": 915,
    "start_time": "2022-11-25T22:15:19.861Z"
   },
   {
    "duration": 1063,
    "start_time": "2022-11-25T22:15:41.230Z"
   },
   {
    "duration": 3,
    "start_time": "2022-11-25T22:15:42.294Z"
   },
   {
    "duration": 283,
    "start_time": "2022-11-25T22:15:42.298Z"
   },
   {
    "duration": 72,
    "start_time": "2022-11-25T22:15:42.583Z"
   },
   {
    "duration": 340,
    "start_time": "2022-11-25T22:15:42.657Z"
   },
   {
    "duration": 4,
    "start_time": "2022-11-25T22:15:42.999Z"
   },
   {
    "duration": 170,
    "start_time": "2022-11-25T22:15:43.005Z"
   },
   {
    "duration": 11,
    "start_time": "2022-11-25T22:15:43.177Z"
   },
   {
    "duration": 4,
    "start_time": "2022-11-25T22:15:43.190Z"
   },
   {
    "duration": 18,
    "start_time": "2022-11-25T22:15:43.196Z"
   },
   {
    "duration": 7,
    "start_time": "2022-11-25T22:15:43.216Z"
   },
   {
    "duration": 5,
    "start_time": "2022-11-25T22:15:43.225Z"
   },
   {
    "duration": 19,
    "start_time": "2022-11-25T22:15:43.231Z"
   },
   {
    "duration": 16,
    "start_time": "2022-11-25T22:15:43.252Z"
   },
   {
    "duration": 10,
    "start_time": "2022-11-25T22:15:43.270Z"
   },
   {
    "duration": 33,
    "start_time": "2022-11-25T22:15:43.281Z"
   },
   {
    "duration": 10,
    "start_time": "2022-11-25T22:15:43.315Z"
   },
   {
    "duration": 9,
    "start_time": "2022-11-25T22:15:43.327Z"
   },
   {
    "duration": 2922,
    "start_time": "2022-11-25T22:15:43.338Z"
   },
   {
    "duration": 3,
    "start_time": "2022-11-25T22:15:46.262Z"
   },
   {
    "duration": 906,
    "start_time": "2022-11-25T22:15:46.267Z"
   },
   {
    "duration": 46296,
    "start_time": "2022-11-25T22:15:47.175Z"
   },
   {
    "duration": 3,
    "start_time": "2022-11-25T22:16:33.472Z"
   },
   {
    "duration": 30355,
    "start_time": "2022-11-25T22:16:33.476Z"
   },
   {
    "duration": 68,
    "start_time": "2022-11-25T22:17:03.832Z"
   },
   {
    "duration": 0,
    "start_time": "2022-11-25T22:17:03.901Z"
   },
   {
    "duration": 1061,
    "start_time": "2022-11-25T22:18:17.418Z"
   },
   {
    "duration": 2,
    "start_time": "2022-11-25T22:18:18.481Z"
   },
   {
    "duration": 288,
    "start_time": "2022-11-25T22:18:18.484Z"
   },
   {
    "duration": 71,
    "start_time": "2022-11-25T22:18:18.773Z"
   },
   {
    "duration": 340,
    "start_time": "2022-11-25T22:18:18.846Z"
   },
   {
    "duration": 4,
    "start_time": "2022-11-25T22:18:19.188Z"
   },
   {
    "duration": 165,
    "start_time": "2022-11-25T22:18:19.193Z"
   },
   {
    "duration": 12,
    "start_time": "2022-11-25T22:18:19.359Z"
   },
   {
    "duration": 5,
    "start_time": "2022-11-25T22:18:19.372Z"
   },
   {
    "duration": 3,
    "start_time": "2022-11-25T22:18:19.380Z"
   },
   {
    "duration": 5,
    "start_time": "2022-11-25T22:18:19.385Z"
   },
   {
    "duration": 3,
    "start_time": "2022-11-25T22:18:19.413Z"
   },
   {
    "duration": 18,
    "start_time": "2022-11-25T22:18:19.418Z"
   },
   {
    "duration": 19,
    "start_time": "2022-11-25T22:18:19.438Z"
   },
   {
    "duration": 13,
    "start_time": "2022-11-25T22:18:19.458Z"
   },
   {
    "duration": 10,
    "start_time": "2022-11-25T22:18:19.473Z"
   },
   {
    "duration": 38,
    "start_time": "2022-11-25T22:18:19.485Z"
   },
   {
    "duration": 11,
    "start_time": "2022-11-25T22:18:19.525Z"
   },
   {
    "duration": 2825,
    "start_time": "2022-11-25T22:18:19.538Z"
   },
   {
    "duration": 3,
    "start_time": "2022-11-25T22:18:22.365Z"
   },
   {
    "duration": 890,
    "start_time": "2022-11-25T22:18:22.370Z"
   },
   {
    "duration": 46081,
    "start_time": "2022-11-25T22:18:23.262Z"
   },
   {
    "duration": 17,
    "start_time": "2022-11-25T22:19:09.344Z"
   },
   {
    "duration": 33480,
    "start_time": "2022-11-25T22:19:09.362Z"
   },
   {
    "duration": 9,
    "start_time": "2022-11-25T22:19:42.844Z"
   },
   {
    "duration": 0,
    "start_time": "2022-11-25T22:19:42.855Z"
   },
   {
    "duration": 1031,
    "start_time": "2022-11-25T22:21:01.879Z"
   },
   {
    "duration": 3,
    "start_time": "2022-11-25T22:21:02.912Z"
   },
   {
    "duration": 297,
    "start_time": "2022-11-25T22:21:02.916Z"
   },
   {
    "duration": 74,
    "start_time": "2022-11-25T22:21:03.215Z"
   },
   {
    "duration": 328,
    "start_time": "2022-11-25T22:21:03.291Z"
   },
   {
    "duration": 4,
    "start_time": "2022-11-25T22:21:03.621Z"
   },
   {
    "duration": 164,
    "start_time": "2022-11-25T22:21:03.627Z"
   },
   {
    "duration": 21,
    "start_time": "2022-11-25T22:21:03.793Z"
   },
   {
    "duration": 5,
    "start_time": "2022-11-25T22:21:03.816Z"
   },
   {
    "duration": 4,
    "start_time": "2022-11-25T22:21:03.823Z"
   },
   {
    "duration": 11,
    "start_time": "2022-11-25T22:21:03.829Z"
   },
   {
    "duration": 9,
    "start_time": "2022-11-25T22:21:03.841Z"
   },
   {
    "duration": 25,
    "start_time": "2022-11-25T22:21:03.851Z"
   },
   {
    "duration": 36,
    "start_time": "2022-11-25T22:21:03.878Z"
   },
   {
    "duration": 10,
    "start_time": "2022-11-25T22:21:03.916Z"
   },
   {
    "duration": 9,
    "start_time": "2022-11-25T22:21:03.927Z"
   },
   {
    "duration": 17,
    "start_time": "2022-11-25T22:21:03.938Z"
   },
   {
    "duration": 9,
    "start_time": "2022-11-25T22:21:03.957Z"
   },
   {
    "duration": 3089,
    "start_time": "2022-11-25T22:21:03.968Z"
   },
   {
    "duration": 4,
    "start_time": "2022-11-25T22:21:07.059Z"
   },
   {
    "duration": 886,
    "start_time": "2022-11-25T22:21:07.065Z"
   },
   {
    "duration": 47030,
    "start_time": "2022-11-25T22:21:07.952Z"
   },
   {
    "duration": 17,
    "start_time": "2022-11-25T22:21:54.984Z"
   },
   {
    "duration": 876,
    "start_time": "2022-11-25T22:21:55.003Z"
   },
   {
    "duration": 46686,
    "start_time": "2022-11-25T22:21:55.880Z"
   },
   {
    "duration": 94,
    "start_time": "2022-11-25T22:22:42.568Z"
   },
   {
    "duration": 0,
    "start_time": "2022-11-25T22:22:42.663Z"
   },
   {
    "duration": 1108,
    "start_time": "2022-11-25T22:23:35.788Z"
   },
   {
    "duration": 3,
    "start_time": "2022-11-25T22:23:36.899Z"
   },
   {
    "duration": 296,
    "start_time": "2022-11-25T22:23:36.904Z"
   },
   {
    "duration": 71,
    "start_time": "2022-11-25T22:23:37.203Z"
   },
   {
    "duration": 321,
    "start_time": "2022-11-25T22:23:37.275Z"
   },
   {
    "duration": 4,
    "start_time": "2022-11-25T22:23:37.598Z"
   },
   {
    "duration": 164,
    "start_time": "2022-11-25T22:23:37.603Z"
   },
   {
    "duration": 12,
    "start_time": "2022-11-25T22:23:37.769Z"
   },
   {
    "duration": 4,
    "start_time": "2022-11-25T22:23:37.782Z"
   },
   {
    "duration": 4,
    "start_time": "2022-11-25T22:23:37.789Z"
   },
   {
    "duration": 18,
    "start_time": "2022-11-25T22:23:37.795Z"
   },
   {
    "duration": 5,
    "start_time": "2022-11-25T22:23:37.815Z"
   },
   {
    "duration": 18,
    "start_time": "2022-11-25T22:23:37.822Z"
   },
   {
    "duration": 23,
    "start_time": "2022-11-25T22:23:37.841Z"
   },
   {
    "duration": 10,
    "start_time": "2022-11-25T22:23:37.865Z"
   },
   {
    "duration": 8,
    "start_time": "2022-11-25T22:23:37.876Z"
   },
   {
    "duration": 33,
    "start_time": "2022-11-25T22:23:37.886Z"
   },
   {
    "duration": 11,
    "start_time": "2022-11-25T22:23:37.921Z"
   },
   {
    "duration": 2828,
    "start_time": "2022-11-25T22:23:37.934Z"
   },
   {
    "duration": 4,
    "start_time": "2022-11-25T22:23:40.764Z"
   },
   {
    "duration": 889,
    "start_time": "2022-11-25T22:23:40.769Z"
   },
   {
    "duration": 46505,
    "start_time": "2022-11-25T22:23:41.659Z"
   },
   {
    "duration": 18,
    "start_time": "2022-11-25T22:24:28.166Z"
   },
   {
    "duration": 1712,
    "start_time": "2022-11-25T22:24:28.186Z"
   },
   {
    "duration": 1045,
    "start_time": "2022-11-25T22:25:10.631Z"
   },
   {
    "duration": 3,
    "start_time": "2022-11-25T22:25:11.677Z"
   },
   {
    "duration": 276,
    "start_time": "2022-11-25T22:25:11.681Z"
   },
   {
    "duration": 72,
    "start_time": "2022-11-25T22:25:11.959Z"
   },
   {
    "duration": 321,
    "start_time": "2022-11-25T22:25:12.032Z"
   },
   {
    "duration": 4,
    "start_time": "2022-11-25T22:25:12.354Z"
   },
   {
    "duration": 163,
    "start_time": "2022-11-25T22:25:12.360Z"
   },
   {
    "duration": 12,
    "start_time": "2022-11-25T22:25:12.525Z"
   },
   {
    "duration": 3,
    "start_time": "2022-11-25T22:25:12.539Z"
   },
   {
    "duration": 4,
    "start_time": "2022-11-25T22:25:12.545Z"
   },
   {
    "duration": 8,
    "start_time": "2022-11-25T22:25:12.551Z"
   },
   {
    "duration": 23,
    "start_time": "2022-11-25T22:25:12.560Z"
   },
   {
    "duration": 21,
    "start_time": "2022-11-25T22:25:12.584Z"
   },
   {
    "duration": 22,
    "start_time": "2022-11-25T22:25:12.606Z"
   },
   {
    "duration": 10,
    "start_time": "2022-11-25T22:25:12.629Z"
   },
   {
    "duration": 9,
    "start_time": "2022-11-25T22:25:12.641Z"
   },
   {
    "duration": 18,
    "start_time": "2022-11-25T22:25:12.651Z"
   },
   {
    "duration": 10,
    "start_time": "2022-11-25T22:25:12.670Z"
   },
   {
    "duration": 2977,
    "start_time": "2022-11-25T22:25:12.681Z"
   },
   {
    "duration": 3,
    "start_time": "2022-11-25T22:25:15.660Z"
   },
   {
    "duration": 881,
    "start_time": "2022-11-25T22:25:15.665Z"
   },
   {
    "duration": 46912,
    "start_time": "2022-11-25T22:25:16.548Z"
   },
   {
    "duration": 17,
    "start_time": "2022-11-25T22:26:03.461Z"
   },
   {
    "duration": 1756,
    "start_time": "2022-11-25T22:26:03.480Z"
   },
   {
    "duration": 95119,
    "start_time": "2022-11-25T22:26:05.238Z"
   },
   {
    "duration": 35,
    "start_time": "2022-11-25T22:27:40.359Z"
   },
   {
    "duration": 4,
    "start_time": "2022-11-25T22:27:40.395Z"
   },
   {
    "duration": 11,
    "start_time": "2022-11-25T22:27:40.412Z"
   },
   {
    "duration": 1053,
    "start_time": "2022-11-25T22:31:08.918Z"
   },
   {
    "duration": 3,
    "start_time": "2022-11-25T22:31:09.975Z"
   },
   {
    "duration": 290,
    "start_time": "2022-11-25T22:31:09.980Z"
   },
   {
    "duration": 97,
    "start_time": "2022-11-25T22:31:10.273Z"
   },
   {
    "duration": 328,
    "start_time": "2022-11-25T22:31:10.371Z"
   },
   {
    "duration": 4,
    "start_time": "2022-11-25T22:31:10.701Z"
   },
   {
    "duration": 161,
    "start_time": "2022-11-25T22:31:10.706Z"
   },
   {
    "duration": 12,
    "start_time": "2022-11-25T22:31:10.869Z"
   },
   {
    "duration": 3,
    "start_time": "2022-11-25T22:31:10.883Z"
   },
   {
    "duration": 5,
    "start_time": "2022-11-25T22:31:10.888Z"
   },
   {
    "duration": 20,
    "start_time": "2022-11-25T22:31:10.894Z"
   },
   {
    "duration": 7,
    "start_time": "2022-11-25T22:31:10.915Z"
   },
   {
    "duration": 22,
    "start_time": "2022-11-25T22:31:10.923Z"
   },
   {
    "duration": 18,
    "start_time": "2022-11-25T22:31:10.947Z"
   },
   {
    "duration": 2798,
    "start_time": "2022-11-25T22:31:10.966Z"
   },
   {
    "duration": 5,
    "start_time": "2022-11-25T22:31:13.765Z"
   },
   {
    "duration": 904,
    "start_time": "2022-11-25T22:31:13.773Z"
   },
   {
    "duration": 46905,
    "start_time": "2022-11-25T22:31:14.680Z"
   },
   {
    "duration": 26,
    "start_time": "2022-11-25T22:32:01.587Z"
   },
   {
    "duration": 1704,
    "start_time": "2022-11-25T22:32:01.614Z"
   },
   {
    "duration": 95452,
    "start_time": "2022-11-25T22:32:03.320Z"
   },
   {
    "duration": 40,
    "start_time": "2022-11-25T22:33:38.773Z"
   },
   {
    "duration": 27,
    "start_time": "2022-11-25T22:33:38.815Z"
   },
   {
    "duration": 13,
    "start_time": "2022-11-25T22:33:38.844Z"
   },
   {
    "duration": 1123,
    "start_time": "2022-11-25T22:38:29.188Z"
   },
   {
    "duration": 3,
    "start_time": "2022-11-25T22:38:30.313Z"
   },
   {
    "duration": 302,
    "start_time": "2022-11-25T22:38:30.318Z"
   },
   {
    "duration": 78,
    "start_time": "2022-11-25T22:38:30.622Z"
   },
   {
    "duration": 330,
    "start_time": "2022-11-25T22:38:30.702Z"
   },
   {
    "duration": 5,
    "start_time": "2022-11-25T22:38:31.033Z"
   },
   {
    "duration": 183,
    "start_time": "2022-11-25T22:38:31.040Z"
   },
   {
    "duration": 12,
    "start_time": "2022-11-25T22:38:31.225Z"
   },
   {
    "duration": 9,
    "start_time": "2022-11-25T22:38:31.238Z"
   },
   {
    "duration": 7,
    "start_time": "2022-11-25T22:38:31.249Z"
   },
   {
    "duration": 10,
    "start_time": "2022-11-25T22:38:31.258Z"
   },
   {
    "duration": 9,
    "start_time": "2022-11-25T22:38:31.269Z"
   },
   {
    "duration": 34,
    "start_time": "2022-11-25T22:38:31.280Z"
   },
   {
    "duration": 26,
    "start_time": "2022-11-25T22:38:31.316Z"
   },
   {
    "duration": 3018,
    "start_time": "2022-11-25T22:38:31.344Z"
   },
   {
    "duration": 4,
    "start_time": "2022-11-25T22:38:34.363Z"
   },
   {
    "duration": 955,
    "start_time": "2022-11-25T22:38:34.368Z"
   },
   {
    "duration": 46416,
    "start_time": "2022-11-25T22:38:35.325Z"
   },
   {
    "duration": 17,
    "start_time": "2022-11-25T22:39:21.743Z"
   },
   {
    "duration": 1769,
    "start_time": "2022-11-25T22:39:21.761Z"
   },
   {
    "duration": 95066,
    "start_time": "2022-11-25T22:39:23.532Z"
   },
   {
    "duration": 39,
    "start_time": "2022-11-25T22:40:58.600Z"
   },
   {
    "duration": 30,
    "start_time": "2022-11-25T22:40:58.640Z"
   },
   {
    "duration": 16,
    "start_time": "2022-11-25T22:40:58.672Z"
   },
   {
    "duration": 89,
    "start_time": "2022-11-25T22:41:57.276Z"
   },
   {
    "duration": 1419,
    "start_time": "2022-11-25T22:42:01.825Z"
   },
   {
    "duration": 2,
    "start_time": "2022-11-25T22:42:03.246Z"
   },
   {
    "duration": 280,
    "start_time": "2022-11-25T22:42:03.249Z"
   },
   {
    "duration": 71,
    "start_time": "2022-11-25T22:42:03.531Z"
   },
   {
    "duration": 317,
    "start_time": "2022-11-25T22:42:03.604Z"
   },
   {
    "duration": 4,
    "start_time": "2022-11-25T22:42:03.922Z"
   },
   {
    "duration": 184,
    "start_time": "2022-11-25T22:42:03.928Z"
   },
   {
    "duration": 10,
    "start_time": "2022-11-25T22:42:04.113Z"
   },
   {
    "duration": 5,
    "start_time": "2022-11-25T22:42:04.124Z"
   },
   {
    "duration": 15,
    "start_time": "2022-11-25T22:42:04.131Z"
   },
   {
    "duration": 7,
    "start_time": "2022-11-25T22:42:04.147Z"
   },
   {
    "duration": 7,
    "start_time": "2022-11-25T22:42:04.155Z"
   },
   {
    "duration": 21,
    "start_time": "2022-11-25T22:42:04.163Z"
   },
   {
    "duration": 28,
    "start_time": "2022-11-25T22:42:04.185Z"
   },
   {
    "duration": 2846,
    "start_time": "2022-11-25T22:42:04.214Z"
   },
   {
    "duration": 196,
    "start_time": "2022-11-25T22:42:07.062Z"
   },
   {
    "duration": 4,
    "start_time": "2022-11-25T22:42:07.260Z"
   },
   {
    "duration": 954,
    "start_time": "2022-11-25T22:42:07.266Z"
   },
   {
    "duration": 1332,
    "start_time": "2022-11-25T22:42:40.788Z"
   },
   {
    "duration": 3,
    "start_time": "2022-11-25T22:42:42.122Z"
   },
   {
    "duration": 286,
    "start_time": "2022-11-25T22:42:42.127Z"
   },
   {
    "duration": 71,
    "start_time": "2022-11-25T22:42:42.416Z"
   },
   {
    "duration": 326,
    "start_time": "2022-11-25T22:42:42.489Z"
   },
   {
    "duration": 4,
    "start_time": "2022-11-25T22:42:42.817Z"
   },
   {
    "duration": 167,
    "start_time": "2022-11-25T22:42:42.822Z"
   },
   {
    "duration": 10,
    "start_time": "2022-11-25T22:42:42.990Z"
   },
   {
    "duration": 14,
    "start_time": "2022-11-25T22:42:43.001Z"
   },
   {
    "duration": 13,
    "start_time": "2022-11-25T22:42:43.017Z"
   },
   {
    "duration": 9,
    "start_time": "2022-11-25T22:42:43.032Z"
   },
   {
    "duration": 7,
    "start_time": "2022-11-25T22:42:43.042Z"
   },
   {
    "duration": 22,
    "start_time": "2022-11-25T22:42:43.051Z"
   },
   {
    "duration": 17,
    "start_time": "2022-11-25T22:42:43.074Z"
   },
   {
    "duration": 2876,
    "start_time": "2022-11-25T22:42:43.092Z"
   },
   {
    "duration": 234,
    "start_time": "2022-11-25T22:42:45.969Z"
   },
   {
    "duration": 8,
    "start_time": "2022-11-25T22:42:46.205Z"
   },
   {
    "duration": 953,
    "start_time": "2022-11-25T22:42:46.214Z"
   },
   {
    "duration": 1314,
    "start_time": "2022-11-25T22:43:00.685Z"
   },
   {
    "duration": 2,
    "start_time": "2022-11-25T22:43:02.003Z"
   },
   {
    "duration": 283,
    "start_time": "2022-11-25T22:43:02.006Z"
   },
   {
    "duration": 84,
    "start_time": "2022-11-25T22:43:02.291Z"
   },
   {
    "duration": 334,
    "start_time": "2022-11-25T22:43:02.377Z"
   },
   {
    "duration": 5,
    "start_time": "2022-11-25T22:43:02.713Z"
   },
   {
    "duration": 163,
    "start_time": "2022-11-25T22:43:02.719Z"
   },
   {
    "duration": 9,
    "start_time": "2022-11-25T22:43:02.884Z"
   },
   {
    "duration": 4,
    "start_time": "2022-11-25T22:43:02.895Z"
   },
   {
    "duration": 3,
    "start_time": "2022-11-25T22:43:02.913Z"
   },
   {
    "duration": 15,
    "start_time": "2022-11-25T22:43:02.918Z"
   },
   {
    "duration": 11,
    "start_time": "2022-11-25T22:43:02.936Z"
   },
   {
    "duration": 27,
    "start_time": "2022-11-25T22:43:02.948Z"
   },
   {
    "duration": 23,
    "start_time": "2022-11-25T22:43:02.977Z"
   },
   {
    "duration": 2856,
    "start_time": "2022-11-25T22:43:03.002Z"
   },
   {
    "duration": 198,
    "start_time": "2022-11-25T22:43:05.860Z"
   },
   {
    "duration": 5,
    "start_time": "2022-11-25T22:43:06.059Z"
   },
   {
    "duration": 926,
    "start_time": "2022-11-25T22:43:06.065Z"
   },
   {
    "duration": 46402,
    "start_time": "2022-11-25T22:43:06.992Z"
   },
   {
    "duration": 28,
    "start_time": "2022-11-25T22:43:53.396Z"
   },
   {
    "duration": 1768,
    "start_time": "2022-11-25T22:43:53.426Z"
   },
   {
    "duration": 94667,
    "start_time": "2022-11-25T22:43:55.195Z"
   },
   {
    "duration": 33,
    "start_time": "2022-11-25T22:45:29.864Z"
   },
   {
    "duration": 36,
    "start_time": "2022-11-25T22:45:29.898Z"
   },
   {
    "duration": 25,
    "start_time": "2022-11-25T22:45:29.936Z"
   },
   {
    "duration": 1311,
    "start_time": "2022-11-25T22:53:01.694Z"
   },
   {
    "duration": 2,
    "start_time": "2022-11-25T22:53:03.007Z"
   },
   {
    "duration": 292,
    "start_time": "2022-11-25T22:53:03.011Z"
   },
   {
    "duration": 72,
    "start_time": "2022-11-25T22:53:03.304Z"
   },
   {
    "duration": 325,
    "start_time": "2022-11-25T22:53:03.378Z"
   },
   {
    "duration": 4,
    "start_time": "2022-11-25T22:53:03.705Z"
   },
   {
    "duration": 166,
    "start_time": "2022-11-25T22:53:03.710Z"
   },
   {
    "duration": 11,
    "start_time": "2022-11-25T22:53:03.877Z"
   },
   {
    "duration": 4,
    "start_time": "2022-11-25T22:53:03.890Z"
   },
   {
    "duration": 19,
    "start_time": "2022-11-25T22:53:03.896Z"
   },
   {
    "duration": 9,
    "start_time": "2022-11-25T22:53:03.916Z"
   },
   {
    "duration": 5,
    "start_time": "2022-11-25T22:53:03.927Z"
   },
   {
    "duration": 20,
    "start_time": "2022-11-25T22:53:03.934Z"
   },
   {
    "duration": 18,
    "start_time": "2022-11-25T22:53:03.956Z"
   },
   {
    "duration": 3191,
    "start_time": "2022-11-25T22:53:03.975Z"
   },
   {
    "duration": 10,
    "start_time": "2022-11-25T22:53:07.168Z"
   },
   {
    "duration": 212,
    "start_time": "2022-11-25T22:53:07.180Z"
   },
   {
    "duration": 4,
    "start_time": "2022-11-25T22:53:07.394Z"
   },
   {
    "duration": 947,
    "start_time": "2022-11-25T22:53:07.400Z"
   },
   {
    "duration": 37892,
    "start_time": "2022-11-25T22:53:08.349Z"
   },
   {
    "duration": 18,
    "start_time": "2022-11-25T22:53:46.242Z"
   },
   {
    "duration": 1771,
    "start_time": "2022-11-25T22:53:46.261Z"
   },
   {
    "duration": 95408,
    "start_time": "2022-11-25T22:53:48.034Z"
   },
   {
    "duration": 36,
    "start_time": "2022-11-25T22:55:23.443Z"
   },
   {
    "duration": 44,
    "start_time": "2022-11-25T22:55:23.481Z"
   },
   {
    "duration": 16,
    "start_time": "2022-11-25T22:55:23.527Z"
   },
   {
    "duration": 1294,
    "start_time": "2022-11-25T22:58:11.348Z"
   },
   {
    "duration": 3,
    "start_time": "2022-11-25T22:58:12.643Z"
   },
   {
    "duration": 287,
    "start_time": "2022-11-25T22:58:12.647Z"
   },
   {
    "duration": 72,
    "start_time": "2022-11-25T22:58:12.936Z"
   },
   {
    "duration": 324,
    "start_time": "2022-11-25T22:58:13.010Z"
   },
   {
    "duration": 4,
    "start_time": "2022-11-25T22:58:13.335Z"
   },
   {
    "duration": 169,
    "start_time": "2022-11-25T22:58:13.341Z"
   },
   {
    "duration": 10,
    "start_time": "2022-11-25T22:58:13.513Z"
   },
   {
    "duration": 5,
    "start_time": "2022-11-25T22:58:13.524Z"
   },
   {
    "duration": 5,
    "start_time": "2022-11-25T22:58:13.532Z"
   },
   {
    "duration": 5,
    "start_time": "2022-11-25T22:58:13.538Z"
   },
   {
    "duration": 4,
    "start_time": "2022-11-25T22:58:13.545Z"
   },
   {
    "duration": 19,
    "start_time": "2022-11-25T22:58:13.551Z"
   },
   {
    "duration": 54,
    "start_time": "2022-11-25T22:58:13.571Z"
   },
   {
    "duration": 3254,
    "start_time": "2022-11-25T22:58:13.627Z"
   },
   {
    "duration": 15,
    "start_time": "2022-11-25T22:58:16.883Z"
   },
   {
    "duration": 78,
    "start_time": "2022-11-25T22:58:16.900Z"
   },
   {
    "duration": 0,
    "start_time": "2022-11-25T22:58:16.980Z"
   },
   {
    "duration": 0,
    "start_time": "2022-11-25T22:58:16.982Z"
   },
   {
    "duration": 0,
    "start_time": "2022-11-25T22:58:16.983Z"
   },
   {
    "duration": 0,
    "start_time": "2022-11-25T22:58:16.984Z"
   },
   {
    "duration": 0,
    "start_time": "2022-11-25T22:58:16.986Z"
   },
   {
    "duration": 0,
    "start_time": "2022-11-25T22:58:16.987Z"
   },
   {
    "duration": 0,
    "start_time": "2022-11-25T22:58:16.988Z"
   },
   {
    "duration": 0,
    "start_time": "2022-11-25T22:58:16.989Z"
   },
   {
    "duration": 0,
    "start_time": "2022-11-25T22:58:16.990Z"
   },
   {
    "duration": 404,
    "start_time": "2022-11-25T22:58:35.495Z"
   },
   {
    "duration": 343,
    "start_time": "2022-11-25T22:59:18.809Z"
   },
   {
    "duration": 394,
    "start_time": "2022-11-25T22:59:31.651Z"
   },
   {
    "duration": 17,
    "start_time": "2022-11-25T23:01:42.212Z"
   },
   {
    "duration": 326,
    "start_time": "2022-11-25T23:02:05.397Z"
   },
   {
    "duration": 579,
    "start_time": "2022-11-25T23:03:57.849Z"
   },
   {
    "duration": 538,
    "start_time": "2022-11-25T23:04:24.016Z"
   },
   {
    "duration": 580,
    "start_time": "2022-11-25T23:04:26.880Z"
   },
   {
    "duration": 993,
    "start_time": "2022-11-25T23:05:03.160Z"
   },
   {
    "duration": 539,
    "start_time": "2022-11-25T23:05:39.394Z"
   },
   {
    "duration": 600,
    "start_time": "2022-11-25T23:06:11.520Z"
   },
   {
    "duration": 780,
    "start_time": "2022-11-25T23:06:40.635Z"
   },
   {
    "duration": 735,
    "start_time": "2022-11-25T23:06:58.705Z"
   },
   {
    "duration": 968,
    "start_time": "2022-11-25T23:07:20.170Z"
   },
   {
    "duration": 1304,
    "start_time": "2022-11-25T23:07:48.843Z"
   },
   {
    "duration": 1341,
    "start_time": "2022-11-25T23:08:33.984Z"
   },
   {
    "duration": 1362,
    "start_time": "2022-11-25T23:09:45.741Z"
   },
   {
    "duration": 1281,
    "start_time": "2022-11-25T23:09:55.822Z"
   },
   {
    "duration": 2289,
    "start_time": "2022-11-25T23:12:48.821Z"
   },
   {
    "duration": 3093,
    "start_time": "2022-11-25T23:12:56.913Z"
   },
   {
    "duration": 3453,
    "start_time": "2022-11-25T23:13:51.599Z"
   },
   {
    "duration": 3864,
    "start_time": "2022-11-25T23:14:31.418Z"
   },
   {
    "duration": 3644,
    "start_time": "2022-11-25T23:14:40.907Z"
   },
   {
    "duration": 3659,
    "start_time": "2022-11-25T23:18:05.189Z"
   },
   {
    "duration": 1297,
    "start_time": "2022-11-25T23:18:15.069Z"
   },
   {
    "duration": 3,
    "start_time": "2022-11-25T23:18:16.368Z"
   },
   {
    "duration": 291,
    "start_time": "2022-11-25T23:18:16.372Z"
   },
   {
    "duration": 73,
    "start_time": "2022-11-25T23:18:16.665Z"
   },
   {
    "duration": 332,
    "start_time": "2022-11-25T23:18:16.739Z"
   },
   {
    "duration": 5,
    "start_time": "2022-11-25T23:18:17.072Z"
   },
   {
    "duration": 193,
    "start_time": "2022-11-25T23:18:17.078Z"
   },
   {
    "duration": 9,
    "start_time": "2022-11-25T23:18:17.273Z"
   },
   {
    "duration": 18,
    "start_time": "2022-11-25T23:18:17.283Z"
   },
   {
    "duration": 23,
    "start_time": "2022-11-25T23:18:17.303Z"
   },
   {
    "duration": 20,
    "start_time": "2022-11-25T23:18:17.327Z"
   },
   {
    "duration": 15,
    "start_time": "2022-11-25T23:18:17.348Z"
   },
   {
    "duration": 36,
    "start_time": "2022-11-25T23:18:17.364Z"
   },
   {
    "duration": 39,
    "start_time": "2022-11-25T23:18:17.401Z"
   },
   {
    "duration": 3209,
    "start_time": "2022-11-25T23:18:17.442Z"
   },
   {
    "duration": 11,
    "start_time": "2022-11-25T23:18:20.652Z"
   },
   {
    "duration": 4048,
    "start_time": "2022-11-25T23:18:20.665Z"
   },
   {
    "duration": 5,
    "start_time": "2022-11-25T23:18:24.714Z"
   },
   {
    "duration": 969,
    "start_time": "2022-11-25T23:18:24.720Z"
   },
   {
    "duration": 7738,
    "start_time": "2022-11-25T23:18:25.691Z"
   },
   {
    "duration": 19,
    "start_time": "2022-11-25T23:18:33.431Z"
   },
   {
    "duration": 1800,
    "start_time": "2022-11-25T23:18:33.451Z"
   },
   {
    "duration": 1344,
    "start_time": "2022-11-25T23:19:26.105Z"
   },
   {
    "duration": 3,
    "start_time": "2022-11-25T23:19:27.451Z"
   },
   {
    "duration": 286,
    "start_time": "2022-11-25T23:19:27.455Z"
   },
   {
    "duration": 71,
    "start_time": "2022-11-25T23:19:27.743Z"
   },
   {
    "duration": 318,
    "start_time": "2022-11-25T23:19:27.816Z"
   },
   {
    "duration": 4,
    "start_time": "2022-11-25T23:19:28.136Z"
   },
   {
    "duration": 159,
    "start_time": "2022-11-25T23:19:28.141Z"
   },
   {
    "duration": 14,
    "start_time": "2022-11-25T23:19:28.302Z"
   },
   {
    "duration": 5,
    "start_time": "2022-11-25T23:19:28.317Z"
   },
   {
    "duration": 18,
    "start_time": "2022-11-25T23:19:28.325Z"
   },
   {
    "duration": 5,
    "start_time": "2022-11-25T23:19:28.344Z"
   },
   {
    "duration": 17,
    "start_time": "2022-11-25T23:19:28.350Z"
   },
   {
    "duration": 32,
    "start_time": "2022-11-25T23:19:28.368Z"
   },
   {
    "duration": 19,
    "start_time": "2022-11-25T23:19:28.401Z"
   },
   {
    "duration": 3137,
    "start_time": "2022-11-25T23:19:28.421Z"
   },
   {
    "duration": 12,
    "start_time": "2022-11-25T23:19:31.560Z"
   },
   {
    "duration": 4064,
    "start_time": "2022-11-25T23:19:31.573Z"
   },
   {
    "duration": 4,
    "start_time": "2022-11-25T23:19:35.639Z"
   },
   {
    "duration": 927,
    "start_time": "2022-11-25T23:19:35.644Z"
   },
   {
    "duration": 6858,
    "start_time": "2022-11-25T23:19:36.572Z"
   },
   {
    "duration": 18,
    "start_time": "2022-11-25T23:19:43.432Z"
   },
   {
    "duration": 1899,
    "start_time": "2022-11-25T23:19:43.451Z"
   },
   {
    "duration": 94945,
    "start_time": "2022-11-25T23:19:45.351Z"
   },
   {
    "duration": 42,
    "start_time": "2022-11-25T23:21:20.298Z"
   },
   {
    "duration": 30,
    "start_time": "2022-11-25T23:21:20.342Z"
   },
   {
    "duration": 15,
    "start_time": "2022-11-25T23:21:20.374Z"
   },
   {
    "duration": 403,
    "start_time": "2022-11-25T23:21:37.074Z"
   },
   {
    "duration": 1286,
    "start_time": "2022-11-25T23:22:07.042Z"
   },
   {
    "duration": 2,
    "start_time": "2022-11-25T23:22:08.330Z"
   },
   {
    "duration": 275,
    "start_time": "2022-11-25T23:22:08.333Z"
   },
   {
    "duration": 72,
    "start_time": "2022-11-25T23:22:08.610Z"
   },
   {
    "duration": 324,
    "start_time": "2022-11-25T23:22:08.684Z"
   },
   {
    "duration": 4,
    "start_time": "2022-11-25T23:22:09.010Z"
   },
   {
    "duration": 163,
    "start_time": "2022-11-25T23:22:09.015Z"
   },
   {
    "duration": 9,
    "start_time": "2022-11-25T23:22:09.180Z"
   },
   {
    "duration": 3,
    "start_time": "2022-11-25T23:22:09.191Z"
   },
   {
    "duration": 3,
    "start_time": "2022-11-25T23:22:09.212Z"
   },
   {
    "duration": 7,
    "start_time": "2022-11-25T23:22:09.216Z"
   },
   {
    "duration": 5,
    "start_time": "2022-11-25T23:22:09.224Z"
   },
   {
    "duration": 18,
    "start_time": "2022-11-25T23:22:09.230Z"
   },
   {
    "duration": 16,
    "start_time": "2022-11-25T23:22:09.250Z"
   },
   {
    "duration": 2996,
    "start_time": "2022-11-25T23:22:09.268Z"
   },
   {
    "duration": 11,
    "start_time": "2022-11-25T23:22:12.266Z"
   },
   {
    "duration": 3382,
    "start_time": "2022-11-25T23:22:12.279Z"
   },
   {
    "duration": 426,
    "start_time": "2022-11-25T23:22:15.663Z"
   },
   {
    "duration": 3,
    "start_time": "2022-11-25T23:22:16.091Z"
   },
   {
    "duration": 925,
    "start_time": "2022-11-25T23:22:16.096Z"
   },
   {
    "duration": 46340,
    "start_time": "2022-11-25T23:22:17.023Z"
   },
   {
    "duration": 18,
    "start_time": "2022-11-25T23:23:03.364Z"
   },
   {
    "duration": 1766,
    "start_time": "2022-11-25T23:23:03.383Z"
   },
   {
    "duration": 94440,
    "start_time": "2022-11-25T23:23:05.150Z"
   },
   {
    "duration": 51,
    "start_time": "2022-11-25T23:24:39.592Z"
   },
   {
    "duration": 31,
    "start_time": "2022-11-25T23:24:39.645Z"
   },
   {
    "duration": 16,
    "start_time": "2022-11-25T23:24:39.677Z"
   },
   {
    "duration": 2,
    "start_time": "2022-11-25T23:30:12.724Z"
   },
   {
    "duration": 49,
    "start_time": "2022-11-26T18:07:16.554Z"
   },
   {
    "duration": 1546,
    "start_time": "2022-11-26T18:07:21.404Z"
   },
   {
    "duration": 2,
    "start_time": "2022-11-26T18:07:22.952Z"
   },
   {
    "duration": 893,
    "start_time": "2022-11-26T18:07:22.956Z"
   },
   {
    "duration": 16,
    "start_time": "2022-11-26T18:07:23.851Z"
   },
   {
    "duration": 456,
    "start_time": "2022-11-26T18:07:23.869Z"
   },
   {
    "duration": 14,
    "start_time": "2022-11-26T18:07:24.327Z"
   },
   {
    "duration": 2034,
    "start_time": "2022-11-26T18:07:24.342Z"
   },
   {
    "duration": 19,
    "start_time": "2022-11-26T18:07:26.378Z"
   },
   {
    "duration": 9,
    "start_time": "2022-11-26T18:07:26.399Z"
   },
   {
    "duration": 187,
    "start_time": "2022-11-26T18:07:26.410Z"
   },
   {
    "duration": 8,
    "start_time": "2022-11-26T18:07:26.599Z"
   },
   {
    "duration": 6,
    "start_time": "2022-11-26T18:07:26.609Z"
   },
   {
    "duration": 8,
    "start_time": "2022-11-26T18:07:26.616Z"
   },
   {
    "duration": 6,
    "start_time": "2022-11-26T18:07:26.625Z"
   },
   {
    "duration": 7,
    "start_time": "2022-11-26T18:07:26.633Z"
   },
   {
    "duration": 21,
    "start_time": "2022-11-26T18:07:26.641Z"
   },
   {
    "duration": 43,
    "start_time": "2022-11-26T18:07:26.664Z"
   },
   {
    "duration": 17,
    "start_time": "2022-11-26T18:07:26.709Z"
   },
   {
    "duration": 12,
    "start_time": "2022-11-26T18:07:26.727Z"
   },
   {
    "duration": 3666,
    "start_time": "2022-11-26T18:07:26.740Z"
   },
   {
    "duration": 391,
    "start_time": "2022-11-26T18:07:30.408Z"
   },
   {
    "duration": 3,
    "start_time": "2022-11-26T18:07:30.800Z"
   },
   {
    "duration": 15,
    "start_time": "2022-11-26T18:07:30.805Z"
   },
   {
    "duration": 301,
    "start_time": "2022-11-26T18:07:30.822Z"
   },
   {
    "duration": 185,
    "start_time": "2022-11-26T18:07:31.124Z"
   },
   {
    "duration": 17,
    "start_time": "2022-11-26T18:07:31.311Z"
   },
   {
    "duration": 0,
    "start_time": "2022-11-26T18:07:31.329Z"
   },
   {
    "duration": 0,
    "start_time": "2022-11-26T18:07:31.331Z"
   },
   {
    "duration": 1,
    "start_time": "2022-11-26T18:07:31.331Z"
   },
   {
    "duration": 0,
    "start_time": "2022-11-26T18:07:31.333Z"
   },
   {
    "duration": 0,
    "start_time": "2022-11-26T18:07:31.334Z"
   },
   {
    "duration": 1339,
    "start_time": "2022-11-26T18:12:36.215Z"
   },
   {
    "duration": 2,
    "start_time": "2022-11-26T18:12:37.557Z"
   },
   {
    "duration": 328,
    "start_time": "2022-11-26T18:12:37.563Z"
   },
   {
    "duration": 17,
    "start_time": "2022-11-26T18:12:37.893Z"
   },
   {
    "duration": 119,
    "start_time": "2022-11-26T18:12:37.913Z"
   },
   {
    "duration": 14,
    "start_time": "2022-11-26T18:12:38.033Z"
   },
   {
    "duration": 395,
    "start_time": "2022-11-26T18:12:38.049Z"
   },
   {
    "duration": 15,
    "start_time": "2022-11-26T18:12:38.446Z"
   },
   {
    "duration": 17,
    "start_time": "2022-11-26T18:12:38.463Z"
   },
   {
    "duration": 203,
    "start_time": "2022-11-26T18:12:38.481Z"
   },
   {
    "duration": 11,
    "start_time": "2022-11-26T18:12:38.686Z"
   },
   {
    "duration": 28,
    "start_time": "2022-11-26T18:12:38.699Z"
   },
   {
    "duration": 26,
    "start_time": "2022-11-26T18:12:38.729Z"
   },
   {
    "duration": 18,
    "start_time": "2022-11-26T18:12:38.757Z"
   },
   {
    "duration": 22,
    "start_time": "2022-11-26T18:12:38.777Z"
   },
   {
    "duration": 53,
    "start_time": "2022-11-26T18:12:38.801Z"
   },
   {
    "duration": 35,
    "start_time": "2022-11-26T18:12:38.856Z"
   },
   {
    "duration": 61,
    "start_time": "2022-11-26T18:12:38.893Z"
   },
   {
    "duration": 13,
    "start_time": "2022-11-26T18:12:38.955Z"
   },
   {
    "duration": 3857,
    "start_time": "2022-11-26T18:12:38.969Z"
   },
   {
    "duration": 356,
    "start_time": "2022-11-26T18:12:42.827Z"
   },
   {
    "duration": 3,
    "start_time": "2022-11-26T18:12:43.185Z"
   },
   {
    "duration": 8,
    "start_time": "2022-11-26T18:12:43.189Z"
   },
   {
    "duration": 289,
    "start_time": "2022-11-26T18:12:43.199Z"
   },
   {
    "duration": 182,
    "start_time": "2022-11-26T18:12:43.490Z"
   },
   {
    "duration": 17,
    "start_time": "2022-11-26T18:12:43.674Z"
   },
   {
    "duration": 0,
    "start_time": "2022-11-26T18:12:43.693Z"
   },
   {
    "duration": 0,
    "start_time": "2022-11-26T18:12:43.695Z"
   },
   {
    "duration": 0,
    "start_time": "2022-11-26T18:12:43.696Z"
   },
   {
    "duration": 0,
    "start_time": "2022-11-26T18:12:43.698Z"
   },
   {
    "duration": 0,
    "start_time": "2022-11-26T18:12:43.699Z"
   },
   {
    "duration": 1458,
    "start_time": "2022-11-26T18:13:32.652Z"
   },
   {
    "duration": 2,
    "start_time": "2022-11-26T18:13:34.112Z"
   },
   {
    "duration": 346,
    "start_time": "2022-11-26T18:13:34.116Z"
   },
   {
    "duration": 16,
    "start_time": "2022-11-26T18:13:34.465Z"
   },
   {
    "duration": 116,
    "start_time": "2022-11-26T18:13:34.482Z"
   },
   {
    "duration": 13,
    "start_time": "2022-11-26T18:13:34.600Z"
   },
   {
    "duration": 388,
    "start_time": "2022-11-26T18:13:34.615Z"
   },
   {
    "duration": 15,
    "start_time": "2022-11-26T18:13:35.005Z"
   },
   {
    "duration": 79,
    "start_time": "2022-11-26T18:13:35.021Z"
   },
   {
    "duration": 188,
    "start_time": "2022-11-26T18:13:35.103Z"
   },
   {
    "duration": 8,
    "start_time": "2022-11-26T18:13:35.296Z"
   },
   {
    "duration": 14,
    "start_time": "2022-11-26T18:13:35.305Z"
   },
   {
    "duration": 7,
    "start_time": "2022-11-26T18:13:35.320Z"
   },
   {
    "duration": 10,
    "start_time": "2022-11-26T18:13:35.329Z"
   },
   {
    "duration": 5,
    "start_time": "2022-11-26T18:13:35.341Z"
   },
   {
    "duration": 20,
    "start_time": "2022-11-26T18:13:35.347Z"
   },
   {
    "duration": 38,
    "start_time": "2022-11-26T18:13:35.369Z"
   },
   {
    "duration": 4,
    "start_time": "2022-11-26T18:13:35.408Z"
   },
   {
    "duration": 14,
    "start_time": "2022-11-26T18:13:35.413Z"
   },
   {
    "duration": 3753,
    "start_time": "2022-11-26T18:13:35.429Z"
   },
   {
    "duration": 449,
    "start_time": "2022-11-26T18:13:39.183Z"
   },
   {
    "duration": 3,
    "start_time": "2022-11-26T18:13:39.633Z"
   },
   {
    "duration": 42,
    "start_time": "2022-11-26T18:13:39.637Z"
   },
   {
    "duration": 316,
    "start_time": "2022-11-26T18:13:39.681Z"
   },
   {
    "duration": 206,
    "start_time": "2022-11-26T18:13:39.999Z"
   },
   {
    "duration": 19,
    "start_time": "2022-11-26T18:13:40.207Z"
   },
   {
    "duration": 0,
    "start_time": "2022-11-26T18:13:40.228Z"
   },
   {
    "duration": 0,
    "start_time": "2022-11-26T18:13:40.229Z"
   },
   {
    "duration": 0,
    "start_time": "2022-11-26T18:13:40.230Z"
   },
   {
    "duration": 0,
    "start_time": "2022-11-26T18:13:40.232Z"
   },
   {
    "duration": 1,
    "start_time": "2022-11-26T18:13:40.233Z"
   },
   {
    "duration": 26,
    "start_time": "2022-11-26T18:14:10.697Z"
   },
   {
    "duration": 1384,
    "start_time": "2022-11-26T18:14:49.799Z"
   },
   {
    "duration": 2,
    "start_time": "2022-11-26T18:14:51.185Z"
   },
   {
    "duration": 328,
    "start_time": "2022-11-26T18:14:51.189Z"
   },
   {
    "duration": 21,
    "start_time": "2022-11-26T18:14:51.521Z"
   },
   {
    "duration": 113,
    "start_time": "2022-11-26T18:14:51.543Z"
   },
   {
    "duration": 13,
    "start_time": "2022-11-26T18:14:51.657Z"
   },
   {
    "duration": 396,
    "start_time": "2022-11-26T18:14:51.672Z"
   },
   {
    "duration": 17,
    "start_time": "2022-11-26T18:14:52.069Z"
   },
   {
    "duration": 4,
    "start_time": "2022-11-26T18:14:52.096Z"
   },
   {
    "duration": 181,
    "start_time": "2022-11-26T18:14:52.103Z"
   },
   {
    "duration": 16,
    "start_time": "2022-11-26T18:14:52.285Z"
   },
   {
    "duration": 5,
    "start_time": "2022-11-26T18:14:52.303Z"
   },
   {
    "duration": 7,
    "start_time": "2022-11-26T18:14:52.309Z"
   },
   {
    "duration": 14,
    "start_time": "2022-11-26T18:14:52.317Z"
   },
   {
    "duration": 7,
    "start_time": "2022-11-26T18:14:52.333Z"
   },
   {
    "duration": 21,
    "start_time": "2022-11-26T18:14:52.342Z"
   },
   {
    "duration": 36,
    "start_time": "2022-11-26T18:14:52.364Z"
   },
   {
    "duration": 9,
    "start_time": "2022-11-26T18:14:52.402Z"
   },
   {
    "duration": 14,
    "start_time": "2022-11-26T18:14:52.412Z"
   },
   {
    "duration": 3780,
    "start_time": "2022-11-26T18:14:52.427Z"
   },
   {
    "duration": 383,
    "start_time": "2022-11-26T18:14:56.209Z"
   },
   {
    "duration": 3,
    "start_time": "2022-11-26T18:14:56.595Z"
   },
   {
    "duration": 8,
    "start_time": "2022-11-26T18:14:56.599Z"
   },
   {
    "duration": 1000,
    "start_time": "2022-11-26T18:14:56.609Z"
   },
   {
    "duration": 51132,
    "start_time": "2022-11-26T18:14:57.611Z"
   },
   {
    "duration": 18,
    "start_time": "2022-11-26T18:15:48.745Z"
   },
   {
    "duration": 1922,
    "start_time": "2022-11-26T18:15:48.765Z"
   },
   {
    "duration": 104223,
    "start_time": "2022-11-26T18:15:50.690Z"
   },
   {
    "duration": 37,
    "start_time": "2022-11-26T18:17:34.914Z"
   },
   {
    "duration": 45,
    "start_time": "2022-11-26T18:17:34.952Z"
   },
   {
    "duration": 18,
    "start_time": "2022-11-26T18:17:34.999Z"
   },
   {
    "duration": 1428,
    "start_time": "2022-11-26T18:18:51.598Z"
   },
   {
    "duration": 3,
    "start_time": "2022-11-26T18:18:53.028Z"
   },
   {
    "duration": 330,
    "start_time": "2022-11-26T18:18:53.035Z"
   },
   {
    "duration": 16,
    "start_time": "2022-11-26T18:18:53.367Z"
   },
   {
    "duration": 106,
    "start_time": "2022-11-26T18:18:53.396Z"
   },
   {
    "duration": 13,
    "start_time": "2022-11-26T18:18:53.503Z"
   },
   {
    "duration": 362,
    "start_time": "2022-11-26T18:18:53.518Z"
   },
   {
    "duration": 25,
    "start_time": "2022-11-26T18:18:53.883Z"
   },
   {
    "duration": 30,
    "start_time": "2022-11-26T18:18:53.911Z"
   },
   {
    "duration": 176,
    "start_time": "2022-11-26T18:18:53.943Z"
   },
   {
    "duration": 8,
    "start_time": "2022-11-26T18:18:54.121Z"
   },
   {
    "duration": 11,
    "start_time": "2022-11-26T18:18:54.131Z"
   },
   {
    "duration": 15,
    "start_time": "2022-11-26T18:18:54.143Z"
   },
   {
    "duration": 8,
    "start_time": "2022-11-26T18:18:54.159Z"
   },
   {
    "duration": 31,
    "start_time": "2022-11-26T18:18:54.168Z"
   },
   {
    "duration": 20,
    "start_time": "2022-11-26T18:18:54.200Z"
   },
   {
    "duration": 21,
    "start_time": "2022-11-26T18:18:54.222Z"
   },
   {
    "duration": 21,
    "start_time": "2022-11-26T18:18:54.244Z"
   },
   {
    "duration": 18,
    "start_time": "2022-11-26T18:18:54.266Z"
   },
   {
    "duration": 3809,
    "start_time": "2022-11-26T18:18:54.285Z"
   },
   {
    "duration": 378,
    "start_time": "2022-11-26T18:18:58.095Z"
   },
   {
    "duration": 2,
    "start_time": "2022-11-26T18:18:58.475Z"
   },
   {
    "duration": 9,
    "start_time": "2022-11-26T18:18:58.479Z"
   },
   {
    "duration": 1067,
    "start_time": "2022-11-26T18:18:58.489Z"
   },
   {
    "duration": 53909,
    "start_time": "2022-11-26T18:18:59.558Z"
   },
   {
    "duration": 34,
    "start_time": "2022-11-26T18:19:53.469Z"
   },
   {
    "duration": 2097,
    "start_time": "2022-11-26T18:19:53.507Z"
   },
   {
    "duration": 111237,
    "start_time": "2022-11-26T18:19:55.606Z"
   },
   {
    "duration": 36,
    "start_time": "2022-11-26T18:21:46.844Z"
   },
   {
    "duration": 42,
    "start_time": "2022-11-26T18:21:46.882Z"
   },
   {
    "duration": 17,
    "start_time": "2022-11-26T18:21:46.925Z"
   },
   {
    "duration": 13,
    "start_time": "2022-11-26T18:21:46.944Z"
   },
   {
    "duration": 1397,
    "start_time": "2022-11-26T18:35:36.367Z"
   },
   {
    "duration": 4,
    "start_time": "2022-11-26T18:35:37.766Z"
   },
   {
    "duration": 358,
    "start_time": "2022-11-26T18:35:37.772Z"
   },
   {
    "duration": 15,
    "start_time": "2022-11-26T18:35:38.132Z"
   },
   {
    "duration": 113,
    "start_time": "2022-11-26T18:35:38.149Z"
   },
   {
    "duration": 13,
    "start_time": "2022-11-26T18:35:38.263Z"
   },
   {
    "duration": 395,
    "start_time": "2022-11-26T18:35:38.277Z"
   },
   {
    "duration": 23,
    "start_time": "2022-11-26T18:35:38.674Z"
   },
   {
    "duration": 4,
    "start_time": "2022-11-26T18:35:38.699Z"
   },
   {
    "duration": 192,
    "start_time": "2022-11-26T18:35:38.706Z"
   },
   {
    "duration": 9,
    "start_time": "2022-11-26T18:35:38.900Z"
   },
   {
    "duration": 8,
    "start_time": "2022-11-26T18:35:38.910Z"
   },
   {
    "duration": 13,
    "start_time": "2022-11-26T18:35:38.919Z"
   },
   {
    "duration": 6,
    "start_time": "2022-11-26T18:35:38.933Z"
   },
   {
    "duration": 7,
    "start_time": "2022-11-26T18:35:38.940Z"
   },
   {
    "duration": 19,
    "start_time": "2022-11-26T18:35:38.948Z"
   },
   {
    "duration": 39,
    "start_time": "2022-11-26T18:35:38.969Z"
   },
   {
    "duration": 10,
    "start_time": "2022-11-26T18:35:39.009Z"
   },
   {
    "duration": 14,
    "start_time": "2022-11-26T18:35:39.021Z"
   },
   {
    "duration": 3753,
    "start_time": "2022-11-26T18:35:39.037Z"
   },
   {
    "duration": 393,
    "start_time": "2022-11-26T18:35:42.792Z"
   },
   {
    "duration": 15,
    "start_time": "2022-11-26T18:35:43.187Z"
   },
   {
    "duration": 36,
    "start_time": "2022-11-26T18:35:43.204Z"
   },
   {
    "duration": 4,
    "start_time": "2022-11-26T18:35:43.242Z"
   },
   {
    "duration": 1085,
    "start_time": "2022-11-26T18:35:43.248Z"
   },
   {
    "duration": 25646,
    "start_time": "2022-11-26T18:35:44.334Z"
   },
   {
    "duration": 21,
    "start_time": "2022-11-26T18:36:09.982Z"
   },
   {
    "duration": 2067,
    "start_time": "2022-11-26T18:36:10.006Z"
   },
   {
    "duration": 111415,
    "start_time": "2022-11-26T18:36:12.074Z"
   },
   {
    "duration": 41,
    "start_time": "2022-11-26T18:38:03.491Z"
   },
   {
    "duration": 30,
    "start_time": "2022-11-26T18:38:03.534Z"
   },
   {
    "duration": 33,
    "start_time": "2022-11-26T18:38:03.565Z"
   },
   {
    "duration": 153,
    "start_time": "2022-11-26T18:38:03.602Z"
   },
   {
    "duration": 153,
    "start_time": "2022-11-26T18:38:31.198Z"
   },
   {
    "duration": 176,
    "start_time": "2022-11-26T18:38:37.053Z"
   },
   {
    "duration": 178,
    "start_time": "2022-11-26T18:38:45.375Z"
   },
   {
    "duration": 186,
    "start_time": "2022-11-26T18:38:59.857Z"
   },
   {
    "duration": 239,
    "start_time": "2022-11-26T18:39:35.960Z"
   },
   {
    "duration": 276,
    "start_time": "2022-11-26T18:39:55.240Z"
   },
   {
    "duration": 277,
    "start_time": "2022-11-26T18:40:02.860Z"
   },
   {
    "duration": 415,
    "start_time": "2022-11-26T18:40:08.145Z"
   },
   {
    "duration": 423,
    "start_time": "2022-11-26T18:40:16.416Z"
   },
   {
    "duration": 393,
    "start_time": "2022-11-26T18:40:23.696Z"
   },
   {
    "duration": 475,
    "start_time": "2022-11-26T18:41:50.588Z"
   },
   {
    "duration": 1296,
    "start_time": "2022-11-26T18:49:58.750Z"
   },
   {
    "duration": 2,
    "start_time": "2022-11-26T18:50:00.048Z"
   },
   {
    "duration": 346,
    "start_time": "2022-11-26T18:50:00.052Z"
   },
   {
    "duration": 16,
    "start_time": "2022-11-26T18:50:00.400Z"
   },
   {
    "duration": 115,
    "start_time": "2022-11-26T18:50:00.418Z"
   },
   {
    "duration": 13,
    "start_time": "2022-11-26T18:50:00.535Z"
   },
   {
    "duration": 402,
    "start_time": "2022-11-26T18:50:00.550Z"
   },
   {
    "duration": 17,
    "start_time": "2022-11-26T18:50:00.954Z"
   },
   {
    "duration": 8,
    "start_time": "2022-11-26T18:50:00.973Z"
   },
   {
    "duration": 192,
    "start_time": "2022-11-26T18:50:00.983Z"
   },
   {
    "duration": 7,
    "start_time": "2022-11-26T18:50:01.177Z"
   },
   {
    "duration": 12,
    "start_time": "2022-11-26T18:50:01.186Z"
   },
   {
    "duration": 13,
    "start_time": "2022-11-26T18:50:01.200Z"
   },
   {
    "duration": 24,
    "start_time": "2022-11-26T18:50:01.214Z"
   },
   {
    "duration": 9,
    "start_time": "2022-11-26T18:50:01.240Z"
   },
   {
    "duration": 38,
    "start_time": "2022-11-26T18:50:01.251Z"
   },
   {
    "duration": 42,
    "start_time": "2022-11-26T18:50:01.291Z"
   },
   {
    "duration": 33,
    "start_time": "2022-11-26T18:50:01.335Z"
   },
   {
    "duration": 43,
    "start_time": "2022-11-26T18:50:01.370Z"
   },
   {
    "duration": 3802,
    "start_time": "2022-11-26T18:50:01.415Z"
   },
   {
    "duration": 371,
    "start_time": "2022-11-26T18:50:05.219Z"
   },
   {
    "duration": 41,
    "start_time": "2022-11-26T18:50:05.592Z"
   },
   {
    "duration": 588,
    "start_time": "2022-11-26T18:50:05.635Z"
   },
   {
    "duration": 4,
    "start_time": "2022-11-26T18:50:06.225Z"
   },
   {
    "duration": 1047,
    "start_time": "2022-11-26T18:50:06.230Z"
   },
   {
    "duration": 53990,
    "start_time": "2022-11-26T18:50:07.279Z"
   },
   {
    "duration": 26,
    "start_time": "2022-11-26T18:51:01.271Z"
   },
   {
    "duration": 2082,
    "start_time": "2022-11-26T18:51:01.301Z"
   },
   {
    "duration": 110577,
    "start_time": "2022-11-26T18:51:03.386Z"
   },
   {
    "duration": 43,
    "start_time": "2022-11-26T18:52:53.965Z"
   },
   {
    "duration": 11,
    "start_time": "2022-11-26T18:52:54.010Z"
   },
   {
    "duration": 140,
    "start_time": "2022-11-26T18:52:54.022Z"
   },
   {
    "duration": 1399,
    "start_time": "2022-11-26T18:55:10.756Z"
   },
   {
    "duration": 2,
    "start_time": "2022-11-26T18:55:12.158Z"
   },
   {
    "duration": 348,
    "start_time": "2022-11-26T18:55:12.162Z"
   },
   {
    "duration": 15,
    "start_time": "2022-11-26T18:55:12.512Z"
   },
   {
    "duration": 126,
    "start_time": "2022-11-26T18:55:12.529Z"
   },
   {
    "duration": 12,
    "start_time": "2022-11-26T18:55:12.657Z"
   },
   {
    "duration": 420,
    "start_time": "2022-11-26T18:55:12.670Z"
   },
   {
    "duration": 16,
    "start_time": "2022-11-26T18:55:13.092Z"
   },
   {
    "duration": 4,
    "start_time": "2022-11-26T18:55:13.110Z"
   },
   {
    "duration": 194,
    "start_time": "2022-11-26T18:55:13.117Z"
   },
   {
    "duration": 8,
    "start_time": "2022-11-26T18:55:13.313Z"
   },
   {
    "duration": 47,
    "start_time": "2022-11-26T18:55:13.322Z"
   },
   {
    "duration": 59,
    "start_time": "2022-11-26T18:55:13.371Z"
   },
   {
    "duration": 50,
    "start_time": "2022-11-26T18:55:13.431Z"
   },
   {
    "duration": 63,
    "start_time": "2022-11-26T18:55:13.483Z"
   },
   {
    "duration": 56,
    "start_time": "2022-11-26T18:55:13.548Z"
   },
   {
    "duration": 60,
    "start_time": "2022-11-26T18:55:13.605Z"
   },
   {
    "duration": 52,
    "start_time": "2022-11-26T18:55:13.667Z"
   },
   {
    "duration": 43,
    "start_time": "2022-11-26T18:55:13.720Z"
   },
   {
    "duration": 3633,
    "start_time": "2022-11-26T18:55:13.764Z"
   },
   {
    "duration": 382,
    "start_time": "2022-11-26T18:55:17.399Z"
   },
   {
    "duration": 48,
    "start_time": "2022-11-26T18:55:17.783Z"
   },
   {
    "duration": 528,
    "start_time": "2022-11-26T18:55:17.832Z"
   },
   {
    "duration": 5,
    "start_time": "2022-11-26T18:55:18.362Z"
   },
   {
    "duration": 1279,
    "start_time": "2022-11-26T18:55:18.368Z"
   },
   {
    "duration": 52503,
    "start_time": "2022-11-26T18:55:19.649Z"
   },
   {
    "duration": 21,
    "start_time": "2022-11-26T18:56:12.153Z"
   },
   {
    "duration": 2221,
    "start_time": "2022-11-26T18:56:12.176Z"
   },
   {
    "duration": 105235,
    "start_time": "2022-11-26T18:56:14.399Z"
   },
   {
    "duration": 36,
    "start_time": "2022-11-26T18:57:59.635Z"
   },
   {
    "duration": 59,
    "start_time": "2022-11-26T18:57:59.673Z"
   },
   {
    "duration": 31,
    "start_time": "2022-11-26T18:57:59.734Z"
   },
   {
    "duration": 1397,
    "start_time": "2022-11-26T18:59:47.870Z"
   },
   {
    "duration": 3,
    "start_time": "2022-11-26T18:59:49.269Z"
   },
   {
    "duration": 350,
    "start_time": "2022-11-26T18:59:49.273Z"
   },
   {
    "duration": 17,
    "start_time": "2022-11-26T18:59:49.625Z"
   },
   {
    "duration": 123,
    "start_time": "2022-11-26T18:59:49.644Z"
   },
   {
    "duration": 13,
    "start_time": "2022-11-26T18:59:49.769Z"
   },
   {
    "duration": 414,
    "start_time": "2022-11-26T18:59:49.784Z"
   },
   {
    "duration": 16,
    "start_time": "2022-11-26T18:59:50.199Z"
   },
   {
    "duration": 5,
    "start_time": "2022-11-26T18:59:50.216Z"
   },
   {
    "duration": 197,
    "start_time": "2022-11-26T18:59:50.224Z"
   },
   {
    "duration": 9,
    "start_time": "2022-11-26T18:59:50.423Z"
   },
   {
    "duration": 7,
    "start_time": "2022-11-26T18:59:50.434Z"
   },
   {
    "duration": 5,
    "start_time": "2022-11-26T18:59:50.443Z"
   },
   {
    "duration": 7,
    "start_time": "2022-11-26T18:59:50.450Z"
   },
   {
    "duration": 12,
    "start_time": "2022-11-26T18:59:50.458Z"
   },
   {
    "duration": 38,
    "start_time": "2022-11-26T18:59:50.472Z"
   },
   {
    "duration": 18,
    "start_time": "2022-11-26T18:59:50.512Z"
   },
   {
    "duration": 11,
    "start_time": "2022-11-26T18:59:50.532Z"
   },
   {
    "duration": 11,
    "start_time": "2022-11-26T18:59:50.545Z"
   },
   {
    "duration": 3651,
    "start_time": "2022-11-26T18:59:50.558Z"
   },
   {
    "duration": 369,
    "start_time": "2022-11-26T18:59:54.211Z"
   },
   {
    "duration": 43,
    "start_time": "2022-11-26T18:59:54.582Z"
   },
   {
    "duration": 513,
    "start_time": "2022-11-26T18:59:54.627Z"
   },
   {
    "duration": 6,
    "start_time": "2022-11-26T18:59:55.142Z"
   },
   {
    "duration": 1322,
    "start_time": "2022-11-26T18:59:55.149Z"
   },
   {
    "duration": 52392,
    "start_time": "2022-11-26T18:59:56.473Z"
   },
   {
    "duration": 20,
    "start_time": "2022-11-26T19:00:48.867Z"
   },
   {
    "duration": 2358,
    "start_time": "2022-11-26T19:00:48.899Z"
   },
   {
    "duration": 1383,
    "start_time": "2022-11-26T19:02:32.737Z"
   },
   {
    "duration": 2,
    "start_time": "2022-11-26T19:02:34.122Z"
   },
   {
    "duration": 327,
    "start_time": "2022-11-26T19:02:34.125Z"
   },
   {
    "duration": 16,
    "start_time": "2022-11-26T19:02:34.454Z"
   },
   {
    "duration": 110,
    "start_time": "2022-11-26T19:02:34.471Z"
   },
   {
    "duration": 19,
    "start_time": "2022-11-26T19:02:34.583Z"
   },
   {
    "duration": 398,
    "start_time": "2022-11-26T19:02:34.604Z"
   },
   {
    "duration": 17,
    "start_time": "2022-11-26T19:02:35.004Z"
   },
   {
    "duration": 5,
    "start_time": "2022-11-26T19:02:35.022Z"
   },
   {
    "duration": 205,
    "start_time": "2022-11-26T19:02:35.029Z"
   },
   {
    "duration": 8,
    "start_time": "2022-11-26T19:02:35.235Z"
   },
   {
    "duration": 22,
    "start_time": "2022-11-26T19:02:35.244Z"
   },
   {
    "duration": 13,
    "start_time": "2022-11-26T19:02:35.268Z"
   },
   {
    "duration": 20,
    "start_time": "2022-11-26T19:02:35.282Z"
   },
   {
    "duration": 6,
    "start_time": "2022-11-26T19:02:35.303Z"
   },
   {
    "duration": 20,
    "start_time": "2022-11-26T19:02:35.310Z"
   },
   {
    "duration": 16,
    "start_time": "2022-11-26T19:02:35.331Z"
   },
   {
    "duration": 12,
    "start_time": "2022-11-26T19:02:35.348Z"
   },
   {
    "duration": 11,
    "start_time": "2022-11-26T19:02:35.362Z"
   },
   {
    "duration": 3704,
    "start_time": "2022-11-26T19:02:35.374Z"
   },
   {
    "duration": 402,
    "start_time": "2022-11-26T19:02:39.080Z"
   },
   {
    "duration": 41,
    "start_time": "2022-11-26T19:02:39.484Z"
   },
   {
    "duration": 500,
    "start_time": "2022-11-26T19:02:39.527Z"
   },
   {
    "duration": 5,
    "start_time": "2022-11-26T19:02:40.028Z"
   },
   {
    "duration": 1282,
    "start_time": "2022-11-26T19:02:40.034Z"
   },
   {
    "duration": 51783,
    "start_time": "2022-11-26T19:02:41.317Z"
   },
   {
    "duration": 21,
    "start_time": "2022-11-26T19:03:33.102Z"
   },
   {
    "duration": 2238,
    "start_time": "2022-11-26T19:03:33.126Z"
   },
   {
    "duration": 105976,
    "start_time": "2022-11-26T19:03:35.366Z"
   },
   {
    "duration": 37,
    "start_time": "2022-11-26T19:05:21.344Z"
   },
   {
    "duration": 56,
    "start_time": "2022-11-26T19:05:21.383Z"
   },
   {
    "duration": 33,
    "start_time": "2022-11-26T19:05:21.440Z"
   },
   {
    "duration": 5,
    "start_time": "2022-11-26T19:14:40.104Z"
   },
   {
    "duration": 6,
    "start_time": "2022-11-26T19:14:53.680Z"
   },
   {
    "duration": 47,
    "start_time": "2022-11-27T17:17:41.810Z"
   },
   {
    "duration": 1552,
    "start_time": "2022-11-27T17:17:46.640Z"
   },
   {
    "duration": 3,
    "start_time": "2022-11-27T17:17:48.195Z"
   },
   {
    "duration": 1328,
    "start_time": "2022-11-27T17:17:48.200Z"
   },
   {
    "duration": 16,
    "start_time": "2022-11-27T17:17:49.529Z"
   },
   {
    "duration": 177,
    "start_time": "2022-11-27T17:17:49.547Z"
   },
   {
    "duration": 13,
    "start_time": "2022-11-27T17:17:49.726Z"
   },
   {
    "duration": 558,
    "start_time": "2022-11-27T17:17:49.741Z"
   },
   {
    "duration": 23,
    "start_time": "2022-11-27T17:17:50.300Z"
   },
   {
    "duration": 6,
    "start_time": "2022-11-27T17:17:50.326Z"
   },
   {
    "duration": 171,
    "start_time": "2022-11-27T17:17:50.333Z"
   },
   {
    "duration": 18,
    "start_time": "2022-11-27T17:17:50.506Z"
   },
   {
    "duration": 4,
    "start_time": "2022-11-27T17:17:50.527Z"
   },
   {
    "duration": 6,
    "start_time": "2022-11-27T17:17:50.533Z"
   },
   {
    "duration": 7,
    "start_time": "2022-11-27T17:17:50.540Z"
   },
   {
    "duration": 8,
    "start_time": "2022-11-27T17:17:50.548Z"
   },
   {
    "duration": 21,
    "start_time": "2022-11-27T17:17:50.558Z"
   },
   {
    "duration": 45,
    "start_time": "2022-11-27T17:17:50.581Z"
   },
   {
    "duration": 10,
    "start_time": "2022-11-27T17:17:50.628Z"
   },
   {
    "duration": 15,
    "start_time": "2022-11-27T17:17:50.640Z"
   },
   {
    "duration": 3763,
    "start_time": "2022-11-27T17:17:50.656Z"
   },
   {
    "duration": 381,
    "start_time": "2022-11-27T17:17:54.421Z"
   },
   {
    "duration": 40,
    "start_time": "2022-11-27T17:17:54.803Z"
   },
   {
    "duration": 487,
    "start_time": "2022-11-27T17:17:54.845Z"
   },
   {
    "duration": 179,
    "start_time": "2022-11-27T17:17:55.334Z"
   },
   {
    "duration": 4,
    "start_time": "2022-11-27T17:17:55.522Z"
   },
   {
    "duration": 3138,
    "start_time": "2022-11-27T17:17:55.528Z"
   },
   {
    "duration": 1344,
    "start_time": "2022-11-27T17:18:35.448Z"
   },
   {
    "duration": 2,
    "start_time": "2022-11-27T17:18:36.794Z"
   },
   {
    "duration": 325,
    "start_time": "2022-11-27T17:18:36.797Z"
   },
   {
    "duration": 14,
    "start_time": "2022-11-27T17:18:37.124Z"
   },
   {
    "duration": 107,
    "start_time": "2022-11-27T17:18:37.139Z"
   },
   {
    "duration": 12,
    "start_time": "2022-11-27T17:18:37.247Z"
   },
   {
    "duration": 380,
    "start_time": "2022-11-27T17:18:37.261Z"
   },
   {
    "duration": 16,
    "start_time": "2022-11-27T17:18:37.643Z"
   },
   {
    "duration": 5,
    "start_time": "2022-11-27T17:18:37.661Z"
   },
   {
    "duration": 182,
    "start_time": "2022-11-27T17:18:37.669Z"
   },
   {
    "duration": 12,
    "start_time": "2022-11-27T17:18:37.853Z"
   },
   {
    "duration": 18,
    "start_time": "2022-11-27T17:18:37.867Z"
   },
   {
    "duration": 5,
    "start_time": "2022-11-27T17:18:37.887Z"
   },
   {
    "duration": 5,
    "start_time": "2022-11-27T17:18:37.894Z"
   },
   {
    "duration": 5,
    "start_time": "2022-11-27T17:18:37.900Z"
   },
   {
    "duration": 30,
    "start_time": "2022-11-27T17:18:37.906Z"
   },
   {
    "duration": 18,
    "start_time": "2022-11-27T17:18:37.938Z"
   },
   {
    "duration": 6,
    "start_time": "2022-11-27T17:18:37.957Z"
   },
   {
    "duration": 11,
    "start_time": "2022-11-27T17:18:37.965Z"
   },
   {
    "duration": 3835,
    "start_time": "2022-11-27T17:18:37.977Z"
   },
   {
    "duration": 396,
    "start_time": "2022-11-27T17:18:41.813Z"
   },
   {
    "duration": 39,
    "start_time": "2022-11-27T17:18:42.211Z"
   },
   {
    "duration": 497,
    "start_time": "2022-11-27T17:18:42.252Z"
   },
   {
    "duration": 217,
    "start_time": "2022-11-27T17:18:42.751Z"
   },
   {
    "duration": 4,
    "start_time": "2022-11-27T17:18:42.969Z"
   },
   {
    "duration": 3151,
    "start_time": "2022-11-27T17:18:42.975Z"
   },
   {
    "duration": 181765,
    "start_time": "2022-11-27T17:18:46.128Z"
   },
   {
    "duration": 172,
    "start_time": "2022-11-27T17:21:47.897Z"
   },
   {
    "duration": 6388,
    "start_time": "2022-11-27T17:21:48.071Z"
   },
   {
    "duration": 1503,
    "start_time": "2022-11-27T17:23:50.537Z"
   },
   {
    "duration": 3,
    "start_time": "2022-11-27T17:23:52.042Z"
   },
   {
    "duration": 337,
    "start_time": "2022-11-27T17:23:52.047Z"
   },
   {
    "duration": 18,
    "start_time": "2022-11-27T17:23:52.386Z"
   },
   {
    "duration": 114,
    "start_time": "2022-11-27T17:23:52.421Z"
   },
   {
    "duration": 15,
    "start_time": "2022-11-27T17:23:52.536Z"
   },
   {
    "duration": 397,
    "start_time": "2022-11-27T17:23:52.553Z"
   },
   {
    "duration": 17,
    "start_time": "2022-11-27T17:23:52.952Z"
   },
   {
    "duration": 4,
    "start_time": "2022-11-27T17:23:52.971Z"
   },
   {
    "duration": 197,
    "start_time": "2022-11-27T17:23:52.978Z"
   },
   {
    "duration": 10,
    "start_time": "2022-11-27T17:23:53.177Z"
   },
   {
    "duration": 5,
    "start_time": "2022-11-27T17:23:53.189Z"
   },
   {
    "duration": 27,
    "start_time": "2022-11-27T17:23:53.196Z"
   },
   {
    "duration": 3,
    "start_time": "2022-11-27T17:23:53.225Z"
   },
   {
    "duration": 7,
    "start_time": "2022-11-27T17:23:53.230Z"
   },
   {
    "duration": 22,
    "start_time": "2022-11-27T17:23:53.239Z"
   },
   {
    "duration": 22,
    "start_time": "2022-11-27T17:23:53.263Z"
   },
   {
    "duration": 7,
    "start_time": "2022-11-27T17:23:53.287Z"
   },
   {
    "duration": 12,
    "start_time": "2022-11-27T17:23:53.323Z"
   },
   {
    "duration": 3769,
    "start_time": "2022-11-27T17:23:53.338Z"
   },
   {
    "duration": 380,
    "start_time": "2022-11-27T17:23:57.109Z"
   },
   {
    "duration": 50,
    "start_time": "2022-11-27T17:23:57.491Z"
   },
   {
    "duration": 607,
    "start_time": "2022-11-27T17:23:57.544Z"
   },
   {
    "duration": 241,
    "start_time": "2022-11-27T17:23:58.153Z"
   },
   {
    "duration": 7,
    "start_time": "2022-11-27T17:23:58.396Z"
   },
   {
    "duration": 3244,
    "start_time": "2022-11-27T17:23:58.406Z"
   },
   {
    "duration": 1405,
    "start_time": "2022-11-27T17:26:15.417Z"
   },
   {
    "duration": 3,
    "start_time": "2022-11-27T17:26:16.824Z"
   },
   {
    "duration": 339,
    "start_time": "2022-11-27T17:26:16.828Z"
   },
   {
    "duration": 16,
    "start_time": "2022-11-27T17:26:17.169Z"
   },
   {
    "duration": 117,
    "start_time": "2022-11-27T17:26:17.187Z"
   },
   {
    "duration": 21,
    "start_time": "2022-11-27T17:26:17.305Z"
   },
   {
    "duration": 391,
    "start_time": "2022-11-27T17:26:17.328Z"
   },
   {
    "duration": 16,
    "start_time": "2022-11-27T17:26:17.721Z"
   },
   {
    "duration": 5,
    "start_time": "2022-11-27T17:26:17.738Z"
   },
   {
    "duration": 191,
    "start_time": "2022-11-27T17:26:17.745Z"
   },
   {
    "duration": 8,
    "start_time": "2022-11-27T17:26:17.937Z"
   },
   {
    "duration": 5,
    "start_time": "2022-11-27T17:26:17.946Z"
   },
   {
    "duration": 10,
    "start_time": "2022-11-27T17:26:17.952Z"
   },
   {
    "duration": 7,
    "start_time": "2022-11-27T17:26:17.963Z"
   },
   {
    "duration": 13,
    "start_time": "2022-11-27T17:26:17.972Z"
   },
   {
    "duration": 41,
    "start_time": "2022-11-27T17:26:17.987Z"
   },
   {
    "duration": 19,
    "start_time": "2022-11-27T17:26:18.030Z"
   },
   {
    "duration": 7,
    "start_time": "2022-11-27T17:26:18.050Z"
   },
   {
    "duration": 13,
    "start_time": "2022-11-27T17:26:18.059Z"
   },
   {
    "duration": 3874,
    "start_time": "2022-11-27T17:26:18.074Z"
   },
   {
    "duration": 458,
    "start_time": "2022-11-27T17:26:21.950Z"
   },
   {
    "duration": 4,
    "start_time": "2022-11-27T17:26:22.410Z"
   },
   {
    "duration": 57,
    "start_time": "2022-11-27T17:26:22.416Z"
   },
   {
    "duration": 3,
    "start_time": "2022-11-27T17:26:22.475Z"
   },
   {
    "duration": 589,
    "start_time": "2022-11-27T17:26:22.480Z"
   },
   {
    "duration": 225,
    "start_time": "2022-11-27T17:26:23.071Z"
   },
   {
    "duration": 4,
    "start_time": "2022-11-27T17:26:23.298Z"
   },
   {
    "duration": 3198,
    "start_time": "2022-11-27T17:26:23.305Z"
   },
   {
    "duration": 178890,
    "start_time": "2022-11-27T17:26:26.504Z"
   },
   {
    "duration": 181,
    "start_time": "2022-11-27T17:29:25.396Z"
   },
   {
    "duration": 6415,
    "start_time": "2022-11-27T17:29:25.579Z"
   },
   {
    "duration": 372034,
    "start_time": "2022-11-27T17:29:31.996Z"
   },
   {
    "duration": 20868,
    "start_time": "2022-11-27T17:35:44.032Z"
   },
   {
    "duration": 137,
    "start_time": "2022-11-27T17:36:04.902Z"
   },
   {
    "duration": 65,
    "start_time": "2022-11-27T17:36:05.041Z"
   },
   {
    "duration": 15,
    "start_time": "2022-11-27T18:04:57.914Z"
   },
   {
    "duration": 1446,
    "start_time": "2022-11-27T18:09:53.168Z"
   },
   {
    "duration": 6,
    "start_time": "2022-11-27T18:09:54.616Z"
   },
   {
    "duration": 331,
    "start_time": "2022-11-27T18:09:54.624Z"
   },
   {
    "duration": 17,
    "start_time": "2022-11-27T18:09:54.958Z"
   },
   {
    "duration": 111,
    "start_time": "2022-11-27T18:09:54.977Z"
   },
   {
    "duration": 13,
    "start_time": "2022-11-27T18:09:55.090Z"
   },
   {
    "duration": 390,
    "start_time": "2022-11-27T18:09:55.105Z"
   },
   {
    "duration": 25,
    "start_time": "2022-11-27T18:09:55.497Z"
   },
   {
    "duration": 5,
    "start_time": "2022-11-27T18:09:55.524Z"
   },
   {
    "duration": 196,
    "start_time": "2022-11-27T18:09:55.531Z"
   },
   {
    "duration": 9,
    "start_time": "2022-11-27T18:09:55.729Z"
   },
   {
    "duration": 17,
    "start_time": "2022-11-27T18:09:55.740Z"
   },
   {
    "duration": 10,
    "start_time": "2022-11-27T18:09:55.759Z"
   },
   {
    "duration": 12,
    "start_time": "2022-11-27T18:09:55.771Z"
   },
   {
    "duration": 12,
    "start_time": "2022-11-27T18:09:55.785Z"
   },
   {
    "duration": 26,
    "start_time": "2022-11-27T18:09:55.799Z"
   },
   {
    "duration": 24,
    "start_time": "2022-11-27T18:09:55.827Z"
   },
   {
    "duration": 18,
    "start_time": "2022-11-27T18:09:55.853Z"
   },
   {
    "duration": 25,
    "start_time": "2022-11-27T18:09:55.873Z"
   },
   {
    "duration": 4664,
    "start_time": "2022-11-27T18:09:55.900Z"
   },
   {
    "duration": 434,
    "start_time": "2022-11-27T18:10:00.566Z"
   },
   {
    "duration": 46,
    "start_time": "2022-11-27T18:10:01.002Z"
   },
   {
    "duration": 613,
    "start_time": "2022-11-27T18:10:01.050Z"
   },
   {
    "duration": 224,
    "start_time": "2022-11-27T18:10:01.665Z"
   },
   {
    "duration": 121,
    "start_time": "2022-11-27T18:10:01.890Z"
   },
   {
    "duration": 0,
    "start_time": "2022-11-27T18:10:02.013Z"
   },
   {
    "duration": 0,
    "start_time": "2022-11-27T18:10:02.022Z"
   },
   {
    "duration": 0,
    "start_time": "2022-11-27T18:10:02.023Z"
   },
   {
    "duration": 0,
    "start_time": "2022-11-27T18:10:02.024Z"
   },
   {
    "duration": 0,
    "start_time": "2022-11-27T18:10:02.025Z"
   },
   {
    "duration": 0,
    "start_time": "2022-11-27T18:10:02.026Z"
   },
   {
    "duration": 0,
    "start_time": "2022-11-27T18:10:02.027Z"
   },
   {
    "duration": 0,
    "start_time": "2022-11-27T18:10:02.028Z"
   },
   {
    "duration": 0,
    "start_time": "2022-11-27T18:10:02.029Z"
   },
   {
    "duration": 0,
    "start_time": "2022-11-27T18:10:02.031Z"
   },
   {
    "duration": 1358,
    "start_time": "2022-11-27T18:10:42.123Z"
   },
   {
    "duration": 3,
    "start_time": "2022-11-27T18:10:43.483Z"
   },
   {
    "duration": 328,
    "start_time": "2022-11-27T18:10:43.487Z"
   },
   {
    "duration": 20,
    "start_time": "2022-11-27T18:10:43.817Z"
   },
   {
    "duration": 108,
    "start_time": "2022-11-27T18:10:43.838Z"
   },
   {
    "duration": 13,
    "start_time": "2022-11-27T18:10:43.947Z"
   },
   {
    "duration": 427,
    "start_time": "2022-11-27T18:10:43.961Z"
   },
   {
    "duration": 15,
    "start_time": "2022-11-27T18:10:44.390Z"
   },
   {
    "duration": 16,
    "start_time": "2022-11-27T18:10:44.407Z"
   },
   {
    "duration": 182,
    "start_time": "2022-11-27T18:10:44.425Z"
   },
   {
    "duration": 15,
    "start_time": "2022-11-27T18:10:44.608Z"
   },
   {
    "duration": 5,
    "start_time": "2022-11-27T18:10:44.625Z"
   },
   {
    "duration": 7,
    "start_time": "2022-11-27T18:10:44.631Z"
   },
   {
    "duration": 5,
    "start_time": "2022-11-27T18:10:44.640Z"
   },
   {
    "duration": 5,
    "start_time": "2022-11-27T18:10:44.647Z"
   },
   {
    "duration": 19,
    "start_time": "2022-11-27T18:10:44.654Z"
   },
   {
    "duration": 17,
    "start_time": "2022-11-27T18:10:44.675Z"
   },
   {
    "duration": 32,
    "start_time": "2022-11-27T18:10:44.693Z"
   },
   {
    "duration": 13,
    "start_time": "2022-11-27T18:10:44.727Z"
   },
   {
    "duration": 3683,
    "start_time": "2022-11-27T18:10:44.741Z"
   },
   {
    "duration": 377,
    "start_time": "2022-11-27T18:10:48.426Z"
   },
   {
    "duration": 42,
    "start_time": "2022-11-27T18:10:48.805Z"
   },
   {
    "duration": 629,
    "start_time": "2022-11-27T18:10:48.849Z"
   },
   {
    "duration": 216,
    "start_time": "2022-11-27T18:10:49.479Z"
   },
   {
    "duration": 118,
    "start_time": "2022-11-27T18:10:49.697Z"
   },
   {
    "duration": 0,
    "start_time": "2022-11-27T18:10:49.816Z"
   },
   {
    "duration": 0,
    "start_time": "2022-11-27T18:10:49.823Z"
   },
   {
    "duration": 0,
    "start_time": "2022-11-27T18:10:49.825Z"
   },
   {
    "duration": 0,
    "start_time": "2022-11-27T18:10:49.826Z"
   },
   {
    "duration": 0,
    "start_time": "2022-11-27T18:10:49.827Z"
   },
   {
    "duration": 0,
    "start_time": "2022-11-27T18:10:49.828Z"
   },
   {
    "duration": 0,
    "start_time": "2022-11-27T18:10:49.829Z"
   },
   {
    "duration": 0,
    "start_time": "2022-11-27T18:10:49.830Z"
   },
   {
    "duration": 0,
    "start_time": "2022-11-27T18:10:49.831Z"
   },
   {
    "duration": 0,
    "start_time": "2022-11-27T18:10:49.832Z"
   },
   {
    "duration": 1502,
    "start_time": "2022-11-27T18:11:33.322Z"
   },
   {
    "duration": 3,
    "start_time": "2022-11-27T18:11:34.826Z"
   },
   {
    "duration": 329,
    "start_time": "2022-11-27T18:11:34.831Z"
   },
   {
    "duration": 14,
    "start_time": "2022-11-27T18:11:35.162Z"
   },
   {
    "duration": 108,
    "start_time": "2022-11-27T18:11:35.178Z"
   },
   {
    "duration": 12,
    "start_time": "2022-11-27T18:11:35.288Z"
   },
   {
    "duration": 381,
    "start_time": "2022-11-27T18:11:35.301Z"
   },
   {
    "duration": 15,
    "start_time": "2022-11-27T18:11:35.683Z"
   },
   {
    "duration": 4,
    "start_time": "2022-11-27T18:11:35.700Z"
   },
   {
    "duration": 186,
    "start_time": "2022-11-27T18:11:35.722Z"
   },
   {
    "duration": 15,
    "start_time": "2022-11-27T18:11:35.909Z"
   },
   {
    "duration": 4,
    "start_time": "2022-11-27T18:11:35.926Z"
   },
   {
    "duration": 7,
    "start_time": "2022-11-27T18:11:35.932Z"
   },
   {
    "duration": 8,
    "start_time": "2022-11-27T18:11:35.940Z"
   },
   {
    "duration": 7,
    "start_time": "2022-11-27T18:11:35.949Z"
   },
   {
    "duration": 19,
    "start_time": "2022-11-27T18:11:35.957Z"
   },
   {
    "duration": 17,
    "start_time": "2022-11-27T18:11:35.978Z"
   },
   {
    "duration": 29,
    "start_time": "2022-11-27T18:11:35.997Z"
   },
   {
    "duration": 11,
    "start_time": "2022-11-27T18:11:36.028Z"
   },
   {
    "duration": 3547,
    "start_time": "2022-11-27T18:11:36.040Z"
   },
   {
    "duration": 404,
    "start_time": "2022-11-27T18:11:39.589Z"
   },
   {
    "duration": 41,
    "start_time": "2022-11-27T18:11:39.995Z"
   },
   {
    "duration": 563,
    "start_time": "2022-11-27T18:11:40.037Z"
   },
   {
    "duration": 221,
    "start_time": "2022-11-27T18:11:40.601Z"
   },
   {
    "duration": 111,
    "start_time": "2022-11-27T18:11:40.824Z"
   },
   {
    "duration": 0,
    "start_time": "2022-11-27T18:11:40.936Z"
   },
   {
    "duration": 0,
    "start_time": "2022-11-27T18:11:40.938Z"
   },
   {
    "duration": 0,
    "start_time": "2022-11-27T18:11:40.939Z"
   },
   {
    "duration": 0,
    "start_time": "2022-11-27T18:11:40.939Z"
   },
   {
    "duration": 0,
    "start_time": "2022-11-27T18:11:40.940Z"
   },
   {
    "duration": 0,
    "start_time": "2022-11-27T18:11:40.941Z"
   },
   {
    "duration": 0,
    "start_time": "2022-11-27T18:11:40.942Z"
   },
   {
    "duration": 0,
    "start_time": "2022-11-27T18:11:40.943Z"
   },
   {
    "duration": 0,
    "start_time": "2022-11-27T18:11:40.944Z"
   },
   {
    "duration": 0,
    "start_time": "2022-11-27T18:11:40.944Z"
   },
   {
    "duration": 1466,
    "start_time": "2022-11-27T18:12:10.202Z"
   },
   {
    "duration": 2,
    "start_time": "2022-11-27T18:12:11.670Z"
   },
   {
    "duration": 342,
    "start_time": "2022-11-27T18:12:11.674Z"
   },
   {
    "duration": 15,
    "start_time": "2022-11-27T18:12:12.018Z"
   },
   {
    "duration": 107,
    "start_time": "2022-11-27T18:12:12.035Z"
   },
   {
    "duration": 13,
    "start_time": "2022-11-27T18:12:12.144Z"
   },
   {
    "duration": 414,
    "start_time": "2022-11-27T18:12:12.158Z"
   },
   {
    "duration": 15,
    "start_time": "2022-11-27T18:12:12.573Z"
   },
   {
    "duration": 4,
    "start_time": "2022-11-27T18:12:12.590Z"
   },
   {
    "duration": 175,
    "start_time": "2022-11-27T18:12:12.598Z"
   },
   {
    "duration": 10,
    "start_time": "2022-11-27T18:12:12.775Z"
   },
   {
    "duration": 4,
    "start_time": "2022-11-27T18:12:12.787Z"
   },
   {
    "duration": 5,
    "start_time": "2022-11-27T18:12:12.792Z"
   },
   {
    "duration": 26,
    "start_time": "2022-11-27T18:12:12.799Z"
   },
   {
    "duration": 6,
    "start_time": "2022-11-27T18:12:12.826Z"
   },
   {
    "duration": 19,
    "start_time": "2022-11-27T18:12:12.834Z"
   },
   {
    "duration": 20,
    "start_time": "2022-11-27T18:12:12.855Z"
   },
   {
    "duration": 7,
    "start_time": "2022-11-27T18:12:12.877Z"
   },
   {
    "duration": 37,
    "start_time": "2022-11-27T18:12:12.885Z"
   },
   {
    "duration": 3716,
    "start_time": "2022-11-27T18:12:12.924Z"
   },
   {
    "duration": 356,
    "start_time": "2022-11-27T18:12:16.641Z"
   },
   {
    "duration": 44,
    "start_time": "2022-11-27T18:12:16.999Z"
   },
   {
    "duration": 546,
    "start_time": "2022-11-27T18:12:17.044Z"
   },
   {
    "duration": 210,
    "start_time": "2022-11-27T18:12:17.592Z"
   },
   {
    "duration": 26,
    "start_time": "2022-11-27T18:12:17.804Z"
   },
   {
    "duration": 544,
    "start_time": "2022-11-27T18:12:17.831Z"
   },
   {
    "duration": 4,
    "start_time": "2022-11-27T18:12:18.378Z"
   },
   {
    "duration": 3123,
    "start_time": "2022-11-27T18:12:18.385Z"
   },
   {
    "duration": 178286,
    "start_time": "2022-11-27T18:12:21.510Z"
   },
   {
    "duration": 175,
    "start_time": "2022-11-27T18:15:19.798Z"
   },
   {
    "duration": 6301,
    "start_time": "2022-11-27T18:15:19.975Z"
   },
   {
    "duration": 376449,
    "start_time": "2022-11-27T18:15:26.278Z"
   },
   {
    "duration": 20389,
    "start_time": "2022-11-27T18:21:42.729Z"
   },
   {
    "duration": 134,
    "start_time": "2022-11-27T18:22:03.120Z"
   },
   {
    "duration": 68,
    "start_time": "2022-11-27T18:22:03.255Z"
   },
   {
    "duration": 1346,
    "start_time": "2022-11-27T18:22:41.072Z"
   },
   {
    "duration": 3,
    "start_time": "2022-11-27T18:22:42.420Z"
   },
   {
    "duration": 340,
    "start_time": "2022-11-27T18:22:42.424Z"
   },
   {
    "duration": 17,
    "start_time": "2022-11-27T18:22:42.766Z"
   },
   {
    "duration": 153,
    "start_time": "2022-11-27T18:22:42.786Z"
   },
   {
    "duration": 13,
    "start_time": "2022-11-27T18:22:42.940Z"
   },
   {
    "duration": 414,
    "start_time": "2022-11-27T18:22:42.955Z"
   },
   {
    "duration": 21,
    "start_time": "2022-11-27T18:22:43.371Z"
   },
   {
    "duration": 6,
    "start_time": "2022-11-27T18:22:43.394Z"
   },
   {
    "duration": 191,
    "start_time": "2022-11-27T18:22:43.402Z"
   },
   {
    "duration": 10,
    "start_time": "2022-11-27T18:22:43.595Z"
   },
   {
    "duration": 19,
    "start_time": "2022-11-27T18:22:43.607Z"
   },
   {
    "duration": 13,
    "start_time": "2022-11-27T18:22:43.627Z"
   },
   {
    "duration": 7,
    "start_time": "2022-11-27T18:22:43.643Z"
   },
   {
    "duration": 6,
    "start_time": "2022-11-27T18:22:43.652Z"
   },
   {
    "duration": 20,
    "start_time": "2022-11-27T18:22:43.659Z"
   },
   {
    "duration": 45,
    "start_time": "2022-11-27T18:22:43.681Z"
   },
   {
    "duration": 7,
    "start_time": "2022-11-27T18:22:43.728Z"
   },
   {
    "duration": 12,
    "start_time": "2022-11-27T18:22:43.737Z"
   },
   {
    "duration": 4405,
    "start_time": "2022-11-27T18:22:43.751Z"
   },
   {
    "duration": 346,
    "start_time": "2022-11-27T18:22:48.157Z"
   },
   {
    "duration": 39,
    "start_time": "2022-11-27T18:22:48.505Z"
   },
   {
    "duration": 605,
    "start_time": "2022-11-27T18:22:48.546Z"
   },
   {
    "duration": 5,
    "start_time": "2022-11-27T18:22:49.153Z"
   },
   {
    "duration": 3118,
    "start_time": "2022-11-27T18:22:49.161Z"
   },
   {
    "duration": 179868,
    "start_time": "2022-11-27T18:22:52.281Z"
   },
   {
    "duration": 164,
    "start_time": "2022-11-27T18:25:52.151Z"
   },
   {
    "duration": 6209,
    "start_time": "2022-11-27T18:25:52.316Z"
   },
   {
    "duration": 1446,
    "start_time": "2022-11-27T18:29:44.655Z"
   },
   {
    "duration": 3,
    "start_time": "2022-11-27T18:29:46.103Z"
   },
   {
    "duration": 325,
    "start_time": "2022-11-27T18:29:46.107Z"
   },
   {
    "duration": 15,
    "start_time": "2022-11-27T18:29:46.435Z"
   },
   {
    "duration": 112,
    "start_time": "2022-11-27T18:29:46.452Z"
   },
   {
    "duration": 13,
    "start_time": "2022-11-27T18:29:46.565Z"
   },
   {
    "duration": 408,
    "start_time": "2022-11-27T18:29:46.580Z"
   },
   {
    "duration": 16,
    "start_time": "2022-11-27T18:29:46.989Z"
   },
   {
    "duration": 15,
    "start_time": "2022-11-27T18:29:47.007Z"
   },
   {
    "duration": 181,
    "start_time": "2022-11-27T18:29:47.025Z"
   },
   {
    "duration": 16,
    "start_time": "2022-11-27T18:29:47.208Z"
   },
   {
    "duration": 5,
    "start_time": "2022-11-27T18:29:47.226Z"
   },
   {
    "duration": 4,
    "start_time": "2022-11-27T18:29:47.233Z"
   },
   {
    "duration": 4,
    "start_time": "2022-11-27T18:29:47.239Z"
   },
   {
    "duration": 8,
    "start_time": "2022-11-27T18:29:47.245Z"
   },
   {
    "duration": 22,
    "start_time": "2022-11-27T18:29:47.255Z"
   },
   {
    "duration": 57,
    "start_time": "2022-11-27T18:29:47.279Z"
   },
   {
    "duration": 7,
    "start_time": "2022-11-27T18:29:47.338Z"
   },
   {
    "duration": 15,
    "start_time": "2022-11-27T18:29:47.346Z"
   },
   {
    "duration": 3685,
    "start_time": "2022-11-27T18:29:47.363Z"
   },
   {
    "duration": 355,
    "start_time": "2022-11-27T18:29:51.049Z"
   },
   {
    "duration": 46,
    "start_time": "2022-11-27T18:29:51.406Z"
   },
   {
    "duration": 649,
    "start_time": "2022-11-27T18:29:51.454Z"
   },
   {
    "duration": 34,
    "start_time": "2022-11-27T18:29:52.106Z"
   },
   {
    "duration": 614,
    "start_time": "2022-11-27T18:29:52.142Z"
   },
   {
    "duration": 18,
    "start_time": "2022-11-27T18:29:52.757Z"
   },
   {
    "duration": 26,
    "start_time": "2022-11-27T18:29:52.777Z"
   },
   {
    "duration": 16,
    "start_time": "2022-11-27T18:29:52.807Z"
   },
   {
    "duration": 6,
    "start_time": "2022-11-27T18:29:52.825Z"
   },
   {
    "duration": 3321,
    "start_time": "2022-11-27T18:29:52.833Z"
   },
   {
    "duration": 31034,
    "start_time": "2022-11-27T18:29:56.156Z"
   },
   {
    "duration": 156,
    "start_time": "2022-11-27T18:30:27.191Z"
   },
   {
    "duration": 6194,
    "start_time": "2022-11-27T18:30:27.349Z"
   },
   {
    "duration": 1367,
    "start_time": "2022-11-27T18:31:09.202Z"
   },
   {
    "duration": 3,
    "start_time": "2022-11-27T18:31:10.571Z"
   },
   {
    "duration": 334,
    "start_time": "2022-11-27T18:31:10.576Z"
   },
   {
    "duration": 22,
    "start_time": "2022-11-27T18:31:10.912Z"
   },
   {
    "duration": 107,
    "start_time": "2022-11-27T18:31:10.936Z"
   },
   {
    "duration": 14,
    "start_time": "2022-11-27T18:31:11.044Z"
   },
   {
    "duration": 398,
    "start_time": "2022-11-27T18:31:11.060Z"
   },
   {
    "duration": 16,
    "start_time": "2022-11-27T18:31:11.459Z"
   },
   {
    "duration": 4,
    "start_time": "2022-11-27T18:31:11.477Z"
   },
   {
    "duration": 196,
    "start_time": "2022-11-27T18:31:11.485Z"
   },
   {
    "duration": 8,
    "start_time": "2022-11-27T18:31:11.683Z"
   },
   {
    "duration": 5,
    "start_time": "2022-11-27T18:31:11.692Z"
   },
   {
    "duration": 24,
    "start_time": "2022-11-27T18:31:11.698Z"
   },
   {
    "duration": 5,
    "start_time": "2022-11-27T18:31:11.724Z"
   },
   {
    "duration": 5,
    "start_time": "2022-11-27T18:31:11.730Z"
   },
   {
    "duration": 17,
    "start_time": "2022-11-27T18:31:11.737Z"
   },
   {
    "duration": 17,
    "start_time": "2022-11-27T18:31:11.756Z"
   },
   {
    "duration": 7,
    "start_time": "2022-11-27T18:31:11.774Z"
   },
   {
    "duration": 40,
    "start_time": "2022-11-27T18:31:11.782Z"
   },
   {
    "duration": 3688,
    "start_time": "2022-11-27T18:31:11.824Z"
   },
   {
    "duration": 408,
    "start_time": "2022-11-27T18:31:15.514Z"
   },
   {
    "duration": 41,
    "start_time": "2022-11-27T18:31:15.923Z"
   },
   {
    "duration": 616,
    "start_time": "2022-11-27T18:31:15.966Z"
   },
   {
    "duration": 25,
    "start_time": "2022-11-27T18:31:16.584Z"
   },
   {
    "duration": 591,
    "start_time": "2022-11-27T18:31:16.611Z"
   },
   {
    "duration": 121,
    "start_time": "2022-11-27T18:31:17.204Z"
   },
   {
    "duration": 0,
    "start_time": "2022-11-27T18:31:17.327Z"
   },
   {
    "duration": 0,
    "start_time": "2022-11-27T18:31:17.328Z"
   },
   {
    "duration": 0,
    "start_time": "2022-11-27T18:31:17.329Z"
   },
   {
    "duration": 0,
    "start_time": "2022-11-27T18:31:17.330Z"
   },
   {
    "duration": 0,
    "start_time": "2022-11-27T18:31:17.332Z"
   },
   {
    "duration": 0,
    "start_time": "2022-11-27T18:31:17.333Z"
   },
   {
    "duration": 0,
    "start_time": "2022-11-27T18:31:17.334Z"
   },
   {
    "duration": 0,
    "start_time": "2022-11-27T18:31:17.335Z"
   },
   {
    "duration": 0,
    "start_time": "2022-11-27T18:31:17.336Z"
   },
   {
    "duration": 0,
    "start_time": "2022-11-27T18:31:17.338Z"
   },
   {
    "duration": 0,
    "start_time": "2022-11-27T18:31:17.339Z"
   },
   {
    "duration": 1407,
    "start_time": "2022-11-27T18:44:55.822Z"
   },
   {
    "duration": 2,
    "start_time": "2022-11-27T18:44:57.231Z"
   },
   {
    "duration": 351,
    "start_time": "2022-11-27T18:44:57.235Z"
   },
   {
    "duration": 16,
    "start_time": "2022-11-27T18:44:57.588Z"
   },
   {
    "duration": 118,
    "start_time": "2022-11-27T18:44:57.605Z"
   },
   {
    "duration": 17,
    "start_time": "2022-11-27T18:44:57.724Z"
   },
   {
    "duration": 409,
    "start_time": "2022-11-27T18:44:57.743Z"
   },
   {
    "duration": 16,
    "start_time": "2022-11-27T18:44:58.153Z"
   },
   {
    "duration": 4,
    "start_time": "2022-11-27T18:44:58.170Z"
   },
   {
    "duration": 192,
    "start_time": "2022-11-27T18:44:58.176Z"
   },
   {
    "duration": 9,
    "start_time": "2022-11-27T18:44:58.369Z"
   },
   {
    "duration": 7,
    "start_time": "2022-11-27T18:44:58.379Z"
   },
   {
    "duration": 5,
    "start_time": "2022-11-27T18:44:58.388Z"
   },
   {
    "duration": 9,
    "start_time": "2022-11-27T18:44:58.395Z"
   },
   {
    "duration": 10,
    "start_time": "2022-11-27T18:44:58.421Z"
   },
   {
    "duration": 19,
    "start_time": "2022-11-27T18:44:58.433Z"
   },
   {
    "duration": 20,
    "start_time": "2022-11-27T18:44:58.454Z"
   },
   {
    "duration": 11,
    "start_time": "2022-11-27T18:44:58.476Z"
   },
   {
    "duration": 13,
    "start_time": "2022-11-27T18:44:58.489Z"
   },
   {
    "duration": 3704,
    "start_time": "2022-11-27T18:44:58.504Z"
   },
   {
    "duration": 393,
    "start_time": "2022-11-27T18:45:02.210Z"
   },
   {
    "duration": 46,
    "start_time": "2022-11-27T18:45:02.605Z"
   },
   {
    "duration": 584,
    "start_time": "2022-11-27T18:45:02.653Z"
   },
   {
    "duration": 21,
    "start_time": "2022-11-27T18:45:03.239Z"
   },
   {
    "duration": 6,
    "start_time": "2022-11-27T18:45:03.262Z"
   },
   {
    "duration": 33,
    "start_time": "2022-11-27T18:45:03.270Z"
   },
   {
    "duration": 17,
    "start_time": "2022-11-27T18:45:03.305Z"
   },
   {
    "duration": 190,
    "start_time": "2022-11-27T18:45:03.325Z"
   },
   {
    "duration": 86,
    "start_time": "2022-11-27T18:45:03.517Z"
   },
   {
    "duration": 16,
    "start_time": "2022-11-27T18:45:03.605Z"
   },
   {
    "duration": 0,
    "start_time": "2022-11-27T18:45:03.623Z"
   },
   {
    "duration": 0,
    "start_time": "2022-11-27T18:45:03.624Z"
   },
   {
    "duration": 0,
    "start_time": "2022-11-27T18:45:03.625Z"
   },
   {
    "duration": 0,
    "start_time": "2022-11-27T18:45:03.626Z"
   },
   {
    "duration": 0,
    "start_time": "2022-11-27T18:45:03.628Z"
   },
   {
    "duration": 15,
    "start_time": "2022-11-27T18:46:52.679Z"
   },
   {
    "duration": 4,
    "start_time": "2022-11-27T18:47:08.175Z"
   },
   {
    "duration": 1410,
    "start_time": "2022-11-27T18:47:43.000Z"
   },
   {
    "duration": 2,
    "start_time": "2022-11-27T18:47:44.412Z"
   },
   {
    "duration": 372,
    "start_time": "2022-11-27T18:47:44.416Z"
   },
   {
    "duration": 16,
    "start_time": "2022-11-27T18:47:44.790Z"
   },
   {
    "duration": 115,
    "start_time": "2022-11-27T18:47:44.808Z"
   },
   {
    "duration": 17,
    "start_time": "2022-11-27T18:47:44.925Z"
   },
   {
    "duration": 396,
    "start_time": "2022-11-27T18:47:44.943Z"
   },
   {
    "duration": 17,
    "start_time": "2022-11-27T18:47:45.341Z"
   },
   {
    "duration": 6,
    "start_time": "2022-11-27T18:47:45.360Z"
   },
   {
    "duration": 200,
    "start_time": "2022-11-27T18:47:45.373Z"
   },
   {
    "duration": 11,
    "start_time": "2022-11-27T18:47:45.575Z"
   },
   {
    "duration": 10,
    "start_time": "2022-11-27T18:47:45.588Z"
   },
   {
    "duration": 14,
    "start_time": "2022-11-27T18:47:45.599Z"
   },
   {
    "duration": 3,
    "start_time": "2022-11-27T18:47:45.622Z"
   },
   {
    "duration": 15,
    "start_time": "2022-11-27T18:47:45.627Z"
   },
   {
    "duration": 27,
    "start_time": "2022-11-27T18:47:45.644Z"
   },
   {
    "duration": 29,
    "start_time": "2022-11-27T18:47:45.673Z"
   },
   {
    "duration": 11,
    "start_time": "2022-11-27T18:47:45.704Z"
   },
   {
    "duration": 13,
    "start_time": "2022-11-27T18:47:45.717Z"
   },
   {
    "duration": 3592,
    "start_time": "2022-11-27T18:47:45.732Z"
   },
   {
    "duration": 362,
    "start_time": "2022-11-27T18:47:49.326Z"
   },
   {
    "duration": 50,
    "start_time": "2022-11-27T18:47:49.689Z"
   },
   {
    "duration": 605,
    "start_time": "2022-11-27T18:47:49.741Z"
   },
   {
    "duration": 20,
    "start_time": "2022-11-27T18:47:50.348Z"
   },
   {
    "duration": 6,
    "start_time": "2022-11-27T18:47:50.369Z"
   },
   {
    "duration": 22,
    "start_time": "2022-11-27T18:47:50.377Z"
   },
   {
    "duration": 24,
    "start_time": "2022-11-27T18:47:50.401Z"
   },
   {
    "duration": 201,
    "start_time": "2022-11-27T18:47:50.427Z"
   },
   {
    "duration": 6074,
    "start_time": "2022-11-27T18:47:50.629Z"
   },
   {
    "duration": 7,
    "start_time": "2022-11-27T18:47:56.705Z"
   },
   {
    "duration": 251,
    "start_time": "2022-11-27T18:47:56.722Z"
   },
   {
    "duration": 9608,
    "start_time": "2022-11-27T18:47:56.975Z"
   },
   {
    "duration": 384,
    "start_time": "2022-11-27T18:48:06.585Z"
   },
   {
    "duration": 19,
    "start_time": "2022-11-27T18:48:06.971Z"
   },
   {
    "duration": 30,
    "start_time": "2022-11-27T18:48:06.993Z"
   },
   {
    "duration": 4,
    "start_time": "2022-11-27T18:49:11.457Z"
   },
   {
    "duration": 4,
    "start_time": "2022-11-27T18:49:24.593Z"
   },
   {
    "duration": 1367,
    "start_time": "2022-11-27T18:51:16.913Z"
   },
   {
    "duration": 2,
    "start_time": "2022-11-27T18:51:18.282Z"
   },
   {
    "duration": 350,
    "start_time": "2022-11-27T18:51:18.286Z"
   },
   {
    "duration": 15,
    "start_time": "2022-11-27T18:51:18.638Z"
   },
   {
    "duration": 114,
    "start_time": "2022-11-27T18:51:18.655Z"
   },
   {
    "duration": 14,
    "start_time": "2022-11-27T18:51:18.770Z"
   },
   {
    "duration": 413,
    "start_time": "2022-11-27T18:51:18.785Z"
   },
   {
    "duration": 24,
    "start_time": "2022-11-27T18:51:19.199Z"
   },
   {
    "duration": 4,
    "start_time": "2022-11-27T18:51:19.225Z"
   },
   {
    "duration": 174,
    "start_time": "2022-11-27T18:51:19.232Z"
   },
   {
    "duration": 19,
    "start_time": "2022-11-27T18:51:19.407Z"
   },
   {
    "duration": 5,
    "start_time": "2022-11-27T18:51:19.427Z"
   },
   {
    "duration": 10,
    "start_time": "2022-11-27T18:51:19.434Z"
   },
   {
    "duration": 5,
    "start_time": "2022-11-27T18:51:19.446Z"
   },
   {
    "duration": 8,
    "start_time": "2022-11-27T18:51:19.453Z"
   },
   {
    "duration": 19,
    "start_time": "2022-11-27T18:51:19.463Z"
   },
   {
    "duration": 19,
    "start_time": "2022-11-27T18:51:19.484Z"
   },
   {
    "duration": 7,
    "start_time": "2022-11-27T18:51:19.522Z"
   },
   {
    "duration": 13,
    "start_time": "2022-11-27T18:51:19.530Z"
   },
   {
    "duration": 3551,
    "start_time": "2022-11-27T18:51:19.545Z"
   },
   {
    "duration": 397,
    "start_time": "2022-11-27T18:51:23.097Z"
   },
   {
    "duration": 46,
    "start_time": "2022-11-27T18:51:23.495Z"
   },
   {
    "duration": 614,
    "start_time": "2022-11-27T18:51:23.543Z"
   },
   {
    "duration": 20,
    "start_time": "2022-11-27T18:51:24.159Z"
   },
   {
    "duration": 7,
    "start_time": "2022-11-27T18:51:24.181Z"
   },
   {
    "duration": 143,
    "start_time": "2022-11-27T18:51:24.189Z"
   },
   {
    "duration": 0,
    "start_time": "2022-11-27T18:51:24.334Z"
   },
   {
    "duration": 0,
    "start_time": "2022-11-27T18:51:24.335Z"
   },
   {
    "duration": 0,
    "start_time": "2022-11-27T18:51:24.336Z"
   },
   {
    "duration": 0,
    "start_time": "2022-11-27T18:51:24.337Z"
   },
   {
    "duration": 0,
    "start_time": "2022-11-27T18:51:24.338Z"
   },
   {
    "duration": 0,
    "start_time": "2022-11-27T18:51:24.339Z"
   },
   {
    "duration": 0,
    "start_time": "2022-11-27T18:51:24.340Z"
   },
   {
    "duration": 0,
    "start_time": "2022-11-27T18:51:24.340Z"
   },
   {
    "duration": 0,
    "start_time": "2022-11-27T18:51:24.341Z"
   },
   {
    "duration": 37,
    "start_time": "2022-11-27T18:52:00.637Z"
   },
   {
    "duration": 45,
    "start_time": "2022-11-27T18:52:12.895Z"
   },
   {
    "duration": 1380,
    "start_time": "2022-11-27T18:52:25.895Z"
   },
   {
    "duration": 3,
    "start_time": "2022-11-27T18:52:27.277Z"
   },
   {
    "duration": 329,
    "start_time": "2022-11-27T18:52:27.281Z"
   },
   {
    "duration": 22,
    "start_time": "2022-11-27T18:52:27.612Z"
   },
   {
    "duration": 110,
    "start_time": "2022-11-27T18:52:27.635Z"
   },
   {
    "duration": 14,
    "start_time": "2022-11-27T18:52:27.746Z"
   },
   {
    "duration": 380,
    "start_time": "2022-11-27T18:52:27.762Z"
   },
   {
    "duration": 15,
    "start_time": "2022-11-27T18:52:28.144Z"
   },
   {
    "duration": 4,
    "start_time": "2022-11-27T18:52:28.161Z"
   },
   {
    "duration": 173,
    "start_time": "2022-11-27T18:52:28.167Z"
   },
   {
    "duration": 9,
    "start_time": "2022-11-27T18:52:28.341Z"
   },
   {
    "duration": 5,
    "start_time": "2022-11-27T18:52:28.351Z"
   },
   {
    "duration": 4,
    "start_time": "2022-11-27T18:52:28.357Z"
   },
   {
    "duration": 9,
    "start_time": "2022-11-27T18:52:28.363Z"
   },
   {
    "duration": 6,
    "start_time": "2022-11-27T18:52:28.373Z"
   },
   {
    "duration": 45,
    "start_time": "2022-11-27T18:52:28.381Z"
   },
   {
    "duration": 18,
    "start_time": "2022-11-27T18:52:28.428Z"
   },
   {
    "duration": 12,
    "start_time": "2022-11-27T18:52:28.448Z"
   },
   {
    "duration": 11,
    "start_time": "2022-11-27T18:52:28.462Z"
   },
   {
    "duration": 3553,
    "start_time": "2022-11-27T18:52:28.475Z"
   },
   {
    "duration": 370,
    "start_time": "2022-11-27T18:52:32.030Z"
   },
   {
    "duration": 46,
    "start_time": "2022-11-27T18:52:32.402Z"
   },
   {
    "duration": 582,
    "start_time": "2022-11-27T18:52:32.450Z"
   },
   {
    "duration": 18,
    "start_time": "2022-11-27T18:52:33.034Z"
   },
   {
    "duration": 5,
    "start_time": "2022-11-27T18:52:33.054Z"
   },
   {
    "duration": 51,
    "start_time": "2022-11-27T18:52:33.061Z"
   },
   {
    "duration": 4,
    "start_time": "2022-11-27T18:52:33.121Z"
   },
   {
    "duration": 2987,
    "start_time": "2022-11-27T18:52:33.128Z"
   },
   {
    "duration": 164124,
    "start_time": "2022-11-27T18:52:36.117Z"
   },
   {
    "duration": 157,
    "start_time": "2022-11-27T18:55:20.242Z"
   },
   {
    "duration": 6133,
    "start_time": "2022-11-27T18:55:20.401Z"
   },
   {
    "duration": 1353,
    "start_time": "2022-11-27T19:01:04.963Z"
   },
   {
    "duration": 3,
    "start_time": "2022-11-27T19:01:06.318Z"
   },
   {
    "duration": 327,
    "start_time": "2022-11-27T19:01:06.322Z"
   },
   {
    "duration": 15,
    "start_time": "2022-11-27T19:01:06.652Z"
   },
   {
    "duration": 111,
    "start_time": "2022-11-27T19:01:06.669Z"
   },
   {
    "duration": 14,
    "start_time": "2022-11-27T19:01:06.782Z"
   },
   {
    "duration": 385,
    "start_time": "2022-11-27T19:01:06.798Z"
   },
   {
    "duration": 16,
    "start_time": "2022-11-27T19:01:07.185Z"
   },
   {
    "duration": 4,
    "start_time": "2022-11-27T19:01:07.203Z"
   },
   {
    "duration": 199,
    "start_time": "2022-11-27T19:01:07.224Z"
   },
   {
    "duration": 8,
    "start_time": "2022-11-27T19:01:07.424Z"
   },
   {
    "duration": 6,
    "start_time": "2022-11-27T19:01:07.434Z"
   },
   {
    "duration": 8,
    "start_time": "2022-11-27T19:01:07.441Z"
   },
   {
    "duration": 6,
    "start_time": "2022-11-27T19:01:07.450Z"
   },
   {
    "duration": 7,
    "start_time": "2022-11-27T19:01:07.458Z"
   },
   {
    "duration": 55,
    "start_time": "2022-11-27T19:01:07.466Z"
   },
   {
    "duration": 19,
    "start_time": "2022-11-27T19:01:07.523Z"
   },
   {
    "duration": 13,
    "start_time": "2022-11-27T19:01:07.544Z"
   },
   {
    "duration": 12,
    "start_time": "2022-11-27T19:01:07.558Z"
   },
   {
    "duration": 4175,
    "start_time": "2022-11-27T19:01:07.572Z"
   },
   {
    "duration": 452,
    "start_time": "2022-11-27T19:01:11.749Z"
   },
   {
    "duration": 49,
    "start_time": "2022-11-27T19:01:12.203Z"
   },
   {
    "duration": 575,
    "start_time": "2022-11-27T19:01:12.254Z"
   },
   {
    "duration": 20,
    "start_time": "2022-11-27T19:01:12.831Z"
   },
   {
    "duration": 6,
    "start_time": "2022-11-27T19:01:12.852Z"
   },
   {
    "duration": 45,
    "start_time": "2022-11-27T19:01:12.860Z"
   },
   {
    "duration": 15,
    "start_time": "2022-11-27T19:01:12.907Z"
   },
   {
    "duration": 2918,
    "start_time": "2022-11-27T19:01:12.925Z"
   },
   {
    "duration": 165950,
    "start_time": "2022-11-27T19:01:15.845Z"
   },
   {
    "duration": 8894,
    "start_time": "2022-11-27T19:04:01.796Z"
   },
   {
    "duration": 6043,
    "start_time": "2022-11-27T19:04:10.691Z"
   },
   {
    "duration": 357060,
    "start_time": "2022-11-27T19:04:16.736Z"
   },
   {
    "duration": 19419,
    "start_time": "2022-11-27T19:10:13.798Z"
   },
   {
    "duration": 455,
    "start_time": "2022-11-27T19:10:33.219Z"
   },
   {
    "duration": 187,
    "start_time": "2022-11-27T19:10:33.676Z"
   }
  ],
  "kernelspec": {
   "display_name": "Python 3 (ipykernel)",
   "language": "python",
   "name": "python3"
  },
  "language_info": {
   "codemirror_mode": {
    "name": "ipython",
    "version": 3
   },
   "file_extension": ".py",
   "mimetype": "text/x-python",
   "name": "python",
   "nbconvert_exporter": "python",
   "pygments_lexer": "ipython3",
   "version": "3.10.7"
  },
  "toc": {
   "base_numbering": 1,
   "nav_menu": {},
   "number_sections": true,
   "sideBar": true,
   "skip_h1_title": true,
   "title_cell": "Содержание",
   "title_sidebar": "Contents",
   "toc_cell": true,
   "toc_position": {},
   "toc_section_display": true,
   "toc_window_display": false
  }
 },
 "nbformat": 4,
 "nbformat_minor": 2
}
