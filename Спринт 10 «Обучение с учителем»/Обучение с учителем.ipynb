{
 "cells": [
  {
   "cell_type": "markdown",
   "metadata": {},
   "source": [
    "# Спринт 10 «Обучение с учителем»"
   ]
  },
  {
   "cell_type": "markdown",
   "metadata": {},
   "source": [
    "# Проект «Отток клиентов»"
   ]
  },
  {
   "cell_type": "markdown",
   "metadata": {},
   "source": [
    "## Навигация\n",
    "\n",
    "1. [Описание проекта](#Описание-проекта)\n",
    "1. [Описание данных](#Описание-данных)\n",
    "1. [Предобработка данных](#Предобработка-данных)\n",
    "1. [Борьба с дисбалансом](#Борьба-с-дисбалансом)\n",
    "1. [Тестирование модели](#Тестирование-модели)\n",
    "1. [Общие выводы](#Общие-выводы)"
   ]
  },
  {
   "cell_type": "markdown",
   "metadata": {},
   "source": [
    "## Описание проекта\n",
    "\n",
    "[к навигации](#Навигация)\n",
    "\n",
    "Из «Бета-Банка» стали уходить клиенты. Каждый месяц. Немного, но заметно. Банковские маркетологи посчитали: сохранять текущих клиентов дешевле, чем привлекать новых.\n",
    "\n",
    "Нужно спрогнозировать, уйдёт клиент из банка в ближайшее время или нет. Нам предоставлены исторические данные о поведении клиентов и расторжении договоров с банком. \n",
    "\n",
    "Необходимо построить модель с предельно большим значением *F1*-меры.\n",
    "\n",
    "Источник данных: [https://www.kaggle.com/barelydedicated/bank-customer-churn-modeling](https://www.kaggle.com/barelydedicated/bank-customer-churn-modeling)"
   ]
  },
  {
   "cell_type": "markdown",
   "metadata": {},
   "source": [
    "## Описание данных\n",
    "\n",
    "[к навигации](#Навигация)\n",
    "\n",
    "**Признаки**\n",
    "- `RowNumber` — индекс строки в данных\n",
    "- `CustomerId` — уникальный идентификатор клиента\n",
    "- `Surname` — фамилия\n",
    "- `CreditScore` — кредитный рейтинг\n",
    "- `Geography` — страна проживания\n",
    "- `Gender` — пол\n",
    "- `Age` — возраст\n",
    "- `Tenure` — сколько лет человек является клиентом банка\n",
    "- `Balance` — баланс на счёте\n",
    "- `NumOfProducts` — количество продуктов банка, используемых клиентом\n",
    "- `HasCrCard` — наличие кредитной карты\n",
    "- `IsActiveMember` — активность клиента\n",
    "- `EstimatedSalary` — предполагаемая зарплата\n",
    "\n",
    "**Целевой признак**\n",
    "- `Exited` — факт ухода клиента"
   ]
  },
  {
   "cell_type": "code",
   "execution_count": 1,
   "metadata": {},
   "outputs": [],
   "source": [
    "import os\n",
    "\n",
    "import matplotlib.pyplot as plt\n",
    "%matplotlib inline\n",
    "import numpy as np\n",
    "import pandas as pd\n",
    "from sklearn.ensemble import RandomForestClassifier\n",
    "from sklearn.metrics import classification_report\n",
    "from sklearn.metrics import ConfusionMatrixDisplay\n",
    "from sklearn.metrics import f1_score\n",
    "from sklearn.metrics import RocCurveDisplay\n",
    "from sklearn.metrics import roc_auc_score\n",
    "from sklearn.metrics import PrecisionRecallDisplay\n",
    "from sklearn.model_selection import GridSearchCV\n",
    "from sklearn.model_selection import train_test_split\n",
    "from sklearn.model_selection import StratifiedShuffleSplit\n",
    "from sklearn.linear_model import LogisticRegression\n",
    "from sklearn.tree import DecisionTreeClassifier\n",
    "from sklearn.utils import shuffle"
   ]
  },
  {
   "cell_type": "code",
   "execution_count": 2,
   "metadata": {},
   "outputs": [],
   "source": [
    "RANDOM_STATE = 42"
   ]
  },
  {
   "cell_type": "code",
   "execution_count": 3,
   "metadata": {},
   "outputs": [
    {
     "data": {
      "text/html": [
       "<div>\n",
       "<style scoped>\n",
       "    .dataframe tbody tr th:only-of-type {\n",
       "        vertical-align: middle;\n",
       "    }\n",
       "\n",
       "    .dataframe tbody tr th {\n",
       "        vertical-align: top;\n",
       "    }\n",
       "\n",
       "    .dataframe thead th {\n",
       "        text-align: right;\n",
       "    }\n",
       "</style>\n",
       "<table border=\"1\" class=\"dataframe\">\n",
       "  <thead>\n",
       "    <tr style=\"text-align: right;\">\n",
       "      <th></th>\n",
       "      <th>row_number</th>\n",
       "      <th>customer_id</th>\n",
       "      <th>surname</th>\n",
       "      <th>credit_score</th>\n",
       "      <th>geography</th>\n",
       "      <th>gender</th>\n",
       "      <th>age</th>\n",
       "      <th>tenure</th>\n",
       "      <th>balance</th>\n",
       "      <th>num_of_products</th>\n",
       "      <th>has_cr_card</th>\n",
       "      <th>is_active_member</th>\n",
       "      <th>estimated_salary</th>\n",
       "      <th>exited</th>\n",
       "    </tr>\n",
       "  </thead>\n",
       "  <tbody>\n",
       "    <tr>\n",
       "      <th>0</th>\n",
       "      <td>1</td>\n",
       "      <td>15634602</td>\n",
       "      <td>Hargrave</td>\n",
       "      <td>619</td>\n",
       "      <td>France</td>\n",
       "      <td>Female</td>\n",
       "      <td>42</td>\n",
       "      <td>2.0</td>\n",
       "      <td>0.00</td>\n",
       "      <td>1</td>\n",
       "      <td>1</td>\n",
       "      <td>1</td>\n",
       "      <td>101348.88</td>\n",
       "      <td>1</td>\n",
       "    </tr>\n",
       "    <tr>\n",
       "      <th>1</th>\n",
       "      <td>2</td>\n",
       "      <td>15647311</td>\n",
       "      <td>Hill</td>\n",
       "      <td>608</td>\n",
       "      <td>Spain</td>\n",
       "      <td>Female</td>\n",
       "      <td>41</td>\n",
       "      <td>1.0</td>\n",
       "      <td>83807.86</td>\n",
       "      <td>1</td>\n",
       "      <td>0</td>\n",
       "      <td>1</td>\n",
       "      <td>112542.58</td>\n",
       "      <td>0</td>\n",
       "    </tr>\n",
       "    <tr>\n",
       "      <th>2</th>\n",
       "      <td>3</td>\n",
       "      <td>15619304</td>\n",
       "      <td>Onio</td>\n",
       "      <td>502</td>\n",
       "      <td>France</td>\n",
       "      <td>Female</td>\n",
       "      <td>42</td>\n",
       "      <td>8.0</td>\n",
       "      <td>159660.80</td>\n",
       "      <td>3</td>\n",
       "      <td>1</td>\n",
       "      <td>0</td>\n",
       "      <td>113931.57</td>\n",
       "      <td>1</td>\n",
       "    </tr>\n",
       "    <tr>\n",
       "      <th>3</th>\n",
       "      <td>4</td>\n",
       "      <td>15701354</td>\n",
       "      <td>Boni</td>\n",
       "      <td>699</td>\n",
       "      <td>France</td>\n",
       "      <td>Female</td>\n",
       "      <td>39</td>\n",
       "      <td>1.0</td>\n",
       "      <td>0.00</td>\n",
       "      <td>2</td>\n",
       "      <td>0</td>\n",
       "      <td>0</td>\n",
       "      <td>93826.63</td>\n",
       "      <td>0</td>\n",
       "    </tr>\n",
       "    <tr>\n",
       "      <th>4</th>\n",
       "      <td>5</td>\n",
       "      <td>15737888</td>\n",
       "      <td>Mitchell</td>\n",
       "      <td>850</td>\n",
       "      <td>Spain</td>\n",
       "      <td>Female</td>\n",
       "      <td>43</td>\n",
       "      <td>2.0</td>\n",
       "      <td>125510.82</td>\n",
       "      <td>1</td>\n",
       "      <td>1</td>\n",
       "      <td>1</td>\n",
       "      <td>79084.10</td>\n",
       "      <td>0</td>\n",
       "    </tr>\n",
       "  </tbody>\n",
       "</table>\n",
       "</div>"
      ],
      "text/plain": [
       "   row_number  customer_id   surname  credit_score geography  gender  age  \\\n",
       "0           1     15634602  Hargrave           619    France  Female   42   \n",
       "1           2     15647311      Hill           608     Spain  Female   41   \n",
       "2           3     15619304      Onio           502    France  Female   42   \n",
       "3           4     15701354      Boni           699    France  Female   39   \n",
       "4           5     15737888  Mitchell           850     Spain  Female   43   \n",
       "\n",
       "   tenure    balance  num_of_products  has_cr_card  is_active_member  \\\n",
       "0     2.0       0.00                1            1                 1   \n",
       "1     1.0   83807.86                1            0                 1   \n",
       "2     8.0  159660.80                3            1                 0   \n",
       "3     1.0       0.00                2            0                 0   \n",
       "4     2.0  125510.82                1            1                 1   \n",
       "\n",
       "   estimated_salary  exited  \n",
       "0         101348.88       1  \n",
       "1         112542.58       0  \n",
       "2         113931.57       1  \n",
       "3          93826.63       0  \n",
       "4          79084.10       0  "
      ]
     },
     "execution_count": 3,
     "metadata": {},
     "output_type": "execute_result"
    }
   ],
   "source": [
    "data = pd.read_csv(\n",
    "    os.path.join('..', 'datasets', 'Churn.csv'),\n",
    "    dtype={\n",
    "        'Geography': 'category',\n",
    "        'Gender': 'category',\n",
    "    },\n",
    ")\n",
    "data = data.rename(columns={\n",
    "    'RowNumber': 'row_number',\n",
    "    'CustomerId': 'customer_id',\n",
    "    'Surname': 'surname',\n",
    "    'CreditScore': 'credit_score',\n",
    "    'Geography': 'geography',\n",
    "    'Gender': 'gender',\n",
    "    'Age': 'age',\n",
    "    'Tenure': 'tenure',\n",
    "    'Balance': 'balance',\n",
    "    'NumOfProducts': 'num_of_products',\n",
    "    'HasCrCard': 'has_cr_card',\n",
    "    'IsActiveMember': 'is_active_member',\n",
    "    'EstimatedSalary': 'estimated_salary',\n",
    "    'Exited': 'exited',\n",
    "})\n",
    "data.head()"
   ]
  },
  {
   "cell_type": "code",
   "execution_count": 4,
   "metadata": {},
   "outputs": [
    {
     "name": "stdout",
     "output_type": "stream",
     "text": [
      "<class 'pandas.core.frame.DataFrame'>\n",
      "RangeIndex: 10000 entries, 0 to 9999\n",
      "Data columns (total 14 columns):\n",
      " #   Column            Non-Null Count  Dtype   \n",
      "---  ------            --------------  -----   \n",
      " 0   row_number        10000 non-null  int64   \n",
      " 1   customer_id       10000 non-null  int64   \n",
      " 2   surname           10000 non-null  object  \n",
      " 3   credit_score      10000 non-null  int64   \n",
      " 4   geography         10000 non-null  category\n",
      " 5   gender            10000 non-null  category\n",
      " 6   age               10000 non-null  int64   \n",
      " 7   tenure            9091 non-null   float64 \n",
      " 8   balance           10000 non-null  float64 \n",
      " 9   num_of_products   10000 non-null  int64   \n",
      " 10  has_cr_card       10000 non-null  int64   \n",
      " 11  is_active_member  10000 non-null  int64   \n",
      " 12  estimated_salary  10000 non-null  float64 \n",
      " 13  exited            10000 non-null  int64   \n",
      "dtypes: category(2), float64(3), int64(8), object(1)\n",
      "memory usage: 957.3+ KB\n"
     ]
    }
   ],
   "source": [
    "data.info()"
   ]
  },
  {
   "cell_type": "code",
   "execution_count": 5,
   "metadata": {},
   "outputs": [
    {
     "data": {
      "text/html": [
       "<div>\n",
       "<style scoped>\n",
       "    .dataframe tbody tr th:only-of-type {\n",
       "        vertical-align: middle;\n",
       "    }\n",
       "\n",
       "    .dataframe tbody tr th {\n",
       "        vertical-align: top;\n",
       "    }\n",
       "\n",
       "    .dataframe thead th {\n",
       "        text-align: right;\n",
       "    }\n",
       "</style>\n",
       "<table border=\"1\" class=\"dataframe\">\n",
       "  <thead>\n",
       "    <tr style=\"text-align: right;\">\n",
       "      <th></th>\n",
       "      <th>row_number</th>\n",
       "      <th>customer_id</th>\n",
       "      <th>credit_score</th>\n",
       "      <th>age</th>\n",
       "      <th>tenure</th>\n",
       "      <th>balance</th>\n",
       "      <th>num_of_products</th>\n",
       "      <th>has_cr_card</th>\n",
       "      <th>is_active_member</th>\n",
       "      <th>estimated_salary</th>\n",
       "      <th>exited</th>\n",
       "    </tr>\n",
       "  </thead>\n",
       "  <tbody>\n",
       "    <tr>\n",
       "      <th>count</th>\n",
       "      <td>10000.00000</td>\n",
       "      <td>1.000000e+04</td>\n",
       "      <td>10000.000000</td>\n",
       "      <td>10000.000000</td>\n",
       "      <td>9091.000000</td>\n",
       "      <td>10000.000000</td>\n",
       "      <td>10000.000000</td>\n",
       "      <td>10000.00000</td>\n",
       "      <td>10000.000000</td>\n",
       "      <td>10000.000000</td>\n",
       "      <td>10000.000000</td>\n",
       "    </tr>\n",
       "    <tr>\n",
       "      <th>mean</th>\n",
       "      <td>5000.50000</td>\n",
       "      <td>1.569094e+07</td>\n",
       "      <td>650.528800</td>\n",
       "      <td>38.921800</td>\n",
       "      <td>4.997690</td>\n",
       "      <td>76485.889288</td>\n",
       "      <td>1.530200</td>\n",
       "      <td>0.70550</td>\n",
       "      <td>0.515100</td>\n",
       "      <td>100090.239881</td>\n",
       "      <td>0.203700</td>\n",
       "    </tr>\n",
       "    <tr>\n",
       "      <th>std</th>\n",
       "      <td>2886.89568</td>\n",
       "      <td>7.193619e+04</td>\n",
       "      <td>96.653299</td>\n",
       "      <td>10.487806</td>\n",
       "      <td>2.894723</td>\n",
       "      <td>62397.405202</td>\n",
       "      <td>0.581654</td>\n",
       "      <td>0.45584</td>\n",
       "      <td>0.499797</td>\n",
       "      <td>57510.492818</td>\n",
       "      <td>0.402769</td>\n",
       "    </tr>\n",
       "    <tr>\n",
       "      <th>min</th>\n",
       "      <td>1.00000</td>\n",
       "      <td>1.556570e+07</td>\n",
       "      <td>350.000000</td>\n",
       "      <td>18.000000</td>\n",
       "      <td>0.000000</td>\n",
       "      <td>0.000000</td>\n",
       "      <td>1.000000</td>\n",
       "      <td>0.00000</td>\n",
       "      <td>0.000000</td>\n",
       "      <td>11.580000</td>\n",
       "      <td>0.000000</td>\n",
       "    </tr>\n",
       "    <tr>\n",
       "      <th>25%</th>\n",
       "      <td>2500.75000</td>\n",
       "      <td>1.562853e+07</td>\n",
       "      <td>584.000000</td>\n",
       "      <td>32.000000</td>\n",
       "      <td>2.000000</td>\n",
       "      <td>0.000000</td>\n",
       "      <td>1.000000</td>\n",
       "      <td>0.00000</td>\n",
       "      <td>0.000000</td>\n",
       "      <td>51002.110000</td>\n",
       "      <td>0.000000</td>\n",
       "    </tr>\n",
       "    <tr>\n",
       "      <th>50%</th>\n",
       "      <td>5000.50000</td>\n",
       "      <td>1.569074e+07</td>\n",
       "      <td>652.000000</td>\n",
       "      <td>37.000000</td>\n",
       "      <td>5.000000</td>\n",
       "      <td>97198.540000</td>\n",
       "      <td>1.000000</td>\n",
       "      <td>1.00000</td>\n",
       "      <td>1.000000</td>\n",
       "      <td>100193.915000</td>\n",
       "      <td>0.000000</td>\n",
       "    </tr>\n",
       "    <tr>\n",
       "      <th>75%</th>\n",
       "      <td>7500.25000</td>\n",
       "      <td>1.575323e+07</td>\n",
       "      <td>718.000000</td>\n",
       "      <td>44.000000</td>\n",
       "      <td>7.000000</td>\n",
       "      <td>127644.240000</td>\n",
       "      <td>2.000000</td>\n",
       "      <td>1.00000</td>\n",
       "      <td>1.000000</td>\n",
       "      <td>149388.247500</td>\n",
       "      <td>0.000000</td>\n",
       "    </tr>\n",
       "    <tr>\n",
       "      <th>max</th>\n",
       "      <td>10000.00000</td>\n",
       "      <td>1.581569e+07</td>\n",
       "      <td>850.000000</td>\n",
       "      <td>92.000000</td>\n",
       "      <td>10.000000</td>\n",
       "      <td>250898.090000</td>\n",
       "      <td>4.000000</td>\n",
       "      <td>1.00000</td>\n",
       "      <td>1.000000</td>\n",
       "      <td>199992.480000</td>\n",
       "      <td>1.000000</td>\n",
       "    </tr>\n",
       "  </tbody>\n",
       "</table>\n",
       "</div>"
      ],
      "text/plain": [
       "        row_number   customer_id  credit_score           age       tenure  \\\n",
       "count  10000.00000  1.000000e+04  10000.000000  10000.000000  9091.000000   \n",
       "mean    5000.50000  1.569094e+07    650.528800     38.921800     4.997690   \n",
       "std     2886.89568  7.193619e+04     96.653299     10.487806     2.894723   \n",
       "min        1.00000  1.556570e+07    350.000000     18.000000     0.000000   \n",
       "25%     2500.75000  1.562853e+07    584.000000     32.000000     2.000000   \n",
       "50%     5000.50000  1.569074e+07    652.000000     37.000000     5.000000   \n",
       "75%     7500.25000  1.575323e+07    718.000000     44.000000     7.000000   \n",
       "max    10000.00000  1.581569e+07    850.000000     92.000000    10.000000   \n",
       "\n",
       "             balance  num_of_products  has_cr_card  is_active_member  \\\n",
       "count   10000.000000     10000.000000  10000.00000      10000.000000   \n",
       "mean    76485.889288         1.530200      0.70550          0.515100   \n",
       "std     62397.405202         0.581654      0.45584          0.499797   \n",
       "min         0.000000         1.000000      0.00000          0.000000   \n",
       "25%         0.000000         1.000000      0.00000          0.000000   \n",
       "50%     97198.540000         1.000000      1.00000          1.000000   \n",
       "75%    127644.240000         2.000000      1.00000          1.000000   \n",
       "max    250898.090000         4.000000      1.00000          1.000000   \n",
       "\n",
       "       estimated_salary        exited  \n",
       "count      10000.000000  10000.000000  \n",
       "mean      100090.239881      0.203700  \n",
       "std        57510.492818      0.402769  \n",
       "min           11.580000      0.000000  \n",
       "25%        51002.110000      0.000000  \n",
       "50%       100193.915000      0.000000  \n",
       "75%       149388.247500      0.000000  \n",
       "max       199992.480000      1.000000  "
      ]
     },
     "execution_count": 5,
     "metadata": {},
     "output_type": "execute_result"
    }
   ],
   "source": [
    "data.describe()"
   ]
  },
  {
   "cell_type": "markdown",
   "metadata": {},
   "source": [
    "## Предобработка данных\n",
    "\n",
    "[к навигации](#Навигация)"
   ]
  },
  {
   "cell_type": "markdown",
   "metadata": {},
   "source": [
    "Выбросим столбцы, что не могут быть признаками для обучения, т.е. `row_number`, `surname`, \n",
    "`customer_id`."
   ]
  },
  {
   "cell_type": "code",
   "execution_count": 6,
   "metadata": {},
   "outputs": [],
   "source": [
    "data = data.drop(columns=['row_number', 'surname', 'customer_id'])"
   ]
  },
  {
   "cell_type": "markdown",
   "metadata": {},
   "source": [
    "Бинарная классификация на табличных данных -> используем RandomForestClassifier.  \n",
    "(Хорошо бы какой-нибудь GBDT, например, CatBoost, но пока мы подобные модели не проходили)\n",
    "\n",
    "Для моделей на DT масштабирование не требуется, его проводить и не будем."
   ]
  },
  {
   "cell_type": "markdown",
   "metadata": {},
   "source": [
    "Есть пропуски в признаке `tenure`. А RandomForestClassifier не умеет их обрабатывать. Заменим их на `-1`."
   ]
  },
  {
   "cell_type": "code",
   "execution_count": 7,
   "metadata": {},
   "outputs": [],
   "source": [
    "data['tenure'] = data['tenure'].replace({np.NaN: -1})"
   ]
  },
  {
   "cell_type": "markdown",
   "metadata": {},
   "source": [
    "Категориальные признаки закодируем через OHE."
   ]
  },
  {
   "cell_type": "code",
   "execution_count": 8,
   "metadata": {},
   "outputs": [
    {
     "data": {
      "text/html": [
       "<div>\n",
       "<style scoped>\n",
       "    .dataframe tbody tr th:only-of-type {\n",
       "        vertical-align: middle;\n",
       "    }\n",
       "\n",
       "    .dataframe tbody tr th {\n",
       "        vertical-align: top;\n",
       "    }\n",
       "\n",
       "    .dataframe thead th {\n",
       "        text-align: right;\n",
       "    }\n",
       "</style>\n",
       "<table border=\"1\" class=\"dataframe\">\n",
       "  <thead>\n",
       "    <tr style=\"text-align: right;\">\n",
       "      <th></th>\n",
       "      <th>credit_score</th>\n",
       "      <th>age</th>\n",
       "      <th>tenure</th>\n",
       "      <th>balance</th>\n",
       "      <th>num_of_products</th>\n",
       "      <th>has_cr_card</th>\n",
       "      <th>is_active_member</th>\n",
       "      <th>estimated_salary</th>\n",
       "      <th>exited</th>\n",
       "      <th>gender_Male</th>\n",
       "      <th>geography_Germany</th>\n",
       "      <th>geography_Spain</th>\n",
       "    </tr>\n",
       "  </thead>\n",
       "  <tbody>\n",
       "    <tr>\n",
       "      <th>0</th>\n",
       "      <td>619</td>\n",
       "      <td>42</td>\n",
       "      <td>2.0</td>\n",
       "      <td>0.00</td>\n",
       "      <td>1</td>\n",
       "      <td>1</td>\n",
       "      <td>1</td>\n",
       "      <td>101348.88</td>\n",
       "      <td>1</td>\n",
       "      <td>0</td>\n",
       "      <td>0</td>\n",
       "      <td>0</td>\n",
       "    </tr>\n",
       "    <tr>\n",
       "      <th>1</th>\n",
       "      <td>608</td>\n",
       "      <td>41</td>\n",
       "      <td>1.0</td>\n",
       "      <td>83807.86</td>\n",
       "      <td>1</td>\n",
       "      <td>0</td>\n",
       "      <td>1</td>\n",
       "      <td>112542.58</td>\n",
       "      <td>0</td>\n",
       "      <td>0</td>\n",
       "      <td>0</td>\n",
       "      <td>1</td>\n",
       "    </tr>\n",
       "    <tr>\n",
       "      <th>2</th>\n",
       "      <td>502</td>\n",
       "      <td>42</td>\n",
       "      <td>8.0</td>\n",
       "      <td>159660.80</td>\n",
       "      <td>3</td>\n",
       "      <td>1</td>\n",
       "      <td>0</td>\n",
       "      <td>113931.57</td>\n",
       "      <td>1</td>\n",
       "      <td>0</td>\n",
       "      <td>0</td>\n",
       "      <td>0</td>\n",
       "    </tr>\n",
       "    <tr>\n",
       "      <th>3</th>\n",
       "      <td>699</td>\n",
       "      <td>39</td>\n",
       "      <td>1.0</td>\n",
       "      <td>0.00</td>\n",
       "      <td>2</td>\n",
       "      <td>0</td>\n",
       "      <td>0</td>\n",
       "      <td>93826.63</td>\n",
       "      <td>0</td>\n",
       "      <td>0</td>\n",
       "      <td>0</td>\n",
       "      <td>0</td>\n",
       "    </tr>\n",
       "    <tr>\n",
       "      <th>4</th>\n",
       "      <td>850</td>\n",
       "      <td>43</td>\n",
       "      <td>2.0</td>\n",
       "      <td>125510.82</td>\n",
       "      <td>1</td>\n",
       "      <td>1</td>\n",
       "      <td>1</td>\n",
       "      <td>79084.10</td>\n",
       "      <td>0</td>\n",
       "      <td>0</td>\n",
       "      <td>0</td>\n",
       "      <td>1</td>\n",
       "    </tr>\n",
       "  </tbody>\n",
       "</table>\n",
       "</div>"
      ],
      "text/plain": [
       "   credit_score  age  tenure    balance  num_of_products  has_cr_card  \\\n",
       "0           619   42     2.0       0.00                1            1   \n",
       "1           608   41     1.0   83807.86                1            0   \n",
       "2           502   42     8.0  159660.80                3            1   \n",
       "3           699   39     1.0       0.00                2            0   \n",
       "4           850   43     2.0  125510.82                1            1   \n",
       "\n",
       "   is_active_member  estimated_salary  exited  gender_Male  geography_Germany  \\\n",
       "0                 1         101348.88       1            0                  0   \n",
       "1                 1         112542.58       0            0                  0   \n",
       "2                 0         113931.57       1            0                  0   \n",
       "3                 0          93826.63       0            0                  0   \n",
       "4                 1          79084.10       0            0                  0   \n",
       "\n",
       "   geography_Spain  \n",
       "0                0  \n",
       "1                1  \n",
       "2                0  \n",
       "3                0  \n",
       "4                1  "
      ]
     },
     "execution_count": 8,
     "metadata": {},
     "output_type": "execute_result"
    }
   ],
   "source": [
    "data = pd.get_dummies(data, columns=['gender', 'geography'], drop_first=True)\n",
    "data.head()"
   ]
  },
  {
   "cell_type": "markdown",
   "metadata": {},
   "source": [
    "## Исследование задачи"
   ]
  },
  {
   "cell_type": "code",
   "execution_count": 9,
   "metadata": {},
   "outputs": [
    {
     "data": {
      "image/png": "[encoded data removed]",
      "text/plain": [
       "<Figure size 500x500 with 1 Axes>"
      ]
     },
     "metadata": {},
     "output_type": "display_data"
    }
   ],
   "source": [
    "exited_size = (data['exited'] == 1).sum()\n",
    "no_exited_size = (data['exited'] == 0).sum()\n",
    "\n",
    "fig, ax = plt.subplots(figsize=(5, 5))\n",
    "\n",
    "ax.pie([exited_size, no_exited_size], labels=['exited', 'no_exited'], autopct='%1.1f%%')\n",
    "ax.legend();"
   ]
  },
  {
   "cell_type": "code",
   "execution_count": 10,
   "metadata": {},
   "outputs": [],
   "source": [
    "y = data['exited']\n",
    "X = data.drop(columns='exited')"
   ]
  },
  {
   "cell_type": "code",
   "execution_count": 11,
   "metadata": {},
   "outputs": [],
   "source": [
    "X_train, X_test, y_train, y_test = train_test_split(\n",
    "    X, y,\n",
    "    stratify=y,\n",
    "    random_state=RANDOM_STATE,\n",
    ")\n",
    "X_train, X_val, y_train, y_val = train_test_split(\n",
    "    X_train, y_train,\n",
    "    stratify=y_train,\n",
    "    random_state=RANDOM_STATE,\n",
    ")"
   ]
  },
  {
   "cell_type": "code",
   "execution_count": 12,
   "metadata": {},
   "outputs": [
    {
     "name": "stdout",
     "output_type": "stream",
     "text": [
      "глубина\t2,\tf1 0.488,\tauc 0.737\n",
      "глубина\t3,\tf1 0.406,\tauc 0.787\n",
      "глубина\t4,\tf1 0.514,\tauc 0.817\n",
      "глубина\t5,\tf1 0.538,\tauc 0.834\n",
      "глубина\t6,\tf1 0.559,\tauc 0.832\n",
      "глубина\t7,\tf1 0.546,\tauc 0.827\n",
      "глубина\t8,\tf1 0.567,\tauc 0.823\n",
      "глубина\t9,\tf1 0.571,\tauc 0.807\n",
      "глубина\t10,\tf1 0.584,\tauc 0.799\n",
      "глубина\t11,\tf1 0.576,\tauc 0.774\n",
      "глубина\t12,\tf1 0.553,\tauc 0.749\n",
      "глубина\t13,\tf1 0.539,\tauc 0.731\n",
      "глубина\t14,\tf1 0.548,\tauc 0.725\n",
      "глубина\t15,\tf1 0.554,\tauc 0.73\n",
      "глубина\t16,\tf1 0.547,\tauc 0.725\n",
      "глубина\t17,\tf1 0.54,\tauc 0.715\n",
      "глубина\t18,\tf1 0.539,\tauc 0.718\n",
      "глубина\t19,\tf1 0.54,\tauc 0.717\n",
      "глубина\t20,\tf1 0.545,\tauc 0.719\n",
      "Лучшая глубина\t10,\tf1 0.584,\tauc 0.799\n"
     ]
    }
   ],
   "source": [
    "best_depth = None\n",
    "best_f1 = -1\n",
    "best_auc = None\n",
    "for depth in range(2, 21):\n",
    "    model = DecisionTreeClassifier(max_depth=depth, random_state=RANDOM_STATE)\n",
    "    model.fit(X_train, y_train)\n",
    "    y_pred = model.predict(X_val)\n",
    "    y_pred_prob = model.predict_proba(X_val)[:, 1]\n",
    "\n",
    "    f1 = f1_score(y_val, y_pred)\n",
    "    auc = roc_auc_score(y_val, y_pred_prob)\n",
    "\n",
    "    print(f'глубина\\t{depth},\\tf1 {f1:.3},\\tauc {auc:.3}')\n",
    "\n",
    "    if best_f1 < f1:\n",
    "        best_f1 = f1\n",
    "        best_depth = depth\n",
    "        best_auc = auc\n",
    "\n",
    "print(f'Лучшая глубина\\t{best_depth},\\tf1 {best_f1:.3},\\tauc {best_auc:.3}')"
   ]
  },
  {
   "cell_type": "code",
   "execution_count": 13,
   "metadata": {},
   "outputs": [
    {
     "name": "stdout",
     "output_type": "stream",
     "text": [
      "глубина\t2,\tf1 0.109,\tauc 0.812\n",
      "глубина\t3,\tf1 0.257,\tauc 0.822\n",
      "глубина\t4,\tf1 0.383,\tauc 0.835\n",
      "глубина\t5,\tf1 0.455,\tauc 0.844\n",
      "глубина\t6,\tf1 0.512,\tauc 0.852\n",
      "глубина\t7,\tf1 0.546,\tauc 0.857\n",
      "глубина\t8,\tf1 0.552,\tauc 0.858\n",
      "глубина\t9,\tf1 0.549,\tauc 0.859\n",
      "глубина\t10,\tf1 0.56,\tauc 0.859\n",
      "глубина\t11,\tf1 0.573,\tauc 0.86\n",
      "глубина\t12,\tf1 0.578,\tauc 0.861\n",
      "глубина\t13,\tf1 0.585,\tauc 0.856\n",
      "глубина\t14,\tf1 0.591,\tauc 0.856\n",
      "глубина\t15,\tf1 0.578,\tauc 0.858\n",
      "глубина\t16,\tf1 0.573,\tauc 0.856\n",
      "глубина\t17,\tf1 0.592,\tauc 0.863\n",
      "глубина\t18,\tf1 0.592,\tauc 0.858\n",
      "глубина\t19,\tf1 0.583,\tauc 0.857\n",
      "глубина\t20,\tf1 0.576,\tauc 0.854\n",
      "Лучшая глубина\t17,\tf1 0.592,\tauc 0.863\n"
     ]
    }
   ],
   "source": [
    "best_depth = None\n",
    "best_f1 = -1\n",
    "best_auc = None\n",
    "for depth in range(2, 21):\n",
    "    model = RandomForestClassifier(max_depth=depth, n_jobs=-1, random_state=RANDOM_STATE)\n",
    "    model.fit(X_train, y_train)\n",
    "    y_pred = model.predict(X_val)\n",
    "    y_pred_prob = model.predict_proba(X_val)[:, 1]\n",
    "\n",
    "    f1 = f1_score(y_val, y_pred)\n",
    "    auc = roc_auc_score(y_val, y_pred_prob)\n",
    "\n",
    "    print(f'глубина\\t{depth},\\tf1 {f1:.3},\\tauc {auc:.3}')\n",
    "\n",
    "    if best_f1 < f1:\n",
    "        best_f1 = f1\n",
    "        best_depth = depth\n",
    "        best_auc = auc\n",
    "\n",
    "print(f'Лучшая глубина\\t{best_depth},\\tf1 {best_f1:.3},\\tauc {best_auc:.3}')"
   ]
  },
  {
   "cell_type": "markdown",
   "metadata": {},
   "source": [
    "- Лучший f1-score получается у модели на RandomForestClassifier с глубиной деревьев 17.\n",
    "- Однако разница между лучшим RandomForestClassifier и DecisionTreeClassifier небольшая"
   ]
  },
  {
   "cell_type": "markdown",
   "metadata": {},
   "source": [
    "## Борьба с дисбалансом\n",
    "\n",
    "[к навигации](#Навигация)"
   ]
  },
  {
   "cell_type": "markdown",
   "metadata": {},
   "source": [
    "С дисбалансом борюсь с помощью балансировки весов."
   ]
  },
  {
   "cell_type": "code",
   "execution_count": 14,
   "metadata": {},
   "outputs": [
    {
     "name": "stdout",
     "output_type": "stream",
     "text": [
      "CPU times: total: 969 ms\n",
      "Wall time: 28.6 s\n"
     ]
    },
    {
     "data": {
      "text/html": [
       "<style>#sk-container-id-1 {color: black;background-color: white;}#sk-container-id-1 pre{padding: 0;}#sk-container-id-1 div.sk-toggleable {background-color: white;}#sk-container-id-1 label.sk-toggleable__label {cursor: pointer;display: block;width: 100%;margin-bottom: 0;padding: 0.3em;box-sizing: border-box;text-align: center;}#sk-container-id-1 label.sk-toggleable__label-arrow:before {content: \"▸\";float: left;margin-right: 0.25em;color: #696969;}#sk-container-id-1 label.sk-toggleable__label-arrow:hover:before {color: black;}#sk-container-id-1 div.sk-estimator:hover label.sk-toggleable__label-arrow:before {color: black;}#sk-container-id-1 div.sk-toggleable__content {max-height: 0;max-width: 0;overflow: hidden;text-align: left;background-color: #f0f8ff;}#sk-container-id-1 div.sk-toggleable__content pre {margin: 0.2em;color: black;border-radius: 0.25em;background-color: #f0f8ff;}#sk-container-id-1 input.sk-toggleable__control:checked~div.sk-toggleable__content {max-height: 200px;max-width: 100%;overflow: auto;}#sk-container-id-1 input.sk-toggleable__control:checked~label.sk-toggleable__label-arrow:before {content: \"▾\";}#sk-container-id-1 div.sk-estimator input.sk-toggleable__control:checked~label.sk-toggleable__label {background-color: #d4ebff;}#sk-container-id-1 div.sk-label input.sk-toggleable__control:checked~label.sk-toggleable__label {background-color: #d4ebff;}#sk-container-id-1 input.sk-hidden--visually {border: 0;clip: rect(1px 1px 1px 1px);clip: rect(1px, 1px, 1px, 1px);height: 1px;margin: -1px;overflow: hidden;padding: 0;position: absolute;width: 1px;}#sk-container-id-1 div.sk-estimator {font-family: monospace;background-color: #f0f8ff;border: 1px dotted black;border-radius: 0.25em;box-sizing: border-box;margin-bottom: 0.5em;}#sk-container-id-1 div.sk-estimator:hover {background-color: #d4ebff;}#sk-container-id-1 div.sk-parallel-item::after {content: \"\";width: 100%;border-bottom: 1px solid gray;flex-grow: 1;}#sk-container-id-1 div.sk-label:hover label.sk-toggleable__label {background-color: #d4ebff;}#sk-container-id-1 div.sk-serial::before {content: \"\";position: absolute;border-left: 1px solid gray;box-sizing: border-box;top: 0;bottom: 0;left: 50%;z-index: 0;}#sk-container-id-1 div.sk-serial {display: flex;flex-direction: column;align-items: center;background-color: white;padding-right: 0.2em;padding-left: 0.2em;position: relative;}#sk-container-id-1 div.sk-item {position: relative;z-index: 1;}#sk-container-id-1 div.sk-parallel {display: flex;align-items: stretch;justify-content: center;background-color: white;position: relative;}#sk-container-id-1 div.sk-item::before, #sk-container-id-1 div.sk-parallel-item::before {content: \"\";position: absolute;border-left: 1px solid gray;box-sizing: border-box;top: 0;bottom: 0;left: 50%;z-index: -1;}#sk-container-id-1 div.sk-parallel-item {display: flex;flex-direction: column;z-index: 1;position: relative;background-color: white;}#sk-container-id-1 div.sk-parallel-item:first-child::after {align-self: flex-end;width: 50%;}#sk-container-id-1 div.sk-parallel-item:last-child::after {align-self: flex-start;width: 50%;}#sk-container-id-1 div.sk-parallel-item:only-child::after {width: 0;}#sk-container-id-1 div.sk-dashed-wrapped {border: 1px dashed gray;margin: 0 0.4em 0.5em 0.4em;box-sizing: border-box;padding-bottom: 0.4em;background-color: white;}#sk-container-id-1 div.sk-label label {font-family: monospace;font-weight: bold;display: inline-block;line-height: 1.2em;}#sk-container-id-1 div.sk-label-container {text-align: center;}#sk-container-id-1 div.sk-container {/* jupyter's `normalize.less` sets `[hidden] { display: none; }` but bootstrap.min.css set `[hidden] { display: none !important; }` so we also need the `!important` here to be able to override the default hidden behavior on the sphinx rendered scikit-learn.org. See: https://github.com/scikit-learn/scikit-learn/issues/21755 */display: inline-block !important;position: relative;}#sk-container-id-1 div.sk-text-repr-fallback {display: none;}</style><div id=\"sk-container-id-1\" class=\"sk-top-container\"><div class=\"sk-text-repr-fallback\"><pre>GridSearchCV(cv=StratifiedShuffleSplit(n_splits=10, random_state=42, test_size=0.25,\n",
       "            train_size=None),\n",
       "             estimator=RandomForestClassifier(class_weight=&#x27;balanced&#x27;,\n",
       "                                              random_state=42),\n",
       "             n_jobs=-1,\n",
       "             param_grid={&#x27;max_depth&#x27;: [2, 3, 4, 5, 6, 7, 8, 9, 10, 11, 12, 13,\n",
       "                                       14, 15, 16, 17, 18, 19]},\n",
       "             scoring=&#x27;f1&#x27;)</pre><b>In a Jupyter environment, please rerun this cell to show the HTML representation or trust the notebook. <br />On GitHub, the HTML representation is unable to render, please try loading this page with nbviewer.org.</b></div><div class=\"sk-container\" hidden><div class=\"sk-item sk-dashed-wrapped\"><div class=\"sk-label-container\"><div class=\"sk-label sk-toggleable\"><input class=\"sk-toggleable__control sk-hidden--visually\" id=\"sk-estimator-id-1\" type=\"checkbox\" ><label for=\"sk-estimator-id-1\" class=\"sk-toggleable__label sk-toggleable__label-arrow\">GridSearchCV</label><div class=\"sk-toggleable__content\"><pre>GridSearchCV(cv=StratifiedShuffleSplit(n_splits=10, random_state=42, test_size=0.25,\n",
       "            train_size=None),\n",
       "             estimator=RandomForestClassifier(class_weight=&#x27;balanced&#x27;,\n",
       "                                              random_state=42),\n",
       "             n_jobs=-1,\n",
       "             param_grid={&#x27;max_depth&#x27;: [2, 3, 4, 5, 6, 7, 8, 9, 10, 11, 12, 13,\n",
       "                                       14, 15, 16, 17, 18, 19]},\n",
       "             scoring=&#x27;f1&#x27;)</pre></div></div></div><div class=\"sk-parallel\"><div class=\"sk-parallel-item\"><div class=\"sk-item\"><div class=\"sk-label-container\"><div class=\"sk-label sk-toggleable\"><input class=\"sk-toggleable__control sk-hidden--visually\" id=\"sk-estimator-id-2\" type=\"checkbox\" ><label for=\"sk-estimator-id-2\" class=\"sk-toggleable__label sk-toggleable__label-arrow\">estimator: RandomForestClassifier</label><div class=\"sk-toggleable__content\"><pre>RandomForestClassifier(class_weight=&#x27;balanced&#x27;, random_state=42)</pre></div></div></div><div class=\"sk-serial\"><div class=\"sk-item\"><div class=\"sk-estimator sk-toggleable\"><input class=\"sk-toggleable__control sk-hidden--visually\" id=\"sk-estimator-id-3\" type=\"checkbox\" ><label for=\"sk-estimator-id-3\" class=\"sk-toggleable__label sk-toggleable__label-arrow\">RandomForestClassifier</label><div class=\"sk-toggleable__content\"><pre>RandomForestClassifier(class_weight=&#x27;balanced&#x27;, random_state=42)</pre></div></div></div></div></div></div></div></div></div></div>"
      ],
      "text/plain": [
       "GridSearchCV(cv=StratifiedShuffleSplit(n_splits=10, random_state=42, test_size=0.25,\n",
       "            train_size=None),\n",
       "             estimator=RandomForestClassifier(class_weight='balanced',\n",
       "                                              random_state=42),\n",
       "             n_jobs=-1,\n",
       "             param_grid={'max_depth': [2, 3, 4, 5, 6, 7, 8, 9, 10, 11, 12, 13,\n",
       "                                       14, 15, 16, 17, 18, 19]},\n",
       "             scoring='f1')"
      ]
     },
     "execution_count": 14,
     "metadata": {},
     "output_type": "execute_result"
    }
   ],
   "source": [
    "%%time\n",
    "grid_search = GridSearchCV(\n",
    "    RandomForestClassifier(\n",
    "        class_weight='balanced',\n",
    "        random_state=RANDOM_STATE,\n",
    "    ),\n",
    "    param_grid={\n",
    "        'max_depth': list(range(2, 20)),\n",
    "    },\n",
    "    scoring='f1',\n",
    "    n_jobs=-1,\n",
    "    cv=StratifiedShuffleSplit(\n",
    "        test_size=0.25,\n",
    "        random_state=RANDOM_STATE,\n",
    "    ),\n",
    ")\n",
    "grid_search.fit(X_train, y_train)"
   ]
  },
  {
   "cell_type": "code",
   "execution_count": 15,
   "metadata": {},
   "outputs": [
    {
     "name": "stdout",
     "output_type": "stream",
     "text": [
      "0.5962432673672675\n"
     ]
    }
   ],
   "source": [
    "print(grid_search.best_score_)"
   ]
  },
  {
   "cell_type": "markdown",
   "metadata": {},
   "source": [
    "Есть ещё вариант балансировки через upsampling. Если делать, как учили на курсе, то есть тупо копированием точек данных класса, что меньше по объёму, то это сводиться к выше указанной балансировке через веса.  \n",
    "Если балансировать через downsampling, опять же вариантом тупо случайной подвыборки точек данных класса, что больше, это очевидно снизит перфоманс модели.\n",
    "\n",
    "Более сложные техники upsampling и downsampling выходят за рамки курса."
   ]
  },
  {
   "cell_type": "code",
   "execution_count": 16,
   "metadata": {},
   "outputs": [],
   "source": [
    "def upsample(features, target, repeat):\n",
    "    features_zeros = features[target == 0]\n",
    "    features_ones = features[target == 1]\n",
    "    target_zeros = target[target == 0]\n",
    "    target_ones = target[target == 1]\n",
    "    features_upsampled = pd.concat([features_zeros] + [features_ones] * repeat)\n",
    "    target_upsampled = pd.concat([target_zeros] + [target_ones] * repeat)\n",
    "    features_upsampled, target_upsampled = shuffle(features_upsampled, target_upsampled, random_state=RANDOM_STATE)\n",
    "\n",
    "    return features_upsampled, target_upsampled"
   ]
  },
  {
   "cell_type": "code",
   "execution_count": 17,
   "metadata": {},
   "outputs": [],
   "source": [
    "X_train, y_train = upsample(X_train, y_train, repeat=5)"
   ]
  },
  {
   "cell_type": "code",
   "execution_count": 18,
   "metadata": {},
   "outputs": [
    {
     "name": "stdout",
     "output_type": "stream",
     "text": [
      "CPU times: total: 1.88 s\n",
      "Wall time: 38.2 s\n"
     ]
    },
    {
     "data": {
      "text/html": [
       "<style>#sk-container-id-2 {color: black;background-color: white;}#sk-container-id-2 pre{padding: 0;}#sk-container-id-2 div.sk-toggleable {background-color: white;}#sk-container-id-2 label.sk-toggleable__label {cursor: pointer;display: block;width: 100%;margin-bottom: 0;padding: 0.3em;box-sizing: border-box;text-align: center;}#sk-container-id-2 label.sk-toggleable__label-arrow:before {content: \"▸\";float: left;margin-right: 0.25em;color: #696969;}#sk-container-id-2 label.sk-toggleable__label-arrow:hover:before {color: black;}#sk-container-id-2 div.sk-estimator:hover label.sk-toggleable__label-arrow:before {color: black;}#sk-container-id-2 div.sk-toggleable__content {max-height: 0;max-width: 0;overflow: hidden;text-align: left;background-color: #f0f8ff;}#sk-container-id-2 div.sk-toggleable__content pre {margin: 0.2em;color: black;border-radius: 0.25em;background-color: #f0f8ff;}#sk-container-id-2 input.sk-toggleable__control:checked~div.sk-toggleable__content {max-height: 200px;max-width: 100%;overflow: auto;}#sk-container-id-2 input.sk-toggleable__control:checked~label.sk-toggleable__label-arrow:before {content: \"▾\";}#sk-container-id-2 div.sk-estimator input.sk-toggleable__control:checked~label.sk-toggleable__label {background-color: #d4ebff;}#sk-container-id-2 div.sk-label input.sk-toggleable__control:checked~label.sk-toggleable__label {background-color: #d4ebff;}#sk-container-id-2 input.sk-hidden--visually {border: 0;clip: rect(1px 1px 1px 1px);clip: rect(1px, 1px, 1px, 1px);height: 1px;margin: -1px;overflow: hidden;padding: 0;position: absolute;width: 1px;}#sk-container-id-2 div.sk-estimator {font-family: monospace;background-color: #f0f8ff;border: 1px dotted black;border-radius: 0.25em;box-sizing: border-box;margin-bottom: 0.5em;}#sk-container-id-2 div.sk-estimator:hover {background-color: #d4ebff;}#sk-container-id-2 div.sk-parallel-item::after {content: \"\";width: 100%;border-bottom: 1px solid gray;flex-grow: 1;}#sk-container-id-2 div.sk-label:hover label.sk-toggleable__label {background-color: #d4ebff;}#sk-container-id-2 div.sk-serial::before {content: \"\";position: absolute;border-left: 1px solid gray;box-sizing: border-box;top: 0;bottom: 0;left: 50%;z-index: 0;}#sk-container-id-2 div.sk-serial {display: flex;flex-direction: column;align-items: center;background-color: white;padding-right: 0.2em;padding-left: 0.2em;position: relative;}#sk-container-id-2 div.sk-item {position: relative;z-index: 1;}#sk-container-id-2 div.sk-parallel {display: flex;align-items: stretch;justify-content: center;background-color: white;position: relative;}#sk-container-id-2 div.sk-item::before, #sk-container-id-2 div.sk-parallel-item::before {content: \"\";position: absolute;border-left: 1px solid gray;box-sizing: border-box;top: 0;bottom: 0;left: 50%;z-index: -1;}#sk-container-id-2 div.sk-parallel-item {display: flex;flex-direction: column;z-index: 1;position: relative;background-color: white;}#sk-container-id-2 div.sk-parallel-item:first-child::after {align-self: flex-end;width: 50%;}#sk-container-id-2 div.sk-parallel-item:last-child::after {align-self: flex-start;width: 50%;}#sk-container-id-2 div.sk-parallel-item:only-child::after {width: 0;}#sk-container-id-2 div.sk-dashed-wrapped {border: 1px dashed gray;margin: 0 0.4em 0.5em 0.4em;box-sizing: border-box;padding-bottom: 0.4em;background-color: white;}#sk-container-id-2 div.sk-label label {font-family: monospace;font-weight: bold;display: inline-block;line-height: 1.2em;}#sk-container-id-2 div.sk-label-container {text-align: center;}#sk-container-id-2 div.sk-container {/* jupyter's `normalize.less` sets `[hidden] { display: none; }` but bootstrap.min.css set `[hidden] { display: none !important; }` so we also need the `!important` here to be able to override the default hidden behavior on the sphinx rendered scikit-learn.org. See: https://github.com/scikit-learn/scikit-learn/issues/21755 */display: inline-block !important;position: relative;}#sk-container-id-2 div.sk-text-repr-fallback {display: none;}</style><div id=\"sk-container-id-2\" class=\"sk-top-container\"><div class=\"sk-text-repr-fallback\"><pre>GridSearchCV(cv=StratifiedShuffleSplit(n_splits=10, random_state=42, test_size=0.25,\n",
       "            train_size=None),\n",
       "             estimator=RandomForestClassifier(random_state=42), n_jobs=-1,\n",
       "             param_grid={&#x27;max_depth&#x27;: [2, 3, 4, 5, 6, 7, 8, 9, 10, 11, 12, 13,\n",
       "                                       14, 15, 16, 17, 18, 19]},\n",
       "             scoring=&#x27;f1&#x27;)</pre><b>In a Jupyter environment, please rerun this cell to show the HTML representation or trust the notebook. <br />On GitHub, the HTML representation is unable to render, please try loading this page with nbviewer.org.</b></div><div class=\"sk-container\" hidden><div class=\"sk-item sk-dashed-wrapped\"><div class=\"sk-label-container\"><div class=\"sk-label sk-toggleable\"><input class=\"sk-toggleable__control sk-hidden--visually\" id=\"sk-estimator-id-4\" type=\"checkbox\" ><label for=\"sk-estimator-id-4\" class=\"sk-toggleable__label sk-toggleable__label-arrow\">GridSearchCV</label><div class=\"sk-toggleable__content\"><pre>GridSearchCV(cv=StratifiedShuffleSplit(n_splits=10, random_state=42, test_size=0.25,\n",
       "            train_size=None),\n",
       "             estimator=RandomForestClassifier(random_state=42), n_jobs=-1,\n",
       "             param_grid={&#x27;max_depth&#x27;: [2, 3, 4, 5, 6, 7, 8, 9, 10, 11, 12, 13,\n",
       "                                       14, 15, 16, 17, 18, 19]},\n",
       "             scoring=&#x27;f1&#x27;)</pre></div></div></div><div class=\"sk-parallel\"><div class=\"sk-parallel-item\"><div class=\"sk-item\"><div class=\"sk-label-container\"><div class=\"sk-label sk-toggleable\"><input class=\"sk-toggleable__control sk-hidden--visually\" id=\"sk-estimator-id-5\" type=\"checkbox\" ><label for=\"sk-estimator-id-5\" class=\"sk-toggleable__label sk-toggleable__label-arrow\">estimator: RandomForestClassifier</label><div class=\"sk-toggleable__content\"><pre>RandomForestClassifier(random_state=42)</pre></div></div></div><div class=\"sk-serial\"><div class=\"sk-item\"><div class=\"sk-estimator sk-toggleable\"><input class=\"sk-toggleable__control sk-hidden--visually\" id=\"sk-estimator-id-6\" type=\"checkbox\" ><label for=\"sk-estimator-id-6\" class=\"sk-toggleable__label sk-toggleable__label-arrow\">RandomForestClassifier</label><div class=\"sk-toggleable__content\"><pre>RandomForestClassifier(random_state=42)</pre></div></div></div></div></div></div></div></div></div></div>"
      ],
      "text/plain": [
       "GridSearchCV(cv=StratifiedShuffleSplit(n_splits=10, random_state=42, test_size=0.25,\n",
       "            train_size=None),\n",
       "             estimator=RandomForestClassifier(random_state=42), n_jobs=-1,\n",
       "             param_grid={'max_depth': [2, 3, 4, 5, 6, 7, 8, 9, 10, 11, 12, 13,\n",
       "                                       14, 15, 16, 17, 18, 19]},\n",
       "             scoring='f1')"
      ]
     },
     "execution_count": 18,
     "metadata": {},
     "output_type": "execute_result"
    }
   ],
   "source": [
    "%%time\n",
    "grid_search = GridSearchCV(\n",
    "    RandomForestClassifier(\n",
    "        random_state=RANDOM_STATE,\n",
    "    ),\n",
    "    param_grid={\n",
    "        'max_depth': list(range(2, 20)),\n",
    "    },\n",
    "    scoring='f1',\n",
    "    n_jobs=-1,\n",
    "    cv=StratifiedShuffleSplit(\n",
    "        test_size=0.25,\n",
    "        random_state=RANDOM_STATE,\n",
    "    ),\n",
    ")\n",
    "grid_search.fit(X_train, y_train)"
   ]
  },
  {
   "cell_type": "code",
   "execution_count": 19,
   "metadata": {},
   "outputs": [
    {
     "name": "stdout",
     "output_type": "stream",
     "text": [
      "0.9594658121459088\n"
     ]
    }
   ],
   "source": [
    "print(grid_search.best_score_)"
   ]
  },
  {
   "cell_type": "markdown",
   "metadata": {},
   "source": [
    "## Тестирование модели\n",
    "\n",
    "[к навигации](#Навигация)"
   ]
  },
  {
   "cell_type": "code",
   "execution_count": 20,
   "metadata": {},
   "outputs": [],
   "source": [
    "model = grid_search.best_estimator_"
   ]
  },
  {
   "cell_type": "code",
   "execution_count": 21,
   "metadata": {},
   "outputs": [],
   "source": [
    "y_pred = model.predict(X_test)\n",
    "y_proba = model.predict_proba(X_test)[:, 1]"
   ]
  },
  {
   "cell_type": "code",
   "execution_count": 22,
   "metadata": {},
   "outputs": [
    {
     "data": {
      "image/png": "[encoded data removed]",
      "text/plain": [
       "<Figure size 1500x500 with 3 Axes>"
      ]
     },
     "metadata": {},
     "output_type": "display_data"
    },
    {
     "name": "stdout",
     "output_type": "stream",
     "text": [
      "              precision    recall  f1-score   support\n",
      "\n",
      "           0       0.89      0.93      0.91      1991\n",
      "           1       0.66      0.55      0.60       509\n",
      "\n",
      "    accuracy                           0.85      2500\n",
      "   macro avg       0.78      0.74      0.76      2500\n",
      "weighted avg       0.84      0.85      0.85      2500\n",
      "\n"
     ]
    }
   ],
   "source": [
    "fig, axes = plt.subplots(1, 3, figsize=(15, 5))\n",
    "\n",
    "ConfusionMatrixDisplay.from_predictions(\n",
    "    y_test, y_pred,\n",
    "    ax=axes[0],\n",
    "    colorbar=False,\n",
    ")\n",
    "axes[0].set(title='Матрица ошибок')\n",
    "\n",
    "RocCurveDisplay.from_predictions(\n",
    "    y_test, y_proba,\n",
    "    ax=axes[1],\n",
    "    color='orange',\n",
    ")\n",
    "axes[1].plot([0, 1], [0, 1], color='navy', linestyle='--')\n",
    "axes[1].set(title='ROC-кривая', xlim=(-0.01, 1), ylim=(0, 1.01))\n",
    "\n",
    "PrecisionRecallDisplay.from_predictions(\n",
    "    y_test, y_proba,\n",
    "    ax=axes[2],\n",
    ")\n",
    "axes[2].set(title='Precision-Recall-кривая')\n",
    "\n",
    "plt.show()\n",
    "\n",
    "print(classification_report(y_test, y_pred))"
   ]
  },
  {
   "cell_type": "markdown",
   "metadata": {},
   "source": [
    "## Общие выводы\n",
    "\n",
    "[к навигации](#Навигация)\n",
    "\n",
    "- Рассмотрели в качестве базового классификатора DT и RF, выбрали RF\n",
    "- Попробовали 2 варианта балансировки: через class_weights и upsampling. Лучше оказался upsampling\n",
    "- Провели тестирование лучшей модели"
   ]
  }
 ],
 "metadata": {
  "ExecuteTimeLog": [
   {
    "duration": 380,
    "start_time": "2022-11-19T20:48:41.096Z"
   },
   {
    "duration": 58,
    "start_time": "2022-11-19T20:51:26.100Z"
   },
   {
    "duration": 1414,
    "start_time": "2022-11-19T20:51:32.750Z"
   },
   {
    "duration": 1432,
    "start_time": "2022-11-19T20:57:19.991Z"
   },
   {
    "duration": 1620,
    "start_time": "2022-11-19T21:00:30.797Z"
   },
   {
    "duration": 3,
    "start_time": "2022-11-19T21:03:19.119Z"
   },
   {
    "duration": 1455,
    "start_time": "2022-11-19T21:03:21.288Z"
   },
   {
    "duration": 388,
    "start_time": "2022-11-19T21:04:06.239Z"
   },
   {
    "duration": 1545,
    "start_time": "2022-11-19T21:04:06.628Z"
   },
   {
    "duration": 412,
    "start_time": "2022-11-19T21:04:45.601Z"
   },
   {
    "duration": 1507,
    "start_time": "2022-11-19T21:04:46.015Z"
   },
   {
    "duration": 405,
    "start_time": "2022-11-19T21:05:11.079Z"
   },
   {
    "duration": 1528,
    "start_time": "2022-11-19T21:05:11.486Z"
   },
   {
    "duration": 374,
    "start_time": "2022-11-19T21:06:42.703Z"
   },
   {
    "duration": 1744,
    "start_time": "2022-11-19T21:06:43.080Z"
   },
   {
    "duration": 3,
    "start_time": "2022-11-19T21:10:23.035Z"
   },
   {
    "duration": 1530,
    "start_time": "2022-11-19T21:10:24.233Z"
   },
   {
    "duration": 1614,
    "start_time": "2022-11-19T21:10:49.451Z"
   },
   {
    "duration": 1515,
    "start_time": "2022-11-19T21:11:02.338Z"
   },
   {
    "duration": 353,
    "start_time": "2022-11-19T21:11:18.147Z"
   },
   {
    "duration": 474,
    "start_time": "2022-11-19T21:11:35.796Z"
   },
   {
    "duration": 293,
    "start_time": "2022-11-19T21:12:44.734Z"
   },
   {
    "duration": 1719,
    "start_time": "2022-11-19T21:13:28.423Z"
   },
   {
    "duration": 528,
    "start_time": "2022-11-19T21:13:45.975Z"
   },
   {
    "duration": 3,
    "start_time": "2022-11-19T22:31:53.719Z"
   },
   {
    "duration": 91,
    "start_time": "2022-11-19T22:31:54.799Z"
   },
   {
    "duration": 15,
    "start_time": "2022-11-19T22:32:52.537Z"
   },
   {
    "duration": 71,
    "start_time": "2022-11-19T22:33:34.619Z"
   },
   {
    "duration": 10,
    "start_time": "2022-11-19T22:33:50.322Z"
   },
   {
    "duration": 50,
    "start_time": "2022-11-19T22:36:25.924Z"
   },
   {
    "duration": 5,
    "start_time": "2022-11-19T22:36:31.308Z"
   },
   {
    "duration": 11,
    "start_time": "2022-11-19T22:36:34.604Z"
   },
   {
    "duration": 17,
    "start_time": "2022-11-19T22:36:39.972Z"
   },
   {
    "duration": 49,
    "start_time": "2022-11-19T22:38:48.624Z"
   },
   {
    "duration": 5,
    "start_time": "2022-11-19T22:38:53.048Z"
   },
   {
    "duration": 60,
    "start_time": "2022-11-19T22:39:08.834Z"
   },
   {
    "duration": 5,
    "start_time": "2022-11-19T22:39:16.119Z"
   },
   {
    "duration": 4,
    "start_time": "2022-11-19T22:39:19.327Z"
   },
   {
    "duration": 4,
    "start_time": "2022-11-19T22:39:20.007Z"
   },
   {
    "duration": 5,
    "start_time": "2022-11-19T22:39:20.599Z"
   },
   {
    "duration": 5,
    "start_time": "2022-11-19T22:39:21.232Z"
   },
   {
    "duration": 5,
    "start_time": "2022-11-19T22:39:21.902Z"
   },
   {
    "duration": 47,
    "start_time": "2022-11-19T22:39:27.600Z"
   },
   {
    "duration": 5,
    "start_time": "2022-11-19T22:39:30.713Z"
   },
   {
    "duration": 6,
    "start_time": "2022-11-19T22:39:50.624Z"
   },
   {
    "duration": 53,
    "start_time": "2022-11-19T22:40:21.515Z"
   },
   {
    "duration": 5,
    "start_time": "2022-11-19T22:40:32.761Z"
   },
   {
    "duration": 6,
    "start_time": "2022-11-19T22:40:36.505Z"
   },
   {
    "duration": 52,
    "start_time": "2022-11-19T22:41:02.409Z"
   },
   {
    "duration": 7,
    "start_time": "2022-11-19T22:41:08.193Z"
   },
   {
    "duration": 20,
    "start_time": "2022-11-19T22:41:09.090Z"
   },
   {
    "duration": 53,
    "start_time": "2022-11-19T22:41:28.596Z"
   },
   {
    "duration": 55,
    "start_time": "2022-11-19T22:41:42.934Z"
   },
   {
    "duration": 5,
    "start_time": "2022-11-19T22:41:49.243Z"
   },
   {
    "duration": 65,
    "start_time": "2022-11-19T22:41:59.364Z"
   },
   {
    "duration": 5,
    "start_time": "2022-11-19T22:42:01.570Z"
   },
   {
    "duration": 22,
    "start_time": "2022-11-19T22:42:02.417Z"
   },
   {
    "duration": 56,
    "start_time": "2022-11-19T22:42:24.131Z"
   },
   {
    "duration": 5,
    "start_time": "2022-11-19T22:42:25.114Z"
   },
   {
    "duration": 30,
    "start_time": "2022-11-19T22:42:25.866Z"
   },
   {
    "duration": 61,
    "start_time": "2022-11-19T22:42:42.859Z"
   },
   {
    "duration": 7,
    "start_time": "2022-11-19T22:42:43.784Z"
   },
   {
    "duration": 21,
    "start_time": "2022-11-19T22:42:45.003Z"
   },
   {
    "duration": 69,
    "start_time": "2022-11-19T22:43:01.356Z"
   },
   {
    "duration": 7,
    "start_time": "2022-11-19T22:43:02.188Z"
   },
   {
    "duration": 22,
    "start_time": "2022-11-19T22:43:02.859Z"
   },
   {
    "duration": 52,
    "start_time": "2022-11-19T22:43:19.909Z"
   },
   {
    "duration": 5,
    "start_time": "2022-11-19T22:43:26.235Z"
   },
   {
    "duration": 20,
    "start_time": "2022-11-19T22:43:27.050Z"
   },
   {
    "duration": 5,
    "start_time": "2022-11-19T22:43:29.723Z"
   },
   {
    "duration": 58,
    "start_time": "2022-11-19T22:43:55.294Z"
   },
   {
    "duration": 4,
    "start_time": "2022-11-19T22:43:56.404Z"
   },
   {
    "duration": 22,
    "start_time": "2022-11-19T22:43:57.284Z"
   },
   {
    "duration": 59,
    "start_time": "2022-11-19T22:44:15.746Z"
   },
   {
    "duration": 6,
    "start_time": "2022-11-19T22:44:30.881Z"
   },
   {
    "duration": 26,
    "start_time": "2022-11-19T22:44:34.572Z"
   },
   {
    "duration": 71,
    "start_time": "2022-11-19T22:45:04.053Z"
   },
   {
    "duration": 4,
    "start_time": "2022-11-19T22:45:06.565Z"
   },
   {
    "duration": 21,
    "start_time": "2022-11-19T22:45:07.316Z"
   },
   {
    "duration": 54,
    "start_time": "2022-11-19T22:45:25.669Z"
   },
   {
    "duration": 59,
    "start_time": "2022-11-19T22:45:45.730Z"
   },
   {
    "duration": 20,
    "start_time": "2022-11-19T22:45:53.291Z"
   },
   {
    "duration": 63,
    "start_time": "2022-11-19T22:46:11.775Z"
   },
   {
    "duration": 22,
    "start_time": "2022-11-19T22:46:18.134Z"
   },
   {
    "duration": 60,
    "start_time": "2022-11-19T22:46:34.814Z"
   },
   {
    "duration": 8,
    "start_time": "2022-11-19T22:49:52.698Z"
   },
   {
    "duration": 62,
    "start_time": "2022-11-19T22:50:18.138Z"
   },
   {
    "duration": 54,
    "start_time": "2022-11-19T22:52:38.080Z"
   },
   {
    "duration": 57,
    "start_time": "2022-11-19T22:52:41.790Z"
   },
   {
    "duration": 59,
    "start_time": "2022-11-19T22:53:22.174Z"
   },
   {
    "duration": 20,
    "start_time": "2022-11-19T22:53:30.326Z"
   },
   {
    "duration": 41,
    "start_time": "2022-11-19T22:53:32.526Z"
   },
   {
    "duration": 4,
    "start_time": "2022-11-19T22:54:51.247Z"
   },
   {
    "duration": 2,
    "start_time": "2022-11-19T22:58:25.099Z"
   },
   {
    "duration": 4,
    "start_time": "2022-11-19T22:58:45.589Z"
   },
   {
    "duration": 4,
    "start_time": "2022-11-19T23:04:15.161Z"
   },
   {
    "duration": 6,
    "start_time": "2022-11-19T23:10:57.400Z"
   },
   {
    "duration": 50,
    "start_time": "2022-11-19T23:12:00.290Z"
   },
   {
    "duration": 12,
    "start_time": "2022-11-19T23:12:05.520Z"
   },
   {
    "duration": 6,
    "start_time": "2022-11-19T23:12:31.395Z"
   },
   {
    "duration": 6,
    "start_time": "2022-11-19T23:12:36.763Z"
   },
   {
    "duration": 428,
    "start_time": "2022-11-20T08:48:09.953Z"
   },
   {
    "duration": 110,
    "start_time": "2022-11-20T08:48:10.383Z"
   },
   {
    "duration": 24,
    "start_time": "2022-11-20T08:48:10.495Z"
   },
   {
    "duration": 54,
    "start_time": "2022-11-20T08:48:10.522Z"
   },
   {
    "duration": 5,
    "start_time": "2022-11-20T08:48:10.577Z"
   },
   {
    "duration": 13,
    "start_time": "2022-11-20T08:48:10.584Z"
   },
   {
    "duration": 7,
    "start_time": "2022-11-20T08:48:10.599Z"
   },
   {
    "duration": 48,
    "start_time": "2022-11-20T08:50:44.662Z"
   },
   {
    "duration": 9,
    "start_time": "2022-11-20T08:52:08.800Z"
   },
   {
    "duration": 7,
    "start_time": "2022-11-20T08:54:33.315Z"
   },
   {
    "duration": 17,
    "start_time": "2022-11-20T08:56:00.428Z"
   },
   {
    "duration": 75,
    "start_time": "2022-11-20T08:57:46.445Z"
   },
   {
    "duration": 374,
    "start_time": "2022-11-20T08:57:51.692Z"
   },
   {
    "duration": 67,
    "start_time": "2022-11-20T08:57:52.068Z"
   },
   {
    "duration": 22,
    "start_time": "2022-11-20T08:57:52.137Z"
   },
   {
    "duration": 41,
    "start_time": "2022-11-20T08:57:52.161Z"
   },
   {
    "duration": 4,
    "start_time": "2022-11-20T08:57:52.204Z"
   },
   {
    "duration": 7,
    "start_time": "2022-11-20T08:57:52.209Z"
   },
   {
    "duration": 44,
    "start_time": "2022-11-20T08:57:52.217Z"
   },
   {
    "duration": 522,
    "start_time": "2022-11-20T09:00:24.476Z"
   },
   {
    "duration": 279,
    "start_time": "2022-11-20T09:00:45.104Z"
   },
   {
    "duration": 28145,
    "start_time": "2022-11-20T09:01:08.674Z"
   },
   {
    "duration": 60,
    "start_time": "2022-11-20T09:03:17.452Z"
   },
   {
    "duration": 145,
    "start_time": "2022-11-20T09:03:48.613Z"
   },
   {
    "duration": 91,
    "start_time": "2022-11-20T09:03:58.548Z"
   },
   {
    "duration": 637,
    "start_time": "2022-11-20T09:04:51.261Z"
   },
   {
    "duration": 67,
    "start_time": "2022-11-20T09:04:51.900Z"
   },
   {
    "duration": 22,
    "start_time": "2022-11-20T09:04:51.969Z"
   },
   {
    "duration": 46,
    "start_time": "2022-11-20T09:04:51.993Z"
   },
   {
    "duration": 15,
    "start_time": "2022-11-20T09:04:52.040Z"
   },
   {
    "duration": 23,
    "start_time": "2022-11-20T09:04:52.056Z"
   },
   {
    "duration": 60,
    "start_time": "2022-11-20T09:04:52.080Z"
   },
   {
    "duration": 125,
    "start_time": "2022-11-20T09:04:52.143Z"
   },
   {
    "duration": 109,
    "start_time": "2022-11-20T09:05:09.912Z"
   },
   {
    "duration": 81,
    "start_time": "2022-11-20T09:05:17.453Z"
   },
   {
    "duration": 88,
    "start_time": "2022-11-20T09:06:21.687Z"
   },
   {
    "duration": 150,
    "start_time": "2022-11-20T09:06:31.031Z"
   },
   {
    "duration": 204,
    "start_time": "2022-11-20T09:06:34.776Z"
   },
   {
    "duration": 750,
    "start_time": "2022-11-20T09:07:59.649Z"
   },
   {
    "duration": 6,
    "start_time": "2022-11-20T09:09:03.553Z"
   },
   {
    "duration": 6,
    "start_time": "2022-11-20T09:09:55.948Z"
   },
   {
    "duration": 111,
    "start_time": "2022-11-20T09:10:30.541Z"
   },
   {
    "duration": 2,
    "start_time": "2022-11-20T09:10:36.006Z"
   },
   {
    "duration": 8,
    "start_time": "2022-11-20T09:10:41.044Z"
   },
   {
    "duration": 3,
    "start_time": "2022-11-20T09:10:44.917Z"
   },
   {
    "duration": 5,
    "start_time": "2022-11-20T09:11:29.085Z"
   },
   {
    "duration": 1036,
    "start_time": "2022-11-20T09:12:02.446Z"
   },
   {
    "duration": 13,
    "start_time": "2022-11-20T09:12:20.166Z"
   },
   {
    "duration": 5,
    "start_time": "2022-11-20T09:13:42.200Z"
   },
   {
    "duration": 9,
    "start_time": "2022-11-20T09:14:13.957Z"
   },
   {
    "duration": 2,
    "start_time": "2022-11-20T09:14:19.944Z"
   },
   {
    "duration": 10,
    "start_time": "2022-11-20T09:14:51.993Z"
   },
   {
    "duration": 1115,
    "start_time": "2022-11-20T09:17:15.989Z"
   },
   {
    "duration": 1413,
    "start_time": "2022-11-20T09:17:21.593Z"
   },
   {
    "duration": 3,
    "start_time": "2022-11-20T09:17:23.010Z"
   },
   {
    "duration": 76,
    "start_time": "2022-11-20T09:17:23.016Z"
   },
   {
    "duration": 26,
    "start_time": "2022-11-20T09:17:23.094Z"
   },
   {
    "duration": 62,
    "start_time": "2022-11-20T09:17:23.123Z"
   },
   {
    "duration": 3,
    "start_time": "2022-11-20T09:17:23.187Z"
   },
   {
    "duration": 6,
    "start_time": "2022-11-20T09:17:23.192Z"
   },
   {
    "duration": 21,
    "start_time": "2022-11-20T09:17:23.199Z"
   },
   {
    "duration": 193,
    "start_time": "2022-11-20T09:17:23.223Z"
   },
   {
    "duration": 5,
    "start_time": "2022-11-20T09:17:23.418Z"
   },
   {
    "duration": 8,
    "start_time": "2022-11-20T09:17:23.425Z"
   },
   {
    "duration": 1071,
    "start_time": "2022-11-20T09:17:23.455Z"
   },
   {
    "duration": 4,
    "start_time": "2022-11-20T09:17:24.528Z"
   },
   {
    "duration": 32,
    "start_time": "2022-11-20T09:17:24.535Z"
   },
   {
    "duration": 23,
    "start_time": "2022-11-20T09:17:24.578Z"
   },
   {
    "duration": 146,
    "start_time": "2022-11-20T09:17:24.604Z"
   },
   {
    "duration": 7,
    "start_time": "2022-11-20T09:24:38.324Z"
   },
   {
    "duration": 111,
    "start_time": "2022-11-20T10:26:27.207Z"
   },
   {
    "duration": 1551,
    "start_time": "2022-11-20T10:26:40.884Z"
   },
   {
    "duration": 3,
    "start_time": "2022-11-20T10:26:42.437Z"
   },
   {
    "duration": 129,
    "start_time": "2022-11-20T10:26:42.442Z"
   },
   {
    "duration": 44,
    "start_time": "2022-11-20T10:26:42.577Z"
   },
   {
    "duration": 62,
    "start_time": "2022-11-20T10:26:42.623Z"
   },
   {
    "duration": 7,
    "start_time": "2022-11-20T10:26:42.686Z"
   },
   {
    "duration": 18,
    "start_time": "2022-11-20T10:26:42.695Z"
   },
   {
    "duration": 30,
    "start_time": "2022-11-20T10:26:42.715Z"
   },
   {
    "duration": 222,
    "start_time": "2022-11-20T10:26:42.748Z"
   },
   {
    "duration": 7,
    "start_time": "2022-11-20T10:26:42.973Z"
   },
   {
    "duration": 39,
    "start_time": "2022-11-20T10:26:42.982Z"
   },
   {
    "duration": 1220,
    "start_time": "2022-11-20T10:26:43.023Z"
   },
   {
    "duration": 3,
    "start_time": "2022-11-20T10:26:44.245Z"
   },
   {
    "duration": 43,
    "start_time": "2022-11-20T10:26:44.250Z"
   },
   {
    "duration": 24,
    "start_time": "2022-11-20T10:26:44.295Z"
   },
   {
    "duration": 57294,
    "start_time": "2022-11-20T10:26:44.322Z"
   },
   {
    "duration": 1736,
    "start_time": "2022-11-20T11:03:03.386Z"
   },
   {
    "duration": 5,
    "start_time": "2022-11-20T11:03:05.124Z"
   },
   {
    "duration": 103,
    "start_time": "2022-11-20T11:03:05.132Z"
   },
   {
    "duration": 34,
    "start_time": "2022-11-20T11:03:05.238Z"
   },
   {
    "duration": 54,
    "start_time": "2022-11-20T11:03:05.274Z"
   },
   {
    "duration": 4,
    "start_time": "2022-11-20T11:03:05.329Z"
   },
   {
    "duration": 10,
    "start_time": "2022-11-20T11:03:05.335Z"
   },
   {
    "duration": 31,
    "start_time": "2022-11-20T11:03:05.346Z"
   },
   {
    "duration": 221,
    "start_time": "2022-11-20T11:03:05.379Z"
   },
   {
    "duration": 5,
    "start_time": "2022-11-20T11:03:05.603Z"
   },
   {
    "duration": 10,
    "start_time": "2022-11-20T11:03:05.610Z"
   },
   {
    "duration": 1118,
    "start_time": "2022-11-20T11:03:05.621Z"
   },
   {
    "duration": 2,
    "start_time": "2022-11-20T11:03:06.741Z"
   },
   {
    "duration": 46,
    "start_time": "2022-11-20T11:03:06.745Z"
   },
   {
    "duration": 21,
    "start_time": "2022-11-20T11:03:06.794Z"
   },
   {
    "duration": 51207,
    "start_time": "2022-11-20T11:03:06.817Z"
   },
   {
    "duration": 127,
    "start_time": "2022-11-20T12:08:24.032Z"
   },
   {
    "duration": 14,
    "start_time": "2022-11-20T12:08:40.349Z"
   },
   {
    "duration": 66,
    "start_time": "2022-11-20T12:08:52.205Z"
   },
   {
    "duration": 14,
    "start_time": "2022-11-20T12:08:54.316Z"
   },
   {
    "duration": 1536,
    "start_time": "2022-11-20T12:09:56.637Z"
   },
   {
    "duration": 3,
    "start_time": "2022-11-20T12:09:58.176Z"
   },
   {
    "duration": 80,
    "start_time": "2022-11-20T12:09:58.182Z"
   },
   {
    "duration": 35,
    "start_time": "2022-11-20T12:09:58.265Z"
   },
   {
    "duration": 78,
    "start_time": "2022-11-20T12:09:58.302Z"
   },
   {
    "duration": 5,
    "start_time": "2022-11-20T12:09:58.382Z"
   },
   {
    "duration": 9,
    "start_time": "2022-11-20T12:09:58.389Z"
   },
   {
    "duration": 33,
    "start_time": "2022-11-20T12:09:58.400Z"
   },
   {
    "duration": 243,
    "start_time": "2022-11-20T12:09:58.436Z"
   },
   {
    "duration": 6,
    "start_time": "2022-11-20T12:09:58.682Z"
   },
   {
    "duration": 9,
    "start_time": "2022-11-20T12:09:58.691Z"
   },
   {
    "duration": 1182,
    "start_time": "2022-11-20T12:09:58.702Z"
   },
   {
    "duration": 3,
    "start_time": "2022-11-20T12:09:59.886Z"
   },
   {
    "duration": 24,
    "start_time": "2022-11-20T12:09:59.890Z"
   },
   {
    "duration": 10,
    "start_time": "2022-11-20T12:09:59.916Z"
   },
   {
    "duration": 50599,
    "start_time": "2022-11-20T12:09:59.929Z"
   },
   {
    "duration": 59,
    "start_time": "2022-11-20T12:10:50.530Z"
   },
   {
    "duration": 11,
    "start_time": "2022-11-20T12:10:50.590Z"
   },
   {
    "duration": 116,
    "start_time": "2022-11-20T12:14:03.850Z"
   },
   {
    "duration": 5,
    "start_time": "2022-11-20T12:14:08.938Z"
   },
   {
    "duration": 10,
    "start_time": "2022-11-20T12:14:15.858Z"
   },
   {
    "duration": 1051,
    "start_time": "2022-11-20T12:14:18.402Z"
   },
   {
    "duration": 18,
    "start_time": "2022-11-20T12:14:21.194Z"
   },
   {
    "duration": 1094,
    "start_time": "2022-11-20T12:14:37.858Z"
   },
   {
    "duration": 5,
    "start_time": "2022-11-20T12:14:40.730Z"
   },
   {
    "duration": 7,
    "start_time": "2022-11-20T12:14:47.010Z"
   },
   {
    "duration": 1472,
    "start_time": "2022-11-20T12:15:17.311Z"
   },
   {
    "duration": 3,
    "start_time": "2022-11-20T12:15:18.787Z"
   },
   {
    "duration": 117,
    "start_time": "2022-11-20T12:15:18.792Z"
   },
   {
    "duration": 43,
    "start_time": "2022-11-20T12:15:18.912Z"
   },
   {
    "duration": 52,
    "start_time": "2022-11-20T12:15:18.957Z"
   },
   {
    "duration": 5,
    "start_time": "2022-11-20T12:15:19.011Z"
   },
   {
    "duration": 7,
    "start_time": "2022-11-20T12:15:19.018Z"
   },
   {
    "duration": 52,
    "start_time": "2022-11-20T12:15:19.027Z"
   },
   {
    "duration": 240,
    "start_time": "2022-11-20T12:15:19.082Z"
   },
   {
    "duration": 6,
    "start_time": "2022-11-20T12:15:19.325Z"
   },
   {
    "duration": 22,
    "start_time": "2022-11-20T12:15:19.333Z"
   },
   {
    "duration": 1061,
    "start_time": "2022-11-20T12:15:19.357Z"
   },
   {
    "duration": 3,
    "start_time": "2022-11-20T12:15:20.419Z"
   },
   {
    "duration": 31,
    "start_time": "2022-11-20T12:15:20.425Z"
   },
   {
    "duration": 27,
    "start_time": "2022-11-20T12:15:20.458Z"
   },
   {
    "duration": 31,
    "start_time": "2022-11-20T12:15:20.487Z"
   },
   {
    "duration": 49382,
    "start_time": "2022-11-20T12:15:20.520Z"
   },
   {
    "duration": 136,
    "start_time": "2022-11-20T12:16:09.904Z"
   },
   {
    "duration": 16,
    "start_time": "2022-11-20T12:16:10.042Z"
   },
   {
    "duration": 11,
    "start_time": "2022-11-20T12:16:10.060Z"
   },
   {
    "duration": 1638,
    "start_time": "2022-11-20T16:58:06.533Z"
   },
   {
    "duration": 4,
    "start_time": "2022-11-20T16:58:08.173Z"
   },
   {
    "duration": 114,
    "start_time": "2022-11-20T16:58:08.179Z"
   },
   {
    "duration": 23,
    "start_time": "2022-11-20T16:58:08.296Z"
   },
   {
    "duration": 41,
    "start_time": "2022-11-20T16:58:08.321Z"
   },
   {
    "duration": 4,
    "start_time": "2022-11-20T16:58:08.364Z"
   },
   {
    "duration": 6,
    "start_time": "2022-11-20T16:58:08.370Z"
   },
   {
    "duration": 41,
    "start_time": "2022-11-20T16:58:08.377Z"
   },
   {
    "duration": 157,
    "start_time": "2022-11-20T16:58:08.420Z"
   },
   {
    "duration": 5,
    "start_time": "2022-11-20T16:58:08.579Z"
   },
   {
    "duration": 8,
    "start_time": "2022-11-20T16:58:08.586Z"
   },
   {
    "duration": 981,
    "start_time": "2022-11-20T16:58:08.595Z"
   },
   {
    "duration": 3,
    "start_time": "2022-11-20T16:58:09.577Z"
   },
   {
    "duration": 14,
    "start_time": "2022-11-20T16:58:09.581Z"
   },
   {
    "duration": 19,
    "start_time": "2022-11-20T16:58:09.596Z"
   },
   {
    "duration": 9,
    "start_time": "2022-11-20T16:58:09.617Z"
   },
   {
    "duration": 45028,
    "start_time": "2022-11-20T16:58:09.627Z"
   },
   {
    "duration": 119,
    "start_time": "2022-11-20T16:58:54.656Z"
   },
   {
    "duration": 10,
    "start_time": "2022-11-20T16:58:54.776Z"
   },
   {
    "duration": 8,
    "start_time": "2022-11-20T16:58:54.788Z"
   },
   {
    "duration": 1431,
    "start_time": "2022-11-20T19:09:57.330Z"
   },
   {
    "duration": 3,
    "start_time": "2022-11-20T19:09:58.763Z"
   },
   {
    "duration": 66,
    "start_time": "2022-11-20T19:09:58.767Z"
   },
   {
    "duration": 21,
    "start_time": "2022-11-20T19:09:58.835Z"
   },
   {
    "duration": 40,
    "start_time": "2022-11-20T19:09:58.858Z"
   },
   {
    "duration": 4,
    "start_time": "2022-11-20T19:09:58.899Z"
   },
   {
    "duration": 5,
    "start_time": "2022-11-20T19:09:58.916Z"
   },
   {
    "duration": 25,
    "start_time": "2022-11-20T19:09:58.923Z"
   },
   {
    "duration": 155,
    "start_time": "2022-11-20T19:09:58.949Z"
   },
   {
    "duration": 12,
    "start_time": "2022-11-20T19:09:59.106Z"
   },
   {
    "duration": 6,
    "start_time": "2022-11-20T19:09:59.120Z"
   },
   {
    "duration": 949,
    "start_time": "2022-11-20T19:09:59.128Z"
   },
   {
    "duration": 2,
    "start_time": "2022-11-20T19:10:00.079Z"
   },
   {
    "duration": 11,
    "start_time": "2022-11-20T19:10:00.084Z"
   },
   {
    "duration": 19,
    "start_time": "2022-11-20T19:10:00.097Z"
   },
   {
    "duration": 8,
    "start_time": "2022-11-20T19:10:00.118Z"
   },
   {
    "duration": 43967,
    "start_time": "2022-11-20T19:10:00.128Z"
   },
   {
    "duration": 110,
    "start_time": "2022-11-20T19:10:44.096Z"
   },
   {
    "duration": 9,
    "start_time": "2022-11-20T19:10:44.208Z"
   },
   {
    "duration": 6,
    "start_time": "2022-11-20T19:10:44.219Z"
   },
   {
    "duration": 1468,
    "start_time": "2022-11-21T08:13:55.452Z"
   },
   {
    "duration": 3,
    "start_time": "2022-11-21T08:13:56.921Z"
   },
   {
    "duration": 105,
    "start_time": "2022-11-21T08:13:56.926Z"
   },
   {
    "duration": 21,
    "start_time": "2022-11-21T08:13:57.033Z"
   },
   {
    "duration": 40,
    "start_time": "2022-11-21T08:13:57.056Z"
   },
   {
    "duration": 4,
    "start_time": "2022-11-21T08:13:57.097Z"
   },
   {
    "duration": 4,
    "start_time": "2022-11-21T08:13:57.116Z"
   },
   {
    "duration": 6,
    "start_time": "2022-11-21T08:13:57.121Z"
   },
   {
    "duration": 21,
    "start_time": "2022-11-21T08:13:57.129Z"
   },
   {
    "duration": 168,
    "start_time": "2022-11-21T08:13:57.152Z"
   },
   {
    "duration": 5,
    "start_time": "2022-11-21T08:13:57.322Z"
   },
   {
    "duration": 7,
    "start_time": "2022-11-21T08:13:57.328Z"
   },
   {
    "duration": 885,
    "start_time": "2022-11-21T08:13:57.336Z"
   },
   {
    "duration": 2,
    "start_time": "2022-11-21T08:13:58.223Z"
   },
   {
    "duration": 14,
    "start_time": "2022-11-21T08:13:58.226Z"
   },
   {
    "duration": 6,
    "start_time": "2022-11-21T08:13:58.241Z"
   },
   {
    "duration": 7,
    "start_time": "2022-11-21T08:13:58.248Z"
   },
   {
    "duration": 41469,
    "start_time": "2022-11-21T08:13:58.257Z"
   },
   {
    "duration": 113,
    "start_time": "2022-11-21T08:14:39.727Z"
   },
   {
    "duration": 10,
    "start_time": "2022-11-21T08:14:39.841Z"
   },
   {
    "duration": 5,
    "start_time": "2022-11-21T08:14:39.852Z"
   },
   {
    "duration": 1329,
    "start_time": "2022-11-21T08:36:19.081Z"
   },
   {
    "duration": 4,
    "start_time": "2022-11-21T08:36:20.412Z"
   },
   {
    "duration": 89,
    "start_time": "2022-11-21T08:36:20.417Z"
   },
   {
    "duration": 20,
    "start_time": "2022-11-21T08:36:20.508Z"
   },
   {
    "duration": 40,
    "start_time": "2022-11-21T08:36:20.530Z"
   },
   {
    "duration": 4,
    "start_time": "2022-11-21T08:36:20.571Z"
   },
   {
    "duration": 7,
    "start_time": "2022-11-21T08:36:20.576Z"
   },
   {
    "duration": 7,
    "start_time": "2022-11-21T08:36:20.585Z"
   },
   {
    "duration": 30,
    "start_time": "2022-11-21T08:36:20.593Z"
   },
   {
    "duration": 172,
    "start_time": "2022-11-21T08:36:20.625Z"
   },
   {
    "duration": 5,
    "start_time": "2022-11-21T08:36:20.799Z"
   },
   {
    "duration": 7,
    "start_time": "2022-11-21T08:36:20.815Z"
   },
   {
    "duration": 903,
    "start_time": "2022-11-21T08:36:20.823Z"
   },
   {
    "duration": 2,
    "start_time": "2022-11-21T08:36:21.728Z"
   },
   {
    "duration": 22,
    "start_time": "2022-11-21T08:36:21.732Z"
   },
   {
    "duration": 15,
    "start_time": "2022-11-21T08:36:21.756Z"
   },
   {
    "duration": 10,
    "start_time": "2022-11-21T08:36:21.773Z"
   },
   {
    "duration": 42167,
    "start_time": "2022-11-21T08:36:21.785Z"
   },
   {
    "duration": 115,
    "start_time": "2022-11-21T08:37:03.953Z"
   },
   {
    "duration": 12,
    "start_time": "2022-11-21T08:37:04.070Z"
   },
   {
    "duration": 7,
    "start_time": "2022-11-21T08:37:04.084Z"
   },
   {
    "duration": 56,
    "start_time": "2022-11-21T08:39:56.345Z"
   },
   {
    "duration": 6706,
    "start_time": "2022-11-21T08:41:55.434Z"
   },
   {
    "duration": 111,
    "start_time": "2022-11-21T08:42:51.069Z"
   },
   {
    "duration": 4,
    "start_time": "2022-11-21T08:43:07.428Z"
   },
   {
    "duration": 3,
    "start_time": "2022-11-21T08:43:56.879Z"
   },
   {
    "duration": 684,
    "start_time": "2022-11-21T08:43:56.886Z"
   },
   {
    "duration": 474,
    "start_time": "2022-11-21T08:43:57.572Z"
   },
   {
    "duration": 3,
    "start_time": "2022-11-21T08:43:58.048Z"
   },
   {
    "duration": 64,
    "start_time": "2022-11-21T08:43:58.053Z"
   },
   {
    "duration": 21,
    "start_time": "2022-11-21T08:43:58.119Z"
   },
   {
    "duration": 41,
    "start_time": "2022-11-21T08:43:58.141Z"
   },
   {
    "duration": 4,
    "start_time": "2022-11-21T08:43:58.185Z"
   },
   {
    "duration": 8,
    "start_time": "2022-11-21T08:43:58.190Z"
   },
   {
    "duration": 17,
    "start_time": "2022-11-21T08:43:58.199Z"
   },
   {
    "duration": 14,
    "start_time": "2022-11-21T08:43:58.218Z"
   },
   {
    "duration": 164,
    "start_time": "2022-11-21T08:43:58.233Z"
   },
   {
    "duration": 4,
    "start_time": "2022-11-21T08:43:58.398Z"
   },
   {
    "duration": 13,
    "start_time": "2022-11-21T08:43:58.404Z"
   },
   {
    "duration": 944,
    "start_time": "2022-11-21T08:43:58.419Z"
   },
   {
    "duration": 3,
    "start_time": "2022-11-21T08:43:59.364Z"
   },
   {
    "duration": 17,
    "start_time": "2022-11-21T08:43:59.368Z"
   },
   {
    "duration": 6,
    "start_time": "2022-11-21T08:43:59.387Z"
   },
   {
    "duration": 21,
    "start_time": "2022-11-21T08:43:59.394Z"
   },
   {
    "duration": 42763,
    "start_time": "2022-11-21T08:43:59.417Z"
   },
   {
    "duration": 109,
    "start_time": "2022-11-21T08:44:42.182Z"
   },
   {
    "duration": 8,
    "start_time": "2022-11-21T08:44:42.293Z"
   },
   {
    "duration": 14,
    "start_time": "2022-11-21T08:44:42.303Z"
   },
   {
    "duration": 3,
    "start_time": "2022-11-21T08:44:55.139Z"
   },
   {
    "duration": 603,
    "start_time": "2022-11-21T08:44:55.146Z"
   },
   {
    "duration": 492,
    "start_time": "2022-11-21T08:44:55.751Z"
   },
   {
    "duration": 3,
    "start_time": "2022-11-21T08:44:56.245Z"
   },
   {
    "duration": 88,
    "start_time": "2022-11-21T08:44:56.250Z"
   },
   {
    "duration": 28,
    "start_time": "2022-11-21T08:44:56.341Z"
   },
   {
    "duration": 63,
    "start_time": "2022-11-21T08:44:56.370Z"
   },
   {
    "duration": 4,
    "start_time": "2022-11-21T08:44:56.435Z"
   },
   {
    "duration": 15,
    "start_time": "2022-11-21T08:44:56.440Z"
   },
   {
    "duration": 17,
    "start_time": "2022-11-21T08:44:56.457Z"
   },
   {
    "duration": 32,
    "start_time": "2022-11-21T08:44:56.476Z"
   },
   {
    "duration": 152,
    "start_time": "2022-11-21T08:44:56.509Z"
   },
   {
    "duration": 4,
    "start_time": "2022-11-21T08:44:56.663Z"
   },
   {
    "duration": 8,
    "start_time": "2022-11-21T08:44:56.669Z"
   },
   {
    "duration": 909,
    "start_time": "2022-11-21T08:44:56.679Z"
   },
   {
    "duration": 2,
    "start_time": "2022-11-21T08:44:57.590Z"
   },
   {
    "duration": 14,
    "start_time": "2022-11-21T08:44:57.593Z"
   },
   {
    "duration": 11,
    "start_time": "2022-11-21T08:44:57.608Z"
   },
   {
    "duration": 8,
    "start_time": "2022-11-21T08:44:57.621Z"
   },
   {
    "duration": 16063,
    "start_time": "2022-11-21T08:44:57.631Z"
   },
   {
    "duration": 12,
    "start_time": "2022-11-21T08:45:13.696Z"
   },
   {
    "duration": 0,
    "start_time": "2022-11-21T08:45:13.709Z"
   },
   {
    "duration": 0,
    "start_time": "2022-11-21T08:45:13.711Z"
   },
   {
    "duration": 0,
    "start_time": "2022-11-21T08:45:13.712Z"
   },
   {
    "duration": 0,
    "start_time": "2022-11-21T08:45:13.713Z"
   },
   {
    "duration": 2446,
    "start_time": "2022-11-21T08:45:15.558Z"
   },
   {
    "duration": 6,
    "start_time": "2022-11-21T08:45:18.006Z"
   },
   {
    "duration": 2476,
    "start_time": "2022-11-21T08:45:52.254Z"
   },
   {
    "duration": 625,
    "start_time": "2022-11-21T08:45:54.733Z"
   },
   {
    "duration": 455,
    "start_time": "2022-11-21T08:45:55.359Z"
   },
   {
    "duration": 2,
    "start_time": "2022-11-21T08:45:55.816Z"
   },
   {
    "duration": 64,
    "start_time": "2022-11-21T08:45:55.820Z"
   },
   {
    "duration": 22,
    "start_time": "2022-11-21T08:45:55.885Z"
   },
   {
    "duration": 43,
    "start_time": "2022-11-21T08:45:55.909Z"
   },
   {
    "duration": 4,
    "start_time": "2022-11-21T08:45:55.954Z"
   },
   {
    "duration": 8,
    "start_time": "2022-11-21T08:45:55.959Z"
   },
   {
    "duration": 7,
    "start_time": "2022-11-21T08:45:55.969Z"
   },
   {
    "duration": 17,
    "start_time": "2022-11-21T08:45:55.978Z"
   },
   {
    "duration": 165,
    "start_time": "2022-11-21T08:45:55.996Z"
   },
   {
    "duration": 5,
    "start_time": "2022-11-21T08:45:56.162Z"
   },
   {
    "duration": 12,
    "start_time": "2022-11-21T08:45:56.168Z"
   },
   {
    "duration": 964,
    "start_time": "2022-11-21T08:45:56.182Z"
   },
   {
    "duration": 2,
    "start_time": "2022-11-21T08:45:57.148Z"
   },
   {
    "duration": 18,
    "start_time": "2022-11-21T08:45:57.151Z"
   },
   {
    "duration": 6,
    "start_time": "2022-11-21T08:45:57.171Z"
   },
   {
    "duration": 14,
    "start_time": "2022-11-21T08:45:57.178Z"
   },
   {
    "duration": 42849,
    "start_time": "2022-11-21T08:45:57.193Z"
   },
   {
    "duration": 116,
    "start_time": "2022-11-21T08:46:40.044Z"
   },
   {
    "duration": 9,
    "start_time": "2022-11-21T08:46:40.162Z"
   },
   {
    "duration": 6,
    "start_time": "2022-11-21T08:46:40.172Z"
   },
   {
    "duration": 167,
    "start_time": "2022-11-21T08:46:40.180Z"
   },
   {
    "duration": 180,
    "start_time": "2022-11-21T08:47:14.689Z"
   },
   {
    "duration": 283,
    "start_time": "2022-11-21T08:47:25.617Z"
   },
   {
    "duration": 143,
    "start_time": "2022-11-21T08:47:29.145Z"
   },
   {
    "duration": 101,
    "start_time": "2022-11-21T08:47:37.377Z"
   },
   {
    "duration": 170,
    "start_time": "2022-11-21T08:52:20.088Z"
   },
   {
    "duration": 164,
    "start_time": "2022-11-21T08:52:41.024Z"
   },
   {
    "duration": 202,
    "start_time": "2022-11-21T08:52:53.913Z"
   },
   {
    "duration": 210,
    "start_time": "2022-11-21T08:55:07.139Z"
   },
   {
    "duration": 5,
    "start_time": "2022-11-21T08:55:12.762Z"
   },
   {
    "duration": 231,
    "start_time": "2022-11-21T08:55:18.547Z"
   },
   {
    "duration": 237,
    "start_time": "2022-11-21T08:55:46.620Z"
   },
   {
    "duration": 245,
    "start_time": "2022-11-21T08:56:09.888Z"
   },
   {
    "duration": 368,
    "start_time": "2022-11-21T08:56:31.604Z"
   },
   {
    "duration": 259,
    "start_time": "2022-11-21T08:56:40.565Z"
   },
   {
    "duration": 291,
    "start_time": "2022-11-21T08:56:48.173Z"
   },
   {
    "duration": 296,
    "start_time": "2022-11-21T08:56:54.925Z"
   },
   {
    "duration": 305,
    "start_time": "2022-11-21T08:57:33.406Z"
   },
   {
    "duration": 5,
    "start_time": "2022-11-21T08:57:50.886Z"
   },
   {
    "duration": 431,
    "start_time": "2022-11-21T08:57:55.798Z"
   },
   {
    "duration": 338,
    "start_time": "2022-11-21T08:58:29.495Z"
   },
   {
    "duration": 348,
    "start_time": "2022-11-21T08:58:47.597Z"
   },
   {
    "duration": 5,
    "start_time": "2022-11-21T09:53:02.925Z"
   },
   {
    "duration": 358,
    "start_time": "2022-11-21T09:53:03.652Z"
   },
   {
    "duration": 2581,
    "start_time": "2022-11-21T10:02:18.013Z"
   },
   {
    "duration": 695,
    "start_time": "2022-11-21T10:02:20.597Z"
   },
   {
    "duration": 483,
    "start_time": "2022-11-21T10:02:21.294Z"
   },
   {
    "duration": 3,
    "start_time": "2022-11-21T10:02:21.780Z"
   },
   {
    "duration": 73,
    "start_time": "2022-11-21T10:02:21.785Z"
   },
   {
    "duration": 23,
    "start_time": "2022-11-21T10:02:21.860Z"
   },
   {
    "duration": 45,
    "start_time": "2022-11-21T10:02:21.884Z"
   },
   {
    "duration": 4,
    "start_time": "2022-11-21T10:02:21.930Z"
   },
   {
    "duration": 11,
    "start_time": "2022-11-21T10:02:21.935Z"
   },
   {
    "duration": 12,
    "start_time": "2022-11-21T10:02:21.949Z"
   },
   {
    "duration": 23,
    "start_time": "2022-11-21T10:02:21.963Z"
   },
   {
    "duration": 208,
    "start_time": "2022-11-21T10:02:21.988Z"
   },
   {
    "duration": 18,
    "start_time": "2022-11-21T10:02:22.198Z"
   },
   {
    "duration": 6,
    "start_time": "2022-11-21T10:02:22.218Z"
   },
   {
    "duration": 1864,
    "start_time": "2022-11-21T10:02:22.226Z"
   },
   {
    "duration": 3,
    "start_time": "2022-11-21T10:02:24.094Z"
   },
   {
    "duration": 929,
    "start_time": "2022-11-21T10:02:24.099Z"
   },
   {
    "duration": 4,
    "start_time": "2022-11-21T10:02:25.030Z"
   },
   {
    "duration": 384,
    "start_time": "2022-11-21T10:02:25.036Z"
   },
   {
    "duration": 6,
    "start_time": "2022-11-21T10:02:25.422Z"
   },
   {
    "duration": 9,
    "start_time": "2022-11-21T10:02:25.430Z"
   },
   {
    "duration": 42981,
    "start_time": "2022-11-21T10:02:25.441Z"
   },
   {
    "duration": 109,
    "start_time": "2022-11-21T10:03:08.423Z"
   },
   {
    "duration": 10,
    "start_time": "2022-11-21T10:03:08.534Z"
   },
   {
    "duration": 6,
    "start_time": "2022-11-21T10:03:08.545Z"
   },
   {
    "duration": 2507,
    "start_time": "2022-11-21T10:27:36.001Z"
   },
   {
    "duration": 658,
    "start_time": "2022-11-21T10:27:38.511Z"
   },
   {
    "duration": 489,
    "start_time": "2022-11-21T10:27:39.171Z"
   },
   {
    "duration": 2,
    "start_time": "2022-11-21T10:27:39.663Z"
   },
   {
    "duration": 99,
    "start_time": "2022-11-21T10:27:39.666Z"
   },
   {
    "duration": 20,
    "start_time": "2022-11-21T10:27:39.767Z"
   },
   {
    "duration": 56,
    "start_time": "2022-11-21T10:27:39.789Z"
   },
   {
    "duration": 4,
    "start_time": "2022-11-21T10:27:39.846Z"
   },
   {
    "duration": 36,
    "start_time": "2022-11-21T10:27:39.851Z"
   },
   {
    "duration": 21,
    "start_time": "2022-11-21T10:27:39.890Z"
   },
   {
    "duration": 56,
    "start_time": "2022-11-21T10:27:39.913Z"
   },
   {
    "duration": 166,
    "start_time": "2022-11-21T10:27:39.970Z"
   },
   {
    "duration": 5,
    "start_time": "2022-11-21T10:27:40.137Z"
   },
   {
    "duration": 49,
    "start_time": "2022-11-21T10:27:40.143Z"
   },
   {
    "duration": 143,
    "start_time": "2022-11-21T10:27:40.194Z"
   },
   {
    "duration": 1,
    "start_time": "2022-11-21T10:27:40.338Z"
   },
   {
    "duration": 0,
    "start_time": "2022-11-21T10:27:40.340Z"
   },
   {
    "duration": 0,
    "start_time": "2022-11-21T10:27:40.341Z"
   },
   {
    "duration": 0,
    "start_time": "2022-11-21T10:27:40.342Z"
   },
   {
    "duration": 0,
    "start_time": "2022-11-21T10:27:40.343Z"
   },
   {
    "duration": 0,
    "start_time": "2022-11-21T10:27:40.344Z"
   },
   {
    "duration": 0,
    "start_time": "2022-11-21T10:27:40.345Z"
   },
   {
    "duration": 0,
    "start_time": "2022-11-21T10:27:40.346Z"
   },
   {
    "duration": 0,
    "start_time": "2022-11-21T10:27:40.347Z"
   },
   {
    "duration": 0,
    "start_time": "2022-11-21T10:27:40.347Z"
   },
   {
    "duration": 2625,
    "start_time": "2022-11-21T10:28:14.193Z"
   },
   {
    "duration": 645,
    "start_time": "2022-11-21T10:28:16.820Z"
   },
   {
    "duration": 498,
    "start_time": "2022-11-21T10:28:17.467Z"
   },
   {
    "duration": 3,
    "start_time": "2022-11-21T10:28:17.967Z"
   },
   {
    "duration": 66,
    "start_time": "2022-11-21T10:28:17.971Z"
   },
   {
    "duration": 27,
    "start_time": "2022-11-21T10:28:18.039Z"
   },
   {
    "duration": 59,
    "start_time": "2022-11-21T10:28:18.068Z"
   },
   {
    "duration": 4,
    "start_time": "2022-11-21T10:28:18.128Z"
   },
   {
    "duration": 10,
    "start_time": "2022-11-21T10:28:18.134Z"
   },
   {
    "duration": 5,
    "start_time": "2022-11-21T10:28:18.147Z"
   },
   {
    "duration": 21,
    "start_time": "2022-11-21T10:28:18.153Z"
   },
   {
    "duration": 179,
    "start_time": "2022-11-21T10:28:18.176Z"
   },
   {
    "duration": 4,
    "start_time": "2022-11-21T10:28:18.357Z"
   },
   {
    "duration": 13,
    "start_time": "2022-11-21T10:28:18.363Z"
   },
   {
    "duration": 139,
    "start_time": "2022-11-21T10:28:18.378Z"
   },
   {
    "duration": 0,
    "start_time": "2022-11-21T10:28:18.519Z"
   },
   {
    "duration": 0,
    "start_time": "2022-11-21T10:28:18.520Z"
   },
   {
    "duration": 0,
    "start_time": "2022-11-21T10:28:18.521Z"
   },
   {
    "duration": 0,
    "start_time": "2022-11-21T10:28:18.522Z"
   },
   {
    "duration": 0,
    "start_time": "2022-11-21T10:28:18.523Z"
   },
   {
    "duration": 0,
    "start_time": "2022-11-21T10:28:18.523Z"
   },
   {
    "duration": 0,
    "start_time": "2022-11-21T10:28:18.524Z"
   },
   {
    "duration": 0,
    "start_time": "2022-11-21T10:28:18.525Z"
   },
   {
    "duration": 0,
    "start_time": "2022-11-21T10:28:18.526Z"
   },
   {
    "duration": 0,
    "start_time": "2022-11-21T10:28:18.527Z"
   },
   {
    "duration": 2562,
    "start_time": "2022-11-21T10:29:06.095Z"
   },
   {
    "duration": 605,
    "start_time": "2022-11-21T10:29:08.659Z"
   },
   {
    "duration": 489,
    "start_time": "2022-11-21T10:29:09.265Z"
   },
   {
    "duration": 3,
    "start_time": "2022-11-21T10:29:09.756Z"
   },
   {
    "duration": 64,
    "start_time": "2022-11-21T10:29:09.760Z"
   },
   {
    "duration": 24,
    "start_time": "2022-11-21T10:29:09.825Z"
   },
   {
    "duration": 42,
    "start_time": "2022-11-21T10:29:09.851Z"
   },
   {
    "duration": 22,
    "start_time": "2022-11-21T10:29:09.895Z"
   },
   {
    "duration": 3,
    "start_time": "2022-11-21T10:29:09.919Z"
   },
   {
    "duration": 13,
    "start_time": "2022-11-21T10:29:09.924Z"
   },
   {
    "duration": 26,
    "start_time": "2022-11-21T10:29:09.938Z"
   },
   {
    "duration": 185,
    "start_time": "2022-11-21T10:29:09.966Z"
   },
   {
    "duration": 6,
    "start_time": "2022-11-21T10:29:10.153Z"
   },
   {
    "duration": 18,
    "start_time": "2022-11-21T10:29:10.160Z"
   },
   {
    "duration": 211,
    "start_time": "2022-11-21T10:29:10.180Z"
   },
   {
    "duration": 110,
    "start_time": "2022-11-21T10:29:10.393Z"
   },
   {
    "duration": 0,
    "start_time": "2022-11-21T10:29:10.505Z"
   },
   {
    "duration": 0,
    "start_time": "2022-11-21T10:29:10.506Z"
   },
   {
    "duration": 0,
    "start_time": "2022-11-21T10:29:10.515Z"
   },
   {
    "duration": 0,
    "start_time": "2022-11-21T10:29:10.517Z"
   },
   {
    "duration": 0,
    "start_time": "2022-11-21T10:29:10.518Z"
   },
   {
    "duration": 0,
    "start_time": "2022-11-21T10:29:10.518Z"
   },
   {
    "duration": 0,
    "start_time": "2022-11-21T10:29:10.519Z"
   },
   {
    "duration": 0,
    "start_time": "2022-11-21T10:29:10.521Z"
   },
   {
    "duration": 0,
    "start_time": "2022-11-21T10:29:10.522Z"
   },
   {
    "duration": 211,
    "start_time": "2022-11-21T10:29:41.038Z"
   },
   {
    "duration": 208,
    "start_time": "2022-11-21T10:29:49.973Z"
   },
   {
    "duration": 235,
    "start_time": "2022-11-21T10:29:57.165Z"
   },
   {
    "duration": 260,
    "start_time": "2022-11-21T10:30:06.302Z"
   },
   {
    "duration": 216,
    "start_time": "2022-11-21T10:30:47.951Z"
   },
   {
    "duration": 236,
    "start_time": "2022-11-21T10:30:56.351Z"
   },
   {
    "duration": 4558,
    "start_time": "2022-11-21T10:32:06.338Z"
   },
   {
    "duration": 209,
    "start_time": "2022-11-21T10:37:48.281Z"
   },
   {
    "duration": 4535,
    "start_time": "2022-11-21T10:38:33.529Z"
   },
   {
    "duration": 56,
    "start_time": "2022-11-21T10:39:08.858Z"
   },
   {
    "duration": 11,
    "start_time": "2022-11-21T10:39:21.306Z"
   },
   {
    "duration": 212,
    "start_time": "2022-11-21T10:39:27.826Z"
   },
   {
    "duration": 53,
    "start_time": "2022-11-21T10:39:31.259Z"
   },
   {
    "duration": 4543,
    "start_time": "2022-11-21T10:39:35.171Z"
   },
   {
    "duration": 6601,
    "start_time": "2022-11-21T10:39:45.906Z"
   },
   {
    "duration": 10012,
    "start_time": "2022-11-21T10:40:16.172Z"
   },
   {
    "duration": 10757,
    "start_time": "2022-11-21T10:48:21.663Z"
   },
   {
    "duration": 510,
    "start_time": "2022-11-21T10:48:32.422Z"
   },
   {
    "duration": 6,
    "start_time": "2022-11-21T10:50:47.056Z"
   },
   {
    "duration": 2018,
    "start_time": "2022-11-21T10:52:00.099Z"
   },
   {
    "duration": 2177,
    "start_time": "2022-11-21T10:52:17.243Z"
   },
   {
    "duration": 2384,
    "start_time": "2022-11-21T10:52:29.034Z"
   },
   {
    "duration": 2019,
    "start_time": "2022-11-21T10:52:34.706Z"
   },
   {
    "duration": 2736,
    "start_time": "2022-11-21T10:52:48.587Z"
   },
   {
    "duration": 2541,
    "start_time": "2022-11-21T12:22:31.207Z"
   },
   {
    "duration": 653,
    "start_time": "2022-11-21T12:22:33.750Z"
   },
   {
    "duration": 483,
    "start_time": "2022-11-21T12:22:34.405Z"
   },
   {
    "duration": 3,
    "start_time": "2022-11-21T12:22:34.891Z"
   },
   {
    "duration": 65,
    "start_time": "2022-11-21T12:22:34.896Z"
   },
   {
    "duration": 25,
    "start_time": "2022-11-21T12:22:34.963Z"
   },
   {
    "duration": 41,
    "start_time": "2022-11-21T12:22:34.990Z"
   },
   {
    "duration": 4,
    "start_time": "2022-11-21T12:22:35.033Z"
   },
   {
    "duration": 20,
    "start_time": "2022-11-21T12:22:35.039Z"
   },
   {
    "duration": 6,
    "start_time": "2022-11-21T12:22:35.062Z"
   },
   {
    "duration": 22,
    "start_time": "2022-11-21T12:22:35.070Z"
   },
   {
    "duration": 173,
    "start_time": "2022-11-21T12:22:35.093Z"
   },
   {
    "duration": 4,
    "start_time": "2022-11-21T12:22:35.268Z"
   },
   {
    "duration": 14,
    "start_time": "2022-11-21T12:22:35.274Z"
   },
   {
    "duration": 496,
    "start_time": "2022-11-21T12:22:35.289Z"
   },
   {
    "duration": 10741,
    "start_time": "2022-11-21T12:22:35.787Z"
   },
   {
    "duration": 35577,
    "start_time": "2022-11-21T12:22:46.530Z"
   },
   {
    "duration": 115,
    "start_time": "2022-11-21T12:23:22.110Z"
   },
   {
    "duration": 5,
    "start_time": "2022-11-21T12:23:22.226Z"
   },
   {
    "duration": 37,
    "start_time": "2022-11-21T12:23:22.233Z"
   },
   {
    "duration": 29,
    "start_time": "2022-11-21T12:23:22.272Z"
   },
   {
    "duration": 35152,
    "start_time": "2022-11-21T12:24:48.001Z"
   },
   {
    "duration": 3,
    "start_time": "2022-11-21T12:25:23.155Z"
   },
   {
    "duration": 74650,
    "start_time": "2022-11-21T12:25:47.091Z"
   },
   {
    "duration": 3,
    "start_time": "2022-11-21T12:27:57.836Z"
   },
   {
    "duration": 4,
    "start_time": "2022-11-21T12:31:40.547Z"
   },
   {
    "duration": 110,
    "start_time": "2022-11-21T12:31:41.337Z"
   },
   {
    "duration": 7,
    "start_time": "2022-11-21T12:32:31.291Z"
   },
   {
    "duration": 5,
    "start_time": "2022-11-21T12:32:36.779Z"
   },
   {
    "duration": 11,
    "start_time": "2022-11-21T12:32:37.507Z"
   },
   {
    "duration": 111666,
    "start_time": "2022-11-21T12:32:46.114Z"
   },
   {
    "duration": 3,
    "start_time": "2022-11-21T12:34:37.782Z"
   },
   {
    "duration": 110707,
    "start_time": "2022-11-21T12:37:40.610Z"
   },
   {
    "duration": 4,
    "start_time": "2022-11-21T12:39:31.319Z"
   },
   {
    "duration": 3,
    "start_time": "2022-11-21T12:42:10.670Z"
   },
   {
    "duration": 101,
    "start_time": "2022-11-21T12:42:29.655Z"
   },
   {
    "duration": 376,
    "start_time": "2022-11-21T12:44:30.784Z"
   },
   {
    "duration": 358,
    "start_time": "2022-11-21T12:44:40.522Z"
   },
   {
    "duration": 4,
    "start_time": "2022-11-21T12:47:22.476Z"
   },
   {
    "duration": 2558,
    "start_time": "2022-11-21T12:53:48.349Z"
   },
   {
    "duration": 850,
    "start_time": "2022-11-21T12:53:50.909Z"
   },
   {
    "duration": 519,
    "start_time": "2022-11-21T12:53:51.761Z"
   },
   {
    "duration": 3,
    "start_time": "2022-11-21T12:53:52.282Z"
   },
   {
    "duration": 67,
    "start_time": "2022-11-21T12:53:52.287Z"
   },
   {
    "duration": 25,
    "start_time": "2022-11-21T12:53:52.355Z"
   },
   {
    "duration": 53,
    "start_time": "2022-11-21T12:53:52.382Z"
   },
   {
    "duration": 4,
    "start_time": "2022-11-21T12:53:52.438Z"
   },
   {
    "duration": 6,
    "start_time": "2022-11-21T12:53:52.444Z"
   },
   {
    "duration": 6,
    "start_time": "2022-11-21T12:53:52.453Z"
   },
   {
    "duration": 26,
    "start_time": "2022-11-21T12:53:52.461Z"
   },
   {
    "duration": 176,
    "start_time": "2022-11-21T12:53:52.489Z"
   },
   {
    "duration": 4,
    "start_time": "2022-11-21T12:53:52.667Z"
   },
   {
    "duration": 13,
    "start_time": "2022-11-21T12:53:52.673Z"
   },
   {
    "duration": 488,
    "start_time": "2022-11-21T12:53:52.688Z"
   },
   {
    "duration": 10705,
    "start_time": "2022-11-21T12:53:53.177Z"
   },
   {
    "duration": 74904,
    "start_time": "2022-11-21T12:54:03.883Z"
   },
   {
    "duration": 3,
    "start_time": "2022-11-21T12:55:18.789Z"
   },
   {
    "duration": 21,
    "start_time": "2022-11-21T12:55:18.793Z"
   },
   {
    "duration": 46,
    "start_time": "2022-11-21T12:55:18.816Z"
   },
   {
    "duration": 111319,
    "start_time": "2022-11-21T12:55:18.863Z"
   },
   {
    "duration": 4,
    "start_time": "2022-11-21T12:57:10.183Z"
   },
   {
    "duration": 40,
    "start_time": "2022-11-21T12:57:10.188Z"
   },
   {
    "duration": 158,
    "start_time": "2022-11-21T12:57:10.230Z"
   },
   {
    "duration": 364,
    "start_time": "2022-11-21T12:57:10.390Z"
   },
   {
    "duration": 13447,
    "start_time": "2022-11-21T12:58:01.345Z"
   },
   {
    "duration": 9254,
    "start_time": "2022-11-21T12:58:15.635Z"
   },
   {
    "duration": 2520,
    "start_time": "2022-11-21T12:59:35.818Z"
   },
   {
    "duration": 621,
    "start_time": "2022-11-21T12:59:38.341Z"
   },
   {
    "duration": 488,
    "start_time": "2022-11-21T12:59:38.963Z"
   },
   {
    "duration": 3,
    "start_time": "2022-11-21T12:59:39.453Z"
   },
   {
    "duration": 66,
    "start_time": "2022-11-21T12:59:39.457Z"
   },
   {
    "duration": 22,
    "start_time": "2022-11-21T12:59:39.524Z"
   },
   {
    "duration": 37,
    "start_time": "2022-11-21T12:59:39.548Z"
   },
   {
    "duration": 3,
    "start_time": "2022-11-21T12:59:39.587Z"
   },
   {
    "duration": 24,
    "start_time": "2022-11-21T12:59:39.592Z"
   },
   {
    "duration": 17,
    "start_time": "2022-11-21T12:59:39.619Z"
   },
   {
    "duration": 37,
    "start_time": "2022-11-21T12:59:39.638Z"
   },
   {
    "duration": 148,
    "start_time": "2022-11-21T12:59:39.676Z"
   },
   {
    "duration": 5,
    "start_time": "2022-11-21T12:59:39.825Z"
   },
   {
    "duration": 33,
    "start_time": "2022-11-21T12:59:39.831Z"
   },
   {
    "duration": 489,
    "start_time": "2022-11-21T12:59:39.865Z"
   },
   {
    "duration": 10626,
    "start_time": "2022-11-21T12:59:40.356Z"
   },
   {
    "duration": 74459,
    "start_time": "2022-11-21T12:59:50.983Z"
   },
   {
    "duration": 3,
    "start_time": "2022-11-21T13:01:05.444Z"
   },
   {
    "duration": 7,
    "start_time": "2022-11-21T13:01:05.449Z"
   },
   {
    "duration": 25,
    "start_time": "2022-11-21T13:01:05.457Z"
   },
   {
    "duration": 112469,
    "start_time": "2022-11-21T13:01:05.484Z"
   },
   {
    "duration": 3,
    "start_time": "2022-11-21T13:02:57.955Z"
   },
   {
    "duration": 30,
    "start_time": "2022-11-21T13:02:57.960Z"
   },
   {
    "duration": 133,
    "start_time": "2022-11-21T13:02:57.992Z"
   },
   {
    "duration": 392,
    "start_time": "2022-11-21T13:02:58.127Z"
   }
  ],
  "kernelspec": {
   "display_name": "Python 3 (ipykernel)",
   "language": "python",
   "name": "python3"
  },
  "language_info": {
   "codemirror_mode": {
    "name": "ipython",
    "version": 3
   },
   "file_extension": ".py",
   "mimetype": "text/x-python",
   "name": "python",
   "nbconvert_exporter": "python",
   "pygments_lexer": "ipython3",
   "version": "3.10.7"
  },
  "toc": {
   "base_numbering": 1,
   "nav_menu": {},
   "number_sections": true,
   "sideBar": true,
   "skip_h1_title": true,
   "title_cell": "Содержание",
   "title_sidebar": "Contents",
   "toc_cell": true,
   "toc_position": {
    "height": "calc(100% - 180px)",
    "left": "10px",
    "top": "150px",
    "width": "408.8px"
   },
   "toc_section_display": true,
   "toc_window_display": true
  }
 },
 "nbformat": 4,
 "nbformat_minor": 2
}
