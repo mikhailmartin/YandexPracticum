{
 "cells": [
  {
   "cell_type": "markdown",
   "metadata": {},
   "source": [
    "# Спринт 13 «Линейная алгебра»"
   ]
  },
  {
   "cell_type": "markdown",
   "metadata": {},
   "source": [
    "# Проект «Защита персональных данных клиентов»"
   ]
  },
  {
   "cell_type": "markdown",
   "metadata": {},
   "source": [
    "## Навигация\n",
    "\n",
    "1. [Загрузка данных](#Загрузка-данных)\n",
    "1. [Умножение матриц](#Умножение-матриц)\n",
    "1. [Алгоритм преобразования](#Алгоритм-преобразования)\n",
    "1. [Проверка алгоритма](#Проверка-алгоритма)\n",
    "   - [Эксперимент без кодирования](#Эксперимент-без-кодирования)\n",
    "   - [Эксперимент с кодированием](#Эксперимент-с-кодированием)\n",
    "1. [Общий вывод](#Общий-вывод)"
   ]
  },
  {
   "cell_type": "markdown",
   "metadata": {},
   "source": [
    "Нам нужно защитить данные клиентов страховой компании «Хоть потоп». Необходимо разработать такой метод преобразования данных, чтобы по ним было сложно восстановить персональную информацию.\n",
    "\n",
    "Нужно защитить данные, чтобы при преобразовании качество моделей машинного обучения не ухудшилось."
   ]
  },
  {
   "cell_type": "code",
   "execution_count": 1,
   "metadata": {},
   "outputs": [],
   "source": [
    "import os\n",
    "\n",
    "import numpy as np\n",
    "import pandas as pd\n",
    "from sklearn.metrics import r2_score\n",
    "from sklearn.model_selection import train_test_split\n",
    "from sklearn.linear_model import LinearRegression"
   ]
  },
  {
   "cell_type": "code",
   "execution_count": 2,
   "metadata": {},
   "outputs": [],
   "source": [
    "RANDOM_STATE = 42"
   ]
  },
  {
   "cell_type": "markdown",
   "metadata": {},
   "source": [
    "## Загрузка данных\n",
    "\n",
    "[к навигации](#Навигация)"
   ]
  },
  {
   "cell_type": "code",
   "execution_count": 3,
   "metadata": {},
   "outputs": [
    {
     "data": {
      "text/html": [
       "<div>\n",
       "<style scoped>\n",
       "    .dataframe tbody tr th:only-of-type {\n",
       "        vertical-align: middle;\n",
       "    }\n",
       "\n",
       "    .dataframe tbody tr th {\n",
       "        vertical-align: top;\n",
       "    }\n",
       "\n",
       "    .dataframe thead th {\n",
       "        text-align: right;\n",
       "    }\n",
       "</style>\n",
       "<table border=\"1\" class=\"dataframe\">\n",
       "  <thead>\n",
       "    <tr style=\"text-align: right;\">\n",
       "      <th></th>\n",
       "      <th>Пол</th>\n",
       "      <th>Возраст</th>\n",
       "      <th>Зарплата</th>\n",
       "      <th>Члены семьи</th>\n",
       "      <th>Страховые выплаты</th>\n",
       "    </tr>\n",
       "  </thead>\n",
       "  <tbody>\n",
       "    <tr>\n",
       "      <th>0</th>\n",
       "      <td>1</td>\n",
       "      <td>41.0</td>\n",
       "      <td>49600.0</td>\n",
       "      <td>1</td>\n",
       "      <td>0</td>\n",
       "    </tr>\n",
       "    <tr>\n",
       "      <th>1</th>\n",
       "      <td>0</td>\n",
       "      <td>46.0</td>\n",
       "      <td>38000.0</td>\n",
       "      <td>1</td>\n",
       "      <td>1</td>\n",
       "    </tr>\n",
       "    <tr>\n",
       "      <th>2</th>\n",
       "      <td>0</td>\n",
       "      <td>29.0</td>\n",
       "      <td>21000.0</td>\n",
       "      <td>0</td>\n",
       "      <td>0</td>\n",
       "    </tr>\n",
       "    <tr>\n",
       "      <th>3</th>\n",
       "      <td>0</td>\n",
       "      <td>21.0</td>\n",
       "      <td>41700.0</td>\n",
       "      <td>2</td>\n",
       "      <td>0</td>\n",
       "    </tr>\n",
       "    <tr>\n",
       "      <th>4</th>\n",
       "      <td>1</td>\n",
       "      <td>28.0</td>\n",
       "      <td>26100.0</td>\n",
       "      <td>0</td>\n",
       "      <td>0</td>\n",
       "    </tr>\n",
       "  </tbody>\n",
       "</table>\n",
       "</div>"
      ],
      "text/plain": [
       "   Пол  Возраст  Зарплата  Члены семьи  Страховые выплаты\n",
       "0    1     41.0   49600.0            1                  0\n",
       "1    0     46.0   38000.0            1                  1\n",
       "2    0     29.0   21000.0            0                  0\n",
       "3    0     21.0   41700.0            2                  0\n",
       "4    1     28.0   26100.0            0                  0"
      ]
     },
     "execution_count": 3,
     "metadata": {},
     "output_type": "execute_result"
    }
   ],
   "source": [
    "data = pd.read_csv(os.path.join('..', 'datasets', 'insurance.csv'))\n",
    "data.head()"
   ]
  },
  {
   "cell_type": "code",
   "execution_count": 4,
   "metadata": {},
   "outputs": [
    {
     "name": "stdout",
     "output_type": "stream",
     "text": [
      "<class 'pandas.core.frame.DataFrame'>\n",
      "RangeIndex: 5000 entries, 0 to 4999\n",
      "Data columns (total 5 columns):\n",
      " #   Column             Non-Null Count  Dtype  \n",
      "---  ------             --------------  -----  \n",
      " 0   Пол                5000 non-null   int64  \n",
      " 1   Возраст            5000 non-null   float64\n",
      " 2   Зарплата           5000 non-null   float64\n",
      " 3   Члены семьи        5000 non-null   int64  \n",
      " 4   Страховые выплаты  5000 non-null   int64  \n",
      "dtypes: float64(2), int64(3)\n",
      "memory usage: 195.4 KB\n"
     ]
    }
   ],
   "source": [
    "data.info()"
   ]
  },
  {
   "cell_type": "markdown",
   "metadata": {},
   "source": [
    "__Выводы:__ \n",
    "1. Пропуски отсутствуют. Отлично!\n",
    "2. `Пол` -  бинарный признак, `Возраст` - численный непрерывный, `Зарплата` - численный непрерывный, `Члены семьи` - численный дискретный. Целевой признак `Страховые выплаты` - является численным дискретным.\n",
    "3. После предсказания линейной регрессией, хорошо бы округлять ответ до целых."
   ]
  },
  {
   "cell_type": "markdown",
   "metadata": {},
   "source": [
    "## Умножение матриц\n",
    "\n",
    "[к навигации](#Навигация)"
   ]
  },
  {
   "cell_type": "markdown",
   "metadata": {},
   "source": [
    "Обозначения:\n",
    "\n",
    "- $X$ — матрица признаков (нулевой столбец состоит из единиц)\n",
    "\n",
    "- $y$ — вектор целевого признака\n",
    "\n",
    "- $P$ — матрица, на которую умножаются признаки\n",
    "\n",
    "- $w$ — вектор весов линейной регрессии (нулевой элемент равен сдвигу)"
   ]
  },
  {
   "cell_type": "markdown",
   "metadata": {},
   "source": [
    "Предсказания:\n",
    "\n",
    "$$\n",
    "a = Xw\n",
    "$$\n",
    "\n",
    "Задача обучения:\n",
    "\n",
    "$$\n",
    "w = \\arg\\min_w MSE(Xw, y)\n",
    "$$\n",
    "\n",
    "Формула обучения:\n",
    "\n",
    "$$\n",
    "w = (X^T X)^{-1} X^T y\n",
    "$$"
   ]
  },
  {
   "cell_type": "markdown",
   "metadata": {},
   "source": [
    "**Ответ:**  \n",
    "Не изменится\n",
    "\n",
    "\n",
    "**Обоснование:** \n",
    "\n",
    "замена $w$  \n",
    "$$\n",
    "a = X (X^T X)^{-1} X^T y\n",
    "$$\n",
    "\n",
    "\n",
    "\n",
    "с кодированием ($P$ - матрица кодирования), знаем, что она обратима\n",
    "$$\n",
    "a' = (XP) ((XP)^T (XP))^{-1} (XP)^T y\n",
    "$$\n",
    "\n",
    "$$\n",
    "a' = X P ((XP)^T (XP))^{-1} (XP)^T y\n",
    "$$\n",
    "\n",
    "$$\n",
    "a' = X P (P^T X^T X P)^{-1} P^T X^T y\n",
    "$$\n",
    "\n",
    "вот здесь не уверен, что правильно раскрываю скобку из под -1 с тремя множителями\n",
    "$$\n",
    "a' = X P (P^T (X^T X) P)^{-1} P^T X^T y\n",
    "$$\n",
    "\n",
    "$$\n",
    "a' = X P P^{-1} (X^T X)^{-1} P^{T^{-1}} P^T X^T y\n",
    "$$\n",
    "\n",
    "$$\n",
    "a' = X (PP^{-1}) (X^T X)^{-1} (P^{T^{-1}}P^T) X^T y\n",
    "$$\n",
    "\n",
    "$$\n",
    "a' = X E (X^T X)^{-1} E X^T y\n",
    "$$\n",
    "\n",
    "$$\n",
    "a' = X (X^T X)^{-1} X^T y\n",
    "$$\n",
    "\n",
    "$$\n",
    "a' = a\n",
    "$$"
   ]
  },
  {
   "cell_type": "markdown",
   "metadata": {},
   "source": [
    "## Алгоритм преобразования\n",
    "\n",
    "[к навигации](#Навигация)"
   ]
  },
  {
   "cell_type": "markdown",
   "metadata": {},
   "source": [
    "**Алгоритм**\n",
    "\n",
    "- Создать квадратную матрицу со сторонами, равными количеству признаков.\n",
    "- Проверить, является ли она обратимой.\n",
    "- Закодировать признаки, умножив их на данную матрицу."
   ]
  },
  {
   "cell_type": "markdown",
   "metadata": {},
   "source": [
    "**Обоснование**\n",
    "\n",
    "Да в целом оно описано в п.2."
   ]
  },
  {
   "cell_type": "markdown",
   "metadata": {},
   "source": [
    "## Проверка алгоритма\n",
    "\n",
    "[к навигации](#Навигация)"
   ]
  },
  {
   "cell_type": "code",
   "execution_count": 5,
   "metadata": {},
   "outputs": [],
   "source": [
    "X = data.drop(columns='Страховые выплаты')\n",
    "y = data['Страховые выплаты']"
   ]
  },
  {
   "cell_type": "code",
   "execution_count": 6,
   "metadata": {},
   "outputs": [],
   "source": [
    "X_train, X_test, y_train, y_test = train_test_split(X, y, random_state=RANDOM_STATE)"
   ]
  },
  {
   "cell_type": "markdown",
   "metadata": {},
   "source": [
    "### Эксперимент без кодирования\n",
    "\n",
    "[к навигации](#Навигация)"
   ]
  },
  {
   "cell_type": "code",
   "execution_count": 7,
   "metadata": {},
   "outputs": [
    {
     "data": {
      "text/plain": [
       "LinearRegression()"
      ]
     },
     "execution_count": 7,
     "metadata": {},
     "output_type": "execute_result"
    }
   ],
   "source": [
    "model = LinearRegression()\n",
    "model.fit(X_train, y_train)"
   ]
  },
  {
   "cell_type": "code",
   "execution_count": 8,
   "metadata": {},
   "outputs": [
    {
     "data": {
      "text/plain": [
       "0.4254778540696319"
      ]
     },
     "execution_count": 8,
     "metadata": {},
     "output_type": "execute_result"
    }
   ],
   "source": [
    "y_pred = model.predict(X_test)\n",
    "r2_score(y_test, y_pred)"
   ]
  },
  {
   "cell_type": "markdown",
   "metadata": {},
   "source": [
    "### Эксперимент с кодированием\n",
    "\n",
    "[к навигации](#Навигация)"
   ]
  },
  {
   "cell_type": "code",
   "execution_count": 9,
   "metadata": {},
   "outputs": [],
   "source": [
    "n = X.shape[1]\n",
    "coder = np.random.random((n, n))\n",
    "decoder = np.linalg.inv(coder)  # выдаст ошибку, если матрица необратима, иначе вернёт обратную матрицу"
   ]
  },
  {
   "cell_type": "code",
   "execution_count": 10,
   "metadata": {},
   "outputs": [],
   "source": [
    "X_train_c = X_train @ coder\n",
    "X_test_c = X_test @ coder"
   ]
  },
  {
   "cell_type": "code",
   "execution_count": 11,
   "metadata": {},
   "outputs": [
    {
     "data": {
      "text/plain": [
       "LinearRegression()"
      ]
     },
     "execution_count": 11,
     "metadata": {},
     "output_type": "execute_result"
    }
   ],
   "source": [
    "model_c = LinearRegression()\n",
    "model_c.fit(X_train_c, y_train)"
   ]
  },
  {
   "cell_type": "code",
   "execution_count": 12,
   "metadata": {},
   "outputs": [
    {
     "data": {
      "text/plain": [
       "0.4254778540700015"
      ]
     },
     "execution_count": 12,
     "metadata": {},
     "output_type": "execute_result"
    }
   ],
   "source": [
    "y_pred_c = model_c.predict(X_test_c)\n",
    "r2_score(y_test, y_pred_c)"
   ]
  },
  {
   "cell_type": "markdown",
   "metadata": {},
   "source": [
    "Результыта почти неотличимы. Скорее всего теряется точность при умножении float * float."
   ]
  },
  {
   "cell_type": "code",
   "execution_count": 13,
   "metadata": {},
   "outputs": [],
   "source": [
    "X_train_dc = (X_train_c @ decoder).round(0).astype('int')\n",
    "X_test_dc = (X_test_c @ decoder).round(0).astype('int')"
   ]
  },
  {
   "cell_type": "code",
   "execution_count": 14,
   "metadata": {},
   "outputs": [
    {
     "data": {
      "text/plain": [
       "LinearRegression()"
      ]
     },
     "execution_count": 14,
     "metadata": {},
     "output_type": "execute_result"
    }
   ],
   "source": [
    "model_dc = LinearRegression()\n",
    "model_dc.fit(X_train_dc, y_train)"
   ]
  },
  {
   "cell_type": "code",
   "execution_count": 15,
   "metadata": {},
   "outputs": [
    {
     "data": {
      "text/plain": [
       "0.4254778540696319"
      ]
     },
     "execution_count": 15,
     "metadata": {},
     "output_type": "execute_result"
    }
   ],
   "source": [
    "y_pred_dc = model_dc.predict(X_test_dc)\n",
    "r2_score(y_test, y_pred_dc)"
   ]
  },
  {
   "cell_type": "code",
   "execution_count": 16,
   "metadata": {},
   "outputs": [
    {
     "data": {
      "text/html": [
       "<div>\n",
       "<style scoped>\n",
       "    .dataframe tbody tr th:only-of-type {\n",
       "        vertical-align: middle;\n",
       "    }\n",
       "\n",
       "    .dataframe tbody tr th {\n",
       "        vertical-align: top;\n",
       "    }\n",
       "\n",
       "    .dataframe thead th {\n",
       "        text-align: right;\n",
       "    }\n",
       "</style>\n",
       "<table border=\"1\" class=\"dataframe\">\n",
       "  <thead>\n",
       "    <tr style=\"text-align: right;\">\n",
       "      <th></th>\n",
       "      <th>0</th>\n",
       "      <th>1</th>\n",
       "      <th>2</th>\n",
       "      <th>3</th>\n",
       "    </tr>\n",
       "  </thead>\n",
       "  <tbody>\n",
       "    <tr>\n",
       "      <th>4884</th>\n",
       "      <td>0</td>\n",
       "      <td>34</td>\n",
       "      <td>40200</td>\n",
       "      <td>0</td>\n",
       "    </tr>\n",
       "    <tr>\n",
       "      <th>3163</th>\n",
       "      <td>0</td>\n",
       "      <td>23</td>\n",
       "      <td>33300</td>\n",
       "      <td>1</td>\n",
       "    </tr>\n",
       "    <tr>\n",
       "      <th>490</th>\n",
       "      <td>0</td>\n",
       "      <td>34</td>\n",
       "      <td>43600</td>\n",
       "      <td>0</td>\n",
       "    </tr>\n",
       "    <tr>\n",
       "      <th>862</th>\n",
       "      <td>1</td>\n",
       "      <td>36</td>\n",
       "      <td>34600</td>\n",
       "      <td>1</td>\n",
       "    </tr>\n",
       "    <tr>\n",
       "      <th>1740</th>\n",
       "      <td>0</td>\n",
       "      <td>36</td>\n",
       "      <td>41000</td>\n",
       "      <td>1</td>\n",
       "    </tr>\n",
       "    <tr>\n",
       "      <th>...</th>\n",
       "      <td>...</td>\n",
       "      <td>...</td>\n",
       "      <td>...</td>\n",
       "      <td>...</td>\n",
       "    </tr>\n",
       "    <tr>\n",
       "      <th>4426</th>\n",
       "      <td>1</td>\n",
       "      <td>25</td>\n",
       "      <td>36300</td>\n",
       "      <td>2</td>\n",
       "    </tr>\n",
       "    <tr>\n",
       "      <th>466</th>\n",
       "      <td>0</td>\n",
       "      <td>33</td>\n",
       "      <td>25700</td>\n",
       "      <td>3</td>\n",
       "    </tr>\n",
       "    <tr>\n",
       "      <th>3092</th>\n",
       "      <td>1</td>\n",
       "      <td>38</td>\n",
       "      <td>46500</td>\n",
       "      <td>0</td>\n",
       "    </tr>\n",
       "    <tr>\n",
       "      <th>3772</th>\n",
       "      <td>1</td>\n",
       "      <td>33</td>\n",
       "      <td>35900</td>\n",
       "      <td>0</td>\n",
       "    </tr>\n",
       "    <tr>\n",
       "      <th>860</th>\n",
       "      <td>0</td>\n",
       "      <td>45</td>\n",
       "      <td>44300</td>\n",
       "      <td>2</td>\n",
       "    </tr>\n",
       "  </tbody>\n",
       "</table>\n",
       "<p>3750 rows × 4 columns</p>\n",
       "</div>"
      ],
      "text/plain": [
       "      0   1      2  3\n",
       "4884  0  34  40200  0\n",
       "3163  0  23  33300  1\n",
       "490   0  34  43600  0\n",
       "862   1  36  34600  1\n",
       "1740  0  36  41000  1\n",
       "...  ..  ..    ... ..\n",
       "4426  1  25  36300  2\n",
       "466   0  33  25700  3\n",
       "3092  1  38  46500  0\n",
       "3772  1  33  35900  0\n",
       "860   0  45  44300  2\n",
       "\n",
       "[3750 rows x 4 columns]"
      ]
     },
     "execution_count": 16,
     "metadata": {},
     "output_type": "execute_result"
    }
   ],
   "source": [
    "# Код ревьюера\n",
    "a = X_train @ coder @ decoder\n",
    "a.round(0).astype('int')"
   ]
  },
  {
   "cell_type": "markdown",
   "metadata": {},
   "source": [
    "## Общий вывод\n",
    "\n",
    "[к навигации](#Навигация)\n",
    "\n",
    "С поставленной задачей справились. Разработанный метод\n",
    "- защищает персональные данные клиентов,\n",
    "- не снижает перфоманс моделей машинного обучения."
   ]
  }
 ],
 "metadata": {
  "ExecuteTimeLog": [
   {
    "duration": 392,
    "start_time": "2022-12-06T18:41:30.687Z"
   },
   {
    "duration": 170,
    "start_time": "2022-12-06T18:42:10.902Z"
   },
   {
    "duration": 38,
    "start_time": "2022-12-06T18:42:14.150Z"
   },
   {
    "duration": 10,
    "start_time": "2022-12-06T18:42:29.833Z"
   },
   {
    "duration": 2,
    "start_time": "2022-12-06T21:50:41.476Z"
   },
   {
    "duration": 273,
    "start_time": "2022-12-06T21:52:27.595Z"
   },
   {
    "duration": 4,
    "start_time": "2022-12-06T21:52:35.942Z"
   },
   {
    "duration": 376,
    "start_time": "2022-12-06T21:54:18.108Z"
   },
   {
    "duration": 41,
    "start_time": "2022-12-06T21:54:18.486Z"
   },
   {
    "duration": 12,
    "start_time": "2022-12-06T21:54:18.529Z"
   },
   {
    "duration": 5,
    "start_time": "2022-12-06T21:54:18.543Z"
   },
   {
    "duration": 7,
    "start_time": "2022-12-06T21:54:18.549Z"
   },
   {
    "duration": 646,
    "start_time": "2022-12-06T21:54:56.085Z"
   },
   {
    "duration": 1065,
    "start_time": "2022-12-06T21:56:16.198Z"
   },
   {
    "duration": 3,
    "start_time": "2022-12-06T21:56:17.265Z"
   },
   {
    "duration": 50,
    "start_time": "2022-12-06T21:56:17.269Z"
   },
   {
    "duration": 12,
    "start_time": "2022-12-06T21:56:17.321Z"
   },
   {
    "duration": 8,
    "start_time": "2022-12-06T21:56:17.335Z"
   },
   {
    "duration": 8,
    "start_time": "2022-12-06T21:56:17.344Z"
   },
   {
    "duration": 5,
    "start_time": "2022-12-06T21:56:17.354Z"
   },
   {
    "duration": 22,
    "start_time": "2022-12-06T21:57:19.504Z"
   },
   {
    "duration": 3,
    "start_time": "2022-12-06T21:58:48.798Z"
   },
   {
    "duration": 1061,
    "start_time": "2022-12-06T21:59:13.857Z"
   },
   {
    "duration": 2,
    "start_time": "2022-12-06T21:59:14.920Z"
   },
   {
    "duration": 44,
    "start_time": "2022-12-06T21:59:14.924Z"
   },
   {
    "duration": 11,
    "start_time": "2022-12-06T21:59:14.970Z"
   },
   {
    "duration": 6,
    "start_time": "2022-12-06T21:59:14.982Z"
   },
   {
    "duration": 7,
    "start_time": "2022-12-06T21:59:14.990Z"
   },
   {
    "duration": 11,
    "start_time": "2022-12-06T21:59:14.998Z"
   },
   {
    "duration": 16,
    "start_time": "2022-12-06T21:59:15.011Z"
   },
   {
    "duration": 8,
    "start_time": "2022-12-06T21:59:15.028Z"
   },
   {
    "duration": 4,
    "start_time": "2022-12-06T22:03:56.769Z"
   },
   {
    "duration": 3,
    "start_time": "2022-12-06T22:07:24.444Z"
   },
   {
    "duration": 3,
    "start_time": "2022-12-06T22:09:04.886Z"
   },
   {
    "duration": 6,
    "start_time": "2022-12-06T22:09:06.373Z"
   },
   {
    "duration": 985,
    "start_time": "2022-12-06T22:09:40.246Z"
   },
   {
    "duration": 2,
    "start_time": "2022-12-06T22:09:41.233Z"
   },
   {
    "duration": 44,
    "start_time": "2022-12-06T22:09:41.236Z"
   },
   {
    "duration": 10,
    "start_time": "2022-12-06T22:09:41.282Z"
   },
   {
    "duration": 3,
    "start_time": "2022-12-06T22:09:41.294Z"
   },
   {
    "duration": 9,
    "start_time": "2022-12-06T22:09:41.299Z"
   },
   {
    "duration": 8,
    "start_time": "2022-12-06T22:09:41.309Z"
   },
   {
    "duration": 7,
    "start_time": "2022-12-06T22:09:41.318Z"
   },
   {
    "duration": 4,
    "start_time": "2022-12-06T22:09:41.326Z"
   },
   {
    "duration": 51,
    "start_time": "2022-12-06T22:09:41.332Z"
   },
   {
    "duration": 8,
    "start_time": "2022-12-06T22:09:41.384Z"
   },
   {
    "duration": 86,
    "start_time": "2022-12-06T22:09:41.394Z"
   },
   {
    "duration": 964,
    "start_time": "2022-12-07T10:30:20.983Z"
   },
   {
    "duration": 3,
    "start_time": "2022-12-07T10:30:21.948Z"
   },
   {
    "duration": 106,
    "start_time": "2022-12-07T10:30:21.952Z"
   },
   {
    "duration": 11,
    "start_time": "2022-12-07T10:30:22.060Z"
   },
   {
    "duration": 26,
    "start_time": "2022-12-07T10:30:22.072Z"
   },
   {
    "duration": 20,
    "start_time": "2022-12-07T10:30:22.099Z"
   },
   {
    "duration": 15,
    "start_time": "2022-12-07T10:30:22.120Z"
   },
   {
    "duration": 23,
    "start_time": "2022-12-07T10:30:22.137Z"
   },
   {
    "duration": 21,
    "start_time": "2022-12-07T10:30:22.161Z"
   },
   {
    "duration": 49,
    "start_time": "2022-12-07T10:30:22.185Z"
   },
   {
    "duration": 91,
    "start_time": "2022-12-07T10:30:22.235Z"
   },
   {
    "duration": 36,
    "start_time": "2022-12-07T10:30:22.329Z"
   },
   {
    "duration": 1037,
    "start_time": "2022-12-07T10:32:45.126Z"
   },
   {
    "duration": 2,
    "start_time": "2022-12-07T10:32:46.165Z"
   },
   {
    "duration": 56,
    "start_time": "2022-12-07T10:32:46.169Z"
   },
   {
    "duration": 11,
    "start_time": "2022-12-07T10:32:46.227Z"
   },
   {
    "duration": 13,
    "start_time": "2022-12-07T10:32:46.240Z"
   },
   {
    "duration": 7,
    "start_time": "2022-12-07T10:32:46.254Z"
   },
   {
    "duration": 9,
    "start_time": "2022-12-07T10:32:46.263Z"
   },
   {
    "duration": 8,
    "start_time": "2022-12-07T10:32:46.274Z"
   },
   {
    "duration": 5,
    "start_time": "2022-12-07T10:32:46.283Z"
   },
   {
    "duration": 41,
    "start_time": "2022-12-07T10:32:46.290Z"
   },
   {
    "duration": 91,
    "start_time": "2022-12-07T10:32:46.333Z"
   },
   {
    "duration": 6,
    "start_time": "2022-12-07T10:32:46.426Z"
   },
   {
    "duration": 15,
    "start_time": "2022-12-07T10:32:46.433Z"
   },
   {
    "duration": 9,
    "start_time": "2022-12-07T10:32:46.450Z"
   },
   {
    "duration": 16,
    "start_time": "2022-12-07T10:32:46.461Z"
   },
   {
    "duration": 1098,
    "start_time": "2022-12-07T10:34:15.106Z"
   },
   {
    "duration": 3,
    "start_time": "2022-12-07T10:34:16.206Z"
   },
   {
    "duration": 72,
    "start_time": "2022-12-07T10:34:16.210Z"
   },
   {
    "duration": 9,
    "start_time": "2022-12-07T10:34:16.284Z"
   },
   {
    "duration": 18,
    "start_time": "2022-12-07T10:34:16.294Z"
   },
   {
    "duration": 32,
    "start_time": "2022-12-07T10:34:16.314Z"
   },
   {
    "duration": 22,
    "start_time": "2022-12-07T10:34:16.347Z"
   },
   {
    "duration": 23,
    "start_time": "2022-12-07T10:34:16.370Z"
   },
   {
    "duration": 23,
    "start_time": "2022-12-07T10:34:16.394Z"
   },
   {
    "duration": 34,
    "start_time": "2022-12-07T10:34:16.420Z"
   },
   {
    "duration": 107,
    "start_time": "2022-12-07T10:34:16.455Z"
   },
   {
    "duration": 62,
    "start_time": "2022-12-07T10:34:16.564Z"
   },
   {
    "duration": 24,
    "start_time": "2022-12-07T10:34:16.630Z"
   },
   {
    "duration": 17,
    "start_time": "2022-12-07T10:34:16.656Z"
   },
   {
    "duration": 16,
    "start_time": "2022-12-07T10:34:16.674Z"
   },
   {
    "duration": 55,
    "start_time": "2022-12-07T13:13:38.605Z"
   },
   {
    "duration": 1663,
    "start_time": "2022-12-07T13:15:39.760Z"
   },
   {
    "duration": 3,
    "start_time": "2022-12-07T13:15:41.425Z"
   },
   {
    "duration": 101,
    "start_time": "2022-12-07T13:15:41.430Z"
   },
   {
    "duration": 13,
    "start_time": "2022-12-07T13:15:41.533Z"
   },
   {
    "duration": 5,
    "start_time": "2022-12-07T13:15:41.549Z"
   },
   {
    "duration": 10,
    "start_time": "2022-12-07T13:15:41.556Z"
   },
   {
    "duration": 10,
    "start_time": "2022-12-07T13:15:41.568Z"
   },
   {
    "duration": 9,
    "start_time": "2022-12-07T13:15:41.580Z"
   },
   {
    "duration": 6,
    "start_time": "2022-12-07T13:15:41.590Z"
   },
   {
    "duration": 58,
    "start_time": "2022-12-07T13:15:41.598Z"
   },
   {
    "duration": 13,
    "start_time": "2022-12-07T13:15:41.661Z"
   },
   {
    "duration": 90,
    "start_time": "2022-12-07T13:15:41.675Z"
   },
   {
    "duration": 15,
    "start_time": "2022-12-07T13:15:41.767Z"
   },
   {
    "duration": 24,
    "start_time": "2022-12-07T13:15:41.785Z"
   },
   {
    "duration": 15,
    "start_time": "2022-12-07T13:15:41.811Z"
   },
   {
    "duration": 18,
    "start_time": "2022-12-07T13:15:41.829Z"
   },
   {
    "duration": 5,
    "start_time": "2022-12-07T13:16:40.481Z"
   },
   {
    "duration": 5,
    "start_time": "2022-12-07T13:16:45.155Z"
   },
   {
    "duration": 4,
    "start_time": "2022-12-07T13:16:54.029Z"
   },
   {
    "duration": 13,
    "start_time": "2022-12-07T13:17:10.823Z"
   },
   {
    "duration": 12,
    "start_time": "2022-12-07T13:17:45.374Z"
   },
   {
    "duration": 17,
    "start_time": "2022-12-07T13:18:03.261Z"
   },
   {
    "duration": 17,
    "start_time": "2022-12-07T13:19:05.981Z"
   },
   {
    "duration": 15,
    "start_time": "2022-12-07T13:19:11.907Z"
   },
   {
    "duration": 13,
    "start_time": "2022-12-07T13:19:40.029Z"
   },
   {
    "duration": 1145,
    "start_time": "2022-12-07T16:11:41.687Z"
   },
   {
    "duration": 3,
    "start_time": "2022-12-07T16:11:42.834Z"
   },
   {
    "duration": 112,
    "start_time": "2022-12-07T16:11:42.838Z"
   },
   {
    "duration": 11,
    "start_time": "2022-12-07T16:11:42.952Z"
   },
   {
    "duration": 6,
    "start_time": "2022-12-07T16:11:42.966Z"
   },
   {
    "duration": 6,
    "start_time": "2022-12-07T16:11:42.974Z"
   },
   {
    "duration": 7,
    "start_time": "2022-12-07T16:11:42.982Z"
   },
   {
    "duration": 7,
    "start_time": "2022-12-07T16:11:42.991Z"
   },
   {
    "duration": 13,
    "start_time": "2022-12-07T16:11:43.000Z"
   },
   {
    "duration": 8,
    "start_time": "2022-12-07T16:11:43.016Z"
   },
   {
    "duration": 89,
    "start_time": "2022-12-07T16:11:43.025Z"
   },
   {
    "duration": 8,
    "start_time": "2022-12-07T16:11:43.116Z"
   },
   {
    "duration": 11,
    "start_time": "2022-12-07T16:11:43.125Z"
   },
   {
    "duration": 7,
    "start_time": "2022-12-07T16:11:43.214Z"
   },
   {
    "duration": 8,
    "start_time": "2022-12-07T16:11:43.222Z"
   },
   {
    "duration": 12,
    "start_time": "2022-12-07T16:11:43.232Z"
   },
   {
    "duration": 1134,
    "start_time": "2022-12-07T16:15:20.584Z"
   },
   {
    "duration": 2,
    "start_time": "2022-12-07T16:15:21.720Z"
   },
   {
    "duration": 51,
    "start_time": "2022-12-07T16:15:21.724Z"
   },
   {
    "duration": 12,
    "start_time": "2022-12-07T16:15:21.776Z"
   },
   {
    "duration": 6,
    "start_time": "2022-12-07T16:15:21.790Z"
   },
   {
    "duration": 8,
    "start_time": "2022-12-07T16:15:21.798Z"
   },
   {
    "duration": 9,
    "start_time": "2022-12-07T16:15:21.808Z"
   },
   {
    "duration": 7,
    "start_time": "2022-12-07T16:15:21.818Z"
   },
   {
    "duration": 4,
    "start_time": "2022-12-07T16:15:21.827Z"
   },
   {
    "duration": 13,
    "start_time": "2022-12-07T16:15:21.834Z"
   },
   {
    "duration": 72,
    "start_time": "2022-12-07T16:15:21.849Z"
   },
   {
    "duration": 93,
    "start_time": "2022-12-07T16:15:21.923Z"
   },
   {
    "duration": 4,
    "start_time": "2022-12-07T16:15:22.018Z"
   },
   {
    "duration": 14,
    "start_time": "2022-12-07T16:15:22.024Z"
   },
   {
    "duration": 12,
    "start_time": "2022-12-07T16:15:22.040Z"
   },
   {
    "duration": 17,
    "start_time": "2022-12-07T16:15:22.053Z"
   },
   {
    "duration": 1176,
    "start_time": "2022-12-07T16:17:07.632Z"
   },
   {
    "duration": 3,
    "start_time": "2022-12-07T16:17:08.809Z"
   },
   {
    "duration": 52,
    "start_time": "2022-12-07T16:17:08.818Z"
   },
   {
    "duration": 12,
    "start_time": "2022-12-07T16:17:08.873Z"
   },
   {
    "duration": 7,
    "start_time": "2022-12-07T16:17:08.887Z"
   },
   {
    "duration": 7,
    "start_time": "2022-12-07T16:17:08.896Z"
   },
   {
    "duration": 13,
    "start_time": "2022-12-07T16:17:08.905Z"
   },
   {
    "duration": 26,
    "start_time": "2022-12-07T16:17:08.920Z"
   },
   {
    "duration": 7,
    "start_time": "2022-12-07T16:17:08.948Z"
   },
   {
    "duration": 57,
    "start_time": "2022-12-07T16:17:08.958Z"
   },
   {
    "duration": 101,
    "start_time": "2022-12-07T16:17:09.017Z"
   },
   {
    "duration": 8,
    "start_time": "2022-12-07T16:17:09.120Z"
   },
   {
    "duration": 12,
    "start_time": "2022-12-07T16:17:09.129Z"
   },
   {
    "duration": 10,
    "start_time": "2022-12-07T16:17:09.143Z"
   },
   {
    "duration": 6,
    "start_time": "2022-12-07T16:17:09.154Z"
   },
   {
    "duration": 11,
    "start_time": "2022-12-07T16:17:09.162Z"
   },
   {
    "duration": 1138,
    "start_time": "2022-12-07T16:18:22.509Z"
   },
   {
    "duration": 3,
    "start_time": "2022-12-07T16:18:23.649Z"
   },
   {
    "duration": 43,
    "start_time": "2022-12-07T16:18:23.654Z"
   },
   {
    "duration": 12,
    "start_time": "2022-12-07T16:18:23.699Z"
   },
   {
    "duration": 12,
    "start_time": "2022-12-07T16:18:23.713Z"
   },
   {
    "duration": 11,
    "start_time": "2022-12-07T16:18:23.727Z"
   },
   {
    "duration": 9,
    "start_time": "2022-12-07T16:18:23.740Z"
   },
   {
    "duration": 7,
    "start_time": "2022-12-07T16:18:23.750Z"
   },
   {
    "duration": 6,
    "start_time": "2022-12-07T16:18:23.759Z"
   },
   {
    "duration": 47,
    "start_time": "2022-12-07T16:18:23.767Z"
   },
   {
    "duration": 15,
    "start_time": "2022-12-07T16:18:23.816Z"
   },
   {
    "duration": 84,
    "start_time": "2022-12-07T16:18:23.833Z"
   },
   {
    "duration": 15,
    "start_time": "2022-12-07T16:18:23.920Z"
   },
   {
    "duration": 11,
    "start_time": "2022-12-07T16:18:23.938Z"
   },
   {
    "duration": 19,
    "start_time": "2022-12-07T16:18:23.951Z"
   },
   {
    "duration": 13,
    "start_time": "2022-12-07T16:18:23.972Z"
   },
   {
    "duration": 54,
    "start_time": "2022-12-07T19:50:59.287Z"
   },
   {
    "duration": 53,
    "start_time": "2022-12-07T23:30:49.916Z"
   }
  ],
  "kernelspec": {
   "display_name": "Python 3 (ipykernel)",
   "language": "python",
   "name": "python3"
  },
  "language_info": {
   "codemirror_mode": {
    "name": "ipython",
    "version": 3
   },
   "file_extension": ".py",
   "mimetype": "text/x-python",
   "name": "python",
   "nbconvert_exporter": "python",
   "pygments_lexer": "ipython3",
   "version": "3.10.7"
  },
  "toc": {
   "base_numbering": 1,
   "nav_menu": {},
   "number_sections": true,
   "sideBar": true,
   "skip_h1_title": true,
   "title_cell": "Содержание",
   "title_sidebar": "Contents",
   "toc_cell": true,
   "toc_position": {},
   "toc_section_display": true,
   "toc_window_display": true
  }
 },
 "nbformat": 4,
 "nbformat_minor": 2
}
